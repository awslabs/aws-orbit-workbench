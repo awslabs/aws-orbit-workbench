{
 "cells": [
  {
   "cell_type": "code",
   "execution_count": null,
   "id": "629e8310",
   "metadata": {},
   "outputs": [],
   "source": [
    "# Lake Creator Demo notebook.\n",
    "# List of activities \n",
    "## Deregister cms secured bucket location\n",
    "## Delete and create cms_secured_db database \n",
    "## Add Lakeformation policy tags to the Database, tables and respective columns\n",
    "## Register cms secured bucket location\n"
   ]
  },
  {
   "cell_type": "code",
   "execution_count": null,
   "id": "2474e7c9",
   "metadata": {},
   "outputs": [],
   "source": [
    "# Imports\n",
    "import json \n",
    "import boto3\n",
    "import logging\n",
    "import pprint\n",
    "from pandas import DataFrame\n",
    "logging.basicConfig(\n",
    "    format='%(asctime)s %(levelname)-8s %(message)s',\n",
    "    level=logging.INFO,\n",
    "    datefmt='%Y-%m-%d %H:%M:%S')\n",
    "logger = logging.getLogger()"
   ]
  },
  {
   "cell_type": "code",
   "execution_count": null,
   "id": "d8c29bee",
   "metadata": {},
   "outputs": [],
   "source": [
    "# Import orbit helpers\n",
    "from aws_orbit_sdk.database import get_athena\n",
    "from aws_orbit_sdk.common import get_workspace,get_scratch_database"
   ]
  },
  {
   "cell_type": "code",
   "execution_count": null,
   "id": "5eb7eca2",
   "metadata": {},
   "outputs": [],
   "source": [
    "# Clients\n",
    "lfc = boto3.client('lakeformation')\n",
    "iamc = boto3.client('iam')\n",
    "ssmc = boto3.client('ssm')\n",
    "gluec = boto3.client('glue')"
   ]
  },
  {
   "cell_type": "markdown",
   "id": "57b2a5b2",
   "metadata": {},
   "source": [
    "# Step 1 - Orbit configuration details\n"
   ]
  },
  {
   "cell_type": "code",
   "execution_count": null,
   "id": "5fc26c70",
   "metadata": {},
   "outputs": [],
   "source": [
    "workspace = get_workspace()\n",
    "\n",
    "catalog_id = workspace['EksPodRoleArn'].split(':')[-2] \n",
    "orbit_lake_creator_role_arn = workspace['EksPodRoleArn']\n",
    "env_name = workspace['env_name']\n",
    "team_space = workspace['team_space']\n",
    "assert team_space == 'lake-creator'\n"
   ]
  },
  {
   "cell_type": "code",
   "execution_count": null,
   "id": "5f7f8eda",
   "metadata": {},
   "outputs": [],
   "source": [
    "# Define parameters\n",
    "unsecured_glue_db = \"cms_raw_db\"\n",
    "secured_glue_db = \"cms_secured_db\""
   ]
  },
  {
   "cell_type": "code",
   "execution_count": null,
   "id": "87386936",
   "metadata": {},
   "outputs": [],
   "source": [
    "def get_ssm_parameters(ssm_string, ignore_not_found=False):\n",
    "    try:\n",
    "        return json.loads(ssmc.get_parameter(Name=ssm_string)['Parameter']['Value'])\n",
    "    except Exception as e:\n",
    "        if ignore_not_found:\n",
    "            return {}\n",
    "        else:\n",
    "            raise e\n",
    "\n",
    "        \n",
    "def get_demo_configuration():\n",
    "    return get_ssm_parameters(f\"/orbit/{env_name}/demo\", True)\n",
    "\n",
    "demo_config = get_demo_configuration()\n",
    "lake_bucket = demo_config.get(\"LakeBucket\").split(':::')[1]\n",
    "secured_lake_bucket = demo_config.get(\"SecuredLakeBucket\").split(':::')[1]\n",
    "secured_location = f\"s3://{secured_lake_bucket}/{secured_glue_db}/\"\n",
    "\n",
    "(lake_bucket,secured_lake_bucket, secured_location)"
   ]
  },
  {
   "cell_type": "markdown",
   "id": "64b91d66",
   "metadata": {},
   "source": [
    "# Step 2 - Clean orbit secured bucket and cms_secured_db\n"
   ]
  },
  {
   "cell_type": "markdown",
   "id": "688d89d2",
   "metadata": {},
   "source": [
    "## Deregister orbit secured bucket with lakeformation location"
   ]
  },
  {
   "cell_type": "code",
   "execution_count": null,
   "id": "5c999db2",
   "metadata": {},
   "outputs": [],
   "source": [
    "try:\n",
    "    deregister_resource_response = lfc.deregister_resource(ResourceArn=f\"arn:aws:s3:::{secured_lake_bucket}\")\n",
    "    print(deregister_resource_response['ResponseMetadata']['HTTPStatusCode'])\n",
    "except Exception as e:\n",
    "    print(\"location was not yet registered\")\n",
    "    print(e)\n"
   ]
  },
  {
   "cell_type": "code",
   "execution_count": null,
   "id": "2d7a1e10",
   "metadata": {},
   "outputs": [],
   "source": [
    "%reload_ext sql\n",
    "%config SqlMagic.autocommit=False # for engines that do not support autommit\n",
    "athena = get_athena()\n",
    "%connect_to_athena -database default"
   ]
  },
  {
   "cell_type": "code",
   "execution_count": null,
   "id": "d17b737e",
   "metadata": {},
   "outputs": [],
   "source": [
    "!aws s3 ls $secured_location --recursive "
   ]
  },
  {
   "cell_type": "markdown",
   "id": "8539064d",
   "metadata": {},
   "source": [
    "## Drop and clean previous created database\n"
   ]
  },
  {
   "cell_type": "code",
   "execution_count": null,
   "id": "7dc55706",
   "metadata": {},
   "outputs": [],
   "source": [
    "\n",
    "\n",
    "%sql drop database if exists $secured_glue_db CASCADE\n"
   ]
  },
  {
   "cell_type": "code",
   "execution_count": null,
   "id": "30477c75",
   "metadata": {},
   "outputs": [],
   "source": [
    "!aws s3 rm --recursive $secured_location --quiet"
   ]
  },
  {
   "cell_type": "markdown",
   "id": "0920d40c",
   "metadata": {},
   "source": [
    "# Step 3 - Create Database In Glue\n",
    "\n",
    "## We are all set to start creating our secured database in our secured s3 location by running an Athena SQL query. We will quickly check our database list to ensure it was created succesfully:"
   ]
  },
  {
   "cell_type": "code",
   "execution_count": null,
   "id": "f069cfc5",
   "metadata": {},
   "outputs": [],
   "source": [
    "create_db = f\"create database {secured_glue_db} LOCATION '{secured_location}'\"\n",
    "create_db"
   ]
  },
  {
   "cell_type": "code",
   "execution_count": null,
   "id": "44fb5110",
   "metadata": {},
   "outputs": [],
   "source": [
    "athena.current_engine.execute(create_db)\n"
   ]
  },
  {
   "cell_type": "code",
   "execution_count": null,
   "id": "d7e01643",
   "metadata": {},
   "outputs": [],
   "source": [
    "%sql show databases"
   ]
  },
  {
   "cell_type": "markdown",
   "id": "3fe879f8",
   "metadata": {},
   "source": [
    "## Create Tables\n",
    "It's time to create new tables in our secured database from our unsecured database data. We will run a load_tables() function which iterate over all of the tables:\n",
    "\n",
    "The load_tables() function performs the following steps:\n",
    "\n",
    "- Retrieves the definitions of all the tables in our secured db as a list of the requested Table objects\n",
    "- For each table object creates a new Parquet formatted table in our secured database located in our secured s3 location\n",
    "- Runs a query on secured table to check if creation successful"
   ]
  },
  {
   "cell_type": "code",
   "execution_count": null,
   "id": "eaffd031",
   "metadata": {},
   "outputs": [],
   "source": [
    "import time\n",
    "\n",
    "def load_tables():\n",
    "    response = gluec.get_tables(\n",
    "        DatabaseName='cms_raw_db'\n",
    "    )\n",
    "    response\n",
    "    for table in response['TableList']:\n",
    "        createTable = \"\"\"\n",
    "                CREATE TABLE {}.{}\n",
    "                WITH (\n",
    "                    format = 'Parquet',\n",
    "                    parquet_compression = 'SNAPPY',\n",
    "                    external_location = '{}/{}'\n",
    "                )\n",
    "                AS\n",
    "                (select * from {}.{})                      \n",
    "            \"\"\".format(secured_glue_db,table['Name'], secured_location,table['Name'],unsecured_glue_db,table['Name'])\n",
    "\n",
    "        print(f'creating table {table[\"Name\"]}...')\n",
    "        athena.current_engine.execute(createTable)\n",
    "        print(f'created table {table[\"Name\"]}')\n",
    "        query = f\"select count(*) as {table['Name']}_count from cms_secured_db.{table['Name']}\"\n",
    "        try:\n",
    "            res = athena.current_engine.execute(query)\n",
    "        except: \n",
    "            print(\"Unexpected error:\", sys.exc_info()[0])\n",
    "            print(\"Try again to run query...\")\n",
    "            %sql drop database if exists $secured_glue_db CASCADE \n",
    "            !aws s3 rm --recursive $secured_location --quiet\n",
    "            !sleep 10s\n",
    "            # try one more time\n",
    "            res = athena.current_engine.execute(query)\n",
    "\n",
    "        df = DataFrame(res.fetchall())\n",
    "        print(df)\n"
   ]
  },
  {
   "cell_type": "code",
   "execution_count": null,
   "id": "c7e3b383",
   "metadata": {},
   "outputs": [],
   "source": [
    "load_tables()"
   ]
  },
  {
   "cell_type": "markdown",
   "id": "4a6263d8",
   "metadata": {},
   "source": [
    "# Step 4 - Adding lakeformation policy tags to the resources - Database, Tables and Columns."
   ]
  },
  {
   "cell_type": "markdown",
   "id": "1d55e690",
   "metadata": {},
   "source": [
    "## Adding tag to Database"
   ]
  },
  {
   "cell_type": "code",
   "execution_count": null,
   "id": "f34e1797",
   "metadata": {},
   "outputs": [],
   "source": [
    "db_add_lf_tags_to_resource_response = lfc.add_lf_tags_to_resource(\n",
    "    CatalogId=catalog_id,\n",
    "    Resource={\n",
    "        'Database': {\n",
    "            'CatalogId': catalog_id,\n",
    "            'Name': secured_glue_db\n",
    "        },\n",
    "    },\n",
    "    LFTags=[\n",
    "        {\n",
    "            'CatalogId': catalog_id,\n",
    "            'TagKey': 'security-level',\n",
    "            'TagValues': [\n",
    "                'sec-5',\n",
    "            ]\n",
    "        },\n",
    "    ]\n",
    ")\n"
   ]
  },
  {
   "cell_type": "code",
   "execution_count": null,
   "id": "9fdac81d",
   "metadata": {},
   "outputs": [],
   "source": [
    "assert 200 == db_add_lf_tags_to_resource_response['ResponseMetadata']['HTTPStatusCode']"
   ]
  },
  {
   "cell_type": "markdown",
   "id": "554811b6",
   "metadata": {},
   "source": [
    "## Adding tag to Database Table. Overrides the database inherited tag.\n",
    "### One way to increase security is to tag an entire table with a higher security level. Here we will give a table a sec-4 security level:"
   ]
  },
  {
   "cell_type": "code",
   "execution_count": null,
   "id": "56a92754",
   "metadata": {},
   "outputs": [],
   "source": [
    "table_add_lf_tags_to_resource_response = lfc.add_lf_tags_to_resource(\n",
    "    CatalogId=catalog_id,\n",
    "    Resource={\n",
    "        'Table': {\n",
    "            'CatalogId': catalog_id,\n",
    "            'DatabaseName': secured_glue_db,\n",
    "            'Name': 'inpatient_claims',\n",
    "        },\n",
    "    },\n",
    "    LFTags=[\n",
    "        {\n",
    "            'CatalogId': catalog_id,\n",
    "            'TagKey': 'security-level',\n",
    "            'TagValues': [\n",
    "                'sec-4',\n",
    "            ]\n",
    "        },\n",
    "    ]\n",
    ")"
   ]
  },
  {
   "cell_type": "code",
   "execution_count": null,
   "id": "d00a1bce",
   "metadata": {},
   "outputs": [],
   "source": [
    "assert 200 == table_add_lf_tags_to_resource_response['ResponseMetadata']['HTTPStatusCode']"
   ]
  },
  {
   "cell_type": "markdown",
   "id": "b6951117",
   "metadata": {},
   "source": [
    "## Adding tag to Table column. Overrides the column tag inherited from database.\n",
    "### Add high secure tag to columns."
   ]
  },
  {
   "cell_type": "code",
   "execution_count": null,
   "id": "fd50fec0",
   "metadata": {},
   "outputs": [],
   "source": [
    "table_columns_add_lf_tags_to_resource_response = lfc.add_lf_tags_to_resource(\n",
    "    CatalogId=catalog_id,\n",
    "    Resource={\n",
    "        'TableWithColumns': {\n",
    "            'CatalogId': catalog_id,\n",
    "            'DatabaseName': secured_glue_db,\n",
    "            'Name': 'beneficiary_summary',\n",
    "            'ColumnNames': [\n",
    "                'sp_depressn',\n",
    "                'sp_diabetes'\n",
    "            ]\n",
    "        },\n",
    "    },\n",
    "    LFTags=[\n",
    "        {\n",
    "            'CatalogId': catalog_id,\n",
    "            'TagKey': 'security-level',\n",
    "            'TagValues': [\n",
    "                'sec-2',\n",
    "            ]\n",
    "        },\n",
    "    ]\n",
    ")"
   ]
  },
  {
   "cell_type": "code",
   "execution_count": null,
   "id": "09426f68",
   "metadata": {},
   "outputs": [],
   "source": [
    "assert 200 == table_columns_add_lf_tags_to_resource_response['ResponseMetadata']['HTTPStatusCode']"
   ]
  },
  {
   "cell_type": "markdown",
   "id": "1be4fef3",
   "metadata": {},
   "source": [
    "# Step 5 - Register secured bucket location with lake formation"
   ]
  },
  {
   "cell_type": "code",
   "execution_count": null,
   "id": "33c4c7de",
   "metadata": {},
   "outputs": [],
   "source": [
    "reg_s3_location_response = lfc.register_resource(ResourceArn=f\"arn:aws:s3:::{secured_lake_bucket}\",UseServiceLinkedRole=True)\n"
   ]
  },
  {
   "cell_type": "code",
   "execution_count": null,
   "id": "85aadd36",
   "metadata": {},
   "outputs": [],
   "source": [
    "assert 200 == reg_s3_location_response['ResponseMetadata']['HTTPStatusCode']"
   ]
  },
  {
   "cell_type": "markdown",
   "id": "10022616",
   "metadata": {},
   "source": [
    "# Step 6 - Quick check on the created tables.\n"
   ]
  },
  {
   "cell_type": "code",
   "execution_count": null,
   "id": "954d15c7",
   "metadata": {},
   "outputs": [],
   "source": [
    "%reload_ext sql\n",
    "%config SqlMagic.autocommit=False # for engines that do not support autommit\n",
    "athena = get_athena()\n"
   ]
  },
  {
   "cell_type": "code",
   "execution_count": null,
   "id": "d2744029",
   "metadata": {},
   "outputs": [],
   "source": [
    "%connect_to_athena -database cms_secured_db\n"
   ]
  },
  {
   "cell_type": "code",
   "execution_count": null,
   "id": "49a9e26d",
   "metadata": {},
   "outputs": [],
   "source": [
    "%sql select * from cms_secured_db.inpatient_claims limit 1"
   ]
  },
  {
   "cell_type": "code",
   "execution_count": null,
   "id": "a4688959",
   "metadata": {},
   "outputs": [],
   "source": [
    "%sql select sp_depressn, sp_diabetes from cms_secured_db.beneficiary_summary limit 1"
   ]
  },
  {
   "cell_type": "code",
   "execution_count": null,
   "id": "d7cbf8bd",
   "metadata": {},
   "outputs": [],
   "source": [
    "%sql select clm_pmt_amt, nch_prmry_pyr_clm_pd_amt from cms_secured_db.outpatient_claims limit 1"
   ]
  },
  {
   "cell_type": "markdown",
   "id": "df00987a",
   "metadata": {},
   "source": [
    "# End of orbit lake creator demo notebook."
   ]
  },
  {
   "cell_type": "code",
   "execution_count": null,
   "id": "51035dc7",
   "metadata": {},
   "outputs": [],
   "source": []
  }
 ],
 "metadata": {
  "kernelspec": {
   "display_name": "Python 3",
   "language": "python",
   "name": "python3"
  },
  "language_info": {
   "codemirror_mode": {
    "name": "ipython",
    "version": 3
   },
   "file_extension": ".py",
   "mimetype": "text/x-python",
   "name": "python",
   "nbconvert_exporter": "python",
   "pygments_lexer": "ipython3",
   "version": "3.8.8"
  }
 },
 "nbformat": 4,
 "nbformat_minor": 5
}
