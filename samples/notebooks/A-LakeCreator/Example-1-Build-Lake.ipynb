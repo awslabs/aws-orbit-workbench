{
 "cells": [
  {
   "cell_type": "markdown",
   "metadata": {
    "papermill": {
     "duration": 0.079672,
     "end_time": "2020-03-03T13:56:37.575779",
     "exception": false,
     "start_time": "2020-03-03T13:56:37.496107",
     "status": "completed"
    },
    "tags": []
   },
   "source": [
    "<!--\n",
    "#  Copyright Amazon.com, Inc. or its affiliates. All Rights Reserved.\n",
    "#\n",
    "#    Licensed under the Apache License, Version 2.0 (the \"License\").\n",
    "#    You may not use this file except in compliance with the License.\n",
    "#    You may obtain a copy of the License at\n",
    "#\n",
    "#        http://www.apache.org/licenses/LICENSE-2.0\n",
    "#\n",
    "#    Unless required by applicable law or agreed to in writing, software\n",
    "#    distributed under the License is distributed on an \"AS IS\" BASIS,\n",
    "#    WITHOUT WARRANTIES OR CONDITIONS OF ANY KIND, either express or implied.\n",
    "#    See the License for the specific language governing permissions and\n",
    "#    limitations under the License.\n",
    "-->\n",
    "\n",
    "# Orcherstration notebook for building the lake\n",
    "***End-to-End Orchestration for Building Out a Data Lake in Orbit Workbench***\n",
    "\n",
    "---\n",
    "---\n",
    "\n",
    "## Content\n",
    "1. [Introduction](#Orcherstration-notebook-for-building-the-lake)\n",
    "2. [Set Up](#Set-Up)\n",
    " 1. [Imports](#Imports)\n",
    " 2. [Locate Bucket Paths](#Locate-Bucket-Paths)\n",
    " 3. [Create Databases](#Create-Databases)\n",
    " 4. [Get Parameters](#Get-Parameters)\n",
    "3. [S3 Clean Up](#Step-2:-S3-Clean-Up)\n",
    "4. [Extract Zip Files in Parallel](#Step-3:-Extract-Zip-Files-in-Parallel)\n",
    "5. [Read the CSV Files and Create Glue tables with Parquet format according to schema](#Step-4:-Read-the-CSV-Files-and-Create-Glue-tables-with-Parquet-format-according-to-schema)\n",
    " 1. [Connect to Spark and Access Cluster](#Connect-to-Spark-and-Access-Cluster)\n",
    " 2. [Create Glue Tables](#Create-Glue-Tables)\n",
    " 3. [Check Tables are Created](#Check-that-Glue-Tables-are-Created)\n",
    "\n",
    "---\n",
    "\n",
    "## Introduction\n",
    "This notebook orchestrates the Data Lake creation. It performs end-to-end functionality starting with handling zipped csv data files and ultimately creating a data lake on AWS. In order to do so, we execute a set of notebooks for the different steps of creating the lake, including:\n",
    "\n",
    "* **Example-2-Extract-Files** - Extracting Zip Files Data to a Target s3 Bucket in Parallel\n",
    "* **Example-3-Load-Database-Athena** - Find File Schema and Create Glue Tables with Parquet Output\n",
    "\n",
    "To successfully run this notebook, you must be the \"Lake Creator\" user in your environment. Give a look at the following steps for how to go about orchestrating your own data lake build and feel free to look at the other 2 notebooks to get a more in-depth understanding of the process!\n"
   ]
  },
  {
   "cell_type": "markdown",
   "metadata": {},
   "source": [
    "## Set Up"
   ]
  },
  {
   "cell_type": "markdown",
   "metadata": {},
   "source": [
    "#### Imports\n",
    "First, let's import all of the modules we will need for building our Data Lake, including Spark EMR Cluster, JSON, etc. Lets store our session state so that we can create service clients to s3 and glue.\n",
    "\n",
    "Next, lets define the location of our notebooks in s3 and check our team space (we **MUST** be the lake-creator to orchestrate our data lake!):\n"
   ]
  },
  {
   "cell_type": "code",
   "execution_count": 1,
   "metadata": {
    "papermill": {
     "duration": 0.059109,
     "end_time": "2020-03-03T13:56:37.714349",
     "exception": false,
     "start_time": "2020-03-03T13:56:37.655240",
     "status": "completed"
    },
    "tags": []
   },
   "outputs": [
    {
     "name": "stdout",
     "output_type": "stream",
     "text": [
      "AWS_DEFAULT_REGION=us-west-2\n",
      "AWS_ROLE_ARN=arn:aws:iam::495869084367:role/orbit-dev-env-lake-creator-role\n",
      "AWS_ORBIT_S3_BUCKET=orbit-dev-env-toolkit-495869084367-004229\n",
      "AWS_ORBIT_ENV=dev-env\n",
      "AWS_WEB_IDENTITY_TOKEN_FILE=/var/run/secrets/eks.amazonaws.com/serviceaccount/token\n",
      "AWS_ORBIT_TEAM_SPACE=lake-creator\n",
      "AWS_STS_REGIONAL_ENDPOINTS=regional\n"
     ]
    }
   ],
   "source": [
    "import os\n",
    "import sys\n",
    "import boto3\n",
    "import time\n",
    "import json\n",
    "from aws_orbit_sdk import controller\n",
    "from aws_orbit_sdk.common import get_workspace\n",
    "from pathlib import Path\n",
    "\n",
    "!env | grep AWS\n",
    "\n",
    "# import aws.utils.notebooks.controller as controller\n",
    "# from aws.utils.notebooks.common import get_workspace\n",
    "# import aws.utils.notebooks.spark.emr as sparkConnection\n",
    "my_session = boto3.session.Session()\n",
    "my_region = my_session.region_name\n",
    "s3 = boto3.client('s3')\n",
    "glue = boto3.client('glue')"
   ]
  },
  {
   "cell_type": "code",
   "execution_count": 2,
   "metadata": {
    "papermill": {
     "duration": 0.153377,
     "end_time": "2020-03-03T13:56:38.275433",
     "exception": false,
     "start_time": "2020-03-03T13:56:38.122056",
     "status": "completed"
    },
    "scrolled": true,
    "tags": []
   },
   "outputs": [
    {
     "data": {
      "text/plain": [
       "{'base-image-address': '495869084367.dkr.ecr.us-west-2.amazonaws.com/orbit-dev-env-jupyter-user',\n",
       " 'base-spark-image-address': '495869084367.dkr.ecr.us-west-2.amazonaws.com/orbit-dev-env-jupyter-user-spark',\n",
       " 'bootstrap-s3-prefix': 'teams/lake-creator/bootstrap/',\n",
       " 'container-defaults': {'cpu': 4, 'memory': 16384},\n",
       " 'container-runner-arn': 'arn:aws:lambda:us-west-2:495869084367:function:orbit-dev-env-lake-creator-container-runner',\n",
       " 'ecs-cluster-name': 'orbit-dev-env-lake-creator-cluster',\n",
       " 'efs-ap-id': 'fsap-06f23cdb204106822',\n",
       " 'efs-id': 'fs-ca758dce',\n",
       " 'eks-k8s-api-arn': 'arn:aws:states:us-west-2:495869084367:stateMachine:orbit-dev-env-lake-creator-eks-k8s-api',\n",
       " 'eks-nodegroup-role-arn': 'arn:aws:iam::495869084367:role/orbit-dev-env-lake-creator-role',\n",
       " 'elbs': {},\n",
       " 'final-image-address': '495869084367.dkr.ecr.us-west-2.amazonaws.com/orbit-dev-env-lake-creator',\n",
       " 'final-spark-image-address': '495869084367.dkr.ecr.us-west-2.amazonaws.com/orbit-dev-env-lake-creator-spark',\n",
       " 'grant-sudo': False,\n",
       " 'image': None,\n",
       " 'instance-type': 'm5.4xlarge',\n",
       " 'jupyter-url': 'aca198f19e1b943a99e51e90b514287c-1815291953.us-west-2.elb.amazonaws.com',\n",
       " 'jupyterhub-inbound-ranges': ['0.0.0.0/0'],\n",
       " 'local-storage-size': 128,\n",
       " 'name': 'lake-creator',\n",
       " 'nodes-num-desired': 2,\n",
       " 'nodes-num-max': 3,\n",
       " 'nodes-num-min': 1,\n",
       " 'plugins': [{'id': 'code_commit',\n",
       "   'module': 'code_commit',\n",
       "   'parameters': {},\n",
       "   'path': '../plugins/code_commit/'},\n",
       "  {'id': 'hello_world',\n",
       "   'module': 'hello_world',\n",
       "   'parameters': {'foo': 'boo', 'xoo': 1234},\n",
       "   'path': '../plugins/hello_world/'},\n",
       "  {'id': 'team_script_launcher',\n",
       "   'module': 'team_script_launcher',\n",
       "   'parameters': {'restartPolicy': 'Never',\n",
       "    'script': 'i=0\\nmkdir -p /home/jovyan/shared/samples\\nwhile [ $i -lt 1 ];\\ndo\\n  echo \"Copying samples from ${toolkit_s3_bucket}/samples/\"\\n  aws s3 sync s3://${toolkit_s3_bucket}/samples/ /home/jovyan/shared/samples\\n  sleep 60\\ndone\\necho \"DONE LOOP\"\\n'},\n",
       "   'path': '../plugins/team_script_launcher/'},\n",
       "  {'id': 'redshift',\n",
       "   'module': 'redshift',\n",
       "   'parameters': {'enable_user_activity_logging': 'true',\n",
       "    'node_type': 'DC2.large',\n",
       "    'number_of_nodes': '2',\n",
       "    'require_ssl': 'true',\n",
       "    'use_fips_ssl': 'true'},\n",
       "   'path': '../plugins/redshift/'}],\n",
       " 'policies': ['orbit-dev-env-demo-lake-bucket-fullaccess'],\n",
       " 'profiles': [],\n",
       " 'ScratchBucket': 'orbit-dev-env-scratch-495869084367-004229',\n",
       " 'ssm-parameter-name': '/orbit/dev-env/teams/lake-creator/manifest',\n",
       " 'stack-name': 'orbit-dev-env-lake-creator',\n",
       " 'team-kms-key-arn': 'arn:aws:kms:us-west-2:495869084367:key/846976d2-a607-4497-b842-d71167d0feed',\n",
       " 'team-security-group-id': 'sg-059c529d855f488d4',\n",
       " 'region': 'us-west-2',\n",
       " 'env_name': 'dev-env',\n",
       " 'team_space': 'lake-creator'}"
      ]
     },
     "execution_count": 2,
     "metadata": {},
     "output_type": "execute_result"
    }
   ],
   "source": [
    "workspace = get_workspace()\n",
    "notebook_bucket = workspace['ScratchBucket']\n",
    "team_space = workspace['team_space']\n",
    "env_name = workspace['env_name']\n",
    "workspace"
   ]
  },
  {
   "cell_type": "markdown",
   "metadata": {},
   "source": [
    "#### Locate Bucket Paths\n",
    "Now, let's use Amazon Systems Manager (SSM) to get the bucket names for our users, unsecured lake, and secured lake buckets \n",
    "(**Note:** we will use these bucket names to locate and store data later on):"
   ]
  },
  {
   "cell_type": "code",
   "execution_count": 3,
   "metadata": {},
   "outputs": [],
   "source": [
    "ssm = boto3.client('ssm')\n",
    "def get_ssm_parameters(ssm_string, ignore_not_found=False):\n",
    "    ssm = boto3.client('ssm')\n",
    "    \n",
    "    try:\n",
    "        return json.loads(ssm.get_parameter(Name=ssm_string)['Parameter']['Value'])\n",
    "    except Exception as e:\n",
    "        if ignore_not_found:\n",
    "            return {}\n",
    "        else:\n",
    "            raise e\n",
    "\n",
    "        \n",
    "def get_demo_configuration():\n",
    "    return get_ssm_parameters(f\"/orbit/{env_name}/demo\", True)\n",
    "\n",
    "demo_config = get_demo_configuration()\n",
    "lake_bucket = demo_config.get(\"LakeBucket\")\n",
    "users_bucket = notebook_bucket\n",
    "(lake_bucket,users_bucket)\n"
   ]
  },
  {
   "cell_type": "markdown",
   "metadata": {},
   "source": [
    "#### Create Databases\n",
    "We have to create 3 databases: 1 for our raw data, 1 for a default database (both on the lake_bucket path) and 1 for users in our user_bucket.\n",
    "\n",
    "We can do so with the following function which:\n",
    "\n",
    "  **1.** Deletes the existing database with a given name (if it exists)\n",
    "  \n",
    "  **2.** Create new one located in designated s3 bucket"
   ]
  },
  {
   "cell_type": "code",
   "execution_count": 4,
   "metadata": {},
   "outputs": [],
   "source": [
    "def create_db(name, location, description=''):\n",
    "    try:\n",
    "        response = glue.delete_database(\n",
    "            Name=name\n",
    "        )\n",
    "    except:\n",
    "        pass\n",
    "    response = glue.create_database(\n",
    "        DatabaseInput={\n",
    "            'Name': name,\n",
    "            'Description': description,\n",
    "            'LocationUri': f's3://{location}/{name}'\n",
    "        }\n",
    "    )"
   ]
  },
  {
   "cell_type": "code",
   "execution_count": 5,
   "metadata": {},
   "outputs": [],
   "source": [
    "create_db('cms_raw_db', lake_bucket,'lake: claims data from cms')\n",
    "create_db('default', lake_bucket)\n",
    "create_db('users', users_bucket)"
   ]
  },
  {
   "cell_type": "markdown",
   "metadata": {},
   "source": [
    "#### Get Parameters\n",
    "Lastly, we set the source paths of our Zip files, a path to our extracted data folders, and our database name howing our raw data:"
   ]
  },
  {
   "cell_type": "code",
   "execution_count": 6,
   "metadata": {
    "papermill": {
     "duration": 0.312929,
     "end_time": "2020-03-03T13:56:38.081259",
     "exception": false,
     "start_time": "2020-03-03T13:56:37.768330",
     "status": "completed"
    },
    "tags": []
   },
   "outputs": [
    {
     "data": {
      "text/plain": [
       "('orbit-dev-env-scratch-495869084367-004229',\n",
       " 's3://orbit-dev-env-scratch-495869084367-004229/cms_raw_db')"
      ]
     },
     "execution_count": 6,
     "metadata": {},
     "output_type": "execute_result"
    }
   ],
   "source": [
    "location = glue.get_database(Name='cms_raw_db')['Database']['LocationUri']\n",
    "bucket = location[5:].split('/')[0]\n",
    "(bucket, location)"
   ]
  },
  {
   "cell_type": "code",
   "execution_count": 7,
   "metadata": {
    "papermill": {
     "duration": 0.060165,
     "end_time": "2020-03-03T13:56:38.402468",
     "exception": false,
     "start_time": "2020-03-03T13:56:38.342303",
     "status": "completed"
    },
    "tags": [
     "parameters"
    ]
   },
   "outputs": [],
   "source": [
    "sourcePrefix = \"cms/\"\n",
    "sourceFolder = \"landing/data/\" + sourcePrefix\n",
    "bucketName = bucket\n",
    "extractedPrefix = \"extracted/\"\n",
    "extractedFolder = \"s3://{}/{}\".format(bucketName,extractedPrefix)\n",
    "database_name = \"cms_raw_db\"\n",
    "team_space=workspace['team_space']"
   ]
  },
  {
   "cell_type": "markdown",
   "metadata": {
    "papermill": {
     "duration": 0.042139,
     "end_time": "2020-03-03T13:56:38.676584",
     "exception": false,
     "start_time": "2020-03-03T13:56:38.634445",
     "status": "completed"
    },
    "tags": []
   },
   "source": [
    "---\n",
    "## Step 2: S3 Clean Up\n",
    "\n",
    "Another step we must take before beginning to extract our data and orchestrate our data lake is to clean out our S3 files for any existing data files sitting there. Let's remove existing content in the following folders:\n",
    "* Files stored in our Extracted Data Folder\n",
    "* Data Stored in our 'cms_raw_db' table\n",
    "* Remove Test Output so we can populate with new test results\n"
   ]
  },
  {
   "cell_type": "code",
   "execution_count": 8,
   "metadata": {
    "papermill": {
     "duration": 1.772222,
     "end_time": "2020-03-03T13:56:40.492029",
     "exception": false,
     "start_time": "2020-03-03T13:56:38.719807",
     "status": "completed"
    },
    "tags": []
   },
   "outputs": [
    {
     "name": "stdout",
     "output_type": "stream",
     "text": [
      "                           PRE Beneficiary_Summary/\n",
      "                           PRE Carrier_Claims/\n",
      "                           PRE Inpatient_Claims/\n",
      "                           PRE Outpatient_Claims/\n",
      "                           PRE Prescription_Drug_Events/\n",
      "delete: s3://orbit-dev-env-scratch-495869084367-004229/extracted/Inpatient_Claims/DE1_0_2008_to_2010_Inpatient_Claims_Sample_1.csv\n",
      "delete: s3://orbit-dev-env-scratch-495869084367-004229/extracted/Carrier_Claims/DE1_0_2008_to_2010_Carrier_Claims_Sample_1A.csv\n",
      "delete: s3://orbit-dev-env-scratch-495869084367-004229/extracted/Beneficiary_Summary/DE1_0_2009_Beneficiary_Summary_File_Sample_1.csv\n",
      "delete: s3://orbit-dev-env-scratch-495869084367-004229/extracted/Prescription_Drug_Events/DE1_0_2008_to_2010_Prescription_Drug_Events_Sample_1.csv\n",
      "delete: s3://orbit-dev-env-scratch-495869084367-004229/extracted/Outpatient_Claims/DE1_0_2008_to_2010_Outpatient_Claims_Sample_1.csv\n",
      "delete: s3://orbit-dev-env-scratch-495869084367-004229/extracted/Beneficiary_Summary/DE1_0_2010_Beneficiary_Summary_File_Sample_1.csv\n",
      "delete: s3://orbit-dev-env-scratch-495869084367-004229/extracted/Beneficiary_Summary/DE1_0_2008_Beneficiary_Summary_File_Sample_1.csv\n",
      "delete: s3://orbit-dev-env-scratch-495869084367-004229/extracted/Carrier_Claims/DE1_0_2008_to_2010_Carrier_Claims_Sample_1B.csv\n"
     ]
    }
   ],
   "source": [
    "!aws s3 ls $extractedFolder\n",
    "!aws s3 rm --recursive $extractedFolder\n",
    "!aws s3 ls $extractedFolder"
   ]
  },
  {
   "cell_type": "code",
   "execution_count": 9,
   "metadata": {
    "papermill": {
     "duration": 1.820194,
     "end_time": "2020-03-03T13:56:42.353994",
     "exception": false,
     "start_time": "2020-03-03T13:56:40.533800",
     "status": "completed"
    },
    "tags": []
   },
   "outputs": [
    {
     "name": "stdout",
     "output_type": "stream",
     "text": [
      "                           PRE Beneficiary_Summary/\n",
      "                           PRE Carrier_Claims/\n",
      "                           PRE Inpatient_Claims/\n",
      "                           PRE Outpatient_Claims/\n",
      "                           PRE Prescription_Drug_Events/\n",
      "delete: s3://orbit-dev-env-scratch-495869084367-004229/cms_raw_db/Beneficiary_Summary/20210211_212112_00103_j65b6_6b48deb8-ca75-4877-bb8f-eddaad27bf7e\n",
      "delete: s3://orbit-dev-env-scratch-495869084367-004229/cms_raw_db/Carrier_Claims/20210211_212114_00049_tceut_1743117b-298b-453f-a59e-3a514d076834\n",
      "delete: s3://orbit-dev-env-scratch-495869084367-004229/cms_raw_db/Carrier_Claims/20210211_212114_00049_tceut_350661b3-e74e-465a-b9ef-e54710853cfe\n",
      "delete: s3://orbit-dev-env-scratch-495869084367-004229/cms_raw_db/Carrier_Claims/20210211_212114_00049_tceut_05ea217c-3d3e-4dd5-98d6-c32e514d67ff\n",
      "delete: s3://orbit-dev-env-scratch-495869084367-004229/cms_raw_db/Carrier_Claims/20210211_212114_00049_tceut_147d5ceb-bd50-4698-8614-8e9a90ac4f5b\n",
      "delete: s3://orbit-dev-env-scratch-495869084367-004229/cms_raw_db/Carrier_Claims/20210211_212114_00049_tceut_0d57fb52-6ae4-45e5-945b-a10437289dac\n",
      "delete: s3://orbit-dev-env-scratch-495869084367-004229/cms_raw_db/Carrier_Claims/20210211_212114_00049_tceut_39be003e-eec7-41e8-b593-8ccfb940a40a\n",
      "delete: s3://orbit-dev-env-scratch-495869084367-004229/cms_raw_db/Carrier_Claims/20210211_212114_00049_tceut_35e29bbb-7408-4a88-8a00-b4f2d097b5cb\n",
      "delete: s3://orbit-dev-env-scratch-495869084367-004229/cms_raw_db/Carrier_Claims/20210211_212114_00049_tceut_279479fe-2779-401c-b4be-6399161706e0\n",
      "delete: s3://orbit-dev-env-scratch-495869084367-004229/cms_raw_db/Carrier_Claims/20210211_212114_00049_tceut_37aa9fbc-91a1-4338-aead-eda2f6dd3a9d\n",
      "delete: s3://orbit-dev-env-scratch-495869084367-004229/cms_raw_db/Carrier_Claims/20210211_212114_00049_tceut_579ff71b-a86d-4170-9a64-de0b4ed846f2\n",
      "delete: s3://orbit-dev-env-scratch-495869084367-004229/cms_raw_db/Carrier_Claims/20210211_212114_00049_tceut_36f86ba4-89cf-4d44-add4-664a8a03e993\n",
      "delete: s3://orbit-dev-env-scratch-495869084367-004229/cms_raw_db/Carrier_Claims/20210211_212114_00049_tceut_6f32a0af-7ae4-4b7c-8a6f-606236070fbf\n",
      "delete: s3://orbit-dev-env-scratch-495869084367-004229/cms_raw_db/Carrier_Claims/20210211_212114_00049_tceut_71591456-5fac-4536-a1dd-7c34bd233363\n",
      "delete: s3://orbit-dev-env-scratch-495869084367-004229/cms_raw_db/Carrier_Claims/20210211_212114_00049_tceut_08f24e67-1b8a-4ac8-9837-e1e1d930df02\n",
      "delete: s3://orbit-dev-env-scratch-495869084367-004229/cms_raw_db/Carrier_Claims/20210211_212114_00049_tceut_8333cef6-95ef-45bc-9136-85f8172ce0ec\n",
      "delete: s3://orbit-dev-env-scratch-495869084367-004229/cms_raw_db/Carrier_Claims/20210211_212114_00049_tceut_8c2c5fe1-b61c-4bd3-9a46-1a29ac56dbfd\n",
      "delete: s3://orbit-dev-env-scratch-495869084367-004229/cms_raw_db/Carrier_Claims/20210211_212114_00049_tceut_8f3620ae-03ae-4268-ad05-38d71a64f2d9\n",
      "delete: s3://orbit-dev-env-scratch-495869084367-004229/cms_raw_db/Carrier_Claims/20210211_212114_00049_tceut_8b889dab-2d5d-4cf4-b54a-b8bd83f84e8c\n",
      "delete: s3://orbit-dev-env-scratch-495869084367-004229/cms_raw_db/Carrier_Claims/20210211_212114_00049_tceut_9dc6e797-d959-42da-8504-45ca3563fbf9\n",
      "delete: s3://orbit-dev-env-scratch-495869084367-004229/cms_raw_db/Carrier_Claims/20210211_212114_00049_tceut_a48f532f-eebb-46e9-8796-d2d9b9e696ab\n",
      "delete: s3://orbit-dev-env-scratch-495869084367-004229/cms_raw_db/Carrier_Claims/20210211_212114_00049_tceut_e0ad739b-16e1-400f-9df3-99ae0278ac60\n",
      "delete: s3://orbit-dev-env-scratch-495869084367-004229/cms_raw_db/Carrier_Claims/20210211_212114_00049_tceut_d0c95b25-195c-412f-ad8e-07f31f6baa3a\n",
      "delete: s3://orbit-dev-env-scratch-495869084367-004229/cms_raw_db/Carrier_Claims/20210211_212114_00049_tceut_e8df0647-921c-4fd8-a435-467c6fa3462a\n",
      "delete: s3://orbit-dev-env-scratch-495869084367-004229/cms_raw_db/Carrier_Claims/20210211_212114_00049_tceut_f71d0437-8c62-4763-949d-bb502dc336e9\n",
      "delete: s3://orbit-dev-env-scratch-495869084367-004229/cms_raw_db/Carrier_Claims/20210211_212114_00049_tceut_f8372124-8ced-45a1-b7b4-cb342c6a453b\n",
      "delete: s3://orbit-dev-env-scratch-495869084367-004229/cms_raw_db/Inpatient_Claims/20210211_212116_00059_5fbwg_2e3547d9-8c51-453e-8c53-85c9d1569c80\n",
      "delete: s3://orbit-dev-env-scratch-495869084367-004229/cms_raw_db/Carrier_Claims/20210211_212114_00049_tceut_d776f3fd-ec00-4255-a743-df8792172b9a\n",
      "delete: s3://orbit-dev-env-scratch-495869084367-004229/cms_raw_db/Outpatient_Claims/20210211_212114_00051_pmcx3_672fefbb-0718-445f-ad0d-1cd053c4b247\n",
      "delete: s3://orbit-dev-env-scratch-495869084367-004229/cms_raw_db/Carrier_Claims/20210211_212114_00049_tceut_fe014c9c-3376-45ed-91bb-3944c316e261\n",
      "delete: s3://orbit-dev-env-scratch-495869084367-004229/cms_raw_db/Outpatient_Claims/20210211_212114_00051_pmcx3_09e93fb3-3ef9-44fa-bb3b-8a982a6d830e\n",
      "delete: s3://orbit-dev-env-scratch-495869084367-004229/cms_raw_db/Prescription_Drug_Events/20210211_212119_00064_sh22i_07175c72-34b0-4a72-91d8-d718c69481e8\n",
      "delete: s3://orbit-dev-env-scratch-495869084367-004229/cms_raw_db/Outpatient_Claims/20210211_212114_00051_pmcx3_b18d613e-e49e-4ab4-aa0a-655a3930ff66\n",
      "delete: s3://orbit-dev-env-scratch-495869084367-004229/cms_raw_db/Outpatient_Claims/20210211_212114_00051_pmcx3_f4138aa1-38a7-426e-9d45-22eb394ccc59\n",
      "delete: s3://orbit-dev-env-scratch-495869084367-004229/cms_raw_db/Prescription_Drug_Events/20210211_212119_00064_sh22i_880382c7-706f-4928-a820-feb73ef55bbe\n",
      "delete: s3://orbit-dev-env-scratch-495869084367-004229/cms_raw_db/Prescription_Drug_Events/20210211_212119_00064_sh22i_c33bdff8-ef16-4368-bfee-8ca7cb92df8a\n",
      "delete: s3://orbit-dev-env-scratch-495869084367-004229/cms_raw_db/Prescription_Drug_Events/20210211_212119_00064_sh22i_9d078379-537d-4ec8-bdc8-ed999fc3d045\n",
      "delete: s3://orbit-dev-env-scratch-495869084367-004229/cms_raw_db/Prescription_Drug_Events/20210211_212119_00064_sh22i_d20fb4b2-d402-444c-b227-8e234d9e214c\n",
      "delete: s3://orbit-dev-env-scratch-495869084367-004229/cms_raw_db/Prescription_Drug_Events/20210211_212119_00064_sh22i_c9d9db44-c424-4c4e-83a7-6f4cf697f77e\n"
     ]
    }
   ],
   "source": [
    "!aws s3 ls s3://$bucketName/$database_name/\n",
    "!aws s3 rm --recursive  s3://$bucketName/$database_name/\n",
    "!aws s3 ls s3://$bucketName/$database_name/"
   ]
  },
  {
   "cell_type": "markdown",
   "metadata": {},
   "source": [
    "***Lets Copy our Sample Data to our New s3 Bucket and Begin our Orchestration:***"
   ]
  },
  {
   "cell_type": "code",
   "execution_count": 10,
   "metadata": {
    "collapsed": false,
    "jupyter": {
     "outputs_hidden": false
    },
    "papermill": {
     "duration": 9.978746,
     "end_time": "2020-03-03T13:56:53.033620",
     "exception": false,
     "start_time": "2020-03-03T13:56:43.054874",
     "status": "completed"
    },
    "pycharm": {
     "name": "#%%\n"
    },
    "tags": []
   },
   "outputs": [],
   "source": [
    "res=!orbit list env --variable=toolkitbucket\n",
    "dm_s3_bucket = res[0]\n",
    "print(dm_s3_bucket)\n",
    "!aws s3 sync s3://$dm_s3_bucket/data s3://$bucketName/landing/data"
   ]
  },
  {
   "cell_type": "code",
   "execution_count": 11,
   "metadata": {},
   "outputs": [
    {
     "name": "stdout",
     "output_type": "stream",
     "text": [
      "copy: s3://orbit-dev-env-toolkit-495869084367-004229/cms/schema/Beneficiary_Summary.json to s3://orbit-dev-env-scratch-495869084367-004229/landing/cms/schema/Beneficiary_Summary.json\n",
      "copy: s3://orbit-dev-env-toolkit-495869084367-004229/cms/schema/Carrier_Claims.json to s3://orbit-dev-env-scratch-495869084367-004229/landing/cms/schema/Carrier_Claims.json\n",
      "copy: s3://orbit-dev-env-toolkit-495869084367-004229/cms/schema/Outpatient_Claims.json to s3://orbit-dev-env-scratch-495869084367-004229/landing/cms/schema/Outpatient_Claims.json\n",
      "copy: s3://orbit-dev-env-toolkit-495869084367-004229/cms/schema/Prescription_Drug_Events.json to s3://orbit-dev-env-scratch-495869084367-004229/landing/cms/schema/Prescription_Drug_Events.json\n",
      "copy: s3://orbit-dev-env-toolkit-495869084367-004229/cms/schema/Inpatient_Claims.json to s3://orbit-dev-env-scratch-495869084367-004229/landing/cms/schema/Inpatient_Claims.json\n"
     ]
    }
   ],
   "source": [
    "!aws s3 cp s3://$dm_s3_bucket/cms/schema s3://$bucketName/landing/cms/schema/ --recursive"
   ]
  },
  {
   "cell_type": "code",
   "execution_count": 12,
   "metadata": {},
   "outputs": [],
   "source": [
    "def get_schemas(source_bucket_name, prefix='', suffix=''):\n",
    "    s3 = boto3.resource(\"s3\")\n",
    "    bucket = s3.Bucket(name=source_bucket_name) \n",
    "    schemas = []\n",
    "    for o in bucket.objects.all():\n",
    "        if (o.key.startswith(prefix)):\n",
    "            name = os.path.basename(o.key).split(\".\")[0]\n",
    "            schemaStr = o.get()['Body'].read().decode('utf-8') \n",
    "            schema = json.loads(schemaStr) #StructType.fromJson(json.loads(schemaStr))\n",
    "            schemas.append((name, schema))\n",
    "    return schemas\n",
    "\n",
    "def get_schema(schemas, filename):\n",
    "    for (schema_name, schema) in schemas:\n",
    "        #print(f\"{schema_name} in {filename} : {schema_name in filename}\")\n",
    "        if schema_name in filename:\n",
    "            return schema_name, schema\n",
    "    return None, None\n",
    "\n",
    "schemas = get_schemas(bucketName, 'landing/cms/schema/')"
   ]
  },
  {
   "cell_type": "markdown",
   "metadata": {
    "papermill": {
     "duration": 0.085206,
     "end_time": "2020-03-03T13:56:53.220281",
     "exception": false,
     "start_time": "2020-03-03T13:56:53.135075",
     "status": "completed"
    },
    "tags": []
   },
   "source": [
    "***\n",
    "## Step 3: Extract Zip Files in Parallel\n",
    "\n",
    "We have completed all of the necessary set up and s3 clean up and our ready to move into the first phase of our data lake orchestration. Here we will:\n",
    "\n",
    "* Handle Zipped Files and Extract their CSV Data\n",
    "* Migrate the Extracted Data back to s3 in a new Target Bucket\n",
    "* Schedule Multiple Notebooks to Execute in Parallel\n",
    "\n",
    "We will schedule separate notebooks to run **Example-2-Extract-Files** and execute in parallel. You can refer to that notebook which goes step-by-step handling zipped files and unzipping and migrating their content back to s3.\n",
    "\n",
    "Here we will define error checking functions to assert that our extraction was successful. We ensure the number of executions matches what is expected and that there are no errors in our execution history:\n"
   ]
  },
  {
   "cell_type": "code",
   "execution_count": 13,
   "metadata": {
    "papermill": {
     "duration": 0.076462,
     "end_time": "2020-03-03T13:56:53.354324",
     "exception": false,
     "start_time": "2020-03-03T13:56:53.277862",
     "status": "completed"
    },
    "tags": []
   },
   "outputs": [],
   "source": [
    "def run_file_extraction():\n",
    "    notebooks = []\n",
    "    for key in s3.list_objects_v2(Bucket=bucketName, Prefix=sourceFolder)['Contents']:\n",
    "        file = key['Key']\n",
    "        schema = get_schema(schemas, file)\n",
    "        s3_data_folder = os.path.join(extractedFolder, schema[0] if schema[0] else \"\")\n",
    "        notebook = {\n",
    "          \"notebookName\": \"Example-2-Extract-Files.ipynb\",\n",
    "          \"sourcePath\": \"/efs/shared/samples/notebooks/A-LakeCreator\",\n",
    "          \"targetPath\": \"/efs/shared/regression/notebooks/A-LakeCreator\",\n",
    "          \"params\": {\n",
    "            \"bucketName\": bucketName,\n",
    "            \"zipFileName\": file,\n",
    "            \"targetFolder\": s3_data_folder,\n",
    "            \"use_subdirs\" : False if schema[0] else True\n",
    "          },\n",
    "        }\n",
    "        notebooks.append(notebook)\n",
    "\n",
    "    notebooksToRun = {\n",
    "      \"compute\": {\n",
    "          \"container\" : {\n",
    "              \"p_concurrent\": \"10\"\n",
    "          },\n",
    "          \"node_type\": \"fargate\"\n",
    "      },\n",
    "      \"tasks\":  notebooks  \n",
    "    }\n",
    "    # notebooks\n",
    "    containers = controller.run_notebooks(notebooksToRun)\n",
    "    print (containers)\n",
    "    controller.wait_for_tasks_to_complete([containers], 60,10, False)\n"
   ]
  },
  {
   "cell_type": "code",
   "execution_count": 14,
   "metadata": {},
   "outputs": [
    {
     "data": {
      "text/plain": [
       "'s3://orbit-dev-env-scratch-495869084367-004229/extracted/'"
      ]
     },
     "execution_count": 14,
     "metadata": {},
     "output_type": "execute_result"
    }
   ],
   "source": [
    "extractedFolder"
   ]
  },
  {
   "cell_type": "code",
   "execution_count": 15,
   "metadata": {},
   "outputs": [],
   "source": [
    "def checkNotebooks(executions, expected_count):\n",
    "    assert len(executions) == expected_count\n",
    "    for index, row in executions.iterrows():\n",
    "        if 'error@' in row['relativePath']:\n",
    "            raise AssertionError('error in ' + row['relativePath'])\n",
    "    print(\"SUCCESS\")"
   ]
  },
  {
   "cell_type": "code",
   "execution_count": 16,
   "metadata": {
    "papermill": {
     "duration": 181.381817,
     "end_time": "2020-03-03T13:59:54.825898",
     "exception": false,
     "start_time": "2020-03-03T13:56:53.444081",
     "status": "completed"
    },
    "tags": []
   },
   "outputs": [
    {
     "name": "stderr",
     "output_type": "stream",
     "text": [
      "INFO:root:using default profile {'display_name': 'Micro', 'slug': 'micro', 'description': '2 CPU + 2G MEM', 'properties': {'cpu_guarantee': 2, 'cpu_limit': 2, 'mem_guarantee': '2G', 'mem_limit': '2G'}, 'default': True}\n",
      "INFO:root:Waiting for 1 tasks [{'ExecutionType': 'eks', 'Identifier': 'orbit-lake-creator-fargate-runner-j4kx4', 'NodeType': 'fargate'}]\n",
      "INFO:root:job-status={'active': None,\n",
      " 'completion_time': None,\n",
      " 'conditions': None,\n",
      " 'failed': None,\n",
      " 'start_time': None,\n",
      " 'succeeded': None}\n",
      "INFO:root:Running: 1 Completed: 0 Errored: 0\n",
      "INFO:root:waiting...\n"
     ]
    },
    {
     "name": "stdout",
     "output_type": "stream",
     "text": [
      "{'ExecutionType': 'eks', 'Identifier': 'orbit-lake-creator-fargate-runner-j4kx4', 'NodeType': 'fargate'}\n"
     ]
    },
    {
     "name": "stderr",
     "output_type": "stream",
     "text": [
      "INFO:root:job-status={'active': 1,\n",
      " 'completion_time': None,\n",
      " 'conditions': None,\n",
      " 'failed': None,\n",
      " 'start_time': datetime.datetime(2021, 2, 11, 21, 23, 36, tzinfo=tzlocal()),\n",
      " 'succeeded': None}\n",
      "INFO:root:Running: 1 Completed: 0 Errored: 0\n",
      "INFO:root:waiting...\n",
      "INFO:root:job-status={'active': 1,\n",
      " 'completion_time': None,\n",
      " 'conditions': None,\n",
      " 'failed': None,\n",
      " 'start_time': datetime.datetime(2021, 2, 11, 21, 23, 36, tzinfo=tzlocal()),\n",
      " 'succeeded': None}\n",
      "INFO:root:Running: 1 Completed: 0 Errored: 0\n",
      "INFO:root:waiting...\n",
      "INFO:root:job-status={'active': None,\n",
      " 'completion_time': datetime.datetime(2021, 2, 11, 21, 25, 56, tzinfo=tzlocal()),\n",
      " 'conditions': [{'last_probe_time': datetime.datetime(2021, 2, 11, 21, 25, 56, tzinfo=tzlocal()),\n",
      "                 'last_transition_time': datetime.datetime(2021, 2, 11, 21, 25, 56, tzinfo=tzlocal()),\n",
      "                 'message': None,\n",
      "                 'reason': None,\n",
      "                 'status': 'True',\n",
      "                 'type': 'Complete'}],\n",
      " 'failed': None,\n",
      " 'start_time': datetime.datetime(2021, 2, 11, 21, 23, 36, tzinfo=tzlocal()),\n",
      " 'succeeded': 1}\n",
      "INFO:root:Running: 0 Completed: 1 Errored: 0\n",
      "INFO:root:All tasks stopped\n"
     ]
    },
    {
     "name": "stdout",
     "output_type": "stream",
     "text": [
      "CPU times: user 259 ms, sys: 11.8 ms, total: 271 ms\n",
      "Wall time: 3min\n"
     ]
    }
   ],
   "source": [
    "%%time\n",
    "\n",
    "run_file_extraction()"
   ]
  },
  {
   "cell_type": "code",
   "execution_count": 17,
   "metadata": {},
   "outputs": [
    {
     "name": "stdout",
     "output_type": "stream",
     "text": [
      "NAME                                      COMPLETIONS   DURATION   AGE\n",
      "orbit-lake-creator-ec2-runner-526gr       1/1           33s        5m38s\n",
      "orbit-lake-creator-ec2-runner-8fdh5       1/1           24s        5m38s\n",
      "orbit-lake-creator-ec2-runner-f25px       1/1           32s        5m37s\n",
      "orbit-lake-creator-ec2-runner-mp9cx       1/1           31s        5m37s\n",
      "orbit-lake-creator-ec2-runner-xr4qn       1/1           28s        5m37s\n",
      "orbit-lake-creator-fargate-runner-2k9ln   1/1           2m22s      16m\n",
      "orbit-lake-creator-fargate-runner-j4kx4   1/1           2m20s      3m1s\n",
      "orbit-lake-creator-fargate-runner-qtr59   1/1           2m24s      11m\n",
      "orbit-lake-creator-fargate-runner-xd4j2   1/1           2m20s      14m\n"
     ]
    }
   ],
   "source": [
    "!kubectl get job -n lake-creator"
   ]
  },
  {
   "cell_type": "code",
   "execution_count": 18,
   "metadata": {
    "papermill": {
     "duration": 0.150596,
     "end_time": "2020-03-03T13:59:55.082921",
     "exception": false,
     "start_time": "2020-03-03T13:59:54.932325",
     "status": "completed"
    },
    "scrolled": true,
    "tags": []
   },
   "outputs": [
    {
     "data": {
      "text/html": [
       "<div>\n",
       "<style scoped>\n",
       "    .dataframe tbody tr th:only-of-type {\n",
       "        vertical-align: middle;\n",
       "    }\n",
       "\n",
       "    .dataframe tbody tr th {\n",
       "        vertical-align: top;\n",
       "    }\n",
       "\n",
       "    .dataframe thead th {\n",
       "        text-align: right;\n",
       "    }\n",
       "</style>\n",
       "<table border=\"1\" class=\"dataframe\">\n",
       "  <thead>\n",
       "    <tr style=\"text-align: right;\">\n",
       "      <th></th>\n",
       "      <th>relativePath</th>\n",
       "      <th>timestamp</th>\n",
       "      <th>path</th>\n",
       "    </tr>\n",
       "  </thead>\n",
       "  <tbody>\n",
       "    <tr>\n",
       "      <th>0</th>\n",
       "      <td>/efs/shared/regression/notebooks/A-LakeCreator...</td>\n",
       "      <td>2021-02-11 21:17:50.477</td>\n",
       "      <td>/efs/shared/regression/notebooks/A-LakeCreator...</td>\n",
       "    </tr>\n",
       "    <tr>\n",
       "      <th>1</th>\n",
       "      <td>/efs/shared/regression/notebooks/A-LakeCreator...</td>\n",
       "      <td>2021-02-11 21:25:55.139</td>\n",
       "      <td>/efs/shared/regression/notebooks/A-LakeCreator...</td>\n",
       "    </tr>\n",
       "    <tr>\n",
       "      <th>2</th>\n",
       "      <td>/efs/shared/regression/notebooks/A-LakeCreator...</td>\n",
       "      <td>2021-02-11 21:24:42.482</td>\n",
       "      <td>/efs/shared/regression/notebooks/A-LakeCreator...</td>\n",
       "    </tr>\n",
       "    <tr>\n",
       "      <th>3</th>\n",
       "      <td>/efs/shared/regression/notebooks/A-LakeCreator...</td>\n",
       "      <td>2021-02-11 21:17:22.367</td>\n",
       "      <td>/efs/shared/regression/notebooks/A-LakeCreator...</td>\n",
       "    </tr>\n",
       "    <tr>\n",
       "      <th>4</th>\n",
       "      <td>/efs/shared/regression/notebooks/A-LakeCreator...</td>\n",
       "      <td>2021-02-11 21:16:31.475</td>\n",
       "      <td>/efs/shared/regression/notebooks/A-LakeCreator...</td>\n",
       "    </tr>\n",
       "    <tr>\n",
       "      <th>5</th>\n",
       "      <td>/efs/shared/regression/notebooks/A-LakeCreator...</td>\n",
       "      <td>2021-02-11 21:25:01.725</td>\n",
       "      <td>/efs/shared/regression/notebooks/A-LakeCreator...</td>\n",
       "    </tr>\n",
       "    <tr>\n",
       "      <th>6</th>\n",
       "      <td>/efs/shared/regression/notebooks/A-LakeCreator...</td>\n",
       "      <td>2021-02-11 21:16:30.973</td>\n",
       "      <td>/efs/shared/regression/notebooks/A-LakeCreator...</td>\n",
       "    </tr>\n",
       "    <tr>\n",
       "      <th>7</th>\n",
       "      <td>/efs/shared/regression/notebooks/A-LakeCreator...</td>\n",
       "      <td>2021-02-11 21:24:43.697</td>\n",
       "      <td>/efs/shared/regression/notebooks/A-LakeCreator...</td>\n",
       "    </tr>\n",
       "    <tr>\n",
       "      <th>8</th>\n",
       "      <td>/efs/shared/regression/notebooks/A-LakeCreator...</td>\n",
       "      <td>2021-02-11 21:17:50.837</td>\n",
       "      <td>/efs/shared/regression/notebooks/A-LakeCreator...</td>\n",
       "    </tr>\n",
       "    <tr>\n",
       "      <th>9</th>\n",
       "      <td>/efs/shared/regression/notebooks/A-LakeCreator...</td>\n",
       "      <td>2021-02-11 21:24:41.841</td>\n",
       "      <td>/efs/shared/regression/notebooks/A-LakeCreator...</td>\n",
       "    </tr>\n",
       "    <tr>\n",
       "      <th>10</th>\n",
       "      <td>/efs/shared/regression/notebooks/A-LakeCreator...</td>\n",
       "      <td>2021-02-11 21:24:38.382</td>\n",
       "      <td>/efs/shared/regression/notebooks/A-LakeCreator...</td>\n",
       "    </tr>\n",
       "    <tr>\n",
       "      <th>11</th>\n",
       "      <td>/efs/shared/regression/notebooks/A-LakeCreator...</td>\n",
       "      <td>2021-02-11 21:16:31.770</td>\n",
       "      <td>/efs/shared/regression/notebooks/A-LakeCreator...</td>\n",
       "    </tr>\n",
       "    <tr>\n",
       "      <th>12</th>\n",
       "      <td>/efs/shared/regression/notebooks/A-LakeCreator...</td>\n",
       "      <td>2021-02-11 21:25:22.723</td>\n",
       "      <td>/efs/shared/regression/notebooks/A-LakeCreator...</td>\n",
       "    </tr>\n",
       "    <tr>\n",
       "      <th>13</th>\n",
       "      <td>/efs/shared/regression/notebooks/A-LakeCreator...</td>\n",
       "      <td>2021-02-11 21:16:57.838</td>\n",
       "      <td>/efs/shared/regression/notebooks/A-LakeCreator...</td>\n",
       "    </tr>\n",
       "    <tr>\n",
       "      <th>14</th>\n",
       "      <td>/efs/shared/regression/notebooks/A-LakeCreator...</td>\n",
       "      <td>2021-02-11 21:25:54.440</td>\n",
       "      <td>/efs/shared/regression/notebooks/A-LakeCreator...</td>\n",
       "    </tr>\n",
       "    <tr>\n",
       "      <th>15</th>\n",
       "      <td>/efs/shared/regression/notebooks/A-LakeCreator...</td>\n",
       "      <td>2021-02-11 21:16:31.569</td>\n",
       "      <td>/efs/shared/regression/notebooks/A-LakeCreator...</td>\n",
       "    </tr>\n",
       "  </tbody>\n",
       "</table>\n",
       "</div>"
      ],
      "text/plain": [
       "                                         relativePath               timestamp  \\\n",
       "0   /efs/shared/regression/notebooks/A-LakeCreator... 2021-02-11 21:17:50.477   \n",
       "1   /efs/shared/regression/notebooks/A-LakeCreator... 2021-02-11 21:25:55.139   \n",
       "2   /efs/shared/regression/notebooks/A-LakeCreator... 2021-02-11 21:24:42.482   \n",
       "3   /efs/shared/regression/notebooks/A-LakeCreator... 2021-02-11 21:17:22.367   \n",
       "4   /efs/shared/regression/notebooks/A-LakeCreator... 2021-02-11 21:16:31.475   \n",
       "5   /efs/shared/regression/notebooks/A-LakeCreator... 2021-02-11 21:25:01.725   \n",
       "6   /efs/shared/regression/notebooks/A-LakeCreator... 2021-02-11 21:16:30.973   \n",
       "7   /efs/shared/regression/notebooks/A-LakeCreator... 2021-02-11 21:24:43.697   \n",
       "8   /efs/shared/regression/notebooks/A-LakeCreator... 2021-02-11 21:17:50.837   \n",
       "9   /efs/shared/regression/notebooks/A-LakeCreator... 2021-02-11 21:24:41.841   \n",
       "10  /efs/shared/regression/notebooks/A-LakeCreator... 2021-02-11 21:24:38.382   \n",
       "11  /efs/shared/regression/notebooks/A-LakeCreator... 2021-02-11 21:16:31.770   \n",
       "12  /efs/shared/regression/notebooks/A-LakeCreator... 2021-02-11 21:25:22.723   \n",
       "13  /efs/shared/regression/notebooks/A-LakeCreator... 2021-02-11 21:16:57.838   \n",
       "14  /efs/shared/regression/notebooks/A-LakeCreator... 2021-02-11 21:25:54.440   \n",
       "15  /efs/shared/regression/notebooks/A-LakeCreator... 2021-02-11 21:16:31.569   \n",
       "\n",
       "                                                 path  \n",
       "0   /efs/shared/regression/notebooks/A-LakeCreator...  \n",
       "1   /efs/shared/regression/notebooks/A-LakeCreator...  \n",
       "2   /efs/shared/regression/notebooks/A-LakeCreator...  \n",
       "3   /efs/shared/regression/notebooks/A-LakeCreator...  \n",
       "4   /efs/shared/regression/notebooks/A-LakeCreator...  \n",
       "5   /efs/shared/regression/notebooks/A-LakeCreator...  \n",
       "6   /efs/shared/regression/notebooks/A-LakeCreator...  \n",
       "7   /efs/shared/regression/notebooks/A-LakeCreator...  \n",
       "8   /efs/shared/regression/notebooks/A-LakeCreator...  \n",
       "9   /efs/shared/regression/notebooks/A-LakeCreator...  \n",
       "10  /efs/shared/regression/notebooks/A-LakeCreator...  \n",
       "11  /efs/shared/regression/notebooks/A-LakeCreator...  \n",
       "12  /efs/shared/regression/notebooks/A-LakeCreator...  \n",
       "13  /efs/shared/regression/notebooks/A-LakeCreator...  \n",
       "14  /efs/shared/regression/notebooks/A-LakeCreator...  \n",
       "15  /efs/shared/regression/notebooks/A-LakeCreator...  "
      ]
     },
     "execution_count": 18,
     "metadata": {},
     "output_type": "execute_result"
    }
   ],
   "source": [
    "executions = controller.get_execution_history(\"/efs/shared/regression/notebooks/A-LakeCreator\", \"Example-2-Extract-Files.ipynb\")\n",
    "executions"
   ]
  },
  {
   "cell_type": "code",
   "execution_count": 19,
   "metadata": {
    "papermill": {
     "duration": 0.089923,
     "end_time": "2020-03-03T13:59:55.296783",
     "exception": false,
     "start_time": "2020-03-03T13:59:55.206860",
     "status": "completed"
    },
    "tags": []
   },
   "outputs": [
    {
     "name": "stdout",
     "output_type": "stream",
     "text": [
      "Failed once, lets give one more try\n"
     ]
    },
    {
     "name": "stderr",
     "output_type": "stream",
     "text": [
      "INFO:root:using default profile {'display_name': 'Micro', 'slug': 'micro', 'description': '2 CPU + 2G MEM', 'properties': {'cpu_guarantee': 2, 'cpu_limit': 2, 'mem_guarantee': '2G', 'mem_limit': '2G'}, 'default': True}\n",
      "INFO:root:Waiting for 1 tasks [{'ExecutionType': 'eks', 'Identifier': 'orbit-lake-creator-fargate-runner-rhr87', 'NodeType': 'fargate'}]\n",
      "INFO:root:job-status={'active': None,\n",
      " 'completion_time': None,\n",
      " 'conditions': None,\n",
      " 'failed': None,\n",
      " 'start_time': None,\n",
      " 'succeeded': None}\n",
      "INFO:root:Running: 1 Completed: 0 Errored: 0\n",
      "INFO:root:waiting...\n"
     ]
    },
    {
     "name": "stdout",
     "output_type": "stream",
     "text": [
      "{'ExecutionType': 'eks', 'Identifier': 'orbit-lake-creator-fargate-runner-rhr87', 'NodeType': 'fargate'}\n"
     ]
    },
    {
     "name": "stderr",
     "output_type": "stream",
     "text": [
      "INFO:root:job-status={'active': 1,\n",
      " 'completion_time': None,\n",
      " 'conditions': None,\n",
      " 'failed': None,\n",
      " 'start_time': datetime.datetime(2021, 2, 11, 21, 26, 38, tzinfo=tzlocal()),\n",
      " 'succeeded': None}\n",
      "INFO:root:Running: 1 Completed: 0 Errored: 0\n",
      "INFO:root:waiting...\n",
      "INFO:root:job-status={'active': 1,\n",
      " 'completion_time': None,\n",
      " 'conditions': None,\n",
      " 'failed': None,\n",
      " 'start_time': datetime.datetime(2021, 2, 11, 21, 26, 38, tzinfo=tzlocal()),\n",
      " 'succeeded': None}\n",
      "INFO:root:Running: 1 Completed: 0 Errored: 0\n",
      "INFO:root:waiting...\n",
      "INFO:root:job-status={'active': None,\n",
      " 'completion_time': datetime.datetime(2021, 2, 11, 21, 29, tzinfo=tzlocal()),\n",
      " 'conditions': [{'last_probe_time': datetime.datetime(2021, 2, 11, 21, 29, tzinfo=tzlocal()),\n",
      "                 'last_transition_time': datetime.datetime(2021, 2, 11, 21, 29, tzinfo=tzlocal()),\n",
      "                 'message': None,\n",
      "                 'reason': None,\n",
      "                 'status': 'True',\n",
      "                 'type': 'Complete'}],\n",
      " 'failed': None,\n",
      " 'start_time': datetime.datetime(2021, 2, 11, 21, 26, 38, tzinfo=tzlocal()),\n",
      " 'succeeded': 1}\n",
      "INFO:root:Running: 0 Completed: 1 Errored: 0\n",
      "INFO:root:All tasks stopped\n"
     ]
    },
    {
     "name": "stdout",
     "output_type": "stream",
     "text": [
      "SUCCESS\n"
     ]
    }
   ],
   "source": [
    "try: \n",
    "    checkNotebooks(executions, 8)\n",
    "except AssertionError as e:\n",
    "    print(\"Failed once, lets give one more try\")\n",
    "    !rm -rf /efs/shared/regression/notebooks/A-LakeCreator/Example-2*\n",
    "    run_file_extraction()\n",
    "    executions = controller.get_execution_history(\"/efs/shared/regression/notebooks/A-LakeCreator\", \"Example-2-Extract-Files.ipynb\")\n",
    "    checkNotebooks(executions,8)\n",
    "    "
   ]
  },
  {
   "cell_type": "markdown",
   "metadata": {},
   "source": [
    "***We will check our Output in our extractedFolder and split the output into an array of File Outputs:***"
   ]
  },
  {
   "cell_type": "code",
   "execution_count": 20,
   "metadata": {
    "collapsed": false,
    "jupyter": {
     "outputs_hidden": false
    },
    "papermill": {
     "duration": 0.537052,
     "end_time": "2020-03-03T13:59:55.946789",
     "exception": false,
     "start_time": "2020-03-03T13:59:55.409737",
     "status": "completed"
    },
    "pycharm": {
     "name": "#%%\n"
    },
    "tags": []
   },
   "outputs": [],
   "source": [
    "%%bash --out output --err error -s $extractedFolder\n",
    "\n",
    "aws s3 ls \"$1\""
   ]
  },
  {
   "cell_type": "code",
   "execution_count": 21,
   "metadata": {
    "papermill": {
     "duration": 0.089318,
     "end_time": "2020-03-03T13:59:56.097813",
     "exception": false,
     "start_time": "2020-03-03T13:59:56.008495",
     "status": "completed"
    },
    "tags": []
   },
   "outputs": [
    {
     "name": "stdout",
     "output_type": "stream",
     "text": [
      "                           PRE Beneficiary_Summary/\n",
      "                           PRE Carrier_Claims/\n",
      "                           PRE Inpatient_Claims/\n",
      "                           PRE Outpatient_Claims/\n",
      "                           PRE Prescription_Drug_Events/\n",
      "\n",
      "total files: 6\n"
     ]
    }
   ],
   "source": [
    "print(output)\n",
    "files = output.split('\\n')\n",
    "print(\"total files: \" + str(len(files)))"
   ]
  },
  {
   "cell_type": "markdown",
   "metadata": {
    "papermill": {
     "duration": 0.057628,
     "end_time": "2020-03-03T13:59:56.212646",
     "exception": false,
     "start_time": "2020-03-03T13:59:56.155018",
     "status": "completed"
    },
    "tags": []
   },
   "source": [
    "\n",
    "***\n",
    "## Step 4: Read the CSV Files and Create Glue tables with Parquet format according to schema\n",
    "\n",
    "Our Zipped files have been succesfully extracted and their CSV data content is placed in our **extractedFolder**. We now must collect the schema for our different data tables saved as csv files and create Parquet Output Glue Tables with set schema located in our target directory on s3.\n"
   ]
  },
  {
   "cell_type": "markdown",
   "metadata": {},
   "source": [
    "#### Create Glue Tables\n",
    "We will now create our Parquet formatted Glue Tables by scheduling and executing the notebook, **Example-3-Load-Database-Athena**. For each extracted csv data file in our extracted folder our notebook will perform the following:\n",
    "\n",
    "* Find for each file the corresponding schema\n",
    "\n",
    "* Read the file using spark\n",
    "\n",
    "* Create external tables to create the Glue table and parquet output\n",
    "\n",
    "You can refer to that notebook which goes step-by-step through the process of schema detection and table creation. We will execute the **run_glue_table_loading** on 4 concurrent containers and checks the execution history to ensure that the code ran for all the data files:"
   ]
  },
  {
   "cell_type": "code",
   "execution_count": 22,
   "metadata": {
    "papermill": {
     "duration": 0.118782,
     "end_time": "2020-03-03T14:06:18.334301",
     "exception": false,
     "start_time": "2020-03-03T14:06:18.215519",
     "status": "completed"
    },
    "tags": []
   },
   "outputs": [],
   "source": [
    "load_data_notebook = \"Example-3-Load-Database-Athena\"\n",
    "\n",
    "def run_glue_table_loading(concurrent_containers=4):\n",
    "    containers = []\n",
    "    found_schemas = []\n",
    "    i = 0\n",
    "    for key in s3.list_objects_v2(Bucket=bucketName, Prefix=extractedPrefix)['Contents']:\n",
    "        file = key['Key']\n",
    "        p = Path(file).parent\n",
    "        schema = get_schema(schemas, file)\n",
    "        if schema in found_schemas:\n",
    "            continue\n",
    "        i = i + 1\n",
    "        print(f\"Found schema: {schema[0]}\")\n",
    "        found_schemas.append(schema)\n",
    "        notebooksToRun = {\n",
    "          \"compute\": {\n",
    "              \"node_type\": \"ec2\",\n",
    "              \"container\": {\n",
    "                  \"p_concurrent\" :1\n",
    "              }\n",
    "          },\n",
    "          \"tasks\":  [\n",
    "                {\n",
    "                      \"notebookName\": f\"{load_data_notebook}.ipynb\",\n",
    "                      \"sourcePath\": \"/efs/shared/samples/notebooks/A-LakeCreator\",\n",
    "                      \"targetPath\": \"/efs/shared/regression/notebooks/A-LakeCreator\",\n",
    "                      \"targetPrefix\": \"unsecured-{}\".format(i),\n",
    "                      \"params\": {\n",
    "                            \"source_bucket_name\" : bucketName,\n",
    "                            \"target_bucket_name\" : bucketName,\n",
    "                            \"database_name\" : \"cms_raw_db\",\n",
    "                            \"schema_dir\" : \"landing/cms/schema\",\n",
    "                            \"file_path\": str(p),\n",
    "                            \"region\": my_region\n",
    "                      }      \n",
    "                }\n",
    "          ],\n",
    "          \"env_vars\": [\n",
    "                {\n",
    "                    'name': 'AWS_ORBIT_S3_BUCKET',\n",
    "                    'value': bucketName\n",
    "                }\n",
    "          ]\n",
    "        }\n",
    "\n",
    "        t = time.localtime()\n",
    "        current_time = time.strftime(\"%H:%M:%S\", t)\n",
    "\n",
    "        container = controller.run_notebooks(notebooksToRun)\n",
    "        containers.append(container)\n",
    "        print(\"task : \", current_time , str(container), \"-->\", notebooksToRun['tasks'][0]['params']['file_path'])\n",
    "        if i%concurrent_containers == 0:\n",
    "            print(f\"Now waiting for {str(len(containers))} tasks to complete before spawning new ones\")\n",
    "            controller.wait_for_tasks_to_complete(containers, 60,30, False)\n",
    "            print(\"task : \", containers, \" done \")\n",
    "            containers = []\n",
    "    \n",
    "    if len(containers) > 0: \n",
    "        print(f\"Now waiting for {str(len(containers))} tasks to complete before spawning new ones\")\n",
    "        controller.wait_for_tasks_to_complete(containers, 60,15, False)"
   ]
  },
  {
   "cell_type": "code",
   "execution_count": 23,
   "metadata": {
    "papermill": {
     "duration": 848.4511,
     "end_time": "2020-03-03T14:20:26.843545",
     "exception": false,
     "start_time": "2020-03-03T14:06:18.392445",
     "status": "completed"
    },
    "tags": []
   },
   "outputs": [
    {
     "name": "stdout",
     "output_type": "stream",
     "text": [
      "Found schema: Beneficiary_Summary\n"
     ]
    },
    {
     "name": "stderr",
     "output_type": "stream",
     "text": [
      "INFO:root:using default profile {'display_name': 'Micro', 'slug': 'micro', 'description': '2 CPU + 2G MEM', 'properties': {'cpu_guarantee': 2, 'cpu_limit': 2, 'mem_guarantee': '2G', 'mem_limit': '2G'}, 'default': True}\n"
     ]
    },
    {
     "name": "stdout",
     "output_type": "stream",
     "text": [
      "task :  21:29:39 {'ExecutionType': 'eks', 'Identifier': 'orbit-lake-creator-ec2-runner-575r5', 'NodeType': 'ec2'} --> extracted/Beneficiary_Summary\n",
      "Found schema: Carrier_Claims\n"
     ]
    },
    {
     "name": "stderr",
     "output_type": "stream",
     "text": [
      "INFO:root:using default profile {'display_name': 'Micro', 'slug': 'micro', 'description': '2 CPU + 2G MEM', 'properties': {'cpu_guarantee': 2, 'cpu_limit': 2, 'mem_guarantee': '2G', 'mem_limit': '2G'}, 'default': True}\n"
     ]
    },
    {
     "name": "stdout",
     "output_type": "stream",
     "text": [
      "task :  21:29:40 {'ExecutionType': 'eks', 'Identifier': 'orbit-lake-creator-ec2-runner-jlbjl', 'NodeType': 'ec2'} --> extracted/Carrier_Claims\n",
      "Found schema: Inpatient_Claims\n"
     ]
    },
    {
     "name": "stderr",
     "output_type": "stream",
     "text": [
      "INFO:root:using default profile {'display_name': 'Micro', 'slug': 'micro', 'description': '2 CPU + 2G MEM', 'properties': {'cpu_guarantee': 2, 'cpu_limit': 2, 'mem_guarantee': '2G', 'mem_limit': '2G'}, 'default': True}\n"
     ]
    },
    {
     "name": "stdout",
     "output_type": "stream",
     "text": [
      "task :  21:29:40 {'ExecutionType': 'eks', 'Identifier': 'orbit-lake-creator-ec2-runner-kdhng', 'NodeType': 'ec2'} --> extracted/Inpatient_Claims\n",
      "Found schema: Outpatient_Claims\n"
     ]
    },
    {
     "name": "stderr",
     "output_type": "stream",
     "text": [
      "INFO:root:using default profile {'display_name': 'Micro', 'slug': 'micro', 'description': '2 CPU + 2G MEM', 'properties': {'cpu_guarantee': 2, 'cpu_limit': 2, 'mem_guarantee': '2G', 'mem_limit': '2G'}, 'default': True}\n",
      "INFO:root:using default profile {'display_name': 'Micro', 'slug': 'micro', 'description': '2 CPU + 2G MEM', 'properties': {'cpu_guarantee': 2, 'cpu_limit': 2, 'mem_guarantee': '2G', 'mem_limit': '2G'}, 'default': True}\n",
      "INFO:root:Waiting for 5 tasks [{'ExecutionType': 'eks', 'Identifier': 'orbit-lake-creator-ec2-runner-575r5', 'NodeType': 'ec2'}, {'ExecutionType': 'eks', 'Identifier': 'orbit-lake-creator-ec2-runner-jlbjl', 'NodeType': 'ec2'}, {'ExecutionType': 'eks', 'Identifier': 'orbit-lake-creator-ec2-runner-kdhng', 'NodeType': 'ec2'}, {'ExecutionType': 'eks', 'Identifier': 'orbit-lake-creator-ec2-runner-9mrg8', 'NodeType': 'ec2'}, {'ExecutionType': 'eks', 'Identifier': 'orbit-lake-creator-ec2-runner-l5vg2', 'NodeType': 'ec2'}]\n",
      "INFO:root:job-status={'active': 1,\n",
      " 'completion_time': None,\n",
      " 'conditions': None,\n",
      " 'failed': None,\n",
      " 'start_time': datetime.datetime(2021, 2, 11, 21, 29, 40, tzinfo=tzlocal()),\n",
      " 'succeeded': None}\n",
      "INFO:root:Running: 1 Completed: 0 Errored: 0\n",
      "INFO:root:waiting...\n"
     ]
    },
    {
     "name": "stdout",
     "output_type": "stream",
     "text": [
      "task :  21:29:40 {'ExecutionType': 'eks', 'Identifier': 'orbit-lake-creator-ec2-runner-9mrg8', 'NodeType': 'ec2'} --> extracted/Outpatient_Claims\n",
      "Found schema: Prescription_Drug_Events\n",
      "task :  21:29:40 {'ExecutionType': 'eks', 'Identifier': 'orbit-lake-creator-ec2-runner-l5vg2', 'NodeType': 'ec2'} --> extracted/Prescription_Drug_Events\n",
      "Now waiting for 5 tasks to complete before spawning new ones\n"
     ]
    },
    {
     "name": "stderr",
     "output_type": "stream",
     "text": [
      "INFO:root:job-status={'active': None,\n",
      " 'completion_time': datetime.datetime(2021, 2, 11, 21, 30, 12, tzinfo=tzlocal()),\n",
      " 'conditions': [{'last_probe_time': datetime.datetime(2021, 2, 11, 21, 30, 12, tzinfo=tzlocal()),\n",
      "                 'last_transition_time': datetime.datetime(2021, 2, 11, 21, 30, 12, tzinfo=tzlocal()),\n",
      "                 'message': None,\n",
      "                 'reason': None,\n",
      "                 'status': 'True',\n",
      "                 'type': 'Complete'}],\n",
      " 'failed': None,\n",
      " 'start_time': datetime.datetime(2021, 2, 11, 21, 29, 40, tzinfo=tzlocal()),\n",
      " 'succeeded': 1}\n",
      "INFO:root:Running: 0 Completed: 1 Errored: 0\n",
      "INFO:root:All tasks stopped\n"
     ]
    },
    {
     "data": {
      "text/html": [
       "<div>\n",
       "<style scoped>\n",
       "    .dataframe tbody tr th:only-of-type {\n",
       "        vertical-align: middle;\n",
       "    }\n",
       "\n",
       "    .dataframe tbody tr th {\n",
       "        vertical-align: top;\n",
       "    }\n",
       "\n",
       "    .dataframe thead th {\n",
       "        text-align: right;\n",
       "    }\n",
       "</style>\n",
       "<table border=\"1\" class=\"dataframe\">\n",
       "  <thead>\n",
       "    <tr style=\"text-align: right;\">\n",
       "      <th></th>\n",
       "      <th>relativePath</th>\n",
       "      <th>timestamp</th>\n",
       "      <th>path</th>\n",
       "    </tr>\n",
       "  </thead>\n",
       "  <tbody>\n",
       "    <tr>\n",
       "      <th>0</th>\n",
       "      <td>/efs/shared/regression/notebooks/A-LakeCreator...</td>\n",
       "      <td>2021-02-11 21:30:09.997</td>\n",
       "      <td>/efs/shared/regression/notebooks/A-LakeCreator...</td>\n",
       "    </tr>\n",
       "    <tr>\n",
       "      <th>1</th>\n",
       "      <td>/efs/shared/regression/notebooks/A-LakeCreator...</td>\n",
       "      <td>2021-02-11 21:30:07.226</td>\n",
       "      <td>/efs/shared/regression/notebooks/A-LakeCreator...</td>\n",
       "    </tr>\n",
       "    <tr>\n",
       "      <th>2</th>\n",
       "      <td>/efs/shared/regression/notebooks/A-LakeCreator...</td>\n",
       "      <td>2021-02-11 21:30:12.345</td>\n",
       "      <td>/efs/shared/regression/notebooks/A-LakeCreator...</td>\n",
       "    </tr>\n",
       "    <tr>\n",
       "      <th>3</th>\n",
       "      <td>/efs/shared/regression/notebooks/A-LakeCreator...</td>\n",
       "      <td>2021-02-11 21:30:11.659</td>\n",
       "      <td>/efs/shared/regression/notebooks/A-LakeCreator...</td>\n",
       "    </tr>\n",
       "    <tr>\n",
       "      <th>4</th>\n",
       "      <td>/efs/shared/regression/notebooks/A-LakeCreator...</td>\n",
       "      <td>2021-02-11 21:30:11.156</td>\n",
       "      <td>/efs/shared/regression/notebooks/A-LakeCreator...</td>\n",
       "    </tr>\n",
       "  </tbody>\n",
       "</table>\n",
       "</div>"
      ],
      "text/plain": [
       "                                        relativePath               timestamp  \\\n",
       "0  /efs/shared/regression/notebooks/A-LakeCreator... 2021-02-11 21:30:09.997   \n",
       "1  /efs/shared/regression/notebooks/A-LakeCreator... 2021-02-11 21:30:07.226   \n",
       "2  /efs/shared/regression/notebooks/A-LakeCreator... 2021-02-11 21:30:12.345   \n",
       "3  /efs/shared/regression/notebooks/A-LakeCreator... 2021-02-11 21:30:11.659   \n",
       "4  /efs/shared/regression/notebooks/A-LakeCreator... 2021-02-11 21:30:11.156   \n",
       "\n",
       "                                                path  \n",
       "0  /efs/shared/regression/notebooks/A-LakeCreator...  \n",
       "1  /efs/shared/regression/notebooks/A-LakeCreator...  \n",
       "2  /efs/shared/regression/notebooks/A-LakeCreator...  \n",
       "3  /efs/shared/regression/notebooks/A-LakeCreator...  \n",
       "4  /efs/shared/regression/notebooks/A-LakeCreator...  "
      ]
     },
     "metadata": {},
     "output_type": "display_data"
    },
    {
     "name": "stdout",
     "output_type": "stream",
     "text": [
      "SUCCESS\n",
      "CPU times: user 469 ms, sys: 59.5 ms, total: 529 ms\n",
      "Wall time: 1min 1s\n"
     ]
    }
   ],
   "source": [
    "%%time\n",
    "\n",
    "concurrent_containers = 10\n",
    "for retry in range(0, 3):\n",
    "    try: \n",
    "        !rm -rf /efs/shared/regression/notebooks/A-LakeCreator/$load_data_notebook/*\n",
    "        run_glue_table_loading(concurrent_containers)\n",
    "        executions = controller.get_execution_history(\"/efs/shared/regression/notebooks/A-LakeCreator\", f\"{load_data_notebook}.ipynb\")  \n",
    "        display(executions)\n",
    "        checkNotebooks(executions,5)\n",
    "        break\n",
    "    except AssertionError as e:\n",
    "        print(f\"Failed {retry}, lets give one more try\")\n",
    "        #concurrent_containers = concurrent_containers - 1\n",
    "\n"
   ]
  },
  {
   "cell_type": "markdown",
   "metadata": {
    "papermill": {
     "duration": 0.073176,
     "end_time": "2020-03-03T14:20:27.040395",
     "exception": false,
     "start_time": "2020-03-03T14:20:26.967219",
     "status": "completed"
    },
    "tags": []
   },
   "source": [
    "#### Check that Glue Tables are Created\n",
    "We will ensure that we now have 7 tables created from our 7 data files that we extracted earlier:"
   ]
  },
  {
   "cell_type": "code",
   "execution_count": 24,
   "metadata": {
    "papermill": {
     "duration": 0.195756,
     "end_time": "2020-03-03T14:20:27.347556",
     "exception": false,
     "start_time": "2020-03-03T14:20:27.151800",
     "status": "completed"
    },
    "scrolled": true,
    "tags": []
   },
   "outputs": [
    {
     "name": "stdout",
     "output_type": "stream",
     "text": [
      "beneficiary_summary\n",
      "beneficiary_summary_raw\n",
      "carrier_claims\n",
      "carrier_claims_raw\n",
      "inpatient_claims\n",
      "inpatient_claims_raw\n",
      "outpatient_claims\n",
      "outpatient_claims_raw\n",
      "prescription_drug_events\n",
      "prescription_drug_events_raw\n",
      "Total tables: 10. Raw tables: 5. Final tables: 5\n",
      "notebooks  PASSED\n"
     ]
    }
   ],
   "source": [
    "glue = boto3.client('glue')\n",
    "res = glue.get_tables(DatabaseName='cms_raw_db')\n",
    "tables = res['TableList']\n",
    "raw_count = 0\n",
    "parq_count = 0\n",
    "for t in tables:\n",
    "    if t['Name'].endswith('_raw'):\n",
    "        raw_count += 1\n",
    "    else:\n",
    "        parq_count += 1\n",
    "    print(t['Name'])\n",
    "print(f\"Total tables: {str(len(tables))}. Raw tables: {raw_count}. Final tables: {parq_count}\")\n",
    "assert raw_count == parq_count and raw_count > 0\n",
    "!echo \"PASSED\" >> /efs/shared/regression/PASSED\n",
    "!ls /efs/shared/regression"
   ]
  },
  {
   "cell_type": "code",
   "execution_count": 25,
   "metadata": {},
   "outputs": [
    {
     "name": "stdout",
     "output_type": "stream",
     "text": [
      "NAME                                      COMPLETIONS   DURATION   AGE\n",
      "orbit-lake-creator-ec2-runner-526gr       1/1           33s        9m43s\n",
      "orbit-lake-creator-ec2-runner-575r5       1/1           28s        62s\n",
      "orbit-lake-creator-ec2-runner-8fdh5       1/1           24s        9m43s\n",
      "orbit-lake-creator-ec2-runner-9mrg8       1/1           32s        62s\n",
      "orbit-lake-creator-ec2-runner-f25px       1/1           32s        9m42s\n",
      "orbit-lake-creator-ec2-runner-jlbjl       1/1           32s        62s\n",
      "orbit-lake-creator-ec2-runner-kdhng       1/1           31s        62s\n",
      "orbit-lake-creator-ec2-runner-l5vg2       1/1           33s        62s\n",
      "orbit-lake-creator-ec2-runner-mp9cx       1/1           31s        9m42s\n",
      "orbit-lake-creator-ec2-runner-xr4qn       1/1           28s        9m42s\n",
      "orbit-lake-creator-fargate-runner-2k9ln   1/1           2m22s      20m\n",
      "orbit-lake-creator-fargate-runner-j4kx4   1/1           2m20s      7m6s\n",
      "orbit-lake-creator-fargate-runner-qtr59   1/1           2m24s      15m\n",
      "orbit-lake-creator-fargate-runner-rhr87   1/1           2m22s      4m4s\n",
      "orbit-lake-creator-fargate-runner-xd4j2   1/1           2m20s      18m\n"
     ]
    }
   ],
   "source": [
    "!kubectl get job -n lake-creator"
   ]
  },
  {
   "cell_type": "markdown",
   "metadata": {
    "papermill": {
     "duration": 0.068896,
     "end_time": "2020-03-03T14:20:28.275511",
     "exception": false,
     "start_time": "2020-03-03T14:20:28.206615",
     "status": "completed"
    },
    "tags": []
   },
   "source": [
    "\n",
    "\n",
    "# End of notebook\n",
    "\n",
    "**Congratulations! You have just built you very own Data Lake with countless Amazon Web Service integrations through AWS Orbit Workbench**\n",
    "\n",
    "<img style=\"width:100px;height:100px;border:0;\" src=\"https://images-na.ssl-images-amazon.com/images/I/71pHyDfdXwL._SL1500_.jpg\" />"
   ]
  },
  {
   "cell_type": "code",
   "execution_count": null,
   "metadata": {},
   "outputs": [],
   "source": []
  }
 ],
 "metadata": {
  "celltoolbar": "Tags",
  "kernelspec": {
   "display_name": "Python 3",
   "language": "python",
   "name": "python3"
  },
  "language_info": {
   "codemirror_mode": {
    "name": "ipython",
    "version": 3
   },
   "file_extension": ".py",
   "mimetype": "text/x-python",
   "name": "python",
   "nbconvert_exporter": "python",
   "pygments_lexer": "ipython3",
   "version": "3.8.6"
  },
  "papermill": {
   "duration": 1433.197715,
   "end_time": "2020-03-03T14:20:28.746673",
   "environment_variables": {},
   "exception": null,
   "input_path": "/tmp/e1@20200303-13:56.ipynb",
   "output_path": "s3://orbit-test-base-acco-testnotebookbucket29e9e4-g80prenjos07/lake-creator/output/notebooks/tests/A-LakeCreator/Example-1-Build-Lake/e1@20200303-13:56.ipynb",
   "parameters": {
    "PAPERMILL_INPUT_PATH": "/tmp/e1@20200303-13:56.ipynb",
    "PAPERMILL_OUTPUT_DIR_PATH": "s3://orbit-test-base-acco-testnotebookbucket29e9e4-g80prenjos07/lake-creator/output/notebooks/tests/A-LakeCreator/Example-1-Build-Lake",
    "PAPERMILL_OUTPUT_PATH": "s3://orbit-test-base-acco-testnotebookbucket29e9e4-g80prenjos07/lake-creator/output/notebooks/tests/A-LakeCreator/Example-1-Build-Lake/e1@20200303-13:56.ipynb",
    "PAPERMILL_WORKBOOK_NAME": "e1@20200303-13:56.ipynb",
    "PAPERMILL_WORK_DIR": "/ws/ScienceRepo1/samples/notebooks/A-LakeCreator"
   },
   "start_time": "2020-03-03T13:56:35.548958",
   "version": "1.2.1"
  },
  "pycharm": {
   "stem_cell": {
    "cell_type": "raw",
    "source": [],
    "metadata": {
     "collapsed": false
    }
   }
  }
 },
 "nbformat": 4,
 "nbformat_minor": 4
}