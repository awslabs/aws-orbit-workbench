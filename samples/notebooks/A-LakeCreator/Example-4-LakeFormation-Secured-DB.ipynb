{
 "cells": [
  {
   "cell_type": "markdown",
   "source": [
    "# LakeFormation Example Notebook\n",
    "***Creating LakeFormation and Secured Database with Granular Security Access***\n",
    "\n",
    "___\n",
    "\n",
    "\n",
    "## Contents\n",
    "\n",
    "1. [Introduction](#Introduction)\n",
    "2. [Setup](#Setup)\n",
    "  1. [Imports](#Imports)\n",
    "  2. [Create Low-Level Clients](#Create-Low-Level-Clients)\n",
    "  3. [Athena Connection](#Athena-Connection)\n",
    "3. [Create Secured Database](#Create-Secured-Database)\n",
    "  1. [Create Database In Glue](#Create-Database-In-Glue)\n",
    "  2. [Create Tables](#Create-Tables)\n",
    "4. [Adding Lakeformation policy tags to the resources - Database, Tables and Columns](#)\n",
    "  1. [Database Level Tagging](#Database-Level-Tagging)\n",
    "  2. [Table Level Tagging](#Table-Level-Tagging)\n",
    "  3. [Column Level Tagging](#Column-Level-Tagging)\n",
    "5. [Securing the Database Using LakeFormation](#Securing-the-Database-Using-LakeFormation)\n",
    "  1. [Registering Database](Registering-Database)\n",
    "\n",
    "\n",
    "___\n",
    "## Introduction\n",
    "\n",
    "This notebook dives deeps into the Tag-based Security Access in AWS LakeFormation. It illustrates the following:\n",
    "\n",
    "* Ability to create new database that is secured by AWS Lake Formation and is managed by AWS Glue Catalog.\n",
    "\n",
    "* Ability to tag databases, tables and columns with user defined security tags\n",
    "\n",
    "\n",
    "This is the second step in setting up our Data Lake before we can securely start analyzing our data, typically through reporting, visualization, advanced analytics and machine learning methodologies.\n",
    "\n",
    "---\n",
    "\n",
    "#### Author: AWS Professional Services Emerging Technology and Intelligent Platforms Group\n",
    "#### Date: June 10 2021\n"
   ],
   "metadata": {
    "pycharm": {
     "name": "#%% md\n"
    }
   }
  },
  {
   "cell_type": "markdown",
   "source": [
    "## Setup\n",
    "\n",
    "#### Imports and Parameters\n",
    "First, let's import all of the modules we will need for our lake formation, including Pandas DataFrames, Athena, etc. Lets store our session state so that we can create service clients and resources later on.\n",
    "\n",
    "Next, lets define the location of our unsecured databased, a secured db location, assert we are indeed the lake-creator\n",
    "(**Note:** We cannot run this notebook if we are not the lake-creator):"
   ],
   "metadata": {
    "pycharm": {
     "name": "#%% md\n"
    }
   }
  },
  {
   "cell_type": "code",
   "execution_count": null,
   "source": [
    "import json\n",
    "import boto3\n",
    "from pandas import DataFrame\n",
    "# Import orbit helpers\n",
    "from aws_orbit_sdk.database import get_athena\n",
    "from aws_orbit_sdk.common import get_workspace\n",
    "\n",
    "my_session = boto3.session.Session()\n",
    "my_region = my_session.region_name\n",
    "print(my_region)"
   ],
   "outputs": [],
   "metadata": {
    "collapsed": false,
    "jupyter": {
     "outputs_hidden": false
    },
    "pycharm": {
     "name": "#%%\n"
    }
   }
  },
  {
   "cell_type": "code",
   "execution_count": null,
   "source": [
    "# Clients\n",
    "lfc = boto3.client('lakeformation')\n",
    "iamc = boto3.client('iam')\n",
    "ssmc = boto3.client('ssm')\n",
    "gluec = boto3.client('glue')\n"
   ],
   "outputs": [],
   "metadata": {}
  },
  {
   "cell_type": "code",
   "execution_count": null,
   "source": [
    "workspace = get_workspace()\n",
    "\n",
    "catalog_id = workspace['EksPodRoleArn'].split(':')[-2] \n",
    "orbit_lake_creator_role_arn = workspace['EksPodRoleArn']\n",
    "orbit_env_admin_role_arn = orbit_lake_creator_role_arn.replace(\"-lake-creator-role\", \"-admin\")\n",
    "env_name = workspace['env_name']\n",
    "team_space = workspace['team_space']\n",
    "assert team_space == 'lake-creator'\n",
    "workspace"
   ],
   "outputs": [],
   "metadata": {
    "pycharm": {
     "name": "#%%\n"
    }
   }
  },
  {
   "cell_type": "code",
   "execution_count": null,
   "source": [
    "# Define parameters\n",
    "unsecured_glue_db = f\"cms_raw_db_{env_name}\".replace('-', '_')\n",
    "secured_glue_db = f\"cms_secured_db_{env_name}\".replace('-', '_')"
   ],
   "outputs": [],
   "metadata": {
    "pycharm": {
     "name": "#%%\n"
    }
   }
  },
  {
   "cell_type": "markdown",
   "source": [
    "#### Create Low-Level Clients\n",
    "Next we must create clients for our different AWS services, lakeformation, iam, glue, & AWS Systems Manager (SSM). We will also use SSM to get the location of our secured bucket:\n"
   ],
   "metadata": {
    "pycharm": {
     "name": "#%% md\n"
    }
   }
  },
  {
   "cell_type": "code",
   "execution_count": null,
   "source": [
    "def get_ssm_parameters(ssm_string, ignore_not_found=False):\n",
    "    try:\n",
    "        return json.loads(ssmc.get_parameter(Name=ssm_string)['Parameter']['Value'])\n",
    "    except Exception as e:\n",
    "        if ignore_not_found:\n",
    "            return {}\n",
    "        else:\n",
    "            raise e\n",
    "\n",
    "def get_demo_configuration():\n",
    "    return get_ssm_parameters(f\"/orbit/{env_name}/demo\", True)\n",
    "\n",
    "demo_config = get_demo_configuration()\n",
    "lake_bucket = demo_config.get(\"LakeBucket\").split(':::')[1]\n",
    "secured_lake_bucket = demo_config.get(\"SecuredLakeBucket\").split(':::')[1]\n",
    "secured_location = f\"s3://{secured_lake_bucket}/{secured_glue_db}/\"\n",
    "\n",
    "(lake_bucket,secured_lake_bucket, secured_location)"
   ],
   "outputs": [],
   "metadata": {}
  },
  {
   "cell_type": "markdown",
   "source": [
    "#### Athena Connection\n",
    "Our last set up is to connect ot athena with a defualt database and check our connection by running a simple SQL query in our notebook:"
   ],
   "metadata": {
    "pycharm": {
     "name": "#%% md\n"
    }
   }
  },
  {
   "cell_type": "code",
   "execution_count": null,
   "source": [
    "%reload_ext sql\n",
    "%config SqlMagic.autocommit=False # for engines that do not support autommit\n",
    "athena = get_athena()\n",
    "%connect_to_athena -database default"
   ],
   "outputs": [],
   "metadata": {
    "collapsed": false,
    "jupyter": {
     "outputs_hidden": false
    },
    "pycharm": {
     "name": "#%%\n"
    }
   }
  },
  {
   "cell_type": "code",
   "execution_count": null,
   "source": [
    "%%sql\n",
    "\n",
    "SELECT 1 as \"Test\"\n"
   ],
   "outputs": [],
   "metadata": {
    "collapsed": false,
    "jupyter": {
     "outputs_hidden": false
    },
    "pycharm": {
     "name": "#%%\n"
    }
   }
  },
  {
   "cell_type": "markdown",
   "source": [
    "# Create Secured Database"
   ],
   "metadata": {}
  },
  {
   "cell_type": "markdown",
   "source": [
    "Let's begin by deregistering our secured bucket ARN if registered so that Lake Formation removes the path from the inline policy attached to your service-linked role.\n",
    "\n",
    "**Note:** We will then re-register the bucket location to use Lake Formation permissions for fine-grained access control to AWS Glue Data Catalog objects.\n",
    "\n",
    "Afterwards let's clean out our secured glue db if it exists and clean our s3 secured bucket to prepare for our new database creation (**CASCADE** clause tells Apache SQL to drop all tables along with database):\n"
   ],
   "metadata": {}
  },
  {
   "cell_type": "code",
   "execution_count": null,
   "source": [
    "# Deregister lakeformation location if its already exists\n",
    "try:\n",
    "    deregister_resource_response = lfc.deregister_resource(ResourceArn=f\"arn:aws:s3:::{secured_lake_bucket}\")\n",
    "    print(deregister_resource_response['ResponseMetadata']['HTTPStatusCode'])\n",
    "except Exception as e:\n",
    "    print(\"location was not yet registered\")\n",
    "    print(e)"
   ],
   "outputs": [],
   "metadata": {}
  },
  {
   "cell_type": "code",
   "execution_count": null,
   "source": [
    "# Drop and clean previous created database\n",
    "\n",
    "%sql drop database if exists $secured_glue_db CASCADE\n",
    "!aws s3 rm --recursive $secured_location --quiet"
   ],
   "outputs": [],
   "metadata": {
    "pycharm": {
     "name": "#%%\n"
    }
   }
  },
  {
   "cell_type": "markdown",
   "source": [
    "#### Create Database In Glue\n",
    "We are all set to start creating our secured database in our secured s3 location by running an Athena SQL query. We will quickly check our database list to ensure it was created succesfully:"
   ],
   "metadata": {}
  },
  {
   "cell_type": "code",
   "execution_count": null,
   "source": [
    "try:\n",
    "    gluec.get_database(Name=secured_glue_db)\n",
    "except gluec.exceptions.EntityNotFoundException as err:\n",
    "    print(f\"Database {secured_glue_db} doesn't exist. Creating {secured_glue_db}\")\n",
    "    create_db = f\"create database {secured_glue_db} LOCATION '{secured_location}'\"\n",
    "    create_db\n",
    "    athena.current_engine.execute(create_db)"
   ],
   "outputs": [],
   "metadata": {}
  },
  {
   "cell_type": "code",
   "execution_count": null,
   "source": [
    "%sql show databases"
   ],
   "outputs": [],
   "metadata": {}
  },
  {
   "cell_type": "markdown",
   "source": [
    "## Create Tables\n",
    "It's time to create new tables in our secured database from our unsecured database data. We will run a load_tables() function which iterate over all of the tables:\n",
    "\n",
    "The load_tables() function performs the following steps:\n",
    "\n",
    "- Retrieves the definitions of all the tables in our secured db as a list of the requested Table objects\n",
    "- For each table object creates a new Parquet formatted table in our secured database located in our secured s3 location\n",
    "- Runs a query on secured table to check if creation successful"
   ],
   "metadata": {}
  },
  {
   "cell_type": "code",
   "execution_count": null,
   "source": [
    "import time\n",
    "\n",
    "def load_tables():\n",
    "    response = gluec.get_tables(\n",
    "        DatabaseName=unsecured_glue_db\n",
    "    )\n",
    "    response\n",
    "    for table in response['TableList']:\n",
    "        createTable = \"\"\"\n",
    "                CREATE TABLE {}.{}\n",
    "                WITH (\n",
    "                    format = 'Parquet',\n",
    "                    parquet_compression = 'SNAPPY',\n",
    "                    external_location = '{}/{}'\n",
    "                )\n",
    "                AS\n",
    "                (select * from {}.{})                      \n",
    "            \"\"\".format(secured_glue_db,table['Name'], secured_location,table['Name'],unsecured_glue_db,table['Name'])\n",
    "\n",
    "        print(f'creating table {table[\"Name\"]}...')\n",
    "        athena.current_engine.execute(createTable)\n",
    "        print(f'created table {table[\"Name\"]}')\n",
    "        query = f\"select count(*) as {table['Name']}_count from {secured_glue_db}.{table['Name']}\"\n",
    "        try:\n",
    "            res = athena.current_engine.execute(query)\n",
    "        except: \n",
    "            print(\"Unexpected error:\", sys.exc_info()[0])\n",
    "            print(\"Try again to run query...\")\n",
    "            %sql drop database if exists $secured_glue_db CASCADE \n",
    "            !aws s3 rm --recursive $secured_location --quiet\n",
    "            !sleep 10s\n",
    "            # try one more time\n",
    "            res = athena.current_engine.execute(query)\n",
    "\n",
    "        df = DataFrame(res.fetchall())\n",
    "        print(df)\n"
   ],
   "outputs": [],
   "metadata": {}
  },
  {
   "cell_type": "code",
   "execution_count": null,
   "source": [
    "for i in range(0,3):\n",
    "    try:\n",
    "        load_tables()\n",
    "    except:\n",
    "        # try one more time\n",
    "        time.sleep(60)"
   ],
   "outputs": [],
   "metadata": {}
  },
  {
   "cell_type": "code",
   "execution_count": null,
   "source": [
    "%%sql\n",
    "\n",
    "SHOW TABLES IN {secured_glue_db};"
   ],
   "outputs": [],
   "metadata": {
    "collapsed": false,
    "jupyter": {
     "outputs_hidden": false
    },
    "pycharm": {
     "name": "#%%\n"
    }
   }
  },
  {
   "cell_type": "markdown",
   "source": [
    "# Adding Lakeformation policy tags to the resources - Database, Tables and Columns.\n",
    "\n",
    "Our secured database is filled with all of our data but we must now configure security and access permissions for our differnet tables. By default , columns in a table have the lowest security tagging. To fix this, we must tag the columns and tables with higher security access.\n",
    "\n",
    "**Note:** Policy Tag usage in the example - sec-1(more secure) > sec-5(less secured)"
   ],
   "metadata": {}
  },
  {
   "cell_type": "code",
   "execution_count": null,
   "outputs": [],
   "source": [
    "orbit_env_lf_tag_key = workspace['env_name']+'-security-level'"
   ],
   "metadata": {
    "collapsed": false,
    "pycharm": {
     "name": "#%%\n"
    }
   }
  },
  {
   "cell_type": "markdown",
   "source": [
    "# Database Level Tagging\n",
    "\n",
    "Adding policy tag to Database will allow all tables and respective columns to inherit the policy tag"
   ],
   "metadata": {}
  },
  {
   "cell_type": "code",
   "execution_count": null,
   "source": [
    "db_add_lf_tags_to_resource_response = lfc.add_lf_tags_to_resource(\n",
    "    CatalogId=catalog_id,\n",
    "    Resource={\n",
    "        'Database': {\n",
    "            'CatalogId': catalog_id,\n",
    "            'Name': secured_glue_db\n",
    "        },\n",
    "    },\n",
    "    LFTags=[\n",
    "        {\n",
    "            'CatalogId': catalog_id,\n",
    "            'TagKey': orbit_env_lf_tag_key,\n",
    "            'TagValues': [\n",
    "                'sec-5',\n",
    "            ]\n",
    "        },\n",
    "    ]\n",
    ")\n"
   ],
   "outputs": [],
   "metadata": {}
  },
  {
   "cell_type": "code",
   "execution_count": null,
   "source": [
    "assert 200 == db_add_lf_tags_to_resource_response['ResponseMetadata']['HTTPStatusCode']"
   ],
   "outputs": [],
   "metadata": {}
  },
  {
   "cell_type": "markdown",
   "source": [
    "# Table with high security access\n",
    "\n",
    "One way to increase security is to tag an entire table with a higher security level. Here we will give a table a sec-4 security level.\n",
    "Overrides the database inherited tag."
   ],
   "metadata": {}
  },
  {
   "cell_type": "code",
   "execution_count": null,
   "source": [
    "table_add_lf_tags_to_resource_response = lfc.add_lf_tags_to_resource(\n",
    "    CatalogId=catalog_id,\n",
    "    Resource={\n",
    "        'Table': {\n",
    "            'CatalogId': catalog_id,\n",
    "            'DatabaseName': secured_glue_db,\n",
    "            'Name': 'inpatient_claims',\n",
    "        },\n",
    "    },\n",
    "    LFTags=[\n",
    "        {\n",
    "            'CatalogId': catalog_id,\n",
    "            'TagKey': orbit_env_lf_tag_key,\n",
    "            'TagValues': [\n",
    "                'sec-4',\n",
    "            ]\n",
    "        },\n",
    "    ]\n",
    ")"
   ],
   "outputs": [],
   "metadata": {}
  },
  {
   "cell_type": "code",
   "execution_count": null,
   "source": [
    "assert 200 == table_add_lf_tags_to_resource_response['ResponseMetadata']['HTTPStatusCode']"
   ],
   "outputs": [],
   "metadata": {}
  },
  {
   "cell_type": "markdown",
   "source": [
    "## Column Level Tagging\n",
    "\n",
    "Tagging two columns 'sp_depressn' and 'sp_diabetes' with a higher security access (sec-2) while the table gets a security access level of sec-5( inherited from database):"
   ],
   "metadata": {}
  },
  {
   "cell_type": "code",
   "execution_count": null,
   "source": [
    "table_columns_add_lf_tags_to_resource_response = lfc.add_lf_tags_to_resource(\n",
    "    CatalogId=catalog_id,\n",
    "    Resource={\n",
    "        'TableWithColumns': {\n",
    "            'CatalogId': catalog_id,\n",
    "            'DatabaseName': secured_glue_db,\n",
    "            'Name': 'beneficiary_summary',\n",
    "            'ColumnNames': [\n",
    "                'sp_depressn',\n",
    "                'sp_diabetes'\n",
    "            ]\n",
    "        },\n",
    "    },\n",
    "    LFTags=[\n",
    "        {\n",
    "            'CatalogId': catalog_id,\n",
    "            'TagKey': orbit_env_lf_tag_key,\n",
    "            'TagValues': [\n",
    "                'sec-2',\n",
    "            ]\n",
    "        },\n",
    "    ]\n",
    ")"
   ],
   "outputs": [],
   "metadata": {}
  },
  {
   "cell_type": "code",
   "execution_count": null,
   "source": [
    "assert 200 == table_columns_add_lf_tags_to_resource_response['ResponseMetadata']['HTTPStatusCode']"
   ],
   "outputs": [],
   "metadata": {}
  },
  {
   "cell_type": "markdown",
   "source": [
    "\n",
    "---\n",
    "## Securing the Database Using LakeFormation\n",
    "\n",
    "Lastly, after securing our tables in our database, we have a few more steps to finalize our LakeFormation."
   ],
   "metadata": {}
  },
  {
   "cell_type": "markdown",
   "source": [
    "#### Registering Database\n",
    "\n",
    "Registering our s3 bucket ARN registers the resource as managed by the Data Catalog. By establishing **UseServiceLinkedRole=True** we designates an AWS IAM service-linked role by registering this role with the Data Catalog.\n",
    "\n",
    "Our lake formation can now access our secured bucket and work with our data:"
   ],
   "metadata": {}
  },
  {
   "cell_type": "code",
   "execution_count": null,
   "source": [
    "reg_s3_location_response = lfc.register_resource(ResourceArn=f\"arn:aws:s3:::{secured_lake_bucket}\",UseServiceLinkedRole=True)\n"
   ],
   "outputs": [],
   "metadata": {}
  },
  {
   "cell_type": "code",
   "execution_count": null,
   "source": [
    "assert 200 == reg_s3_location_response['ResponseMetadata']['HTTPStatusCode']"
   ],
   "outputs": [],
   "metadata": {}
  },
  {
   "cell_type": "markdown",
   "source": [
    "#### Revoking IAM Default Permissions\n",
    "\n",
    "In our default account settings,  we are using the \"Use only IAM Access control for new databases\".  Therefore our new database is providing Super access to all IAM users.  In the next cell , we will revoke this privilieges to leave only the specific Orbit Lake User IAM role."
   ],
   "metadata": {
    "pycharm": {
     "name": "#%% md\n"
    }
   }
  },
  {
   "cell_type": "code",
   "execution_count": null,
   "source": [
    "def revoke_database_tables_super_permissions(database_name):\n",
    "    response = gluec.get_tables(\n",
    "        DatabaseName=database_name\n",
    "    )\n",
    "    for table in response['TableList']:\n",
    "        try:\n",
    "            response = lfc.revoke_permissions(\n",
    "                Principal={\n",
    "                    'DataLakePrincipalIdentifier': 'IAM_ALLOWED_PRINCIPALS'\n",
    "                },\n",
    "                Resource={\n",
    "                    'Table': {\n",
    "                        'DatabaseName': database_name,\n",
    "                        'Name': table['Name']\n",
    "                    }\n",
    "                },\n",
    "                Permissions=[\n",
    "                    'ALL'\n",
    "                ]\n",
    "            )\n",
    "        except lfc.exceptions.InvalidInputException as err:\n",
    "            print(err)\n",
    "revoke_database_tables_super_permissions(secured_glue_db)"
   ],
   "outputs": [],
   "metadata": {
    "collapsed": false,
    "jupyter": {
     "outputs_hidden": false
    },
    "pycharm": {
     "name": "#%%\n"
    }
   }
  },
  {
   "cell_type": "code",
   "execution_count": null,
   "source": [
    "def revoke_database_super_permissions(database_name):\n",
    "    try:\n",
    "        response = lfc.revoke_permissions(\n",
    "            Principal={\n",
    "                'DataLakePrincipalIdentifier': 'IAM_ALLOWED_PRINCIPALS'\n",
    "            },\n",
    "            Resource={\n",
    "                'Database': {\n",
    "                    'CatalogId': catalog_id,\n",
    "                    'Name': database_name\n",
    "                },\n",
    "            },\n",
    "            Permissions=[\n",
    "                'ALL'\n",
    "            ]\n",
    "        )\n",
    "    except lfc.exceptions.InvalidInputException as err:\n",
    "            print(err)\n",
    "revoke_database_super_permissions(secured_glue_db)\n"
   ],
   "outputs": [],
   "metadata": {
    "collapsed": false,
    "jupyter": {
     "outputs_hidden": false
    },
    "pycharm": {
     "name": "#%%\n"
    }
   }
  },
  {
   "cell_type": "code",
   "execution_count": null,
   "source": [
    "#Used for cleanup operations.\n",
    "def grant_creator_drop_permission(database_name):\n",
    "    response = lfc.grant_permissions(\n",
    "        CatalogId=catalog_id,\n",
    "        Principal={\n",
    "            'DataLakePrincipalIdentifier': orbit_lake_creator_role_arn\n",
    "        },\n",
    "        Resource={\n",
    "            'Database': {\n",
    "                'CatalogId': catalog_id,\n",
    "                'Name': database_name\n",
    "            }\n",
    "        },\n",
    "        Permissions=[\n",
    "            'DROP'\n",
    "        ]\n",
    "    )\n",
    "    print(response)\n",
    "grant_creator_drop_permission(secured_glue_db)\n",
    "\n"
   ],
   "outputs": [],
   "metadata": {
    "collapsed": false,
    "jupyter": {
     "outputs_hidden": false
    },
    "pycharm": {
     "name": "#%%\n"
    }
   }
  },
  {
   "cell_type": "markdown",
   "source": [
    "# Quick check on the created tables.\n"
   ],
   "metadata": {}
  },
  {
   "cell_type": "code",
   "execution_count": null,
   "source": [
    "%reload_ext sql\n",
    "%config SqlMagic.autocommit=False # for engines that do not support autommit\n",
    "athena = get_athena()\n"
   ],
   "outputs": [],
   "metadata": {}
  },
  {
   "cell_type": "code",
   "execution_count": null,
   "source": [
    "%connect_to_athena -database secured_glue_db\n"
   ],
   "outputs": [],
   "metadata": {}
  },
  {
   "cell_type": "code",
   "execution_count": null,
   "source": [
    "%sql select * from {secured_glue_db}.inpatient_claims limit 1"
   ],
   "outputs": [],
   "metadata": {}
  },
  {
   "cell_type": "code",
   "execution_count": null,
   "source": [
    "%sql select sp_depressn, sp_diabetes from {secured_glue_db}.beneficiary_summary limit 1"
   ],
   "outputs": [],
   "metadata": {}
  },
  {
   "cell_type": "code",
   "execution_count": null,
   "source": [
    "%sql select clm_pmt_amt, nch_prmry_pyr_clm_pd_amt from {secured_glue_db}.outpatient_claims limit 1"
   ],
   "outputs": [],
   "metadata": {}
  },
  {
   "cell_type": "markdown",
   "source": [
    "# End of orbit lake creator demo notebook."
   ],
   "metadata": {}
  }
 ],
 "metadata": {
  "kernelspec": {
   "display_name": "Python 3",
   "language": "python",
   "name": "python3"
  },
  "language_info": {
   "codemirror_mode": {
    "name": "ipython",
    "version": 3
   },
   "file_extension": ".py",
   "mimetype": "text/x-python",
   "name": "python",
   "nbconvert_exporter": "python",
   "pygments_lexer": "ipython3",
   "version": "3.8.8"
  }
 },
 "nbformat": 4,
 "nbformat_minor": 5
}