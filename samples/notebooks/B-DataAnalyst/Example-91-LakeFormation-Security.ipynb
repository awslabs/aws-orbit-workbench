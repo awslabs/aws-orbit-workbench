{
 "cells": [
  {
   "cell_type": "markdown",
   "id": "aec51648",
   "metadata": {
    "pycharm": {
     "name": "#%% md\n"
    }
   },
   "source": [
    "# Tag-based Security Access with Lake Formation Demonstration\n",
    "***Lake User Read Permission Examples Using Tag-based Security Access***\n",
    "___\n",
    "---\n",
    "\n",
    "## Contents\n",
    "1. [Introduction](#Introduction)\n",
    "2. [Set Up](#Set-Up)\n",
    " 1. [Imports and Parameters](#Imports-and-Parameters)\n",
    " 2. [Establish Athena Connection](#Establish-Athena-Connection)\n",
    "3. [Demonstrate use of Secured LakeFormation Databases](#Demonstrate-use-of-Secured-LakeFormation-Databases)\n",
    " 1. Read from a secured database table with sec-5 tag\n",
    " 2. Read from secured table with sec-4\n",
    " 3. Read from secured columns with sec-2 policy tagging\n",
    "4. Check secured data  bucket access\n",
    "5. [Redshift Demo](#Redshift-Demo)\n",
    " 1. [Connect to Redshift](#Connect-to-Redshift)\n",
    " 2. [Create External Schema](#Create-External-Schema)\n",
    " 3. [Perform Queries with Security Checks](#Perform-Queries-with-Security-Checks)\n",
    "\n",
    "---\n",
    "## Introduction\n",
    "This notebook dives deeps into the Tag-based Security Access in AWS LakeFormation. It illustrates the following:\n",
    "\n",
    "* Ability to verify the LakeFormation tag based access control over databases, tables and columns.\n",
    "\n",
    "* Support Athena, Redshift, Glue\n",
    "\n",
    "---\n",
    "\n",
    "##### Author: AWS Professional Services Emerging Technology and Intelligent Platforms Group\n",
    "##### Date: June 10 2020\n"
   ]
  },
  {
   "cell_type": "code",
   "execution_count": null,
   "id": "9123a240",
   "metadata": {},
   "outputs": [],
   "source": [
    "%reload_ext sql\n"
   ]
  },
  {
   "cell_type": "code",
   "execution_count": null,
   "id": "da069664",
   "metadata": {},
   "outputs": [],
   "source": [
    "# Imports\n",
    "import boto3\n",
    "# import orbit helpers\n",
    "from aws_orbit_sdk.database import get_athena\n",
    "from aws_orbit_sdk.common import get_workspace\n",
    "workspace = get_workspace()\n",
    "\n",
    "team_space = workspace['team_space']\n",
    "region = workspace['region']\n",
    "env_name = workspace['env_name']\n",
    "assert team_space == 'lake-user'\n",
    "\n",
    "catalog_id = workspace['EksPodRoleArn'].split(':')[-2] "
   ]
  },
  {
   "cell_type": "code",
   "execution_count": null,
   "id": "76d3019b",
   "metadata": {},
   "outputs": [],
   "source": [
    "lfc = boto3.client('lakeformation')\n",
    "iamc = boto3.client('iam')\n",
    "ssmc = boto3.client('ssm')\n",
    "gluec = boto3.client('glue')"
   ]
  },
  {
   "cell_type": "code",
   "execution_count": null,
   "id": "682086b2",
   "metadata": {},
   "outputs": [],
   "source": [
    "secured_glue_db = f\"cms_secured_db_{env_name}\"\n",
    "unsecured_glue_db = f\"cms_raw_db_{env_name}\""
   ]
  },
  {
   "cell_type": "code",
   "execution_count": null,
   "id": "871d986d",
   "metadata": {},
   "outputs": [],
   "source": [
    "%reload_ext sql\n",
    "%config SqlMagic.autocommit=False # for engines that do not support autommit\n",
    "athena = get_athena()\n",
    "%connect_to_athena -database default"
   ]
  },
  {
   "cell_type": "code",
   "execution_count": null,
   "id": "dd7cf6b3",
   "metadata": {},
   "outputs": [],
   "source": [
    "%sql show databases"
   ]
  },
  {
   "cell_type": "code",
   "execution_count": null,
   "id": "d6703d11",
   "metadata": {},
   "outputs": [],
   "source": [
    "%connect_to_athena -database $secured_glue_db\n"
   ]
  },
  {
   "cell_type": "code",
   "execution_count": null,
   "id": "6ff78583",
   "metadata": {},
   "outputs": [],
   "source": [
    "%catalog -database $secured_glue_db"
   ]
  },
  {
   "cell_type": "markdown",
   "id": "aef631bb",
   "metadata": {},
   "source": [
    "# Establish Athena Connection"
   ]
  },
  {
   "cell_type": "code",
   "execution_count": null,
   "id": "4cea31c1",
   "metadata": {},
   "outputs": [],
   "source": [
    "%reload_ext sql\n",
    "athena_url = athena.get_connection_to_athena({secured_glue_db})['db_url']\n",
    "athena_url"
   ]
  },
  {
   "cell_type": "code",
   "execution_count": null,
   "id": "5b237bc5",
   "metadata": {},
   "outputs": [],
   "source": [
    "%sql $athena_url"
   ]
  },
  {
   "cell_type": "code",
   "execution_count": null,
   "id": "f965684f",
   "metadata": {},
   "outputs": [],
   "source": [
    "%%sql $athena_url\n",
    "\n",
    "SELECT 1 as \"Test\""
   ]
  },
  {
   "cell_type": "markdown",
   "id": "8fdf3c99",
   "metadata": {},
   "source": [
    "# Demonstrate use of Secured LakeFormation Databases"
   ]
  },
  {
   "cell_type": "markdown",
   "id": "5208c816",
   "metadata": {},
   "source": [
    "## Read from a secured database table with sec-5 tag"
   ]
  },
  {
   "cell_type": "code",
   "execution_count": null,
   "id": "2f4d2331",
   "metadata": {},
   "outputs": [],
   "source": [
    "%%sql $athena_url secured_carrier_claims <<\n",
    "\n",
    "select * from {secured_glue_db}.carrier_claims limit 2"
   ]
  },
  {
   "cell_type": "code",
   "execution_count": null,
   "id": "6b2bb728",
   "metadata": {},
   "outputs": [],
   "source": [
    "secured_carrier_claims"
   ]
  },
  {
   "cell_type": "markdown",
   "id": "7e8a7331",
   "metadata": {},
   "source": [
    "## Read from secured table with sec-4"
   ]
  },
  {
   "cell_type": "code",
   "execution_count": null,
   "id": "c052458d",
   "metadata": {},
   "outputs": [],
   "source": [
    "cms_secured_db_response=%catalog -database $secured_glue_db"
   ]
  },
  {
   "cell_type": "code",
   "execution_count": null,
   "id": "92e6f094",
   "metadata": {},
   "outputs": [],
   "source": [
    "cms_secured_db_tables_for_lake_user = [table_name for table_name in cms_secured_db_response.data.keys() ]"
   ]
  },
  {
   "cell_type": "code",
   "execution_count": null,
   "id": "7cee0dea",
   "metadata": {},
   "outputs": [],
   "source": [
    "assert ('inpatient_claims' not in cms_secured_db_tables_for_lake_user)"
   ]
  },
  {
   "cell_type": "code",
   "execution_count": null,
   "id": "dd3d5407",
   "metadata": {},
   "outputs": [],
   "source": [
    "%%sql $athena_url secured_inpatient_claims <<\n",
    "select * from {secured_glue_db}.inpatient_claims limit 1"
   ]
  },
  {
   "cell_type": "code",
   "execution_count": null,
   "id": "bc5edff4",
   "metadata": {},
   "outputs": [],
   "source": [
    "\n",
    "try: secured_inpatient_claims\n",
    "except NameError: \n",
    "    print('Success')"
   ]
  },
  {
   "cell_type": "markdown",
   "id": "4bc44cf2",
   "metadata": {},
   "source": [
    "## Read from secured columns with sec-2 policy tagging"
   ]
  },
  {
   "cell_type": "code",
   "execution_count": null,
   "id": "e89cb688",
   "metadata": {},
   "outputs": [],
   "source": [
    "%%sql $athena_url secured_beneficiary_summary <<\n",
    "select * from {secured_glue_db}.beneficiary_summary limit 1"
   ]
  },
  {
   "cell_type": "code",
   "execution_count": null,
   "id": "ab12e1b2",
   "metadata": {},
   "outputs": [],
   "source": [
    "assert('sp_depressn' not in secured_beneficiary_summary.field_names)\n",
    "assert('sp_diabetes' not in secured_beneficiary_summary.field_names)"
   ]
  },
  {
   "cell_type": "code",
   "execution_count": null,
   "id": "f2dce25d",
   "metadata": {},
   "outputs": [],
   "source": [
    "secured_beneficiary_summary"
   ]
  },
  {
   "cell_type": "markdown",
   "id": "cf9a44bf",
   "metadata": {},
   "source": [
    "## Check secured data  bucket access"
   ]
  },
  {
   "cell_type": "code",
   "execution_count": null,
   "id": "1c034584",
   "metadata": {},
   "outputs": [],
   "source": [
    "!aws s3 ls s3://orbit-dev-env-${region}-secured-demo-lake-044923722733-smqduj/"
   ]
  },
  {
   "cell_type": "markdown",
   "id": "34fc7f90",
   "metadata": {
    "pycharm": {
     "name": "#%% md\n"
    }
   },
   "source": [
    "## Redshift Demo\n",
    "\n",
    "Now let's import Redshift and connect to a Redshift cluster to demo how we can use Redshift to query our databases. Redshift will integrate well with our LakeFormation and our read permissions will be the same as with the previous Athena demo for our secured dataset based on our tags:\n",
    "\n",
    "\n",
    "#### Connect to Redshift\n",
    "First, lets connect to redshift using our db_url and check to see if our connection was succesful:"
   ]
  },
  {
   "cell_type": "code",
   "execution_count": null,
   "id": "5adbc52b",
   "metadata": {
    "collapsed": false,
    "jupyter": {
     "outputs_hidden": false
    },
    "pycharm": {
     "name": "#%%\n"
    }
   },
   "outputs": [],
   "source": [
    "%reload_ext sql\n",
    "from aws_orbit_sdk.database import get_redshift\n",
    "rs = get_redshift()"
   ]
  },
  {
   "cell_type": "code",
   "execution_count": null,
   "id": "273e9f40",
   "metadata": {
    "collapsed": false,
    "jupyter": {
     "outputs_hidden": false
    },
    "pycharm": {
     "name": "#%%\n"
    }
   },
   "outputs": [],
   "source": [
    "%connect_to_redshift -cluster db-lf -reuse -start -func Standard Nodes=3"
   ]
  },
  {
   "cell_type": "code",
   "execution_count": null,
   "id": "b5252ac2",
   "metadata": {
    "collapsed": false,
    "jupyter": {
     "outputs_hidden": false
    },
    "pycharm": {
     "name": "#%%\n"
    }
   },
   "outputs": [],
   "source": [
    "%%sql\n",
    "\n",
    "SELECT 1 as \"Test\""
   ]
  },
  {
   "cell_type": "code",
   "execution_count": null,
   "id": "80842c8b",
   "metadata": {
    "collapsed": false,
    "jupyter": {
     "outputs_hidden": false
    },
    "pycharm": {
     "name": "#%%\n"
    }
   },
   "outputs": [],
   "source": [
    "%%ddl --a secured_glue_db=$secured_glue_db\n",
    "drop schema if exists :secured_glue_db\n"
   ]
  },
  {
   "cell_type": "code",
   "execution_count": null,
   "id": "af645517",
   "metadata": {
    "collapsed": false,
    "jupyter": {
     "outputs_hidden": false
    },
    "pycharm": {
     "name": "#%%\n"
    }
   },
   "outputs": [],
   "source": [
    "%%ddl --a unsecured_glue_db=$unsecured_glue_db\n",
    "drop schema if exists :unsecured_glue_db"
   ]
  },
  {
   "cell_type": "code",
   "execution_count": null,
   "id": "5df0b888",
   "metadata": {
    "collapsed": false,
    "jupyter": {
     "outputs_hidden": false
    },
    "pycharm": {
     "name": "#%%\n"
    }
   },
   "outputs": [],
   "source": [
    "%create_external_schema -s $unsecured_glue_db -g $unsecured_glue_db\n",
    "%create_external_schema -s $secured_glue_db -g $secured_glue_db\n"
   ]
  },
  {
   "cell_type": "code",
   "execution_count": null,
   "id": "c6331c63",
   "metadata": {
    "collapsed": false,
    "jupyter": {
     "outputs_hidden": false
    },
    "pycharm": {
     "name": "#%%\n"
    }
   },
   "outputs": [],
   "source": [
    "redshift_conn = rs.connect_to_redshift('db-lf')\n",
    "conn_url = redshift_conn['db_url']"
   ]
  },
  {
   "cell_type": "code",
   "execution_count": null,
   "id": "a248ea38",
   "metadata": {
    "collapsed": false,
    "jupyter": {
     "outputs_hidden": false
    },
    "pycharm": {
     "name": "#%%\n"
    }
   },
   "outputs": [],
   "source": [
    "%sql $conn_url"
   ]
  },
  {
   "cell_type": "markdown",
   "id": "fdf2cfc8",
   "metadata": {},
   "source": [
    "#### Create External Schema\n",
    "Now, let's set our schema in our red shift cluster based on the schema and metadata we have in our existing databases:\n"
   ]
  },
  {
   "cell_type": "code",
   "execution_count": null,
   "id": "43df8190",
   "metadata": {
    "collapsed": false,
    "jupyter": {
     "outputs_hidden": false
    },
    "pycharm": {
     "name": "#%%\n"
    }
   },
   "outputs": [],
   "source": [
    "%create_external_schema -s $unsecured_glue_db -g $unsecured_glue_db\n",
    "%create_external_schema -s $secured_glue_db -g $secured_glue_db"
   ]
  },
  {
   "cell_type": "markdown",
   "id": "bf7ee56b",
   "metadata": {},
   "source": [
    "#### Perform Queries with Security Checks\n",
    "Finally, we can query the same tables and check our read permissions for each table. We will read once from the unsecured database and once from a level 5 tagged table and 2 more secure columns.\n",
    "\n",
    "As you can see the security permissions match the permissions when using Athena:"
   ]
  },
  {
   "cell_type": "code",
   "execution_count": null,
   "id": "821a7b1b",
   "metadata": {
    "collapsed": false,
    "jupyter": {
     "outputs_hidden": false
    },
    "pycharm": {
     "name": "#%%\n"
    }
   },
   "outputs": [],
   "source": [
    "%%sql $conn_url unsecured <<\n",
    "\n",
    "select *\n",
    "from {unsecured_glue_db}.beneficiary_summary\n",
    "limit 5\n"
   ]
  },
  {
   "cell_type": "code",
   "execution_count": null,
   "id": "2f29e50a",
   "metadata": {
    "collapsed": false,
    "jupyter": {
     "outputs_hidden": false
    },
    "pycharm": {
     "name": "#%%\n"
    }
   },
   "outputs": [],
   "source": [
    "unsecured"
   ]
  },
  {
   "cell_type": "code",
   "execution_count": null,
   "id": "f674ca75",
   "metadata": {
    "collapsed": false,
    "jupyter": {
     "outputs_hidden": false
    },
    "pycharm": {
     "name": "#%%\n"
    }
   },
   "outputs": [],
   "source": [
    "assert('sp_depressn' in unsecured.field_names)\n",
    "assert('sp_diabetes' in unsecured.field_names)"
   ]
  },
  {
   "cell_type": "code",
   "execution_count": null,
   "id": "a212aee2",
   "metadata": {
    "collapsed": false,
    "jupyter": {
     "outputs_hidden": false
    },
    "pycharm": {
     "name": "#%%\n"
    }
   },
   "outputs": [],
   "source": [
    "%%sql $conn_url secured <<\n",
    "\n",
    "\n",
    "select *\n",
    "from {secured_glue_db}.beneficiary_summary\n",
    "limit 5"
   ]
  },
  {
   "cell_type": "code",
   "execution_count": null,
   "id": "6d57f3eb",
   "metadata": {
    "collapsed": false,
    "jupyter": {
     "outputs_hidden": false
    },
    "pycharm": {
     "name": "#%%\n"
    }
   },
   "outputs": [],
   "source": [
    "secured"
   ]
  },
  {
   "cell_type": "code",
   "execution_count": null,
   "id": "1b1875d5",
   "metadata": {
    "collapsed": false,
    "jupyter": {
     "outputs_hidden": false
    },
    "pycharm": {
     "name": "#%%\n"
    }
   },
   "outputs": [],
   "source": [
    "assert('sp_depressn' not in secured.field_names)\n",
    "assert('sp_diabetes' not in secured.field_names)"
   ]
  },
  {
   "cell_type": "code",
   "execution_count": null,
   "id": "c9611f63",
   "metadata": {
    "collapsed": false,
    "jupyter": {
     "outputs_hidden": false
    },
    "pycharm": {
     "name": "#%%\n"
    }
   },
   "outputs": [],
   "source": [
    "# Deleting redshift cluster\n",
    "%delete_redshift_cluster -cluster db-lf"
   ]
  },
  {
   "cell_type": "markdown",
   "id": "142dafcd",
   "metadata": {},
   "source": [
    "# End of Lake User demo notebook"
   ]
  }
 ],
 "metadata": {
  "kernelspec": {
   "display_name": "Python 3",
   "language": "python",
   "name": "python3"
  },
  "language_info": {
   "codemirror_mode": {
    "name": "ipython",
    "version": 3
   },
   "file_extension": ".py",
   "mimetype": "text/x-python",
   "name": "python",
   "nbconvert_exporter": "python",
   "pygments_lexer": "ipython3",
   "version": "3.8.8"
  }
 },
 "nbformat": 4,
 "nbformat_minor": 5
}
