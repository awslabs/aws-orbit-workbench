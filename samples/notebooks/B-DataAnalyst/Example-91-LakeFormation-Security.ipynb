{
 "cells": [
  {
   "cell_type": "markdown",
   "source": [
    "# Tag-based Security Access with Lake Formation Demonstration\n",
    "***Lake User Read Permission Examples Using Tag-based Security Access***\n",
    "___\n",
    "---\n",
    "\n",
    "## Contents\n",
    "1. [Introduction](#Introduction)\n",
    "2. [Set Up](#Set-Up)\n",
    " 1. [Imports and Parameters](#Imports-and-Parameters)\n",
    " 2. [Establish Athena Connection](#Establish-Athena-Connection)\n",
    "3. [Demonstrate use of Secured LakeFormation Databases](#Demonstrate-use-of-Secured-LakeFormation-Databases)\n",
    " 1. Read from a secured database table with sec-5 tag\n",
    " 2. Read from secured table with sec-4\n",
    " 3. Read from secured columns with sec-2 policy tagging\n",
    "4. Check secured data  bucket access\n",
    "5. [Redshift Demo](#Redshift-Demo)\n",
    " 1. [Connect to Redshift](#Connect-to-Redshift)\n",
    " 2. [Create External Schema](#Create-External-Schema)\n",
    " 3. [Perform Queries with Security Checks](#Perform-Queries-with-Security-Checks)\n",
    "\n",
    "---\n",
    "## Introduction\n",
    "This notebook dives deeps into the Tag-based Security Access in AWS LakeFormation. It illustrates the following:\n",
    "\n",
    "* Ability to verify the LakeFormation tag based access control over databases, tables and columns.\n",
    "\n",
    "* Support Athena, Redshift, Glue\n",
    "\n",
    "---\n",
    "\n",
    "##### Author: AWS Professional Services Emerging Technology and Intelligent Platforms Group\n",
    "##### Date: June 10 2020\n"
   ],
   "metadata": {
    "pycharm": {
     "name": "#%% md\n"
    }
   }
  },
  {
   "cell_type": "code",
   "execution_count": null,
   "source": [
    "%reload_ext sql\n"
   ],
   "outputs": [],
   "metadata": {}
  },
  {
   "cell_type": "code",
   "execution_count": null,
   "source": [
    "# Imports\n",
    "import boto3\n",
    "# import orbit helpers\n",
    "from aws_orbit_sdk.database import get_athena\n",
    "from aws_orbit_sdk.common import get_workspace\n",
    "workspace = get_workspace()\n",
    "\n",
    "team_space = workspace['team_space']\n",
    "region = workspace['region']\n",
    "assert team_space == 'lake-user'\n",
    "\n",
    "catalog_id = workspace['EksPodRoleArn'].split(':')[-2] "
   ],
   "outputs": [],
   "metadata": {}
  },
  {
   "cell_type": "code",
   "execution_count": null,
   "source": [
    "lfc = boto3.client('lakeformation')\n",
    "iamc = boto3.client('iam')\n",
    "ssmc = boto3.client('ssm')\n",
    "gluec = boto3.client('glue')"
   ],
   "outputs": [],
   "metadata": {}
  },
  {
   "cell_type": "code",
   "execution_count": null,
   "source": [
    "secured_glue_db = \"cms_secured_db\""
   ],
   "outputs": [],
   "metadata": {}
  },
  {
   "cell_type": "code",
   "execution_count": null,
   "source": [
    "%reload_ext sql\n",
    "%config SqlMagic.autocommit=False # for engines that do not support autommit\n",
    "athena = get_athena()\n",
    "%connect_to_athena -database default"
   ],
   "outputs": [],
   "metadata": {}
  },
  {
   "cell_type": "code",
   "execution_count": null,
   "source": [
    "%sql show databases"
   ],
   "outputs": [],
   "metadata": {}
  },
  {
   "cell_type": "code",
   "execution_count": null,
   "source": [
    "%connect_to_athena -database cms_secured_db\n"
   ],
   "outputs": [],
   "metadata": {}
  },
  {
   "cell_type": "code",
   "execution_count": null,
   "source": [
    "%catalog -database cms_secured_db"
   ],
   "outputs": [],
   "metadata": {}
  },
  {
   "cell_type": "markdown",
   "source": [
    "# Establish Athena Connection"
   ],
   "metadata": {}
  },
  {
   "cell_type": "code",
   "execution_count": null,
   "source": [
    "%reload_ext sql\n",
    "athena_url = athena.get_connection_to_athena('secured_glue_db')['db_url']\n",
    "athena_url"
   ],
   "outputs": [],
   "metadata": {}
  },
  {
   "cell_type": "code",
   "execution_count": null,
   "source": [
    "%sql $athena_url"
   ],
   "outputs": [],
   "metadata": {}
  },
  {
   "cell_type": "code",
   "execution_count": null,
   "source": [
    "%%sql $athena_url\n",
    "\n",
    "SELECT 1 as \"Test\""
   ],
   "outputs": [],
   "metadata": {}
  },
  {
   "cell_type": "markdown",
   "source": [
    "# Demonstrate use of Secured LakeFormation Databases"
   ],
   "metadata": {}
  },
  {
   "cell_type": "markdown",
   "source": [
    "## Read from a secured database table with sec-5 tag"
   ],
   "metadata": {}
  },
  {
   "cell_type": "code",
   "execution_count": null,
   "source": [
    "%%sql $athena_url secured_carrier_claims <<\n",
    "\n",
    "select * from cms_secured_db.carrier_claims limit 2"
   ],
   "outputs": [],
   "metadata": {}
  },
  {
   "cell_type": "code",
   "execution_count": null,
   "source": [
    "secured_carrier_claims"
   ],
   "outputs": [],
   "metadata": {}
  },
  {
   "cell_type": "markdown",
   "source": [
    "## Read from secured table with sec-4"
   ],
   "metadata": {}
  },
  {
   "cell_type": "code",
   "execution_count": null,
   "source": [
    "cms_secured_db_response=%catalog -database cms_secured_db"
   ],
   "outputs": [],
   "metadata": {}
  },
  {
   "cell_type": "code",
   "execution_count": null,
   "source": [
    "cms_secured_db_tables_for_lake_user = [table_name for table_name in cms_secured_db_response.data.keys() ]"
   ],
   "outputs": [],
   "metadata": {}
  },
  {
   "cell_type": "code",
   "execution_count": null,
   "source": [
    "assert ('inpatient_claims' not in cms_secured_db_tables_for_lake_user)"
   ],
   "outputs": [],
   "metadata": {}
  },
  {
   "cell_type": "code",
   "execution_count": null,
   "source": [
    "%%sql $athena_url secured_inpatient_claims <<\n",
    "select * from cms_secured_db.inpatient_claims limit 1"
   ],
   "outputs": [],
   "metadata": {}
  },
  {
   "cell_type": "code",
   "execution_count": null,
   "source": [
    "\n",
    "try: secured_inpatient_claims\n",
    "except NameError: \n",
    "    print('Success')"
   ],
   "outputs": [],
   "metadata": {}
  },
  {
   "cell_type": "markdown",
   "source": [
    "## Read from secured columns with sec-2 policy tagging"
   ],
   "metadata": {}
  },
  {
   "cell_type": "code",
   "execution_count": null,
   "source": [
    "%%sql $athena_url secured_beneficiary_summary <<\n",
    "select * from cms_secured_db.beneficiary_summary limit 1"
   ],
   "outputs": [],
   "metadata": {}
  },
  {
   "cell_type": "code",
   "execution_count": null,
   "source": [
    "assert('sp_depressn' not in secured_beneficiary_summary.field_names)\n",
    "assert('sp_diabetes' not in secured_beneficiary_summary.field_names)"
   ],
   "outputs": [],
   "metadata": {}
  },
  {
   "cell_type": "code",
   "execution_count": null,
   "source": [
    "secured_beneficiary_summary"
   ],
   "outputs": [],
   "metadata": {}
  },
  {
   "cell_type": "markdown",
   "source": [
    "## Check secured data  bucket access"
   ],
   "metadata": {}
  },
  {
   "cell_type": "code",
   "execution_count": null,
   "source": [
    "!aws s3 ls s3://orbit-dev-env-${region}-secured-demo-lake-044923722733-smqduj/"
   ],
   "outputs": [],
   "metadata": {}
  },
  {
   "cell_type": "markdown",
   "source": [
    "## Redshift Demo\n",
    "\n",
    "Now let's import Redshift and connect to a Redshift cluster to demo how we can use Redshift to query our databases. Redshift will integrate well with our LakeFormation and our read permissions will be the same as with the previous Athena demo for our secured dataset based on our tags:\n",
    "\n",
    "\n",
    "#### Connect to Redshift\n",
    "First, lets connect to redshift using our db_url and check to see if our connection was succesful:"
   ],
   "metadata": {
    "pycharm": {
     "name": "#%% md\n"
    }
   }
  },
  {
   "cell_type": "code",
   "execution_count": null,
   "source": [
    "%reload_ext sql\n",
    "from aws_orbit_sdk.database import get_redshift\n",
    "rs = get_redshift()"
   ],
   "outputs": [],
   "metadata": {
    "collapsed": false,
    "pycharm": {
     "name": "#%%\n"
    }
   }
  },
  {
   "cell_type": "code",
   "execution_count": null,
   "source": [
    "%connect_to_redshift -cluster db-lf -reuse -start -func Standard Nodes=3"
   ],
   "outputs": [],
   "metadata": {
    "collapsed": false,
    "pycharm": {
     "name": "#%%\n"
    }
   }
  },
  {
   "cell_type": "code",
   "execution_count": null,
   "source": [
    "%%sql\n",
    "\n",
    "SELECT 1 as \"Test\""
   ],
   "outputs": [],
   "metadata": {
    "collapsed": false,
    "pycharm": {
     "name": "#%%\n"
    }
   }
  },
  {
   "cell_type": "code",
   "execution_count": null,
   "source": [
    "%%ddl\n",
    "drop schema if exists cms_secured_db\n"
   ],
   "outputs": [],
   "metadata": {
    "collapsed": false,
    "pycharm": {
     "name": "#%%\n"
    }
   }
  },
  {
   "cell_type": "code",
   "execution_count": null,
   "source": [
    "%%ddl\n",
    "drop schema if exists cms_raw_db"
   ],
   "outputs": [],
   "metadata": {
    "collapsed": false,
    "pycharm": {
     "name": "#%%\n"
    }
   }
  },
  {
   "cell_type": "code",
   "execution_count": null,
   "source": [
    "%create_external_schema -s cms_raw_db -g cms_raw_db\n",
    "%create_external_schema -s cms_secured_db -g cms_secured_db\n"
   ],
   "outputs": [],
   "metadata": {
    "collapsed": false,
    "pycharm": {
     "name": "#%%\n"
    }
   }
  },
  {
   "cell_type": "code",
   "execution_count": null,
   "source": [
    "redshift_conn = rs.connect_to_redshift('db-lf')\n",
    "conn_url = redshift_conn['db_url']"
   ],
   "outputs": [],
   "metadata": {
    "collapsed": false,
    "pycharm": {
     "name": "#%%\n"
    }
   }
  },
  {
   "cell_type": "code",
   "execution_count": null,
   "source": [
    "%sql $conn_url"
   ],
   "outputs": [],
   "metadata": {
    "collapsed": false,
    "pycharm": {
     "name": "#%%\n"
    }
   }
  },
  {
   "cell_type": "markdown",
   "source": [
    "#### Create External Schema\n",
    "Now, let's set our schema in our red shift cluster based on the schema and metadata we have in our existing databases:\n"
   ],
   "metadata": {
    "collapsed": false
   }
  },
  {
   "cell_type": "code",
   "execution_count": null,
   "source": [
    "%create_external_schema -s cms_raw_db -g cms_raw_db\n",
    "%create_external_schema -s cms_secured_db -g cms_secured_db"
   ],
   "outputs": [],
   "metadata": {
    "collapsed": false,
    "pycharm": {
     "name": "#%%\n"
    }
   }
  },
  {
   "cell_type": "markdown",
   "source": [
    "#### Perform Queries with Security Checks\n",
    "Finally, we can query the same tables and check our read permissions for each table. We will read once from the unsecured database and once from a level 5 tagged table and 2 more secure columns.\n",
    "\n",
    "As you can see the security permissions match the permissions when using Athena:"
   ],
   "metadata": {
    "collapsed": false
   }
  },
  {
   "cell_type": "code",
   "execution_count": null,
   "source": [
    "%%sql $conn_url unsecured <<\n",
    "\n",
    "select *\n",
    "from cms_raw_db.beneficiary_summary\n",
    "limit 5\n"
   ],
   "outputs": [],
   "metadata": {
    "collapsed": false,
    "pycharm": {
     "name": "#%%\n"
    }
   }
  },
  {
   "cell_type": "code",
   "execution_count": null,
   "source": [
    "unsecured"
   ],
   "outputs": [],
   "metadata": {
    "collapsed": false,
    "pycharm": {
     "name": "#%%\n"
    }
   }
  },
  {
   "cell_type": "code",
   "execution_count": null,
   "source": [
    "assert('sp_depressn' in unsecured.field_names)\n",
    "assert('sp_diabetes' in unsecured.field_names)"
   ],
   "outputs": [],
   "metadata": {
    "collapsed": false,
    "pycharm": {
     "name": "#%%\n"
    }
   }
  },
  {
   "cell_type": "code",
   "execution_count": null,
   "source": [
    "%%sql $conn_url secured <<\n",
    "\n",
    "\n",
    "select *\n",
    "from cms_secured_db.beneficiary_summary\n",
    "limit 5"
   ],
   "outputs": [],
   "metadata": {
    "collapsed": false,
    "pycharm": {
     "name": "#%%\n"
    }
   }
  },
  {
   "cell_type": "code",
   "execution_count": null,
   "source": [
    "secured"
   ],
   "outputs": [],
   "metadata": {
    "collapsed": false,
    "pycharm": {
     "name": "#%%\n"
    }
   }
  },
  {
   "cell_type": "code",
   "execution_count": null,
   "source": [
    "assert('sp_depressn' not in secured.field_names)\n",
    "assert('sp_diabetes' not in secured.field_names)"
   ],
   "outputs": [],
   "metadata": {
    "collapsed": false,
    "pycharm": {
     "name": "#%%\n"
    }
   }
  },
  {
   "cell_type": "code",
   "execution_count": null,
   "source": [
    "# Deleting redshift cluster\n",
    "%delete_redshift_cluster -cluster db-lf"
   ],
   "outputs": [],
   "metadata": {
    "collapsed": false,
    "pycharm": {
     "name": "#%%\n"
    }
   }
  },
  {
   "cell_type": "markdown",
   "source": [
    "# End of Lake User demo notebook"
   ],
   "metadata": {}
  }
 ],
 "metadata": {
  "kernelspec": {
   "display_name": "Python 3",
   "language": "python",
   "name": "python3"
  },
  "language_info": {
   "codemirror_mode": {
    "name": "ipython",
    "version": 3
   },
   "file_extension": ".py",
   "mimetype": "text/x-python",
   "name": "python",
   "nbconvert_exporter": "python",
   "pygments_lexer": "ipython3",
   "version": "3.8.8"
  }
 },
 "nbformat": 4,
 "nbformat_minor": 5
}