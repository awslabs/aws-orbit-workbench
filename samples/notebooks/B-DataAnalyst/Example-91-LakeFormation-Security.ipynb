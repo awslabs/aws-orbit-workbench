{
 "cells": [
  {
   "cell_type": "code",
   "execution_count": null,
   "id": "b4b15ea8",
   "metadata": {},
   "outputs": [],
   "source": [
    "# Lake User Demo Notebook \n",
    "# List of activities \n",
    "# 1 - Connect to cms_secured_db glue database \n",
    "# 2 - Query specific tables and columns to verify the lakeformation tag based access control\n",
    "# 3 - security_tag:sec-5 - Should allow to read from the database and tables\n",
    "# 4 - security_tag:sec-4 - Should restrict specific tables from accessing\n",
    "# 5 - security_tag:sec-2 - Should restrict specific table columns from accessing\n"
   ]
  },
  {
   "cell_type": "code",
   "execution_count": null,
   "id": "159e8d54",
   "metadata": {},
   "outputs": [],
   "source": [
    "%reload_ext sql\n"
   ]
  },
  {
   "cell_type": "code",
   "execution_count": null,
   "id": "f931eda9",
   "metadata": {},
   "outputs": [],
   "source": [
    "# Imports\n",
    "import json \n",
    "import boto3\n",
    "import logging\n",
    "import pprint\n",
    "from pandas import DataFrame\n",
    "logging.basicConfig(\n",
    "    format='%(asctime)s %(levelname)-8s %(message)s',\n",
    "    level=logging.INFO,\n",
    "    datefmt='%Y-%m-%d %H:%M:%S')\n",
    "logger = logging.getLogger()"
   ]
  },
  {
   "cell_type": "code",
   "execution_count": null,
   "id": "1bfda1f7",
   "metadata": {},
   "outputs": [],
   "source": [
    "# import orbit helpers\n",
    "from aws_orbit_sdk.database import get_athena\n",
    "from aws_orbit_sdk.common import get_workspace,get_scratch_database\n",
    "workspace = get_workspace()\n",
    "\n",
    "team_space = workspace['team_space']\n",
    "assert team_space == 'lake-user'\n",
    "\n",
    "catalog_id = workspace['EksPodRoleArn'].split(':')[-2] "
   ]
  },
  {
   "cell_type": "code",
   "execution_count": null,
   "id": "3e37e374",
   "metadata": {},
   "outputs": [],
   "source": [
    "lfc = boto3.client('lakeformation')\n",
    "iamc = boto3.client('iam')\n",
    "ssmc = boto3.client('ssm')\n",
    "gluec = boto3.client('glue')"
   ]
  },
  {
   "cell_type": "code",
   "execution_count": null,
   "id": "e719dca6",
   "metadata": {},
   "outputs": [],
   "source": [
    "secured_glue_db = \"cms_secured_db\""
   ]
  },
  {
   "cell_type": "code",
   "execution_count": null,
   "id": "0b557599",
   "metadata": {},
   "outputs": [],
   "source": [
    "%reload_ext sql\n",
    "%config SqlMagic.autocommit=False # for engines that do not support autommit\n",
    "athena = get_athena()\n",
    "%connect_to_athena -database default"
   ]
  },
  {
   "cell_type": "code",
   "execution_count": null,
   "id": "e65d51fc",
   "metadata": {},
   "outputs": [],
   "source": [
    "%sql show databases"
   ]
  },
  {
   "cell_type": "code",
   "execution_count": null,
   "id": "3c14eaf3",
   "metadata": {},
   "outputs": [],
   "source": [
    "%connect_to_athena -database cms_secured_db\n"
   ]
  },
  {
   "cell_type": "code",
   "execution_count": null,
   "id": "d85c3dcd",
   "metadata": {},
   "outputs": [],
   "source": [
    "%catalog -database cms_secured_db"
   ]
  },
  {
   "cell_type": "markdown",
   "id": "f0b133d9",
   "metadata": {},
   "source": [
    "# Establish Athena Connection"
   ]
  },
  {
   "cell_type": "code",
   "execution_count": null,
   "id": "d2e136ff",
   "metadata": {},
   "outputs": [],
   "source": [
    "%reload_ext sql\n",
    "athena_url = athena.get_connection_to_athena('secured_glue_db')['db_url']\n",
    "athena_url"
   ]
  },
  {
   "cell_type": "code",
   "execution_count": null,
   "id": "28651f9a",
   "metadata": {},
   "outputs": [],
   "source": [
    "%sql $athena_url"
   ]
  },
  {
   "cell_type": "code",
   "execution_count": null,
   "id": "04887e27",
   "metadata": {},
   "outputs": [],
   "source": [
    "%%sql $athena_url\n",
    "\n",
    "SELECT 1 as \"Test\""
   ]
  },
  {
   "cell_type": "markdown",
   "id": "b2c6f7dd",
   "metadata": {},
   "source": [
    "# Demonstrate use of Secured LakeFormation Databases"
   ]
  },
  {
   "cell_type": "markdown",
   "id": "fd046251",
   "metadata": {},
   "source": [
    "## Step-1- lets read from a secured database table with sec-5 tag"
   ]
  },
  {
   "cell_type": "code",
   "execution_count": null,
   "id": "34d2a382",
   "metadata": {},
   "outputs": [],
   "source": [
    "%%sql $athena_url secured_carrier_claims <<\n",
    "\n",
    "select * from cms_secured_db.carrier_claims limit 2"
   ]
  },
  {
   "cell_type": "code",
   "execution_count": null,
   "id": "c6a0cb9f",
   "metadata": {},
   "outputs": [],
   "source": [
    "secured_carrier_claims"
   ]
  },
  {
   "cell_type": "markdown",
   "id": "54b516f3",
   "metadata": {},
   "source": [
    "## Step-2- lets read from secured table with sec-4"
   ]
  },
  {
   "cell_type": "code",
   "execution_count": null,
   "id": "8164b306",
   "metadata": {},
   "outputs": [],
   "source": [
    "cms_secured_db_response=%catalog -database cms_secured_db"
   ]
  },
  {
   "cell_type": "code",
   "execution_count": null,
   "id": "9f392cc4",
   "metadata": {},
   "outputs": [],
   "source": [
    "cms_secured_db_tables_for_lake_user = [table_name for table_name in cms_secured_db_response.data.keys() ]"
   ]
  },
  {
   "cell_type": "code",
   "execution_count": null,
   "id": "46e9b804",
   "metadata": {},
   "outputs": [],
   "source": [
    "assert ('inpatient_claims' not in cms_secured_db_tables_for_lake_user)"
   ]
  },
  {
   "cell_type": "code",
   "execution_count": null,
   "id": "64ec4747",
   "metadata": {},
   "outputs": [],
   "source": [
    "%%sql $athena_url secured_inpatient_claims <<\n",
    "select * from cms_secured_db.inpatient_claims limit 1"
   ]
  },
  {
   "cell_type": "code",
   "execution_count": null,
   "id": "7dc53d11",
   "metadata": {},
   "outputs": [],
   "source": [
    "\n",
    "try: secured_inpatient_claims\n",
    "except NameError: \n",
    "    print('Success')"
   ]
  },
  {
   "cell_type": "markdown",
   "id": "c70f7ae6",
   "metadata": {},
   "source": [
    "## Step-3- lets read from secured columns with sec-2"
   ]
  },
  {
   "cell_type": "code",
   "execution_count": null,
   "id": "f9c57e50",
   "metadata": {},
   "outputs": [],
   "source": [
    "%%sql $athena_url secured_beneficiary_summary <<\n",
    "select * from cms_secured_db.beneficiary_summary limit 1"
   ]
  },
  {
   "cell_type": "code",
   "execution_count": null,
   "id": "a99f141e",
   "metadata": {},
   "outputs": [],
   "source": [
    "assert('sp_depressn' not in secured_beneficiary_summary.field_names)\n",
    "assert('sp_diabetes' not in secured_beneficiary_summary.field_names)"
   ]
  },
  {
   "cell_type": "code",
   "execution_count": null,
   "id": "648e2b34",
   "metadata": {},
   "outputs": [],
   "source": [
    "secured_beneficiary_summary"
   ]
  },
  {
   "cell_type": "markdown",
   "id": "b4e22077",
   "metadata": {},
   "source": [
    "## Check secured data  bucket access"
   ]
  },
  {
   "cell_type": "code",
   "execution_count": null,
   "id": "f9ed0152",
   "metadata": {},
   "outputs": [],
   "source": [
    "!aws s3 ls s3://orbit-dev-env-secured-demo-lake-044923722733-smqduj/"
   ]
  },
  {
   "cell_type": "code",
   "execution_count": null,
   "id": "13847b7e",
   "metadata": {},
   "outputs": [],
   "source": []
  },
  {
   "cell_type": "markdown",
   "id": "183008f1",
   "metadata": {},
   "source": [
    "# End of Lake User demo notebook"
   ]
  }
 ],
 "metadata": {
  "kernelspec": {
   "display_name": "Python 3",
   "language": "python",
   "name": "python3"
  },
  "language_info": {
   "codemirror_mode": {
    "name": "ipython",
    "version": 3
   },
   "file_extension": ".py",
   "mimetype": "text/x-python",
   "name": "python",
   "nbconvert_exporter": "python",
   "pygments_lexer": "ipython3",
   "version": "3.8.8"
  }
 },
 "nbformat": 4,
 "nbformat_minor": 5
}
