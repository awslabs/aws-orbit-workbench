{
 "cells": [
  {
   "cell_type": "markdown",
   "id": "cfaef858",
   "metadata": {},
   "source": [
    "# EMR on EKS Example\n",
    "\n",
    "## Demonstration of running Spark AWS EMR Jobs on your cluster\n",
    "\n",
    "\n",
    "### Author: AWS Professional Services Emerging Technology and Intelligent Platforms Group\n",
    "### Date: Mar 29 2021"
   ]
  },
  {
   "cell_type": "code",
   "execution_count": null,
   "id": "c6e88f77",
   "metadata": {},
   "outputs": [],
   "source": [
    "import boto3\n",
    "from aws_orbit_sdk.common import get_workspace,get_properties\n",
    "from aws_orbit_sdk import emr as orbit_emr\n",
    "workspace = get_workspace()\n",
    "workspace"
   ]
  },
  {
   "cell_type": "code",
   "execution_count": null,
   "id": "8c3871cb",
   "metadata": {},
   "outputs": [],
   "source": [
    "team = workspace['team_space']\n",
    "env = workspace['env_name']\n",
    "role = workspace['EksPodRoleArn']\n",
    "ScratchBucket = f\"{workspace['ScratchBucket']}\"\n",
    "(env,team,role,ScratchBucket)"
   ]
  },
  {
   "cell_type": "markdown",
   "id": "6f2ecafe",
   "metadata": {},
   "source": [
    "### If your team has deployed with the EMR_ON_EKS Plugin, the following will provide your virtual cluster id:"
   ]
  },
  {
   "cell_type": "code",
   "execution_count": null,
   "id": "578c0289",
   "metadata": {},
   "outputs": [],
   "source": [
    "virtualClusterId=orbit_emr.get_virtual_cluster_id()\n",
    "print(f\"Virtual cluster id: {virtualClusterId}\")"
   ]
  },
  {
   "cell_type": "code",
   "execution_count": null,
   "id": "fbdac3df",
   "metadata": {},
   "outputs": [],
   "source": [
    "!aws s3 rm --recursive --quiet $ScratchBucket/$virtualClusterId/jobs/\n",
    "!mkdir -p /home/jovyan/shared/jobs\n",
    "!rm -fR /home/jovyan/shared/jobs/*"
   ]
  },
  {
   "cell_type": "code",
   "execution_count": null,
   "id": "d6fc1de1",
   "metadata": {},
   "outputs": [],
   "source": [
    "username = %env USERNAME\n",
    "username"
   ]
  },
  {
   "cell_type": "code",
   "execution_count": null,
   "id": "74101018",
   "metadata": {},
   "outputs": [],
   "source": [
    "emr = boto3.client('emr-containers')\n",
    "response = emr.start_job_run(\n",
    "    name='myjob',\n",
    "    virtualClusterId=virtualClusterId,\n",
    "    executionRoleArn=role,\n",
    "    releaseLabel='emr-6.2.0-latest',\n",
    "    jobDriver={\n",
    "        'sparkSubmitJobDriver': {\n",
    "            'entryPoint': \"local:///efs/shared/samples/notebooks/B-DataAnalyst/pi.py\",\n",
    "            'entryPointArguments': [\n",
    "                '10',\n",
    "            ],\n",
    "            'sparkSubmitParameters': \"--conf spark.executor.instances=2 --conf spark.executor.memory=2G --conf spark.executor.cores=2 --conf spark.driver.cores=1\"\n",
    "        }\n",
    "    },\n",
    "    configurationOverrides={\n",
    "        \"applicationConfiguration\": [\n",
    "          {\n",
    "            \"classification\": \"spark-defaults\", \n",
    "            \"properties\": {\n",
    "              \"spark.kubernetes.driver.label.app\": \"emr-spark\",\n",
    "              \"spark.kubernetes.driver.label.orbit/node-type\": \"ec2\", \n",
    "              \"spark.kubernetes.driver.label.username\": username, \n",
    "              \"spark.kubernetes.driver.label.orbit/attach-security-group\": \"yes\",  \n",
    "              \"spark.kubernetes.driver.volumes.persistentVolumeClaim.team.options.claimName\":\"team-efs\",\n",
    "              \"spark.kubernetes.driver.volumes.persistentVolumeClaim.team.mount.path\":\"/efs/shared\",\n",
    "              \"spark.kubernetes.driver.volumes.persistentVolumeClaim.team.mount.readOnly\":\"false\",\n",
    "             }\n",
    "          }\n",
    "        ], \n",
    "        'monitoringConfiguration': {\n",
    "            'persistentAppUI': 'ENABLED',\n",
    "            'cloudWatchMonitoringConfiguration': {\n",
    "                'logGroupName': f'/orbit/emr/{env}-{team}',\n",
    "                'logStreamNamePrefix': 'spark2'\n",
    "            },\n",
    "            's3MonitoringConfiguration': {\n",
    "                'logUri': ScratchBucket\n",
    "            }\n",
    "        }\n",
    "    },\n",
    "    tags={\n",
    "        'env': env\n",
    "    }\n",
    ")"
   ]
  },
  {
   "cell_type": "code",
   "execution_count": null,
   "id": "5f7d83fd",
   "metadata": {},
   "outputs": [],
   "source": [
    "response['id']"
   ]
  },
  {
   "cell_type": "code",
   "execution_count": null,
   "id": "49351aa8",
   "metadata": {},
   "outputs": [],
   "source": [
    "%%time\n",
    "\n",
    "import time\n",
    "while True:\n",
    "    describe_response = emr.describe_job_run(\n",
    "        id=response['id'],\n",
    "        virtualClusterId=response['virtualClusterId']\n",
    "    )\n",
    "    print(f\"STATE: {describe_response['jobRun']['state']}\")\n",
    "    if 'jobRun' in describe_response and 'state' in describe_response['jobRun'] and describe_response['jobRun']['state'] in ['COMPLETED', 'FAILED', 'CANCELLED']:\n",
    "        break\n",
    "    time.sleep(5)    \n",
    "describe_response['jobRun']['state']"
   ]
  },
  {
   "cell_type": "code",
   "execution_count": null,
   "id": "cb0fcd8a",
   "metadata": {},
   "outputs": [],
   "source": [
    "job_id = describe_response['jobRun']['id']\n",
    "describe_response['jobRun']"
   ]
  },
  {
   "cell_type": "code",
   "execution_count": null,
   "id": "64238fa0",
   "metadata": {},
   "outputs": [],
   "source": [
    "!mkdir -p ~/private/spark/logs\n",
    "!rm -fR ~/private/spark/logs/*"
   ]
  },
  {
   "cell_type": "code",
   "execution_count": null,
   "id": "8a19925b",
   "metadata": {},
   "outputs": [],
   "source": [
    "!aws s3 sync $ScratchBucket/$virtualClusterId/jobs/ ~/private/spark/logs"
   ]
  },
  {
   "cell_type": "code",
   "execution_count": null,
   "id": "58a0f23b",
   "metadata": {},
   "outputs": [],
   "source": [
    "!find ~/private/spark/logs -name \"*.gz\"  -exec gzip -d {} -f \\;"
   ]
  },
  {
   "cell_type": "code",
   "execution_count": null,
   "id": "1e259aa1",
   "metadata": {},
   "outputs": [],
   "source": [
    "assert(describe_response['jobRun']['state']=='COMPLETED')"
   ]
  },
  {
   "cell_type": "code",
   "execution_count": null,
   "id": "e60a94b3",
   "metadata": {},
   "outputs": [],
   "source": [
    "!cat ~/shared/jobs/output.txt"
   ]
  },
  {
   "cell_type": "code",
   "execution_count": null,
   "id": "5f81e75a",
   "metadata": {},
   "outputs": [],
   "source": []
  },
  {
   "cell_type": "code",
   "execution_count": null,
   "id": "28c2994c",
   "metadata": {},
   "outputs": [],
   "source": []
  }
 ],
 "metadata": {
  "kernelspec": {
   "display_name": "Python 3",
   "language": "python",
   "name": "python3"
  },
  "language_info": {
   "codemirror_mode": {
    "name": "ipython",
    "version": 3
   },
   "file_extension": ".py",
   "mimetype": "text/x-python",
   "name": "python",
   "nbconvert_exporter": "python",
   "pygments_lexer": "ipython3",
   "version": "3.8.8"
  }
 },
 "nbformat": 4,
 "nbformat_minor": 5
}