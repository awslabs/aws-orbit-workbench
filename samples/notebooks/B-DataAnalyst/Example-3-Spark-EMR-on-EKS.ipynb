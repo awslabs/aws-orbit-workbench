{
 "cells": [
  {
   "cell_type": "markdown",
   "id": "chemical-nirvana",
   "metadata": {},
   "source": [
    "# EMR on EKS Example\n",
    "\n",
    "## Demonstration of running Spark AWS EMR Jobs on your cluster\n",
    "\n",
    "\n",
    "### Author: AWS Professional Services Emerging Technology and Intelligent Platforms Group\n",
    "### Date: Mar 29 2021"
   ]
  },
  {
   "cell_type": "code",
   "execution_count": 1,
   "id": "structured-curtis",
   "metadata": {},
   "outputs": [
    {
     "data": {
      "text/plain": [
       "{'BaseImageAddress': '495869084367.dkr.ecr.us-west-2.amazonaws.com/orbit-dev-env2-jupyter-user:latest',\n",
       " 'BootstrapS3Prefix': 'teams/dev-env2/bootstrap/',\n",
       " 'ContainerDefaults': {'cpu': 4, 'memory': 16384},\n",
       " 'ContainerRunnerArn': None,\n",
       " 'EcsClusterName': None,\n",
       " 'EfsApId': 'fsap-0379712f3188879e5',\n",
       " 'EfsId': 'fs-2854b42f',\n",
       " 'EfsLifeCycle': 'AFTER_7_DAYS',\n",
       " 'EksK8SApiArn': None,\n",
       " 'EksPodRoleArn': 'arn:aws:iam::495869084367:role/orbit-dev-env2-lake-user-role',\n",
       " 'Elbs': {'lake-user/jupyterhub-public': {'AvailabilityZones': ['us-west-2b',\n",
       "    'us-west-2a'],\n",
       "   'DNSName': 'afe82996085924da38cc4bf82db2c99f-959051000.us-west-2.elb.amazonaws.com',\n",
       "   'Instances': [{'InstanceId': 'i-0fa19a516a528f8af'},\n",
       "    {'InstanceId': 'i-0c18236c7afa274f6'},\n",
       "    {'InstanceId': 'i-0ad2217263d8bebd5'},\n",
       "    {'InstanceId': 'i-0a0e9972a765c5405'},\n",
       "    {'InstanceId': 'i-0813ad717d454ac3e'},\n",
       "    {'InstanceId': 'i-03eb196d6920cba51'}],\n",
       "   'ListenerDescriptions': [{'Listener': {'InstancePort': 32254,\n",
       "      'InstanceProtocol': 'TCP',\n",
       "      'LoadBalancerPort': 80,\n",
       "      'Protocol': 'TCP'},\n",
       "     'PolicyNames': []}],\n",
       "   'LoadBalancerName': 'afe82996085924da38cc4bf82db2c99f',\n",
       "   'Policies': {'AppCookieStickinessPolicies': [],\n",
       "    'LBCookieStickinessPolicies': [],\n",
       "    'OtherPolicies': []},\n",
       "   'Scheme': 'internet-facing',\n",
       "   'SecurityGroups': ['sg-09e49ca3c86d7910f'],\n",
       "   'SourceSecurityGroup': {'GroupName': 'k8s-elb-afe82996085924da38cc4bf82db2c99f',\n",
       "    'OwnerAlias': '495869084367'},\n",
       "   'Subnets': ['subnet-07063a52380046fc3', 'subnet-0f5cbb000d9de6e7a'],\n",
       "   'VPCId': 'vpc-0e0b5d14e072b9e07'}},\n",
       " 'Fargate': True,\n",
       " 'FinalImageAddress': '495869084367.dkr.ecr.us-west-2.amazonaws.com/orbit-dev-env2-jupyter-user:latest',\n",
       " 'GrantSudo': True,\n",
       " 'Image': None,\n",
       " 'JupyterUrl': 'afe82996085924da38cc4bf82db2c99f-959051000.us-west-2.elb.amazonaws.com',\n",
       " 'JupyterhubInboundRanges': ['0.0.0.0/0'],\n",
       " 'K8Admin': False,\n",
       " 'Name': 'lake-user',\n",
       " 'Plugins': [{'Module': 'code_commit',\n",
       "   'Parameters': {},\n",
       "   'Path': '../plugins/code_commit/',\n",
       "   'PluginId': 'code_commit'},\n",
       "  {'Module': 'hello_world',\n",
       "   'Parameters': {'foo': 'boo', 'xoo': 1234},\n",
       "   'Path': '../plugins/hello_world/',\n",
       "   'PluginId': 'hello_world'},\n",
       "  {'Module': 'team_script_launcher',\n",
       "   'Parameters': {'restartPolicy': 'Never',\n",
       "    'script': 'i=0\\nwhile [ $i -lt 1 ];\\ndo\\n  find /efs/shared/regression -mtime +5 -exec rm {} \\\\;\\n  sleep 60\\ndone\\necho \"DONE LOOP\"\\n'},\n",
       "   'Path': '../plugins/team_script_launcher/',\n",
       "   'PluginId': 'team_script_launcher'},\n",
       "  {'Module': 'redshift',\n",
       "   'Parameters': {'enable_user_activity_logging': 'true',\n",
       "    'node_type': 'DC2.large',\n",
       "    'number_of_nodes': '2',\n",
       "    'require_ssl': 'true',\n",
       "    'use_fips_ssl': 'true'},\n",
       "   'Path': '../plugins/redshift/',\n",
       "   'PluginId': 'redshift'},\n",
       "  {'Module': 'custom_cfn',\n",
       "   'Parameters': {'CfnTemplatePath': './bundle/plugins/demo-lake-user-cfn-template.yaml'},\n",
       "   'Path': '../plugins/custom_cfn/',\n",
       "   'PluginId': 'custom_cfn'},\n",
       "  {'Module': 'emr_on_eks',\n",
       "   'Parameters': {},\n",
       "   'Path': '../plugins/emr_on_eks/',\n",
       "   'PluginId': 'enable_emr_on_eks'}],\n",
       " 'Policies': ['orbit-dev-env2-demo-lake-user-add-policy'],\n",
       " 'Profiles': [{'description': '1 CPU + 1G MEM',\n",
       "   'display_name': 'Nano',\n",
       "   'kubespawner_override': {'cpu_guarantee': 1,\n",
       "    'cpu_limit': 1,\n",
       "    'mem_guarantee': '1G',\n",
       "    'mem_limit': '1G'},\n",
       "   'slug': 'nano'},\n",
       "  {'default': 'True',\n",
       "   'description': '2 CPU + 2G MEM',\n",
       "   'display_name': 'Micro',\n",
       "   'kubespawner_override': {'cpu_guarantee': 2,\n",
       "    'cpu_limit': 2,\n",
       "    'mem_guarantee': '2G',\n",
       "    'mem_limit': '2G'},\n",
       "   'slug': 'micro'},\n",
       "  {'description': '1 CPU + 1G MEM with Custom Image1',\n",
       "   'display_name': 'Custom Image1',\n",
       "   'kubespawner_override': {'cpu_guarantee': 1,\n",
       "    'cpu_limit': 1,\n",
       "    'image': '${account}.dkr.ecr.${region}.amazonaws.com/orbit-${env}-custom_image1',\n",
       "    'mem_guarantee': '1G',\n",
       "    'mem_limit': '1G'},\n",
       "   'slug': 'custom1'},\n",
       "  {'description': '4 CPU + 8G MEM',\n",
       "   'display_name': 'Small (Apache Spark)',\n",
       "   'kubespawner_override': {'cpu_guarantee': 4,\n",
       "    'cpu_limit': 4,\n",
       "    'image': '${account}.dkr.ecr.${region}.amazonaws.com/orbit-${env}-lake-user-spark',\n",
       "    'mem_guarantee': '8G',\n",
       "    'mem_limit': '8G'},\n",
       "   'slug': 'small-spark'}],\n",
       " 'ScratchBucket': 'orbit-foundation-dev-env-scratch-495869084367-77f116',\n",
       " 'SsmParameterName': '/orbit/dev-env2/teams/lake-user/context',\n",
       " 'StackName': 'orbit-dev-env2-lake-user',\n",
       " 'TeamKmsKeyArn': 'arn:aws:kms:us-west-2:495869084367:key/81794e9f-04e0-4971-b5ab-a4fcb0d668e6',\n",
       " 'TeamSecurityGroupId': 'sg-0e6a532067944f1fa',\n",
       " 'TeamSsmParameterName': '/orbit/dev-env2/teams/lake-user/team',\n",
       " 'region': 'us-west-2',\n",
       " 'env_name': 'dev-env2',\n",
       " 'team_space': 'lake-user'}"
      ]
     },
     "execution_count": 1,
     "metadata": {},
     "output_type": "execute_result"
    }
   ],
   "source": [
    "import boto3\n",
    "from aws_orbit_sdk.common import get_workspace,get_properties\n",
    "from aws_orbit_sdk import emr as orbit_emr\n",
    "workspace = get_workspace()\n",
    "workspace"
   ]
  },
  {
   "cell_type": "code",
   "execution_count": 2,
   "id": "adverse-address",
   "metadata": {},
   "outputs": [
    {
     "data": {
      "text/plain": [
       "('dev-env2',\n",
       " 'lake-user',\n",
       " 'arn:aws:iam::495869084367:role/orbit-dev-env2-lake-user-role',\n",
       " 's3://orbit-foundation-dev-env-scratch-495869084367-77f116/lake-user')"
      ]
     },
     "execution_count": 2,
     "metadata": {},
     "output_type": "execute_result"
    }
   ],
   "source": [
    "team = workspace['team_space']\n",
    "env = workspace['env_name']\n",
    "role = workspace['EksPodRoleArn']\n",
    "ScratchBucket = f\"s3://{workspace['ScratchBucket']}/{team}\"\n",
    "(env,team,role,ScratchBucket)"
   ]
  },
  {
   "cell_type": "markdown",
   "id": "ahead-tumor",
   "metadata": {},
   "source": [
    "### If your team has deployed with the EMR_ON_EKS Plugin, the following will provide your virtual cluster id:"
   ]
  },
  {
   "cell_type": "code",
   "execution_count": 3,
   "id": "finnish-privacy",
   "metadata": {},
   "outputs": [
    {
     "name": "stdout",
     "output_type": "stream",
     "text": [
      "Virtual cluster id: q7c92nsczd321hlreve947pym\n"
     ]
    }
   ],
   "source": [
    "virtualClusterId=orbit_emr.get_virtual_cluster_id()\n",
    "print(f\"Virtual cluster id: {virtualClusterId}\")"
   ]
  },
  {
   "cell_type": "code",
   "execution_count": 35,
   "id": "short-syria",
   "metadata": {},
   "outputs": [],
   "source": [
    "!aws s3 rm --recursive --quiet $ScratchBucket/$virtualClusterId/jobs/"
   ]
  },
  {
   "cell_type": "code",
   "execution_count": 36,
   "id": "resident-terrorist",
   "metadata": {},
   "outputs": [],
   "source": [
    "emr = boto3.client('emr-containers')\n",
    "response = emr.start_job_run(\n",
    "    name='myjob1',\n",
    "    virtualClusterId=virtualClusterId,\n",
    "    executionRoleArn=role,\n",
    "    releaseLabel='emr-6.2.0-latest',\n",
    "    jobDriver={\n",
    "        'sparkSubmitJobDriver': {\n",
    "            'entryPoint': \"local:///efs/shared/samples/notebooks/B-DataAnalyst/pi.py\",\n",
    "            'entryPointArguments': [\n",
    "                '10',\n",
    "            ],\n",
    "            'sparkSubmitParameters': \"--conf spark.executor.instances=2 --conf spark.executor.memory=2G --conf spark.executor.cores=2 --conf spark.driver.cores=1\"\n",
    "        }\n",
    "    },\n",
    "    configurationOverrides={\n",
    "        \"applicationConfiguration\": [\n",
    "          {\n",
    "            \"classification\": \"spark-defaults\", \n",
    "            \"properties\": {\n",
    "              \"spark.kubernetes.driver.volumes.persistentVolumeClaim.sparkdata.options.claimName\":\"jupyterhub\",\n",
    "              \"spark.kubernetes.driver.volumes.persistentVolumeClaim.sparkdata.mount.path\":\"/efs\",\n",
    "              \"spark.kubernetes.driver.volumes.persistentVolumeClaim.sparkdata.mount.readOnly\":\"false\",\n",
    "             }\n",
    "          }\n",
    "        ], \n",
    "        'monitoringConfiguration': {\n",
    "            'persistentAppUI': 'ENABLED',\n",
    "            'cloudWatchMonitoringConfiguration': {\n",
    "                'logGroupName': f'/orbit/emr/{env}-{team}',\n",
    "                'logStreamNamePrefix': 'spark2'\n",
    "            },\n",
    "            's3MonitoringConfiguration': {\n",
    "                'logUri': ScratchBucket\n",
    "            }\n",
    "        }\n",
    "    },\n",
    "    tags={\n",
    "        'env': env\n",
    "    }\n",
    ")"
   ]
  },
  {
   "cell_type": "code",
   "execution_count": 37,
   "id": "divided-accordance",
   "metadata": {},
   "outputs": [
    {
     "data": {
      "text/plain": [
       "'00000002u3ugdk56qgl'"
      ]
     },
     "execution_count": 37,
     "metadata": {},
     "output_type": "execute_result"
    }
   ],
   "source": [
    "response['id']"
   ]
  },
  {
   "cell_type": "code",
   "execution_count": 38,
   "id": "civic-premiere",
   "metadata": {},
   "outputs": [
    {
     "name": "stdout",
     "output_type": "stream",
     "text": [
      "STATE: PENDING\n",
      "STATE: SUBMITTED\n",
      "STATE: SUBMITTED\n",
      "STATE: SUBMITTED\n",
      "STATE: SUBMITTED\n",
      "STATE: SUBMITTED\n",
      "STATE: SUBMITTED\n",
      "STATE: SUBMITTED\n",
      "STATE: SUBMITTED\n",
      "STATE: RUNNING\n",
      "STATE: RUNNING\n",
      "STATE: RUNNING\n",
      "STATE: RUNNING\n",
      "STATE: RUNNING\n",
      "STATE: RUNNING\n",
      "STATE: COMPLETED\n"
     ]
    },
    {
     "data": {
      "text/plain": [
       "'COMPLETED'"
      ]
     },
     "execution_count": 38,
     "metadata": {},
     "output_type": "execute_result"
    }
   ],
   "source": [
    "%%time\n",
    "\n",
    "import time\n",
    "while True:\n",
    "    describe_response = emr.describe_job_run(\n",
    "        id=response['id'],\n",
    "        virtualClusterId=response['virtualClusterId']\n",
    "    )\n",
    "    print(f\"STATE: {describe_response['jobRun']['state']}\")\n",
    "    if 'jobRun' in describe_response and 'state' in describe_response['jobRun'] and describe_response['jobRun']['state'] in ['COMPLETED', 'FAILED', 'CANCELLED']:\n",
    "        break\n",
    "    time.sleep(5)    \n",
    "describe_response['jobRun']['state']"
   ]
  },
  {
   "cell_type": "code",
   "execution_count": 39,
   "id": "committed-journal",
   "metadata": {},
   "outputs": [
    {
     "data": {
      "text/plain": [
       "{'id': '00000002u3ugdk56qgl',\n",
       " 'name': 'myjob1',\n",
       " 'virtualClusterId': 'q7c92nsczd321hlreve947pym',\n",
       " 'arn': 'arn:aws:emr-containers:us-west-2:495869084367:/virtualclusters/q7c92nsczd321hlreve947pym/jobruns/00000002u3ugdk56qgl',\n",
       " 'state': 'COMPLETED',\n",
       " 'clientToken': '4a263790-7829-4a31-8cb5-144a745f7100',\n",
       " 'executionRoleArn': 'arn:aws:iam::495869084367:role/orbit-dev-env2-lake-user-role',\n",
       " 'releaseLabel': 'emr-6.2.0-latest',\n",
       " 'configurationOverrides': {'applicationConfiguration': [{'classification': 'spark-defaults',\n",
       "    'properties': {'spark.kubernetes.driver.volumes.persistentVolumeClaim.sparkdata.mount.readOnly': 'false',\n",
       "     'spark.kubernetes.driver.volumes.persistentVolumeClaim.sparkdata.options.claimName': 'jupyterhub',\n",
       "     'spark.kubernetes.driver.volumes.persistentVolumeClaim.sparkdata.mount.path': '/efs'}}],\n",
       "  'monitoringConfiguration': {'persistentAppUI': 'ENABLED',\n",
       "   'cloudWatchMonitoringConfiguration': {'logGroupName': '/orbit/emr/dev-env2-lake-user',\n",
       "    'logStreamNamePrefix': 'spark2'},\n",
       "   's3MonitoringConfiguration': {'logUri': 's3://orbit-foundation-dev-env-scratch-495869084367-77f116/lake-user'}}},\n",
       " 'jobDriver': {'sparkSubmitJobDriver': {'entryPoint': 'local:///efs/shared/samples/notebooks/B-DataAnalyst/pi.py',\n",
       "   'entryPointArguments': ['10'],\n",
       "   'sparkSubmitParameters': '--conf spark.executor.instances=2 --conf spark.executor.memory=2G --conf spark.executor.cores=2 --conf spark.driver.cores=1'}},\n",
       " 'createdAt': datetime.datetime(2021, 3, 29, 15, 4, 4, tzinfo=tzlocal()),\n",
       " 'createdBy': 'arn:aws:sts::495869084367:assumed-role/orbit-dev-env2-lake-user-role/botocore-session-1617028825',\n",
       " 'finishedAt': datetime.datetime(2021, 3, 29, 15, 5, 17, tzinfo=tzlocal()),\n",
       " 'stateDetails': 'JobRun completed successfully. It ran for 27 Seconds',\n",
       " 'tags': {'env': 'dev-env2'}}"
      ]
     },
     "execution_count": 39,
     "metadata": {},
     "output_type": "execute_result"
    }
   ],
   "source": [
    "job_id = describe_response['jobRun']['id']\n",
    "describe_response['jobRun']"
   ]
  },
  {
   "cell_type": "code",
   "execution_count": 40,
   "id": "simple-butler",
   "metadata": {},
   "outputs": [],
   "source": [
    "!mkdir -p ~/private/spark/logs\n",
    "!rm -fR ~/private/spark/logs/*"
   ]
  },
  {
   "cell_type": "code",
   "execution_count": 41,
   "id": "minimal-ensemble",
   "metadata": {},
   "outputs": [
    {
     "name": "stdout",
     "output_type": "stream",
     "text": [
      "download: s3://orbit-foundation-dev-env-scratch-495869084367-77f116/lake-user/q7c92nsczd321hlreve947pym/jobs/00000002u3ugdk56qgl/containers/spark-cd968f83a98742dc834c76e54940ef50/pythonpi-4699ce787e83b576-exec-1/stdout.gz to ../../../../../home/jovyan/private/spark/logs/00000002u3ugdk56qgl/containers/spark-cd968f83a98742dc834c76e54940ef50/pythonpi-4699ce787e83b576-exec-1/stdout.gz\n",
      "download: s3://orbit-foundation-dev-env-scratch-495869084367-77f116/lake-user/q7c92nsczd321hlreve947pym/jobs/00000002u3ugdk56qgl/containers/spark-cd968f83a98742dc834c76e54940ef50/pythonpi-4699ce787e83b576-exec-2/stderr.gz to ../../../../../home/jovyan/private/spark/logs/00000002u3ugdk56qgl/containers/spark-cd968f83a98742dc834c76e54940ef50/pythonpi-4699ce787e83b576-exec-2/stderr.gz\n",
      "download: s3://orbit-foundation-dev-env-scratch-495869084367-77f116/lake-user/q7c92nsczd321hlreve947pym/jobs/00000002u3ugdk56qgl/containers/spark-cd968f83a98742dc834c76e54940ef50/spark-00000002u3ugdk56qgl-driver/stderr.gz to ../../../../../home/jovyan/private/spark/logs/00000002u3ugdk56qgl/containers/spark-cd968f83a98742dc834c76e54940ef50/spark-00000002u3ugdk56qgl-driver/stderr.gz\n",
      "download: s3://orbit-foundation-dev-env-scratch-495869084367-77f116/lake-user/q7c92nsczd321hlreve947pym/jobs/00000002u3ugdk56qgl/containers/spark-cd968f83a98742dc834c76e54940ef50/pythonpi-4699ce787e83b576-exec-2/stdout.gz to ../../../../../home/jovyan/private/spark/logs/00000002u3ugdk56qgl/containers/spark-cd968f83a98742dc834c76e54940ef50/pythonpi-4699ce787e83b576-exec-2/stdout.gz\n",
      "download: s3://orbit-foundation-dev-env-scratch-495869084367-77f116/lake-user/q7c92nsczd321hlreve947pym/jobs/00000002u3ugdk56qgl/containers/spark-cd968f83a98742dc834c76e54940ef50/spark-00000002u3ugdk56qgl-driver/stdout.gz to ../../../../../home/jovyan/private/spark/logs/00000002u3ugdk56qgl/containers/spark-cd968f83a98742dc834c76e54940ef50/spark-00000002u3ugdk56qgl-driver/stdout.gz\n",
      "download: s3://orbit-foundation-dev-env-scratch-495869084367-77f116/lake-user/q7c92nsczd321hlreve947pym/jobs/00000002u3ugdk56qgl/containers/spark-cd968f83a98742dc834c76e54940ef50/pythonpi-4699ce787e83b576-exec-1/stderr.gz to ../../../../../home/jovyan/private/spark/logs/00000002u3ugdk56qgl/containers/spark-cd968f83a98742dc834c76e54940ef50/pythonpi-4699ce787e83b576-exec-1/stderr.gz\n"
     ]
    }
   ],
   "source": [
    "!aws s3 sync $ScratchBucket/$virtualClusterId/jobs/ ~/private/spark/logs"
   ]
  },
  {
   "cell_type": "code",
   "execution_count": 42,
   "id": "stainless-projection",
   "metadata": {},
   "outputs": [],
   "source": [
    "!find ~/private/spark/logs -name \"*.gz\"  -exec gzip -d {} -f \\;"
   ]
  },
  {
   "cell_type": "code",
   "execution_count": 43,
   "id": "bound-removal",
   "metadata": {},
   "outputs": [],
   "source": [
    "assert(describe_response['jobRun']['state']=='COMPLETED')"
   ]
  },
  {
   "cell_type": "code",
   "execution_count": 44,
   "id": "pleasant-answer",
   "metadata": {},
   "outputs": [
    {
     "name": "stdout",
     "output_type": "stream",
     "text": [
      "Pi is roughly 3.144544env:PATH=/usr/local/sbin:/usr/local/bin:/usr/sbin:/usr/bin:/sbin:/bin\n",
      "HADOOP_CONF_DIR=/etc/hadoop/conf\n",
      "SPARK_MASTER_WEBUI_PORT=8080\n",
      "JUPYTERHUB_PRIVATE_PORT_8081_TCP_PROTO=tcp\n",
      "PYSPARK_MAJOR_PYTHON_VERSION=3\n",
      "SPARK_ENV_LOADED=1\n",
      "JUPYTERHUB_PUBLIC_PORT_80_TCP_PROTO=tcp\n",
      "LD_LIBRARY_PATH=/usr/lib/hadoop/lib/native:/usr/lib/hadoop-lzo/lib/native:/docker/usr/lib/hadoop/lib/native:/docker/usr/lib/hadoop-lzo/lib/native\n",
      "SPARK_SUBMIT_OPTS=\n",
      "JUPYTERHUB_PRIVATE_PORT_8081_TCP_ADDR=172.20.173.240\n",
      "PYTHON_VERSION=3.7.9\n",
      "JUPYTERHUB_PUBLIC_PORT_80_TCP_PORT=80\n",
      "JUPYTERHUB_PRIVATE_SERVICE_HOST=172.20.173.240\n",
      "PWD=/home/hadoop\n",
      "KUBERNETES_PORT_443_TCP=tcp://172.20.0.1:443\n",
      "PYTHONPATH=/usr/lib/spark/python/lib/pyspark.zip:/usr/lib/spark/python/lib/py4j-0.10.9-src.zip:/usr/lib/spark/jars/spark-core_2.12-3.0.1-amzn-0.jar\n",
      "JUPYTERHUB_API_PORT_8001_TCP_PROTO=tcp\n",
      "AWS_REGION=us-west-2\n",
      "HIVE_SERVER2_THRIFT_BIND_HOST=0.0.0.0\n",
      "LIVY_HOME=/usr/lib/livy\n",
      "PYSPARK_DRIVER_PYTHON=/usr/bin/python3\n",
      "SPARK_MASTER_PORT=7077\n",
      "CONTAINER_RESOURCE_CPU_FILE_PATH=/var/log/emr-containers/pod-info/spark/requested_cpu\n",
      "K8S_SPARK_LOG_URL_STDERR=/var/log/spark/user/spark-00000002u3ugdk56qgl-driver/stderr\n",
      "JUPYTERHUB_API_PORT_8001_TCP_ADDR=172.20.103.84\n",
      "JUPYTERHUB_PUBLIC_PORT_80_TCP=tcp://172.20.210.176:80\n",
      "SPARK_CONF_DIR=/usr/lib/spark/conf\n",
      "OMP_NUM_THREADS=1\n",
      "AWS_STS_REGIONAL_ENDPOINTS=regional\n",
      "SPARK_MAIN_CONTAINER_CPU_REQUEST=1000\n",
      "JUPYTERHUB_API_SERVICE_PORT=8001\n",
      "SPARK_MASTER_IP=\n",
      "SPARK_DRIVER_BIND_ADDRESS=10.0.24.214\n",
      "HADOOP_HOME=/usr/lib/hadoop\n",
      "JUPYTERHUB_API_PORT=tcp://172.20.103.84:8001\n",
      "KUBERNETES_SERVICE_PORT_HTTPS=443\n",
      "SHLVL=0\n",
      "SPARK_LOG_DIR=/var/log/spark\n",
      "CONTAINER_RESOURCE_MEMORY_FILE_PATH=/var/log/emr-containers/pod-info/spark/requested_memory\n",
      "JUPYTERHUB_PUBLIC_PORT=tcp://172.20.210.176:80\n",
      "JUPYTERHUB_PUBLIC_SERVICE_HOST=172.20.210.176\n",
      "KUBERNETES_PORT=tcp://172.20.0.1:443\n",
      "JAVA_HOME=/etc/alternatives/jre\n",
      "AWS_ROLE_ARN=arn:aws:iam::495869084367:role/orbit-dev-env2-lake-user-role\n",
      "SPARK_WORKER_DIR=/var/run/spark/work\n",
      "JUPYTERHUB_PRIVATE_PORT_8081_TCP=tcp://172.20.173.240:8081\n",
      "KUBERNETES_SERVICE_HOST=172.20.0.1\n",
      "SPARK_SCALA_VERSION=2.12\n",
      "PYSPARK_PYTHON=/usr/bin/python3\n",
      "K8S_SPARK_LOG_URL_STDOUT=/var/log/spark/user/spark-00000002u3ugdk56qgl-driver/stdout\n",
      "SPARK_LOCAL_DIRS=/var/data/spark-e6d99c37-8760-42cf-80d4-d6aab877f5ef\n",
      "SPARK_HOME=/usr/lib/spark\n",
      "SPARK_MAIN_CONTAINER_MEMORY_REQUEST=1433\n",
      "JUPYTERHUB_PRIVATE_PORT=tcp://172.20.173.240:8081\n",
      "JUPYTERHUB_API_PORT_8001_TCP=tcp://172.20.103.84:8001\n",
      "PYTHONHASHSEED=0\n",
      "JUPYTERHUB_API_SERVICE_HOST=172.20.103.84\n",
      "JUPYTERHUB_PUBLIC_PORT_80_TCP_ADDR=172.20.210.176\n",
      "HIVE_CONF_DIR=/etc/hive/conf\n",
      "KUBERNETES_PORT_443_TCP_ADDR=172.20.0.1\n",
      "SIDECAR_SIGNAL_FILE=/var/log/fluentd/main-container-terminated\n",
      "JUPYTERHUB_API_PORT_8001_TCP_PORT=8001\n",
      "AWS_WEB_IDENTITY_TOKEN_FILE=/var/run/secrets/eks.amazonaws.com/serviceaccount/token\n",
      "SPARK_CONTAINER_ID=spark-00000002u3ugdk56qgl-driver\n",
      "KUBERNETES_PORT_443_TCP_PROTO=tcp\n",
      "PYSPARK_GATEWAY_SECRET=773b0407e6152c804fca2dc175f15d1efcab6cd0879a0723ebdc336c8c38e9dd\n",
      "SPARK_APPLICATION_ID=spark-cd968f83a98742dc834c76e54940ef50\n",
      "KUBERNETES_SERVICE_PORT=443\n",
      "JUPYTERHUB_PRIVATE_PORT_8081_TCP_PORT=8081\n",
      "PYSPARK_GATEWAY_PORT=44451\n",
      "SPARK_DAEMON_JAVA_OPTS= -XX:OnOutOfMemoryError='kill -9 %p'\n",
      "PYTHONUNBUFFERED=YES\n",
      "HOSTNAME=spark-00000002u3ugdk56qgl-driver\n",
      "SPARK_USER=hadoop\n",
      "KUBERNETES_PORT_443_TCP_PORT=443\n",
      "SPARK_WORKER_PORT=7078\n",
      "HIVE_SERVER2_THRIFT_PORT=10001\n",
      "JUPYTERHUB_PRIVATE_SERVICE_PORT=8081\n",
      "JUPYTERHUB_PUBLIC_SERVICE_PORT=80\n",
      "HOME=/home/hadoop\n",
      "SPARK_WORKER_WEBUI_PORT=8081\n",
      "LC_CTYPE=C.UTF-8\n"
     ]
    }
   ],
   "source": [
    "!cat ~/shared/jobs/output.txt"
   ]
  },
  {
   "cell_type": "code",
   "execution_count": null,
   "id": "chief-wrong",
   "metadata": {},
   "outputs": [],
   "source": []
  }
 ],
 "metadata": {
  "kernelspec": {
   "display_name": "Python 3",
   "language": "python",
   "name": "python3"
  },
  "language_info": {
   "codemirror_mode": {
    "name": "ipython",
    "version": 3
   },
   "file_extension": ".py",
   "mimetype": "text/x-python",
   "name": "python",
   "nbconvert_exporter": "python",
   "pygments_lexer": "ipython3",
   "version": "3.8.5"
  }
 },
 "nbformat": 4,
 "nbformat_minor": 5
}
