{
 "cells": [
  {
   "cell_type": "markdown",
   "metadata": {},
   "source": [
    "<!--\n",
    "#  Copyright Amazon.com, Inc. or its affiliates. All Rights Reserved.\n",
    "#\n",
    "#    Licensed under the Apache License, Version 2.0 (the \"License\").\n",
    "#    You may not use this file except in compliance with the License.\n",
    "#    You may obtain a copy of the License at\n",
    "#\n",
    "#        http://www.apache.org/licenses/LICENSE-2.0\n",
    "#\n",
    "#    Unless required by applicable law or agreed to in writing, software\n",
    "#    distributed under the License is distributed on an \"AS IS\" BASIS,\n",
    "#    WITHOUT WARRANTIES OR CONDITIONS OF ANY KIND, either express or implied.\n",
    "#    See the License for the specific language governing permissions and\n",
    "#    limitations under the License.\n",
    "-->\n",
    "\n",
    "# Data Discovery using Athena\n",
    "\n",
    "* Functions:  https://docs.aws.amazon.com/redshift/latest/dg/c_SQL_functions.html\n",
    "* UDF: https://docs.aws.amazon.com/redshift/latest/dg/user-defined-functions.html\n",
    "* Store Procedure: https://docs.aws.amazon.com/redshift/latest/dg/stored-procedure-overview.html\n",
    "\n",
    "Using CMS Data at: https://www.cms.gov/Research-Statistics-Data-and-Systems/Statistics-Trends-and-Reports/Medicare-Provider-Charge-Data/Inpatient2016.html"
   ]
  },
  {
   "cell_type": "markdown",
   "metadata": {},
   "source": [
    "## Contents\n",
    "1. [Reference Links](#Reference-Links)\n",
    "2. [Setup](#Setup)\n",
    "  1. [Import Libraries](#Import-Libraries)\n",
    "  2. [Initialize Functions](#Initialize-Functions)\n",
    "  3. [Define Athena Parameters](#Define-Athena-Parameters)\n",
    "  4. [Establish Athena Connection](#Establish-Athena-Connection)\n",
    "  5. [Use SQL Query to Grab Sample Database Data](#Use-SQL-Query-to-Grab-Sample-Database-Data)\n",
    "3. [Data Analysis](#Data-Analysis)\n",
    "  1. [Select all Elements from the Database Sample File](#Select-all-Elements-from-the-Database-Sample-File)\n",
    "  2. [Provide an Input Dataset](#Provide-an-Input-Dataset)\n",
    "  3. [Error with missing column](#Error-with-missing-column)\n",
    "  4. [Visualize Data](#Vizualize-Data)\n",
    "  5. [Populate Data](#Populate-Data)\n",
    "4. [Create New Table with Analysis](#Create-New-Table-with-Analysis)\n",
    "  1. [Run Analysis](#Run-Analysis)\n",
    "  2. [Display Analysis](#Display-Analysis)\n",
    "  3. [Test Code](#Test-Code)"
   ]
  },
  {
   "cell_type": "code",
   "execution_count": 1,
   "metadata": {
    "collapsed": false,
    "jupyter": {
     "outputs_hidden": false
    },
    "pycharm": {
     "name": "#%%\n"
    }
   },
   "outputs": [],
   "source": [
    "%reload_ext sql"
   ]
  },
  {
   "cell_type": "markdown",
   "metadata": {},
   "source": [
    "## Setup"
   ]
  },
  {
   "cell_type": "markdown",
   "metadata": {},
   "source": [
    "#### Import Athena Libraries"
   ]
  },
  {
   "cell_type": "code",
   "execution_count": 2,
   "metadata": {},
   "outputs": [],
   "source": [
    "from aws_orbit_sdk.database import get_athena\n",
    "from aws_orbit_sdk.common import get_workspace,get_scratch_database\n",
    "import aws_orbit_sdk.glue_catalog as datamaker_catalog_api\n",
    "import matplotlib.pyplot as plt"
   ]
  },
  {
   "cell_type": "markdown",
   "metadata": {},
   "source": [
    "#### Initialize athena,workspace and scratch database functions"
   ]
  },
  {
   "cell_type": "code",
   "execution_count": 3,
   "metadata": {},
   "outputs": [
    {
     "data": {
      "text/plain": [
       "{'BaseImageAddress': '495869084367.dkr.ecr.us-west-2.amazonaws.com/orbit-dev-env-jupyter-user',\n",
       " 'BootstrapS3Prefix': 'teams/dev-env/bootstrap/',\n",
       " 'ContainerDefaults': {'cpu': 4, 'memory': 16384},\n",
       " 'ContainerRunnerArn': None,\n",
       " 'EcsClusterName': None,\n",
       " 'EfsApId': 'fsap-0894c868f87247e58',\n",
       " 'EfsId': 'fs-2854b42f',\n",
       " 'EfsLifeCycle': 'AFTER_7_DAYS',\n",
       " 'EksK8SApiArn': None,\n",
       " 'EksPodRoleArn': 'arn:aws:iam::495869084367:role/orbit-dev-env-lake-creator-role',\n",
       " 'Elbs': {'lake-creator/jupyterhub-public': {'AvailabilityZones': ['us-west-2b',\n",
       "    'us-west-2a'],\n",
       "   'DNSName': 'af34c68f9392e4c5ea51e556806fb7fd-499719595.us-west-2.elb.amazonaws.com',\n",
       "   'Instances': [{'InstanceId': 'i-0dc2f63685d54e49a'},\n",
       "    {'InstanceId': 'i-0af50b7c421fb1b3f'},\n",
       "    {'InstanceId': 'i-09ee9d125abd5ecfb'},\n",
       "    {'InstanceId': 'i-08c0d3df6659813be'},\n",
       "    {'InstanceId': 'i-08b2d3f31f79f19bc'}],\n",
       "   'ListenerDescriptions': [{'Listener': {'InstancePort': 30986,\n",
       "      'InstanceProtocol': 'TCP',\n",
       "      'LoadBalancerPort': 80,\n",
       "      'Protocol': 'TCP'},\n",
       "     'PolicyNames': []}],\n",
       "   'LoadBalancerName': 'af34c68f9392e4c5ea51e556806fb7fd',\n",
       "   'Policies': {'AppCookieStickinessPolicies': [],\n",
       "    'LBCookieStickinessPolicies': [],\n",
       "    'OtherPolicies': []},\n",
       "   'Scheme': 'internet-facing',\n",
       "   'SecurityGroups': ['sg-0e8e1bb71038e3d34'],\n",
       "   'SourceSecurityGroup': {'GroupName': 'k8s-elb-af34c68f9392e4c5ea51e556806fb7fd',\n",
       "    'OwnerAlias': '495869084367'},\n",
       "   'Subnets': ['subnet-07063a52380046fc3', 'subnet-0f5cbb000d9de6e7a'],\n",
       "   'VPCId': 'vpc-0e0b5d14e072b9e07'}},\n",
       " 'Fargate': False,\n",
       " 'FinalImageAddress': '495869084367.dkr.ecr.us-west-2.amazonaws.com/orbit-dev-env-lake-creator-jupyter-user',\n",
       " 'GrantSudo': True,\n",
       " 'Image': None,\n",
       " 'JupyterUrl': 'af34c68f9392e4c5ea51e556806fb7fd-499719595.us-west-2.elb.amazonaws.com',\n",
       " 'JupyterhubInboundRanges': ['0.0.0.0/0'],\n",
       " 'K8Admin': True,\n",
       " 'Name': 'lake-creator',\n",
       " 'Plugins': [{'Module': 'code_commit',\n",
       "   'Parameters': {},\n",
       "   'Path': '../plugins/code_commit/',\n",
       "   'PluginId': 'code_commit'},\n",
       "  {'Module': 'hello_world',\n",
       "   'Parameters': {'foo': 'boo', 'xoo': 1234},\n",
       "   'Path': '../plugins/hello_world/',\n",
       "   'PluginId': 'hello_world'},\n",
       "  {'Module': 'team_script_launcher',\n",
       "   'Parameters': {'restartPolicy': 'Never',\n",
       "    'script': 'i=0\\nwhile [ $i -lt 1 ];\\ndo\\n  find /home/jovyan/shared/regression -mtime +5 -exec rm {} \\\\;\\n  sleep 60\\ndone\\necho \"DONE LOOP\"\\n'},\n",
       "   'Path': '../plugins/team_script_launcher/',\n",
       "   'PluginId': 'team_script_launcher'},\n",
       "  {'Module': 'redshift',\n",
       "   'Parameters': {'enable_user_activity_logging': 'true',\n",
       "    'node_type': 'DC2.large',\n",
       "    'number_of_nodes': '2',\n",
       "    'require_ssl': 'true',\n",
       "    'use_fips_ssl': 'true'},\n",
       "   'Path': '../plugins/redshift/',\n",
       "   'PluginId': 'redshift'},\n",
       "  {'Module': 'custom_cfn',\n",
       "   'Parameters': {'CfnTemplatePath': './bundle/plugins/demo-lake-creator-cfn-template.yaml'},\n",
       "   'Path': '../plugins/custom_cfn/',\n",
       "   'PluginId': 'custom_cfn'}],\n",
       " 'Policies': ['orbit-dev-env-demo-lake-creator-add-policy'],\n",
       " 'Profiles': [],\n",
       " 'ScratchBucket': 'orbit-f-dev-env-scratch-495869084367-77f116',\n",
       " 'SsmParameterName': '/orbit/dev-env/teams/lake-creator/context',\n",
       " 'StackName': 'orbit-dev-env-lake-creator',\n",
       " 'TeamKmsKeyArn': 'arn:aws:kms:us-west-2:495869084367:key/3d9d481a-9146-4d97-b559-0a91e19c9d09',\n",
       " 'TeamSecurityGroupId': 'sg-0c0055ea1a5be8f53',\n",
       " 'TeamSsmParameterName': '/orbit/dev-env/teams/lake-creator/team',\n",
       " 'region': 'us-west-2',\n",
       " 'env_name': 'dev-env',\n",
       " 'team_space': 'lake-creator'}"
      ]
     },
     "execution_count": 3,
     "metadata": {},
     "output_type": "execute_result"
    }
   ],
   "source": [
    "athena = get_athena()\n",
    "%config SqlMagic.autocommit=False # for engines that do not support autommit\n",
    "workspace = get_workspace()\n",
    "scratch_glue_db = get_scratch_database()\n",
    "team_space = workspace['team_space']\n",
    "#DO NOT RUN THIS NOTEBOOK IN LAKE CREATOR TEAM SPACE \n",
    "#assert team_space == 'lake-user'\n",
    "workspace"
   ]
  },
  {
   "cell_type": "markdown",
   "metadata": {},
   "source": [
    "#### Define Athena parameters"
   ]
  },
  {
   "cell_type": "code",
   "execution_count": null,
   "metadata": {
    "tags": [
     "parameters"
    ]
   },
   "outputs": [],
   "source": [
    "glue_db = \"cms_raw_db\"\n",
    "target_db = \"users\""
   ]
  },
  {
   "cell_type": "markdown",
   "metadata": {},
   "source": [
    "#### Establish Athena Connection"
   ]
  },
  {
   "cell_type": "code",
   "execution_count": null,
   "metadata": {},
   "outputs": [],
   "source": [
    "%connect_to_athena -database $glue_db"
   ]
  },
  {
   "cell_type": "markdown",
   "metadata": {},
   "source": [
    "#### Use SQL Query to Grab Sample Database Data"
   ]
  },
  {
   "cell_type": "markdown",
   "metadata": {},
   "source": [
    "%%sql \n",
    "\n",
    "SELECT 1 as \"Test\""
   ]
  },
  {
   "cell_type": "code",
   "execution_count": null,
   "metadata": {},
   "outputs": [],
   "source": [
    "%catalog -database $glue_db"
   ]
  },
  {
   "cell_type": "markdown",
   "metadata": {},
   "source": [
    "## Now lets start Data Analysis"
   ]
  },
  {
   "cell_type": "code",
   "execution_count": null,
   "metadata": {},
   "outputs": [],
   "source": [
    "# Now we can show how you can bind a variable to use within the SQL \n",
    "\n",
    "ben_id = \"F72554149E321FF9\"\t\n",
    "\n",
    "%sql select * from cms_raw_db.beneficiary_summary where desynpuf_id = :ben_id"
   ]
  },
  {
   "cell_type": "markdown",
   "metadata": {},
   "source": [
    "*** Maybe we want to write multi-line SQL directly and output it into a variable *** :"
   ]
  },
  {
   "cell_type": "markdown",
   "metadata": {},
   "source": [
    "#### Run the Dataset SQL Query to Select all Elements from the Database Sample File"
   ]
  },
  {
   "cell_type": "code",
   "execution_count": null,
   "metadata": {},
   "outputs": [],
   "source": [
    "%%sql dataset << \n",
    "\n",
    "SELECT * \n",
    "FROM cms_raw_db.beneficiary_summary \n",
    "limit 1"
   ]
  },
  {
   "cell_type": "markdown",
   "metadata": {},
   "source": [
    "#### Provide an Input Dataset"
   ]
  },
  {
   "cell_type": "code",
   "execution_count": null,
   "metadata": {},
   "outputs": [],
   "source": [
    "dataset"
   ]
  },
  {
   "cell_type": "markdown",
   "metadata": {},
   "source": [
    "#### Showing how error looks like with the missing column below"
   ]
  },
  {
   "cell_type": "code",
   "execution_count": null,
   "metadata": {},
   "outputs": [],
   "source": [
    "%%sql population_by_age_rs <<\n",
    "\n",
    "\n",
    "select age, count(desynpuf_id) as pop_size \n",
    "from\n",
    "    (select least(year(current_date),year(bene_death_dt)) - year(bene_birth_dt) as age\n",
    "    from cms_raw_db.beneficiary_summary) \n",
    "group by age \n",
    "order by age"
   ]
  },
  {
   "cell_type": "markdown",
   "metadata": {},
   "source": [
    "#### With a bit of python , we can also visualize data"
   ]
  },
  {
   "cell_type": "code",
   "execution_count": null,
   "metadata": {},
   "outputs": [],
   "source": [
    "%%sql population_by_age_rs <<\n",
    "select age,count(desynpuf_id) as pop_size \n",
    "from (\n",
    "    select desynpuf_id, least(year(current_date),year(bene_death_dt)) - year(bene_birth_dt) as age\n",
    "    from cms_raw_db.beneficiary_summary \n",
    "\n",
    ") A\n",
    "group by age\n",
    "order by age\n"
   ]
  },
  {
   "cell_type": "markdown",
   "metadata": {},
   "source": [
    "#### Populate the Data into a Chart with Age and Population Size Columns"
   ]
  },
  {
   "cell_type": "code",
   "execution_count": null,
   "metadata": {},
   "outputs": [],
   "source": [
    "# Lets see what we got into our variable\n",
    "\n",
    "population_by_age = population_by_age_rs.DataFrame()\n",
    "population_by_age.head()"
   ]
  },
  {
   "cell_type": "markdown",
   "metadata": {},
   "source": [
    "#### Visualize the Dataset Using a Scatter Plot"
   ]
  },
  {
   "cell_type": "code",
   "execution_count": null,
   "metadata": {},
   "outputs": [],
   "source": [
    "# Play with visualization:\n",
    "\n",
    "ax1 = population_by_age.plot.scatter(x='age',\n",
    "                      y='pop_size',\n",
    "                       c='DarkBlue')"
   ]
  },
  {
   "cell_type": "markdown",
   "metadata": {},
   "source": [
    "## Lets create a new table with our analysis"
   ]
  },
  {
   "cell_type": "code",
   "execution_count": null,
   "metadata": {},
   "outputs": [],
   "source": [
    "%%sql \n",
    "\n",
    "DROP TABLE IF EXISTS  users.population_by_age "
   ]
  },
  {
   "cell_type": "markdown",
   "metadata": {},
   "source": [
    "#### The Following SQL Query Creates a New Table"
   ]
  },
  {
   "cell_type": "code",
   "execution_count": null,
   "metadata": {},
   "outputs": [],
   "source": [
    "%%sql \n",
    "\n",
    "CREATE TABLE users.population_by_age \n",
    "WITH (format = 'PARQUET') \n",
    "AS \n",
    "select age,count(desynpuf_id) as pop_size \n",
    "from (\n",
    "    select desynpuf_id, least(year(current_date),year(bene_death_dt)) - year(bene_birth_dt) as age\n",
    "    from cms_raw_db.beneficiary_summary \n",
    "\n",
    ") A\n",
    "group by age\n",
    "order by age\n"
   ]
  },
  {
   "cell_type": "markdown",
   "metadata": {},
   "source": [
    "#### Run an Analysis SQL Query on the New Table"
   ]
  },
  {
   "cell_type": "code",
   "execution_count": null,
   "metadata": {},
   "outputs": [],
   "source": [
    "%%sql analysis << \n",
    "\n",
    "select * from users.population_by_age "
   ]
  },
  {
   "cell_type": "markdown",
   "metadata": {},
   "source": [
    "#### Display the Analysis as Input on a Grid"
   ]
  },
  {
   "cell_type": "code",
   "execution_count": null,
   "metadata": {
    "scrolled": true
   },
   "outputs": [],
   "source": [
    "analysis.DataFrame()"
   ]
  },
  {
   "cell_type": "markdown",
   "metadata": {},
   "source": [
    "#### lets test our code"
   ]
  },
  {
   "cell_type": "code",
   "execution_count": null,
   "metadata": {},
   "outputs": [],
   "source": [
    "assert population_by_age.at[0,'age'] > 20."
   ]
  },
  {
   "cell_type": "code",
   "execution_count": null,
   "metadata": {},
   "outputs": [],
   "source": []
  }
 ],
 "metadata": {
  "celltoolbar": "Tags",
  "kernelspec": {
   "display_name": "Python 3",
   "language": "python",
   "name": "python3"
  },
  "language_info": {
   "codemirror_mode": {
    "name": "ipython",
    "version": 3
   },
   "file_extension": ".py",
   "mimetype": "text/x-python",
   "name": "python",
   "nbconvert_exporter": "python",
   "pygments_lexer": "ipython3",
   "version": "3.8.5"
  }
 },
 "nbformat": 4,
 "nbformat_minor": 4
}
