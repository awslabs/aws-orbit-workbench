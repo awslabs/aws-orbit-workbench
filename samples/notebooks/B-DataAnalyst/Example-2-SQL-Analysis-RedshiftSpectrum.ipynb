{
 "cells": [
  {
   "cell_type": "markdown",
   "source": [
    "# Data Discovery using Redshift Spectrum\n",
    "\n",
    "## Demonstration of Redshift Capabilities\n",
    "\n",
    "* Functions:  https://docs.aws.amazon.com/redshift/latest/dg/c_SQL_functions.html\n",
    "* UDF: https://docs.aws.amazon.com/redshift/latest/dg/user-defined-functions.html\n",
    "* Store Procedure: https://docs.aws.amazon.com/redshift/latest/dg/stored-procedure-overview.html\n",
    "\n",
    "Using CMS Data at: https://www.cms.gov/Research-Statistics-Data-and-Systems/Statistics-Trends-and-Reports/Medicare-Provider-Charge-Data/Inpatient2016.html\n",
    "\n",
    "### Author: AWS Professional Services Emerging Technology and Intelligent Platforms Group\n",
    "### Date: Feb 26 2021\n",
    "\n"
   ],
   "metadata": {}
  },
  {
   "cell_type": "code",
   "execution_count": null,
   "source": [
    "%reload_ext sql\n",
    "from aws_orbit_sdk.database import get_redshift\n",
    "from aws_orbit_sdk.common import get_workspace,get_scratch_database\n",
    "rs = get_redshift()\n",
    "workspace = get_workspace()\n",
    "scratch_glue_db = get_scratch_database()\n",
    "team_space = workspace['team_space']\n",
    "env_name = workspace['env_name']\n",
    "glue_db = f\"cms_raw_db_{env_name}\".replace('-', '_')\n",
    "# DO NOT RUN THIS NOTEBOOK IN LAKE CREATOR TEAM SPACE \n",
    "assert team_space == 'lake-user'\n",
    "workspace"
   ],
   "outputs": [],
   "metadata": {}
  },
  {
   "cell_type": "markdown",
   "source": [
    "#### Start Connection to Redshift (and start cluster if needed)"
   ],
   "metadata": {}
  },
  {
   "cell_type": "code",
   "execution_count": null,
   "source": [
    "rs.get_redshift_functions()"
   ],
   "outputs": [],
   "metadata": {}
  },
  {
   "cell_type": "code",
   "execution_count": null,
   "source": [
    "rs.describe_redshift_function(rs.get_redshift_functions()[0])"
   ],
   "outputs": [],
   "metadata": {}
  },
  {
   "cell_type": "code",
   "execution_count": null,
   "source": [
    "%connect_to_redshift -cluster db-test -reuse -start -func Standard Nodes=3"
   ],
   "outputs": [],
   "metadata": {}
  },
  {
   "cell_type": "code",
   "execution_count": null,
   "source": [
    "%%sql \n",
    "\n",
    "SELECT 1 as \"Test\""
   ],
   "outputs": [],
   "metadata": {}
  },
  {
   "cell_type": "code",
   "execution_count": null,
   "source": [
    "%create_external_schema -s scratch -g $scratch_glue_db\n",
    "%create_external_schema -s $glue_db -g $glue_db"
   ],
   "outputs": [],
   "metadata": {}
  },
  {
   "cell_type": "code",
   "execution_count": null,
   "source": [
    "%catalog"
   ],
   "outputs": [],
   "metadata": {}
  },
  {
   "cell_type": "code",
   "execution_count": null,
   "source": [
    "%config SqlMagic.displaylimit=10\n",
    "%config SqlMagic.short_errors=True"
   ],
   "outputs": [],
   "metadata": {}
  },
  {
   "cell_type": "markdown",
   "source": [
    "## Start of Actual data discovery code"
   ],
   "metadata": {}
  },
  {
   "cell_type": "code",
   "execution_count": null,
   "source": [
    "%%sql\n",
    "\n",
    "SELECT tablename,location  FROM SVV_EXTERNAL_TABLES"
   ],
   "outputs": [],
   "metadata": {}
  },
  {
   "cell_type": "code",
   "execution_count": null,
   "source": [
    "%%sql\n",
    "\n",
    "select * from {glue_db}.beneficiary_summary limit 10"
   ],
   "outputs": [],
   "metadata": {}
  },
  {
   "cell_type": "code",
   "execution_count": null,
   "source": [
    "# Now we can show how you can bind a variable to use within the SQL \n",
    "\n",
    "ben_id = \"F72554149E321FF9\"\t\n",
    "\n",
    "%sql select * from {glue_db}.beneficiary_summary where desynpuf_id = :ben_id"
   ],
   "outputs": [],
   "metadata": {
    "scrolled": true
   }
  },
  {
   "cell_type": "code",
   "execution_count": null,
   "source": [
    "%%sql \n",
    "\n",
    "commit"
   ],
   "outputs": [],
   "metadata": {}
  },
  {
   "cell_type": "markdown",
   "source": [
    "*** Show DataGrid *** :"
   ],
   "metadata": {}
  },
  {
   "cell_type": "code",
   "execution_count": null,
   "source": [
    "%%sql population_by_age_rs <<\n",
    "select least(DATE_PART(y,current_date),DATE_PART(y,bene_death_dt)) - DATE_PART(y,bene_birth_dt) as age, \n",
    "count(desynpuf_id) as pop_size \n",
    "from {glue_db}.beneficiary_summary \n",
    "group by age \n",
    "order by age\n"
   ],
   "outputs": [],
   "metadata": {}
  },
  {
   "cell_type": "code",
   "execution_count": null,
   "source": [
    "# Commenting. Missing magic from SDK\n",
    "#%display_grid population_by_age_rs"
   ],
   "outputs": [],
   "metadata": {}
  },
  {
   "cell_type": "code",
   "execution_count": null,
   "source": [
    "%%create_external_table -g $scratch_glue_db -t myTempTable --a glue_db=$glue_db\n",
    "\n",
    "select least(DATE_PART(y,current_date),DATE_PART(y,bene_death_dt)) - DATE_PART(y,bene_birth_dt) as age, \n",
    "count(desynpuf_id) as pop_size \n",
    "from :glue_db.beneficiary_summary \n",
    "group by age \n",
    "order by age\n"
   ],
   "outputs": [],
   "metadata": {}
  },
  {
   "cell_type": "markdown",
   "source": [
    "## Redshift Spectrum Create Table as Select(CTAS)"
   ],
   "metadata": {}
  },
  {
   "cell_type": "code",
   "execution_count": null,
   "source": [
    "%%ddl\n",
    "DROP TABLE IF EXISTS scratch.myctastable"
   ],
   "outputs": [],
   "metadata": {}
  },
  {
   "cell_type": "code",
   "execution_count": null,
   "source": [
    "# Redshift Spectrum Create Table as Select(CTAS)\n",
    "ctas_table_name = \"myctastable\"\n",
    "scratch_bucket_name = workspace['ScratchBucket']\n",
    "ctas_table_path = f\"{scratch_bucket_name}/{scratch_glue_db}/{ctas_table_name}/\"\n",
    "ctas_table_path\n"
   ],
   "outputs": [],
   "metadata": {}
  },
  {
   "cell_type": "code",
   "execution_count": null,
   "source": [
    "!aws s3 ls --recursive $ctas_table_path\n",
    "!aws s3 rm $ctas_table_path --recursive\n",
    "!aws s3 ls --recursive $ctas_table_path"
   ],
   "outputs": [],
   "metadata": {}
  },
  {
   "cell_type": "code",
   "execution_count": null,
   "source": [
    "%%ddl --a glue_db=$glue_db\n",
    "CREATE EXTERNAL TABLE scratch.myctastable\n",
    "STORED AS parquet\n",
    "LOCATION :ctas_table_path\n",
    "AS \n",
    "select * from :glue_db.beneficiary_summary where desynpuf_id = :ben_id"
   ],
   "outputs": [],
   "metadata": {}
  },
  {
   "cell_type": "code",
   "execution_count": null,
   "source": [
    "%catalog -s scratch -t myctastable"
   ],
   "outputs": [],
   "metadata": {}
  },
  {
   "cell_type": "code",
   "execution_count": null,
   "source": [
    "%%sql ctastable <<\n",
    "\n",
    "SELECT schemaname, tablename  FROM SVV_EXTERNAL_TABLES where schemaname = 'scratch' and tablename = 'myctastable'"
   ],
   "outputs": [],
   "metadata": {}
  },
  {
   "cell_type": "code",
   "execution_count": null,
   "source": [
    "ctastable"
   ],
   "outputs": [],
   "metadata": {}
  },
  {
   "cell_type": "code",
   "execution_count": null,
   "source": [
    "assert ctastable.DataFrame().at[0,'tablename'] == 'myctastable'"
   ],
   "outputs": [],
   "metadata": {}
  },
  {
   "cell_type": "markdown",
   "source": [
    "## Redshift supports Store Procedures"
   ],
   "metadata": {}
  },
  {
   "cell_type": "code",
   "execution_count": null,
   "source": [
    "%%sql \n",
    "\n",
    "-- Redshift supports Store Procedures. Lets create one:\n",
    "    \n",
    "CREATE OR REPLACE PROCEDURE test_sp_notebook(f1 IN int, f2 INOUT varchar(256), OUT varchar(256))\n",
    "AS $$\n",
    "DECLARE\n",
    "  out_var alias for $3;\n",
    "  loop_var int;\n",
    "BEGIN\n",
    "  IF f1 is null OR f2 is null THEN\n",
    "    RAISE EXCEPTION 'input cannot be null';\n",
    "  END IF;\n",
    "  DROP TABLE if exists my_etl;\n",
    "  CREATE TEMP TABLE my_etl(a int, b varchar);\n",
    "    FOR loop_var IN 1..f1 LOOP\n",
    "        insert into my_etl values (loop_var, f2);\n",
    "        f2 := f2 || '+' || f2;\n",
    "    END LOOP;\n",
    "  SELECT INTO out_var count(*) from my_etl;\n",
    "END;\n",
    "$$ LANGUAGE plpgsql;"
   ],
   "outputs": [],
   "metadata": {}
  },
  {
   "cell_type": "code",
   "execution_count": null,
   "source": [
    "%%sql\n",
    "\n",
    "-- lets see if we can call it \n",
    "\n",
    "call test_sp_notebook(4,'2019');"
   ],
   "outputs": [],
   "metadata": {}
  },
  {
   "cell_type": "code",
   "execution_count": null,
   "source": [
    "%%sql \n",
    "\n",
    "-- Redshift supports temporary tables and Creata Table As for Redshift tables: \n",
    "\n",
    "CREATE Temporary TABLE \"MyData3\" AS (select current_date, * from {glue_db}.beneficiary_summary);\n",
    "\n",
    "select count(*) from \"MyData3\";"
   ],
   "outputs": [],
   "metadata": {}
  },
  {
   "cell_type": "markdown",
   "source": [
    "## This section is for Python and Pandas Programmers"
   ],
   "metadata": {}
  },
  {
   "cell_type": "code",
   "execution_count": null,
   "source": [
    "# Lets see what we got into our variable\n",
    "\n",
    "population_by_age = population_by_age_rs.DataFrame()\n",
    "population_by_age.head()"
   ],
   "outputs": [],
   "metadata": {}
  },
  {
   "cell_type": "code",
   "execution_count": null,
   "source": [
    "# Play with visualization:\n",
    "\n",
    "ax1 = population_by_age.plot.scatter(x='age',\n",
    "                      y='pop_size',\n",
    "                       c='DarkBlue')"
   ],
   "outputs": [],
   "metadata": {}
  },
  {
   "cell_type": "code",
   "execution_count": null,
   "source": [
    "%%sql \n",
    "\n",
    "-- Now I can use the temporary table\n",
    "\n",
    "select * from \"MyData3\" limit 2"
   ],
   "outputs": [],
   "metadata": {}
  },
  {
   "cell_type": "code",
   "execution_count": null,
   "source": [
    "%%sql \n",
    "\n",
    "commit"
   ],
   "outputs": [],
   "metadata": {}
  },
  {
   "cell_type": "markdown",
   "source": [
    "## Lets generate statistical analysis for the data we just created"
   ],
   "metadata": {}
  },
  {
   "cell_type": "raw",
   "source": [
    "%%sql data_to_profile <<\n",
    "select *\n",
    "from {glue_db}.beneficiary_summary \n",
    "limit 5000"
   ],
   "metadata": {}
  },
  {
   "cell_type": "raw",
   "source": [
    "import pandas_profiling as pp\n",
    "\n",
    "df = data_to_profile.DataFrame()\n",
    "profile = pp.ProfileReport(df)\n",
    "profile.to_file(\"./report-redshift.html\")\n"
   ],
   "metadata": {
    "jupyter": {
     "outputs_hidden": false
    },
    "pycharm": {
     "name": "#%%\n"
    }
   }
  },
  {
   "cell_type": "markdown",
   "source": [
    "## Now we can create native Redshift tables and even update them "
   ],
   "metadata": {}
  },
  {
   "cell_type": "code",
   "execution_count": null,
   "source": [
    "%%sql \n",
    "-- Lets create a Redshift Table from the Glue catalog\n",
    "\n",
    "DROP TABLE IF EXISTS \"MyUpdatableTable\";"
   ],
   "outputs": [],
   "metadata": {}
  },
  {
   "cell_type": "code",
   "execution_count": null,
   "source": [
    "%%sql \n",
    "-- Lets create a Redshift Table from the Glue catalog\n",
    "\n",
    "CREATE TABLE \"MyUpdatableTable\"\n",
    "AS (select 'M' as Gender, * from {glue_db}.beneficiary_summary);\n"
   ],
   "outputs": [],
   "metadata": {}
  },
  {
   "cell_type": "code",
   "execution_count": null,
   "source": [
    "%%sql \n",
    "\n",
    "UPDATE \"MyUpdatableTable\"\n",
    "Set gender = case when bene_sex_ident_cd=1 then 'M' else 'F' end\n",
    "where DATE_PART(y,bene_birth_dt) < 1940"
   ],
   "outputs": [],
   "metadata": {}
  },
  {
   "cell_type": "code",
   "execution_count": null,
   "source": [
    "%%sql data <<\n",
    "\n",
    "select gender,count(*) as cnt\n",
    "from  MyUpdatableTable\n",
    "group by gender"
   ],
   "outputs": [],
   "metadata": {}
  },
  {
   "cell_type": "code",
   "execution_count": null,
   "source": [
    "data"
   ],
   "outputs": [],
   "metadata": {}
  },
  {
   "cell_type": "code",
   "execution_count": null,
   "source": [
    "assert data.DataFrame().at[0,'cnt'] == 214413"
   ],
   "outputs": [],
   "metadata": {}
  },
  {
   "cell_type": "code",
   "execution_count": null,
   "source": [
    "# Deleting redshift cluster\n",
    "%delete_redshift_cluster -cluster db-test"
   ],
   "outputs": [],
   "metadata": {}
  }
 ],
 "metadata": {
  "kernelspec": {
   "display_name": "Python 3",
   "language": "python",
   "name": "python3"
  },
  "language_info": {
   "codemirror_mode": {
    "name": "ipython",
    "version": 3
   },
   "file_extension": ".py",
   "mimetype": "text/x-python",
   "name": "python",
   "nbconvert_exporter": "python",
   "pygments_lexer": "ipython3",
   "version": "3.8.6"
  }
 },
 "nbformat": 4,
 "nbformat_minor": 4
}