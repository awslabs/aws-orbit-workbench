{
 "cells": [
  {
   "cell_type": "markdown",
   "id": "149754c2",
   "metadata": {},
   "source": [
    "### Databrew demo notebook"
   ]
  },
  {
   "cell_type": "code",
   "execution_count": null,
   "id": "bcac1334",
   "metadata": {},
   "outputs": [],
   "source": [
    "import boto3\n",
    "import json \n",
    "import pprint\n",
    "import time\n",
    "import datetime\n",
    "from aws_orbit_sdk.common import get_workspace"
   ]
  },
  {
   "cell_type": "code",
   "execution_count": null,
   "id": "5269a6e4",
   "metadata": {},
   "outputs": [],
   "source": [
    "ssm = boto3.client(\"ssm\")\n",
    "databrew_client = boto3.client(\"databrew\")\n",
    "\n",
    "workspace = get_workspace()\n",
    "workspace"
   ]
  },
  {
   "cell_type": "code",
   "execution_count": null,
   "id": "35efc5fc",
   "metadata": {},
   "outputs": [],
   "source": [
    "env_name = workspace[\"env_name\"]\n",
    "team_name = workspace[\"team_space\"]\n",
    "pod_role_arn = workspace[\"EksPodRoleArn\"]"
   ]
  },
  {
   "cell_type": "code",
   "execution_count": null,
   "id": "f2db0eee",
   "metadata": {},
   "outputs": [],
   "source": [
    "demo_config = json.loads(ssm.get_parameter(Name=f\"/orbit/{env_name}/demo\")['Parameter']['Value'])\n",
    "lake_bucket = demo_config.get(\"LakeBucket\").split(':::')[1]\n",
    "lake_bucket"
   ]
  },
  {
   "cell_type": "code",
   "execution_count": null,
   "id": "553e53dc",
   "metadata": {},
   "outputs": [],
   "source": [
    "dataset_name = 'Beneficiary-Summary-Dataset'\n",
    "data_profile_job_name = 'Beneficiary-Summary-Data-Profile-Job'\n",
    "recipe_name = 'Beneficiary-Summary-Recipe'\n",
    "project_name = 'Beneficiary-Summary-Project'\n",
    "project_recipe_job_name = 'Beneficiary-Summary-Project-Recipe-Job'"
   ]
  },
  {
   "cell_type": "markdown",
   "id": "5cb1135a",
   "metadata": {},
   "source": [
    "## Clean Account \n"
   ]
  },
  {
   "cell_type": "code",
   "execution_count": null,
   "id": "573e6d3f",
   "metadata": {},
   "outputs": [],
   "source": [
    "# Delete Data Profile job \n",
    "try:\n",
    "    delete_profile_job_response = databrew_client.delete_job(\n",
    "        Name=data_profile_job_name,      \n",
    "    )\n",
    "    pprint.pprint(delete_profile_job_response)\n",
    "except Exception as e:\n",
    "    print(f\"Missing {data_profile_job_name}, create new data profiling job.\")"
   ]
  },
  {
   "cell_type": "code",
   "execution_count": null,
   "id": "558370cb",
   "metadata": {},
   "outputs": [],
   "source": [
    "# Delete project recipe job\n",
    "try:\n",
    "    delete_project_recipe_job_response = databrew_client.delete_job(\n",
    "        Name=project_recipe_job_name\n",
    "    )\n",
    "    pprint.pprint(delete_project_recipe_job_response)\n",
    "except Exception as e:\n",
    "    print(f\"Missing {project_recipe_job_name}, create new project recipe job\")"
   ]
  },
  {
   "cell_type": "code",
   "execution_count": null,
   "id": "d5d4ee55",
   "metadata": {},
   "outputs": [],
   "source": [
    "# Delete project\n",
    "try:\n",
    "    delete_project_response = databrew_client.delete_project(\n",
    "        Name=project_name\n",
    "    )\n",
    "    pprint.pprint(delete_project_response)\n",
    "except Exception as e:\n",
    "    print(f\"Mising {project_name}, create new project\")"
   ]
  },
  {
   "cell_type": "code",
   "execution_count": null,
   "id": "4ba6b935",
   "metadata": {},
   "outputs": [],
   "source": [
    "# Delete recipe and versions\n",
    "try:\n",
    "    batch_delete_recipe_version_response = databrew_client.batch_delete_recipe_version(\n",
    "        Name=recipe_name,\n",
    "        RecipeVersions=[\n",
    "            '1.0', # Published version\n",
    "            '1.1'  # Working version      \n",
    "        ]\n",
    "    )\n",
    "    pprint.pprint(batch_delete_recipe_version_response)\n",
    "except Exception as e:\n",
    "    print(f\"Missing {recipe_name}, create new recipe and publish.\")"
   ]
  },
  {
   "cell_type": "code",
   "execution_count": null,
   "id": "d1205dd1",
   "metadata": {},
   "outputs": [],
   "source": [
    "# Delete Dataset\n",
    "try:\n",
    "    dataset_delete_response = databrew_client.delete_dataset(\n",
    "        Name=dataset_name\n",
    "    )\n",
    "    pprint.pprint(dataset_delete_response)\n",
    "except databrew_client.exceptions.ResourceNotFoundException as rnfe:\n",
    "    print(f\"Missing {dataset_name}, create new dataset. \")    \n",
    "except Exception as e:    \n",
    "    raise e"
   ]
  },
  {
   "cell_type": "markdown",
   "id": "73e2a5d6",
   "metadata": {},
   "source": [
    "## Create data set "
   ]
  },
  {
   "cell_type": "code",
   "execution_count": null,
   "id": "b4942934",
   "metadata": {},
   "outputs": [],
   "source": [
    "\n",
    "create_dataset_response = databrew_client.create_dataset(\n",
    "    Name=dataset_name,\n",
    "    Format='CSV',\n",
    "    FormatOptions={\n",
    "        'Csv': {\n",
    "            'Delimiter': ',',\n",
    "            'HeaderRow': True\n",
    "        }\n",
    "    },\n",
    "    Input={\n",
    "        'S3InputDefinition': {\n",
    "            'Bucket': lake_bucket,\n",
    "            'Key': 'extracted/Beneficiary_Summary/DE1_0_2008_Beneficiary_Summary_File_Sample_1.csv'\n",
    "        }\n",
    "    },\n",
    "    Tags={\n",
    "        'env': env_name,\n",
    "        'team': team_name\n",
    "    }\n",
    ")\n",
    "pprint.pprint(create_dataset_response)"
   ]
  },
  {
   "cell_type": "markdown",
   "id": "972bc84b",
   "metadata": {},
   "source": [
    "## Create Data profiling job"
   ]
  },
  {
   "cell_type": "code",
   "execution_count": null,
   "id": "0e3dd229",
   "metadata": {},
   "outputs": [],
   "source": [
    "data_profile_response = databrew_client.create_profile_job(\n",
    "    DatasetName=dataset_name,\n",
    "    Name=data_profile_job_name,\n",
    "    LogSubscription='ENABLE',\n",
    "    MaxCapacity=5,\n",
    "    MaxRetries=0,\n",
    "    OutputLocation={\n",
    "        'Bucket': lake_bucket,\n",
    "        'Key': 'databrew/dataprofileoutput/'\n",
    "    },\n",
    "    RoleArn=pod_role_arn,\n",
    "    Tags={\n",
    "        'env': env_name,\n",
    "        'team': team_name\n",
    "    },\n",
    "    Timeout=2800,\n",
    "    JobSample={\n",
    "        'Mode': 'CUSTOM_ROWS',\n",
    "        'Size': 1000\n",
    "    }\n",
    ")\n",
    "pprint.pprint(data_profile_response)"
   ]
  },
  {
   "cell_type": "markdown",
   "id": "8817277b",
   "metadata": {},
   "source": [
    "## Start data profiling job"
   ]
  },
  {
   "cell_type": "code",
   "execution_count": null,
   "id": "7bd6e655",
   "metadata": {},
   "outputs": [],
   "source": [
    "start_job_run_response = databrew_client.start_job_run(\n",
    "    Name=data_profile_job_name\n",
    ")\n",
    "pprint.pprint(start_job_run_response)"
   ]
  },
  {
   "cell_type": "markdown",
   "id": "ee94ea0c",
   "metadata": {},
   "source": [
    "## Create Recipe"
   ]
  },
  {
   "cell_type": "code",
   "execution_count": null,
   "id": "e0596118",
   "metadata": {},
   "outputs": [],
   "source": [
    "\n",
    "create_recipe_response = databrew_client.create_recipe(\n",
    "    Description='Demo Data Transformation - convert birth date format ',\n",
    "    Name=recipe_name,\n",
    "    Steps=[\n",
    "      {\n",
    "        \"Action\": {\n",
    "          \"Operation\": \"DUPLICATE\",\n",
    "          \"Parameters\": {\n",
    "            \"sourceColumn\": \"BENE_BIRTH_DT\",\n",
    "            \"targetColumn\": \"BENE_BIRTH_DT_FORMAT\"\n",
    "          }\n",
    "        }\n",
    "      },\n",
    "      {\n",
    "        \"Action\": {\n",
    "          \"Operation\": \"CHANGE_DATA_TYPE\",\n",
    "          \"Parameters\": {\n",
    "            \"columnDataType\": \"string\",\n",
    "            \"sourceColumn\": \"BENE_BIRTH_DT_FORMAT\"\n",
    "          }\n",
    "        }\n",
    "      },\n",
    "      {\n",
    "        \"Action\": {\n",
    "          \"Operation\": \"FORMAT_DATE\",\n",
    "          \"Parameters\": {\n",
    "            \"sourceColumn\": \"BENE_BIRTH_DT_FORMAT\",\n",
    "            \"targetDateFormat\": \"dd*month*yyyy\"\n",
    "          }\n",
    "        }\n",
    "      }\n",
    "    ],\n",
    "    Tags={\n",
    "        'env': env_name,\n",
    "        'team': team_name\n",
    "    }\n",
    ")\n",
    "pprint.pprint(create_recipe_response)"
   ]
  },
  {
   "cell_type": "markdown",
   "id": "f6288959",
   "metadata": {},
   "source": [
    "## Publish recipe"
   ]
  },
  {
   "cell_type": "code",
   "execution_count": null,
   "id": "8f3ae4f2",
   "metadata": {},
   "outputs": [],
   "source": [
    "publish_recipe_response = databrew_client.publish_recipe(\n",
    "    Description='Publishing Demo Data Transformation - convert birth date format ',\n",
    "    Name=recipe_name\n",
    ")\n",
    "pprint.pprint(publish_recipe_response)"
   ]
  },
  {
   "cell_type": "markdown",
   "id": "9f8742e4",
   "metadata": {},
   "source": [
    "## Create Project with a recipe that doesn't have an associated job.\n"
   ]
  },
  {
   "cell_type": "code",
   "execution_count": null,
   "id": "9b46e1e2",
   "metadata": {},
   "outputs": [],
   "source": [
    "\n",
    "create_project_response = databrew_client.create_project(\n",
    "    DatasetName=dataset_name,    \n",
    "    Name=project_name,\n",
    "    RecipeName=recipe_name,\n",
    "    Sample={\n",
    "        'Size': 500,\n",
    "        'Type': 'FIRST_N'\n",
    "    },\n",
    "    RoleArn= workspace[\"EksPodRoleArn\"],\n",
    "    Tags={\n",
    "        'env': env_name,\n",
    "        'team': team_name\n",
    "    },\n",
    ")\n",
    "\n",
    "pprint.pprint(create_project_response)"
   ]
  },
  {
   "cell_type": "code",
   "execution_count": null,
   "id": "51db0718",
   "metadata": {},
   "outputs": [],
   "source": [
    "# Create Project based Recipe job \n",
    "\n",
    "create_recipe_job_response = databrew_client.create_recipe_job(\n",
    "    #DatasetName='Beneficiary-Summary-Dataset',    \n",
    "    Name=project_recipe_job_name,\n",
    "    LogSubscription='ENABLE',\n",
    "    MaxCapacity=5,\n",
    "    MaxRetries=0,\n",
    "    Outputs=[\n",
    "        {\n",
    "           'Format': 'CSV',            \n",
    "            'Location': {\n",
    "                'Bucket': lake_bucket,\n",
    "                'Key': 'databrew/recipejob/output/Beneficiary_Summary/'\n",
    "            },\n",
    "            'Overwrite': True,\n",
    "            'FormatOptions': {\n",
    "                'Csv': {\n",
    "                    'Delimiter': ','\n",
    "                }\n",
    "            }\n",
    "        },\n",
    "    ],\n",
    "    ProjectName=project_name,\n",
    "    #RecipeReference={\n",
    "        #'Name': 'Beneficiary-Summary-Sample-2-Recipe',\n",
    "        #'RecipeVersion': '1.0'\n",
    "    #},\n",
    "    RoleArn=pod_role_arn,\n",
    "    Tags={\n",
    "        'env': env_name,\n",
    "        'team': team_name\n",
    "    },\n",
    "    Timeout=2880\n",
    ")\n",
    "pprint.pprint(create_recipe_job_response)"
   ]
  },
  {
   "cell_type": "markdown",
   "id": "783d97a8",
   "metadata": {},
   "source": [
    "## Start job run"
   ]
  },
  {
   "cell_type": "code",
   "execution_count": null,
   "id": "b348269d",
   "metadata": {},
   "outputs": [],
   "source": [
    "start_job_run_response = databrew_client.start_job_run(\n",
    "    Name=project_recipe_job_name\n",
    ")\n",
    "pprint.pprint(start_job_run_response)"
   ]
  },
  {
   "cell_type": "code",
   "execution_count": null,
   "id": "1d293290",
   "metadata": {},
   "outputs": [],
   "source": [
    "run_id = start_job_run_response[\"RunId\"]\n",
    "print(run_id)"
   ]
  },
  {
   "cell_type": "code",
   "execution_count": null,
   "id": "a3aab79a",
   "metadata": {},
   "outputs": [],
   "source": [
    "describe_job_run_response = databrew_client.describe_job_run(\n",
    "    Name=project_recipe_job_name,\n",
    "    RunId= run_id\n",
    ")\n",
    "pprint.pprint(describe_job_run_response)"
   ]
  },
  {
   "cell_type": "code",
   "execution_count": null,
   "id": "6d79ec73",
   "metadata": {},
   "outputs": [],
   "source": [
    "# Wait for job completion \n",
    "# Possible job run states - 'STARTING'|'RUNNING'|'STOPPING'|'STOPPED'|'SUCCEEDED'|'FAILED'|'TIMEOUT'\n",
    "\n",
    "import time \n",
    "from datetime import datetime\n",
    "wait_time_seconds = 60\n",
    "time.sleep(wait_time_seconds)\n",
    "\n",
    "    \n",
    "job_status = describe_job_run_response[\"State\"]\n",
    "while job_status == 'RUNNING':\n",
    "    time.sleep(wait_time_seconds)\n",
    "    print(f\"{datetime.now()} - Sleeping {wait_time_seconds} seconds \")\n",
    "    job_status = databrew_client.describe_job_run(Name=project_recipe_job_name, RunId= run_id)[\"State\"]\n"
   ]
  },
  {
   "cell_type": "code",
   "execution_count": null,
   "id": "1858d2c1",
   "metadata": {},
   "outputs": [],
   "source": [
    "!aws s3 ls s3://$lake_bucket/databrew/recipejob/output/Beneficiary_Summary/ --recursive "
   ]
  },
  {
   "cell_type": "code",
   "execution_count": null,
   "id": "46aed858",
   "metadata": {},
   "outputs": [],
   "source": [
    "!aws s3 cp s3://$lake_bucket/databrew/recipejob/output/Beneficiary_Summary/Beneficiary-Summary-Project-Recipe-Job_part00000.csv - | head -n 5"
   ]
  },
  {
   "cell_type": "code",
   "execution_count": null,
   "id": "f244002c",
   "metadata": {},
   "outputs": [],
   "source": [
    "assert job_status == 'SUCCEEDED'"
   ]
  },
  {
   "cell_type": "code",
   "execution_count": null,
   "id": "9ffb36a1",
   "metadata": {},
   "outputs": [],
   "source": []
  }
 ],
 "metadata": {
  "kernelspec": {
   "display_name": "Python 3",
   "language": "python",
   "name": "python3"
  },
  "language_info": {
   "codemirror_mode": {
    "name": "ipython",
    "version": 3
   },
   "file_extension": ".py",
   "mimetype": "text/x-python",
   "name": "python",
   "nbconvert_exporter": "python",
   "pygments_lexer": "ipython3",
   "version": "3.8.8"
  }
 },
 "nbformat": 4,
 "nbformat_minor": 5
}
