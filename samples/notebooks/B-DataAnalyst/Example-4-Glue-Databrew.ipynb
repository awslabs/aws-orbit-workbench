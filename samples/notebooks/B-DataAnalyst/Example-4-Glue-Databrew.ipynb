{
 "cells": [
  {
   "cell_type": "markdown",
   "id": "d30c2884",
   "metadata": {},
   "source": [
    "### Databrew demo notebook"
   ]
  },
  {
   "cell_type": "code",
   "execution_count": 99,
   "id": "4120c4bf",
   "metadata": {},
   "outputs": [],
   "source": [
    "import boto3\n",
    "import json \n",
    "import pprint\n",
    "import time\n",
    "import datetime\n",
    "from aws_orbit_sdk.common import get_workspace"
   ]
  },
  {
   "cell_type": "code",
   "execution_count": 100,
   "id": "2abe80ca",
   "metadata": {},
   "outputs": [
    {
     "data": {
      "text/plain": [
       "{'BaseImageAddress': '750821335976.dkr.ecr.us-west-2.amazonaws.com/orbit-dev-env-jupyter-user:latest',\n",
       " 'BootstrapS3Prefix': 'teams/dev-env/bootstrap/',\n",
       " 'ContainerDefaults': {'cpu': 4, 'memory': 16384},\n",
       " 'ContainerRunnerArn': None,\n",
       " 'EcsClusterName': None,\n",
       " 'EfsApId': 'fsap-0eb1a1cd92fb90a0a',\n",
       " 'EfsId': 'fs-1901281e',\n",
       " 'EfsLifeCycle': 'AFTER_7_DAYS',\n",
       " 'EksK8SApiArn': None,\n",
       " 'EksPodRoleArn': 'arn:aws:iam::750821335976:role/orbit-dev-env-lake-user-role',\n",
       " 'Elbs': {'lake-user/jupyterhub-public': {'AvailabilityZones': ['us-west-2b',\n",
       "    'us-west-2a'],\n",
       "   'DNSName': 'a014b72dea49c4e5192e4a0b2f19d9ac-1247107658.us-west-2.elb.amazonaws.com',\n",
       "   'Instances': [{'InstanceId': 'i-0f7129a311215afe3'},\n",
       "    {'InstanceId': 'i-0c6d4c9bc4267c5e9'},\n",
       "    {'InstanceId': 'i-085b4da3cf97c2a33'},\n",
       "    {'InstanceId': 'i-069cd7ac22ad2c935'},\n",
       "    {'InstanceId': 'i-064f5478e9c0b0fc9'},\n",
       "    {'InstanceId': 'i-027177c067b12a152'},\n",
       "    {'InstanceId': 'i-01955b4e63b346da7'}],\n",
       "   'ListenerDescriptions': [{'Listener': {'InstancePort': 32315,\n",
       "      'InstanceProtocol': 'TCP',\n",
       "      'LoadBalancerPort': 80,\n",
       "      'Protocol': 'TCP'},\n",
       "     'PolicyNames': []}],\n",
       "   'LoadBalancerName': 'a014b72dea49c4e5192e4a0b2f19d9ac',\n",
       "   'Policies': {'AppCookieStickinessPolicies': [],\n",
       "    'LBCookieStickinessPolicies': [],\n",
       "    'OtherPolicies': []},\n",
       "   'Scheme': 'internet-facing',\n",
       "   'SecurityGroups': ['sg-0fd6dee0d4b445e52'],\n",
       "   'SourceSecurityGroup': {'GroupName': 'k8s-elb-a014b72dea49c4e5192e4a0b2f19d9ac',\n",
       "    'OwnerAlias': '750821335976'},\n",
       "   'Subnets': ['subnet-04c74387488e2262b', 'subnet-06b524fe83f9c073e'],\n",
       "   'VPCId': 'vpc-0a6346b4fca4a4420'}},\n",
       " 'Fargate': True,\n",
       " 'FinalImageAddress': '750821335976.dkr.ecr.us-west-2.amazonaws.com/orbit-dev-env-jupyter-user:latest',\n",
       " 'GrantSudo': True,\n",
       " 'Image': None,\n",
       " 'JupyterUrl': 'a014b72dea49c4e5192e4a0b2f19d9ac-1247107658.us-west-2.elb.amazonaws.com',\n",
       " 'JupyterhubInboundRanges': ['0.0.0.0/0'],\n",
       " 'K8Admin': False,\n",
       " 'Name': 'lake-user',\n",
       " 'Plugins': [{'Module': 'code_commit',\n",
       "   'Parameters': {},\n",
       "   'Path': '../plugins/code_commit/',\n",
       "   'PluginId': 'code_commit'},\n",
       "  {'Module': 'hello_world',\n",
       "   'Parameters': {'foo': 'boo', 'xoo': 1234},\n",
       "   'Path': '../plugins/hello_world/',\n",
       "   'PluginId': 'hello_world'},\n",
       "  {'Module': 'team_script_launcher',\n",
       "   'Parameters': {'restartPolicy': 'Never',\n",
       "    'script': 'i=0\\nwhile [ $i -lt 1 ];\\ndo\\n  find /efs/shared/regression -mtime +5 -exec rm {} \\\\;\\n  sleep 60\\ndone\\necho \"DONE LOOP\"\\n'},\n",
       "   'Path': '../plugins/team_script_launcher/',\n",
       "   'PluginId': 'team_script_launcher'},\n",
       "  {'Module': 'redshift',\n",
       "   'Parameters': {'enable_user_activity_logging': 'true',\n",
       "    'node_type': 'DC2.large',\n",
       "    'number_of_nodes': '2',\n",
       "    'require_ssl': 'true',\n",
       "    'use_fips_ssl': 'true'},\n",
       "   'Path': '../plugins/redshift/',\n",
       "   'PluginId': 'redshift'},\n",
       "  {'Module': 'custom_cfn',\n",
       "   'Parameters': {'CfnTemplatePath': './bundle/plugins/demo-lake-user-cfn-template.yaml'},\n",
       "   'Path': '../plugins/custom_cfn/',\n",
       "   'PluginId': 'custom_cfn'},\n",
       "  {'Module': 'emr_on_eks',\n",
       "   'Parameters': {},\n",
       "   'Path': '../plugins/emr_on_eks/',\n",
       "   'PluginId': 'enable_emr_on_eks'}],\n",
       " 'Policies': ['orbit-dev-env-demo-lake-user-add-policy'],\n",
       " 'Profiles': [{'description': '1 CPU + 1G MEM',\n",
       "   'display_name': 'Nano',\n",
       "   'kubespawner_override': {'cpu_guarantee': 1,\n",
       "    'cpu_limit': 1,\n",
       "    'mem_guarantee': '1G',\n",
       "    'mem_limit': '1G'},\n",
       "   'slug': 'nano'},\n",
       "  {'default': 'True',\n",
       "   'description': '2 CPU + 2G MEM',\n",
       "   'display_name': 'Micro',\n",
       "   'kubespawner_override': {'cpu_guarantee': 2,\n",
       "    'cpu_limit': 2,\n",
       "    'mem_guarantee': '2G',\n",
       "    'mem_limit': '2G'},\n",
       "   'slug': 'micro'},\n",
       "  {'description': '1 CPU + 1G MEM with Custom Image1',\n",
       "   'display_name': 'Custom Image1',\n",
       "   'kubespawner_override': {'cpu_guarantee': 1,\n",
       "    'cpu_limit': 1,\n",
       "    'image': '${account}.dkr.ecr.${region}.amazonaws.com/orbit-${env}-custom_image1',\n",
       "    'mem_guarantee': '1G',\n",
       "    'mem_limit': '1G'},\n",
       "   'slug': 'custom1'},\n",
       "  {'description': '4 CPU + 8G MEM',\n",
       "   'display_name': 'Small (Apache Spark)',\n",
       "   'kubespawner_override': {'cpu_guarantee': 4,\n",
       "    'cpu_limit': 4,\n",
       "    'image': '${account}.dkr.ecr.${region}.amazonaws.com/orbit-${env}-lake-user-spark',\n",
       "    'mem_guarantee': '8G',\n",
       "    'mem_limit': '8G'},\n",
       "   'slug': 'small-spark'}],\n",
       " 'ScratchBucket': 'orbit-foundation-dev-env-scratch-750821335976-4858bf',\n",
       " 'SsmParameterName': '/orbit/dev-env/teams/lake-user/context',\n",
       " 'StackName': 'orbit-dev-env-lake-user',\n",
       " 'TeamKmsKeyArn': 'arn:aws:kms:us-west-2:750821335976:key/96023a3d-5a3e-40c4-aadf-68982a539065',\n",
       " 'TeamSecurityGroupId': 'sg-0bc21e41b96798586',\n",
       " 'TeamSsmParameterName': '/orbit/dev-env/teams/lake-user/team',\n",
       " 'region': 'us-west-2',\n",
       " 'env_name': 'dev-env',\n",
       " 'team_space': 'lake-user'}"
      ]
     },
     "execution_count": 100,
     "metadata": {},
     "output_type": "execute_result"
    }
   ],
   "source": [
    "ssm = boto3.client(\"ssm\")\n",
    "databrew_client = boto3.client(\"databrew\")\n",
    "\n",
    "workspace = get_workspace()\n",
    "workspace"
   ]
  },
  {
   "cell_type": "code",
   "execution_count": 101,
   "id": "0f670bc5",
   "metadata": {},
   "outputs": [],
   "source": [
    "env_name = workspace[\"env_name\"]\n",
    "team_name = workspace[\"team_space\"]\n",
    "pod_role_arn = workspace[\"EksPodRoleArn\"]"
   ]
  },
  {
   "cell_type": "code",
   "execution_count": 102,
   "id": "013b8c3e",
   "metadata": {},
   "outputs": [
    {
     "data": {
      "text/plain": [
       "'orbit-dev-env-demo-lake-750821335976-b82a3f'"
      ]
     },
     "execution_count": 102,
     "metadata": {},
     "output_type": "execute_result"
    }
   ],
   "source": [
    "demo_config = json.loads(ssm.get_parameter(Name=f\"/orbit/{env_name}/demo\")['Parameter']['Value'])\n",
    "lake_bucket = demo_config.get(\"LakeBucket\").split(':::')[1]\n",
    "lake_bucket"
   ]
  },
  {
   "cell_type": "code",
   "execution_count": 103,
   "id": "18f1d35d",
   "metadata": {},
   "outputs": [],
   "source": [
    "dataset_name = 'Beneficiary-Summary-Dataset'\n",
    "data_profile_job_name = 'Beneficiary-Summary-Data-Profile-Job'\n",
    "recipe_name = 'Beneficiary-Summary-Recipe'\n",
    "project_name = 'Beneficiary-Summary-Project'\n",
    "project_recipe_job_name = 'Beneficiary-Summary-Project-Recipe-Job'"
   ]
  },
  {
   "cell_type": "markdown",
   "id": "2e787101",
   "metadata": {},
   "source": [
    "## Clean Account \n"
   ]
  },
  {
   "cell_type": "code",
   "execution_count": 107,
   "id": "1e7a06dd",
   "metadata": {},
   "outputs": [
    {
     "name": "stdout",
     "output_type": "stream",
     "text": [
      "Missing Beneficiary-Summary-Data-Profile-Job, create new data profiling job.\n"
     ]
    }
   ],
   "source": [
    "# Delete Data Profile job \n",
    "try:\n",
    "    delete_profile_job_response = databrew_client.delete_job(\n",
    "        Name=data_profile_job_name,      \n",
    "    )\n",
    "    pprint.pprint(delete_profile_job_response)\n",
    "except Exception as e:\n",
    "    print(f\"Missing {data_profile_job_name}, create new data profiling job.\")"
   ]
  },
  {
   "cell_type": "code",
   "execution_count": 108,
   "id": "fb39a3a8",
   "metadata": {},
   "outputs": [
    {
     "name": "stdout",
     "output_type": "stream",
     "text": [
      "Missing Beneficiary-Summary-Project-Recipe-Job, create new project recipe job\n"
     ]
    }
   ],
   "source": [
    "# Delete project recipe job\n",
    "try:\n",
    "    delete_project_recipe_job_response = databrew_client.delete_job(\n",
    "        Name=project_recipe_job_name\n",
    "    )\n",
    "    pprint.pprint(delete_project_recipe_job_response)\n",
    "except Exception as e:\n",
    "    print(f\"Missing {project_recipe_job_name}, create new project recipe job\")"
   ]
  },
  {
   "cell_type": "code",
   "execution_count": 109,
   "id": "6fa529fd",
   "metadata": {},
   "outputs": [
    {
     "name": "stdout",
     "output_type": "stream",
     "text": [
      "Mising Beneficiary-Summary-Project, create new project\n"
     ]
    }
   ],
   "source": [
    "# Delete project\n",
    "try:\n",
    "    delete_project_response = databrew_client.delete_project(\n",
    "        Name=project_name\n",
    "    )\n",
    "    pprint.pprint(delete_project_response)\n",
    "except Exception as e:\n",
    "    print(f\"Mising {project_name}, create new project\")"
   ]
  },
  {
   "cell_type": "code",
   "execution_count": 110,
   "id": "64c50bfb",
   "metadata": {},
   "outputs": [
    {
     "name": "stdout",
     "output_type": "stream",
     "text": [
      "Missing Beneficiary-Summary-Recipe, create new recipe and publish.\n"
     ]
    }
   ],
   "source": [
    "# Delete recipe and versions\n",
    "try:\n",
    "    batch_delete_recipe_version_response = databrew_client.batch_delete_recipe_version(\n",
    "        Name=recipe_name,\n",
    "        RecipeVersions=[\n",
    "            '1.0', # Published version\n",
    "            '1.1'  # Working version      \n",
    "        ]\n",
    "    )\n",
    "    pprint.pprint(batch_delete_recipe_version_response)\n",
    "except Exception as e:\n",
    "    print(f\"Missing {recipe_name}, create new recipe and publish.\")"
   ]
  },
  {
   "cell_type": "code",
   "execution_count": 111,
   "id": "1ae4ea76",
   "metadata": {},
   "outputs": [
    {
     "name": "stdout",
     "output_type": "stream",
     "text": [
      "Missing Beneficiary-Summary-Dataset, create new dataset. \n"
     ]
    }
   ],
   "source": [
    "# Delete Dataset\n",
    "try:\n",
    "    dataset_delete_response = databrew_client.delete_dataset(\n",
    "        Name=dataset_name\n",
    "    )\n",
    "    pprint.pprint(dataset_delete_response)\n",
    "except databrew_client.exceptions.ResourceNotFoundException as rnfe:\n",
    "    print(f\"Missing {dataset_name}, create new dataset. \")    \n",
    "except Exception as e:    \n",
    "    raise e"
   ]
  },
  {
   "cell_type": "markdown",
   "id": "14f2c132",
   "metadata": {},
   "source": [
    "## Create data set "
   ]
  },
  {
   "cell_type": "code",
   "execution_count": 112,
   "id": "a7bba9f0",
   "metadata": {},
   "outputs": [
    {
     "name": "stdout",
     "output_type": "stream",
     "text": [
      "{'Name': 'Beneficiary-Summary-Dataset',\n",
      " 'ResponseMetadata': {'HTTPHeaders': {'content-length': '38',\n",
      "                                      'content-type': 'application/json',\n",
      "                                      'date': 'Tue, 20 Apr 2021 15:55:09 GMT',\n",
      "                                      'x-amz-apigw-id': 'eFvmuEsRvHcF7cQ=',\n",
      "                                      'x-amzn-requestid': '87f78086-aba1-4375-9c1d-11d34ad8d0ce',\n",
      "                                      'x-amzn-trace-id': 'Root=1-607ef95e-0fd12327e14ebb2dede889ab'},\n",
      "                      'HTTPStatusCode': 200,\n",
      "                      'RequestId': '87f78086-aba1-4375-9c1d-11d34ad8d0ce',\n",
      "                      'RetryAttempts': 0}}\n"
     ]
    }
   ],
   "source": [
    "\n",
    "create_dataset_response = databrew_client.create_dataset(\n",
    "    Name=dataset_name,\n",
    "    Format='CSV',\n",
    "    FormatOptions={\n",
    "        'Csv': {\n",
    "            'Delimiter': ',',\n",
    "            'HeaderRow': True\n",
    "        }\n",
    "    },\n",
    "    Input={\n",
    "        'S3InputDefinition': {\n",
    "            'Bucket': lake_bucket,\n",
    "            'Key': 'extracted/Beneficiary_Summary/DE1_0_2008_Beneficiary_Summary_File_Sample_1.csv'\n",
    "        }\n",
    "    },\n",
    "    Tags={\n",
    "        'env': env_name,\n",
    "        'team': team_name\n",
    "    }\n",
    ")\n",
    "pprint.pprint(create_dataset_response)"
   ]
  },
  {
   "cell_type": "markdown",
   "id": "4be5329f",
   "metadata": {},
   "source": [
    "## Create Data profiling job"
   ]
  },
  {
   "cell_type": "code",
   "execution_count": 113,
   "id": "f6b175b1",
   "metadata": {},
   "outputs": [
    {
     "name": "stdout",
     "output_type": "stream",
     "text": [
      "{'Name': 'Beneficiary-Summary-Data-Profile-Job',\n",
      " 'ResponseMetadata': {'HTTPHeaders': {'content-length': '47',\n",
      "                                      'content-type': 'application/json',\n",
      "                                      'date': 'Tue, 20 Apr 2021 15:56:02 GMT',\n",
      "                                      'x-amz-apigw-id': 'eFvu2FcKvHcFurg=',\n",
      "                                      'x-amzn-requestid': 'da6ec332-8eb6-410f-8e98-864da59784ca',\n",
      "                                      'x-amzn-trace-id': 'Root=1-607ef992-4a0455ae5eefb3afe7898632'},\n",
      "                      'HTTPStatusCode': 200,\n",
      "                      'RequestId': 'da6ec332-8eb6-410f-8e98-864da59784ca',\n",
      "                      'RetryAttempts': 0}}\n"
     ]
    }
   ],
   "source": [
    "data_profile_response = databrew_client.create_profile_job(\n",
    "    DatasetName=dataset_name,\n",
    "    Name=data_profile_job_name,\n",
    "    LogSubscription='ENABLE',\n",
    "    MaxCapacity=5,\n",
    "    MaxRetries=0,\n",
    "    OutputLocation={\n",
    "        'Bucket': lake_bucket,\n",
    "        'Key': 'databrew/dataprofileoutput/'\n",
    "    },\n",
    "    RoleArn=pod_role_arn,\n",
    "    Tags={\n",
    "        'env': env_name,\n",
    "        'team': team_name\n",
    "    },\n",
    "    Timeout=2800,\n",
    "    JobSample={\n",
    "        'Mode': 'CUSTOM_ROWS',\n",
    "        'Size': 1000\n",
    "    }\n",
    ")\n",
    "pprint.pprint(data_profile_response)"
   ]
  },
  {
   "cell_type": "markdown",
   "id": "7f7a5585",
   "metadata": {},
   "source": [
    "## Start data profiling job"
   ]
  },
  {
   "cell_type": "code",
   "execution_count": 114,
   "id": "44347330",
   "metadata": {},
   "outputs": [
    {
     "name": "stdout",
     "output_type": "stream",
     "text": [
      "{'ResponseMetadata': {'HTTPHeaders': {'content-length': '79',\n",
      "                                      'content-type': 'application/json',\n",
      "                                      'date': 'Tue, 20 Apr 2021 15:56:29 GMT',\n",
      "                                      'x-amz-apigw-id': 'eFvzEGvhPHcFRiQ=',\n",
      "                                      'x-amzn-requestid': '2dcf9250-04b0-466a-88c5-543ea70acaf4',\n",
      "                                      'x-amzn-trace-id': 'Root=1-607ef9ad-7ebc7fd829237650580303ab'},\n",
      "                      'HTTPStatusCode': 200,\n",
      "                      'RequestId': '2dcf9250-04b0-466a-88c5-543ea70acaf4',\n",
      "                      'RetryAttempts': 0},\n",
      " 'RunId': 'db_f2beead8f7fed118d7456bab6827fb265622f2c0befeda99e506632d726c4eca'}\n"
     ]
    }
   ],
   "source": [
    "start_job_run_response = databrew_client.start_job_run(\n",
    "    Name=data_profile_job_name\n",
    ")\n",
    "pprint.pprint(start_job_run_response)"
   ]
  },
  {
   "cell_type": "markdown",
   "id": "d7f10a65",
   "metadata": {},
   "source": [
    "## Create Recipe"
   ]
  },
  {
   "cell_type": "code",
   "execution_count": 115,
   "id": "566d7605",
   "metadata": {},
   "outputs": [
    {
     "name": "stdout",
     "output_type": "stream",
     "text": [
      "{'Name': 'Beneficiary-Summary-Recipe',\n",
      " 'ResponseMetadata': {'HTTPHeaders': {'content-length': '37',\n",
      "                                      'content-type': 'application/json',\n",
      "                                      'date': 'Tue, 20 Apr 2021 15:56:48 GMT',\n",
      "                                      'x-amz-apigw-id': 'eFv2BEcRPHcFRiQ=',\n",
      "                                      'x-amzn-requestid': '297b26d0-efd7-479d-bb87-fc6102477b01',\n",
      "                                      'x-amzn-trace-id': 'Root=1-607ef9c0-2d8f32b7dc8a80e5bcd1d65f'},\n",
      "                      'HTTPStatusCode': 200,\n",
      "                      'RequestId': '297b26d0-efd7-479d-bb87-fc6102477b01',\n",
      "                      'RetryAttempts': 0}}\n"
     ]
    }
   ],
   "source": [
    "\n",
    "create_recipe_response = databrew_client.create_recipe(\n",
    "    Description='Demo Data Transformation - convert birth date format ',\n",
    "    Name=recipe_name,\n",
    "    Steps=[\n",
    "      {\n",
    "        \"Action\": {\n",
    "          \"Operation\": \"DUPLICATE\",\n",
    "          \"Parameters\": {\n",
    "            \"sourceColumn\": \"BENE_BIRTH_DT\",\n",
    "            \"targetColumn\": \"BENE_BIRTH_DT_FORMAT\"\n",
    "          }\n",
    "        }\n",
    "      },\n",
    "      {\n",
    "        \"Action\": {\n",
    "          \"Operation\": \"CHANGE_DATA_TYPE\",\n",
    "          \"Parameters\": {\n",
    "            \"columnDataType\": \"string\",\n",
    "            \"sourceColumn\": \"BENE_BIRTH_DT_FORMAT\"\n",
    "          }\n",
    "        }\n",
    "      },\n",
    "      {\n",
    "        \"Action\": {\n",
    "          \"Operation\": \"FORMAT_DATE\",\n",
    "          \"Parameters\": {\n",
    "            \"sourceColumn\": \"BENE_BIRTH_DT_FORMAT\",\n",
    "            \"targetDateFormat\": \"dd*month*yyyy\"\n",
    "          }\n",
    "        }\n",
    "      }\n",
    "    ],\n",
    "    Tags={\n",
    "        'env': env_name,\n",
    "        'team': team_name\n",
    "    }\n",
    ")\n",
    "pprint.pprint(create_recipe_response)"
   ]
  },
  {
   "cell_type": "markdown",
   "id": "86cfc794",
   "metadata": {},
   "source": [
    "## Publish recipe"
   ]
  },
  {
   "cell_type": "code",
   "execution_count": 116,
   "id": "8484e326",
   "metadata": {},
   "outputs": [
    {
     "name": "stdout",
     "output_type": "stream",
     "text": [
      "{'Name': 'Beneficiary-Summary-Recipe',\n",
      " 'ResponseMetadata': {'HTTPHeaders': {'content-length': '37',\n",
      "                                      'content-type': 'application/json',\n",
      "                                      'date': 'Tue, 20 Apr 2021 15:56:50 GMT',\n",
      "                                      'x-amz-apigw-id': 'eFv2WEoJvHcFRiQ=',\n",
      "                                      'x-amzn-requestid': '29186ee7-10b1-4f4a-a7b4-3af94b25f44c',\n",
      "                                      'x-amzn-trace-id': 'Root=1-607ef9c2-fa9d8b00480a669005cf1b8b'},\n",
      "                      'HTTPStatusCode': 200,\n",
      "                      'RequestId': '29186ee7-10b1-4f4a-a7b4-3af94b25f44c',\n",
      "                      'RetryAttempts': 0}}\n"
     ]
    }
   ],
   "source": [
    "publish_recipe_response = databrew_client.publish_recipe(\n",
    "    Description='Publishing Demo Data Transformation - convert birth date format ',\n",
    "    Name=recipe_name\n",
    ")\n",
    "pprint.pprint(publish_recipe_response)"
   ]
  },
  {
   "cell_type": "markdown",
   "id": "c403837b",
   "metadata": {},
   "source": [
    "## Create Project with a recipe that doesn't have an associated job.\n"
   ]
  },
  {
   "cell_type": "code",
   "execution_count": 117,
   "id": "5f993dd8",
   "metadata": {},
   "outputs": [
    {
     "name": "stdout",
     "output_type": "stream",
     "text": [
      "{'Name': 'Beneficiary-Summary-Project',\n",
      " 'ResponseMetadata': {'HTTPHeaders': {'content-length': '38',\n",
      "                                      'content-type': 'application/json',\n",
      "                                      'date': 'Tue, 20 Apr 2021 15:57:05 GMT',\n",
      "                                      'x-amz-apigw-id': 'eFv4vGCMvHcFRiQ=',\n",
      "                                      'x-amzn-requestid': '7b2751ac-5c83-490e-a0ab-a1cbe985c6af',\n",
      "                                      'x-amzn-trace-id': 'Root=1-607ef9d1-e85c637684836633e45e5ad7'},\n",
      "                      'HTTPStatusCode': 200,\n",
      "                      'RequestId': '7b2751ac-5c83-490e-a0ab-a1cbe985c6af',\n",
      "                      'RetryAttempts': 0}}\n"
     ]
    }
   ],
   "source": [
    "\n",
    "create_project_response = databrew_client.create_project(\n",
    "    DatasetName=dataset_name,    \n",
    "    Name=project_name,\n",
    "    RecipeName=recipe_name,\n",
    "    Sample={\n",
    "        'Size': 500,\n",
    "        'Type': 'FIRST_N'\n",
    "    },\n",
    "    RoleArn= workspace[\"EksPodRoleArn\"],\n",
    "    Tags={\n",
    "        'env': env_name,\n",
    "        'team': team_name\n",
    "    },\n",
    ")\n",
    "\n",
    "pprint.pprint(create_project_response)"
   ]
  },
  {
   "cell_type": "code",
   "execution_count": 118,
   "id": "7c1da5b4",
   "metadata": {},
   "outputs": [
    {
     "name": "stdout",
     "output_type": "stream",
     "text": [
      "{'Name': 'Beneficiary-Summary-Project-Recipe-Job',\n",
      " 'ResponseMetadata': {'HTTPHeaders': {'content-length': '49',\n",
      "                                      'content-type': 'application/json',\n",
      "                                      'date': 'Tue, 20 Apr 2021 15:57:22 GMT',\n",
      "                                      'x-amz-apigw-id': 'eFv7UFTuvHcFurg=',\n",
      "                                      'x-amzn-requestid': 'b0990b68-bb30-41ab-8e53-b94f87b43448',\n",
      "                                      'x-amzn-trace-id': 'Root=1-607ef9e1-60278bb8fae7ca9a33136dbf'},\n",
      "                      'HTTPStatusCode': 200,\n",
      "                      'RequestId': 'b0990b68-bb30-41ab-8e53-b94f87b43448',\n",
      "                      'RetryAttempts': 0}}\n"
     ]
    }
   ],
   "source": [
    "# Create Project based Recipe job \n",
    "\n",
    "create_recipe_job_response = databrew_client.create_recipe_job(\n",
    "    #DatasetName='Beneficiary-Summary-Dataset',    \n",
    "    Name=project_recipe_job_name,\n",
    "    LogSubscription='ENABLE',\n",
    "    MaxCapacity=5,\n",
    "    MaxRetries=0,\n",
    "    Outputs=[\n",
    "        {\n",
    "           'Format': 'CSV',            \n",
    "            'Location': {\n",
    "                'Bucket': lake_bucket,\n",
    "                'Key': 'databrew/recipejob/output/Beneficiary_Summary/'\n",
    "            },\n",
    "            'Overwrite': True,\n",
    "            'FormatOptions': {\n",
    "                'Csv': {\n",
    "                    'Delimiter': ','\n",
    "                }\n",
    "            }\n",
    "        },\n",
    "    ],\n",
    "    ProjectName=project_name,\n",
    "    #RecipeReference={\n",
    "        #'Name': 'Beneficiary-Summary-Sample-2-Recipe',\n",
    "        #'RecipeVersion': '1.0'\n",
    "    #},\n",
    "    RoleArn=pod_role_arn,\n",
    "    Tags={\n",
    "        'env': env_name,\n",
    "        'team': team_name\n",
    "    },\n",
    "    Timeout=2880\n",
    ")\n",
    "pprint.pprint(create_recipe_job_response)"
   ]
  },
  {
   "cell_type": "markdown",
   "id": "8824d700",
   "metadata": {},
   "source": [
    "## Start job run"
   ]
  },
  {
   "cell_type": "code",
   "execution_count": 123,
   "id": "71fba6c9",
   "metadata": {},
   "outputs": [
    {
     "name": "stdout",
     "output_type": "stream",
     "text": [
      "{'ResponseMetadata': {'HTTPHeaders': {'content-length': '79',\n",
      "                                      'content-type': 'application/json',\n",
      "                                      'date': 'Tue, 20 Apr 2021 16:06:22 GMT',\n",
      "                                      'x-amz-apigw-id': 'eFxPrGXhvHcF61Q=',\n",
      "                                      'x-amzn-requestid': '7a636b61-7440-4d60-abfa-0d8de0759bde',\n",
      "                                      'x-amzn-trace-id': 'Root=1-607efbfd-40079143706679ad10435dd4'},\n",
      "                      'HTTPStatusCode': 200,\n",
      "                      'RequestId': '7a636b61-7440-4d60-abfa-0d8de0759bde',\n",
      "                      'RetryAttempts': 0},\n",
      " 'RunId': 'db_d8ce2ca3d0a9c254db327abf24fea1f663e2c03f4174827c7f081106e0543a20'}\n"
     ]
    }
   ],
   "source": [
    "start_job_run_response = databrew_client.start_job_run(\n",
    "    Name=project_recipe_job_name\n",
    ")\n",
    "pprint.pprint(start_job_run_response)"
   ]
  },
  {
   "cell_type": "code",
   "execution_count": 124,
   "id": "d07b019a",
   "metadata": {},
   "outputs": [
    {
     "name": "stdout",
     "output_type": "stream",
     "text": [
      "db_d8ce2ca3d0a9c254db327abf24fea1f663e2c03f4174827c7f081106e0543a20\n"
     ]
    }
   ],
   "source": [
    "run_id = start_job_run_response[\"RunId\"]\n",
    "print(run_id)"
   ]
  },
  {
   "cell_type": "code",
   "execution_count": 125,
   "id": "ae5466e8",
   "metadata": {},
   "outputs": [
    {
     "name": "stdout",
     "output_type": "stream",
     "text": [
      "{'Attempt': 0,\n",
      " 'DatasetName': 'Beneficiary-Summary-Dataset',\n",
      " 'ExecutionTime': 0,\n",
      " 'JobName': 'Beneficiary-Summary-Project-Recipe-Job',\n",
      " 'LogGroupName': '/aws-glue-databrew/jobs-Beneficiary-Summary-Project-Recipe-Job',\n",
      " 'LogSubscription': 'ENABLE',\n",
      " 'Outputs': [{'Format': 'CSV',\n",
      "              'FormatOptions': {'Csv': {'Delimiter': ','}},\n",
      "              'Location': {'Bucket': 'orbit-dev-env-demo-lake-750821335976-b82a3f',\n",
      "                           'Key': 'databrew/recipejob/output/Beneficiary_Summary/'},\n",
      "              'Overwrite': True}],\n",
      " 'RecipeReference': {'Name': 'Beneficiary-Summary-Recipe',\n",
      "                     'RecipeVersion': 'LATEST_WORKING'},\n",
      " 'ResponseMetadata': {'HTTPHeaders': {'content-length': '873',\n",
      "                                      'content-type': 'application/json',\n",
      "                                      'date': 'Tue, 20 Apr 2021 16:06:22 GMT',\n",
      "                                      'x-amz-apigw-id': 'eFxP0Gc2PHcF61Q=',\n",
      "                                      'x-amzn-requestid': '144db979-d3ef-4dcd-80b3-4de2a1ed241f',\n",
      "                                      'x-amzn-trace-id': 'Root=1-607efbfe-eef60264988f3e9e42b01ecb'},\n",
      "                      'HTTPStatusCode': 200,\n",
      "                      'RequestId': '144db979-d3ef-4dcd-80b3-4de2a1ed241f',\n",
      "                      'RetryAttempts': 0},\n",
      " 'RunId': 'db_d8ce2ca3d0a9c254db327abf24fea1f663e2c03f4174827c7f081106e0543a20',\n",
      " 'StartedBy': 'arn:aws:sts::750821335976:assumed-role/orbit-dev-env-lake-user-role/botocore-session-1618922196',\n",
      " 'StartedOn': datetime.datetime(2021, 4, 20, 16, 6, 22, 533000, tzinfo=tzlocal()),\n",
      " 'State': 'RUNNING'}\n"
     ]
    }
   ],
   "source": [
    "describe_job_run_response = databrew_client.describe_job_run(\n",
    "    Name=project_recipe_job_name,\n",
    "    RunId= run_id\n",
    ")\n",
    "pprint.pprint(describe_job_run_response)"
   ]
  },
  {
   "cell_type": "code",
   "execution_count": 126,
   "id": "a5c37add",
   "metadata": {},
   "outputs": [
    {
     "name": "stdout",
     "output_type": "stream",
     "text": [
      "2021-04-20 16:08:23.032180 - Sleeping 60 seconds \n"
     ]
    }
   ],
   "source": [
    "# Wait for job completion \n",
    "# Possible job run states - 'STARTING'|'RUNNING'|'STOPPING'|'STOPPED'|'SUCCEEDED'|'FAILED'|'TIMEOUT'\n",
    "\n",
    "import time \n",
    "from datetime import datetime\n",
    "wait_time_seconds = 60\n",
    "time.sleep(wait_time_seconds)\n",
    "\n",
    "    \n",
    "job_status = describe_job_run_response[\"State\"]\n",
    "while job_status == 'RUNNING':\n",
    "    time.sleep(wait_time_seconds)\n",
    "    print(f\"{datetime.now()} - Sleeping {wait_time_seconds} seconds \")\n",
    "    job_status = databrew_client.describe_job_run(Name=project_recipe_job_name, RunId= run_id)[\"State\"]\n"
   ]
  },
  {
   "cell_type": "code",
   "execution_count": 128,
   "id": "7df09ba6",
   "metadata": {},
   "outputs": [
    {
     "name": "stdout",
     "output_type": "stream",
     "text": [
      "2021-04-20 16:07:46   15324305 databrew/recipejob/output/Beneficiary_Summary/Beneficiary-Summary-Project-Recipe-Job_part00000.csv\n"
     ]
    }
   ],
   "source": [
    "!aws s3 ls s3://$lake_bucket/databrew/recipejob/output/Beneficiary_Summary/ --recursive "
   ]
  },
  {
   "cell_type": "code",
   "execution_count": 130,
   "id": "f5c41d98",
   "metadata": {},
   "outputs": [
    {
     "name": "stdout",
     "output_type": "stream",
     "text": [
      "DESYNPUF_ID,BENE_BIRTH_DT,BENE_BIRTH_DT_FORMAT,BENE_DEATH_DT,BENE_SEX_IDENT_CD,BENE_RACE_CD,BENE_ESRD_IND,SP_STATE_CODE,BENE_COUNTY_CD,BENE_HI_CVRAGE_TOT_MONS,BENE_SMI_CVRAGE_TOT_MONS,BENE_HMO_CVRAGE_TOT_MONS,PLAN_CVRG_MOS_NUM,SP_ALZHDMTA,SP_CHF,SP_CHRNKIDN,SP_CNCR,SP_COPD,SP_DEPRESSN,SP_DIABETES,SP_ISCHMCHT,SP_OSTEOPRS,SP_RA_OA,SP_STRKETIA,MEDREIMB_IP,BENRES_IP,PPPYMT_IP,MEDREIMB_OP,BENRES_OP,PPPYMT_OP,MEDREIMB_CAR,BENRES_CAR,PPPYMT_CAR\n",
      "00013D2EFD8E45D1,19230501,\"01 May 1923\",,1,1,0,26,950,12,12,12,12,2,2,2,2,2,2,2,2,2,2,2,0.0,0.0,0.0,50.0,10.0,0.0,0.0,0.0,0.0\n",
      "00016F745862898F,19430101,\"01 January 1943\",,1,1,0,39,230,12,12,0,0,2,2,2,2,2,2,2,2,2,2,2,0.0,0.0,0.0,0.0,0.0,0.0,700.0,240.0,0.0\n",
      "0001FDD721E223DC,19360901,\"01 September 1936\",,2,1,0,39,280,12,12,0,12,2,2,2,2,2,2,2,2,2,2,2,0.0,0.0,0.0,0.0,0.0,0.0,0.0,0.0,0.0\n",
      "00021CA6FF03E670,19410601,\"01 June 1941\",,1,5,0,6,290,0,0,0,0,2,2,2,2,2,2,2,2,2,2,2,0.0,0.0,0.0,0.0,0.0,0.0,0.0,0.0,0.0\n",
      "download failed: s3://orbit-dev-env-demo-lake-750821335976-b82a3f/databrew/recipejob/output/Beneficiary_Summary/Beneficiary-Summary-Project-Recipe-Job_part00000.csv to - [Errno 32] Broken pipe\n"
     ]
    }
   ],
   "source": [
    "!aws s3 cp s3://$lake_bucket/databrew/recipejob/output/Beneficiary_Summary/Beneficiary-Summary-Project-Recipe-Job_part00000.csv - | head -n 5"
   ]
  },
  {
   "cell_type": "code",
   "execution_count": 127,
   "id": "d0979ff8",
   "metadata": {},
   "outputs": [],
   "source": [
    "assert job_status == 'SUCCEEDED'"
   ]
  },
  {
   "cell_type": "code",
   "execution_count": null,
   "id": "f3299b03",
   "metadata": {},
   "outputs": [],
   "source": []
  }
 ],
 "metadata": {
  "kernelspec": {
   "display_name": "Python 3",
   "language": "python",
   "name": "python3"
  },
  "language_info": {
   "codemirror_mode": {
    "name": "ipython",
    "version": 3
   },
   "file_extension": ".py",
   "mimetype": "text/x-python",
   "name": "python",
   "nbconvert_exporter": "python",
   "pygments_lexer": "ipython3",
   "version": "3.8.8"
  }
 },
 "nbformat": 4,
 "nbformat_minor": 5
}
