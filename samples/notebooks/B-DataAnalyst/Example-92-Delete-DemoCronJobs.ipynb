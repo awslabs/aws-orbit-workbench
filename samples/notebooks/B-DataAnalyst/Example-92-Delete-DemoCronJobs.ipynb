{
 "cells": [
  {
   "cell_type": "code",
   "execution_count": 112,
   "id": "a0c50912",
   "metadata": {},
   "outputs": [],
   "source": [
    "# Demo notebook to clean K8s Cron Jobs"
   ]
  },
  {
   "cell_type": "code",
   "execution_count": 113,
   "id": "a2c5fcee",
   "metadata": {},
   "outputs": [],
   "source": [
    "from aws_orbit_sdk import controller\n",
    "from aws_orbit_sdk.magics.orbit import OrbitWorkbenchMagics \n",
    "from aws_orbit_sdk.common import get_workspace\n",
    "import os\n",
    "from kubernetes import config as k8_config\n",
    "from kubernetes import watch as k8_watch\n",
    "from kubernetes.client import *"
   ]
  },
  {
   "cell_type": "code",
   "execution_count": 114,
   "id": "82d584f5",
   "metadata": {},
   "outputs": [],
   "source": [
    "k8_config.load_incluster_config()\n",
    "workspace = get_workspace()"
   ]
  },
  {
   "cell_type": "code",
   "execution_count": 115,
   "id": "fca9bca2",
   "metadata": {},
   "outputs": [],
   "source": [
    "team_name = workspace[\"team_space\"]\n",
    "team_namespace_name = os.environ.get(\"AWS_ORBIT_USER_SPACE\", team_name)"
   ]
  },
  {
   "cell_type": "code",
   "execution_count": 116,
   "id": "c625915b",
   "metadata": {},
   "outputs": [],
   "source": [
    "list_namespaced_cron_job_response = BatchV1beta1Api().list_namespaced_cron_job(namespace=team_namespace_name)"
   ]
  },
  {
   "cell_type": "code",
   "execution_count": 117,
   "id": "2209e1cd",
   "metadata": {},
   "outputs": [],
   "source": [
    "\n",
    "for item in list_namespaced_cron_job_response.items:\n",
    "    print(item.metadata.name)"
   ]
  },
  {
   "cell_type": "code",
   "execution_count": 118,
   "id": "98cca645",
   "metadata": {},
   "outputs": [],
   "source": [
    "for item in list_namespaced_cron_job_response.items:\n",
    "    trigger_id = item.metadata.name.split(\"-\")[-1]\n",
    "    print(f\"Deleting cron job trigger {trigger_id}\")\n",
    "    try:\n",
    "        controller.delete_task_schedule(triggerName=trigger_id)\n",
    "    except Exception as e:\n",
    "        print(f\"Error deleting cron job trigger {trigger_id}\")\n",
    "        print(e)"
   ]
  },
  {
   "cell_type": "code",
   "execution_count": 119,
   "id": "31ae9391",
   "metadata": {},
   "outputs": [],
   "source": [
    "assert_list_namespaced_cron_job_response = BatchV1beta1Api().list_namespaced_cron_job(namespace=team_namespace_name)"
   ]
  },
  {
   "cell_type": "code",
   "execution_count": 120,
   "id": "7147d469",
   "metadata": {},
   "outputs": [],
   "source": [
    "assert 0 == len(assert_list_namespaced_cron_job_response.items)"
   ]
  },
  {
   "cell_type": "code",
   "execution_count": null,
   "id": "889aab4f",
   "metadata": {},
   "outputs": [],
   "source": []
  },
  {
   "cell_type": "code",
   "execution_count": null,
   "id": "6e42b04e",
   "metadata": {},
   "outputs": [],
   "source": []
  }
 ],
 "metadata": {
  "kernelspec": {
   "display_name": "Python 3",
   "language": "python",
   "name": "python3"
  },
  "language_info": {
   "codemirror_mode": {
    "name": "ipython",
    "version": 3
   },
   "file_extension": ".py",
   "mimetype": "text/x-python",
   "name": "python",
   "nbconvert_exporter": "python",
   "pygments_lexer": "ipython3",
   "version": "3.7.3"
  }
 },
 "nbformat": 4,
 "nbformat_minor": 5
}