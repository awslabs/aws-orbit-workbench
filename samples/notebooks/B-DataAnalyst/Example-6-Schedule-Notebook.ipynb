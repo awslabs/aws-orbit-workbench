{
 "cells": [
  {
   "cell_type": "markdown",
   "metadata": {
    "papermill": {
     "duration": 0.045887,
     "end_time": "2020-02-10T00:38:23.368357",
     "exception": false,
     "start_time": "2020-02-10T00:38:23.322470",
     "status": "completed"
    },
    "tags": []
   },
   "source": [
    "# Example 6:  Simple Scheduling for Notebooks\n",
    "\n",
    "### Author: AWS Professional Services Emerging Technology and Intelligent Platforms Group\n",
    "### Date: July 23, 2021\n",
    "\n",
    "In this example, we will demonstrate how users can simply schedule notebooks to run"
   ]
  },
  {
   "cell_type": "code",
   "execution_count": null,
   "metadata": {
    "papermill": {
     "duration": 0.040137,
     "end_time": "2020-02-10T00:38:23.483466",
     "exception": false,
     "start_time": "2020-02-10T00:38:23.443329",
     "status": "completed"
    },
    "tags": []
   },
   "outputs": [],
   "source": [
    "from aws_orbit_sdk import controller\n",
    "from aws_orbit_sdk.magics.orbit import OrbitWorkbenchMagics "
   ]
  },
  {
   "cell_type": "code",
   "execution_count": null,
   "metadata": {},
   "outputs": [],
   "source": [
    "!rm -f /home/jovyan/shared/regression/notebooks/B-DataAnalyst/Example-1-SQL-Analysis-Athena/yyy*\n",
    "!rm -f /home/jovyan/shared/regression/notebooks/B-DataAnalyst/Example-1-SQL-Analysis-Athena/xxx*\n",
    "!rm -f /home/jovyan/shared/regression/notebooks/B-DataAnalyst/Example-91-Delete-DemoCronJobs/zzz*\n"
   ]
  },
  {
   "cell_type": "code",
   "execution_count": null,
   "metadata": {
    "collapsed": false,
    "jupyter": {
     "outputs_hidden": false
    },
    "pycharm": {
     "name": "#%%\n"
    }
   },
   "outputs": [],
   "source": [

    "%%schedule_notebook -cron 0 */2 1/1 * *  -id cronjobcleaner\n",
    "{\n",
    "    \"compute\": {\n",
    "        \"node_type\": \"ec2\",\n",
    "        \"container\": \n",
    "            {\n",
    "            \"p_concurrent\" :1\n",
    "            },\n",
    "        \"podsetting\":\"orbit-runner-support-small\"\n",
    "    },\n",
    "    \"tasks\":  [\n",
    "        {\n",
    "              \"notebookName\": \"Example-92-Delete-DemoCronJobs.ipynb\",\n",
    "              \"sourcePath\": \"shared/samples/notebooks/B-DataAnalyst\",\n",
    "              \"targetPath\": \"shared/regression/notebooks/B-DataAnalyst\",\n",
    "              \"targetPrefix\": \"cronjobcleaner\",\n",
    "              \"params\": {}\n",
    "        }\n",
    "    ]\n",
    "}\n",
    "\n"
   ]
  },
  {
   "cell_type": "code",
   "execution_count": null,
   "metadata": {},
   "outputs": [],
   "source": [
    "%%run_notebook\n",
    "{\n",
    "    \"compute\": {\n",
    "        \"node_type\": \"ec2\",\n",
    "        \"container\": \n",
    "            {\n",
    "            \"p_concurrent\" :1\n",
    "            },\n",
    "        \"podsetting\":\"orbit-runner-support-small\"\n",
    "    },\n",
    "    \"tasks\":  [\n",
    "            {\n",
    "                  \"notebookName\": \"Example-1-SQL-Analysis-Athena.ipynb\",\n",
    "                  \"sourcePath\": \"shared/samples/notebooks/B-DataAnalyst\",\n",
    "                  \"targetPath\": \"shared/regression/notebooks/B-DataAnalyst\",\n",
    "                  \"targetPrefix\": \"yyy\",\n",
    "                  \"params\": {\n",
    "                        \"glue_db\" : \"cms_raw_db\",\n",
    "                        \"target_db\" : \"users\"\n",
    "                  }      \n",
    "            }\n",
    "      ]  \n",
    "}\n"
   ]
  },
  {
   "cell_type": "code",
   "execution_count": null,
   "metadata": {
    "papermill": {
     "duration": 0.303365,
     "end_time": "2020-02-10T00:38:23.818686",
     "exception": false,
     "start_time": "2020-02-10T00:38:23.515321",
     "status": "completed"
    },
    "tags": []
   },
   "outputs": [],
   "source": [
    "%%schedule_notebook -cron 0/2 * 1/1 * ?  -id yyy\n",
    "{\n",
    "    \"compute\": {\n",
    "        \"node_type\": \"ec2\",\n",
    "        \"container\": \n",
    "            {\n",
    "            \"p_concurrent\" :1\n",
    "            },\n",
    "        \"podsetting\":\"orbit-runner-support-small\"\n",
    "    },\n",
    "    \"tasks\":  [\n",
    "            {\n",
    "                  \"notebookName\": \"Example-1-SQL-Analysis-Athena.ipynb\",\n",
    "                  \"sourcePath\": \"shared/samples/notebooks/B-DataAnalyst\",\n",
    "                  \"targetPath\": \"shared/regression/notebooks/B-DataAnalyst\",\n",
    "                  \"targetPrefix\": \"yyy\",\n",
    "                  \"params\": {\n",
    "                        \"glue_db\" : \"cms_raw_db\",\n",
    "                        \"target_db\" : \"users\"\n",
    "                  }      \n",
    "            }\n",
    "      ]  \n",
    "}\n"
   ]
  },
  {
   "cell_type": "code",
   "execution_count": null,
   "metadata": {
    "papermill": {
     "duration": 0.173042,
     "end_time": "2020-02-10T00:38:24.104569",
     "exception": false,
     "start_time": "2020-02-10T00:38:23.931527",
     "status": "completed"
    },
    "tags": []
   },
   "outputs": [],
   "source": [
    "controller.schedule_notebooks(triggerName='xxx', frequency=\"0/2 * 1/1 * ?\", taskConfiguration={    \n",
    "    \"compute\": {\n",
    "        \"node_type\": \"ec2\",\n",
    "        \"container\": \n",
    "            {\n",
    "            \"p_concurrent\" :1\n",
    "            },\n",
    "        \"podsetting\":\"orbit-runner-support-small\"\n",
    "    },\n",
    "    \"tasks\":  [\n",
    "            {\n",
    "                  \"notebookName\": \"Example-1-SQL-Analysis-Athena.ipynb\",\n",
    "                  \"sourcePath\": \"shared/samples/notebooks/B-DataAnalyst\",\n",
    "                  \"targetPath\": \"shared/regression/notebooks/B-DataAnalyst\",\n",
    "                  \"targetPrefix\": \"xxx\",\n",
    "                  \"params\": {\n",
    "                        \"glue_db\" : \"cms_raw_db\",\n",
    "                        \"target_db\" : \"users\"\n",
    "                  }      \n",
    "            }\n",
    "      ]  \n",
    "    }\n",
    "                           \n",
    ")"
   ]
  },
  {
   "cell_type": "code",
   "execution_count": null,
   "metadata": {
    "collapsed": false,
    "jupyter": {
     "outputs_hidden": false
    },
    "pycharm": {
     "name": "#%%\n"
    }
   },
   "outputs": [],
   "source": [
    "! date"
   ]
  },
  {
   "cell_type": "code",
   "execution_count": null,
   "metadata": {
    "papermill": {
     "duration": 600.191662,
     "end_time": "2020-02-10T00:48:24.329200",
     "exception": false,
     "start_time": "2020-02-10T00:38:24.137538",
     "status": "completed"
    },
    "tags": []
   },
   "outputs": [],
   "source": [
    "%%time \n",
    "\n",
    "import time\n",
    "found = False\n",
    "for k in range(1,20):\n",
    "    print(f\"waiting one more min...\")\n",
    "    time.sleep(60)\n",
    "    found = False\n",
    "    executions = controller.get_execution_history(\"shared/regression/notebooks/B-DataAnalyst\", \"Example-1-SQL-Analysis-Athena.ipynb\")\n",
    "    for index, row in executions.iterrows():\n",
    "        print(row['relativePath'])\n",
    "        if 'xxx' in row['relativePath']:\n",
    "            if 'error@' in row['relativePath']:\n",
    "                raise AssertionError('error in ' + row['relativePath'])\n",
    "            found = True\n",
    "            print(f\"Found {row['relativePath']}\")\n",
    "    if found:\n",
    "        break\n",
    "\n",
    "if not found:\n",
    "    raise AssertionError('cannot find executed notebook by schedule_notebooks()')\n",
    "    \n",
    "print(\"SUCCESS\")"
   ]
  },
  {
   "cell_type": "code",
   "execution_count": null,
   "metadata": {},
   "outputs": [],
   "source": [
    "controller.get_execution_history(\"shared/regression/notebooks/B-DataAnalyst\", \"Example-1-SQL-Analysis-Athena.ipynb\")\n",
    "for index, row in executions.iterrows():\n",
    "    print(row['relativePath'])"
   ]
  },
  {
   "cell_type": "code",
   "execution_count": null,
   "metadata": {
    "collapsed": false,
    "jupyter": {
     "outputs_hidden": false
    },
    "pycharm": {
     "name": "#%%\n"
    }
   },
   "outputs": [],
   "source": [
    "!date "
   ]
  },
  {
   "cell_type": "code",
   "execution_count": null,
   "metadata": {
    "papermill": {
     "duration": 0.206249,
     "end_time": "2020-02-10T00:48:24.614050",
     "exception": false,
     "start_time": "2020-02-10T00:48:24.407801",
     "status": "completed"
    },
    "tags": []
   },
   "outputs": [],
   "source": [
    "%delete_schedule_task -id yyy\n",
    "%delete_schedule_task -id xxx\n"
   ]
  },
  {
   "cell_type": "code",
   "execution_count": null,
   "metadata": {
    "papermill": {
     "duration": 0.03443,
     "end_time": "2020-02-10T00:48:25.183753",
     "exception": false,
     "start_time": "2020-02-10T00:48:25.149323",
     "status": "completed"
    },
    "tags": []
   },
   "outputs": [],
   "source": []
  }
 ],
 "metadata": {
  "kernelspec": {
   "display_name": "Python 3",
   "language": "python",
   "name": "python3"
  },
  "language_info": {
   "codemirror_mode": {
    "name": "ipython",
    "version": 3
   },
   "file_extension": ".py",
   "mimetype": "text/x-python",
   "name": "python",
   "nbconvert_exporter": "python",
   "pygments_lexer": "ipython3",
   "version": "3.8.8"
  },
  "papermill": {
   "duration": 604.270791,
   "end_time": "2020-02-10T00:48:25.625890",
   "environment_variables": {},
   "exception": null,
   "input_path": "/tmp/e1@20200210-00:38.ipynb",
   "output_path": "s3://datamaker-test-base-acco-testnotebookbucket29e9e4-18y8flvzok0gw/lake-user/output/notebooks/tests/B-DataAnalyst/Example-6-Schedule-Notebook/e1@20200210-00:38.ipynb",
   "parameters": {
    "PAPERMILL_INPUT_PATH": "/tmp/e1@20200210-00:38.ipynb",
    "PAPERMILL_OUTPUT_DIR_PATH": "s3://datamaker-test-base-acco-testnotebookbucket29e9e4-18y8flvzok0gw/lake-user/output/notebooks/tests/B-DataAnalyst/Example-6-Schedule-Notebook",
    "PAPERMILL_OUTPUT_PATH": "s3://datamaker-test-base-acco-testnotebookbucket29e9e4-18y8flvzok0gw/lake-user/output/notebooks/tests/B-DataAnalyst/Example-6-Schedule-Notebook/e1@20200210-00:38.ipynb",
    "PAPERMILL_WORKBOOK_NAME": "e1@20200210-00:38.ipynb",
    "PAPERMILL_WORK_DIR": "/ws/ScienceRepo1/samples/notebooks/B-DataAnalyst"
   },
   "start_time": "2020-02-10T00:38:21.355099",
   "version": "1.2.1"
  }
 },
 "nbformat": 4,
 "nbformat_minor": 4
}
