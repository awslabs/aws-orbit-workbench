{
 "cells": [
  {
   "cell_type": "markdown",
   "id": "pending-elizabeth",
   "metadata": {},
   "source": [
    "# Testing Orbit Controller SDK\n",
    "    \n",
    "\n",
    "### Author: AWS Professional Services Emerging Technology and Intelligent Platforms Group\n",
    "### Date: Mar 10 2021"
   ]
  },
  {
   "cell_type": "code",
   "execution_count": 1,
   "id": "superb-encyclopedia",
   "metadata": {},
   "outputs": [
    {
     "data": {
      "text/plain": [
       "('dev-env', 'lake-user')"
      ]
     },
     "execution_count": 1,
     "metadata": {},
     "output_type": "execute_result"
    }
   ],
   "source": [
    "import os\n",
    "import sys\n",
    "import boto3\n",
    "from aws_orbit_sdk import controller\n",
    "from aws_orbit_sdk.common import get_workspace,get_scratch_database\n",
    "from aws_orbit_sdk.magics.orbit import OrbitWorkbenchMagics \n",
    "\n",
    "import json\n",
    "import time\n",
    "\n",
    "env_name = %env AWS_ORBIT_ENV\n",
    "team_name = %env AWS_ORBIT_TEAM_SPACE\n",
    "(env_name,team_name)"
   ]
  },
  {
   "cell_type": "code",
   "execution_count": 2,
   "id": "circular-dress",
   "metadata": {},
   "outputs": [
    {
     "name": "stderr",
     "output_type": "stream",
     "text": [
      "INFO:root:using default profile {'display_name': 'Micro', 'slug': 'micro', 'description': '2 CPU + 2G MEM', 'kubespawner_override': {'cpu_guarantee': 2, 'cpu_limit': 2, 'mem_guarantee': '2G', 'mem_limit': '2G'}, 'default': True}\n",
      "INFO:root:volumes:[{\"name\": \"efs-volume\", \"persistentVolumeClaim\": {\"claimName\": \"jupyterhub\"}}]\n",
      "INFO:root:volume_mounts:[{\"mountPath\": \"/efs\", \"name\": \"efs-volume\"}]\n"
     ]
    },
    {
     "data": {
      "text/plain": [
       "{'ExecutionType': 'eks',\n",
       " 'Identifier': 'orbit-lake-user-fargate-runner-snd75',\n",
       " 'NodeType': 'fargate',\n",
       " 'tasks': [{'notebookName': 'Example-1-SQL-Analysis-Athena.ipynb',\n",
       "   'sourcePath': 'shared/samples/notebooks/B-DataAnalyst',\n",
       "   'targetPath': 'shared/regression/notebooks/B-DataAnalyst',\n",
       "   'targetPrefix': 'ttt',\n",
       "   'params': {'glue_db': 'cms_raw_db', 'target_db': 'users'}}]}"
      ]
     },
     "execution_count": 2,
     "metadata": {},
     "output_type": "execute_result"
    }
   ],
   "source": [
    "%%run_notebook\n",
    "{    \n",
    "      \"tasks\":  [\n",
    "            {\n",
    "                  \"notebookName\": \"Example-1-SQL-Analysis-Athena.ipynb\",\n",
    "                  \"sourcePath\": \"shared/samples/notebooks/B-DataAnalyst\",\n",
    "                  \"targetPath\": \"shared/regression/notebooks/B-DataAnalyst\",\n",
    "                  \"targetPrefix\": \"ttt\",\n",
    "                  \"params\": {\n",
    "                        \"glue_db\" : \"cms_raw_db\",\n",
    "                        \"target_db\" : \"users\"\n",
    "                  }      \n",
    "            }\n",
    "      ]  \n",
    "}"
   ]
  },
  {
   "cell_type": "code",
   "execution_count": 3,
   "id": "theoretical-bench",
   "metadata": {},
   "outputs": [
    {
     "data": {
      "text/plain": [
       "'orbit-lake-user-fargate-runner-snd75'"
      ]
     },
     "execution_count": 3,
     "metadata": {},
     "output_type": "execute_result"
    }
   ],
   "source": [
    "job_name=Out[2]['Identifier']\n",
    "job_name"
   ]
  },
  {
   "cell_type": "code",
   "execution_count": 4,
   "id": "covered-number",
   "metadata": {},
   "outputs": [
    {
     "name": "stderr",
     "output_type": "stream",
     "text": [
      "INFO:root:using default profile {'display_name': 'Micro', 'slug': 'micro', 'description': '2 CPU + 2G MEM', 'kubespawner_override': {'cpu_guarantee': 2, 'cpu_limit': 2, 'mem_guarantee': '2G', 'mem_limit': '2G'}, 'default': True}\n",
      "INFO:root:volumes:[{\"name\": \"efs-volume\", \"persistentVolumeClaim\": {\"claimName\": \"jupyterhub\"}}]\n",
      "INFO:root:volume_mounts:[{\"mountPath\": \"/efs\", \"name\": \"efs-volume\"}]\n"
     ]
    },
    {
     "data": {
      "text/plain": [
       "{'ExecutionType': 'eks', 'Identifier': 'orbit-lake-user-ttt'}"
      ]
     },
     "execution_count": 4,
     "metadata": {},
     "output_type": "execute_result"
    }
   ],
   "source": [
    "%%schedule_notebook -cron 0/2 * 1/1 * ?  -id ttt\n",
    "{    \n",
    "      \"tasks\":  [\n",
    "            {\n",
    "                  \"notebookName\": \"Example-1-SQL-Analysis-Athena.ipynb\",\n",
    "                  \"sourcePath\": \"shared/samples/notebooks/B-DataAnalyst\",\n",
    "                  \"targetPath\": \"shared/regression/notebooks/B-DataAnalyst\",\n",
    "                  \"targetPrefix\": \"ttt\",\n",
    "                  \"params\": {\n",
    "                        \"glue_db\" : \"cms_raw_db\",\n",
    "                        \"target_db\" : \"users\"\n",
    "                  }      \n",
    "            }\n",
    "      ]  \n",
    "}\n"
   ]
  },
  {
   "cell_type": "code",
   "execution_count": 5,
   "id": "coordinate-dylan",
   "metadata": {},
   "outputs": [
    {
     "data": {
      "text/plain": [
       "'orbit-lake-user-ttt'"
      ]
     },
     "execution_count": 5,
     "metadata": {},
     "output_type": "execute_result"
    }
   ],
   "source": [
    "cronjob_name=Out[4]['Identifier']\n",
    "cronjob_name"
   ]
  },
  {
   "cell_type": "code",
   "execution_count": 6,
   "id": "under-smith",
   "metadata": {},
   "outputs": [
    {
     "data": {
      "text/plain": [
       "[{'metadata': {'name': 'orbit-lake-user-fargate-runner-snd75',\n",
       "   'generateName': 'orbit-lake-user-fargate-runner-',\n",
       "   'namespace': 'lake-user',\n",
       "   'selfLink': '/apis/batch/v1/namespaces/lake-user/jobs/orbit-lake-user-fargate-runner-snd75',\n",
       "   'uid': 'b372bbb2-6698-4d75-9cd9-32434d0b1cb9',\n",
       "   'resourceVersion': '1319169',\n",
       "   'creationTimestamp': '2021-03-09T21:50:48Z',\n",
       "   'labels': {'app': 'orbit-runner',\n",
       "    'orbit/node-type': 'fargate',\n",
       "    'username': 'amirbo'},\n",
       "   'managedFields': [{'manager': 'OpenAPI-Generator',\n",
       "     'operation': 'Update',\n",
       "     'apiVersion': 'batch/v1',\n",
       "     'time': '2021-03-09T21:50:48Z',\n",
       "     'fieldsType': 'FieldsV1',\n",
       "     'fieldsV1': {'f:metadata': {'f:generateName': {},\n",
       "       'f:labels': {'.': {},\n",
       "        'f:app': {},\n",
       "        'f:orbit/node-type': {},\n",
       "        'f:username': {}}},\n",
       "      'f:spec': {'f:backoffLimit': {},\n",
       "       'f:completions': {},\n",
       "       'f:parallelism': {},\n",
       "       'f:template': {'f:metadata': {'f:labels': {'.': {},\n",
       "          'f:app': {},\n",
       "          'f:orbit/node-type': {},\n",
       "          'f:username': {}},\n",
       "         'f:name': {}},\n",
       "        'f:spec': {'f:containers': {'k:{\"name\":\"notebook\"}': {'.': {},\n",
       "           'f:args': {},\n",
       "           'f:env': {'.': {},\n",
       "            'k:{\"name\":\"AWS_ORBIT_ENV\"}': {'.': {},\n",
       "             'f:name': {},\n",
       "             'f:value': {}},\n",
       "            'k:{\"name\":\"AWS_ORBIT_S3_BUCKET\"}': {'.': {},\n",
       "             'f:name': {},\n",
       "             'f:value': {}},\n",
       "            'k:{\"name\":\"AWS_ORBIT_TEAM_SPACE\"}': {'.': {},\n",
       "             'f:name': {},\n",
       "             'f:value': {}},\n",
       "            'k:{\"name\":\"AWS_STS_REGIONAL_ENDPOINTS\"}': {'.': {},\n",
       "             'f:name': {},\n",
       "             'f:value': {}},\n",
       "            'k:{\"name\":\"JUPYTERHUB_USER\"}': {'.': {},\n",
       "             'f:name': {},\n",
       "             'f:value': {}},\n",
       "            'k:{\"name\":\"USERNAME\"}': {'.': {}, 'f:name': {}, 'f:value': {}},\n",
       "            'k:{\"name\":\"compute\"}': {'.': {}, 'f:name': {}, 'f:value': {}},\n",
       "            'k:{\"name\":\"task_type\"}': {'.': {}, 'f:name': {}, 'f:value': {}},\n",
       "            'k:{\"name\":\"tasks\"}': {'.': {}, 'f:name': {}, 'f:value': {}}},\n",
       "           'f:image': {},\n",
       "           'f:imagePullPolicy': {},\n",
       "           'f:lifecycle': {},\n",
       "           'f:name': {},\n",
       "           'f:ports': {'.': {},\n",
       "            'k:{\"containerPort\":22,\"protocol\":\"TCP\"}': {'.': {},\n",
       "             'f:containerPort': {},\n",
       "             'f:name': {},\n",
       "             'f:protocol': {}}},\n",
       "           'f:resources': {'.': {},\n",
       "            'f:limits': {'.': {}, 'f:cpu': {}, 'f:memory': {}},\n",
       "            'f:requests': {'.': {}, 'f:cpu': {}, 'f:memory': {}}},\n",
       "           'f:securityContext': {'.': {},\n",
       "            'f:runAsGroup': {},\n",
       "            'f:runAsUser': {}},\n",
       "           'f:terminationMessagePath': {},\n",
       "           'f:terminationMessagePolicy': {},\n",
       "           'f:volumeMounts': {'.': {},\n",
       "            'k:{\"mountPath\":\"/efs\"}': {'.': {},\n",
       "             'f:mountPath': {},\n",
       "             'f:name': {}}}}},\n",
       "         'f:dnsPolicy': {},\n",
       "         'f:nodeSelector': {'.': {}, 'f:orbit/usage': {}},\n",
       "         'f:restartPolicy': {},\n",
       "         'f:schedulerName': {},\n",
       "         'f:securityContext': {'.': {}, 'f:fsGroup': {}},\n",
       "         'f:serviceAccount': {},\n",
       "         'f:serviceAccountName': {},\n",
       "         'f:terminationGracePeriodSeconds': {},\n",
       "         'f:volumes': {'.': {},\n",
       "          'k:{\"name\":\"efs-volume\"}': {'.': {},\n",
       "           'f:name': {},\n",
       "           'f:persistentVolumeClaim': {'.': {}, 'f:claimName': {}}}}}},\n",
       "       'f:ttlSecondsAfterFinished': {}}}},\n",
       "    {'manager': 'kube-controller-manager',\n",
       "     'operation': 'Update',\n",
       "     'apiVersion': 'batch/v1',\n",
       "     'time': '2021-03-09T21:50:48Z',\n",
       "     'fieldsType': 'FieldsV1',\n",
       "     'fieldsV1': {'f:status': {'f:active': {}, 'f:startTime': {}}}}]},\n",
       "  'spec': {'parallelism': 1,\n",
       "   'completions': 1,\n",
       "   'backoffLimit': 0,\n",
       "   'selector': {'matchLabels': {'controller-uid': 'b372bbb2-6698-4d75-9cd9-32434d0b1cb9'}},\n",
       "   'template': {'metadata': {'name': 'run-jupyter',\n",
       "     'creationTimestamp': None,\n",
       "     'labels': {'app': 'orbit-runner',\n",
       "      'controller-uid': 'b372bbb2-6698-4d75-9cd9-32434d0b1cb9',\n",
       "      'job-name': 'orbit-lake-user-fargate-runner-snd75',\n",
       "      'orbit/node-type': 'fargate',\n",
       "      'username': 'amirbo'}},\n",
       "    'spec': {'volumes': [{'name': 'efs-volume',\n",
       "       'persistentVolumeClaim': {'claimName': 'jupyterhub'}}],\n",
       "     'containers': [{'name': 'notebook',\n",
       "       'image': '495869084367.dkr.ecr.us-west-2.amazonaws.com/orbit-dev-env-lake-user-jupyter-user:latest',\n",
       "       'args': ['bash',\n",
       "        '-c',\n",
       "        '/home/jovyan/.orbit/bootstrap.sh && python /opt/python-utils/notebook_cli.py'],\n",
       "       'ports': [{'name': 'notebook-port',\n",
       "         'containerPort': 22,\n",
       "         'protocol': 'TCP'}],\n",
       "       'env': [{'name': 'AWS_ORBIT_ENV', 'value': 'dev-env'},\n",
       "        {'name': 'AWS_ORBIT_TEAM_SPACE', 'value': 'lake-user'},\n",
       "        {'name': 'AWS_STS_REGIONAL_ENDPOINTS', 'value': 'regional'},\n",
       "        {'name': 'JUPYTERHUB_USER', 'value': 'amirbo'},\n",
       "        {'name': 'USERNAME', 'value': 'amirbo'},\n",
       "        {'name': 'AWS_ORBIT_S3_BUCKET',\n",
       "         'value': 'orbit-dev-env-toolkit-495869084367-3a6717'},\n",
       "        {'name': 'task_type', 'value': 'jupyter'},\n",
       "        {'name': 'tasks',\n",
       "         'value': '{\"tasks\": [{\"notebookName\": \"Example-1-SQL-Analysis-Athena.ipynb\", \"sourcePath\": \"shared/samples/notebooks/B-DataAnalyst\", \"targetPath\": \"shared/regression/notebooks/B-DataAnalyst\", \"targetPrefix\": \"ttt\", \"params\": {\"glue_db\": \"cms_raw_db\", \"target_db\": \"users\"}}]}'},\n",
       "        {'name': 'compute',\n",
       "         'value': '{\"compute\": {\"compute_type\": \"eks\", \"node_type\": \"fargate\"}}'}],\n",
       "       'resources': {'limits': {'cpu': '2', 'memory': '2G'},\n",
       "        'requests': {'cpu': '2', 'memory': '2G'}},\n",
       "       'volumeMounts': [{'name': 'efs-volume', 'mountPath': '/efs'}],\n",
       "       'lifecycle': {},\n",
       "       'terminationMessagePath': '/dev/termination-log',\n",
       "       'terminationMessagePolicy': 'File',\n",
       "       'imagePullPolicy': 'Always',\n",
       "       'securityContext': {'runAsUser': 1000, 'runAsGroup': 100}}],\n",
       "     'restartPolicy': 'Never',\n",
       "     'terminationGracePeriodSeconds': 30,\n",
       "     'dnsPolicy': 'ClusterFirst',\n",
       "     'nodeSelector': {'orbit/usage': 'teams'},\n",
       "     'serviceAccountName': 'lake-user',\n",
       "     'serviceAccount': 'lake-user',\n",
       "     'securityContext': {'fsGroup': 100},\n",
       "     'schedulerName': 'default-scheduler'}}},\n",
       "  'status': {'startTime': '2021-03-09T21:50:48Z', 'active': 1}}]"
      ]
     },
     "execution_count": 6,
     "metadata": {},
     "output_type": "execute_result"
    }
   ],
   "source": [
    "jobs = controller.list_my_running_jobs()\n",
    "assert(len(jobs) > 0)\n",
    "jobs"
   ]
  },
  {
   "cell_type": "code",
   "execution_count": 7,
   "id": "professional-intensity",
   "metadata": {},
   "outputs": [
    {
     "name": "stdout",
     "output_type": "stream",
     "text": [
      "[]\n"
     ]
    }
   ],
   "source": [
    "jobs = controller.list_team_running_jobs()\n",
    "print(jobs)\n",
    "assert(len(jobs) == 0)"
   ]
  },
  {
   "cell_type": "code",
   "execution_count": 8,
   "id": "korean-hamilton",
   "metadata": {},
   "outputs": [
    {
     "data": {
      "text/plain": [
       "[{'metadata': {'name': 'orbit-lake-user-ttt',\n",
       "   'namespace': 'lake-user',\n",
       "   'selfLink': '/apis/batch/v1beta1/namespaces/lake-user/cronjobs/orbit-lake-user-ttt',\n",
       "   'uid': '39ad2bb6-2418-44de-b995-85386bca46ce',\n",
       "   'resourceVersion': '1319172',\n",
       "   'creationTimestamp': '2021-03-09T21:50:48Z',\n",
       "   'labels': {'app': 'orbit-runner',\n",
       "    'cronjob_id': 'orbit-lake-user-ttt',\n",
       "    'orbit/node-type': 'fargate',\n",
       "    'username': 'amirbo'},\n",
       "   'managedFields': [{'manager': 'OpenAPI-Generator',\n",
       "     'operation': 'Update',\n",
       "     'apiVersion': 'batch/v1beta1',\n",
       "     'time': '2021-03-09T21:50:48Z',\n",
       "     'fieldsType': 'FieldsV1',\n",
       "     'fieldsV1': {'f:metadata': {'f:labels': {'.': {},\n",
       "        'f:app': {},\n",
       "        'f:cronjob_id': {},\n",
       "        'f:orbit/node-type': {},\n",
       "        'f:username': {}}},\n",
       "      'f:spec': {'f:concurrencyPolicy': {},\n",
       "       'f:failedJobsHistoryLimit': {},\n",
       "       'f:jobTemplate': {'f:spec': {'f:backoffLimit': {},\n",
       "         'f:template': {'f:metadata': {'f:labels': {'.': {},\n",
       "            'f:app': {},\n",
       "            'f:cronjob_id': {},\n",
       "            'f:orbit/node-type': {},\n",
       "            'f:username': {}},\n",
       "           'f:name': {}},\n",
       "          'f:spec': {'f:containers': {'k:{\"name\":\"notebook\"}': {'.': {},\n",
       "             'f:args': {},\n",
       "             'f:env': {'.': {},\n",
       "              'k:{\"name\":\"AWS_ORBIT_ENV\"}': {'.': {},\n",
       "               'f:name': {},\n",
       "               'f:value': {}},\n",
       "              'k:{\"name\":\"AWS_ORBIT_S3_BUCKET\"}': {'.': {},\n",
       "               'f:name': {},\n",
       "               'f:value': {}},\n",
       "              'k:{\"name\":\"AWS_ORBIT_TEAM_SPACE\"}': {'.': {},\n",
       "               'f:name': {},\n",
       "               'f:value': {}},\n",
       "              'k:{\"name\":\"AWS_STS_REGIONAL_ENDPOINTS\"}': {'.': {},\n",
       "               'f:name': {},\n",
       "               'f:value': {}},\n",
       "              'k:{\"name\":\"JUPYTERHUB_USER\"}': {'.': {},\n",
       "               'f:name': {},\n",
       "               'f:value': {}},\n",
       "              'k:{\"name\":\"USERNAME\"}': {'.': {}, 'f:name': {}, 'f:value': {}},\n",
       "              'k:{\"name\":\"compute\"}': {'.': {}, 'f:name': {}, 'f:value': {}},\n",
       "              'k:{\"name\":\"task_type\"}': {'.': {}, 'f:name': {}, 'f:value': {}},\n",
       "              'k:{\"name\":\"tasks\"}': {'.': {}, 'f:name': {}, 'f:value': {}}},\n",
       "             'f:image': {},\n",
       "             'f:imagePullPolicy': {},\n",
       "             'f:lifecycle': {},\n",
       "             'f:name': {},\n",
       "             'f:ports': {'.': {},\n",
       "              'k:{\"containerPort\":22,\"protocol\":\"TCP\"}': {'.': {},\n",
       "               'f:containerPort': {},\n",
       "               'f:name': {},\n",
       "               'f:protocol': {}}},\n",
       "             'f:resources': {'.': {},\n",
       "              'f:limits': {'.': {}, 'f:cpu': {}, 'f:memory': {}},\n",
       "              'f:requests': {'.': {}, 'f:cpu': {}, 'f:memory': {}}},\n",
       "             'f:securityContext': {'.': {},\n",
       "              'f:runAsGroup': {},\n",
       "              'f:runAsUser': {}},\n",
       "             'f:terminationMessagePath': {},\n",
       "             'f:terminationMessagePolicy': {},\n",
       "             'f:volumeMounts': {'.': {},\n",
       "              'k:{\"mountPath\":\"/efs\"}': {'.': {},\n",
       "               'f:mountPath': {},\n",
       "               'f:name': {}}}}},\n",
       "           'f:dnsPolicy': {},\n",
       "           'f:nodeSelector': {'.': {}, 'f:orbit/usage': {}},\n",
       "           'f:restartPolicy': {},\n",
       "           'f:schedulerName': {},\n",
       "           'f:securityContext': {'.': {}, 'f:fsGroup': {}},\n",
       "           'f:serviceAccount': {},\n",
       "           'f:serviceAccountName': {},\n",
       "           'f:terminationGracePeriodSeconds': {},\n",
       "           'f:volumes': {'.': {},\n",
       "            'k:{\"name\":\"efs-volume\"}': {'.': {},\n",
       "             'f:name': {},\n",
       "             'f:persistentVolumeClaim': {'.': {}, 'f:claimName': {}}}}}},\n",
       "         'f:ttlSecondsAfterFinished': {}}},\n",
       "       'f:schedule': {},\n",
       "       'f:successfulJobsHistoryLimit': {},\n",
       "       'f:suspend': {}}}}]},\n",
       "  'spec': {'schedule': '0/2 * 1/1 * ? ',\n",
       "   'concurrencyPolicy': 'Allow',\n",
       "   'suspend': False,\n",
       "   'jobTemplate': {'metadata': {'creationTimestamp': None},\n",
       "    'spec': {'backoffLimit': 0,\n",
       "     'template': {'metadata': {'name': 'run-jupyter',\n",
       "       'creationTimestamp': None,\n",
       "       'labels': {'app': 'orbit-runner',\n",
       "        'cronjob_id': 'orbit-lake-user-ttt',\n",
       "        'orbit/node-type': 'fargate',\n",
       "        'username': 'amirbo'}},\n",
       "      'spec': {'volumes': [{'name': 'efs-volume',\n",
       "         'persistentVolumeClaim': {'claimName': 'jupyterhub'}}],\n",
       "       'containers': [{'name': 'notebook',\n",
       "         'image': '495869084367.dkr.ecr.us-west-2.amazonaws.com/orbit-dev-env-lake-user-jupyter-user:latest',\n",
       "         'args': ['bash',\n",
       "          '-c',\n",
       "          '/home/jovyan/.orbit/bootstrap.sh && python /opt/python-utils/notebook_cli.py'],\n",
       "         'ports': [{'name': 'notebook-port',\n",
       "           'containerPort': 22,\n",
       "           'protocol': 'TCP'}],\n",
       "         'env': [{'name': 'AWS_ORBIT_ENV', 'value': 'dev-env'},\n",
       "          {'name': 'AWS_ORBIT_TEAM_SPACE', 'value': 'lake-user'},\n",
       "          {'name': 'AWS_STS_REGIONAL_ENDPOINTS', 'value': 'regional'},\n",
       "          {'name': 'JUPYTERHUB_USER', 'value': 'amirbo'},\n",
       "          {'name': 'USERNAME', 'value': 'amirbo'},\n",
       "          {'name': 'AWS_ORBIT_S3_BUCKET',\n",
       "           'value': 'orbit-dev-env-toolkit-495869084367-3a6717'},\n",
       "          {'name': 'task_type', 'value': 'jupyter'},\n",
       "          {'name': 'tasks',\n",
       "           'value': '{\"tasks\": [{\"notebookName\": \"Example-1-SQL-Analysis-Athena.ipynb\", \"sourcePath\": \"shared/samples/notebooks/B-DataAnalyst\", \"targetPath\": \"shared/regression/notebooks/B-DataAnalyst\", \"targetPrefix\": \"ttt\", \"params\": {\"glue_db\": \"cms_raw_db\", \"target_db\": \"users\"}}]}'},\n",
       "          {'name': 'compute',\n",
       "           'value': '{\"compute\": {\"compute_type\": \"eks\", \"node_type\": \"fargate\"}}'}],\n",
       "         'resources': {'limits': {'cpu': '2', 'memory': '2G'},\n",
       "          'requests': {'cpu': '2', 'memory': '2G'}},\n",
       "         'volumeMounts': [{'name': 'efs-volume', 'mountPath': '/efs'}],\n",
       "         'lifecycle': {},\n",
       "         'terminationMessagePath': '/dev/termination-log',\n",
       "         'terminationMessagePolicy': 'File',\n",
       "         'imagePullPolicy': 'Always',\n",
       "         'securityContext': {'runAsUser': 1000, 'runAsGroup': 100}}],\n",
       "       'restartPolicy': 'Never',\n",
       "       'terminationGracePeriodSeconds': 30,\n",
       "       'dnsPolicy': 'ClusterFirst',\n",
       "       'nodeSelector': {'orbit/usage': 'teams'},\n",
       "       'serviceAccountName': 'lake-user',\n",
       "       'serviceAccount': 'lake-user',\n",
       "       'securityContext': {'fsGroup': 100},\n",
       "       'schedulerName': 'default-scheduler'}},\n",
       "     'ttlSecondsAfterFinished': 120}},\n",
       "   'successfulJobsHistoryLimit': 3,\n",
       "   'failedJobsHistoryLimit': 1},\n",
       "  'status': {}}]"
      ]
     },
     "execution_count": 8,
     "metadata": {},
     "output_type": "execute_result"
    }
   ],
   "source": [
    "cronjobs = controller.list_running_cronjobs()\n",
    "assert(len(cronjobs) > 0)\n",
    "cronjobs"
   ]
  },
  {
   "cell_type": "code",
   "execution_count": 9,
   "id": "manual-cutting",
   "metadata": {},
   "outputs": [
    {
     "name": "stdout",
     "output_type": "stream",
     "text": [
      "NAME                  SCHEDULE         SUSPEND   ACTIVE   LAST SCHEDULE   AGE\n",
      "orbit-lake-user-ttt   0/2 * 1/1 * ?    False     0        <none>          1s\n"
     ]
    }
   ],
   "source": [
    "!kubectl get cronjob "
   ]
  },
  {
   "cell_type": "code",
   "execution_count": 10,
   "id": "invisible-possession",
   "metadata": {},
   "outputs": [],
   "source": [
    "controller.delete_cronjob(job_name=cronjob_name)"
   ]
  },
  {
   "cell_type": "code",
   "execution_count": 11,
   "id": "sought-feelings",
   "metadata": {},
   "outputs": [
    {
     "name": "stdout",
     "output_type": "stream",
     "text": [
      "No resources found in lake-user namespace.\n"
     ]
    }
   ],
   "source": [
    "!kubectl get cronjob "
   ]
  },
  {
   "cell_type": "code",
   "execution_count": 12,
   "id": "wicked-samuel",
   "metadata": {},
   "outputs": [
    {
     "name": "stdout",
     "output_type": "stream",
     "text": [
      "Name:           orbit-lake-user-fargate-runner-snd75\n",
      "Namespace:      lake-user\n",
      "Selector:       controller-uid=b372bbb2-6698-4d75-9cd9-32434d0b1cb9\n",
      "Labels:         app=orbit-runner\n",
      "                orbit/node-type=fargate\n",
      "                username=amirbo\n",
      "Annotations:    <none>\n",
      "Parallelism:    1\n",
      "Completions:    1\n",
      "Start Time:     Tue, 09 Mar 2021 21:50:48 +0000\n",
      "Pods Statuses:  1 Running / 0 Succeeded / 0 Failed\n",
      "Pod Template:\n",
      "  Labels:           app=orbit-runner\n",
      "                    controller-uid=b372bbb2-6698-4d75-9cd9-32434d0b1cb9\n",
      "                    job-name=orbit-lake-user-fargate-runner-snd75\n",
      "                    orbit/node-type=fargate\n",
      "                    username=amirbo\n",
      "  Service Account:  lake-user\n",
      "  Containers:\n",
      "   notebook:\n",
      "    Image:      495869084367.dkr.ecr.us-west-2.amazonaws.com/orbit-dev-env-lake-user-jupyter-user:latest\n",
      "    Port:       22/TCP\n",
      "    Host Port:  0/TCP\n",
      "    Args:\n",
      "      bash\n",
      "      -c\n",
      "      /home/jovyan/.orbit/bootstrap.sh && python /opt/python-utils/notebook_cli.py\n",
      "    Limits:\n",
      "      cpu:     2\n",
      "      memory:  2G\n",
      "    Requests:\n",
      "      cpu:     2\n",
      "      memory:  2G\n",
      "    Environment:\n",
      "      AWS_ORBIT_ENV:               dev-env\n",
      "      AWS_ORBIT_TEAM_SPACE:        lake-user\n",
      "      AWS_STS_REGIONAL_ENDPOINTS:  regional\n",
      "      JUPYTERHUB_USER:             amirbo\n",
      "      USERNAME:                    amirbo\n",
      "      AWS_ORBIT_S3_BUCKET:         orbit-dev-env-toolkit-495869084367-3a6717\n",
      "      task_type:                   jupyter\n",
      "      tasks:                       {\"tasks\": [{\"notebookName\": \"Example-1-SQL-Analysis-Athena.ipynb\", \"sourcePath\": \"shared/samples/notebooks/B-DataAnalyst\", \"targetPath\": \"shared/regression/notebooks/B-DataAnalyst\", \"targetPrefix\": \"ttt\", \"params\": {\"glue_db\": \"cms_raw_db\", \"target_db\": \"users\"}}]}\n",
      "      compute:                     {\"compute\": {\"compute_type\": \"eks\", \"node_type\": \"fargate\"}}\n",
      "    Mounts:\n",
      "      /efs from efs-volume (rw)\n",
      "  Volumes:\n",
      "   efs-volume:\n",
      "    Type:       PersistentVolumeClaim (a reference to a PersistentVolumeClaim in the same namespace)\n",
      "    ClaimName:  jupyterhub\n",
      "    ReadOnly:   false\n",
      "Events:\n",
      "  Type    Reason            Age   From            Message\n",
      "  ----    ------            ----  ----            -------\n",
      "  Normal  SuccessfulCreate  2s    job-controller  Created pod: orbit-lake-user-fargate-runner-snd75-7kbpx\n"
     ]
    }
   ],
   "source": [
    "!kubectl describe job $job_name"
   ]
  },
  {
   "cell_type": "code",
   "execution_count": 13,
   "id": "several-words",
   "metadata": {},
   "outputs": [
    {
     "data": {
      "text/plain": [
       "'orbit-lake-user-fargate-runner-snd75'"
      ]
     },
     "execution_count": 13,
     "metadata": {},
     "output_type": "execute_result"
    }
   ],
   "source": [
    "job_name"
   ]
  },
  {
   "cell_type": "code",
   "execution_count": 14,
   "id": "sharing-steel",
   "metadata": {},
   "outputs": [
    {
     "name": "stdout",
     "output_type": "stream",
     "text": [
      "orbit-lake-user-fargate-runner-snd75-7kbpx\n"
     ]
    },
    {
     "data": {
      "text/plain": [
       "[{'metadata': {'name': 'orbit-lake-user-fargate-runner-snd75-7kbpx',\n",
       "   'generateName': 'orbit-lake-user-fargate-runner-snd75-',\n",
       "   'namespace': 'lake-user',\n",
       "   'selfLink': '/api/v1/namespaces/lake-user/pods/orbit-lake-user-fargate-runner-snd75-7kbpx',\n",
       "   'uid': 'a092562d-17e7-43e3-ad34-982a8db82835',\n",
       "   'resourceVersion': '1319171',\n",
       "   'creationTimestamp': '2021-03-09T21:50:48Z',\n",
       "   'labels': {'app': 'orbit-runner',\n",
       "    'controller-uid': 'b372bbb2-6698-4d75-9cd9-32434d0b1cb9',\n",
       "    'job-name': 'orbit-lake-user-fargate-runner-snd75',\n",
       "    'orbit/node-type': 'fargate',\n",
       "    'username': 'amirbo'},\n",
       "   'annotations': {'kubernetes.io/psp': 'eks.privileged'},\n",
       "   'ownerReferences': [{'apiVersion': 'batch/v1',\n",
       "     'kind': 'Job',\n",
       "     'name': 'orbit-lake-user-fargate-runner-snd75',\n",
       "     'uid': 'b372bbb2-6698-4d75-9cd9-32434d0b1cb9',\n",
       "     'controller': True,\n",
       "     'blockOwnerDeletion': True}],\n",
       "   'managedFields': [{'manager': 'kube-controller-manager',\n",
       "     'operation': 'Update',\n",
       "     'apiVersion': 'v1',\n",
       "     'time': '2021-03-09T21:50:48Z',\n",
       "     'fieldsType': 'FieldsV1',\n",
       "     'fieldsV1': {'f:metadata': {'f:generateName': {},\n",
       "       'f:labels': {'.': {},\n",
       "        'f:app': {},\n",
       "        'f:controller-uid': {},\n",
       "        'f:job-name': {},\n",
       "        'f:orbit/node-type': {},\n",
       "        'f:username': {}},\n",
       "       'f:ownerReferences': {'.': {},\n",
       "        'k:{\"uid\":\"b372bbb2-6698-4d75-9cd9-32434d0b1cb9\"}': {'.': {},\n",
       "         'f:apiVersion': {},\n",
       "         'f:blockOwnerDeletion': {},\n",
       "         'f:controller': {},\n",
       "         'f:kind': {},\n",
       "         'f:name': {},\n",
       "         'f:uid': {}}}},\n",
       "      'f:spec': {'f:containers': {'k:{\"name\":\"notebook\"}': {'.': {},\n",
       "         'f:args': {},\n",
       "         'f:env': {'.': {},\n",
       "          'k:{\"name\":\"AWS_ORBIT_ENV\"}': {'.': {}, 'f:name': {}, 'f:value': {}},\n",
       "          'k:{\"name\":\"AWS_ORBIT_S3_BUCKET\"}': {'.': {},\n",
       "           'f:name': {},\n",
       "           'f:value': {}},\n",
       "          'k:{\"name\":\"AWS_ORBIT_TEAM_SPACE\"}': {'.': {},\n",
       "           'f:name': {},\n",
       "           'f:value': {}},\n",
       "          'k:{\"name\":\"AWS_STS_REGIONAL_ENDPOINTS\"}': {'.': {},\n",
       "           'f:name': {},\n",
       "           'f:value': {}},\n",
       "          'k:{\"name\":\"JUPYTERHUB_USER\"}': {'.': {},\n",
       "           'f:name': {},\n",
       "           'f:value': {}},\n",
       "          'k:{\"name\":\"USERNAME\"}': {'.': {}, 'f:name': {}, 'f:value': {}},\n",
       "          'k:{\"name\":\"compute\"}': {'.': {}, 'f:name': {}, 'f:value': {}},\n",
       "          'k:{\"name\":\"task_type\"}': {'.': {}, 'f:name': {}, 'f:value': {}},\n",
       "          'k:{\"name\":\"tasks\"}': {'.': {}, 'f:name': {}, 'f:value': {}}},\n",
       "         'f:image': {},\n",
       "         'f:imagePullPolicy': {},\n",
       "         'f:lifecycle': {},\n",
       "         'f:name': {},\n",
       "         'f:ports': {'.': {},\n",
       "          'k:{\"containerPort\":22,\"protocol\":\"TCP\"}': {'.': {},\n",
       "           'f:containerPort': {},\n",
       "           'f:name': {},\n",
       "           'f:protocol': {}}},\n",
       "         'f:resources': {'.': {},\n",
       "          'f:limits': {'.': {}, 'f:cpu': {}, 'f:memory': {}},\n",
       "          'f:requests': {'.': {}, 'f:cpu': {}, 'f:memory': {}}},\n",
       "         'f:securityContext': {'.': {}, 'f:runAsGroup': {}, 'f:runAsUser': {}},\n",
       "         'f:terminationMessagePath': {},\n",
       "         'f:terminationMessagePolicy': {},\n",
       "         'f:volumeMounts': {'.': {},\n",
       "          'k:{\"mountPath\":\"/efs\"}': {'.': {},\n",
       "           'f:mountPath': {},\n",
       "           'f:name': {}}}}},\n",
       "       'f:dnsPolicy': {},\n",
       "       'f:enableServiceLinks': {},\n",
       "       'f:nodeSelector': {'.': {}, 'f:orbit/usage': {}},\n",
       "       'f:restartPolicy': {},\n",
       "       'f:schedulerName': {},\n",
       "       'f:securityContext': {'.': {}, 'f:fsGroup': {}},\n",
       "       'f:serviceAccount': {},\n",
       "       'f:serviceAccountName': {},\n",
       "       'f:terminationGracePeriodSeconds': {},\n",
       "       'f:volumes': {'.': {},\n",
       "        'k:{\"name\":\"efs-volume\"}': {'.': {},\n",
       "         'f:name': {},\n",
       "         'f:persistentVolumeClaim': {'.': {}, 'f:claimName': {}}}}}}},\n",
       "    {'manager': 'kubelet',\n",
       "     'operation': 'Update',\n",
       "     'apiVersion': 'v1',\n",
       "     'time': '2021-03-09T21:50:48Z',\n",
       "     'fieldsType': 'FieldsV1',\n",
       "     'fieldsV1': {'f:status': {'f:conditions': {'k:{\"type\":\"ContainersReady\"}': {'.': {},\n",
       "         'f:lastProbeTime': {},\n",
       "         'f:lastTransitionTime': {},\n",
       "         'f:message': {},\n",
       "         'f:reason': {},\n",
       "         'f:status': {},\n",
       "         'f:type': {}},\n",
       "        'k:{\"type\":\"Initialized\"}': {'.': {},\n",
       "         'f:lastProbeTime': {},\n",
       "         'f:lastTransitionTime': {},\n",
       "         'f:status': {},\n",
       "         'f:type': {}},\n",
       "        'k:{\"type\":\"Ready\"}': {'.': {},\n",
       "         'f:lastProbeTime': {},\n",
       "         'f:lastTransitionTime': {},\n",
       "         'f:message': {},\n",
       "         'f:reason': {},\n",
       "         'f:status': {},\n",
       "         'f:type': {}}},\n",
       "       'f:containerStatuses': {},\n",
       "       'f:hostIP': {},\n",
       "       'f:startTime': {}}}}]},\n",
       "  'spec': {'volumes': [{'name': 'aws-iam-token',\n",
       "     'projected': {'sources': [{'serviceAccountToken': {'audience': 'sts.amazonaws.com',\n",
       "         'expirationSeconds': 86400,\n",
       "         'path': 'token'}}],\n",
       "      'defaultMode': 420}},\n",
       "    {'name': 'efs-volume',\n",
       "     'persistentVolumeClaim': {'claimName': 'jupyterhub'}},\n",
       "    {'name': 'lake-user-token-9qqjn',\n",
       "     'secret': {'secretName': 'lake-user-token-9qqjn', 'defaultMode': 420}}],\n",
       "   'containers': [{'name': 'notebook',\n",
       "     'image': '495869084367.dkr.ecr.us-west-2.amazonaws.com/orbit-dev-env-lake-user-jupyter-user:latest',\n",
       "     'args': ['bash',\n",
       "      '-c',\n",
       "      '/home/jovyan/.orbit/bootstrap.sh && python /opt/python-utils/notebook_cli.py'],\n",
       "     'ports': [{'name': 'notebook-port',\n",
       "       'containerPort': 22,\n",
       "       'protocol': 'TCP'}],\n",
       "     'env': [{'name': 'AWS_ORBIT_ENV', 'value': 'dev-env'},\n",
       "      {'name': 'AWS_ORBIT_TEAM_SPACE', 'value': 'lake-user'},\n",
       "      {'name': 'AWS_STS_REGIONAL_ENDPOINTS', 'value': 'regional'},\n",
       "      {'name': 'JUPYTERHUB_USER', 'value': 'amirbo'},\n",
       "      {'name': 'USERNAME', 'value': 'amirbo'},\n",
       "      {'name': 'AWS_ORBIT_S3_BUCKET',\n",
       "       'value': 'orbit-dev-env-toolkit-495869084367-3a6717'},\n",
       "      {'name': 'task_type', 'value': 'jupyter'},\n",
       "      {'name': 'tasks',\n",
       "       'value': '{\"tasks\": [{\"notebookName\": \"Example-1-SQL-Analysis-Athena.ipynb\", \"sourcePath\": \"shared/samples/notebooks/B-DataAnalyst\", \"targetPath\": \"shared/regression/notebooks/B-DataAnalyst\", \"targetPrefix\": \"ttt\", \"params\": {\"glue_db\": \"cms_raw_db\", \"target_db\": \"users\"}}]}'},\n",
       "      {'name': 'compute',\n",
       "       'value': '{\"compute\": {\"compute_type\": \"eks\", \"node_type\": \"fargate\"}}'},\n",
       "      {'name': 'AWS_DEFAULT_REGION', 'value': 'us-west-2'},\n",
       "      {'name': 'AWS_REGION', 'value': 'us-west-2'},\n",
       "      {'name': 'AWS_ROLE_ARN',\n",
       "       'value': 'arn:aws:iam::495869084367:role/orbit-dev-env-lake-user-role'},\n",
       "      {'name': 'AWS_WEB_IDENTITY_TOKEN_FILE',\n",
       "       'value': '/var/run/secrets/eks.amazonaws.com/serviceaccount/token'}],\n",
       "     'resources': {'limits': {'cpu': '2', 'memory': '2G'},\n",
       "      'requests': {'cpu': '2', 'memory': '2G'}},\n",
       "     'volumeMounts': [{'name': 'efs-volume', 'mountPath': '/efs'},\n",
       "      {'name': 'lake-user-token-9qqjn',\n",
       "       'readOnly': True,\n",
       "       'mountPath': '/var/run/secrets/kubernetes.io/serviceaccount'},\n",
       "      {'name': 'aws-iam-token',\n",
       "       'readOnly': True,\n",
       "       'mountPath': '/var/run/secrets/eks.amazonaws.com/serviceaccount'}],\n",
       "     'lifecycle': {},\n",
       "     'terminationMessagePath': '/dev/termination-log',\n",
       "     'terminationMessagePolicy': 'File',\n",
       "     'imagePullPolicy': 'Always',\n",
       "     'securityContext': {'runAsUser': 1000, 'runAsGroup': 100}}],\n",
       "   'restartPolicy': 'Never',\n",
       "   'terminationGracePeriodSeconds': 30,\n",
       "   'dnsPolicy': 'ClusterFirst',\n",
       "   'nodeSelector': {'orbit/usage': 'teams'},\n",
       "   'serviceAccountName': 'lake-user',\n",
       "   'serviceAccount': 'lake-user',\n",
       "   'nodeName': 'ip-10-0-33-167.us-west-2.compute.internal',\n",
       "   'securityContext': {'fsGroup': 100},\n",
       "   'schedulerName': 'default-scheduler',\n",
       "   'tolerations': [{'key': 'node.kubernetes.io/not-ready',\n",
       "     'operator': 'Exists',\n",
       "     'effect': 'NoExecute',\n",
       "     'tolerationSeconds': 300},\n",
       "    {'key': 'node.kubernetes.io/unreachable',\n",
       "     'operator': 'Exists',\n",
       "     'effect': 'NoExecute',\n",
       "     'tolerationSeconds': 300}],\n",
       "   'priority': 0,\n",
       "   'enableServiceLinks': True},\n",
       "  'status': {'phase': 'Pending',\n",
       "   'conditions': [{'type': 'Initialized',\n",
       "     'status': 'True',\n",
       "     'lastProbeTime': None,\n",
       "     'lastTransitionTime': '2021-03-09T21:50:48Z'},\n",
       "    {'type': 'Ready',\n",
       "     'status': 'False',\n",
       "     'lastProbeTime': None,\n",
       "     'lastTransitionTime': '2021-03-09T21:50:48Z',\n",
       "     'reason': 'ContainersNotReady',\n",
       "     'message': 'containers with unready status: [notebook]'},\n",
       "    {'type': 'ContainersReady',\n",
       "     'status': 'False',\n",
       "     'lastProbeTime': None,\n",
       "     'lastTransitionTime': '2021-03-09T21:50:48Z',\n",
       "     'reason': 'ContainersNotReady',\n",
       "     'message': 'containers with unready status: [notebook]'},\n",
       "    {'type': 'PodScheduled',\n",
       "     'status': 'True',\n",
       "     'lastProbeTime': None,\n",
       "     'lastTransitionTime': '2021-03-09T21:50:48Z'}],\n",
       "   'hostIP': '10.0.33.167',\n",
       "   'startTime': '2021-03-09T21:50:48Z',\n",
       "   'containerStatuses': [{'name': 'notebook',\n",
       "     'state': {'waiting': {'reason': 'ContainerCreating'}},\n",
       "     'lastState': {},\n",
       "     'ready': False,\n",
       "     'restartCount': 0,\n",
       "     'image': '495869084367.dkr.ecr.us-west-2.amazonaws.com/orbit-dev-env-lake-user-jupyter-user:latest',\n",
       "     'imageID': '',\n",
       "     'started': False}],\n",
       "   'qosClass': 'Guaranteed'}}]"
      ]
     },
     "execution_count": 14,
     "metadata": {},
     "output_type": "execute_result"
    }
   ],
   "source": [
    "pods = controller.list_current_pods(f'job-name={job_name}')\n",
    "assert(len(pods)==1)\n",
    "pod_id = pods[0]['metadata']['name']\n",
    "print(pod_id)\n",
    "pods"
   ]
  },
  {
   "cell_type": "code",
   "execution_count": 15,
   "id": "superior-glass",
   "metadata": {},
   "outputs": [
    {
     "name": "stdout",
     "output_type": "stream",
     "text": [
      "pod/orbit-lake-user-fargate-runner-snd75-7kbpx condition met\n"
     ]
    }
   ],
   "source": [
    "!kubectl wait --for=condition=Ready --timeout=120s pod/$pod_id"
   ]
  },
  {
   "cell_type": "code",
   "execution_count": 16,
   "id": "cordless-eligibility",
   "metadata": {},
   "outputs": [],
   "source": [
    "controller.delete_job(job_name)"
   ]
  },
  {
   "cell_type": "code",
   "execution_count": 17,
   "id": "spread-internship",
   "metadata": {},
   "outputs": [
    {
     "name": "stdout",
     "output_type": "stream",
     "text": [
      "pod/orbit-lake-user-fargate-runner-snd75-7kbpx condition met\n"
     ]
    }
   ],
   "source": [
    "!kubectl wait --for=delete --timeout=120s pod/$pod_id"
   ]
  },
  {
   "cell_type": "code",
   "execution_count": 18,
   "id": "approximate-basin",
   "metadata": {},
   "outputs": [
    {
     "data": {
      "text/plain": [
       "('orbit-lake-user-fargate-runner-snd75-7kbpx',\n",
       " 'orbit-lake-user-fargate-runner-snd75')"
      ]
     },
     "execution_count": 18,
     "metadata": {},
     "output_type": "execute_result"
    }
   ],
   "source": [
    "pod_id,job_name"
   ]
  },
  {
   "cell_type": "code",
   "execution_count": 19,
   "id": "shaped-adjustment",
   "metadata": {},
   "outputs": [
    {
     "data": {
      "text/plain": [
       "[]"
      ]
     },
     "execution_count": 19,
     "metadata": {},
     "output_type": "execute_result"
    }
   ],
   "source": [
    "pods = controller.list_current_pods(f'job-name={job_name}')\n",
    "pods"
   ]
  },
  {
   "cell_type": "code",
   "execution_count": 20,
   "id": "accepting-papua",
   "metadata": {},
   "outputs": [],
   "source": [
    "assert(len(pods)==0)"
   ]
  },
  {
   "cell_type": "code",
   "execution_count": 24,
   "id": "promotional-threshold",
   "metadata": {},
   "outputs": [
    {
     "name": "stderr",
     "output_type": "stream",
     "text": [
      "INFO:root:using default profile {'display_name': 'Micro', 'slug': 'micro', 'description': '2 CPU + 2G MEM', 'kubespawner_override': {'cpu_guarantee': 2, 'cpu_limit': 2, 'mem_guarantee': '2G', 'mem_limit': '2G'}, 'default': True}\n",
      "INFO:root:volumes:[{\"name\": \"efs-volume\", \"persistentVolumeClaim\": {\"claimName\": \"jupyterhub\"}}]\n",
      "INFO:root:volume_mounts:[{\"mountPath\": \"/efs\", \"name\": \"efs-volume\"}]\n"
     ]
    },
    {
     "data": {
      "text/plain": [
       "{'ExecutionType': 'eks',\n",
       " 'Identifier': 'orbit-lake-user-fargate-runner-7bql5',\n",
       " 'NodeType': 'fargate',\n",
       " 'tasks': [{'notebookName': 'Example-1-SQL-Analysis-Athena.ipynb',\n",
       "   'sourcePath': 'shared/samples/notebooks/B-DataAnalyst',\n",
       "   'targetPath': 'shared/regression/notebooks/B-DataAnalyst',\n",
       "   'targetPrefix': 'ttt',\n",
       "   'params': {'glue_db': 'cms_raw_db', 'target_db': 'users'}}]}"
      ]
     },
     "execution_count": 24,
     "metadata": {},
     "output_type": "execute_result"
    }
   ],
   "source": [
    "%%run_notebook\n",
    "{    \n",
    "      \"tasks\":  [\n",
    "            {\n",
    "                  \"notebookName\": \"Example-1-SQL-Analysis-Athena.ipynb\",\n",
    "                  \"sourcePath\": \"shared/samples/notebooks/B-DataAnalyst\",\n",
    "                  \"targetPath\": \"shared/regression/notebooks/B-DataAnalyst\",\n",
    "                  \"targetPrefix\": \"ttt\",\n",
    "                  \"params\": {\n",
    "                        \"glue_db\" : \"cms_raw_db\",\n",
    "                        \"target_db\" : \"users\"\n",
    "                  }      \n",
    "            }\n",
    "      ]  \n",
    "}"
   ]
  },
  {
   "cell_type": "code",
   "execution_count": 25,
   "id": "changing-driving",
   "metadata": {},
   "outputs": [
    {
     "name": "stdout",
     "output_type": "stream",
     "text": [
      "NAME                                   COMPLETIONS   DURATION   AGE\n",
      "orbit-lake-user-fargate-runner-7bql5   0/1           2s         2s\n"
     ]
    }
   ],
   "source": [
    "!kubectl get jobs"
   ]
  },
  {
   "cell_type": "code",
   "execution_count": 26,
   "id": "australian-center",
   "metadata": {},
   "outputs": [],
   "source": [
    "controller.delete_all_my_jobs()"
   ]
  },
  {
   "cell_type": "code",
   "execution_count": 27,
   "id": "powerful-allen",
   "metadata": {},
   "outputs": [
    {
     "name": "stdout",
     "output_type": "stream",
     "text": [
      "['No resources found in lake-user namespace.']\n"
     ]
    }
   ],
   "source": [
    "output = !kubectl get jobs\n",
    "print(output)\n",
    "assert('No resources found in lake-user namespace.' == output[0])"
   ]
  },
  {
   "cell_type": "code",
   "execution_count": null,
   "id": "acquired-model",
   "metadata": {},
   "outputs": [],
   "source": []
  }
 ],
 "metadata": {
  "kernelspec": {
   "display_name": "Python 3",
   "language": "python",
   "name": "python3"
  },
  "language_info": {
   "codemirror_mode": {
    "name": "ipython",
    "version": 3
   },
   "file_extension": ".py",
   "mimetype": "text/x-python",
   "name": "python",
   "nbconvert_exporter": "python",
   "pygments_lexer": "ipython3",
   "version": "3.8.6"
  }
 },
 "nbformat": 4,
 "nbformat_minor": 5
}
