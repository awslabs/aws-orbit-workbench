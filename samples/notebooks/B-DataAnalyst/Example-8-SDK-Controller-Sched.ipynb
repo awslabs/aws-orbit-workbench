{
 "cells": [
  {
   "cell_type": "markdown",
   "source": [
    "# Example 8:  Running Notebooks with Orbit SDK\n",
    "\n",
    "### Author: AWS Professional Services \n",
    "### Date: January 30 2019\n",
    "\n",
    "In this example, we will demonstrate how users can simply schedule notebooks to run"
   ],
   "metadata": {}
  },
  {
   "cell_type": "code",
   "execution_count": null,
   "source": [
    "import os\n",
    "import sys\n",
    "import boto3\n",
    "from aws_orbit_sdk import controller\n",
    "from aws_orbit_sdk.common import get_workspace,get_scratch_database\n",
    "from aws_orbit_sdk.magics.orbit import OrbitWorkbenchMagics \n",
    "\n",
    "import json\n",
    "import time\n",
    "\n",
    "env_name = %env AWS_ORBIT_ENV\n",
    "team_name = %env AWS_ORBIT_TEAM_SPACE\n",
    "(env_name,team_name)"
   ],
   "outputs": [],
   "metadata": {}
  },
  {
   "cell_type": "markdown",
   "source": [
    "!orbit list profile --env $env_name -t $team_name"
   ],
   "metadata": {}
  },
  {
   "cell_type": "code",
   "execution_count": null,
   "source": [
    "glue_db = f\"cms_raw_db_{env_name}\""
   ],
   "outputs": [],
   "metadata": {}
  },
  {
   "cell_type": "markdown",
   "source": [
    "### Running a notebook on a remote container"
   ],
   "metadata": {}
  },
  {
   "cell_type": "code",
   "execution_count": null,
   "source": [
    "notebooksToRun = {\n",
    "      \"compute\": {\n",
    "          \"container\" : {\n",
    "              \"p_concurrent\": \"1\" # how many threads will run on the container to execucte tasks\n",
    "          },\n",
    "          \"node_type\": \"ec2\", # fargate is an option if it is enabled by your orbit team deployment \n",
    "          \"podsetting\":\"orbit-runner-support-small\"\n",
    "      },\n",
    "      \"tasks\":  [\n",
    "            {\n",
    "                  \"notebookName\": \"Example-1-SQL-Analysis-Athena.ipynb\",  # The notebook name to run\n",
    "                  \"sourcePath\": \"shared/samples/notebooks/B-DataAnalyst\", # The EFS folder in shared where the notebook resides\n",
    "                  \"targetPath\": \"shared/regression/notebooks/B-DataAnalyst\", # The EFS target location where the folder should be written\n",
    "                  \"targetPrefix\": \"ttt\", # Any prefix to append to the name of the output nodebook \n",
    "                  \"params\": {  # Parameters map to replace the variables' values define in the cell tag with 'parameters'\n",
    "                        \"glue_db\" : glue_db,\n",
    "                        \"target_db\" : \"users\"\n",
    "                  }      \n",
    "            }\n",
    "      ]  \n",
    "}\n"
   ],
   "outputs": [],
   "metadata": {}
  },
  {
   "cell_type": "code",
   "execution_count": null,
   "source": [
    "containers = controller.run_notebooks(notebooksToRun) # Starts a single container to execute give task"
   ],
   "outputs": [],
   "metadata": {}
  },
  {
   "cell_type": "code",
   "execution_count": null,
   "source": [
    "containers"
   ],
   "outputs": [],
   "metadata": {}
  },
  {
   "cell_type": "code",
   "execution_count": null,
   "source": [
    "job_name=containers['Identifier']\n",
    "print(f\"This would be the id of the K8 Job\")\n",
    "job_name"
   ],
   "outputs": [],
   "metadata": {}
  },
  {
   "cell_type": "code",
   "execution_count": null,
   "source": [
    "# Lets wait until job ends and tail the log of the container\n",
    "controller.wait_for_tasks_to_complete([containers], 60,60, True)"
   ],
   "outputs": [],
   "metadata": {}
  },
  {
   "cell_type": "markdown",
   "source": [
    "### Scheduling a notebook to run with a cron schedule"
   ],
   "metadata": {}
  },
  {
   "cell_type": "code",
   "execution_count": null,
   "source": [
    "%%schedule_notebook -cron 0/2 * 1/1 * ?  -id ttt --a glue_db=$glue_db\n",
    "{\n",
    "    \"compute\": {\n",
    "        \"node_type\": \"ec2\",\n",
    "        \"container\": \n",
    "            {\n",
    "            \"p_concurrent\" :1\n",
    "            },\n",
    "        \"podsetting\":\"orbit-runner-support-small\"\n",
    "    },\n",
    "      \"tasks\":  [\n",
    "            {\n",
    "                  \"notebookName\": \"Example-1-SQL-Analysis-Athena.ipynb\",\n",
    "                  \"sourcePath\": \"shared/samples/notebooks/B-DataAnalyst\",\n",
    "                  \"targetPath\": \"shared/regression/notebooks/B-DataAnalyst\",\n",
    "                  \"targetPrefix\": \"ttt\",\n",
    "                  \"params\": {\n",
    "                        \"glue_db\" : \"glue_db\",\n",
    "                        \"target_db\" : \"users\"\n",
    "                  }      \n",
    "            }\n",
    "      ]  \n",
    "}\n"
   ],
   "outputs": [],
   "metadata": {}
  },
  {
   "cell_type": "code",
   "execution_count": null,
   "source": [
    "cronjob_name=_['Identifier']\n",
    "cronjob_name"
   ],
   "outputs": [],
   "metadata": {}
  },
  {
   "cell_type": "markdown",
   "source": [
    "### Different ways of accessing Kubernetes Job status"
   ],
   "metadata": {}
  },
  {
   "cell_type": "code",
   "execution_count": null,
   "source": [
    "jobs = controller.list_my_running_jobs()\n",
    "assert(len(jobs) > 0)\n",
    "jobs"
   ],
   "outputs": [],
   "metadata": {}
  },
  {
   "cell_type": "code",
   "execution_count": null,
   "source": [
    "jobs = controller.list_team_running_jobs()\n",
    "print(jobs)\n",
    "# assert(len(jobs) == 0)"
   ],
   "outputs": [],
   "metadata": {}
  },
  {
   "cell_type": "code",
   "execution_count": null,
   "source": [
    "cronjobs = controller.list_running_cronjobs()\n",
    "assert(len(cronjobs) > 0)\n",
    "cronjobs"
   ],
   "outputs": [],
   "metadata": {}
  },
  {
   "cell_type": "code",
   "execution_count": null,
   "source": [
    "!kubectl get cronjob "
   ],
   "outputs": [],
   "metadata": {}
  },
  {
   "cell_type": "markdown",
   "source": [
    "### Deleting a [scheduled] Job"
   ],
   "metadata": {}
  },
  {
   "cell_type": "code",
   "execution_count": null,
   "source": [
    "controller.delete_cronjob(job_name=cronjob_name)"
   ],
   "outputs": [],
   "metadata": {}
  },
  {
   "cell_type": "code",
   "execution_count": null,
   "source": [
    "!kubectl get cronjob "
   ],
   "outputs": [],
   "metadata": {}
  },
  {
   "cell_type": "code",
   "execution_count": null,
   "source": [
    "!kubectl describe job $job_name"
   ],
   "outputs": [],
   "metadata": {}
  },
  {
   "cell_type": "code",
   "execution_count": null,
   "source": [
    "pods = controller.list_current_pods(f'job-name={job_name}')\n",
    "assert(len(pods)==1)\n",
    "pod_id = pods[0]['metadata']['name']\n",
    "print(pod_id)\n",
    "pods"
   ],
   "outputs": [],
   "metadata": {}
  },
  {
   "cell_type": "code",
   "execution_count": null,
   "source": [
    "!kubectl wait --for=condition=Ready --timeout=120s pod/$pod_id"
   ],
   "outputs": [],
   "metadata": {}
  },
  {
   "cell_type": "code",
   "execution_count": null,
   "source": [
    "try:\n",
    "    controller.delete_job(job_name)\n",
    "except Exception as e:\n",
    "    print(f'Job {job_name} deleted by ttl setting')"
   ],
   "outputs": [],
   "metadata": {}
  },
  {
   "cell_type": "code",
   "execution_count": null,
   "source": [
    "!kubectl wait --for=delete --timeout=120s pod/$pod_id"
   ],
   "outputs": [],
   "metadata": {}
  },
  {
   "cell_type": "code",
   "execution_count": null,
   "source": [
    "pod_id,job_name"
   ],
   "outputs": [],
   "metadata": {}
  },
  {
   "cell_type": "code",
   "execution_count": null,
   "source": [
    "pods = controller.list_current_pods(f'job-name={job_name}')\n",
    "pods"
   ],
   "outputs": [],
   "metadata": {}
  },
  {
   "cell_type": "code",
   "execution_count": null,
   "source": [
    "assert(len(pods)==0)"
   ],
   "outputs": [],
   "metadata": {}
  },
  {
   "cell_type": "markdown",
   "source": [
    "### Running notebooks using Jupyter magic"
   ],
   "metadata": {}
  },
  {
   "cell_type": "code",
   "execution_count": null,
   "source": [
    "%%run_notebook --a glue_db=$glue_db\n",
    "{\n",
    "    \"compute\": {\n",
    "        \"node_type\": \"ec2\",\n",
    "        \"container\": \n",
    "            {\n",
    "            \"p_concurrent\" :1\n",
    "            },\n",
    "        \"podsetting\":\"orbit-runner-support-small\"\n",
    "    },\n",
    "      \"tasks\":  [\n",
    "            {\n",
    "                  \"notebookName\": \"Example-1-SQL-Analysis-Athena.ipynb\",\n",
    "                  \"sourcePath\": \"shared/samples/notebooks/B-DataAnalyst\",\n",
    "                  \"targetPath\": \"shared/regression/notebooks/B-DataAnalyst\",\n",
    "                  \"targetPrefix\": \"ttt\",\n",
    "                  \"params\": {\n",
    "                        \"glue_db\" : \"glue_db\",\n",
    "                        \"target_db\" : \"users\"\n",
    "                  }      \n",
    "            }\n",
    "      ]  \n",
    "}\n"
   ],
   "outputs": [],
   "metadata": {
    "pycharm": {
     "name": "#%%\n"
    }
   }
  },
  {
   "cell_type": "code",
   "execution_count": null,
   "source": [],
   "outputs": [],
   "metadata": {}
  },
  {
   "cell_type": "code",
   "execution_count": null,
   "source": [],
   "outputs": [],
   "metadata": {}
  }
 ],
 "metadata": {
  "kernelspec": {
   "display_name": "Python 3",
   "language": "python",
   "name": "python3"
  },
  "language_info": {
   "codemirror_mode": {
    "name": "ipython",
    "version": 3
   },
   "file_extension": ".py",
   "mimetype": "text/x-python",
   "name": "python",
   "nbconvert_exporter": "python",
   "pygments_lexer": "ipython3",
   "version": "3.8.8"
  }
 },
 "nbformat": 4,
 "nbformat_minor": 5
}