{
 "cells": [
  {
   "cell_type": "markdown",
   "id": "00a3c9b4",
   "metadata": {},
   "source": [
    "# Example 8:  Running Notebooks with Orbit SDK\n",
    "\n",
    "### Author: AWS Professional Services \n",
    "### Date: January 30 2019\n",
    "\n",
    "In this example, we will demonstrate how users can simply schedule notebooks to run"
   ]
  },
  {
   "cell_type": "code",
   "execution_count": null,
   "id": "8b6ca8c7",
   "metadata": {},
   "outputs": [],
   "source": [
    "import os\n",
    "import sys\n",
    "import boto3\n",
    "from aws_orbit_sdk import controller\n",
    "from aws_orbit_sdk.common import get_workspace,get_scratch_database\n",
    "from aws_orbit_sdk.magics.orbit import OrbitWorkbenchMagics \n",
    "\n",
    "import json\n",
    "import time\n",
    "\n",
    "env_name = %env AWS_ORBIT_ENV\n",
    "team_name = %env AWS_ORBIT_TEAM_SPACE\n",
    "(env_name,team_name)"
   ]
  },
  {
   "cell_type": "markdown",
   "id": "80b47cc7",
   "metadata": {},
   "source": [
    "!orbit list profile --env $env_name -t $team_name"
   ]
  },
  {
   "cell_type": "markdown",
   "id": "ba19c007",
   "metadata": {},
   "source": [
    "### Running a notebook on a remote container"
   ]
  },
  {
   "cell_type": "code",
   "execution_count": null,
   "id": "9cb33d77",
   "metadata": {},
   "outputs": [],
   "source": [
    "notebooksToRun = {\n",
    "      \"compute\": {\n",
    "          \"container\" : {\n",
    "              \"p_concurrent\": \"1\" # how many threads will run on the container to execucte tasks\n",
    "          },\n",
    "          \"node_type\": \"ec2\", # fargate is an option if it is enabled by your orbit team deployment \n",
    "          \"podsetting\":\"orbit-runner-support-small\"\n",
    "      },\n",
    "      \"tasks\":  [\n",
    "            {\n",
    "                  \"notebookName\": \"Example-1-SQL-Analysis-Athena.ipynb\",  # The notebook name to run\n",
    "                  \"sourcePath\": \"shared/samples/notebooks/B-DataAnalyst\", # The EFS folder in shared where the notebook resides\n",
    "                  \"targetPath\": \"shared/regression/notebooks/B-DataAnalyst\", # The EFS target location where the folder should be written\n",
    "                  \"targetPrefix\": \"ttt\", # Any prefix to append to the name of the output nodebook \n",
    "                  \"params\": {  # Parameters map to replace the variables' values define in the cell tag with 'parameters'\n",
    "                        \"glue_db\" : \"cms_raw_db\",\n",
    "                        \"target_db\" : \"users\"\n",
    "                  }      \n",
    "            }\n",
    "      ]  \n",
    "}\n"
   ]
  },
  {
   "cell_type": "code",
   "execution_count": null,
   "id": "21262855",
   "metadata": {},
   "outputs": [],
   "source": [
    "containers = controller.run_notebooks(notebooksToRun) # Starts a single container to execute give task"
   ]
  },
  {
   "cell_type": "code",
   "execution_count": null,
   "id": "dc9c8e62",
   "metadata": {},
   "outputs": [],
   "source": [
    "containers"
   ]
  },
  {
   "cell_type": "code",
   "execution_count": null,
   "id": "e3e015e5",
   "metadata": {},
   "outputs": [],
   "source": [
    "job_name=containers['Identifier']\n",
    "print(f\"This would be the id of the K8 Job\")\n",
    "job_name"
   ]
  },
  {
   "cell_type": "code",
   "execution_count": null,
   "id": "bf65421e",
   "metadata": {},
   "outputs": [],
   "source": [
    "# Lets wait until job ends and tail the log of the container\n",
    "controller.wait_for_tasks_to_complete([containers], 60,60, True)"
   ]
  },
  {
   "cell_type": "markdown",
   "id": "f7c3f832",
   "metadata": {},
   "source": [
    "### Scheduling a notebook to run with a cron schedule"
   ]
  },
  {
   "cell_type": "code",
   "execution_count": null,
   "id": "306e0129",
   "metadata": {},
   "outputs": [],
   "source": [
    "%%schedule_notebook -cron 0/2 * 1/1 * ?  -id ttt\n",
    "{\n",
    "    \"compute\": {\n",
    "        \"node_type\": \"ec2\",\n",
    "        \"container\": \n",
    "            {\n",
    "            \"p_concurrent\" :1\n",
    "            },\n",
    "        \"podsetting\":\"orbit-runner-support-small\"\n",
    "    },\n",
    "      \"tasks\":  [\n",
    "            {\n",
    "                  \"notebookName\": \"Example-1-SQL-Analysis-Athena.ipynb\",\n",
    "                  \"sourcePath\": \"shared/samples/notebooks/B-DataAnalyst\",\n",
    "                  \"targetPath\": \"shared/regression/notebooks/B-DataAnalyst\",\n",
    "                  \"targetPrefix\": \"ttt\",\n",
    "                  \"params\": {\n",
    "                        \"glue_db\" : \"cms_raw_db\",\n",
    "                        \"target_db\" : \"users\"\n",
    "                  }      \n",
    "            }\n",
    "      ]  \n",
    "}\n"
   ]
  },
  {
   "cell_type": "code",
   "execution_count": null,
   "id": "dc41ffe4",
   "metadata": {},
   "outputs": [],
   "source": [
    "cronjob_name=_['Identifier']\n",
    "cronjob_name"
   ]
  },
  {
   "cell_type": "markdown",
   "id": "8ff16ed9",
   "metadata": {},
   "source": [
    "### Different ways of accessing Kubernetes Job status"
   ]
  },
  {
   "cell_type": "code",
   "execution_count": null,
   "id": "23f73ead",
   "metadata": {},
   "outputs": [],
   "source": [
    "jobs = controller.list_my_running_jobs()\n",
    "assert(len(jobs) > 0)\n",
    "jobs"
   ]
  },
  {
   "cell_type": "code",
   "execution_count": null,
   "id": "786582d7",
   "metadata": {},
   "outputs": [],
   "source": [
    "jobs = controller.list_team_running_jobs()\n",
    "print(jobs)\n",
    "# assert(len(jobs) == 0)"
   ]
  },
  {
   "cell_type": "code",
   "execution_count": null,
   "id": "79daca00",
   "metadata": {},
   "outputs": [],
   "source": [
    "cronjobs = controller.list_running_cronjobs()\n",
    "assert(len(cronjobs) > 0)\n",
    "cronjobs"
   ]
  },
  {
   "cell_type": "code",
   "execution_count": null,
   "id": "c659bf02",
   "metadata": {},
   "outputs": [],
   "source": [
    "!kubectl get cronjob "
   ]
  },
  {
   "cell_type": "markdown",
   "id": "530ede46",
   "metadata": {},
   "source": [
    "### Deleting a [scheduled] Job"
   ]
  },
  {
   "cell_type": "code",
   "execution_count": null,
   "id": "fd393807",
   "metadata": {},
   "outputs": [],
   "source": [
    "controller.delete_cronjob(job_name=cronjob_name)"
   ]
  },
  {
   "cell_type": "code",
   "execution_count": null,
   "id": "149d0ad9",
   "metadata": {},
   "outputs": [],
   "source": [
    "!kubectl get cronjob "
   ]
  },
  {
   "cell_type": "code",
   "execution_count": null,
   "id": "202d9a3b",
   "metadata": {},
   "outputs": [],
   "source": [
    "!kubectl describe job $job_name"
   ]
  },
  {
   "cell_type": "code",
   "execution_count": null,
   "id": "d3d4ad90",
   "metadata": {},
   "outputs": [],
   "source": [
    "pods = controller.list_current_pods(f'job-name={job_name}')\n",
    "assert(len(pods)==1)\n",
    "pod_id = pods[0]['metadata']['name']\n",
    "print(pod_id)\n",
    "pods"
   ]
  },
  {
   "cell_type": "code",
   "execution_count": null,
   "id": "0bcf2b3f",
   "metadata": {},
   "outputs": [],
   "source": [
    "!kubectl wait --for=condition=Ready --timeout=120s pod/$pod_id"
   ]
  },
  {
   "cell_type": "code",
   "execution_count": null,
   "id": "c50912b2",
   "metadata": {},
   "outputs": [],
   "source": [
    "try:\n",
    "    controller.delete_job(job_name)\n",
    "except Exception as e:\n",
    "    print(f'Job {job_name} deleted by ttl setting')"
   ]
  },
  {
   "cell_type": "code",
   "execution_count": null,
   "id": "fef877cb",
   "metadata": {},
   "outputs": [],
   "source": [
    "!kubectl wait --for=delete --timeout=120s pod/$pod_id"
   ]
  },
  {
   "cell_type": "code",
   "execution_count": null,
   "id": "0919ed26",
   "metadata": {},
   "outputs": [],
   "source": [
    "pod_id,job_name"
   ]
  },
  {
   "cell_type": "code",
   "execution_count": null,
   "id": "2b4d41f9",
   "metadata": {},
   "outputs": [],
   "source": [
    "pods = controller.list_current_pods(f'job-name={job_name}')\n",
    "pods"
   ]
  },
  {
   "cell_type": "code",
   "execution_count": null,
   "id": "e4a26cfe",
   "metadata": {},
   "outputs": [],
   "source": [
    "assert(len(pods)==0)"
   ]
  },
  {
   "cell_type": "markdown",
   "id": "058de76b",
   "metadata": {},
   "source": [
    "### Running notebooks using Jupyter magic"
   ]
  },
  {
   "cell_type": "code",
   "execution_count": null,
   "id": "a6b96539",
   "metadata": {
    "pycharm": {
     "name": "#%%\n"
    }
   },
   "outputs": [],
   "source": [
    "%%run_notebook\n",
    "{\n",
    "    \"compute\": {\n",
    "        \"node_type\": \"ec2\",\n",
    "        \"container\": \n",
    "            {\n",
    "            \"p_concurrent\" :1\n",
    "            },\n",
    "        \"podsetting\":\"orbit-runner-support-small\"\n",
    "    },\n",
    "      \"tasks\":  [\n",
    "            {\n",
    "                  \"notebookName\": \"Example-1-SQL-Analysis-Athena.ipynb\",\n",
    "                  \"sourcePath\": \"shared/samples/notebooks/B-DataAnalyst\",\n",
    "                  \"targetPath\": \"shared/regression/notebooks/B-DataAnalyst\",\n",
    "                  \"targetPrefix\": \"ttt\",\n",
    "                  \"params\": {\n",
    "                        \"glue_db\" : \"cms_raw_db\",\n",
    "                        \"target_db\" : \"users\"\n",
    "                  }      \n",
    "            }\n",
    "      ]  \n",
    "}\n"
   ]
  },
  {
   "cell_type": "code",
   "execution_count": null,
   "id": "4a0333d1",
   "metadata": {},
   "outputs": [],
   "source": []
  },
  {
   "cell_type": "code",
   "execution_count": null,
   "id": "2e1dd57c",
   "metadata": {},
   "outputs": [],
   "source": []
  }
 ],
 "metadata": {
  "kernelspec": {
   "display_name": "Python 3",
   "language": "python",
   "name": "python3"
  },
  "language_info": {
   "codemirror_mode": {
    "name": "ipython",
    "version": 3
   },
   "file_extension": ".py",
   "mimetype": "text/x-python",
   "name": "python",
   "nbconvert_exporter": "python",
   "pygments_lexer": "ipython3",
   "version": "3.8.8"
  }
 },
 "nbformat": 4,
 "nbformat_minor": 5
}