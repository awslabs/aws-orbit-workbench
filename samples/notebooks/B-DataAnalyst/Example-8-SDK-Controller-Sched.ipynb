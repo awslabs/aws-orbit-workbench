{
 "cells": [
  {
   "cell_type": "markdown",
   "id": "junior-feedback",
   "metadata": {},
   "source": [
    "# Testing Orbit Controller SDK\n",
    "    \n",
    "\n",
    "### Author: AWS Professional Services Emerging Technology and Intelligent Platforms Group\n",
    "### Date: Mar 10 2021"
   ]
  },
  {
   "cell_type": "code",
   "execution_count": null,
   "id": "coral-mathematics",
   "metadata": {},
   "outputs": [],
   "source": [
    "import os\n",
    "import sys\n",
    "import boto3\n",
    "from aws_orbit_sdk import controller\n",
    "from aws_orbit_sdk.common import get_workspace,get_scratch_database\n",
    "from aws_orbit_sdk.magics.orbit import OrbitWorkbenchMagics \n",
    "\n",
    "import json\n",
    "import time\n",
    "\n",
    "env_name = %env AWS_ORBIT_ENV\n",
    "team_name = %env AWS_ORBIT_TEAM_SPACE\n",
    "(env_name,team_name)"
   ]
  },
  {
   "cell_type": "code",
   "execution_count": null,
   "id": "alien-headline",
   "metadata": {},
   "outputs": [],
   "source": [
    "%%run_notebook\n",
    "{    \n",
    "      \"tasks\":  [\n",
    "            {\n",
    "                  \"notebookName\": \"Example-1-SQL-Analysis-Athena.ipynb\",\n",
    "                  \"sourcePath\": \"shared/samples/notebooks/B-DataAnalyst\",\n",
    "                  \"targetPath\": \"shared/regression/notebooks/B-DataAnalyst\",\n",
    "                  \"targetPrefix\": \"ttt\",\n",
    "                  \"params\": {\n",
    "                        \"glue_db\" : \"cms_raw_db\",\n",
    "                        \"target_db\" : \"users\"\n",
    "                  }      \n",
    "            }\n",
    "      ]  \n",
    "}"
   ]
  },
  {
   "cell_type": "code",
   "execution_count": null,
   "id": "individual-demand",
   "metadata": {},
   "outputs": [],
   "source": [
    "job_name=_['Identifier']\n",
    "job_name"
   ]
  },
  {
   "cell_type": "code",
   "execution_count": null,
   "id": "accomplished-public",
   "metadata": {},
   "outputs": [],
   "source": [
    "%%schedule_notebook -cron 0/2 * 1/1 * ?  -id ttt\n",
    "{    \n",
    "      \"tasks\":  [\n",
    "            {\n",
    "                  \"notebookName\": \"Example-1-SQL-Analysis-Athena.ipynb\",\n",
    "                  \"sourcePath\": \"shared/samples/notebooks/B-DataAnalyst\",\n",
    "                  \"targetPath\": \"shared/regression/notebooks/B-DataAnalyst\",\n",
    "                  \"targetPrefix\": \"ttt\",\n",
    "                  \"params\": {\n",
    "                        \"glue_db\" : \"cms_raw_db\",\n",
    "                        \"target_db\" : \"users\"\n",
    "                  }      \n",
    "            }\n",
    "      ]  \n",
    "}\n"
   ]
  },
  {
   "cell_type": "code",
   "execution_count": null,
   "id": "fossil-timeline",
   "metadata": {},
   "outputs": [],
   "source": [
    "cronjob_name=_['Identifier']\n",
    "cronjob_name"
   ]
  },
  {
   "cell_type": "code",
   "execution_count": null,
   "id": "known-regular",
   "metadata": {},
   "outputs": [],
   "source": [
    "jobs = controller.list_my_running_jobs()\n",
    "assert(len(jobs) > 0)\n",
    "jobs"
   ]
  },
  {
   "cell_type": "code",
   "execution_count": null,
   "id": "agricultural-carter",
   "metadata": {},
   "outputs": [],
   "source": [
    "jobs = controller.list_team_running_jobs()\n",
    "print(jobs)\n",
    "# assert(len(jobs) == 0)"
   ]
  },
  {
   "cell_type": "code",
   "execution_count": null,
   "id": "subjective-decimal",
   "metadata": {},
   "outputs": [],
   "source": [
    "cronjobs = controller.list_running_cronjobs()\n",
    "assert(len(cronjobs) > 0)\n",
    "cronjobs"
   ]
  },
  {
   "cell_type": "code",
   "execution_count": null,
   "id": "advisory-marathon",
   "metadata": {},
   "outputs": [],
   "source": [
    "!kubectl get cronjob "
   ]
  },
  {
   "cell_type": "code",
   "execution_count": null,
   "id": "blocked-soundtrack",
   "metadata": {},
   "outputs": [],
   "source": [
    "controller.delete_cronjob(job_name=cronjob_name)"
   ]
  },
  {
   "cell_type": "code",
   "execution_count": null,
   "id": "practical-observation",
   "metadata": {},
   "outputs": [],
   "source": [
    "!kubectl get cronjob "
   ]
  },
  {
   "cell_type": "code",
   "execution_count": null,
   "id": "lined-cosmetic",
   "metadata": {},
   "outputs": [],
   "source": [
    "!kubectl describe job $job_name"
   ]
  },
  {
   "cell_type": "code",
   "execution_count": null,
   "id": "contrary-track",
   "metadata": {},
   "outputs": [],
   "source": [
    "job_name"
   ]
  },
  {
   "cell_type": "code",
   "execution_count": null,
   "id": "prompt-nebraska",
   "metadata": {},
   "outputs": [],
   "source": [
    "pods = controller.list_current_pods(f'job-name={job_name}')\n",
    "assert(len(pods)==1)\n",
    "pod_id = pods[0]['metadata']['name']\n",
    "print(pod_id)\n",
    "pods"
   ]
  },
  {
   "cell_type": "code",
   "execution_count": null,
   "id": "artificial-fifth",
   "metadata": {},
   "outputs": [],
   "source": [
    "!kubectl wait --for=condition=Ready --timeout=120s pod/$pod_id"
   ]
  },
  {
   "cell_type": "code",
   "execution_count": null,
   "id": "selective-asbestos",
   "metadata": {},
   "outputs": [],
   "source": [
    "controller.delete_job(job_name)"
   ]
  },
  {
   "cell_type": "code",
   "execution_count": null,
   "id": "broke-palace",
   "metadata": {},
   "outputs": [],
   "source": [
    "!kubectl wait --for=delete --timeout=120s pod/$pod_id"
   ]
  },
  {
   "cell_type": "code",
   "execution_count": null,
   "id": "driving-prince",
   "metadata": {},
   "outputs": [],
   "source": [
    "pod_id,job_name"
   ]
  },
  {
   "cell_type": "code",
   "execution_count": null,
   "id": "macro-cinema",
   "metadata": {},
   "outputs": [],
   "source": [
    "pods = controller.list_current_pods(f'job-name={job_name}')\n",
    "pods"
   ]
  },
  {
   "cell_type": "code",
   "execution_count": null,
   "id": "adverse-cookbook",
   "metadata": {},
   "outputs": [],
   "source": [
    "assert(len(pods)==0)"
   ]
  },
  {
   "cell_type": "code",
   "execution_count": null,
   "id": "sophisticated-uncle",
   "metadata": {},
   "outputs": [],
   "source": [
    "%%run_notebook\n",
    "{    \n",
    "      \"tasks\":  [\n",
    "            {\n",
    "                  \"notebookName\": \"Example-1-SQL-Analysis-Athena.ipynb\",\n",
    "                  \"sourcePath\": \"shared/samples/notebooks/B-DataAnalyst\",\n",
    "                  \"targetPath\": \"shared/regression/notebooks/B-DataAnalyst\",\n",
    "                  \"targetPrefix\": \"ttt\",\n",
    "                  \"params\": {\n",
    "                        \"glue_db\" : \"cms_raw_db\",\n",
    "                        \"target_db\" : \"users\"\n",
    "                  }      \n",
    "            }\n",
    "      ]  \n",
    "}"
   ]
  },
  {
   "cell_type": "code",
   "execution_count": null,
   "id": "patient-difference",
   "metadata": {},
   "outputs": [],
   "source": [
    "!kubectl get jobs"
   ]
  },
  {
   "cell_type": "code",
   "execution_count": null,
   "id": "painted-twenty",
   "metadata": {},
   "outputs": [],
   "source": [
    "controller.delete_all_my_jobs()"
   ]
  },
  {
   "cell_type": "code",
   "execution_count": null,
   "id": "swedish-dispute",
   "metadata": {},
   "outputs": [],
   "source": [
    "output = !kubectl get jobs\n",
    "print(output)\n",
    "assert('No resources found in lake-user namespace.' == output[0])"
   ]
  },
  {
   "cell_type": "code",
   "execution_count": null,
   "id": "concerned-entrance",
   "metadata": {},
   "outputs": [],
   "source": []
  }
 ],
 "metadata": {
  "kernelspec": {
   "display_name": "Python 3",
   "language": "python",
   "name": "python3"
  },
  "language_info": {
   "codemirror_mode": {
    "name": "ipython",
    "version": 3
   },
   "file_extension": ".py",
   "mimetype": "text/x-python",
   "name": "python",
   "nbconvert_exporter": "python",
   "pygments_lexer": "ipython3",
   "version": "3.8.6"
  }
 },
 "nbformat": 4,
 "nbformat_minor": 5
}