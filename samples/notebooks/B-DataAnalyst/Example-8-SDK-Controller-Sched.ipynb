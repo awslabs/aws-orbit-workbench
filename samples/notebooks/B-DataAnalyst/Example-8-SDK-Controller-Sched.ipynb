{
 "cells": [
  {
   "cell_type": "markdown",
   "id": "italic-evidence",
   "metadata": {},
   "source": [
    "# Example 8:  Running Notebooks with Orbit SDK\n",
    "\n",
    "### Author: AWS Professional Services \n",
    "### Date: January 30 2019\n",
    "\n",
    "In this example, we will demonstrate how users can simply schedule notebooks to run"
   ]
  },
  {
   "cell_type": "code",
   "execution_count": null,
   "id": "assisted-salmon",
   "metadata": {},
   "outputs": [],
   "source": [
    "import os\n",
    "import sys\n",
    "import boto3\n",
    "from aws_orbit_sdk import controller\n",
    "from aws_orbit_sdk.common import get_workspace,get_scratch_database\n",
    "from aws_orbit_sdk.magics.orbit import OrbitWorkbenchMagics \n",
    "\n",
    "import json\n",
    "import time\n",
    "\n",
    "env_name = %env AWS_ORBIT_ENV\n",
    "team_name = %env AWS_ORBIT_TEAM_SPACE\n",
    "(env_name,team_name)"
   ]
  },
  {
   "cell_type": "code",
   "execution_count": null,
   "id": "noble-subscriber",
   "metadata": {},
   "outputs": [],
   "source": [
    "!orbit list profile --env $env_name -t $team_name"
   ]
  },
  {
   "cell_type": "markdown",
   "id": "black-fountain",
   "metadata": {},
   "source": [
    "### Running a notebook on a remote container"
   ]
  },
  {
   "cell_type": "code",
   "execution_count": null,
   "id": "digital-pricing",
   "metadata": {},
   "outputs": [],
   "source": [
    "notebooksToRun = {\n",
    "      \"compute\": {\n",
    "          \"container\" : {\n",
    "              \"p_concurrent\": \"1\" # how many threads will run on the container to execucte tasks\n",
    "          },\n",
    "          \"node_type\": \"ec2\", # fargate is an option if it is enabled by your orbit team deployment \n",
    "          \"profile\": \"nano\" # You can define the profile to be used for the container.  \n",
    "                            # The profile define your compute requirements as well as the image the container use. \n",
    "                            # See more examples in I-Image folder\n",
    "      },\n",
    "      \"tasks\":  [\n",
    "            {\n",
    "                  \"notebookName\": \"Example-1-SQL-Analysis-Athena.ipynb\",  # The notebook name to run\n",
    "                  \"sourcePath\": \"shared/samples/notebooks/B-DataAnalyst\", # The EFS folder in shared where the notebook resides\n",
    "                  \"targetPath\": \"shared/regression/notebooks/B-DataAnalyst\", # The EFS target location where the folder should be written\n",
    "                  \"targetPrefix\": \"ttt\", # Any prefix to append to the name of the output nodebook \n",
    "                  \"params\": {  # Parameters map to replace the variables' values define in the cell tag with 'parameters'\n",
    "                        \"glue_db\" : \"cms_raw_db\",\n",
    "                        \"target_db\" : \"users\"\n",
    "                  }      \n",
    "            }\n",
    "      ]  \n",
    "}\n"
   ]
  },
  {
   "cell_type": "code",
   "execution_count": null,
   "id": "fabulous-distinction",
   "metadata": {},
   "outputs": [],
   "source": [
    "containers = controller.run_notebooks(notebooksToRun) # Starts a single container to execute give task"
   ]
  },
  {
   "cell_type": "code",
   "execution_count": null,
   "id": "selective-cornell",
   "metadata": {},
   "outputs": [],
   "source": [
    "containers"
   ]
  },
  {
   "cell_type": "code",
   "execution_count": null,
   "id": "promising-franchise",
   "metadata": {},
   "outputs": [],
   "source": [
    "job_name=containers['Identifier']\n",
    "print(f\"This would be the id of the K8 Job\")\n",
    "job_name"
   ]
  },
  {
   "cell_type": "code",
   "execution_count": null,
   "id": "fancy-macro",
   "metadata": {},
   "outputs": [],
   "source": [
    "# Lets wait until job ends and tail the log of the container\n",
    "controller.wait_for_tasks_to_complete([containers], 60,60, True)"
   ]
  },
  {
   "cell_type": "markdown",
   "id": "waiting-distinction",
   "metadata": {},
   "source": [
    "### Scheduling a notebook to run with a cron schedule"
   ]
  },
  {
   "cell_type": "code",
   "execution_count": null,
   "id": "bound-attraction",
   "metadata": {},
   "outputs": [],
   "source": [
    "%%schedule_notebook -cron 0/2 * 1/1 * ?  -id ttt\n",
    "{    \n",
    "      \"tasks\":  [\n",
    "            {\n",
    "                  \"notebookName\": \"Example-1-SQL-Analysis-Athena.ipynb\",\n",
    "                  \"sourcePath\": \"shared/samples/notebooks/B-DataAnalyst\",\n",
    "                  \"targetPath\": \"shared/regression/notebooks/B-DataAnalyst\",\n",
    "                  \"targetPrefix\": \"ttt\",\n",
    "                  \"params\": {\n",
    "                        \"glue_db\" : \"cms_raw_db\",\n",
    "                        \"target_db\" : \"users\"\n",
    "                  }      \n",
    "            }\n",
    "      ]  \n",
    "}\n"
   ]
  },
  {
   "cell_type": "code",
   "execution_count": null,
   "id": "fleet-brisbane",
   "metadata": {},
   "outputs": [],
   "source": [
    "cronjob_name=_['Identifier']\n",
    "cronjob_name"
   ]
  },
  {
   "cell_type": "markdown",
   "id": "dimensional-wallet",
   "metadata": {},
   "source": [
    "### Different ways of accessing Kubernetes Job status"
   ]
  },
  {
   "cell_type": "code",
   "execution_count": null,
   "id": "brown-sequence",
   "metadata": {},
   "outputs": [],
   "source": [
    "jobs = controller.list_my_running_jobs()\n",
    "assert(len(jobs) > 0)\n",
    "jobs"
   ]
  },
  {
   "cell_type": "code",
   "execution_count": null,
   "id": "right-hurricane",
   "metadata": {},
   "outputs": [],
   "source": [
    "jobs = controller.list_team_running_jobs()\n",
    "print(jobs)\n",
    "# assert(len(jobs) == 0)"
   ]
  },
  {
   "cell_type": "code",
   "execution_count": null,
   "id": "experimental-integration",
   "metadata": {},
   "outputs": [],
   "source": [
    "cronjobs = controller.list_running_cronjobs()\n",
    "assert(len(cronjobs) > 0)\n",
    "cronjobs"
   ]
  },
  {
   "cell_type": "code",
   "execution_count": null,
   "id": "objective-official",
   "metadata": {},
   "outputs": [],
   "source": [
    "!kubectl get cronjob "
   ]
  },
  {
   "cell_type": "markdown",
   "id": "sealed-conservative",
   "metadata": {},
   "source": [
    "### Deleting a [scheduled] Job"
   ]
  },
  {
   "cell_type": "code",
   "execution_count": null,
   "id": "former-shopping",
   "metadata": {},
   "outputs": [],
   "source": [
    "controller.delete_cronjob(job_name=cronjob_name)"
   ]
  },
  {
   "cell_type": "code",
   "execution_count": null,
   "id": "ceramic-protest",
   "metadata": {},
   "outputs": [],
   "source": [
    "!kubectl get cronjob "
   ]
  },
  {
   "cell_type": "code",
   "execution_count": null,
   "id": "extensive-smile",
   "metadata": {},
   "outputs": [],
   "source": [
    "!kubectl describe job $job_name"
   ]
  },
  {
   "cell_type": "code",
   "execution_count": null,
   "id": "undefined-innocent",
   "metadata": {},
   "outputs": [],
   "source": [
    "pods = controller.list_current_pods(f'job-name={job_name}')\n",
    "assert(len(pods)==1)\n",
    "pod_id = pods[0]['metadata']['name']\n",
    "print(pod_id)\n",
    "pods"
   ]
  },
  {
   "cell_type": "code",
   "execution_count": null,
   "id": "human-narrow",
   "metadata": {},
   "outputs": [],
   "source": [
    "!kubectl wait --for=condition=Ready --timeout=120s pod/$pod_id"
   ]
  },
  {
   "cell_type": "code",
   "execution_count": null,
   "id": "infinite-borough",
   "metadata": {},
   "outputs": [],
   "source": [
    "controller.delete_job(job_name)"
   ]
  },
  {
   "cell_type": "code",
   "execution_count": null,
   "id": "ethical-teacher",
   "metadata": {},
   "outputs": [],
   "source": [
    "!kubectl wait --for=delete --timeout=120s pod/$pod_id"
   ]
  },
  {
   "cell_type": "code",
   "execution_count": null,
   "id": "refined-means",
   "metadata": {},
   "outputs": [],
   "source": [
    "pod_id,job_name"
   ]
  },
  {
   "cell_type": "code",
   "execution_count": null,
   "id": "intimate-relief",
   "metadata": {},
   "outputs": [],
   "source": [
    "pods = controller.list_current_pods(f'job-name={job_name}')\n",
    "pods"
   ]
  },
  {
   "cell_type": "code",
   "execution_count": null,
   "id": "earned-positive",
   "metadata": {},
   "outputs": [],
   "source": [
    "assert(len(pods)==0)"
   ]
  },
  {
   "cell_type": "markdown",
   "id": "reasonable-training",
   "metadata": {},
   "source": [
    "### Running notebooks using Jupyter magic"
   ]
  },
  {
   "cell_type": "code",
   "execution_count": null,
   "id": "delayed-playing",
   "metadata": {
    "pycharm": {
     "name": "#%%\n"
    }
   },
   "outputs": [],
   "source": [
    "%%run_notebook\n",
    "{    \n",
    "      \"tasks\":  [\n",
    "            {\n",
    "                  \"notebookName\": \"Example-1-SQL-Analysis-Athena.ipynb\",\n",
    "                  \"sourcePath\": \"shared/samples/notebooks/B-DataAnalyst\",\n",
    "                  \"targetPath\": \"shared/regression/notebooks/B-DataAnalyst\",\n",
    "                  \"targetPrefix\": \"ttt\",\n",
    "                  \"params\": {\n",
    "                        \"glue_db\" : \"cms_raw_db\",\n",
    "                        \"target_db\" : \"users\"\n",
    "                  }      \n",
    "            }\n",
    "      ]  \n",
    "}\n"
   ]
  },
  {
   "cell_type": "code",
   "execution_count": null,
   "id": "french-breeding",
   "metadata": {},
   "outputs": [],
   "source": []
  },
  {
   "cell_type": "code",
   "execution_count": null,
   "id": "violent-addition",
   "metadata": {},
   "outputs": [],
   "source": []
  }
 ],
 "metadata": {
  "kernelspec": {
   "display_name": "Python 3",
   "language": "python",
   "name": "python3"
  },
  "language_info": {
   "codemirror_mode": {
    "name": "ipython",
    "version": 3
   },
   "file_extension": ".py",
   "mimetype": "text/x-python",
   "name": "python",
   "nbconvert_exporter": "python",
   "pygments_lexer": "ipython3",
   "version": "3.8.5"
  }
 },
 "nbformat": 4,
 "nbformat_minor": 5
}
