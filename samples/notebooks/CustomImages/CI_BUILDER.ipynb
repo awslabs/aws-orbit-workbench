{
 "cells": [
  {
   "cell_type": "code",
   "execution_count": null,
   "id": "owned-watson",
   "metadata": {},
   "outputs": [],
   "source": [
    "Sample notebook to build custom images from the lake user teamspace."
   ]
  },
  {
   "cell_type": "code",
   "execution_count": null,
   "id": "toxic-equity",
   "metadata": {},
   "outputs": [],
   "source": []
  },
  {
   "cell_type": "code",
   "execution_count": null,
   "id": "bronze-tradition",
   "metadata": {},
   "outputs": [],
   "source": []
  },
  {
   "cell_type": "code",
   "execution_count": 1,
   "id": "chemical-wedding",
   "metadata": {},
   "outputs": [
    {
     "name": "stdout",
     "output_type": "stream",
     "text": [
      "Usage: orbit [OPTIONS] COMMAND [ARGS]...\n",
      "\n",
      "  Orbit Workbench CLI - Data & ML Unified Development and Production\n",
      "  Environment\n",
      "\n",
      "Options:\n",
      "  --help  Show this message and exit.\n",
      "\n",
      "Commands:\n",
      "  build    Build images,profiles,etc in your Orbit Workbench.\n",
      "  delete   Delete images,profiles,etc in your Orbit Workbench.\n",
      "  deploy   Deploy foundation,env,teams in your Orbit Workbench.\n",
      "  destroy  Destroy foundation,env,etc in your Orbit Workbench.\n",
      "  init     Creates a Orbit Workbench manifest model file (yaml) where all...\n",
      "  list     List images,profiles,etc in your Orbit Workbench.\n",
      "  run      Execute containers in the Orbit environment\n"
     ]
    }
   ],
   "source": [
    "!orbit --help"
   ]
  },
  {
   "cell_type": "code",
   "execution_count": 3,
   "id": "western-neighborhood",
   "metadata": {},
   "outputs": [
    {
     "name": "stdout",
     "output_type": "stream",
     "text": [
      "[2021-02-16 19:02:49,566][__main__.py  :303] env: dev-env\n",
      "[2021-02-16 19:02:49,593][__main__.py  :304] dir: custom_image/\n",
      "[2021-02-16 19:02:49,594][__main__.py  :305] name: custom_image2\n",
      "[2021-02-16 19:02:49,594][__main__.py  :306] script: custom_image/build.sh\n",
      "[2021-02-16 19:02:49,594][__main__.py  :307] teams: ()\n",
      "[2021-02-16 19:02:49,594][__main__.py  :308] region: None\n",
      "[2021-02-16 19:02:49,594][__main__.py  :309] debug: True\n",
      "[2021-02-16 19:02:49,594][messages.py  :133] Progress bar: 1%\n",
      "[\u001B[91m\u001B[22m\u001B[24m Error \u001B[0m] ClientError: An error occurred (AccessDeniedException) when calling the DescribeParameters operation: User: arn:aws:sts::198245574422:assumed-role/orbit-dev-env-lake-creator-role/botocore-session-1613502169 is not authorized to perform: ssm:DescribeParameters on resource: arn:aws:ssm:us-west-2:198245574422:*\n",
      "\n",
      "\u001B[91m\u001B[22m\u001B[24mError Traceback\u001B[0m:\n",
      "Traceback (most recent call last):\n",
      "  File \"/opt/conda/bin/orbit\", line 8, in <module>\n",
      "    sys.exit(main())\n",
      "  File \"/opt/conda/lib/python3.8/site-packages/aws_orbit/__main__.py\", line 629, in main\n",
      "    cli()\n",
      "  File \"/opt/conda/lib/python3.8/site-packages/click/core.py\", line 829, in __call__\n",
      "    return self.main(*args, **kwargs)\n",
      "  File \"/opt/conda/lib/python3.8/site-packages/click/core.py\", line 782, in main\n",
      "    rv = self.invoke(ctx)\n",
      "  File \"/opt/conda/lib/python3.8/site-packages/click/core.py\", line 1259, in invoke\n",
      "    return _process_result(sub_ctx.command.invoke(sub_ctx))\n",
      "  File \"/opt/conda/lib/python3.8/site-packages/click/core.py\", line 1259, in invoke\n",
      "    return _process_result(sub_ctx.command.invoke(sub_ctx))\n",
      "  File \"/opt/conda/lib/python3.8/site-packages/click/core.py\", line 1066, in invoke\n",
      "    return ctx.invoke(self.callback, **ctx.params)\n",
      "  File \"/opt/conda/lib/python3.8/site-packages/click/core.py\", line 610, in invoke\n",
      "    return callback(*args, **kwargs)\n",
      "  File \"/opt/conda/lib/python3.8/site-packages/aws_orbit/__main__.py\", line 310, in deploy_image_cli\n",
      "    build_image(dir=dir, name=name, env=env, script=script, teams=team, region=region, debug=debug)\n",
      "  File \"/opt/conda/lib/python3.8/site-packages/aws_orbit/commands/image.py\", line 135, in build_image\n",
      "    ssm.cleanup_changeset(env_name=env)\n",
      "  File \"/opt/conda/lib/python3.8/site-packages/aws_orbit/services/ssm.py\", line 106, in cleanup_changeset\n",
      "    cleanup_by_suffix(env_name=env_name, suffix=\"/changeset\")\n",
      "  File \"/opt/conda/lib/python3.8/site-packages/aws_orbit/services/ssm.py\", line 93, in cleanup_by_suffix\n",
      "    pars: List[str] = [p for p in list_parameters(prefix=f\"/orbit/{env_name}/\") if p.endswith(suffix)]\n",
      "  File \"/opt/conda/lib/python3.8/site-packages/aws_orbit/services/ssm.py\", line 75, in list_parameters\n",
      "    for page in response_iterator:\n",
      "  File \"/opt/conda/lib/python3.8/site-packages/botocore/paginate.py\", line 255, in __iter__\n",
      "    response = self._make_request(current_kwargs)\n",
      "  File \"/opt/conda/lib/python3.8/site-packages/botocore/paginate.py\", line 332, in _make_request\n",
      "    return self._method(**current_kwargs)\n",
      "  File \"/opt/conda/lib/python3.8/site-packages/botocore/client.py\", line 357, in _api_call\n",
      "    return self._make_api_call(operation_name, kwargs)\n",
      "  File \"/opt/conda/lib/python3.8/site-packages/botocore/client.py\", line 676, in _make_api_call\n",
      "    raise error_class(parsed_response, operation_name)\n",
      "botocore.exceptions.ClientError: An error occurred (AccessDeniedException) when calling the DescribeParameters operation: User: arn:aws:sts::198245574422:assumed-role/orbit-dev-env-lake-creator-role/botocore-session-1613502169 is not authorized to perform: ssm:DescribeParameters on resource: arn:aws:ssm:us-west-2:198245574422:*\n"
     ]
    }
   ],
   "source": [
    "!orbit build image --debug -e dev-env -t lake-user -d /efs/shared/CI/CID/ -n custom_image2 -s build.sh -r us-west-2"
   ]
  },
  {
   "cell_type": "code",
   "execution_count": null,
   "id": "passing-eagle",
   "metadata": {},
   "outputs": [],
   "source": []
  }
 ],
 "metadata": {
  "kernelspec": {
   "display_name": "Python 3",
   "language": "python",
   "name": "python3"
  },
  "language_info": {
   "codemirror_mode": {
    "name": "ipython",
    "version": 3
   },
   "file_extension": ".py",
   "mimetype": "text/x-python",
   "name": "python",
   "nbconvert_exporter": "python",
   "pygments_lexer": "ipython3",
   "version": "3.8.6"
  }
 },
 "nbformat": 4,
 "nbformat_minor": 5
}