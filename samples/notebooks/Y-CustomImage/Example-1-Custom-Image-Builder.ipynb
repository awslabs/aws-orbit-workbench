{
 "cells": [
  {
   "cell_type": "markdown",
   "id": "progressive-airfare",
   "metadata": {},
   "source": [
    "# Sample notebook to build custom images from the lake user teamspace."
   ]
  },
  {
   "cell_type": "code",
   "execution_count": 2,
   "id": "graduate-chapel",
   "metadata": {},
   "outputs": [
    {
     "name": "stdout",
     "output_type": "stream",
     "text": [
      "Usage: orbit [OPTIONS] COMMAND [ARGS]...\n",
      "\n",
      "  Orbit Workbench CLI - Data & ML Unified Development and Production\n",
      "  Environment\n",
      "\n",
      "Options:\n",
      "  --help  Show this message and exit.\n",
      "\n",
      "Commands:\n",
      "  build    Build images,profiles,etc in your Orbit Workbench.\n",
      "  delete   Delete images,profiles,etc in your Orbit Workbench.\n",
      "  deploy   Deploy foundation,env,teams in your Orbit Workbench.\n",
      "  destroy  Destroy foundation,env,etc in your Orbit Workbench.\n",
      "  init     Creates a Orbit Workbench manifest model file (yaml) where all...\n",
      "  list     List images,profiles,etc in your Orbit Workbench.\n",
      "  run      Execute containers in the Orbit environment\n"
     ]
    }
   ],
   "source": [
    "!orbit --help"
   ]
  },
  {
   "cell_type": "code",
   "execution_count": 3,
   "id": "plastic-cooper",
   "metadata": {},
   "outputs": [
    {
     "name": "stdout",
     "output_type": "stream",
     "text": [
      "Usage: orbit build image [OPTIONS]\n",
      "\n",
      "  Build and Deploy a new Docker image into ECR.\n",
      "\n",
      "Options:\n",
      "  -e, --env TEXT        Orbit Environment.  [required]\n",
      "  -d, --dir TEXT        Dockerfile directory.  [required]\n",
      "  -n, --name TEXT       Image name.  [required]\n",
      "  -s, --script TEXT     Build script to run before the image build.\n",
      "  -t, --team TEXT       One or more Teams to deploy the image to (can de\n",
      "                        declared multiple times).\n",
      "\n",
      "  -r, --region TEXT     AWS Region name (e.g. us-east-1). If None, it will be\n",
      "                        infered.\n",
      "\n",
      "  --debug / --no-debug  Enable detailed logging.  [default: False]\n",
      "  --help                Show this message and exit.\n"
     ]
    }
   ],
   "source": [
    "!orbit build image --help"
   ]
  },
  {
   "cell_type": "code",
   "execution_count": null,
   "id": "accomplished-waters",
   "metadata": {},
   "outputs": [],
   "source": [
    "!orbit build image --debug -e dev-env -d /efs/shared/custom_image/ -n custom_image1 -s build.sh "
   ]
  },
  {
   "cell_type": "code",
   "execution_count": null,
   "id": "stock-pharmacy",
   "metadata": {},
   "outputs": [],
   "source": []
  }
 ],
 "metadata": {
  "kernelspec": {
   "display_name": "Python 3",
   "language": "python",
   "name": "python3"
  },
  "language_info": {
   "codemirror_mode": {
    "name": "ipython",
    "version": 3
   },
   "file_extension": ".py",
   "mimetype": "text/x-python",
   "name": "python",
   "nbconvert_exporter": "python",
   "pygments_lexer": "ipython3",
   "version": "3.8.6"
  }
 },
 "nbformat": 4,
 "nbformat_minor": 5
}
