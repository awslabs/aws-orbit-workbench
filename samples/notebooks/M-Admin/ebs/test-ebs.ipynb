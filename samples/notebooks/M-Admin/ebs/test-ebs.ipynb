{
 "cells": [
  {
   "cell_type": "code",
   "execution_count": 1,
   "id": "dangerous-violin",
   "metadata": {},
   "outputs": [
    {
     "name": "stdout",
     "output_type": "stream",
     "text": [
      "Filesystem      Size  Used Avail Use% Mounted on\n",
      "/dev/nvme2n1    5.2G   21M  5.2G   1% /ebs\n"
     ]
    }
   ],
   "source": [
    "!df -H /ebs"
   ]
  },
  {
   "cell_type": "code",
   "execution_count": 4,
   "id": "adapted-omega",
   "metadata": {},
   "outputs": [],
   "source": [
    "!echo \"foo\" > /ebs/foo.txt"
   ]
  },
  {
   "cell_type": "code",
   "execution_count": 6,
   "id": "outstanding-debut",
   "metadata": {},
   "outputs": [
    {
     "data": {
      "text/plain": [
       "['ffooo']"
      ]
     },
     "execution_count": 6,
     "metadata": {},
     "output_type": "execute_result"
    }
   ],
   "source": [
    "output = !cat /ebs/foo.txt\n",
    "output"
   ]
  },
  {
   "cell_type": "code",
   "execution_count": 8,
   "id": "according-civilian",
   "metadata": {},
   "outputs": [],
   "source": [
    "assert('foo' in output[0])"
   ]
  },
  {
   "cell_type": "code",
   "execution_count": null,
   "id": "stretch-maker",
   "metadata": {},
   "outputs": [],
   "source": []
  }
 ],
 "metadata": {
  "kernelspec": {
   "display_name": "Python 3",
   "language": "python",
   "name": "python3"
  },
  "language_info": {
   "codemirror_mode": {
    "name": "ipython",
    "version": 3
   },
   "file_extension": ".py",
   "mimetype": "text/x-python",
   "name": "python",
   "nbconvert_exporter": "python",
   "pygments_lexer": "ipython3",
   "version": "3.8.6"
  }
 },
 "nbformat": 4,
 "nbformat_minor": 5
}
