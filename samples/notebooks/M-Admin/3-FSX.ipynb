{
 "cells": [
  {
   "cell_type": "markdown",
   "metadata": {
    "papermill": {
     "duration": 0.079672,
     "end_time": "2020-03-03T13:56:37.575779",
     "exception": false,
     "start_time": "2020-03-03T13:56:37.496107",
     "status": "completed"
    },
    "tags": []
   },
   "source": [
    "<!--\n",
    "#  Copyright Amazon.com, Inc. or its affiliates. All Rights Reserved.\n",
    "#\n",
    "#    Licensed under the Apache License, Version 2.0 (the \"License\").\n",
    "#    You may not use this file except in compliance with the License.\n",
    "#    You may obtain a copy of the License at\n",
    "#\n",
    "#        http://www.apache.org/licenses/LICENSE-2.0\n",
    "#\n",
    "#    Unless required by applicable law or agreed to in writing, software\n",
    "#    distributed under the License is distributed on an \"AS IS\" BASIS,\n",
    "#    WITHOUT WARRANTIES OR CONDITIONS OF ANY KIND, either express or implied.\n",
    "#    See the License for the specific language governing permissions and\n",
    "#    limitations under the License.\n",
    "-->\n",
    "\n",
    "# Creating FSX Volume for Teams to use\n",
    "## Content\n",
    "1. Admin Operations\n",
    "    1. [Parameters](#Parameters)\n",
    "    2. [Cleanup](#Cleanup)\n",
    "    3. [Creating the EBS Volume](#Creating-the-EBS-Volume)\n",
    "    4. [Creating the K8 Volume](#Creating-the-K8-Volume)\n",
    "2. User Operations\n",
    "    1. [Creating the K8 Volume Claim](#Creating-the-K8-Volume-Claim)\n",
    "    2. [Creating the Profile with the required AZ](#Creating-the-Profile-with-the-required-AZ)\n",
    "    3. [Running the container](#Running-the-container)\n",
    "---\n",
    "---\n",
    "\n",
    "\n",
    "\n"
   ]
  },
  {
   "cell_type": "code",
   "execution_count": null,
   "metadata": {},
   "outputs": [],
   "source": [
    "from aws_orbit_sdk import controller\n",
    "from aws_orbit_sdk.magics.orbit import OrbitWorkbenchMagics \n",
    "import json\n",
    "import boto3\n",
    "from aws_orbit_sdk.common import get_workspace"
   ]
  },
  {
   "cell_type": "code",
   "execution_count": null,
   "metadata": {},
   "outputs": [],
   "source": [
    "# we will need the team kms key from workspace\n",
    "workspace = get_workspace()\n",
    "team_kms_key = workspace['TeamKmsKeyArn']\n",
    "image = workspace['BaseImageAddress']"
   ]
  },
  {
   "cell_type": "code",
   "execution_count": null,
   "metadata": {},
   "outputs": [],
   "source": [
    "%cd fsx"
   ]
  },
  {
   "cell_type": "code",
   "execution_count": null,
   "metadata": {},
   "outputs": [],
   "source": [
    "env_name = %env AWS_ORBIT_ENV\n",
    "team_name = %env AWS_ORBIT_TEAM_SPACE\n",
    "(env_name,team_name)"
   ]
  },
  {
   "cell_type": "markdown",
   "metadata": {},
   "source": [
    "## Parameters"
   ]
  },
  {
   "cell_type": "code",
   "execution_count": null,
   "metadata": {},
   "outputs": [],
   "source": [
    "pvc_name = f'lustre-1200g-{team_name}'\n",
    "\n",
    "volume_size = \"1200Gi\""
   ]
  },
  {
   "cell_type": "markdown",
   "metadata": {},
   "source": [
    "## Creating the FSX FileSystem and K8 PVC"
   ]
  },
  {
   "cell_type": "code",
   "execution_count": null,
   "metadata": {},
   "outputs": [],
   "source": [
    "with open(\"pvc.yaml\", \"w\") as file:\n",
    "    file.write(\"\"\"\n",
    "apiVersion: v1\n",
    "kind: PersistentVolumeClaim\n",
    "metadata:\n",
    "  name: {pvc_name}\n",
    "  namespace: {team_name}\n",
    "  labels:\n",
    "    orbit/node-type: ec2\n",
    "    orbit/attach-security-group: \"yes\"    \n",
    "spec:\n",
    "  accessModes:\n",
    "    - ReadWriteMany\n",
    "  storageClassName: fsx-lustre-{team_name}-fast-fs-lustre\n",
    "  resources:\n",
    "    requests:\n",
    "      storage: {volume_size} \n",
    "    \"\"\".format(team_name=team_name,pvc_name=pvc_name,volume_size=volume_size,image=image)\n",
    ")\n",
    "\n",
    "\n"
   ]
  },
  {
   "cell_type": "code",
   "execution_count": null,
   "metadata": {},
   "outputs": [],
   "source": [
    "!cat pvc.yaml"
   ]
  },
  {
   "cell_type": "code",
   "execution_count": null,
   "metadata": {},
   "outputs": [],
   "source": [
    "!kubectl apply -f pvc.yaml"
   ]
  },
  {
   "cell_type": "code",
   "execution_count": null,
   "metadata": {},
   "outputs": [],
   "source": [
    "with open(\"chmodpod.yaml\", \"w\") as file:\n",
    "    file.write(\"\"\"\n",
    "apiVersion: batch/v1\n",
    "kind: Job\n",
    "metadata:\n",
    "  name: chmod-fsx-pod\n",
    "  namespace: {team_name}\n",
    "  labels:\n",
    "    app: test\n",
    "    orbit/node-type: ec2\n",
    "    orbit/attach-security-group: \"yes\"\n",
    "spec:\n",
    "  template:\n",
    "    spec:\n",
    "      nodeSelector:\n",
    "        orbit/usage: teams\n",
    "        orbit/node-type: ec2\n",
    "      containers:\n",
    "      - name: ownership-change\n",
    "        image: {image}\n",
    "        securityContext:\n",
    "            runAsUser: 0\n",
    "        command: [\"sh\", \"-c\", \"sudo chmod 777 /data\"]\n",
    "        volumeMounts:\n",
    "        - name: persistent-storage\n",
    "          mountPath: /data\n",
    "      restartPolicy: Never\n",
    "      volumes:\n",
    "      - name: persistent-storage\n",
    "        persistentVolumeClaim:\n",
    "          claimName: {pvc_name}\n",
    "    \"\"\".format(team_name=team_name,pvc_name=pvc_name,volume_size=volume_size,image=image)\n",
    ")"
   ]
  },
  {
   "cell_type": "code",
   "execution_count": null,
   "metadata": {},
   "outputs": [],
   "source": [
    "!cat chmodpod.yaml"
   ]
  },
  {
   "cell_type": "code",
   "execution_count": null,
   "metadata": {},
   "outputs": [],
   "source": [
    "# Need to wait sometime for FS to get created\n",
    "!sleep 8m"
   ]
  },
  {
   "cell_type": "code",
   "execution_count": null,
   "metadata": {},
   "outputs": [],
   "source": [
    "!kubectl apply -f chmodpod.yaml"
   ]
  },
  {
   "cell_type": "markdown",
   "metadata": {},
   "source": [
    "## User Section"
   ]
  },
  {
   "cell_type": "code",
   "execution_count": null,
   "metadata": {},
   "outputs": [],
   "source": [
    "!orbit list profile --env $env_name --team $team_name"
   ]
  },
  {
   "cell_type": "markdown",
   "metadata": {},
   "source": [
    "## Running the container"
   ]
  },
  {
   "cell_type": "code",
   "execution_count": null,
   "metadata": {},
   "outputs": [],
   "source": [
    "run = {    \n",
    "      \"tasks\":  [\n",
    "            {\n",
    "                  \"notebookName\": \"test-fsx.ipynb\",\n",
    "                  \"sourcePath\": \"shared/samples/notebooks/M-Admin/fsx\",\n",
    "                  \"targetPath\": \"shared/regression/notebooks/M-Admin/fsx\",\n",
    "                  \"params\": {\n",
    "                        \"test\" : \"1\"\n",
    "                  }      \n",
    "            }\n",
    "      ],\n",
    "      \"compute\": {\n",
    "          \"container\" : {\n",
    "              \"p_concurrent\": \"1\"\n",
    "          },\n",
    "          \"node_type\": \"ec2\",\n",
    "          \"profile\": \"nano\",\n",
    "          \"labels\": {\n",
    "            \"my-jobid\": \"1\"\n",
    "          },          \n",
    "          \"volumes\": [{\"name\": \"fsx-volume\", \"persistentVolumeClaim\": {\"claimName\": pvc_name}}],\n",
    "          \"volume_mounts\": [{\"mountPath\": \"/fsx\", \"name\": \"fsx-volume\"}]\n",
    "      }\n",
    "}\n",
    "\n",
    "with open(\"run.json\", 'w') as f:\n",
    "    json.dump(run, f)\n"
   ]
  },
  {
   "cell_type": "code",
   "execution_count": null,
   "metadata": {},
   "outputs": [],
   "source": [
    "!cat run.json"
   ]
  },
  {
   "cell_type": "code",
   "execution_count": null,
   "metadata": {},
   "outputs": [],
   "source": [
    "%%time\n",
    "\n",
    "!orbit run notebook --env $env_name --team $team_name --user testing --wait --tail-logs run.json --delay 60 --max-attempts 15\n"
   ]
  },
  {
   "cell_type": "code",
   "execution_count": null,
   "metadata": {},
   "outputs": [],
   "source": [
    "output = !ls ~/shared/regression/notebooks/M-Admin/fsx/test-fsx\n",
    "print(output)\n",
    "assert('error' not in str(output))\n"
   ]
  },
  {
   "cell_type": "code",
   "execution_count": null,
   "metadata": {},
   "outputs": [],
   "source": [
    "output[0]"
   ]
  },
  {
   "cell_type": "markdown",
   "metadata": {},
   "source": [
    "## Cleanup"
   ]
  },
  {
   "cell_type": "code",
   "execution_count": null,
   "metadata": {},
   "outputs": [],
   "source": [
    "# Using our label to delete the job\n",
    "!kubectl delete job -l my-jobid=1"
   ]
  }
 ],
 "metadata": {
  "celltoolbar": "Tags",
  "kernelspec": {
   "display_name": "Python 3",
   "language": "python",
   "name": "python3"
  },
  "language_info": {
   "codemirror_mode": {
    "name": "ipython",
    "version": 3
   },
   "file_extension": ".py",
   "mimetype": "text/x-python",
   "name": "python",
   "nbconvert_exporter": "python",
   "pygments_lexer": "ipython3",
   "version": "3.8.8"
  },
  "papermill": {
   "duration": 1433.197715,
   "end_time": "2020-03-03T14:20:28.746673",
   "environment_variables": {},
   "exception": null,
   "input_path": "/tmp/e1@20200303-13:56.ipynb",
   "output_path": "s3://orbit-test-base-acco-testnotebookbucket29e9e4-g80prenjos07/lake-creator/output/notebooks/tests/A-LakeCreator/Example-1-Build-Lake/e1@20200303-13:56.ipynb",
   "parameters": {
    "PAPERMILL_INPUT_PATH": "/tmp/e1@20200303-13:56.ipynb",
    "PAPERMILL_OUTPUT_DIR_PATH": "s3://orbit-test-base-acco-testnotebookbucket29e9e4-g80prenjos07/lake-creator/output/notebooks/tests/A-LakeCreator/Example-1-Build-Lake",
    "PAPERMILL_OUTPUT_PATH": "s3://orbit-test-base-acco-testnotebookbucket29e9e4-g80prenjos07/lake-creator/output/notebooks/tests/A-LakeCreator/Example-1-Build-Lake/e1@20200303-13:56.ipynb",
    "PAPERMILL_WORKBOOK_NAME": "e1@20200303-13:56.ipynb",
    "PAPERMILL_WORK_DIR": "/ws/ScienceRepo1/samples/notebooks/A-LakeCreator"
   },
   "start_time": "2020-03-03T13:56:35.548958",
   "version": "1.2.1"
  },
  "pycharm": {
   "stem_cell": {
    "cell_type": "raw",
    "metadata": {
     "collapsed": false
    },
    "source": []
   }
  }
 },
 "nbformat": 4,
 "nbformat_minor": 4
}
