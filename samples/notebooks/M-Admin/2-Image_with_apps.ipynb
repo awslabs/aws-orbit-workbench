{
 "cells": [
  {
   "cell_type": "markdown",
   "id": "a86b003e",
   "metadata": {},
   "source": [
    "<!--\n",
    "#  Copyright Amazon.com, Inc. or its affiliates. All Rights Reserved.\n",
    "#\n",
    "#    Licensed under the Apache License, Version 2.0 (the \"License\").\n",
    "#    You may not use this file except in compliance with the License.\n",
    "#    You may obtain a copy of the License at\n",
    "#\n",
    "#        http://www.apache.org/licenses/LICENSE-2.0\n",
    "#\n",
    "#    Unless required by applicable law or agreed to in writing, software\n",
    "#    distributed under the License is distributed on an \"AS IS\" BASIS,\n",
    "#    WITHOUT WARRANTIES OR CONDITIONS OF ANY KIND, either express or implied.\n",
    "#    See the License for the specific language governing permissions and\n",
    "#    limitations under the License.\n",
    "-->\n",
    "\n",
    "# This notebook creates an image with additional Applications that can be used alongside Jupyter\n",
    "\n",
    "## Content\n",
    "1. [Configuration](#Configuration)\n",
    "2. [Build Image](#Build-Image)\n"
   ]
  },
  {
   "cell_type": "markdown",
   "id": "f5ddac60",
   "metadata": {},
   "source": [
    "### Configuration"
   ]
  },
  {
   "cell_type": "code",
   "execution_count": 1,
   "id": "cbabd14f",
   "metadata": {},
   "outputs": [],
   "source": [
    "image_name = 'jupyter-with-apps'\n",
    "folder_name = '/home/jovyan/shared/samples/notebooks/M-Admin/extra_user_apps/'"
   ]
  },
  {
   "cell_type": "code",
   "execution_count": null,
   "id": "bf436565",
   "metadata": {},
   "outputs": [],
   "source": [
    "%cd $folder_name"
   ]
  },
  {
   "cell_type": "markdown",
   "id": "b9f063ce",
   "metadata": {},
   "source": [
    "### Build Image"
   ]
  },
  {
   "cell_type": "markdown",
   "id": "22a9fab8",
   "metadata": {},
   "source": [
    "Lets see how  orbit build image works..."
   ]
  },
  {
   "cell_type": "markdown",
   "id": "f1d25dec",
   "metadata": {},
   "source": [
    "get our orbit env and team names"
   ]
  },
  {
   "cell_type": "code",
   "execution_count": null,
   "id": "fd88efa2",
   "metadata": {},
   "outputs": [],
   "source": [
    "env_name = %env AWS_ORBIT_ENV\n",
    "team_name = %env AWS_ORBIT_TEAM_SPACE\n",
    "user_name = %env USERNAME\n",
    "namespace = %env AWS_ORBIT_USER_SPACE\n",
    "(env_name,team_name, user_name, namespace)"
   ]
  },
  {
   "cell_type": "markdown",
   "id": "ae4c4afc",
   "metadata": {},
   "source": [
    "Repository name will be created from the image name prefixed by the env context.  Users are only able to manipulate ECR repos that start with 'orbit-{env_name}/users/'"
   ]
  },
  {
   "cell_type": "code",
   "execution_count": null,
   "id": "c9f47e65",
   "metadata": {},
   "outputs": [],
   "source": [
    "repository_name = (f\"orbit-{env_name}/users/{image_name}\")\n",
    "repository_name"
   ]
  },
  {
   "cell_type": "code",
   "execution_count": null,
   "id": "689d0424",
   "metadata": {},
   "outputs": [],
   "source": [
    "!aws ecr delete-repository --repository-name $repository_name --force"
   ]
  },
  {
   "cell_type": "markdown",
   "id": "1c9eae66",
   "metadata": {},
   "source": [
    "adding a file to our docker as an example"
   ]
  },
  {
   "cell_type": "code",
   "execution_count": null,
   "id": "e9473730",
   "metadata": {},
   "outputs": [],
   "source": [
    "pwd = %pwd\n",
    "pwd"
   ]
  },
  {
   "cell_type": "markdown",
   "id": "882d7c9b",
   "metadata": {},
   "source": [
    "Now lets run the command"
   ]
  },
  {
   "cell_type": "code",
   "execution_count": null,
   "id": "e6d9f407",
   "metadata": {},
   "outputs": [],
   "source": [
    "%%time\n",
    "\n",
    "output = !orbit build image -e $env_name -d $pwd -n $image_name \n",
    "output"
   ]
  },
  {
   "cell_type": "markdown",
   "id": "a4c814d5",
   "metadata": {},
   "source": [
    "Lets get the image address from the output of the previous command"
   ]
  },
  {
   "cell_type": "code",
   "execution_count": null,
   "id": "2581e237",
   "metadata": {},
   "outputs": [],
   "source": [
    "look_for = 'ECR Image Address='\n",
    "image = None\n",
    "for o in output:\n",
    "    if look_for in o:\n",
    "        image = o[o.index(look_for) + len(look_for):]\n",
    "        print(image)\n",
    "\n",
    "assert(image != None)       \n",
    "    "
   ]
  },
  {
   "cell_type": "code",
   "execution_count": null,
   "id": "e87850f8",
   "metadata": {},
   "outputs": [],
   "source": [
    "# check that the image was built\n",
    "import json\n",
    "print(repository_name)\n",
    "images = !aws ecr list-images --repository-name $repository_name\n",
    "images = \"\".join(images)\n",
    "im = json.loads(images)\n",
    "print(im['imageIds'])\n",
    "assert(len(im['imageIds']) > 0)"
   ]
  },
  {
   "cell_type": "markdown",
   "id": "f304d97a",
   "metadata": {},
   "source": [
    "### Building the configuration for the image"
   ]
  },
  {
   "cell_type": "code",
   "execution_count": 2,
   "id": "f826e548",
   "metadata": {},
   "outputs": [],
   "source": [
    "import json\n",
    "\n",
    "customname = \"orbit-custom-image-with-apps-\"+team_name\n",
    "\n",
    "podsetting = {\n",
    "    \"apiVersion\": \"orbit.aws/v1\",\n",
    "    \"kind\": \"PodSetting\",\n",
    "    \"metadata\": {\n",
    "        \"labels\": {\n",
    "            \"orbit/env\": env_name,\n",
    "            \"orbit/space\": \"team\",\n",
    "            \"orbit/team\": team_name\n",
    "        },\n",
    " \n",
    "        \"name\": customname,\n",
    "        \"namespace\": team_name,\n",
    "    },\n",
    "    \"spec\": {\n",
    "        \"containerSelector\": {\n",
    "            \"jsonpath\": \"metadata.labels.app\"\n",
    "        },\n",
    "        \"desc\": \"Custom Image Example \"+customname ,\n",
    "        \"env\": [\n",
    "            {\n",
    "                \"name\": \"custom_name\",\n",
    "                \"value\": \"custom_value\"\n",
    "            }\n",
    "        ],\n",
    "        \"podSelector\": {\n",
    "            \"matchExpressions\": [\n",
    "                {\n",
    "                    \"key\": \"orbit/\"+customname,\n",
    "                    \"operator\": \"Exists\"\n",
    "                },\n",
    "                {\n",
    "                    \"key\": \"app\",\n",
    "                    \"operator\": \"NotIn\",\n",
    "                    \"values\": [\n",
    "                        \"orbit-runner\"\n",
    "                    ]\n",
    "                }\n",
    "            ]\n",
    "        },\n",
    "        \"resources\": {\n",
    "            \"limits\": {\n",
    "                \"cpu\": \"2.0\",\n",
    "                \"memory\": \"2Gi\"\n",
    "            },\n",
    "            \"requests\": {\n",
    "                \"cpu\": \"2.0\",\n",
    "                \"memory\": \"2Gi\"\n",
    "            }\n",
    "        },\n",
    "        \"securityContext\": {\n",
    "            \"runAsUser\": 1000\n",
    "        },\n",
    "        \"image\": image\n",
    "    }\n",
    "}\n",
    "\n",
    "\n",
    "with open(\"podsetting.json\", 'w') as f:\n",
    "    json.dump(podsetting, f)"
   ]
  },
  {
   "cell_type": "code",
   "execution_count": null,
   "id": "3a40ede7",
   "metadata": {},
   "outputs": [],
   "source": [
    "!cat podsetting.json"
   ]
  },
  {
   "cell_type": "code",
   "execution_count": null,
   "id": "a0857504",
   "metadata": {},
   "outputs": [],
   "source": [
    "!kubectl apply -f podsetting.json -n {team_name}"
   ]
  },
  {
   "cell_type": "markdown",
   "id": "2c082194",
   "metadata": {},
   "source": [
    "## Users can now use the new profile to use new apps"
   ]
  },
  {
   "cell_type": "markdown",
   "id": "b9778179",
   "metadata": {},
   "source": [
    "***"
   ]
  }
 ],
 "metadata": {
  "kernelspec": {
   "display_name": "Python 3",
   "language": "python",
   "name": "python3"
  },
  "language_info": {
   "codemirror_mode": {
    "name": "ipython",
    "version": 3
   },
   "file_extension": ".py",
   "mimetype": "text/x-python",
   "name": "python",
   "nbconvert_exporter": "python",
   "pygments_lexer": "ipython3",
   "version": "3.8.8"
  }
 },
 "nbformat": 4,
 "nbformat_minor": 5
}
