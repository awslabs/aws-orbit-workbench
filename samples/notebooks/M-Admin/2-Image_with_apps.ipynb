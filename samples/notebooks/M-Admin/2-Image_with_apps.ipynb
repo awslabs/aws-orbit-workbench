{
 "cells": [
  {
   "cell_type": "markdown",
   "id": "happy-science",
   "metadata": {},
   "source": [
    "<!--\n",
    "#  Copyright Amazon.com, Inc. or its affiliates. All Rights Reserved.\n",
    "#\n",
    "#    Licensed under the Apache License, Version 2.0 (the \"License\").\n",
    "#    You may not use this file except in compliance with the License.\n",
    "#    You may obtain a copy of the License at\n",
    "#\n",
    "#        http://www.apache.org/licenses/LICENSE-2.0\n",
    "#\n",
    "#    Unless required by applicable law or agreed to in writing, software\n",
    "#    distributed under the License is distributed on an \"AS IS\" BASIS,\n",
    "#    WITHOUT WARRANTIES OR CONDITIONS OF ANY KIND, either express or implied.\n",
    "#    See the License for the specific language governing permissions and\n",
    "#    limitations under the License.\n",
    "-->\n",
    "\n",
    "# This notebook creates an image with additional Applications that can be used alongside Jupyter\n",
    "\n",
    "## Content\n",
    "1. [Configuration](#Configuration)\n",
    "2. [Build Image](#Build-Image)\n"
   ]
  },
  {
   "cell_type": "markdown",
   "id": "rapid-trading",
   "metadata": {},
   "source": [
    "### Configuration"
   ]
  },
  {
   "cell_type": "code",
   "execution_count": null,
   "id": "cultural-cornell",
   "metadata": {},
   "outputs": [],
   "source": [
    "image_name = 'jupyter-with-apps'\n",
    "folder_name = '/efs/shared/samples/notebooks/M-Admin/extra_user_apps/'"
   ]
  },
  {
   "cell_type": "code",
   "execution_count": null,
   "id": "tender-textbook",
   "metadata": {},
   "outputs": [],
   "source": [
    "%cd $folder_name"
   ]
  },
  {
   "cell_type": "markdown",
   "id": "excess-mistress",
   "metadata": {},
   "source": [
    "### Build Image"
   ]
  },
  {
   "cell_type": "markdown",
   "id": "brave-directive",
   "metadata": {},
   "source": [
    "Lets see how  orbit build image works..."
   ]
  },
  {
   "cell_type": "markdown",
   "id": "dutch-pledge",
   "metadata": {},
   "source": [
    "get our orbit env and team names"
   ]
  },
  {
   "cell_type": "code",
   "execution_count": null,
   "id": "robust-modem",
   "metadata": {},
   "outputs": [],
   "source": [
    "env_name = %env AWS_ORBIT_ENV\n",
    "team_name = %env AWS_ORBIT_TEAM_SPACE\n",
    "(env_name,team_name)"
   ]
  },
  {
   "cell_type": "markdown",
   "id": "southeast-intersection",
   "metadata": {},
   "source": [
    "Repository name will be created from the image name prefixed by the env context.  Users are only able to manipulate ECR repos that start with 'orbit-{env_name}/users/'"
   ]
  },
  {
   "cell_type": "code",
   "execution_count": null,
   "id": "assured-marble",
   "metadata": {},
   "outputs": [],
   "source": [
    "repository_name = (f\"orbit-{env_name}/users/{image_name}\")\n",
    "repository_name"
   ]
  },
  {
   "cell_type": "code",
   "execution_count": null,
   "id": "facial-spouse",
   "metadata": {},
   "outputs": [],
   "source": [
    "!aws ecr delete-repository --repository-name $repository_name --force"
   ]
  },
  {
   "cell_type": "markdown",
   "id": "interstate-error",
   "metadata": {},
   "source": [
    "adding a file to our docker as an example"
   ]
  },
  {
   "cell_type": "code",
   "execution_count": null,
   "id": "turned-coffee",
   "metadata": {},
   "outputs": [],
   "source": [
    "pwd = %pwd\n",
    "pwd"
   ]
  },
  {
   "cell_type": "markdown",
   "id": "coral-delight",
   "metadata": {},
   "source": [
    "Now lets run the command"
   ]
  },
  {
   "cell_type": "code",
   "execution_count": null,
   "id": "matched-acquisition",
   "metadata": {},
   "outputs": [],
   "source": [
    "%%time\n",
    "\n",
    "output = !orbit build image -e $env_name -d $pwd -n $image_name \n",
    "output"
   ]
  },
  {
   "cell_type": "markdown",
   "id": "successful-storage",
   "metadata": {},
   "source": [
    "Lets get the image address from the output of the previous command"
   ]
  },
  {
   "cell_type": "code",
   "execution_count": null,
   "id": "assisted-latter",
   "metadata": {},
   "outputs": [],
   "source": [
    "look_for = 'ECR Image Address='\n",
    "image = None\n",
    "for o in output:\n",
    "    if look_for in o:\n",
    "        image = o[o.index(look_for) + len(look_for):]\n",
    "        print(image)\n",
    "\n",
    "assert(image != None)       \n",
    "    "
   ]
  },
  {
   "cell_type": "code",
   "execution_count": null,
   "id": "welcome-collaboration",
   "metadata": {},
   "outputs": [],
   "source": [
    "# check that the image was built\n",
    "import json\n",
    "print(repository_name)\n",
    "images = !aws ecr list-images --repository-name $repository_name\n",
    "images = \"\".join(images)\n",
    "im = json.loads(images)\n",
    "print(im['imageIds'])\n",
    "assert(len(im['imageIds']) > 0)"
   ]
  },
  {
   "cell_type": "markdown",
   "id": "continuous-growth",
   "metadata": {},
   "source": [
    "### Building the profile for the Image"
   ]
  },
  {
   "cell_type": "code",
   "execution_count": null,
   "id": "reserved-chick",
   "metadata": {},
   "outputs": [],
   "source": [
    "import json\n",
    "\n",
    "import json\n",
    "profile = [\n",
    "    {\n",
    "        \"display_name\": \"CodeServer IDE\",\n",
    "        \"slug\": \"code-server\",\n",
    "        \"description\": \"A VSCode-based cloud IDE in your K8 team\",\n",
    "        \"kubespawner_override\": {\n",
    "            \"image\": image,\n",
    "            \"cpu_guarantee\": 3,\n",
    "            \"cpu_limit\": 3,\n",
    "            \"mem_guarantee\": \"4G\",\n",
    "            \"mem_limit\": \"4G\",\n",
    "            \"default_url\": \"/code-server\"\n",
    "        },\n",
    "    },\n",
    "    {\n",
    "        \"display_name\": \"WorkStation\",\n",
    "        \"slug\": \"linuxdesktop\",\n",
    "        \"description\": \"Linux Desktop with apps in your K8 team\",\n",
    "        \"kubespawner_override\": {\n",
    "            \"image\": image,\n",
    "            \"cpu_guarantee\": 3,\n",
    "            \"cpu_limit\": 3,\n",
    "            \"mem_guarantee\": \"4G\",\n",
    "            \"mem_limit\": \"4G\",\n",
    "            \"default_url\": \"/desktop\"\n",
    "        },\n",
    "    },\n",
    "    {\n",
    "        \"display_name\": \"Jupyter with Apps\",\n",
    "        \"slug\": \"jupyterapps\",\n",
    "        \"description\": \"Jupyter Notebook with additional apps\",\n",
    "        \"kubespawner_override\": {\n",
    "            \"image\": image,\n",
    "            \"cpu_guarantee\": 3,\n",
    "            \"cpu_limit\": 3,\n",
    "            \"mem_guarantee\": \"4G\",\n",
    "            \"mem_limit\": \"4G\"\n",
    "        },\n",
    "    }\n",
    "]\n",
    "\n",
    "with open(\"profile.json\", 'w') as f:\n",
    "    json.dump(profile, f)\n",
    "\n",
    "\n",
    "with open(\"profile.json\", 'w') as f:\n",
    "    json.dump(profile, f)\n"
   ]
  },
  {
   "cell_type": "code",
   "execution_count": null,
   "id": "diverse-issue",
   "metadata": {},
   "outputs": [],
   "source": [
    "!cat profile.json"
   ]
  },
  {
   "cell_type": "code",
   "execution_count": null,
   "id": "sorted-netherlands",
   "metadata": {},
   "outputs": [],
   "source": [
    "!orbit build profile --debug --env $env_name --team lake-user profile.json"
   ]
  },
  {
   "cell_type": "markdown",
   "id": "experimental-giving",
   "metadata": {},
   "source": [
    "## Users can now use the new profile to use new apps"
   ]
  },
  {
   "source": [
    "***"
   ],
   "cell_type": "markdown",
   "metadata": {}
  },
  {
   "source": [
    "## Adding Extensions\n",
    "The extension SQLTools requires additional drivers to be installed.  For example to connect to Redshift, there is a driver available (mtxr.sqltools-driver-pg) from the VS Marketplace that works with SQLTools.  But, it has to be installed separately as it is not included in the SQLTools installation.  You can download the driver by fetching the VSIX binary and installing manually.  A script is provided at /home/jovyan/.local/share/code-server/scripts that can fetch the VSIX and install it.  \n",
    "\n",
    "Or, you can do the following:\n",
    "\n",
    "1. Fetch the VSIX by any means available (options)\n",
    "    1. curl https://marketplace.visualstudio.com/_apis/public/gallery/publishers/mtxr/vsextensions/sqltools-driver-pg/0.2.0/vspackage\n",
    "    2. Browse to the marketplace and download sql-tools.driver-pg driver\n",
    "2. Install the driver (options)\n",
    "    1. from command palatte, look for 'Install From VSIX' , browse to the downloaded VSIX file and install\n",
    "    2. run commanndline code-server --install-extension location_of_file.vsix --force\n",
    "3. Restart VSCode\n"
   ],
   "cell_type": "markdown",
   "metadata": {}
  },
  {
   "cell_type": "code",
   "execution_count": null,
   "metadata": {},
   "outputs": [],
   "source": []
  },
  {
   "cell_type": "code",
   "execution_count": null,
   "metadata": {},
   "outputs": [],
   "source": []
  },
  {
   "source": [],
   "cell_type": "markdown",
   "metadata": {}
  },
  {
   "cell_type": "code",
   "execution_count": null,
   "metadata": {},
   "outputs": [],
   "source": []
  }
 ],
 "metadata": {
  "kernelspec": {
   "display_name": "Python 3",
   "language": "python",
   "name": "python3"
  },
  "language_info": {
   "codemirror_mode": {
    "name": "ipython",
    "version": 3
   },
   "file_extension": ".py",
   "mimetype": "text/x-python",
   "name": "python",
   "nbconvert_exporter": "python",
   "pygments_lexer": "ipython3",
   "version": "3.8.8"
  }
 },
 "nbformat": 4,
 "nbformat_minor": 5
}