{
 "cells": [
  {
   "cell_type": "markdown",
   "id": "variable-acrylic",
   "metadata": {},
   "source": [
    "<!--\n",
    "#  Copyright Amazon.com, Inc. or its affiliates. All Rights Reserved.\n",
    "#\n",
    "#    Licensed under the Apache License, Version 2.0 (the \"License\").\n",
    "#    You may not use this file except in compliance with the License.\n",
    "#    You may obtain a copy of the License at\n",
    "#\n",
    "#        http://www.apache.org/licenses/LICENSE-2.0\n",
    "#\n",
    "#    Unless required by applicable law or agreed to in writing, software\n",
    "#    distributed under the License is distributed on an \"AS IS\" BASIS,\n",
    "#    WITHOUT WARRANTIES OR CONDITIONS OF ANY KIND, either express or implied.\n",
    "#    See the License for the specific language governing permissions and\n",
    "#    limitations under the License.\n",
    "-->\n",
    "\n",
    "# This notebook creates an image with additional Applications that can be used alongside Jupyter\n",
    "\n",
    "## Content\n",
    "1. [Configuration](#Configuration)\n",
    "2. [Build Image](#Build-Image)\n"
   ]
  },
  {
   "cell_type": "markdown",
   "id": "baking-effort",
   "metadata": {},
   "source": [
    "### Configuration"
   ]
  },
  {
   "cell_type": "code",
   "execution_count": 1,
   "id": "settled-topic",
   "metadata": {},
   "outputs": [],
   "source": [
    "image_name = 'jupyter-with-apps'\n",
    "folder_name = '/efs/shared/samples/notebooks/M-Admin/extra_user_apps/'"
   ]
  },
  {
   "cell_type": "code",
   "execution_count": 2,
   "id": "sufficient-occasion",
   "metadata": {},
   "outputs": [
    {
     "name": "stdout",
     "output_type": "stream",
     "text": [
      "/efs/shared/samples/notebooks/M-Admin/extra_user_apps\n"
     ]
    }
   ],
   "source": [
    "%cd $folder_name"
   ]
  },
  {
   "cell_type": "markdown",
   "id": "meaning-unemployment",
   "metadata": {},
   "source": [
    "### Build Image"
   ]
  },
  {
   "cell_type": "markdown",
   "id": "political-reynolds",
   "metadata": {},
   "source": [
    "Lets see how  orbit build image works..."
   ]
  },
  {
   "cell_type": "markdown",
   "id": "prostate-resident",
   "metadata": {},
   "source": [
    "get our orbit env and team names"
   ]
  },
  {
   "cell_type": "code",
   "execution_count": 3,
   "id": "mighty-moses",
   "metadata": {},
   "outputs": [
    {
     "data": {
      "text/plain": [
       "('test-env-public', 'lake-creator')"
      ]
     },
     "execution_count": 3,
     "metadata": {},
     "output_type": "execute_result"
    }
   ],
   "source": [
    "env_name = %env AWS_ORBIT_ENV\n",
    "team_name = %env AWS_ORBIT_TEAM_SPACE\n",
    "(env_name,team_name)"
   ]
  },
  {
   "cell_type": "markdown",
   "id": "beginning-express",
   "metadata": {},
   "source": [
    "Repository name will be created from the image name prefixed by the env context.  Users are only able to manipulate ECR repos that start with 'orbit-{env_name}-users-'"
   ]
  },
  {
   "cell_type": "code",
   "execution_count": 4,
   "id": "extraordinary-integer",
   "metadata": {},
   "outputs": [
    {
     "data": {
      "text/plain": [
       "'orbit-test-env-public-users-jupyter-with-apps'"
      ]
     },
     "execution_count": 4,
     "metadata": {},
     "output_type": "execute_result"
    }
   ],
   "source": [
    "repository_name = (f\"orbit-{env_name}-users-{image_name}\")\n",
    "repository_name"
   ]
  },
  {
   "cell_type": "code",
   "execution_count": 5,
   "id": "tired-heading",
   "metadata": {},
   "outputs": [
    {
     "name": "stdout",
     "output_type": "stream",
     "text": [
      "{\n",
      "    \"repository\": {\n",
      "        \"repositoryArn\": \"arn:aws:ecr:us-west-2:495869084367:repository/orbit-test-env-public-users-jupyter-with-apps\",\n",
      "        \"registryId\": \"495869084367\",\n",
      "        \"repositoryName\": \"orbit-test-env-public-users-jupyter-with-apps\",\n",
      "        \"repositoryUri\": \"495869084367.dkr.ecr.us-west-2.amazonaws.com/orbit-test-env-public-users-jupyter-with-apps\",\n",
      "        \"createdAt\": 1617317152.0,\n",
      "        \"imageTagMutability\": \"MUTABLE\"\n",
      "    }\n",
      "}\n"
     ]
    }
   ],
   "source": [
    "!aws ecr delete-repository --repository-name $repository_name --force"
   ]
  },
  {
   "cell_type": "markdown",
   "id": "official-douglas",
   "metadata": {},
   "source": [
    "adding a file to our docker as an example"
   ]
  },
  {
   "cell_type": "code",
   "execution_count": 6,
   "id": "desperate-information",
   "metadata": {},
   "outputs": [
    {
     "data": {
      "text/plain": [
       "'/efs/shared/samples/notebooks/M-Admin/extra_user_apps'"
      ]
     },
     "execution_count": 6,
     "metadata": {},
     "output_type": "execute_result"
    }
   ],
   "source": [
    "pwd = %pwd\n",
    "pwd"
   ]
  },
  {
   "cell_type": "markdown",
   "id": "posted-kentucky",
   "metadata": {},
   "source": [
    "Now lets run the command"
   ]
  },
  {
   "cell_type": "code",
   "execution_count": 7,
   "id": "varied-senegal",
   "metadata": {},
   "outputs": [
    {
     "name": "stdout",
     "output_type": "stream",
     "text": [
      "CPU times: user 12.5 ms, sys: 3.53 ms, total: 16 ms\n",
      "Wall time: 7min 1s\n"
     ]
    },
    {
     "data": {
      "text/plain": [
       "['',\n",
       " 'Deploying Docker Image |\\x1b[32m                   \\x1b[0m|   0% \\x1b[0m',\n",
       " '                                                  ',\n",
       " '',\n",
       " 'Deploying Docker Image |\\x1b[32m▏                  \\x1b[0m|   1% \\x1b[0m',\n",
       " 'Deploying Docker Image |\\x1b[32m▌                  \\x1b[0m|   3% \\x1b[0m',\n",
       " 'Deploying Docker Image |\\x1b[32m▉                  \\x1b[0m|   5% \\x1b[0m',\n",
       " 'Deploying Docker Image |\\x1b[32m███▊               \\x1b[0m|  20% \\x1b[0m',\n",
       " 'Deploying Docker Image |\\x1b[32m█████▏             \\x1b[0m|  27% \\x1b[0m',\n",
       " 'Deploying Docker Image |\\x1b[32m██████████████████▊\\x1b[0m|  99% \\x1b[0m',\n",
       " '                                                  ',\n",
       " '',\n",
       " 'Deploying Docker Image |\\x1b[32m██████████████████▊\\x1b[0m|  99% \\x1b[0m',\n",
       " '                                                  ',\n",
       " '',\n",
       " 'Deploying Docker Image |\\x1b[32m██████████████████▊\\x1b[0m|  99% \\x1b[0m',\n",
       " '                                                  ',\n",
       " '',\n",
       " 'Deploying Docker Image |\\x1b[32m██████████████████▊\\x1b[0m|  99% \\x1b[0m',\n",
       " 'Deploying Docker Image |\\x1b[32m███████████████████\\x1b[0m| 100% \\x1b[0m',\n",
       " '                                                  ',\n",
       " '',\n",
       " 'Deploying Docker Image |\\x1b[32m███████████████████\\x1b[0m| 100% \\x1b[0m',\n",
       " 'Deploying Docker Image |\\x1b[32m███████████████████\\x1b[0m| 100% \\x1b[0m',\n",
       " '[\\x1b[39m\\x1b[22m\\x1b[24m Info \\x1b[0m] Manifest loaded',\n",
       " '[\\x1b[39m\\x1b[22m\\x1b[24m Info \\x1b[0m] Docker Image deploy into ECR',\n",
       " '[\\x1b[39m\\x1b[22m\\x1b[24m Info \\x1b[0m] ECR Image Address=495869084367.dkr.ecr.us-west-2.amazonaws.com/orbit-test-env-public-users-jupyter-with-apps',\n",
       " '[\\x1b[94m\\x1b[22m\\x1b[24m Tip \\x1b[0m] ECR Image Address: \\x1b[94m\\x1b[22m\\x1b[4m495869084367.dkr.ecr.us-west-2.amazonaws.com/orbit-test-env-public-users-jupyter-with-apps\\x1b[0m',\n",
       " '']"
      ]
     },
     "execution_count": 7,
     "metadata": {},
     "output_type": "execute_result"
    }
   ],
   "source": [
    "%%time\n",
    "\n",
    "output = !orbit build image -e $env_name -d $pwd -n $image_name \n",
    "output"
   ]
  },
  {
   "cell_type": "markdown",
   "id": "developed-pilot",
   "metadata": {},
   "source": [
    "Lets get the image address from the output of the previous command"
   ]
  },
  {
   "cell_type": "code",
   "execution_count": 8,
   "id": "provincial-allergy",
   "metadata": {},
   "outputs": [
    {
     "name": "stdout",
     "output_type": "stream",
     "text": [
      "495869084367.dkr.ecr.us-west-2.amazonaws.com/orbit-test-env-public-users-jupyter-with-apps\n"
     ]
    }
   ],
   "source": [
    "look_for = 'ECR Image Address='\n",
    "image = None\n",
    "for o in output:\n",
    "    if look_for in o:\n",
    "        image = o[o.index(look_for) + len(look_for):]\n",
    "        print(image)\n",
    "\n",
    "assert(image != None)       \n",
    "    "
   ]
  },
  {
   "cell_type": "code",
   "execution_count": 9,
   "id": "completed-convergence",
   "metadata": {},
   "outputs": [
    {
     "name": "stdout",
     "output_type": "stream",
     "text": [
      "orbit-test-env-public-users-jupyter-with-apps\n",
      "[{'imageDigest': 'sha256:56e19449229c0731d9294cffcdf7cf8b35b41107c25a1dc474b5df23ca4a3384', 'imageTag': 'latest'}]\n"
     ]
    }
   ],
   "source": [
    "# check that the image was built\n",
    "import json\n",
    "print(repository_name)\n",
    "images = !aws ecr list-images --repository-name $repository_name\n",
    "images = \"\".join(images)\n",
    "im = json.loads(images)\n",
    "print(im['imageIds'])\n",
    "assert(len(im['imageIds']) > 0)"
   ]
  },
  {
   "cell_type": "markdown",
   "id": "legislative-junction",
   "metadata": {},
   "source": [
    "### Building the profile for the Image"
   ]
  },
  {
   "cell_type": "code",
   "execution_count": 10,
   "id": "multiple-submission",
   "metadata": {},
   "outputs": [],
   "source": [
    "import json\n",
    "profile = {\n",
    "        \"display_name\": 'Workbench Apps (mid-size)',\n",
    "        \"description\": \"Build an image with additional data and development applications\",\n",
    "        \"kubespawner_override\": {\n",
    "            \"image\": image,\n",
    "            \"cpu_guarantee\": 4,\n",
    "            \"cpu_limit\": 4,\n",
    "            \"mem_guarantee\": \"4G\",\n",
    "            \"mem_limit\": \"4G\"\n",
    "        }\n",
    "}\n",
    "\n",
    "with open(\"profile.json\", 'w') as f:\n",
    "    json.dump(profile, f)\n"
   ]
  },
  {
   "cell_type": "code",
   "execution_count": 11,
   "id": "eleven-elimination",
   "metadata": {},
   "outputs": [
    {
     "name": "stdout",
     "output_type": "stream",
     "text": [
      "{\"display_name\": \"Workbench Apps (mid-size)\", \"description\": \"Build an image with additional data and development applications\", \"kubespawner_override\": {\"image\": \"495869084367.dkr.ecr.us-west-2.amazonaws.com/orbit-test-env-public-users-jupyter-with-apps\", \"cpu_guarantee\": 4, \"cpu_limit\": 4, \"mem_guarantee\": \"4G\", \"mem_limit\": \"4G\"}}"
     ]
    }
   ],
   "source": [
    "!cat profile.json"
   ]
  },
  {
   "cell_type": "code",
   "execution_count": 12,
   "id": "authorized-oliver",
   "metadata": {},
   "outputs": [
    {
     "name": "stdout",
     "output_type": "stream",
     "text": [
      "[2021-04-01 23:16:32,744][__main__.py  :481] env: test-env-public\n",
      "[2021-04-01 23:16:32,744][__main__.py  :482] team: lake-user\n",
      "[2021-04-01 23:16:32,744][__main__.py  :484] profile: {\"display_name\": \"Workbench Apps (mid-size)\", \"description\": \"Build an image with additional data and development applications\", \"kubespawner_override\": {\"image\": \"495869084367.dkr.ecr.us-west-2.amazonaws.com/orbit-test-env-public-users-jupyter-with-apps\", \"cpu_guarantee\": 4, \"cpu_limit\": 4, \"mem_guarantee\": \"4G\", \"mem_limit\": \"4G\"}}\n",
      "[2021-04-01 23:16:32,744][__main__.py  :485] debug: True\n",
      "[2021-04-01 23:16:32,744][messages.py  :133] Progress bar: 1%\n",
      "[\u001b[39m\u001b[22m\u001b[24m Info \u001b[0m] Retrieving existing profiles\n",
      "[2021-04-01 23:16:32,744][image.py     : 35] Trying to read profiles from SSM parameter (/orbit/test-env-public/teams/lake-user/user/profiles).\n",
      "[2021-04-01 23:16:32,885][image.py     :102] Existing user profiles for team lake-user: [{'description': 'Build an image with additional data and development applications', 'display_name': 'Workbench Apps (mid-size)', 'kubespawner_override': {'cpu_guarantee': 4, 'cpu_limit': 4, 'image': '495869084367.dkr.ecr.us-west-2.amazonaws.com/orbit-test-env-public-users-jupyter-with-apps', 'mem_guarantee': '4G', 'mem_limit': '4G'}, 'slug': 'workbench-apps-mid-size'}]\n",
      "[2021-04-01 23:16:32,885][image.py     :116] new profile name: Workbench Apps (mid-size)\n",
      "[2021-04-01 23:16:32,885][image.py     :119] Profile exists, updating...\n",
      "[\u001b[94m\u001b[22m\u001b[24m Tip \u001b[0m] Profile added Workbench Apps (mid-size)\n",
      "[2021-04-01 23:16:32,885][image.py     :125] Updated user profiles for team lake-user: [{'display_name': 'Workbench Apps (mid-size)', 'description': 'Build an image with additional data and development applications', 'kubespawner_override': {'image': '495869084367.dkr.ecr.us-west-2.amazonaws.com/orbit-test-env-public-users-jupyter-with-apps', 'cpu_guarantee': 4, 'cpu_limit': 4, 'mem_guarantee': '4G', 'mem_limit': '4G'}, 'slug': 'workbench-apps-mid-size'}]\n",
      "[2021-04-01 23:16:32,918][image.py     : 49] Writing team lake-user user profiles to SSM parameter.\n",
      "[2021-04-01 23:16:33,172][messages.py  :175] Progress bar: 100%\n"
     ]
    }
   ],
   "source": [
    "!orbit build profile --debug --env $env_name --team lake-user profile.json"
   ]
  },
  {
   "cell_type": "markdown",
   "id": "innovative-justice",
   "metadata": {},
   "source": [
    "## Users can now use the new profile to use new apps"
   ]
  },
  {
   "cell_type": "code",
   "execution_count": null,
   "id": "missing-september",
   "metadata": {},
   "outputs": [],
   "source": []
  }
 ],
 "metadata": {
  "kernelspec": {
   "display_name": "Python 3",
   "language": "python",
   "name": "python3"
  },
  "language_info": {
   "codemirror_mode": {
    "name": "ipython",
    "version": 3
   },
   "file_extension": ".py",
   "mimetype": "text/x-python",
   "name": "python",
   "nbconvert_exporter": "python",
   "pygments_lexer": "ipython3",
   "version": "3.8.8"
  },
  "pycharm": {
   "stem_cell": {
    "cell_type": "raw",
    "metadata": {
     "collapsed": false
    },
    "source": []
   }
  }
 },
 "nbformat": 4,
 "nbformat_minor": 5
}
