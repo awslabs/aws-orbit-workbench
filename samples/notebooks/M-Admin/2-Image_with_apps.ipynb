{
 "cells": [
  {
   "cell_type": "markdown",
   "id": "alert-checkout",
   "metadata": {},
   "source": [
    "<!--\n",
    "#  Copyright Amazon.com, Inc. or its affiliates. All Rights Reserved.\n",
    "#\n",
    "#    Licensed under the Apache License, Version 2.0 (the \"License\").\n",
    "#    You may not use this file except in compliance with the License.\n",
    "#    You may obtain a copy of the License at\n",
    "#\n",
    "#        http://www.apache.org/licenses/LICENSE-2.0\n",
    "#\n",
    "#    Unless required by applicable law or agreed to in writing, software\n",
    "#    distributed under the License is distributed on an \"AS IS\" BASIS,\n",
    "#    WITHOUT WARRANTIES OR CONDITIONS OF ANY KIND, either express or implied.\n",
    "#    See the License for the specific language governing permissions and\n",
    "#    limitations under the License.\n",
    "-->\n",
    "\n",
    "# Sample notebook to build custom images from the lake user teamspace.\n",
    "\n",
    "## Content\n",
    "1. [Configuration](#Configuration)\n",
    "2. [Build Image](#Build-Image)\n",
    "2. [Running Container using the profile](#Running-container)\n"
   ]
  },
  {
   "cell_type": "markdown",
   "id": "celtic-sculpture",
   "metadata": {},
   "source": [
    "### Configuration"
   ]
  },
  {
   "cell_type": "code",
   "execution_count": 1,
   "id": "lonely-parks",
   "metadata": {},
   "outputs": [],
   "source": [
    "image_name = 'jupyter-with-apps'\n",
    "folder_name = '/efs/shared/samples/images/extra_user_apps'"
   ]
  },
  {
   "cell_type": "code",
   "execution_count": 2,
   "id": "desirable-moral",
   "metadata": {},
   "outputs": [
    {
     "name": "stdout",
     "output_type": "stream",
     "text": [
      "/efs/shared/samples/images/extra_user_apps\n"
     ]
    }
   ],
   "source": [
    "%cd $folder_name"
   ]
  },
  {
   "cell_type": "markdown",
   "id": "affiliated-discussion",
   "metadata": {},
   "source": [
    "### Build Image"
   ]
  },
  {
   "cell_type": "markdown",
   "id": "included-scanner",
   "metadata": {},
   "source": [
    "Lets see how  orbit build image works..."
   ]
  },
  {
   "cell_type": "markdown",
   "id": "assigned-shipping",
   "metadata": {},
   "source": [
    "get our orbit env and team names"
   ]
  },
  {
   "cell_type": "code",
   "execution_count": 3,
   "id": "genuine-property",
   "metadata": {},
   "outputs": [
    {
     "data": {
      "text/plain": [
       "('test-env-public', 'lake-creator')"
      ]
     },
     "execution_count": 3,
     "metadata": {},
     "output_type": "execute_result"
    }
   ],
   "source": [
    "env_name = %env AWS_ORBIT_ENV\n",
    "team_name = %env AWS_ORBIT_TEAM_SPACE\n",
    "(env_name,team_name)"
   ]
  },
  {
   "cell_type": "markdown",
   "id": "dietary-davis",
   "metadata": {},
   "source": [
    "Repository name will be created from the image name prefixed by the env context.  Users are only able to manipulate ECR repos that start with 'orbit-{env_name}-users-'"
   ]
  },
  {
   "cell_type": "code",
   "execution_count": null,
   "id": "inappropriate-compromise",
   "metadata": {},
   "outputs": [],
   "source": [
    "repository_name = (f\"orbit-{env_name}-users-{image_name}\")\n",
    "repository_name"
   ]
  },
  {
   "cell_type": "code",
   "execution_count": null,
   "id": "manual-garage",
   "metadata": {},
   "outputs": [],
   "source": [
    "!aws ecr delete-repository --repository-name $repository_name --force"
   ]
  },
  {
   "cell_type": "code",
   "execution_count": null,
   "id": "geographic-address",
   "metadata": {},
   "outputs": [],
   "source": [
    "%cd /samples/images/images/extra_user_apps"
   ]
  },
  {
   "cell_type": "markdown",
   "id": "noticed-joseph",
   "metadata": {},
   "source": [
    "adding a file to our docker as an example"
   ]
  },
  {
   "cell_type": "code",
   "execution_count": null,
   "id": "removed-warren",
   "metadata": {},
   "outputs": [],
   "source": [
    "pwd = %pwd\n",
    "pwd"
   ]
  },
  {
   "cell_type": "markdown",
   "id": "rocky-philadelphia",
   "metadata": {},
   "source": [
    "Now lets run the command"
   ]
  },
  {
   "cell_type": "code",
   "execution_count": null,
   "id": "attractive-antigua",
   "metadata": {},
   "outputs": [],
   "source": [
    "%%time\n",
    "\n",
    "output = !orbit build image -e dev-env -d $pwd -n $image_name\n",
    "output"
   ]
  },
  {
   "cell_type": "markdown",
   "id": "returning-aerospace",
   "metadata": {},
   "source": [
    "Lets get the image address from the output of the previous command"
   ]
  },
  {
   "cell_type": "code",
   "execution_count": null,
   "id": "sized-cannon",
   "metadata": {},
   "outputs": [],
   "source": [
    "look_for = 'ECR Image Address='\n",
    "image = None\n",
    "for o in output:\n",
    "    if look_for in o:\n",
    "        image = o[o.index(look_for) + len(look_for):]\n",
    "        print(image)\n",
    "\n",
    "assert(image != None)       \n",
    "    "
   ]
  },
  {
   "cell_type": "code",
   "execution_count": null,
   "id": "crazy-northern",
   "metadata": {},
   "outputs": [],
   "source": [
    "# check that the image was built\n",
    "import json\n",
    "print(repository_name)\n",
    "images = !aws ecr list-images --repository-name $repository_name\n",
    "images = \"\".join(images)\n",
    "im = json.loads(images)\n",
    "print(im['imageIds'])\n",
    "assert(len(im['imageIds']) > 0)"
   ]
  },
  {
   "cell_type": "markdown",
   "id": "reliable-lodge",
   "metadata": {},
   "source": [
    "### Building the profile for the Image"
   ]
  },
  {
   "cell_type": "code",
   "execution_count": 4,
   "id": "ongoing-nitrogen",
   "metadata": {},
   "outputs": [],
   "source": [
    "import json\n",
    "profile = {\n",
    "        \"display_name\": 'Workbench Apps (mid-size)',\n",
    "        \"description\": \"Use simple custom image\",\n",
    "        \"kubespawner_override\": {\n",
    "            \"image\": image,\n",
    "#             \"image\": \"495869084367.dkr.ecr.us-west-2.amazonaws.com/orbit-test-env-public-users-jupyter-user-apps\",\n",
    "            \"cpu_guarantee\": 4,\n",
    "            \"cpu_limit\": 4,\n",
    "            \"mem_guarantee\": \"4G\",\n",
    "            \"mem_limit\": \"4G\"\n",
    "        }\n",
    "}\n",
    "\n",
    "with open(\"profile.json\", 'w') as f:\n",
    "    json.dump(profile, f)\n"
   ]
  },
  {
   "cell_type": "code",
   "execution_count": 5,
   "id": "tired-minute",
   "metadata": {},
   "outputs": [
    {
     "name": "stdout",
     "output_type": "stream",
     "text": [
      "{\"display_name\": \"Workbench Apps (mid-size)\", \"description\": \"Use simple custom image\", \"kubespawner_override\": {\"image\": \"495869084367.dkr.ecr.us-west-2.amazonaws.com/orbit-test-env-public-users-jupyter-user-apps\", \"cpu_guarantee\": 4, \"cpu_limit\": 4, \"mem_guarantee\": \"4G\", \"mem_limit\": \"4G\"}}"
     ]
    }
   ],
   "source": [
    "!cat profile.json"
   ]
  },
  {
   "cell_type": "code",
   "execution_count": 8,
   "id": "significant-circulation",
   "metadata": {},
   "outputs": [
    {
     "name": "stdout",
     "output_type": "stream",
     "text": [
      "[2021-04-01 16:21:09,442][__main__.py  :481] env: test-env-public\n",
      "[2021-04-01 16:21:09,442][__main__.py  :482] team: lake-user\n",
      "[2021-04-01 16:21:09,442][__main__.py  :484] profile: {\"display_name\": \"Workbench Apps (mid-size)\", \"description\": \"Use simple custom image\", \"kubespawner_override\": {\"image\": \"495869084367.dkr.ecr.us-west-2.amazonaws.com/orbit-test-env-public-users-jupyter-user-apps\", \"cpu_guarantee\": 4, \"cpu_limit\": 4, \"mem_guarantee\": \"4G\", \"mem_limit\": \"4G\"}}\n",
      "[2021-04-01 16:21:09,442][__main__.py  :485] debug: True\n",
      "[2021-04-01 16:21:09,442][messages.py  :133] Progress bar: 1%\n",
      "[\u001b[39m\u001b[22m\u001b[24m Info \u001b[0m] Retrieving existing profiles\n",
      "[2021-04-01 16:21:09,443][image.py     : 35] Trying to read profiles from SSM parameter (/orbit/test-env-public/teams/lake-user/user/profiles).\n",
      "[2021-04-01 16:21:09,600][image.py     :102] Existing user profiles for team lake-user: []\n",
      "[2021-04-01 16:21:09,600][image.py     :116] new profile name: Workbench Apps (mid-size)\n",
      "[\u001b[94m\u001b[22m\u001b[24m Tip \u001b[0m] Profile added Workbench Apps (mid-size)\n",
      "[2021-04-01 16:21:09,600][image.py     :125] Updated user profiles for team lake-user: [{'display_name': 'Workbench Apps (mid-size)', 'description': 'Use simple custom image', 'kubespawner_override': {'image': '495869084367.dkr.ecr.us-west-2.amazonaws.com/orbit-test-env-public-users-jupyter-user-apps', 'cpu_guarantee': 4, 'cpu_limit': 4, 'mem_guarantee': '4G', 'mem_limit': '4G'}, 'slug': 'workbench-apps-mid-size'}]\n",
      "[2021-04-01 16:21:09,633][image.py     : 49] Writing team lake-user user profiles to SSM parameter.\n",
      "[2021-04-01 16:21:09,867][messages.py  :175] Progress bar: 100%\n"
     ]
    }
   ],
   "source": [
    "!orbit build profile --debug --env $env_name --team lake-user profile.json"
   ]
  },
  {
   "cell_type": "markdown",
   "id": "western-graham",
   "metadata": {},
   "source": [
    "### Running container \n",
    "\n",
    "Lets run a container using the profile and image we created"
   ]
  },
  {
   "cell_type": "code",
   "execution_count": null,
   "id": "thorough-powell",
   "metadata": {},
   "outputs": [],
   "source": [
    "import json\n",
    "run = {\n",
    "      \"compute\": {\n",
    "          \"container\" : {\n",
    "              \"p_concurrent\": \"1\"\n",
    "          },\n",
    "          \"node_type\": \"ec2\",\n",
    "          \"profile\": profile_name\n",
    "      },\n",
    "      \"tasks\":  [{\n",
    "          \"notebookName\": \"test-image.ipynb\",\n",
    "          \"sourcePath\": pwd,\n",
    "          \"targetPath\": f\"/efs/shared/regression/notebooks/I-Image/{folder_name}\",\n",
    "          \"params\": {\n",
    "          }\n",
    "        }]\n",
    " }\n",
    "\n",
    "with open(\"run.json\", 'w') as f:\n",
    "    json.dump(run, f)\n"
   ]
  },
  {
   "cell_type": "code",
   "execution_count": null,
   "id": "offshore-petersburg",
   "metadata": {},
   "outputs": [],
   "source": [
    "%%time\n",
    "\n",
    "!orbit run notebook --env $env_name --team $team_name --user testing --wait --tail-logs run.json\n"
   ]
  },
  {
   "cell_type": "code",
   "execution_count": null,
   "id": "gothic-theater",
   "metadata": {},
   "outputs": [],
   "source": []
  }
 ],
 "metadata": {
  "kernelspec": {
   "display_name": "Python 3",
   "language": "python",
   "name": "python3"
  },
  "language_info": {
   "codemirror_mode": {
    "name": "ipython",
    "version": 3
   },
   "file_extension": ".py",
   "mimetype": "text/x-python",
   "name": "python",
   "nbconvert_exporter": "python",
   "pygments_lexer": "ipython3",
   "version": "3.8.8"
  },
  "pycharm": {
   "stem_cell": {
    "cell_type": "raw",
    "metadata": {
     "collapsed": false
    },
    "source": []
   }
  }
 },
 "nbformat": 4,
 "nbformat_minor": 5
}
