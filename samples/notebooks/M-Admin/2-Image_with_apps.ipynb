{
 "cells": [
  {
   "cell_type": "markdown",
   "id": "3b7b5e21",
   "metadata": {},
   "source": [
    "<!--\n",
    "#  Copyright Amazon.com, Inc. or its affiliates. All Rights Reserved.\n",
    "#\n",
    "#    Licensed under the Apache License, Version 2.0 (the \"License\").\n",
    "#    You may not use this file except in compliance with the License.\n",
    "#    You may obtain a copy of the License at\n",
    "#\n",
    "#        http://www.apache.org/licenses/LICENSE-2.0\n",
    "#\n",
    "#    Unless required by applicable law or agreed to in writing, software\n",
    "#    distributed under the License is distributed on an \"AS IS\" BASIS,\n",
    "#    WITHOUT WARRANTIES OR CONDITIONS OF ANY KIND, either express or implied.\n",
    "#    See the License for the specific language governing permissions and\n",
    "#    limitations under the License.\n",
    "-->\n",
    "\n",
    "# This notebook creates an image with additional Applications that can be used alongside Jupyter\n",
    "\n",
    "## Content\n",
    "1. [Configuration](#Configuration)\n",
    "2. [Build Image](#Build-Image)\n"
   ]
  },
  {
   "cell_type": "markdown",
   "id": "d3611a81",
   "metadata": {},
   "source": [
    "### Configuration"
   ]
  },
  {
   "cell_type": "code",
   "execution_count": null,
   "id": "b533446d",
   "metadata": {},
   "outputs": [],
   "source": [
    "image_name = 'jupyter-with-apps'\n",
    "folder_name = '/home/jovyan/shared/samples/notebooks/M-Admin/extra_user_apps/'"
   ]
  },
  {
   "cell_type": "code",
   "execution_count": null,
   "id": "5439f62b",
   "metadata": {},
   "outputs": [],
   "source": [
    "%cd $folder_name"
   ]
  },
  {
   "cell_type": "markdown",
   "id": "31ceae82",
   "metadata": {},
   "source": [
    "### Build Image"
   ]
  },
  {
   "cell_type": "markdown",
   "id": "c6c3a63b",
   "metadata": {},
   "source": [
    "Lets see how  orbit build image works..."
   ]
  },
  {
   "cell_type": "markdown",
   "id": "0bdc5f38",
   "metadata": {},
   "source": [
    "get our orbit env and team names"
   ]
  },
  {
   "cell_type": "code",
   "execution_count": null,
   "id": "f06e8c89",
   "metadata": {},
   "outputs": [],
   "source": [
    "env_name = %env AWS_ORBIT_ENV\n",
    "team_name = %env AWS_ORBIT_TEAM_SPACE\n",
    "user_name = %env USERNAME\n",
    "namespace = %env AWS_ORBIT_USER_SPACE\n",
    "(env_name,team_name, user_name, namespace)"
   ]
  },
  {
   "cell_type": "markdown",
   "id": "5a9347d6",
   "metadata": {},
   "source": [
    "Repository name will be created from the image name prefixed by the env context.  Users are only able to manipulate ECR repos that start with 'orbit-{env_name}/users/'"
   ]
  },
  {
   "cell_type": "code",
   "execution_count": null,
   "id": "fcf2c73b",
   "metadata": {},
   "outputs": [],
   "source": [
    "repository_name = (f\"orbit-{env_name}/users/{image_name}\")\n",
    "repository_name"
   ]
  },
  {
   "cell_type": "code",
   "execution_count": null,
   "id": "60d49818",
   "metadata": {},
   "outputs": [],
   "source": [
    "!aws ecr delete-repository --repository-name $repository_name --force"
   ]
  },
  {
   "cell_type": "markdown",
   "id": "ab975b38",
   "metadata": {},
   "source": [
    "adding a file to our docker as an example"
   ]
  },
  {
   "cell_type": "code",
   "execution_count": null,
   "id": "9bc84092",
   "metadata": {},
   "outputs": [],
   "source": [
    "pwd = %pwd\n",
    "pwd"
   ]
  },
  {
   "cell_type": "markdown",
   "id": "3e243381",
   "metadata": {},
   "source": [
    "Now lets run the command"
   ]
  },
  {
   "cell_type": "code",
   "execution_count": null,
   "id": "b72b1be3",
   "metadata": {},
   "outputs": [],
   "source": [
    "%%time\n",
    "\n",
    "output = !orbit build image -e $env_name -d $pwd -n $image_name \n",
    "output"
   ]
  },
  {
   "cell_type": "markdown",
   "id": "c69711a3",
   "metadata": {},
   "source": [
    "Lets get the image address from the output of the previous command"
   ]
  },
  {
   "cell_type": "code",
   "execution_count": null,
   "id": "ab17fd53",
   "metadata": {},
   "outputs": [],
   "source": [
    "look_for = 'ECR Image Address='\n",
    "image = None\n",
    "for o in output:\n",
    "    if look_for in o:\n",
    "        image = o[o.index(look_for) + len(look_for):]\n",
    "        print(image)\n",
    "\n",
    "assert(image != None)       \n",
    "    "
   ]
  },
  {
   "cell_type": "code",
   "execution_count": null,
   "id": "928cefcc",
   "metadata": {},
   "outputs": [],
   "source": [
    "# check that the image was built\n",
    "import json\n",
    "print(repository_name)\n",
    "images = !aws ecr list-images --repository-name $repository_name\n",
    "images = \"\".join(images)\n",
    "im = json.loads(images)\n",
    "print(im['imageIds'])\n",
    "assert(len(im['imageIds']) > 0)"
   ]
  },
  {
   "cell_type": "markdown",
   "id": "bfb0b73b",
   "metadata": {},
   "source": [
    "### Building the configuration for the image"
   ]
  },
  {
   "cell_type": "markdown",
   "id": "49f344fe",
   "metadata": {},
   "source": [
    "## Users can now use the new profile to use new apps"
   ]
  },
  {
   "cell_type": "code",
   "execution_count": null,
   "id": "37b8bef8",
   "metadata": {},
   "outputs": [],
   "source": [
    "import json\n",
    "\n",
    "customname = \"orbit-custom-image-with-apps-\"+team_name\n",
    "description= \"Custom Image with Apps 2 CPU + 4G MEM\"\n",
    "podsetting={\n",
    "            \"name\": customname,\n",
    "            \"description\": description,\n",
    "            \"image\": image,\n",
    "            \"resources\":{\n",
    "                \"limits\":{            \n",
    "                    \"cpu\": \"4.0\",\n",
    "                    \"memory\": \"4Gi\"\n",
    "                    },\n",
    "                \"requests\":{\n",
    "                    \"cpu\": \"3.0\",\n",
    "                    \"memory\": \"3Gi\"\n",
    "                    }\n",
    "            },\n",
    "            \"env\":[\n",
    "                {\n",
    "                    \"name\":\"source\",\n",
    "                    \"value\":\"regressiontests\"\n",
    "                }\n",
    "            ]\n",
    "        }\n",
    "\n",
    "with open(\"podsetting_data.json\", 'w') as f:\n",
    "    json.dump(podsetting, f)"
   ]
  },
  {
   "cell_type": "code",
   "execution_count": null,
   "id": "30c3d6de",
   "metadata": {},
   "outputs": [],
   "source": [
    "!orbit build podsetting --help "
   ]
  },
  {
   "cell_type": "code",
   "execution_count": null,
   "id": "3af1241f",
   "metadata": {},
   "outputs": [],
   "source": [
    "!orbit build podsetting --debug -e $env_name -t $team_name  podsetting_data.json"
   ]
  },
  {
   "cell_type": "markdown",
   "id": "2ff9a735",
   "metadata": {},
   "source": [
    "## To Delete the podsetting, your command would look like this\n",
    "\n",
    "\n",
    "!orbit delete podsetting -n {customname} -t {team_name} --debug"
   ]
  },
  {
   "cell_type": "markdown",
   "id": "65a93003",
   "metadata": {},
   "source": [
    "***"
   ]
  },
  {
   "cell_type": "markdown",
   "id": "f4a8f733",
   "metadata": {},
   "source": [
    "## OPTIONAL: You can use kubectl to load the podsettings as indicated below \n",
    "\n",
    "### (convert the cells to code from markdown)"
   ]
  },
  {
   "cell_type": "markdown",
   "id": "4244b596",
   "metadata": {},
   "source": [
    "import json\n",
    "\n",
    "customname = \"orbit-custom-image-with-apps-\"+team_name\n",
    "\n",
    "with open(\"podsetting.yaml\", \"w\") as file:\n",
    "    file.write(\"\"\"\n",
    "    kind: PodSetting\n",
    "    apiVersion: orbit.aws/v1\n",
    "    metadata:\n",
    "      labels:\n",
    "        orbit/env: {env_name}\n",
    "        orbit/space: team\n",
    "        orbit/team: {team_name}\n",
    "      name: {customname}\n",
    "      namespace: {team_name}\n",
    "    spec:\n",
    "      containerSelector:\n",
    "        jsonpath: metadata.labels.app\n",
    "      desc: Custom Image Example {customname}\n",
    "      env:\n",
    "        - name: custom_name\n",
    "          value: custom_value\n",
    "      image: >-\n",
    "        {image}\n",
    "      podSelector:\n",
    "        matchExpressions:\n",
    "          - key: orbit/{customname}\n",
    "            operator: Exists\n",
    "          - key: app\n",
    "            operator: NotIn\n",
    "            values:\n",
    "              - orbit-runner\n",
    "      resources:\n",
    "        limits:\n",
    "          cpu: '4.0'\n",
    "          memory: 4Gi\n",
    "        requests:\n",
    "          cpu: '4.0'\n",
    "          memory: 4Gi\n",
    "      securityContext:\n",
    "        runAsUser: 1000\n",
    "    \"\"\".format(team_name=team_name,env_name=env_name,customname=customname,image=image)\n",
    ")\n"
   ]
  },
  {
   "cell_type": "markdown",
   "id": "a4d135aa",
   "metadata": {},
   "source": [
    "!kubectl apply -f podsetting.yaml -n {team_name}"
   ]
  },
  {
   "cell_type": "code",
   "execution_count": null,
   "id": "e9ab731a",
   "metadata": {},
   "outputs": [],
   "source": []
  }
 ],
 "metadata": {
  "kernelspec": {
   "display_name": "Python 3",
   "language": "python",
   "name": "python3"
  },
  "language_info": {
   "codemirror_mode": {
    "name": "ipython",
    "version": 3
   },
   "file_extension": ".py",
   "mimetype": "text/x-python",
   "name": "python",
   "nbconvert_exporter": "python",
   "pygments_lexer": "ipython3",
   "version": "3.8.8"
  }
 },
 "nbformat": 4,
 "nbformat_minor": 5
}
