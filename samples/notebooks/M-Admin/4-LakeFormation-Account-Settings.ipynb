{
 "cells": [
  {
   "cell_type": "markdown",
   "source": [
    "# LakeFormation Example Notebook\n",
    "***Creating LakeFormation and Secured Database with Granular Security Access***\n",
    "\n",
    "___\n",
    "\n",
    "## Contents\n",
    "\n",
    "1. [Introduction](#Introduction)\n",
    "2. [Setup](#Setup)\n",
    "  1. [Imports](#Imports)\n",
    "  2. [Create Low-Level Clients](#Create-Low-Level-Clients)\n",
    "  3. [Athena Connection](#Athena-Connection)\n",
    "3. LaKeFormation\n",
    "    1. Get account lake formation settings\n",
    "    2. Set account lake formation settings\n",
    "    3. Create LakeFormation Policy tags\n",
    "    4. Add policy tag permissions to orbit lake-creator IAM role\n",
    "    5. Add policy tag permissions mapping to database and tables\n",
    "\n",
    "___\n",
    "## Introduction\n",
    "\n",
    "In this notebook, we demonstrate how to change account LakeFormation settings, create Policy Tags, assign Policy Tag permissions to IAM roles.\n",
    "\n",
    "This is the first step in setting up our Data Lake before we can securely start analyzing our data, typically through reporting, visualization, advanced analytics and machine learning methodologies.\n",
    "\n",
    "\n",
    "---\n",
    "\n",
    "#### Author: AWS Professional Services Emerging Technology and Intelligent Platforms Group\n",
    "#### Date: June 10 2021\n"
   ],
   "metadata": {
    "collapsed": false
   }
  },
  {
   "cell_type": "markdown",
   "source": [
    "## Setup\n",
    "\n",
    "#### Imports and Parameters\n",
    "First, let's import all of the modules we will need for our lake formation. Lets store our session state so that we can create service clients and resources later on.\n",
    "\n",
    "Next, lets define the location of our unsecured databased, a secured db location, assert we are indeed the lake-creator\n",
    "(**Note:** We cannot run this notebook if we are not the lake-creator):"
   ],
   "metadata": {
    "collapsed": false
   }
  },
  {
   "cell_type": "code",
   "execution_count": null,
   "id": "00c6a9ad",
   "metadata": {},
   "outputs": [],
   "source": [
    "# Imports\n",
    "\n",
    "import boto3\n",
    "import pprint\n",
    "# Import orbit helpers\n",
    "from aws_orbit_sdk.common import get_workspace\n"
   ]
  },
  {
   "cell_type": "code",
   "execution_count": null,
   "id": "3746797d",
   "metadata": {},
   "outputs": [],
   "source": [
    "# Clients\n",
    "lfc = boto3.client('lakeformation')\n",
    "iamc = boto3.client('iam')\n",
    "ssmc = boto3.client('ssm')\n",
    "gluec = boto3.client('glue')"
   ]
  },
  {
   "cell_type": "code",
   "execution_count": null,
   "outputs": [],
   "source": [
    "# Define parameters\n",
    "workspace = get_workspace()\n",
    "catalog_id = workspace['EksPodRoleArn'].split(':')[-2]\n",
    "\n",
    "orbit_data_lake_admin_role_arn = workspace['EksPodRoleArn']\n",
    "orbit_data_lake_creartor_role_arn = workspace['EksPodRoleArn'].replace(\"-admin-\", \"-creator-\")\n",
    "orbit_data_lake_user_role_arn = workspace['EksPodRoleArn'].replace(\"-admin-\", \"-user-\")\n",
    "orbit_env_admin_role_arn = workspace['EksPodRoleArn'].replace(\"-lake-admin-role\", \"-admin\")\n",
    "\n",
    "orbit_env_lf_tag_key = workspace['env_name']+'-security-level'\n",
    "\n",
    "catalog_id = orbit_data_lake_admin_role_arn.split(':')[-2]\n",
    "\n",
    "team_space = workspace['team_space']\n",
    "assert team_space == 'lake-admin'"
   ],
   "metadata": {
    "collapsed": false,
    "pycharm": {
     "name": "#%%\n"
    }
   }
  },
  {
   "cell_type": "markdown",
   "id": "11304c33",
   "metadata": {
    "pycharm": {
     "name": "#%% md\n"
    }
   },
   "source": [
    "# Get account lake formation settings"
   ]
  },
  {
   "cell_type": "code",
   "execution_count": null,
   "id": "2dcbc90f",
   "metadata": {},
   "outputs": [],
   "source": [
    "lf_get_account_setting_response = lfc.get_data_lake_settings(\n",
    "    CatalogId=catalog_id\n",
    ")"
   ]
  },
  {
   "cell_type": "code",
   "execution_count": null,
   "id": "7e6e7dfa",
   "metadata": {},
   "outputs": [],
   "source": [
    "assert lf_get_account_setting_response['DataLakeSettings']"
   ]
  },
  {
   "cell_type": "code",
   "execution_count": null,
   "id": "5290953f",
   "metadata": {},
   "outputs": [],
   "source": [
    "pprint.pprint(lf_get_account_setting_response)"
   ]
  },
  {
   "cell_type": "markdown",
   "id": "f466c143",
   "metadata": {},
   "source": [
    "# Set account lake formation settings\n",
    "\n",
    "- Add orbit lake admin to account LakeFormation administrators\n",
    "- Change account lake formation default permissions for newly created databases and tables"
   ]
  },
  {
   "cell_type": "code",
   "execution_count": null,
   "id": "b1c33781",
   "metadata": {},
   "outputs": [],
   "source": [
    "def add_lake_formation_admin(role_arn, role_check_flag=True):\n",
    "    lf = boto3.client('lakeformation')\n",
    "    iam = boto3.client('iam')\n",
    "    initial_settings = lfc.get_data_lake_settings()\n",
    "\n",
    "    lf_admins = initial_settings['DataLakeSettings']['DataLakeAdmins']\n",
    "    print(f\"previous admins:{lf_admins}\")\n",
    "    new_lf_admins = []\n",
    "\n",
    "    # remove no longer valid iam roles since put_data_lake_settings cannot handle that\n",
    "    for admin in lf_admins:\n",
    "        admin_role_name = admin['DataLakePrincipalIdentifier'].split('/')[-1]\n",
    "        try:\n",
    "            if role_check_flag:\n",
    "                role = iam.get_role(RoleName=admin_role_name)\n",
    "            new_lf_admins.append(admin)\n",
    "        except:\n",
    "            print(f\"invalid role name from datalake settings: {admin_role_name}\")\n",
    "            continue\n",
    "\n",
    "    new_lf_admins.append({\n",
    "        'DataLakePrincipalIdentifier': role_arn\n",
    "    })\n",
    "\n",
    "    print(f\"new admins:{new_lf_admins}\")\n",
    "\n",
    "    initial_settings['DataLakeSettings']['DataLakeAdmins'] = new_lf_admins\n",
    "    print(initial_settings['DataLakeSettings'])\n",
    "\n",
    "    response = lf.put_data_lake_settings(\n",
    "        DataLakeSettings=initial_settings['DataLakeSettings']\n",
    "    )\n",
    "\n",
    "    if response['ResponseMetadata']['HTTPStatusCode'] == 200:\n",
    "        return 0\n",
    "    print(\"failed putting data lake settings\")\n",
    "    print(response)\n",
    "    return -1"
   ]
  },
  {
   "cell_type": "code",
   "execution_count": null,
   "outputs": [],
   "source": [
    "add_response = add_lake_formation_admin(role_arn=orbit_data_lake_admin_role_arn, role_check_flag=True)"
   ],
   "metadata": {
    "collapsed": false,
    "pycharm": {
     "name": "#%%\n"
    }
   }
  },
  {
   "cell_type": "code",
   "execution_count": null,
   "outputs": [],
   "source": [
    "add_response = add_lake_formation_admin(role_arn=orbit_data_lake_creartor_role_arn, role_check_flag=False)\n"
   ],
   "metadata": {
    "collapsed": false,
    "pycharm": {
     "name": "#%%\n"
    }
   }
  },
  {
   "cell_type": "code",
   "execution_count": null,
   "outputs": [],
   "source": [
    "assert add_response == 0\n"
   ],
   "metadata": {
    "collapsed": false,
    "pycharm": {
     "name": "#%%\n"
    }
   }
  },
  {
   "cell_type": "markdown",
   "id": "97250af6",
   "metadata": {},
   "source": [
    "# Create LakeFormation Policy tags"
   ]
  },
  {
   "cell_type": "code",
   "execution_count": null,
   "id": "f1435ecc",
   "metadata": {},
   "outputs": [],
   "source": [
    "try:\n",
    "    delete_lf_tag_response = lfc.delete_lf_tag(\n",
    "        CatalogId= catalog_id,\n",
    "        TagKey= orbit_env_lf_tag_key\n",
    "    )\n",
    "except Exception as e:\n",
    "    print('Creating lake formation policy tags for the first time.')\n",
    "    print(e)"
   ]
  },
  {
   "cell_type": "code",
   "execution_count": null,
   "id": "13e27439",
   "metadata": {},
   "outputs": [],
   "source": [
    "create_lf_tag_response = lfc.create_lf_tag(\n",
    "    CatalogId= catalog_id,\n",
    "    TagKey= orbit_env_lf_tag_key,\n",
    "    TagValues=[\n",
    "        'sec-1',\n",
    "        'sec-2',\n",
    "        'sec-3',\n",
    "        'sec-4',\n",
    "        'sec-5',\n",
    "    ]\n",
    ")"
   ]
  },
  {
   "cell_type": "markdown",
   "id": "1aee92aa",
   "metadata": {},
   "source": [
    "# Add policy tag permissions to orbit lake-creator IAM role.\n",
    "-  Adding DESCRIBE and ASSOCIATE permissions with grant options.\n"
   ]
  },
  {
   "cell_type": "code",
   "execution_count": null,
   "id": "ce38e67e",
   "metadata": {},
   "outputs": [],
   "source": [
    "try:\n",
    "    lake_creator_revoke_permissions_response = lfc.revoke_permissions(\n",
    "        CatalogId=catalog_id,\n",
    "        Principal={\n",
    "            'DataLakePrincipalIdentifier': orbit_data_lake_creartor_role_arn\n",
    "        },\n",
    "        Resource={\n",
    "            'LFTag': {\n",
    "                'CatalogId': catalog_id,\n",
    "                'TagKey': orbit_env_lf_tag_key,\n",
    "                'TagValues': [\n",
    "                    'sec-1',\n",
    "                    'sec-2',\n",
    "                    'sec-3',\n",
    "                    'sec-4',\n",
    "                    'sec-5',\n",
    "                ]\n",
    "            }\n",
    "        },\n",
    "        Permissions=[ 'DESCRIBE', 'ASSOCIATE' ],\n",
    "        PermissionsWithGrantOption=['DESCRIBE', 'ASSOCIATE' ]\n",
    "    )\n",
    "except Exception as e:\n",
    "    print(f'Granting Lakeformation policy tag permissions to {orbit_data_lake_creartor_role_arn} first time.')    \n",
    "    print(e)"
   ]
  },
  {
   "cell_type": "code",
   "execution_count": null,
   "id": "c8a3e7c3",
   "metadata": {},
   "outputs": [],
   "source": [
    "lake_creator_grant_permissions_response = lfc.grant_permissions(\n",
    "    CatalogId=catalog_id,\n",
    "    Principal={\n",
    "        'DataLakePrincipalIdentifier': orbit_data_lake_creartor_role_arn\n",
    "    },\n",
    "    Resource={\n",
    "        'LFTag': {\n",
    "            'CatalogId': catalog_id,\n",
    "            'TagKey': orbit_env_lf_tag_key,\n",
    "            'TagValues': [\n",
    "                'sec-1',\n",
    "                'sec-2',\n",
    "                'sec-3',\n",
    "                'sec-4',\n",
    "                'sec-5',\n",
    "            ]\n",
    "        }\n",
    "    },\n",
    "    Permissions=[ 'DESCRIBE', 'ASSOCIATE' ],\n",
    "    PermissionsWithGrantOption=['DESCRIBE', 'ASSOCIATE' ]\n",
    ")\n"
   ]
  },
  {
   "cell_type": "markdown",
   "id": "0b52da56",
   "metadata": {},
   "source": [
    "# Add policy tag permissions mapping to database and tables\n",
    "\n",
    "- Add DESCRIBE and SELECT permissions to IAM role(orbit lake user) over database and tables\n",
    "- Conditional expression for policy tagging is  <env_name>-security-level:sec-5"
   ]
  },
  {
   "cell_type": "code",
   "execution_count": null,
   "id": "9a8ee68c",
   "metadata": {},
   "outputs": [],
   "source": [
    "lu_db_grant_permissions_response = lfc.grant_permissions(\n",
    "    CatalogId=catalog_id,\n",
    "    Principal={\n",
    "        'DataLakePrincipalIdentifier': orbit_data_lake_user_role_arn\n",
    "    },\n",
    "    Resource={\n",
    "        'LFTagPolicy': {\n",
    "                    'CatalogId': catalog_id,\n",
    "                    'ResourceType': 'DATABASE',\n",
    "                    'Expression': [\n",
    "                        {\n",
    "                            'TagKey': orbit_env_lf_tag_key,\n",
    "                            'TagValues': [\n",
    "                                'sec-5',\n",
    "                            ]\n",
    "                        },\n",
    "                    ]\n",
    "                }\n",
    "    },\n",
    "    Permissions=[\n",
    "        'DESCRIBE'\n",
    "    ],\n",
    "    \n",
    ")\n"
   ]
  },
  {
   "cell_type": "code",
   "execution_count": null,
   "id": "198219e9",
   "metadata": {},
   "outputs": [],
   "source": [
    "lu_db_table_grant_permissions_response = lfc.grant_permissions(\n",
    "    CatalogId=catalog_id,\n",
    "    Principal={\n",
    "        'DataLakePrincipalIdentifier': orbit_data_lake_user_role_arn\n",
    "    },\n",
    "    Resource={\n",
    "        'LFTagPolicy': {\n",
    "                    'CatalogId': catalog_id,\n",
    "                    'ResourceType': 'TABLE',\n",
    "                    'Expression': [\n",
    "                        {\n",
    "                            'TagKey': orbit_env_lf_tag_key,\n",
    "                            'TagValues': [\n",
    "                                'sec-5',\n",
    "                            ]\n",
    "                        },\n",
    "                    ]\n",
    "                }\n",
    "    },\n",
    "    Permissions=[\n",
    "        'SELECT'\n",
    "    ],\n",
    "    \n",
    ")\n"
   ]
  },
  {
   "cell_type": "markdown",
   "id": "3f508d9e",
   "metadata": {},
   "source": [
    "# End of Orbit lake admin demo notebook."
   ]
  }
 ],
 "metadata": {
  "kernelspec": {
   "display_name": "Python 3",
   "language": "python",
   "name": "python3"
  },
  "language_info": {
   "codemirror_mode": {
    "name": "ipython",
    "version": 3
   },
   "file_extension": ".py",
   "mimetype": "text/x-python",
   "name": "python",
   "nbconvert_exporter": "python",
   "pygments_lexer": "ipython3",
   "version": "3.8.8"
  }
 },
 "nbformat": 4,
 "nbformat_minor": 5
}