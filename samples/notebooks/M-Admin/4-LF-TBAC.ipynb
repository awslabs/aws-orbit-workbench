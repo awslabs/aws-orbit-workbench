{
 "cells": [
  {
   "cell_type": "code",
   "execution_count": null,
   "id": "526dac7c",
   "metadata": {},
   "outputs": [],
   "source": [
    "# Lake Administrator Demo Notebook\n",
    "## List of activities\n",
    "## 0 - Get Lake Formation Administrator access - TODO - Use Boto3 to get this access. \n",
    "## 1 - Set Account level lake formation settings for CreateDatabaseDefaultPermissions and CreateTableDefaultPermissions\n",
    "## 2 - Delete Lakeformation Policy tags\n",
    "## 3 - Create Lakeformation Policy tags\n"
   ]
  },
  {
   "cell_type": "code",
   "execution_count": null,
   "id": "00c6a9ad",
   "metadata": {},
   "outputs": [],
   "source": [
    "# Imports\n",
    "import json \n",
    "import boto3\n",
    "import logging\n",
    "import pprint\n",
    "from pandas import DataFrame\n",
    "logging.basicConfig(\n",
    "    format='%(asctime)s %(levelname)-8s %(message)s',\n",
    "    level=logging.INFO,\n",
    "    datefmt='%Y-%m-%d %H:%M:%S')\n",
    "logger = logging.getLogger()"
   ]
  },
  {
   "cell_type": "code",
   "execution_count": null,
   "id": "8ea6ebee",
   "metadata": {},
   "outputs": [],
   "source": [
    "# Import orbit helpers\n",
    "from lakeformation_utils import *\n",
    "from aws_orbit_sdk.database import get_athena\n",
    "from aws_orbit_sdk.common import get_workspace,get_scratch_database\n",
    "workspace = get_workspace()\n",
    "catalog_id = workspace['EksPodRoleArn'].split(':')[-2] \n",
    "\n",
    "orbit_data_lake_admin_role_arn = workspace['EksPodRoleArn']\n",
    "orbit_data_lake_creartor_role_arn = workspace['EksPodRoleArn'].replace(\"-admin-\", \"-creator-\")\n",
    "orbit_data_lake_user_role_arn = workspace['EksPodRoleArn'].replace(\"-admin-\", \"-user-\")\n",
    "\n",
    "catalog_id = orbit_data_lake_admin_role_arn.split(':')[-2] \n",
    "\n",
    "team_space = workspace['team_space']\n",
    "assert team_space == 'lake-admin'\n"
   ]
  },
  {
   "cell_type": "code",
   "execution_count": null,
   "id": "3746797d",
   "metadata": {},
   "outputs": [],
   "source": [
    "# Clients\n",
    "lfc = boto3.client('lakeformation')\n",
    "iamc = boto3.client('iam')\n",
    "ssmc = boto3.client('ssm')\n",
    "gluec = boto3.client('glue')"
   ]
  },
  {
   "cell_type": "code",
   "execution_count": null,
   "id": "11304c33",
   "metadata": {},
   "outputs": [],
   "source": [
    "# Step 0 - Get account lake formation settings"
   ]
  },
  {
   "cell_type": "code",
   "execution_count": null,
   "id": "2dcbc90f",
   "metadata": {},
   "outputs": [],
   "source": [
    "lf_get_account_setting_response = lfc.get_data_lake_settings(\n",
    "    CatalogId=catalog_id\n",
    ")"
   ]
  },
  {
   "cell_type": "code",
   "execution_count": null,
   "id": "7e6e7dfa",
   "metadata": {},
   "outputs": [],
   "source": [
    "assert 200 == lf_get_account_setting_response['ResponseMetadata']['HTTPStatusCode']"
   ]
  },
  {
   "cell_type": "code",
   "execution_count": null,
   "id": "5290953f",
   "metadata": {},
   "outputs": [],
   "source": [
    "pprint.pprint(lf_get_account_setting_response)"
   ]
  },
  {
   "cell_type": "markdown",
   "id": "f466c143",
   "metadata": {},
   "source": [
    "# Step 1  \n",
    "## Add orbit lake admin to account lakeformation administrators\n",
    "## Change account lake formation default permissions for newly created databases and tables"
   ]
  },
  {
   "cell_type": "code",
   "execution_count": null,
   "id": "b1c33781",
   "metadata": {},
   "outputs": [],
   "source": [
    "if 200 == lf_get_account_setting_response['ResponseMetadata']['HTTPStatusCode']:\n",
    "    data_lake_principal_identifiers = lf_get_account_setting_response['DataLakeSettings']['DataLakeAdmins']\n",
    "    account_lf_admin_arns = [lake_admin['DataLakePrincipalIdentifier'] for lake_admin in data_lake_principal_identifiers]\n"
   ]
  },
  {
   "cell_type": "code",
   "execution_count": null,
   "id": "7498483b",
   "metadata": {},
   "outputs": [],
   "source": [
    "data_lake_principal_identifiers"
   ]
  },
  {
   "cell_type": "code",
   "execution_count": null,
   "id": "4697779c",
   "metadata": {},
   "outputs": [],
   "source": [
    "if orbit_data_lake_admin_role_arn not in account_lf_admin_arns:\n",
    "    data_lake_principal_identifiers.append({'DataLakePrincipalIdentifier': orbit_data_lake_admin_role_arn})"
   ]
  },
  {
   "cell_type": "code",
   "execution_count": null,
   "id": "1b9daa95",
   "metadata": {},
   "outputs": [],
   "source": [
    "data_lake_principal_identifiers"
   ]
  },
  {
   "cell_type": "code",
   "execution_count": null,
   "id": "5ea5cd10",
   "metadata": {},
   "outputs": [],
   "source": [
    "lf_put_account_setting_response = lfc.put_data_lake_settings(\n",
    "    CatalogId=catalog_id,\n",
    "    DataLakeSettings={\n",
    "        'DataLakeAdmins': data_lake_principal_identifiers,\n",
    "        'CreateDatabaseDefaultPermissions': [],\n",
    "        'CreateTableDefaultPermissions': []\n",
    "    }\n",
    ")\n"
   ]
  },
  {
   "cell_type": "code",
   "execution_count": null,
   "id": "28ab7a48",
   "metadata": {},
   "outputs": [],
   "source": [
    "assert 200 == lf_put_account_setting_response['ResponseMetadata']['HTTPStatusCode']"
   ]
  },
  {
   "cell_type": "markdown",
   "id": "97250af6",
   "metadata": {},
   "source": [
    "# Step 2 - Create Lakeformation Policy tags for the demo"
   ]
  },
  {
   "cell_type": "code",
   "execution_count": null,
   "id": "f1435ecc",
   "metadata": {},
   "outputs": [],
   "source": [
    "try:\n",
    "    delete_lf_tag_response = lfc.delete_lf_tag(\n",
    "        CatalogId= catalog_id,\n",
    "        TagKey='security-level'    \n",
    "    )\n",
    "except Exception as e:\n",
    "    print('Creating lake formation policy tags for the first time.')\n",
    "    print(e)"
   ]
  },
  {
   "cell_type": "code",
   "execution_count": null,
   "id": "13e27439",
   "metadata": {},
   "outputs": [],
   "source": [
    "create_lf_tag_response = lfc.create_lf_tag(\n",
    "    CatalogId= catalog_id,\n",
    "    TagKey='security-level',\n",
    "    TagValues=[\n",
    "        'sec-1',\n",
    "        'sec-2',\n",
    "        'sec-3',\n",
    "        'sec-4',\n",
    "        'sec-5',\n",
    "    ]\n",
    ")"
   ]
  },
  {
   "cell_type": "code",
   "execution_count": null,
   "id": "faaaeb8f",
   "metadata": {},
   "outputs": [],
   "source": [
    "assert 200 == create_lf_tag_response['ResponseMetadata']['HTTPStatusCode']"
   ]
  },
  {
   "cell_type": "markdown",
   "id": "1aee92aa",
   "metadata": {},
   "source": [
    "# Step 3 - Add policy tag permissions to orbit lake-creator IAM role."
   ]
  },
  {
   "cell_type": "markdown",
   "id": "284b2389",
   "metadata": {},
   "source": [
    "## Adding DESCRIBE and ASSOCIATE permissions with grant option too.\n"
   ]
  },
  {
   "cell_type": "code",
   "execution_count": null,
   "id": "173d9a0e",
   "metadata": {},
   "outputs": [],
   "source": [
    "# Revisit if we need with grant option"
   ]
  },
  {
   "cell_type": "code",
   "execution_count": null,
   "id": "ce38e67e",
   "metadata": {},
   "outputs": [],
   "source": [
    "try:\n",
    "    lake_creator_revoke_permissions_response = lfc.revoke_permissions(\n",
    "        CatalogId=catalog_id,\n",
    "        Principal={\n",
    "            'DataLakePrincipalIdentifier': orbit_data_lake_creartor_role_arn\n",
    "        },\n",
    "        Resource={\n",
    "            'LFTag': {\n",
    "                'CatalogId': catalog_id,\n",
    "                'TagKey': 'security-level',\n",
    "                'TagValues': [\n",
    "                    'sec-1',\n",
    "                    'sec-2',\n",
    "                    'sec-3',\n",
    "                    'sec-4',\n",
    "                    'sec-5',\n",
    "                ]\n",
    "            }\n",
    "        },\n",
    "        Permissions=[ 'DESCRIBE', 'ASSOCIATE' ],\n",
    "        PermissionsWithGrantOption=['DESCRIBE', 'ASSOCIATE' ]\n",
    "    )\n",
    "except Exception as e:\n",
    "    print(f'Granting Lakeformation policy tag permissions to {orbit_data_lake_creartor_role_arn} first time.')    \n",
    "    print(e)"
   ]
  },
  {
   "cell_type": "code",
   "execution_count": null,
   "id": "c8a3e7c3",
   "metadata": {},
   "outputs": [],
   "source": [
    "lake_creator_grant_permissions_response = lfc.grant_permissions(\n",
    "    CatalogId=catalog_id,\n",
    "    Principal={\n",
    "        'DataLakePrincipalIdentifier': orbit_data_lake_creartor_role_arn\n",
    "    },\n",
    "    Resource={\n",
    "        'LFTag': {\n",
    "            'CatalogId': catalog_id,\n",
    "            'TagKey': 'security-level',\n",
    "            'TagValues': [\n",
    "                'sec-1',\n",
    "                'sec-2',\n",
    "                'sec-3',\n",
    "                'sec-4',\n",
    "                'sec-5',\n",
    "            ]\n",
    "        }\n",
    "    },\n",
    "    Permissions=[ 'DESCRIBE', 'ASSOCIATE' ],\n",
    "    PermissionsWithGrantOption=['DESCRIBE', 'ASSOCIATE' ]\n",
    ")"
   ]
  },
  {
   "cell_type": "code",
   "execution_count": null,
   "id": "cab4bd04",
   "metadata": {},
   "outputs": [],
   "source": [
    "assert 200 == lake_creator_grant_permissions_response['ResponseMetadata']['HTTPStatusCode']"
   ]
  },
  {
   "cell_type": "markdown",
   "id": "0b52da56",
   "metadata": {},
   "source": [
    "# Step 4 - Add DESCRIBE and SELECT permissions for Lakeformation policy tag security-level:sec-5 to orbit lake user IAM role."
   ]
  },
  {
   "cell_type": "code",
   "execution_count": null,
   "id": "9a8ee68c",
   "metadata": {},
   "outputs": [],
   "source": [
    "lu_db_grant_permissions_response = lfc.grant_permissions(\n",
    "    CatalogId=catalog_id,\n",
    "    Principal={\n",
    "        'DataLakePrincipalIdentifier': orbit_data_lake_user_role_arn\n",
    "    },\n",
    "    Resource={\n",
    "        'LFTagPolicy': {\n",
    "                    'CatalogId': catalog_id,\n",
    "                    'ResourceType': 'DATABASE',\n",
    "                    'Expression': [\n",
    "                        {\n",
    "                            'TagKey': 'security-level',\n",
    "                            'TagValues': [\n",
    "                                'sec-5',\n",
    "                            ]\n",
    "                        },\n",
    "                    ]\n",
    "                }\n",
    "    },\n",
    "    Permissions=[\n",
    "        'DESCRIBE'\n",
    "    ],\n",
    "    \n",
    ")"
   ]
  },
  {
   "cell_type": "code",
   "execution_count": null,
   "id": "fd142e7a",
   "metadata": {},
   "outputs": [],
   "source": [
    "assert 200 == lu_db_grant_permissions_response['ResponseMetadata']['HTTPStatusCode']"
   ]
  },
  {
   "cell_type": "code",
   "execution_count": null,
   "id": "198219e9",
   "metadata": {},
   "outputs": [],
   "source": [
    "lu_db_table_grant_permissions_response = lfc.grant_permissions(\n",
    "    CatalogId=catalog_id,\n",
    "    Principal={\n",
    "        'DataLakePrincipalIdentifier': orbit_data_lake_user_role_arn\n",
    "    },\n",
    "    Resource={\n",
    "        'LFTagPolicy': {\n",
    "                    'CatalogId': catalog_id,\n",
    "                    'ResourceType': 'TABLE',\n",
    "                    'Expression': [\n",
    "                        {\n",
    "                            'TagKey': 'security-level',\n",
    "                            'TagValues': [\n",
    "                                'sec-5',\n",
    "                            ]\n",
    "                        },\n",
    "                    ]\n",
    "                }\n",
    "    },\n",
    "    Permissions=[\n",
    "        'SELECT'\n",
    "    ],\n",
    "    \n",
    ")"
   ]
  },
  {
   "cell_type": "code",
   "execution_count": null,
   "id": "4575f193",
   "metadata": {},
   "outputs": [],
   "source": [
    "assert 200 == lu_db_table_grant_permissions_response['ResponseMetadata']['HTTPStatusCode']"
   ]
  },
  {
   "cell_type": "markdown",
   "id": "3f508d9e",
   "metadata": {},
   "source": [
    "# End of Orbit lake admin demo notebook."
   ]
  }
 ],
 "metadata": {
  "kernelspec": {
   "display_name": "Python 3",
   "language": "python",
   "name": "python3"
  },
  "language_info": {
   "codemirror_mode": {
    "name": "ipython",
    "version": 3
   },
   "file_extension": ".py",
   "mimetype": "text/x-python",
   "name": "python",
   "nbconvert_exporter": "python",
   "pygments_lexer": "ipython3",
   "version": "3.8.8"
  }
 },
 "nbformat": 4,
 "nbformat_minor": 5
}
