{
 "cells": [
  {
   "cell_type": "markdown",
   "metadata": {
    "papermill": {
     "duration": 0.079672,
     "end_time": "2020-03-03T13:56:37.575779",
     "exception": false,
     "start_time": "2020-03-03T13:56:37.496107",
     "status": "completed"
    },
    "tags": []
   },
   "source": [
    "<!--\n",
    "#  Copyright Amazon.com, Inc. or its affiliates. All Rights Reserved.\n",
    "#\n",
    "#    Licensed under the Apache License, Version 2.0 (the \"License\").\n",
    "#    You may not use this file except in compliance with the License.\n",
    "#    You may obtain a copy of the License at\n",
    "#\n",
    "#        http://www.apache.org/licenses/LICENSE-2.0\n",
    "#\n",
    "#    Unless required by applicable law or agreed to in writing, software\n",
    "#    distributed under the License is distributed on an \"AS IS\" BASIS,\n",
    "#    WITHOUT WARRANTIES OR CONDITIONS OF ANY KIND, either express or implied.\n",
    "#    See the License for the specific language governing permissions and\n",
    "#    limitations under the License.\n",
    "-->\n",
    "\n",
    "# Creating EBS Volume for Teams to use\n",
    "## Content\n",
    "1. Admin Operations\n",
    "    1. [Parameters](#Parameters)\n",
    "    2. [Cleanup](#Cleanup)\n",
    "    3. [Creating the EBS Volume](#Creating-the-EBS-Volume)\n",
    "    4. [Creating the K8 Volume](#Creating-the-K8-Volume)\n",
    "2. User Operations\n",
    "    1. [Creating the K8 Volume Claim](#Creating-the-K8-Volume-Claim)\n",
    "    2. [Creating the Profile with the required AZ](#Creating-the-Profile-with-the-required-AZ)\n",
    "    3. [Running the container](#Running-the-container)\n",
    "---\n",
    "---\n",
    "\n",
    "\n",
    "\n"
   ]
  },
  {
   "cell_type": "code",
   "execution_count": null,
   "metadata": {},
   "outputs": [],
   "source": [
    "from aws_orbit_sdk import controller\n",
    "from aws_orbit_sdk.magics.orbit import OrbitWorkbenchMagics \n",
    "import json\n",
    "import boto3\n",
    "from aws_orbit_sdk.common import get_workspace"
   ]
  },
  {
   "cell_type": "code",
   "execution_count": null,
   "metadata": {},
   "outputs": [],
   "source": [
    "# we will need the team kms key from workspace\n",
    "workspace = get_workspace()\n",
    "team_kms_key = workspace['TeamKmsKeyArn']\n",
    "image = workspace['BaseImageAddress']"
   ]
  },
  {
   "cell_type": "code",
   "execution_count": null,
   "metadata": {},
   "outputs": [],
   "source": [
    "%cd ebs"
   ]
  },
  {
   "cell_type": "code",
   "execution_count": null,
   "metadata": {},
   "outputs": [],
   "source": [
    "env_name = %env AWS_ORBIT_ENV\n",
    "team_name = %env AWS_ORBIT_TEAM_SPACE\n",
    "(env_name,team_name)"
   ]
  },
  {
   "cell_type": "markdown",
   "metadata": {},
   "source": [
    "## Parameters"
   ]
  },
  {
   "cell_type": "code",
   "execution_count": null,
   "metadata": {},
   "outputs": [],
   "source": [
    "pv_name = 'my-pv1'\n",
    "pvc_name = 'my-pvc1'\n",
    "az = 'us-west-2a'\n",
    "volume_size = 20 #gb"
   ]
  },
  {
   "cell_type": "markdown",
   "metadata": {},
   "source": [
    "## Cleanup"
   ]
  },
  {
   "cell_type": "code",
   "execution_count": null,
   "metadata": {},
   "outputs": [],
   "source": [
    "!kubectl delete pvc $pvc_name --force"
   ]
  },
  {
   "cell_type": "code",
   "execution_count": null,
   "metadata": {},
   "outputs": [],
   "source": [
    "!kubectl delete pv $pv_name --force"
   ]
  },
  {
   "cell_type": "markdown",
   "metadata": {},
   "source": [
    "## Creating the EBS Volume"
   ]
  },
  {
   "cell_type": "code",
   "execution_count": null,
   "metadata": {},
   "outputs": [],
   "source": [
    "!echo aws ec2 create-volume --availability-zone=$az --encrypted \\\n",
    "           --size=$volume_size --volume-type=gp2 --kms-key-id $team_kms_key"
   ]
  },
  {
   "cell_type": "code",
   "execution_count": null,
   "metadata": {},
   "outputs": [],
   "source": [
    "res = !aws ec2 create-volume --availability-zone=$az --encrypted \\\n",
    "           --size=$volume_size --volume-type=gp2 \n",
    "res"
   ]
  },
  {
   "cell_type": "code",
   "execution_count": null,
   "metadata": {},
   "outputs": [],
   "source": [
    "ebs_vol = json.loads('\\n'.join(res))\n",
    "ebs_vol"
   ]
  },
  {
   "cell_type": "code",
   "execution_count": null,
   "metadata": {},
   "outputs": [],
   "source": [
    "volume_id = ebs_vol['VolumeId']\n",
    "volume_id"
   ]
  },
  {
   "cell_type": "code",
   "execution_count": null,
   "metadata": {},
   "outputs": [],
   "source": [
    "!aws ec2 wait volume-available --volume-ids $volume_id"
   ]
  },
  {
   "cell_type": "markdown",
   "metadata": {},
   "source": [
    "## Creating the K8 Volume"
   ]
  },
  {
   "cell_type": "code",
   "execution_count": null,
   "metadata": {},
   "outputs": [],
   "source": [
    "with open(\"pv.yaml\", \"w\") as file:\n",
    "    file.write(\"\"\"\n",
    "apiVersion: v1\n",
    "kind: PersistentVolume\n",
    "metadata:\n",
    "  name: {pv_name}\n",
    "  labels:\n",
    "    type: {pv_name}\n",
    "spec:\n",
    "  storageClassName: ebs-{team_name}-gp2  \n",
    "  capacity:\n",
    "    storage: 5Gi\n",
    "  accessModes:\n",
    "    - ReadWriteOnce\n",
    "  awsElasticBlockStore:\n",
    "    volumeID: {volume_id}\n",
    "    fsType: xfs        \n",
    "    \"\"\".format(team_name=team_name,pv_name=pv_name,volume_id=volume_id)\n",
    ")\n",
    "\n",
    "\n"
   ]
  },
  {
   "cell_type": "code",
   "execution_count": null,
   "metadata": {},
   "outputs": [],
   "source": [
    "!cat pv.yaml"
   ]
  },
  {
   "cell_type": "code",
   "execution_count": null,
   "metadata": {},
   "outputs": [],
   "source": [
    "!kubectl apply -f pv.yaml"
   ]
  },
  {
   "cell_type": "markdown",
   "metadata": {},
   "source": [
    "## User Section"
   ]
  },
  {
   "cell_type": "markdown",
   "metadata": {},
   "source": [
    "## Creating the K8 Volume Claim"
   ]
  },
  {
   "cell_type": "code",
   "execution_count": null,
   "metadata": {},
   "outputs": [],
   "source": [
    "with open(\"pvc.yaml\", \"w\") as file:\n",
    "    file.write(\"\"\"\n",
    "kind: PersistentVolumeClaim\n",
    "apiVersion: v1\n",
    "metadata:\n",
    "    name: {pvc_name}\n",
    "    labels:\n",
    "        type: {pvc_name}\n",
    "spec:\n",
    "    accessModes:\n",
    "    - ReadWriteOnce\n",
    "    storageClassName: ebs-{team_name}-gp2  \n",
    "    resources:\n",
    "        requests:\n",
    "            storage: 5Gi\n",
    "    selector:\n",
    "        matchLabels:\n",
    "            type: {pv_name} \n",
    "    \"\"\".format(team_name=team_name,pv_name=pv_name,pvc_name=pvc_name)\n",
    ")\n",
    "\n",
    "\n"
   ]
  },
  {
   "cell_type": "code",
   "execution_count": null,
   "metadata": {},
   "outputs": [],
   "source": [
    "!cat pvc.yaml"
   ]
  },
  {
   "cell_type": "code",
   "execution_count": null,
   "metadata": {},
   "outputs": [],
   "source": [
    "!kubectl apply -f pvc.yaml"
   ]
  },
  {
   "cell_type": "markdown",
   "metadata": {},
   "source": [
    "## Creating the PodSetting with the required AZ"
   ]
  },
  {
   "cell_type": "code",
   "execution_count": null,
   "metadata": {},
   "outputs": [],
   "source": [
    "import json\n",
    "\n",
    "customname = \"orbit-custom-volumes-\"+team_name\n",
    "\n",
    "with open(\"podsetting_ebs.yaml\", \"w\") as file:\n",
    "    file.write(\"\"\"\n",
    "    kind: PodSetting\n",
    "    apiVersion: orbit.aws/v1\n",
    "    metadata:\n",
    "      labels:\n",
    "        orbit/env: {env_name}\n",
    "        orbit/space: team\n",
    "        orbit/team: {team_name}\n",
    "      name: {customname}\n",
    "      namespace: {team_name}\n",
    "    spec:\n",
    "      affinity:\n",
    "        nodeAffinity:\n",
    "          preferredDuringSchedulingIgnoredDuringExecution:\n",
    "            - preference:\n",
    "                matchExpressions:\n",
    "                  - key: topology.kubernetes.io/zone\n",
    "                    operator: In\n",
    "                    values:\n",
    "                    - {az}\n",
    "              weight: 1\n",
    "      containerSelector:\n",
    "        jsonpath: metadata.labels.app\n",
    "      desc: Example EFS orbit-{customname}\n",
    "      env:\n",
    "        - name: custom_name\n",
    "          value: custom_value\n",
    "      image: >-\n",
    "        {image}\n",
    "      podSelector:\n",
    "        matchExpressions:\n",
    "          - key: orbit/{customname}\n",
    "            operator: Exists\n",
    "      resources:\n",
    "        limits:\n",
    "          cpu: '1.0'\n",
    "          memory: 1Gi\n",
    "        requests:\n",
    "          cpu: '1.0'\n",
    "          memory: 1Gi\n",
    "      securityContext:\n",
    "        runAsUser: 1000\n",
    "      volumeMounts:\n",
    "        - mountPath: /ebs\n",
    "          name: ebs-volume\n",
    "      volumes:\n",
    "        - name: ebs-volume\n",
    "          persistentVolumeClaim:\n",
    "            claimName: {pvc_name}\n",
    "    \"\"\".format(team_name=team_name,env_name=env_name,pvc_name=pvc_name,customname=customname,image=image,az=az)\n",
    ")\n",
    "\n"
   ]
  },
  {
   "cell_type": "code",
   "execution_count": null,
   "metadata": {},
   "outputs": [],
   "source": [
    "!kubectl apply -f podsetting_ebs.yaml -n {team_name}"
   ]
  },
  {
   "cell_type": "markdown",
   "metadata": {},
   "source": [
    "## Running the container"
   ]
  },
  {
   "cell_type": "code",
   "execution_count": null,
   "metadata": {},
   "outputs": [],
   "source": [
    "run = {    \n",
    "      \"tasks\":  [\n",
    "            {\n",
    "                  \"notebookName\": \"test-ebs.ipynb\",\n",
    "                  \"sourcePath\": \"shared/samples/notebooks/M-Admin/ebs\",\n",
    "                  \"targetPath\": \"shared/regression/notebooks/M-Admin/ebs\",\n",
    "                  \"params\": {\n",
    "                        \"test\" : \"1\"\n",
    "                  }      \n",
    "            }\n",
    "      ],\n",
    "      \"compute\": {\n",
    "          \"container\" : {\n",
    "              \"p_concurrent\": \"1\"\n",
    "          },\n",
    "          \"node_type\": \"ec2\",\n",
    "          \"podsetting\":customname,\n",
    "          \"labels\": {\n",
    "            \"my-jobid\": \"1\"\n",
    "          }          \n",
    "      }\n",
    "}\n",
    "\n",
    "with open(\"run.json\", 'w') as f:\n",
    "    json.dump(run, f)"
   ]
  },
  {
   "cell_type": "code",
   "execution_count": null,
   "metadata": {},
   "outputs": [],
   "source": [
    "%%time\n",
    "\n",
    "!orbit run notebook --env $env_name --team $team_name --user testing --wait --tail-logs run.json\n"
   ]
  },
  {
   "cell_type": "markdown",
   "metadata": {},
   "source": [
    "## Cleanup"
   ]
  },
  {
   "cell_type": "code",
   "execution_count": null,
   "metadata": {},
   "outputs": [],
   "source": [
    "# Using our label to delete the job\n",
    "!kubectl delete job -l my-jobid=1"
   ]
  },
  {
   "cell_type": "code",
   "execution_count": null,
   "metadata": {},
   "outputs": [],
   "source": [
    "!kubectl delete podsetting -n {team_name} {customname}"
   ]
  },
  {
   "cell_type": "code",
   "execution_count": null,
   "metadata": {},
   "outputs": [],
   "source": [
    "!kubectl delete pvc $pvc_name --force"
   ]
  },
  {
   "cell_type": "code",
   "execution_count": null,
   "metadata": {},
   "outputs": [],
   "source": [
    "!kubectl delete pv $pv_name --force"
   ]
  },
  {
   "cell_type": "code",
   "execution_count": null,
   "metadata": {},
   "outputs": [],
   "source": [
    "!aws ec2 delete-volume --volume-id $volume_id"
   ]
  },
  {
   "cell_type": "code",
   "execution_count": null,
   "metadata": {},
   "outputs": [],
   "source": []
  }
 ],
 "metadata": {
  "celltoolbar": "Tags",
  "kernelspec": {
   "display_name": "Python 3",
   "language": "python",
   "name": "python3"
  },
  "language_info": {
   "codemirror_mode": {
    "name": "ipython",
    "version": 3
   },
   "file_extension": ".py",
   "mimetype": "text/x-python",
   "name": "python",
   "nbconvert_exporter": "python",
   "pygments_lexer": "ipython3",
   "version": "3.8.8"
  },
  "papermill": {
   "duration": 1433.197715,
   "end_time": "2020-03-03T14:20:28.746673",
   "environment_variables": {},
   "exception": null,
   "input_path": "/tmp/e1@20200303-13:56.ipynb",
   "output_path": "s3://orbit-test-base-acco-testnotebookbucket29e9e4-g80prenjos07/lake-creator/output/notebooks/tests/A-LakeCreator/Example-1-Build-Lake/e1@20200303-13:56.ipynb",
   "parameters": {
    "PAPERMILL_INPUT_PATH": "/tmp/e1@20200303-13:56.ipynb",
    "PAPERMILL_OUTPUT_DIR_PATH": "s3://orbit-test-base-acco-testnotebookbucket29e9e4-g80prenjos07/lake-creator/output/notebooks/tests/A-LakeCreator/Example-1-Build-Lake",
    "PAPERMILL_OUTPUT_PATH": "s3://orbit-test-base-acco-testnotebookbucket29e9e4-g80prenjos07/lake-creator/output/notebooks/tests/A-LakeCreator/Example-1-Build-Lake/e1@20200303-13:56.ipynb",
    "PAPERMILL_WORKBOOK_NAME": "e1@20200303-13:56.ipynb",
    "PAPERMILL_WORK_DIR": "/ws/ScienceRepo1/samples/notebooks/A-LakeCreator"
   },
   "start_time": "2020-03-03T13:56:35.548958",
   "version": "1.2.1"
  },
  "pycharm": {
   "stem_cell": {
    "cell_type": "raw",
    "metadata": {
     "collapsed": false
    },
    "source": []
   }
  }
 },
 "nbformat": 4,
 "nbformat_minor": 4
}
