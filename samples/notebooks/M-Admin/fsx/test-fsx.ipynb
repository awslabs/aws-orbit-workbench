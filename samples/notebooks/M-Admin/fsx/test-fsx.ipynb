{
 "cells": [
  {
   "cell_type": "markdown",
   "id": "bc2e92e6",
   "metadata": {},
   "source": [
    "### Quick FSX Lustre Test"
   ]
  },
  {
   "cell_type": "code",
   "execution_count": null,
   "id": "0e04ba53",
   "metadata": {},
   "outputs": [],
   "source": [
    "!df -H /fsx"
   ]
  },
  {
   "cell_type": "code",
   "execution_count": null,
   "id": "cc0f068f",
   "metadata": {},
   "outputs": [],
   "source": [
    "!ls -al /fsx"
   ]
  },
  {
   "cell_type": "code",
   "execution_count": null,
   "id": "ab05bd61",
   "metadata": {},
   "outputs": [],
   "source": [
    "!echo \"bar\" > /fsx/foo.txt"
   ]
  },
  {
   "cell_type": "code",
   "execution_count": null,
   "id": "7cb21380",
   "metadata": {},
   "outputs": [],
   "source": [
    "output = !cat /fsx/foo.txt\n",
    "output"
   ]
  },
  {
   "cell_type": "code",
   "execution_count": null,
   "id": "e7f301f6",
   "metadata": {},
   "outputs": [],
   "source": [
    "assert('bar' in output[0])"
   ]
  }
 ],
 "metadata": {
  "kernelspec": {
   "display_name": "Python 3",
   "language": "python",
   "name": "python3"
  },
  "language_info": {
   "codemirror_mode": {
    "name": "ipython",
    "version": 3
   },
   "file_extension": ".py",
   "mimetype": "text/x-python",
   "name": "python",
   "nbconvert_exporter": "python",
   "pygments_lexer": "ipython3",
   "version": "3.8.8"
  }
 },
 "nbformat": 4,
 "nbformat_minor": 5
}
