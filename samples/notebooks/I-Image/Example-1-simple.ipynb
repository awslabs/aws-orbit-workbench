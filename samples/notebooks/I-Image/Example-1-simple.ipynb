{
 "cells": [
  {
   "cell_type": "markdown",
   "id": "3e311b49",
   "metadata": {},
   "source": [
    "<!--\n",
    "#  Copyright Amazon.com, Inc. or its affiliates. All Rights Reserved.\n",
    "#\n",
    "#    Licensed under the Apache License, Version 2.0 (the \"License\").\n",
    "#    You may not use this file except in compliance with the License.\n",
    "#    You may obtain a copy of the License at\n",
    "#\n",
    "#        http://www.apache.org/licenses/LICENSE-2.0\n",
    "#\n",
    "#    Unless required by applicable law or agreed to in writing, software\n",
    "#    distributed under the License is distributed on an \"AS IS\" BASIS,\n",
    "#    WITHOUT WARRANTIES OR CONDITIONS OF ANY KIND, either express or implied.\n",
    "#    See the License for the specific language governing permissions and\n",
    "#    limitations under the License.\n",
    "-->\n",
    "\n",
    "# Sample notebook to build custom images from the lake user teamspace.\n",
    "\n",
    "## Content\n",
    "1. [Configuration](#Configuration)\n",
    "2. [Build Image](#Build-Image)\n",
    "2. [Running Container using the profile](#Running-container)\n"
   ]
  },
  {
   "cell_type": "markdown",
   "id": "777f2a96",
   "metadata": {},
   "source": [
    "### Configuration"
   ]
  },
  {
   "cell_type": "code",
   "execution_count": null,
   "id": "0fc25941",
   "metadata": {},
   "outputs": [],
   "source": [
    "profile_name='simple_image'\n",
    "image_name = 'custom_image2'\n",
    "folder_name = 'simple'"
   ]
  },
  {
   "cell_type": "markdown",
   "id": "27b9fc81",
   "metadata": {},
   "source": [
    "### Build Image"
   ]
  },
  {
   "cell_type": "markdown",
   "id": "3a6d8b17",
   "metadata": {},
   "source": [
    "Lets see how  orbit build image works..."
   ]
  },
  {
   "cell_type": "code",
   "execution_count": null,
   "id": "672d6587",
   "metadata": {},
   "outputs": [],
   "source": [
    "!orbit build image --help"
   ]
  },
  {
   "cell_type": "markdown",
   "id": "ee648449",
   "metadata": {},
   "source": [
    "get our orbit env and team names"
   ]
  },
  {
   "cell_type": "code",
   "execution_count": null,
   "id": "5238fc11",
   "metadata": {},
   "outputs": [],
   "source": [
    "env_name = %env AWS_ORBIT_ENV\n",
    "team_name = %env AWS_ORBIT_TEAM_SPACE\n",
    "user_name = %env USERNAME\n",
    "namespace = %env AWS_ORBIT_USER_SPACE\n",
    "(env_name,team_name, user_name, namespace)"
   ]
  },
  {
   "cell_type": "markdown",
   "id": "ca2a9f09",
   "metadata": {},
   "source": [
    "Repository name will be created from the image name prefixed by the env context.  Users are only able to manipulate ECR repos that start with 'orbit-{env_name}/users/'"
   ]
  },
  {
   "cell_type": "code",
   "execution_count": null,
   "id": "577016ac",
   "metadata": {},
   "outputs": [],
   "source": [
    "repository_name = (f\"orbit-{env_name}/users/{image_name}\")\n",
    "repository_name"
   ]
  },
  {
   "cell_type": "code",
   "execution_count": null,
   "id": "cf74e719",
   "metadata": {},
   "outputs": [],
   "source": [
    "!aws ecr delete-repository --repository-name $repository_name --force"
   ]
  },
  {
   "cell_type": "code",
   "execution_count": null,
   "id": "0fd3f471",
   "metadata": {},
   "outputs": [],
   "source": [
    "%cd ~/shared/samples/notebooks/I-Image/$folder_name"
   ]
  },
  {
   "cell_type": "markdown",
   "id": "cfbc37a7",
   "metadata": {},
   "source": [
    "adding a file to our docker as an example"
   ]
  },
  {
   "cell_type": "code",
   "execution_count": null,
   "id": "9e56824d",
   "metadata": {},
   "outputs": [],
   "source": [
    "%%writefile my-custom-image-file.txt\n",
    "just a text "
   ]
  },
  {
   "cell_type": "code",
   "execution_count": null,
   "id": "0f911a28",
   "metadata": {},
   "outputs": [],
   "source": [
    "pwd = %pwd\n",
    "pwd"
   ]
  },
  {
   "cell_type": "markdown",
   "id": "b73334dd",
   "metadata": {},
   "source": [
    "Now lets run the command"
   ]
  },
  {
   "cell_type": "code",
   "execution_count": null,
   "id": "ff67d4ca",
   "metadata": {},
   "outputs": [],
   "source": [
    "%%time\n",
    "\n",
    "output = !orbit build image -e $env_name -d $pwd -n $image_name\n",
    "output"
   ]
  },
  {
   "cell_type": "markdown",
   "id": "79efd5af",
   "metadata": {},
   "source": [
    "Lets get the image address from the output of the previous command"
   ]
  },
  {
   "cell_type": "code",
   "execution_count": null,
   "id": "11add9c7",
   "metadata": {},
   "outputs": [],
   "source": [
    "look_for = 'ECR Image Address='\n",
    "image = None\n",
    "for o in output:\n",
    "    if look_for in o:\n",
    "        image = o[o.index(look_for) + len(look_for):]\n",
    "        print(image)\n",
    "\n",
    "assert(image != None)       \n",
    "    "
   ]
  },
  {
   "cell_type": "code",
   "execution_count": null,
   "id": "7f9de008",
   "metadata": {},
   "outputs": [],
   "source": [
    "# check that the image was built\n",
    "import json\n",
    "print(repository_name)\n",
    "images = !aws ecr list-images --repository-name $repository_name\n",
    "images = \"\".join(images)\n",
    "im = json.loads(images)\n",
    "print(im['imageIds'])\n",
    "assert(len(im['imageIds']) > 0)"
   ]
  },
  {
   "cell_type": "markdown",
   "id": "cdd4d24d",
   "metadata": {},
   "source": [
    "### Building the PodSetting for the Image"
   ]
  },
  {
   "cell_type": "code",
   "execution_count": null,
   "id": "5b5205a5",
   "metadata": {},
   "outputs": [],
   "source": [
    "import json\n",
    "\n",
    "customname = \"orbit-custom-simple-image-\"+team_name\n",
    "description= \"Custom Image Example \"+customname\n",
    "podsetting={\n",
    "            \"name\": customname,\n",
    "            \"description\": description,\n",
    "            \"image\": image,\n",
    "            \"resources\":{\n",
    "                \"limits\":{            \n",
    "                    \"cpu\": \"1.0\",\n",
    "                    \"memory\": \"1Gi\"\n",
    "                    },\n",
    "                \"requests\":{\n",
    "                    \"cpu\": \"1.0\",\n",
    "                    \"memory\": \"1Gi\"\n",
    "                    }\n",
    "            },\n",
    "            \"env\":[\n",
    "                {\n",
    "                    \"name\":\"source\",\n",
    "                    \"value\":\"regressiontests\"\n",
    "                }\n",
    "            ]\n",
    "        }\n",
    "\n",
    "with open(\"podsetting_data.json\", 'w') as f:\n",
    "    json.dump(podsetting, f)"
   ]
  },
  {
   "cell_type": "code",
   "execution_count": null,
   "id": "c36a2878",
   "metadata": {},
   "outputs": [],
   "source": [
    "!orbit build podsetting --help "
   ]
  },
  {
   "cell_type": "code",
   "execution_count": null,
   "id": "dc454e99",
   "metadata": {},
   "outputs": [],
   "source": [
    "!orbit build podsetting --debug -e $env_name -t $team_name  podsetting_data.json"
   ]
  },
  {
   "cell_type": "code",
   "execution_count": null,
   "id": "07ff024c",
   "metadata": {},
   "outputs": [],
   "source": [
    "!pwd"
   ]
  },
  {
   "cell_type": "code",
   "execution_count": null,
   "id": "d35a5f70",
   "metadata": {
    "tags": []
   },
   "outputs": [],
   "source": [
    "import json\n",
    "run = {\n",
    "      \"compute\": {\n",
    "          \"container\" : {\n",
    "              \"p_concurrent\": \"1\"\n",
    "          },\n",
    "          \"node_type\": \"ec2\",\n",
    "          \"podsetting\":customname\n",
    "      },\n",
    "      \"tasks\":  [{\n",
    "          \"notebookName\": \"test-image.ipynb\",\n",
    "          \"sourcePath\": pwd,\n",
    "          \"targetPath\": f\"/home/jovyan/shared/regression/notebooks/I-Image/{folder_name}\",\n",
    "          \"params\": {\n",
    "          }\n",
    "        }]\n",
    " }\n",
    "\n",
    "with open(\"run.json\", 'w') as f:\n",
    "    json.dump(run, f)"
   ]
  },
  {
   "cell_type": "markdown",
   "id": "2da77f47",
   "metadata": {},
   "source": [
    "### Running container \n",
    "\n",
    "Lets run a container using the profile and image we created"
   ]
  },
  {
   "cell_type": "code",
   "execution_count": null,
   "id": "e1f47ce4",
   "metadata": {},
   "outputs": [],
   "source": [
    "%%time\n",
    "\n",
    "!orbit run notebook --env $env_name --team $team_name --user testing --wait --tail-logs run.json\n"
   ]
  },
  {
   "cell_type": "markdown",
   "id": "6fde8cde",
   "metadata": {},
   "source": [
    "## OPTIONAL: You can use kubectl to load the podsettings as indicated below \n",
    "\n",
    "### (convert the cells to code from markdown)"
   ]
  },
  {
   "cell_type": "markdown",
   "id": "23df6563",
   "metadata": {},
   "source": [
    "import json\n",
    "\n",
    "customname = \"orbit-custom-simple-image-\"+team_name\n",
    "\n",
    "with open(\"podsetting_simple.yaml\", \"w\") as file:\n",
    "    file.write(\"\"\"\n",
    "    kind: PodSetting\n",
    "    apiVersion: orbit.aws/v1\n",
    "    metadata:\n",
    "      labels:\n",
    "        orbit/env: {env_name}\n",
    "        orbit/space: team\n",
    "        orbit/team: {team_name}\n",
    "      name: {customname}\n",
    "      namespace: {team_name}\n",
    "    spec:\n",
    "      containerSelector:\n",
    "        jsonpath: metadata.labels.app\n",
    "      desc: Custom Image Example {customname}\n",
    "      env:\n",
    "        - name: custom_name\n",
    "          value: custom_value\n",
    "      image: >-\n",
    "        {image}\n",
    "      podSelector:\n",
    "        matchExpressions:\n",
    "          - key: orbit/{customname}\n",
    "            operator: Exists\n",
    "      resources:\n",
    "        limits:\n",
    "          cpu: '1.0'\n",
    "          memory: 1Gi\n",
    "        requests:\n",
    "          cpu: '1.0'\n",
    "          memory: 1Gi\n",
    "      securityContext:\n",
    "        runAsUser: 1000\n",
    "    \"\"\".format(team_name=team_name,env_name=env_name,customname=customname,image=image)\n",
    ")\n"
   ]
  },
  {
   "cell_type": "markdown",
   "id": "1835966f",
   "metadata": {},
   "source": [
    "!kubectl apply -f podsetting_simple.yaml -n {team_name}"
   ]
  }
 ],
 "metadata": {
  "kernelspec": {
   "display_name": "Python 3",
   "language": "python",
   "name": "python3"
  },
  "language_info": {
   "codemirror_mode": {
    "name": "ipython",
    "version": 3
   },
   "file_extension": ".py",
   "mimetype": "text/x-python",
   "name": "python",
   "nbconvert_exporter": "python",
   "pygments_lexer": "ipython3",
   "version": "3.8.8"
  },
  "pycharm": {
   "stem_cell": {
    "cell_type": "raw",
    "metadata": {
     "collapsed": false
    },
    "source": []
   }
  }
 },
 "nbformat": 4,
 "nbformat_minor": 5
}
