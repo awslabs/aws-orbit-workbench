{
 "cells": [
  {
   "cell_type": "markdown",
   "id": "vocal-spank",
   "metadata": {},
   "source": [
    "<!--\n",
    "#  Copyright Amazon.com, Inc. or its affiliates. All Rights Reserved.\n",
    "#\n",
    "#    Licensed under the Apache License, Version 2.0 (the \"License\").\n",
    "#    You may not use this file except in compliance with the License.\n",
    "#    You may obtain a copy of the License at\n",
    "#\n",
    "#        http://www.apache.org/licenses/LICENSE-2.0\n",
    "#\n",
    "#    Unless required by applicable law or agreed to in writing, software\n",
    "#    distributed under the License is distributed on an \"AS IS\" BASIS,\n",
    "#    WITHOUT WARRANTIES OR CONDITIONS OF ANY KIND, either express or implied.\n",
    "#    See the License for the specific language governing permissions and\n",
    "#    limitations under the License.\n",
    "-->\n",
    "\n",
    "# Sample notebook to build custom images from the lake user teamspace.\n",
    "\n",
    "## Content\n",
    "1. [Configuration](#Configuration)\n",
    "2. [Build Image](#Build-Image)\n",
    "2. [Running Container using the profile](#Running-container)\n"
   ]
  },
  {
   "cell_type": "markdown",
   "id": "synthetic-chocolate",
   "metadata": {},
   "source": [
    "### Configuration"
   ]
  },
  {
   "cell_type": "code",
   "execution_count": 1,
   "id": "adaptive-richardson",
   "metadata": {},
   "outputs": [],
   "source": [
    "profile_name='simple_image'\n",
    "image_name = 'custom_image2'\n",
    "folder_name = 'simple'"
   ]
  },
  {
   "cell_type": "markdown",
   "id": "noted-mortality",
   "metadata": {},
   "source": [
    "### Build Image"
   ]
  },
  {
   "cell_type": "markdown",
   "id": "graduate-asbestos",
   "metadata": {},
   "source": [
    "Lets see how  orbit build image works..."
   ]
  },
  {
   "cell_type": "code",
   "execution_count": 2,
   "id": "fixed-confidence",
   "metadata": {},
   "outputs": [
    {
     "name": "stdout",
     "output_type": "stream",
     "text": [
      "Usage: orbit build image [OPTIONS]\n",
      "\n",
      "  Build and Deploy a new Docker image into ECR.\n",
      "\n",
      "Options:\n",
      "  -e, --env TEXT        Orbit Environment.  [required]\n",
      "  -d, --dir TEXT        Dockerfile directory.  [required]\n",
      "  -n, --name TEXT       Image name.  [required]\n",
      "  -s, --script TEXT     Build script to run before the image build.\n",
      "  -t, --team TEXT       One or more Teams to deploy the image to (can de\n",
      "                        declared multiple times).\n",
      "\n",
      "  --build-arg TEXT      One or more --build-arg parameters to pass to the\n",
      "                        Docker build command.\n",
      "\n",
      "  --debug / --no-debug  Enable detailed logging.  [default: False]\n",
      "  --help                Show this message and exit.\n"
     ]
    }
   ],
   "source": [
    "!orbit build image --help"
   ]
  },
  {
   "cell_type": "markdown",
   "id": "identical-salmon",
   "metadata": {},
   "source": [
    "get our orbit env and team names"
   ]
  },
  {
   "cell_type": "code",
   "execution_count": 3,
   "id": "elementary-amount",
   "metadata": {},
   "outputs": [
    {
     "data": {
      "text/plain": [
       "('dev-env', 'lake-user')"
      ]
     },
     "execution_count": 3,
     "metadata": {},
     "output_type": "execute_result"
    }
   ],
   "source": [
    "env_name = %env AWS_ORBIT_ENV\n",
    "team_name = %env AWS_ORBIT_TEAM_SPACE\n",
    "(env_name,team_name)"
   ]
  },
  {
   "cell_type": "markdown",
   "id": "vulnerable-lender",
   "metadata": {},
   "source": [
    "Repository name will be created from the image name prefixed by the env context.  Users are only able to manipulate ECR repos that start with 'orbit-{env_name}-users-'"
   ]
  },
  {
   "cell_type": "code",
   "execution_count": 4,
   "id": "through-columbia",
   "metadata": {},
   "outputs": [
    {
     "data": {
      "text/plain": [
       "'orbit-dev-env-users-custom_image2'"
      ]
     },
     "execution_count": 4,
     "metadata": {},
     "output_type": "execute_result"
    }
   ],
   "source": [
    "repository_name = (f\"orbit-{env_name}-users-{image_name}\")\n",
    "repository_name"
   ]
  },
  {
   "cell_type": "code",
   "execution_count": 5,
   "id": "complimentary-captain",
   "metadata": {},
   "outputs": [
    {
     "name": "stdout",
     "output_type": "stream",
     "text": [
      "{\n",
      "    \"repository\": {\n",
      "        \"repositoryArn\": \"arn:aws:ecr:us-west-2:495869084367:repository/orbit-dev-env-users-custom_image2\",\n",
      "        \"registryId\": \"495869084367\",\n",
      "        \"repositoryName\": \"orbit-dev-env-users-custom_image2\",\n",
      "        \"repositoryUri\": \"495869084367.dkr.ecr.us-west-2.amazonaws.com/orbit-dev-env-users-custom_image2\",\n",
      "        \"createdAt\": 1614284484.0,\n",
      "        \"imageTagMutability\": \"MUTABLE\"\n",
      "    }\n",
      "}\n"
     ]
    }
   ],
   "source": [
    "!aws ecr delete-repository --repository-name $repository_name --force"
   ]
  },
  {
   "cell_type": "code",
   "execution_count": 6,
   "id": "frozen-scale",
   "metadata": {},
   "outputs": [
    {
     "name": "stdout",
     "output_type": "stream",
     "text": [
      "/efs/shared/samples/notebooks/I-Images/simple\n"
     ]
    }
   ],
   "source": [
    "%cd ~/shared/samples/notebooks/I-Image/$folder_name"
   ]
  },
  {
   "cell_type": "markdown",
   "id": "muslim-nicholas",
   "metadata": {},
   "source": [
    "adding a file to our docker as an example"
   ]
  },
  {
   "cell_type": "code",
   "execution_count": 7,
   "id": "binding-thesaurus",
   "metadata": {},
   "outputs": [
    {
     "name": "stdout",
     "output_type": "stream",
     "text": [
      "Overwriting my-custom-image-file.txt\n"
     ]
    }
   ],
   "source": [
    "%%writefile my-custom-image-file.txt\n",
    "just a text "
   ]
  },
  {
   "cell_type": "code",
   "execution_count": 8,
   "id": "clinical-hughes",
   "metadata": {},
   "outputs": [
    {
     "data": {
      "text/plain": [
       "'/efs/shared/samples/notebooks/I-Images/simple'"
      ]
     },
     "execution_count": 8,
     "metadata": {},
     "output_type": "execute_result"
    }
   ],
   "source": [
    "pwd = %pwd\n",
    "pwd"
   ]
  },
  {
   "cell_type": "markdown",
   "id": "direct-consultation",
   "metadata": {},
   "source": [
    "Now lets run the command"
   ]
  },
  {
   "cell_type": "code",
   "execution_count": 9,
   "id": "dietary-explorer",
   "metadata": {},
   "outputs": [
    {
     "name": "stdout",
     "output_type": "stream",
     "text": [
      "CPU times: user 476 µs, sys: 12.3 ms, total: 12.8 ms\n",
      "Wall time: 5min 12s\n"
     ]
    },
    {
     "data": {
      "text/plain": [
       "['',\n",
       " 'Deploying Docker Image |\\x1b[32m                   \\x1b[0m|   0% \\x1b[0m',\n",
       " '                                                  ',\n",
       " '',\n",
       " 'Deploying Docker Image |\\x1b[32m▏                  \\x1b[0m|   1% \\x1b[0m',\n",
       " 'Deploying Docker Image |\\x1b[32m▌                  \\x1b[0m|   3% \\x1b[0m',\n",
       " 'Deploying Docker Image |\\x1b[32m▉                  \\x1b[0m|   5% \\x1b[0m',\n",
       " 'Deploying Docker Image |\\x1b[32m███▊               \\x1b[0m|  20% \\x1b[0m',\n",
       " 'Deploying Docker Image |\\x1b[32m█████▏             \\x1b[0m|  27% \\x1b[0m',\n",
       " 'Deploying Docker Image |\\x1b[32m██████████████████▊\\x1b[0m|  99% \\x1b[0m',\n",
       " '                                                  ',\n",
       " '',\n",
       " 'Deploying Docker Image |\\x1b[32m██████████████████▊\\x1b[0m|  99% \\x1b[0m',\n",
       " '                                                  ',\n",
       " '',\n",
       " 'Deploying Docker Image |\\x1b[32m██████████████████▊\\x1b[0m|  99% \\x1b[0m',\n",
       " '                                                  ',\n",
       " '',\n",
       " 'Deploying Docker Image |\\x1b[32m██████████████████▊\\x1b[0m|  99% \\x1b[0m',\n",
       " 'Deploying Docker Image |\\x1b[32m███████████████████\\x1b[0m| 100% \\x1b[0m',\n",
       " '                                                  ',\n",
       " '',\n",
       " 'Deploying Docker Image |\\x1b[32m███████████████████\\x1b[0m| 100% \\x1b[0m',\n",
       " 'Deploying Docker Image |\\x1b[32m███████████████████\\x1b[0m| 100% \\x1b[0m',\n",
       " '[\\x1b[39m\\x1b[22m\\x1b[24m Info \\x1b[0m] Manifest loaded',\n",
       " '[\\x1b[39m\\x1b[22m\\x1b[24m Info \\x1b[0m] Docker Image deploy into ECR',\n",
       " '[\\x1b[39m\\x1b[22m\\x1b[24m Info \\x1b[0m] ECR Image Address=495869084367.dkr.ecr.us-west-2.amazonaws.com/orbit-dev-env-users-custom_image2',\n",
       " '[\\x1b[94m\\x1b[22m\\x1b[24m Tip \\x1b[0m] ECR Image Address: \\x1b[94m\\x1b[22m\\x1b[4m495869084367.dkr.ecr.us-west-2.amazonaws.com/orbit-dev-env-users-custom_image2\\x1b[0m',\n",
       " '']"
      ]
     },
     "execution_count": 9,
     "metadata": {},
     "output_type": "execute_result"
    }
   ],
   "source": [
    "%%time\n",
    "\n",
    "output = !orbit build image -e dev-env -d $pwd -n $image_name\n",
    "output"
   ]
  },
  {
   "cell_type": "markdown",
   "id": "literary-operation",
   "metadata": {},
   "source": [
    "Lets get the image address from the output of the previous command"
   ]
  },
  {
   "cell_type": "code",
   "execution_count": 10,
   "id": "genuine-tonight",
   "metadata": {},
   "outputs": [
    {
     "name": "stdout",
     "output_type": "stream",
     "text": [
      "495869084367.dkr.ecr.us-west-2.amazonaws.com/orbit-dev-env-users-custom_image2\n"
     ]
    }
   ],
   "source": [
    "look_for = 'ECR Image Address='\n",
    "image = None\n",
    "for o in output:\n",
    "    if look_for in o:\n",
    "        image = o[o.index(look_for) + len(look_for):]\n",
    "        print(image)\n",
    "\n",
    "assert(image != None)       \n",
    "    "
   ]
  },
  {
   "cell_type": "code",
   "execution_count": 11,
   "id": "multiple-irish",
   "metadata": {},
   "outputs": [
    {
     "name": "stdout",
     "output_type": "stream",
     "text": [
      "orbit-dev-env-users-custom_image2\n",
      "[{'imageDigest': 'sha256:e228607390e803db2fa88c1fd86d611e30c023b8f09a265d1f9a261551190c01', 'imageTag': 'latest'}]\n"
     ]
    }
   ],
   "source": [
    "# check that the image was built\n",
    "import json\n",
    "print(repository_name)\n",
    "images = !aws ecr list-images --repository-name $repository_name\n",
    "images = \"\".join(images)\n",
    "im = json.loads(images)\n",
    "print(im['imageIds'])\n",
    "assert(len(im['imageIds']) > 0)"
   ]
  },
  {
   "cell_type": "markdown",
   "id": "broken-journalism",
   "metadata": {},
   "source": [
    "### Building the profile for the Image"
   ]
  },
  {
   "cell_type": "code",
   "execution_count": 12,
   "id": "fluid-identifier",
   "metadata": {},
   "outputs": [],
   "source": [
    "import json\n",
    "profile = {\n",
    "        \"display_name\": profile_name,\n",
    "        \"description\": \"Use simple custom image\",\n",
    "        \"kubespawner_override\": {\n",
    "            \"image\": image,\n",
    "            \"cpu_guarantee\": 2,\n",
    "            \"cpu_limit\": 2,\n",
    "            \"mem_guarantee\": \"1G\",\n",
    "            \"mem_limit\": \"1G\"\n",
    "        }\n",
    "}\n",
    "\n",
    "with open(\"profile.json\", 'w') as f:\n",
    "    json.dump(profile, f)\n"
   ]
  },
  {
   "cell_type": "code",
   "execution_count": 13,
   "id": "abroad-running",
   "metadata": {},
   "outputs": [
    {
     "name": "stdout",
     "output_type": "stream",
     "text": [
      "{\"display_name\": \"simple_image\", \"slug\": \"nano\", \"description\": \"Use simple custom image\", \"kubespawner_override\": {\"image\": \"495869084367.dkr.ecr.us-west-2.amazonaws.com/orbit-dev-env-users-custom_image2\", \"cpu_guarantee\": 2, \"cpu_limit\": 2, \"mem_guarantee\": \"1G\", \"mem_limit\": \"1G\"}}"
     ]
    }
   ],
   "source": [
    "!cat profile.json"
   ]
  },
  {
   "cell_type": "code",
   "execution_count": 14,
   "id": "silent-nature",
   "metadata": {},
   "outputs": [
    {
     "name": "stdout",
     "output_type": "stream",
     "text": [
      "[2021-02-25 21:22:06,967][__main__.py  :331] env: dev-env\n",
      "[2021-02-25 21:22:06,967][__main__.py  :332] team: lake-user\n",
      "[2021-02-25 21:22:06,967][__main__.py  :334] profile: {\"display_name\": \"simple_image\", \"slug\": \"nano\", \"description\": \"Use simple custom image\", \"kubespawner_override\": {\"image\": \"495869084367.dkr.ecr.us-west-2.amazonaws.com/orbit-dev-env-users-custom_image2\", \"cpu_guarantee\": 2, \"cpu_limit\": 2, \"mem_guarantee\": \"1G\", \"mem_limit\": \"1G\"}}\n",
      "[2021-02-25 21:22:06,967][__main__.py  :335] debug: True\n",
      "[2021-02-25 21:22:06,967][messages.py  :133] Progress bar: 1%\n",
      "[\u001b[39m\u001b[22m\u001b[24m Info \u001b[0m] Retrieving existing profiles\n",
      "[2021-02-25 21:22:07,363][image.py     : 38] Trying to read profiles from SSM parameter (/orbit/dev-env/teams/lake-user/user/profiles).\n",
      "[2021-02-25 21:22:07,507][image.py     :127] Existing user profiles for team lake-user: [{'description': 'Use simple custom image', 'display_name': 'simple_image', 'kubespawner_override': {'cpu_guarantee': 2, 'cpu_limit': 2, 'image': '495869084367.dkr.ecr.us-west-2.amazonaws.com/orbit-dev-env-users-custom_image2', 'mem_guarantee': '1G', 'mem_limit': '1G'}, 'slug': 'simple_image'}]\n",
      "[2021-02-25 21:22:07,508][image.py     :139] new profile name: simple_image\n",
      "[2021-02-25 21:22:07,508][image.py     :140] profiles: <class 'str'> , [{'description': 'Use simple custom image', 'display_name': 'simple_image', 'kubespawner_override': {'cpu_guarantee': 2, 'cpu_limit': 2, 'image': '495869084367.dkr.ecr.us-west-2.amazonaws.com/orbit-dev-env-users-custom_image2', 'mem_guarantee': '1G', 'mem_limit': '1G'}, 'slug': 'simple_image'}]\n",
      "[2021-02-25 21:22:07,508][image.py     :143] Profile exists, updating...\n",
      "[\u001b[94m\u001b[22m\u001b[24m Tip \u001b[0m] Profile added simple_image\n",
      "[2021-02-25 21:22:07,508][image.py     :149] Updated user profiles for team lake-user: [{'display_name': 'simple_image', 'slug': 'nano', 'description': 'Use simple custom image', 'kubespawner_override': {'image': '495869084367.dkr.ecr.us-west-2.amazonaws.com/orbit-dev-env-users-custom_image2', 'cpu_guarantee': 2, 'cpu_limit': 2, 'mem_guarantee': '1G', 'mem_limit': '1G'}}]\n",
      "[2021-02-25 21:22:07,541][image.py     : 52] Writing team lake-user user profiles to SSM parameter.\n",
      "[2021-02-25 21:22:07,749][messages.py  :175] Progress bar: 100%\n"
     ]
    }
   ],
   "source": [
    "!orbit build profile --debug --env $env_name --team $team_name profile.json"
   ]
  },
  {
   "cell_type": "markdown",
   "id": "talented-supervisor",
   "metadata": {},
   "source": [
    "### Running container \n",
    "\n",
    "Lets run a container using the profile and image we created"
   ]
  },
  {
   "cell_type": "code",
   "execution_count": 15,
   "id": "junior-mixer",
   "metadata": {},
   "outputs": [],
   "source": [
    "import json\n",
    "run = {\n",
    "      \"compute\": {\n",
    "          \"container\" : {\n",
    "              \"p_concurrent\": \"1\"\n",
    "          },\n",
    "          \"compute_type\": \"ecs\",\n",
    "          \"node_type\": \"ec2\",\n",
    "          \"profile\": profile_name\n",
    "      },\n",
    "      \"tasks\":  [{\n",
    "          \"notebookName\": \"test-image.ipynb\",\n",
    "          \"sourcePath\": pwd,\n",
    "          \"targetPath\": f\"/efs/shared/regression/notebooks/I-Image/{folder_name}\",\n",
    "          \"params\": {\n",
    "          },\n",
    "          \"ExecutionType\": \"ecs\"\n",
    "        }]\n",
    " }\n",
    "\n",
    "with open(\"run.json\", 'w') as f:\n",
    "    json.dump(run, f)\n"
   ]
  },
  {
   "cell_type": "code",
   "execution_count": 17,
   "id": "unique-condition",
   "metadata": {},
   "outputs": [
    {
     "name": "stdout",
     "output_type": "stream",
     "text": [
      "INFO:root:using profile simple_image\n",
      "INFO:root:Waiting for 1 tasks [{'ExecutionType': 'eks', 'Identifier': 'orbit-lake-user-fargate-runner-dq2r5', 'NodeType': 'fargate', 'tasks': [{'notebookName': 'test-image.ipynb', 'sourcePath': '/efs/shared/samples/notebooks/I-Images/simple', 'targetPath': '/efs/shared/regression/notebooks/I-Images/simple', 'params': {}, 'ExecutionType': 'ecs'}]}]\n",
      "INFO:root:Watching task: 'orbit-lake-user-fargate-runner-dq2r5'\n",
      "INFO:root:Running: 1 Completed: 0 Errored: 0\n",
      "INFO:root:waiting for [{'ExecutionType': 'eks', 'Identifier': 'orbit-lake-user-fargate-runner-dq2r5', 'NodeType': 'fargate', 'tasks': [{'notebookName': 'test-image.ipynb', 'sourcePath': '/efs/shared/samples/notebooks/I-Images/simple', 'targetPath': '/efs/shared/regression/notebooks/I-Images/simple', 'params': {}, 'ExecutionType': 'ecs'}]}]\n",
      "INFO:root:Task {'ExecutionType': 'eks', 'Identifier': 'orbit-lake-user-fargate-runner-dq2r5', 'NodeType': 'fargate', 'tasks': [{'notebookName': 'test-image.ipynb', 'sourcePath': '/efs/shared/samples/notebooks/I-Images/simple', 'targetPath': '/efs/shared/regression/notebooks/I-Images/simple', 'params': {}, 'ExecutionType': 'ecs'}]} is running with status {'active': 1,\n",
      " 'completion_time': None,\n",
      " 'conditions': None,\n",
      " 'failed': None,\n",
      " 'start_time': datetime.datetime(2021, 2, 25, 21, 23, 13, tzinfo=tzlocal()),\n",
      " 'succeeded': None}\n",
      "INFO:root:Watching task: 'orbit-lake-user-fargate-runner-dq2r5'\n",
      "INFO:root:task orbit-lake-user-fargate-runner-dq2r5-l654k status: {'running': {'started_at': datetime.datetime(2021, 2, 25, 21, 23, 17, tzinfo=tzlocal())},\n",
      " 'terminated': None,\n",
      " 'waiting': None}\n",
      "INFO:root:+ '[' 1000 -eq 0 ']'\n",
      "INFO:root:+ mkdir -p /efs/testing\n",
      "INFO:root:+ mkdir -p /efs/shared/scheduled/notebooks\n",
      "INFO:root:+ mkdir -p /efs/shared/scheduled/outputs\n",
      "INFO:root:+ mkdir -p /home/jovyan/tmp\n",
      "INFO:root:+ ln -s /efs/testing/ /home/jovyan/private\n",
      "INFO:root:+ ln -s /efs/shared/ /home/jovyan/shared\n",
      "INFO:root:+ LOCAL_PATH=/home/jovyan/.orbit/bootstrap/scripts/\n",
      "INFO:root:+ S3_PATH=s3://orbit-dev-env-toolkit-495869084367-a2e258/teams/lake-user/bootstrap/\n",
      "INFO:root:+ export PATH=/opt/conda/bin:/usr/local/sbin:/usr/local/bin:/usr/sbin:/usr/bin:/sbin:/bin:/opt/conda/bin\n",
      "INFO:root:+ PATH=/opt/conda/bin:/usr/local/sbin:/usr/local/bin:/usr/sbin:/usr/bin:/sbin:/bin:/opt/conda/bin\n",
      "INFO:root:+ mkdir -p /home/jovyan/.orbit/bootstrap/scripts/\n",
      "INFO:root:+ aws s3 cp s3://orbit-dev-env-toolkit-495869084367-a2e258/teams/lake-user/bootstrap/ /home/jovyan/.orbit/bootstrap/scripts/ --recursive\n",
      "download: s3://orbit-dev-env-toolkit-495869084367-a2e258/teams/lake-user/bootstrap/copy_samples.sh to .orbit/bootstrap/scripts/copy_samples.sh\n",
      "INFO:root:++ ls /home/jovyan/.orbit/bootstrap/scripts/\n",
      "INFO:root:+ for filename in $(ls $LOCAL_PATH)\n",
      "INFO:root:+ echo 'Running copy_samples.sh'\n",
      "INFO:root:+ sh /home/jovyan/.orbit/bootstrap/scripts/copy_samples.sh\n",
      "INFO:root:Running copy_samples.sh\n",
      "INFO:root:+ LOCAL_PATH=/home/jovyan/shared/samples\n",
      "INFO:root:+ mkdir -p /home/jovyan/shared/samples\n",
      "INFO:root:+ S3_PATH=s3://orbit-dev-env-toolkit-495869084367-a2e258/samples/\n",
      "INFO:root:+ mkdir -p /home/jovyan/shared/samples\n",
      "INFO:root:+ aws s3 sync s3://orbit-dev-env-toolkit-495869084367-a2e258/samples/ /home/jovyan/shared/samples\n",
      "INFO:root:+ rm -fR /home/jovyan/.aws\n",
      "INFO:root:INFO:root:Starting Container Main\n",
      "INFO:root:INFO:root:Running tasks...\n",
      "INFO:root:INFO:root:pathToOutputDir=/efs/shared/regression/notebooks/I-Images/simple\n",
      "INFO:root:INFO:root:Starting tasks execution\n",
      "INFO:root:INFO:root:Starting notebook execution for /efs/shared/regression/notebooks/I-Images/simple/test-image/e1@20210225-21:23.ipynb\n",
      "INFO:root:INFO:papermill:Input Notebook:  /tmp/e1@20210225-21:23.ipynb\n",
      "INFO:root:INFO:papermill:Output Notebook: /efs/shared/regression/notebooks/I-Images/simple/test-image/e1@20210225-21:23.ipynb\n",
      "INFO:root:INFO:papermill:Working directory: /efs/shared/samples/notebooks/I-Images/simple\n",
      "INFO:root:INFO:blib2to3.pgen2.driver:Generating grammar tables from /opt/conda/lib/python3.8/site-packages/blib2to3/Grammar.txt\n",
      "INFO:root:INFO:blib2to3.pgen2.driver:Writing grammar tables to /home/jovyan/.cache/black/20.8b1/Grammar3.8.6.final.0.pickle\n",
      "INFO:root:INFO:blib2to3.pgen2.driver:Writing failed: [Errno 2] No such file or directory: '/home/jovyan/.cache/black/20.8b1/tmpk5wyflwi'\n",
      "INFO:root:INFO:blib2to3.pgen2.driver:Generating grammar tables from /opt/conda/lib/python3.8/site-packages/blib2to3/PatternGrammar.txt\n",
      "INFO:root:INFO:blib2to3.pgen2.driver:Writing grammar tables to /home/jovyan/.cache/black/20.8b1/PatternGrammar3.8.6.final.0.pickle\n",
      "INFO:root:INFO:blib2to3.pgen2.driver:Writing failed: [Errno 2] No such file or directory: '/home/jovyan/.cache/black/20.8b1/tmpk4abqnn0'\n",
      "INFO:root:WARNING:papermill:Input notebook does not contain a cell with tag 'parameters'\n",
      "Executing:   0%|          | 0/6 [00:00<?, ?cell/s]INFO:papermill:Executing notebook with kernel: python3\n",
      "INFO:root:INFO:papermill:Executing Cell 1---------------------------------------\n",
      "INFO:root:INFO:papermill:Ending Cell 1------------------------------------------\n",
      "Executing:  17%|█▋        | 1/6 [00:01<00:05,  1.02s/cell]INFO:papermill:Executing Cell 2---------------------------------------\n",
      "INFO:root:INFO:papermill:['                                \"value\": \"495869084367.dkr.ecr.us-west-2.amazonaws.com/orbit-dev-env-users-custom_image2\"',\n",
      "INFO:root: '                                \"value\": \"495869084367.dkr.ecr.us-west-2.amazonaws.com/orbit-dev-env-users-custom_image2\"',\n",
      "INFO:root: '                        \"image\": \"495869084367.dkr.ecr.us-west-2.amazonaws.com/orbit-dev-env-users-custom_image2\",',\n",
      "INFO:root: '                        \"image\": \"495869084367.dkr.ecr.us-west-2.amazonaws.com/orbit-dev-env-users-custom_image2:latest\",',\n",
      "INFO:root: '                        \"imageID\": \"docker-pullable://495869084367.dkr.ecr.us-west-2.amazonaws.com/orbit-dev-env-users-custom_image2@sha256:6fc86143f37995352fe5f92ca18f5ec4e4b729980592f6fdb9083a66fa1a1f79\",',\n",
      "INFO:root: '                                \"value\": \"495869084367.dkr.ecr.us-west-2.amazonaws.com/orbit-dev-env-users-custom_image2\"',\n",
      "INFO:root: '                                \"value\": \"495869084367.dkr.ecr.us-west-2.amazonaws.com/orbit-dev-env-users-custom_image2\"',\n",
      "INFO:root: '                        \"image\": \"495869084367.dkr.ecr.us-west-2.amazonaws.com/orbit-dev-env-users-custom_image2\",',\n",
      "INFO:root: '                        \"image\": \"495869084367.dkr.ecr.us-west-2.amazonaws.com/orbit-dev-env-users-custom_image2:latest\",',\n",
      "INFO:root: '                        \"imageID\": \"docker-pullable://495869084367.dkr.ecr.us-west-2.amazonaws.com/orbit-dev-env-users-custom_image2@sha256:6fc86143f37995352fe5f92ca18f5ec4e4b729980592f6fdb9083a66fa1a1f79\",',\n",
      "INFO:root: '                        \"image\": \"495869084367.dkr.ecr.us-west-2.amazonaws.com/orbit-dev-env-users-custom_image2\",',\n",
      "INFO:root: '                        \"image\": \"495869084367.dkr.ecr.us-west-2.amazonaws.com/orbit-dev-env-users-custom_image2:latest\",',\n",
      "INFO:root: '                        \"imageID\": \"docker-pullable://495869084367.dkr.ecr.us-west-2.amazonaws.com/orbit-dev-env-users-custom_image2@sha256:e228607390e803db2fa88c1fd86d611e30c023b8f09a265d1f9a261551190c01\",']\n",
      "INFO:root:INFO:papermill:Ending Cell 2------------------------------------------\n",
      "Executing:  33%|███▎      | 2/6 [00:01<00:02,  1.70cell/s]INFO:papermill:Executing Cell 3---------------------------------------\n",
      "INFO:root:INFO:papermill:Ending Cell 3------------------------------------------\n",
      "INFO:root:INFO:papermill:Executing Cell 4---------------------------------------\n",
      "INFO:root:INFO:papermill:my-custom-image-file.txt  orbit.yaml  \u001b[0m\u001b[01;36mprivate\u001b[0m@  \u001b[01;36mshared\u001b[0m@  \u001b[01;34mtmp\u001b[0m/  \u001b[01;34mwork\u001b[0m/\n",
      "INFO:root:INFO:papermill:Ending Cell 4------------------------------------------\n",
      "Executing:  67%|██████▋   | 4/6 [00:01<00:00,  2.34cell/s]INFO:papermill:Executing Cell 5---------------------------------------\n",
      "INFO:root:INFO:papermill:just a text \n",
      "INFO:root:INFO:papermill:Ending Cell 5------------------------------------------\n",
      "Executing:  83%|████████▎ | 5/6 [00:02<00:00,  2.06cell/s]INFO:papermill:Executing Cell 6---------------------------------------\n",
      "INFO:root:INFO:papermill:Ending Cell 6------------------------------------------\n",
      "Executing: 100%|██████████| 6/6 [00:02<00:00,  2.12cell/s]\n",
      "INFO:root:INFO:root:Completed notebook execution: /efs/shared/regression/notebooks/I-Images/simple/test-image/e1@20210225-21:23.ipynb with 0 error\n",
      "INFO:root:INFO:root:Completed all notebook executions\n",
      "INFO:root:INFO:root:Done task execution\n",
      "INFO:root:INFO:root:Exiting Container Main()\n",
      "INFO:root:Running: 1 Completed: 0 Errored: 0\n",
      "INFO:root:waiting for [{'ExecutionType': 'eks', 'Identifier': 'orbit-lake-user-fargate-runner-dq2r5', 'NodeType': 'fargate', 'tasks': [{'notebookName': 'test-image.ipynb', 'sourcePath': '/efs/shared/samples/notebooks/I-Images/simple', 'targetPath': '/efs/shared/regression/notebooks/I-Images/simple', 'params': {}, 'ExecutionType': 'ecs'}]}]\n",
      "INFO:root:Watching task: 'orbit-lake-user-fargate-runner-dq2r5'\n",
      "INFO:root:task orbit-lake-user-fargate-runner-dq2r5-l654k status: {'running': None,\n",
      " 'terminated': {'container_id': 'docker://d2286098e189b0b07cc27e0c64761c9486c29cacaf0742eb868400b6117e3951',\n",
      "                'exit_code': 0,\n",
      "                'finished_at': datetime.datetime(2021, 2, 25, 21, 23, 22, tzinfo=tzlocal()),\n",
      "                'message': None,\n",
      "                'reason': 'Completed',\n",
      "                'signal': None,\n",
      "                'started_at': datetime.datetime(2021, 2, 25, 21, 23, 17, tzinfo=tzlocal())},\n",
      " 'waiting': None}\n",
      "INFO:root:+ '[' 1000 -eq 0 ']'\n",
      "INFO:root:+ mkdir -p /efs/testing\n",
      "INFO:root:+ mkdir -p /efs/shared/scheduled/notebooks\n",
      "INFO:root:+ mkdir -p /efs/shared/scheduled/outputs\n",
      "INFO:root:+ mkdir -p /home/jovyan/tmp\n",
      "INFO:root:+ ln -s /efs/testing/ /home/jovyan/private\n",
      "INFO:root:+ ln -s /efs/shared/ /home/jovyan/shared\n",
      "INFO:root:+ LOCAL_PATH=/home/jovyan/.orbit/bootstrap/scripts/\n",
      "INFO:root:+ S3_PATH=s3://orbit-dev-env-toolkit-495869084367-a2e258/teams/lake-user/bootstrap/\n",
      "INFO:root:+ export PATH=/opt/conda/bin:/usr/local/sbin:/usr/local/bin:/usr/sbin:/usr/bin:/sbin:/bin:/opt/conda/bin\n",
      "INFO:root:+ PATH=/opt/conda/bin:/usr/local/sbin:/usr/local/bin:/usr/sbin:/usr/bin:/sbin:/bin:/opt/conda/bin\n",
      "INFO:root:+ mkdir -p /home/jovyan/.orbit/bootstrap/scripts/\n",
      "INFO:root:+ aws s3 cp s3://orbit-dev-env-toolkit-495869084367-a2e258/teams/lake-user/bootstrap/ /home/jovyan/.orbit/bootstrap/scripts/ --recursive\n",
      "download: s3://orbit-dev-env-toolkit-495869084367-a2e258/teams/lake-user/bootstrap/copy_samples.sh to .orbit/bootstrap/scripts/copy_samples.sh\n",
      "INFO:root:++ ls /home/jovyan/.orbit/bootstrap/scripts/\n",
      "INFO:root:+ for filename in $(ls $LOCAL_PATH)\n",
      "INFO:root:+ echo 'Running copy_samples.sh'\n",
      "INFO:root:+ sh /home/jovyan/.orbit/bootstrap/scripts/copy_samples.sh\n",
      "INFO:root:Running copy_samples.sh\n",
      "INFO:root:+ LOCAL_PATH=/home/jovyan/shared/samples\n",
      "INFO:root:+ mkdir -p /home/jovyan/shared/samples\n",
      "INFO:root:+ S3_PATH=s3://orbit-dev-env-toolkit-495869084367-a2e258/samples/\n",
      "INFO:root:+ mkdir -p /home/jovyan/shared/samples\n",
      "INFO:root:+ aws s3 sync s3://orbit-dev-env-toolkit-495869084367-a2e258/samples/ /home/jovyan/shared/samples\n",
      "INFO:root:+ rm -fR /home/jovyan/.aws\n",
      "INFO:root:INFO:root:Starting Container Main\n",
      "INFO:root:INFO:root:Running tasks...\n",
      "INFO:root:INFO:root:pathToOutputDir=/efs/shared/regression/notebooks/I-Images/simple\n",
      "INFO:root:INFO:root:Starting tasks execution\n",
      "INFO:root:INFO:root:Starting notebook execution for /efs/shared/regression/notebooks/I-Images/simple/test-image/e1@20210225-21:23.ipynb\n",
      "INFO:root:INFO:papermill:Input Notebook:  /tmp/e1@20210225-21:23.ipynb\n",
      "INFO:root:INFO:papermill:Output Notebook: /efs/shared/regression/notebooks/I-Images/simple/test-image/e1@20210225-21:23.ipynb\n",
      "INFO:root:INFO:papermill:Working directory: /efs/shared/samples/notebooks/I-Images/simple\n",
      "INFO:root:INFO:blib2to3.pgen2.driver:Generating grammar tables from /opt/conda/lib/python3.8/site-packages/blib2to3/Grammar.txt\n",
      "INFO:root:INFO:blib2to3.pgen2.driver:Writing grammar tables to /home/jovyan/.cache/black/20.8b1/Grammar3.8.6.final.0.pickle\n",
      "INFO:root:INFO:blib2to3.pgen2.driver:Writing failed: [Errno 2] No such file or directory: '/home/jovyan/.cache/black/20.8b1/tmpk5wyflwi'\n",
      "INFO:root:INFO:blib2to3.pgen2.driver:Generating grammar tables from /opt/conda/lib/python3.8/site-packages/blib2to3/PatternGrammar.txt\n",
      "INFO:root:INFO:blib2to3.pgen2.driver:Writing grammar tables to /home/jovyan/.cache/black/20.8b1/PatternGrammar3.8.6.final.0.pickle\n",
      "INFO:root:INFO:blib2to3.pgen2.driver:Writing failed: [Errno 2] No such file or directory: '/home/jovyan/.cache/black/20.8b1/tmpk4abqnn0'\n",
      "INFO:root:WARNING:papermill:Input notebook does not contain a cell with tag 'parameters'\n",
      "Executing:   0%|          | 0/6 [00:00<?, ?cell/s]INFO:papermill:Executing notebook with kernel: python3\n",
      "INFO:root:INFO:papermill:Executing Cell 1---------------------------------------\n",
      "INFO:root:INFO:papermill:Ending Cell 1------------------------------------------\n",
      "Executing:  17%|█▋        | 1/6 [00:01<00:05,  1.02s/cell]INFO:papermill:Executing Cell 2---------------------------------------\n",
      "INFO:root:INFO:papermill:['                                \"value\": \"495869084367.dkr.ecr.us-west-2.amazonaws.com/orbit-dev-env-users-custom_image2\"',\n",
      "INFO:root: '                                \"value\": \"495869084367.dkr.ecr.us-west-2.amazonaws.com/orbit-dev-env-users-custom_image2\"',\n",
      "INFO:root: '                        \"image\": \"495869084367.dkr.ecr.us-west-2.amazonaws.com/orbit-dev-env-users-custom_image2\",',\n",
      "INFO:root: '                        \"image\": \"495869084367.dkr.ecr.us-west-2.amazonaws.com/orbit-dev-env-users-custom_image2:latest\",',\n",
      "INFO:root: '                        \"imageID\": \"docker-pullable://495869084367.dkr.ecr.us-west-2.amazonaws.com/orbit-dev-env-users-custom_image2@sha256:6fc86143f37995352fe5f92ca18f5ec4e4b729980592f6fdb9083a66fa1a1f79\",',\n",
      "INFO:root: '                                \"value\": \"495869084367.dkr.ecr.us-west-2.amazonaws.com/orbit-dev-env-users-custom_image2\"',\n",
      "INFO:root: '                                \"value\": \"495869084367.dkr.ecr.us-west-2.amazonaws.com/orbit-dev-env-users-custom_image2\"',\n",
      "INFO:root: '                        \"image\": \"495869084367.dkr.ecr.us-west-2.amazonaws.com/orbit-dev-env-users-custom_image2\",',\n",
      "INFO:root: '                        \"image\": \"495869084367.dkr.ecr.us-west-2.amazonaws.com/orbit-dev-env-users-custom_image2:latest\",',\n",
      "INFO:root: '                        \"imageID\": \"docker-pullable://495869084367.dkr.ecr.us-west-2.amazonaws.com/orbit-dev-env-users-custom_image2@sha256:6fc86143f37995352fe5f92ca18f5ec4e4b729980592f6fdb9083a66fa1a1f79\",',\n",
      "INFO:root: '                        \"image\": \"495869084367.dkr.ecr.us-west-2.amazonaws.com/orbit-dev-env-users-custom_image2\",',\n",
      "INFO:root: '                        \"image\": \"495869084367.dkr.ecr.us-west-2.amazonaws.com/orbit-dev-env-users-custom_image2:latest\",',\n",
      "INFO:root: '                        \"imageID\": \"docker-pullable://495869084367.dkr.ecr.us-west-2.amazonaws.com/orbit-dev-env-users-custom_image2@sha256:e228607390e803db2fa88c1fd86d611e30c023b8f09a265d1f9a261551190c01\",']\n",
      "INFO:root:INFO:papermill:Ending Cell 2------------------------------------------\n",
      "Executing:  33%|███▎      | 2/6 [00:01<00:02,  1.70cell/s]INFO:papermill:Executing Cell 3---------------------------------------\n",
      "INFO:root:INFO:papermill:Ending Cell 3------------------------------------------\n",
      "INFO:root:INFO:papermill:Executing Cell 4---------------------------------------\n",
      "INFO:root:INFO:papermill:my-custom-image-file.txt  orbit.yaml  \u001b[0m\u001b[01;36mprivate\u001b[0m@  \u001b[01;36mshared\u001b[0m@  \u001b[01;34mtmp\u001b[0m/  \u001b[01;34mwork\u001b[0m/\n",
      "INFO:root:INFO:papermill:Ending Cell 4------------------------------------------\n",
      "Executing:  67%|██████▋   | 4/6 [00:01<00:00,  2.34cell/s]INFO:papermill:Executing Cell 5---------------------------------------\n",
      "INFO:root:INFO:papermill:just a text \n",
      "INFO:root:INFO:papermill:Ending Cell 5------------------------------------------\n",
      "Executing:  83%|████████▎ | 5/6 [00:02<00:00,  2.06cell/s]INFO:papermill:Executing Cell 6---------------------------------------\n",
      "INFO:root:INFO:papermill:Ending Cell 6------------------------------------------\n",
      "Executing: 100%|██████████| 6/6 [00:02<00:00,  2.12cell/s]\n",
      "INFO:root:INFO:root:Completed notebook execution: /efs/shared/regression/notebooks/I-Images/simple/test-image/e1@20210225-21:23.ipynb with 0 error\n",
      "INFO:root:INFO:root:Completed all notebook executions\n",
      "INFO:root:INFO:root:Done task execution\n",
      "INFO:root:INFO:root:Exiting Container Main()\n",
      "INFO:root:Running: 0 Completed: 1 Errored: 0\n",
      "INFO:root:All tasks stopped\n",
      "CPU times: user 199 ms, sys: 78.5 ms, total: 278 ms\n",
      "Wall time: 22.6 s\n"
     ]
    }
   ],
   "source": [
    "%%time\n",
    "\n",
    "!orbit run notebook --env $env_name --team $team_name --user testing --wait --tail-logs run.json\n"
   ]
  },
  {
   "cell_type": "code",
   "execution_count": null,
   "id": "secret-contribution",
   "metadata": {},
   "outputs": [],
   "source": []
  }
 ],
 "metadata": {
  "kernelspec": {
   "display_name": "Python 3",
   "language": "python",
   "name": "python3"
  },
  "language_info": {
   "codemirror_mode": {
    "name": "ipython",
    "version": 3
   },
   "file_extension": ".py",
   "mimetype": "text/x-python",
   "name": "python",
   "nbconvert_exporter": "python",
   "pygments_lexer": "ipython3",
   "version": "3.8.6"
  },
  "pycharm": {
   "stem_cell": {
    "cell_type": "raw",
    "source": [],
    "metadata": {
     "collapsed": false
    }
   }
  }
 },
 "nbformat": 4,
 "nbformat_minor": 5
}