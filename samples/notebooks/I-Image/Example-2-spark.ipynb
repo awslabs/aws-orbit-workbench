{
 "cells": [
  {
   "cell_type": "markdown",
   "id": "79163300",
   "metadata": {},
   "source": [
    "<!--\n",
    "#  Copyright Amazon.com, Inc. or its affiliates. All Rights Reserved.\n",
    "#\n",
    "#    Licensed under the Apache License, Version 2.0 (the \"License\").\n",
    "#    You may not use this file except in compliance with the License.\n",
    "#    You may obtain a copy of the License at\n",
    "#\n",
    "#        http://www.apache.org/licenses/LICENSE-2.0\n",
    "#\n",
    "#    Unless required by applicable law or agreed to in writing, software\n",
    "#    distributed under the License is distributed on an \"AS IS\" BASIS,\n",
    "#    WITHOUT WARRANTIES OR CONDITIONS OF ANY KIND, either express or implied.\n",
    "#    See the License for the specific language governing permissions and\n",
    "#    limitations under the License.\n",
    "-->\n",
    "\n",
    "# Sample notebook to build a Jupyter Image with Spark Kernel.\n",
    "\n",
    "## Content\n",
    "1. [Configuration](#Configuration)\n",
    "2. [Build Image](#Build-Image)\n",
    "2. [Running Container using the profile](#Running-container)\n"
   ]
  },
  {
   "cell_type": "markdown",
   "id": "679833ef",
   "metadata": {},
   "source": [
    "### Configuration"
   ]
  },
  {
   "cell_type": "code",
   "execution_count": 1,
   "id": "c92f1478",
   "metadata": {},
   "outputs": [],
   "source": [
    "profile_name='spark'\n",
    "image_name = 'spark'\n",
    "folder_name = 'spark'"
   ]
  },
  {
   "cell_type": "markdown",
   "id": "37f5181d",
   "metadata": {},
   "source": [
    "### Build Image"
   ]
  },
  {
   "cell_type": "markdown",
   "id": "ba85be42",
   "metadata": {},
   "source": [
    "Lets see how  orbit build image works..."
   ]
  },
  {
   "cell_type": "code",
   "execution_count": null,
   "id": "b7143270",
   "metadata": {},
   "outputs": [],
   "source": [
    "!orbit build image --help"
   ]
  },
  {
   "cell_type": "markdown",
   "id": "ef6faac3",
   "metadata": {},
   "source": [
    "get our orbit env and team names"
   ]
  },
  {
   "cell_type": "code",
   "execution_count": null,
   "id": "9a2aa62a",
   "metadata": {},
   "outputs": [],
   "source": [
    "env_name = %env AWS_ORBIT_ENV\n",
    "team_name = %env AWS_ORBIT_TEAM_SPACE\n",
    "user_name = %env USERNAME\n",
    "namespace = %env AWS_ORBIT_USER_SPACE\n",
    "(env_name,team_name, user_name, namespace)"
   ]
  },
  {
   "cell_type": "markdown",
   "id": "84e69e65",
   "metadata": {},
   "source": [
    "Repository name will be created from the image name prefixed by the env context.  Users are only able to manipulate ECR repos that start with 'orbit-{env_name}/users/'"
   ]
  },
  {
   "cell_type": "code",
   "execution_count": null,
   "id": "b160b27e",
   "metadata": {},
   "outputs": [],
   "source": [
    "repository_name = (f\"orbit-{env_name}/users/{image_name}\")\n",
    "repository_name"
   ]
  },
  {
   "cell_type": "code",
   "execution_count": null,
   "id": "7a53b50e",
   "metadata": {},
   "outputs": [],
   "source": [
    "!aws ecr delete-repository --repository-name $repository_name --force"
   ]
  },
  {
   "cell_type": "code",
   "execution_count": null,
   "id": "0b5f93e1",
   "metadata": {},
   "outputs": [],
   "source": [
    "%cd ~/shared/samples/notebooks/I-Image/$folder_name"
   ]
  },
  {
   "cell_type": "markdown",
   "id": "35e935ed",
   "metadata": {},
   "source": [
    "adding a file to our docker as an example"
   ]
  },
  {
   "cell_type": "code",
   "execution_count": null,
   "id": "cc0a43cb",
   "metadata": {},
   "outputs": [],
   "source": [
    "pwd = %pwd\n",
    "pwd"
   ]
  },
  {
   "cell_type": "markdown",
   "id": "5067265c",
   "metadata": {},
   "source": [
    "Now lets run the command"
   ]
  },
  {
   "cell_type": "code",
   "execution_count": null,
   "id": "1bc93948",
   "metadata": {},
   "outputs": [],
   "source": [
    "%%time\n",
    "\n",
    "output = !orbit build image -e $env_name -d $pwd -n $image_name\n",
    "output"
   ]
  },
  {
   "cell_type": "markdown",
   "id": "98fbc982",
   "metadata": {},
   "source": [
    "Lets get the image address from the output of the previous command"
   ]
  },
  {
   "cell_type": "code",
   "execution_count": null,
   "id": "349d6d0b",
   "metadata": {},
   "outputs": [],
   "source": [
    "look_for = 'ECR Image Address='\n",
    "image = None\n",
    "for o in output:\n",
    "    if look_for in o:\n",
    "        image = o[o.index(look_for) + len(look_for):]\n",
    "        print(image)\n",
    "\n",
    "assert(image != None)       \n",
    "    "
   ]
  },
  {
   "cell_type": "code",
   "execution_count": null,
   "id": "2e616814",
   "metadata": {},
   "outputs": [],
   "source": [
    "# check that the image was built\n",
    "import json\n",
    "print(repository_name)\n",
    "images = !aws ecr list-images --repository-name $repository_name\n",
    "images = \"\".join(images)\n",
    "im = json.loads(images)\n",
    "print(im['imageIds'])\n",
    "assert(len(im['imageIds']) > 0)"
   ]
  },
  {
   "cell_type": "markdown",
   "id": "1d8cad11",
   "metadata": {},
   "source": [
    "### Building the profile for the Image"
   ]
  },
  {
   "cell_type": "markdown",
   "id": "3cc9e83a",
   "metadata": {},
   "source": [
    "import json\n",
    "profile = {\n",
    "        \"display_name\": profile_name,\n",
    "        \"description\": \"Use for spark kernel\",\n",
    "        \"kubespawner_override\": {\n",
    "            \"image\": image,\n",
    "            \"cpu_guarantee\": 2,\n",
    "            \"cpu_limit\": 2,\n",
    "            \"mem_guarantee\": \"1G\",\n",
    "            \"mem_limit\": \"1G\"\n",
    "        }\n",
    "}\n",
    "\n",
    "with open(\"profile.json\", 'w') as f:\n",
    "    json.dump(profile, f)\n"
   ]
  },
  {
   "cell_type": "code",
   "execution_count": 4,
   "id": "8c741eba",
   "metadata": {},
   "outputs": [],
   "source": [
    "import json\n",
    "\n",
    "customname = \"orbit-spark-image-\"+team_name\n",
    "\n",
    "podsetting = {\n",
    "    \"apiVersion\": \"orbit.aws/v1\",\n",
    "    \"kind\": \"PodSetting\",\n",
    "    \"metadata\": {\n",
    "        \"labels\": {\n",
    "            \"orbit/env\": env_name,\n",
    "            \"orbit/space\": \"team\",\n",
    "            \"orbit/team\": team_name\n",
    "        },\n",
    " \n",
    "        \"name\": customname,\n",
    "        \"namespace\": team_name,\n",
    "    },\n",
    "    \"spec\": {\n",
    "        \"containerSelector\": {\n",
    "            \"jsonpath\": \"metadata.labels.app\"\n",
    "        },\n",
    "        \"desc\": \"Custom Image Example \"+customname ,\n",
    "        \"env\": [\n",
    "            {\n",
    "                \"name\": \"custom_name\",\n",
    "                \"value\": \"custom_value\"\n",
    "            }\n",
    "        ],\n",
    "        \"podSelector\": {\n",
    "            \"matchExpressions\": [\n",
    "                {\n",
    "                    \"key\": \"orbit/\"+customname,\n",
    "                    \"operator\": \"Exists\"\n",
    "                },\n",
    "                {\n",
    "                    \"key\": \"app\",\n",
    "                    \"operator\": \"NotIn\",\n",
    "                    \"values\": [\n",
    "                        \"orbit-runner\"\n",
    "                    ]\n",
    "                }\n",
    "            ]\n",
    "        },\n",
    "        \"resources\": {\n",
    "            \"limits\": {\n",
    "                \"cpu\": \"2.0\",\n",
    "                \"memory\": \"1Gi\"\n",
    "            },\n",
    "            \"requests\": {\n",
    "                \"cpu\": \"2.0\",\n",
    "                \"memory\": \"1Gi\"\n",
    "            }\n",
    "        },\n",
    "        \"securityContext\": {\n",
    "            \"runAsUser\": 1000\n",
    "        },\n",
    "        \"image\": image\n",
    "    }\n",
    "}\n",
    "\n",
    "\n",
    "with open(\"podsetting_spark.json\", 'w') as f:\n",
    "    json.dump(podsetting, f)"
   ]
  },
  {
   "cell_type": "code",
   "execution_count": null,
   "id": "d13970a2",
   "metadata": {},
   "outputs": [],
   "source": [
    "!kubectl apply -f podsetting_spark.json -n {team_name}"
   ]
  },
  {
   "cell_type": "code",
   "execution_count": null,
   "id": "9be39ae9",
   "metadata": {},
   "outputs": [],
   "source": []
  },
  {
   "cell_type": "markdown",
   "id": "8c184420",
   "metadata": {},
   "source": [
    "### Running container \n",
    "\n",
    "Lets run a container using the profile and image we created"
   ]
  },
  {
   "cell_type": "markdown",
   "id": "07c77750",
   "metadata": {},
   "source": [
    "import json\n",
    "run = {\n",
    "      \"compute\": {\n",
    "          \"container\" : {\n",
    "              \"p_concurrent\": \"1\"\n",
    "          },\n",
    "          \"node_type\": \"ec2\",\n",
    "          \"profile\": profile_name\n",
    "      },\n",
    "      \"tasks\":  [{\n",
    "          \"notebookName\": \"test-image.ipynb\",\n",
    "          \"sourcePath\": pwd,\n",
    "          \"targetPath\": f\"/home/jovyan/shared/regression/notebooks/I-Image/{folder_name}\",\n",
    "          \"params\": {\n",
    "          }\n",
    "        }]\n",
    " }\n",
    "\n",
    "with open(\"run.json\", 'w') as f:\n",
    "    json.dump(run, f)\n"
   ]
  },
  {
   "cell_type": "markdown",
   "id": "709c4672",
   "metadata": {},
   "source": [
    "%%time\n",
    "\n",
    "!orbit run notebook --env $env_name --team $team_name --user testing --wait --tail-logs run.json\n"
   ]
  },
  {
   "cell_type": "code",
   "execution_count": null,
   "id": "a4fc28fc",
   "metadata": {},
   "outputs": [],
   "source": []
  }
 ],
 "metadata": {
  "kernelspec": {
   "display_name": "Python 3",
   "language": "python",
   "name": "python3"
  },
  "language_info": {
   "codemirror_mode": {
    "name": "ipython",
    "version": 3
   },
   "file_extension": ".py",
   "mimetype": "text/x-python",
   "name": "python",
   "nbconvert_exporter": "python",
   "pygments_lexer": "ipython3",
   "version": "3.8.8"
  },
  "pycharm": {
   "stem_cell": {
    "cell_type": "raw",
    "metadata": {
     "collapsed": false
    },
    "source": []
   }
  }
 },
 "nbformat": 4,
 "nbformat_minor": 5
}
