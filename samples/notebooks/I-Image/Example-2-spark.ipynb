{
 "cells": [
  {
   "cell_type": "markdown",
   "metadata": {},
   "source": [
    "<!--\n",
    "#  Copyright Amazon.com, Inc. or its affiliates. All Rights Reserved.\n",
    "#\n",
    "#    Licensed under the Apache License, Version 2.0 (the \"License\").\n",
    "#    You may not use this file except in compliance with the License.\n",
    "#    You may obtain a copy of the License at\n",
    "#\n",
    "#        http://www.apache.org/licenses/LICENSE-2.0\n",
    "#\n",
    "#    Unless required by applicable law or agreed to in writing, software\n",
    "#    distributed under the License is distributed on an \"AS IS\" BASIS,\n",
    "#    WITHOUT WARRANTIES OR CONDITIONS OF ANY KIND, either express or implied.\n",
    "#    See the License for the specific language governing permissions and\n",
    "#    limitations under the License.\n",
    "-->\n",
    "\n",
    "# Sample notebook to build a Jupyter Image with Spark Kernel.\n",
    "\n",
    "## Content\n",
    "1. [Configuration](#Configuration)\n",
    "2. [Build Image](#Build-Image)\n",
    "2. [Running Container using the profile](#Running-container)\n"
   ]
  },
  {
   "cell_type": "markdown",
   "metadata": {},
   "source": [
    "### Configuration"
   ]
  },
  {
   "cell_type": "code",
   "execution_count": null,
   "metadata": {},
   "outputs": [],
   "source": [
    "profile_name='spark'\n",
    "image_name = 'spark'\n",
    "folder_name = 'spark'"
   ]
  },
  {
   "cell_type": "markdown",
   "metadata": {},
   "source": [
    "### Build Image"
   ]
  },
  {
   "cell_type": "markdown",
   "metadata": {},
   "source": [
    "Lets see how  orbit build image works..."
   ]
  },
  {
   "cell_type": "code",
   "execution_count": null,
   "metadata": {},
   "outputs": [],
   "source": [
    "!orbit build image --help"
   ]
  },
  {
   "cell_type": "markdown",
   "metadata": {},
   "source": [
    "get our orbit env and team names"
   ]
  },
  {
   "cell_type": "code",
   "execution_count": null,
   "metadata": {},
   "outputs": [],
   "source": [
    "env_name = %env AWS_ORBIT_ENV\n",
    "team_name = %env AWS_ORBIT_TEAM_SPACE\n",
    "user_name = %env USERNAME\n",
    "namespace = %env AWS_ORBIT_USER_SPACE\n",
    "(env_name,team_name, user_name, namespace)"
   ]
  },
  {
   "cell_type": "markdown",
   "metadata": {},
   "source": [
    "Repository name will be created from the image name prefixed by the env context.  Users are only able to manipulate ECR repos that start with 'orbit-{env_name}/users/'"
   ]
  },
  {
   "cell_type": "code",
   "execution_count": null,
   "metadata": {},
   "outputs": [],
   "source": [
    "repository_name = (f\"orbit-{env_name}/users/{image_name}\")\n",
    "repository_name"
   ]
  },
  {
   "cell_type": "code",
   "execution_count": null,
   "metadata": {},
   "outputs": [],
   "source": [
    "!aws ecr delete-repository --repository-name $repository_name --force"
   ]
  },
  {
   "cell_type": "code",
   "execution_count": null,
   "metadata": {},
   "outputs": [],
   "source": [
    "%cd ~/shared/samples/notebooks/I-Image/$folder_name"
   ]
  },
  {
   "cell_type": "markdown",
   "metadata": {},
   "source": [
    "adding a file to our docker as an example"
   ]
  },
  {
   "cell_type": "code",
   "execution_count": null,
   "metadata": {},
   "outputs": [],
   "source": [
    "pwd = %pwd\n",
    "pwd"
   ]
  },
  {
   "cell_type": "markdown",
   "metadata": {},
   "source": [
    "Now lets run the command"
   ]
  },
  {
   "cell_type": "code",
   "execution_count": null,
   "metadata": {},
   "outputs": [],
   "source": [
    "%%time\n",
    "\n",
    "output = !orbit build image -e $env_name -d $pwd -n $image_name\n",
    "output"
   ]
  },
  {
   "cell_type": "markdown",
   "metadata": {},
   "source": [
    "Lets get the image address from the output of the previous command"
   ]
  },
  {
   "cell_type": "code",
   "execution_count": null,
   "metadata": {},
   "outputs": [],
   "source": [
    "look_for = 'ECR Image Address='\n",
    "image = None\n",
    "for o in output:\n",
    "    if look_for in o:\n",
    "        image = o[o.index(look_for) + len(look_for):]\n",
    "        print(image)\n",
    "\n",
    "assert(image != None)       \n",
    "    "
   ]
  },
  {
   "cell_type": "code",
   "execution_count": null,
   "metadata": {},
   "outputs": [],
   "source": [
    "# check that the image was built\n",
    "import json\n",
    "print(repository_name)\n",
    "images = !aws ecr list-images --repository-name $repository_name\n",
    "images = \"\".join(images)\n",
    "im = json.loads(images)\n",
    "print(im['imageIds'])\n",
    "assert(len(im['imageIds']) > 0)"
   ]
  },
  {
   "cell_type": "markdown",
   "metadata": {},
   "source": [
    "### Building the podsetting for the Image"
   ]
  },
  {
   "cell_type": "code",
   "execution_count": null,
   "metadata": {
    "tags": []
   },
   "outputs": [],
   "source": [
    "import json\n",
    "\n",
    "customname = \"orbit-custom-spark-image-\"+team_name\n",
    "\n",
    "with open(\"podsetting_spark.yaml\", \"w\") as file:\n",
    "    file.write(\"\"\"\n",
    "    kind: PodSetting\n",
    "    apiVersion: orbit.aws/v1\n",
    "    metadata:\n",
    "      labels:\n",
    "        orbit/env: {env_name}\n",
    "        orbit/space: team\n",
    "        orbit/team: {team_name}\n",
    "      name: {customname}\n",
    "      namespace: {team_name}\n",
    "    spec:\n",
    "      containerSelector:\n",
    "        jsonpath: metadata.labels.app\n",
    "      desc: SPARK Custom Image example {customname}\n",
    "      env:\n",
    "        - name: custom_name\n",
    "          value: custom_value\n",
    "      image: >-\n",
    "        {image}\n",
    "      podSelector:\n",
    "        matchExpressions:\n",
    "          - key: orbit/{customname}\n",
    "            operator: Exists\n",
    "      resources:\n",
    "        limits:\n",
    "          cpu: '1.0'\n",
    "          memory: 1Gi\n",
    "        requests:\n",
    "          cpu: '1.0'\n",
    "          memory: 1Gi\n",
    "      securityContext:\n",
    "        runAsUser: 1000\n",
    "    \"\"\".format(team_name=team_name,env_name=env_name,customname=customname,image=image)\n",
    ")\n"
   ]
  },
  {
   "cell_type": "code",
   "execution_count": null,
   "metadata": {},
   "outputs": [],
   "source": [
    "!kubectl apply -f podsetting_spark.yaml -n {team_name}"
   ]
  },
  {
   "cell_type": "markdown",
   "metadata": {},
   "source": [
    "### Running container \n",
    "\n",
    "Lets run a container using the profile and image we created"
   ]
  },
  {
   "cell_type": "code",
   "execution_count": null,
   "metadata": {},
   "outputs": [],
   "source": [
    "import json\n",
    "run = {\n",
    "      \"compute\": {\n",
    "          \"container\" : {\n",
    "              \"p_concurrent\": \"1\"\n",
    "          },\n",
    "          \"node_type\": \"ec2\",\n",
    "          \"podsetting\":customname,\n",
    "          \"labels\": {\n",
    "            \"my-jobid\": customname\n",
    "          } \n",
    "      },\n",
    "      \"tasks\":  [{\n",
    "          \"notebookName\": \"test-image.ipynb\",\n",
    "          \"sourcePath\": pwd,\n",
    "          \"targetPath\": f\"/home/jovyan/shared/regression/notebooks/I-Image/{folder_name}\",\n",
    "          \"params\": {\n",
    "          }\n",
    "        }]\n",
    " }\n",
    "\n",
    "with open(\"run.json\", 'w') as f:\n",
    "    json.dump(run, f)"
   ]
  },
  {
   "cell_type": "code",
   "execution_count": null,
   "metadata": {},
   "outputs": [],
   "source": [
    "%%time\n",
    "\n",
    "!orbit run notebook --env $env_name --team $team_name --user testing --wait --tail-logs run.json"
   ]
  },
  {
   "cell_type": "markdown",
   "metadata": {},
   "source": [
    "!kubectl delete job -l my-jobid={customname}"
   ]
  },
  {
   "cell_type": "markdown",
   "metadata": {},
   "source": [
    "!kubectl delete podsetting {customname} -n {namespace}"
   ]
  }
 ],
 "metadata": {
  "kernelspec": {
   "display_name": "Python 3.7.10 64-bit ('.venv': venv)",
   "name": "python3710jvsc74a57bd00b057235627626f57fbc8c705765c1500164cd2c2844b87f4d5072ebf53a5e1f"
  },
  "language_info": {
   "name": "python",
   "version": ""
  },
  "pycharm": {
   "stem_cell": {
    "cell_type": "raw",
    "metadata": {
     "collapsed": false
    },
    "source": []
   }
  }
 },
 "nbformat": 4,
 "nbformat_minor": 5
}