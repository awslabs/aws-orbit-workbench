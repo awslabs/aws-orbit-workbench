{
 "cells": [
  {
   "cell_type": "markdown",
   "id": "varied-champion",
   "metadata": {},
   "source": [
    "<!--\n",
    "#  Copyright Amazon.com, Inc. or its affiliates. All Rights Reserved.\n",
    "#\n",
    "#    Licensed under the Apache License, Version 2.0 (the \"License\").\n",
    "#    You may not use this file except in compliance with the License.\n",
    "#    You may obtain a copy of the License at\n",
    "#\n",
    "#        http://www.apache.org/licenses/LICENSE-2.0\n",
    "#\n",
    "#    Unless required by applicable law or agreed to in writing, software\n",
    "#    distributed under the License is distributed on an \"AS IS\" BASIS,\n",
    "#    WITHOUT WARRANTIES OR CONDITIONS OF ANY KIND, either express or implied.\n",
    "#    See the License for the specific language governing permissions and\n",
    "#    limitations under the License.\n",
    "-->\n",
    "\n",
    "# Sample notebook to build a Jupyter Image with Spark Kernel.\n",
    "\n",
    "## Content\n",
    "1. [Configuration](#Configuration)\n",
    "2. [Build Image](#Build-Image)\n",
    "2. [Running Container using the profile](#Running-container)\n"
   ]
  },
  {
   "cell_type": "markdown",
   "id": "thrown-marketing",
   "metadata": {},
   "source": [
    "### Configuration"
   ]
  },
  {
   "cell_type": "code",
   "execution_count": 1,
   "id": "vital-somewhere",
   "metadata": {},
   "outputs": [],
   "source": [
    "profile_name='spark'\n",
    "image_name = 'spark'\n",
    "folder_name = 'spark'"
   ]
  },
  {
   "cell_type": "markdown",
   "id": "wanted-steps",
   "metadata": {},
   "source": [
    "### Build Image"
   ]
  },
  {
   "cell_type": "markdown",
   "id": "automated-double",
   "metadata": {},
   "source": [
    "Lets see how  orbit build image works..."
   ]
  },
  {
   "cell_type": "code",
   "execution_count": 2,
   "id": "equipped-principal",
   "metadata": {},
   "outputs": [
    {
     "name": "stdout",
     "output_type": "stream",
     "text": [
      "Usage: orbit build image [OPTIONS]\n",
      "\n",
      "  Build and Deploy a new Docker image into ECR.\n",
      "\n",
      "Options:\n",
      "  -e, --env TEXT        Orbit Environment.  [required]\n",
      "  -d, --dir TEXT        Dockerfile directory.  [required]\n",
      "  -n, --name TEXT       Image name.  [required]\n",
      "  -s, --script TEXT     Build script to run before the image build.\n",
      "  -t, --team TEXT       One or more Teams to deploy the image to (can de\n",
      "                        declared multiple times).\n",
      "\n",
      "  --build-arg TEXT      One or more --build-arg parameters to pass to the\n",
      "                        Docker build command.\n",
      "\n",
      "  --debug / --no-debug  Enable detailed logging.  [default: False]\n",
      "  --help                Show this message and exit.\n"
     ]
    }
   ],
   "source": [
    "!orbit build image --help"
   ]
  },
  {
   "cell_type": "markdown",
   "id": "surface-illustration",
   "metadata": {},
   "source": [
    "get our orbit env and team names"
   ]
  },
  {
   "cell_type": "code",
   "execution_count": 3,
   "id": "marine-female",
   "metadata": {},
   "outputs": [
    {
     "data": {
      "text/plain": [
       "('dev-env', 'lake-user')"
      ]
     },
     "execution_count": 3,
     "metadata": {},
     "output_type": "execute_result"
    }
   ],
   "source": [
    "env_name = %env AWS_ORBIT_ENV\n",
    "team_name = %env AWS_ORBIT_TEAM_SPACE\n",
    "(env_name,team_name)"
   ]
  },
  {
   "cell_type": "markdown",
   "id": "split-madagascar",
   "metadata": {},
   "source": [
    "Repository name will be created from the image name prefixed by the env context.  Users are only able to manipulate ECR repos that start with 'orbit-{env_name}/users/'"
   ]
  },
  {
   "cell_type": "code",
   "execution_count": 4,
   "id": "instant-modern",
   "metadata": {},
   "outputs": [
    {
     "data": {
      "text/plain": [
       "'orbit-dev-env-users-spark'"
      ]
     },
     "execution_count": 4,
     "metadata": {},
     "output_type": "execute_result"
    }
   ],
   "source": [
    "repository_name = (f\"orbit-{env_name}/users/{image_name}\")\n",
    "repository_name"
   ]
  },
  {
   "cell_type": "code",
   "execution_count": 5,
   "id": "tutorial-petroleum",
   "metadata": {},
   "outputs": [
    {
     "name": "stdout",
     "output_type": "stream",
     "text": [
      "{\n",
      "    \"repository\": {\n",
      "        \"repositoryArn\": \"arn:aws:ecr:us-west-2:495869084367:repository/orbit-dev-env-users-spark\",\n",
      "        \"registryId\": \"495869084367\",\n",
      "        \"repositoryName\": \"orbit-dev-env-users-spark\",\n",
      "        \"repositoryUri\": \"495869084367.dkr.ecr.us-west-2.amazonaws.com/orbit-dev-env-users-spark\",\n",
      "        \"createdAt\": 1614288506.0,\n",
      "        \"imageTagMutability\": \"MUTABLE\"\n",
      "    }\n",
      "}\n"
     ]
    }
   ],
   "source": [
    "!aws ecr delete-repository --repository-name $repository_name --force"
   ]
  },
  {
   "cell_type": "code",
   "execution_count": 22,
   "id": "fatty-roads",
   "metadata": {},
   "outputs": [
    {
     "name": "stdout",
     "output_type": "stream",
     "text": [
      "/home/jovyan/shared/samples/notebooks/I-Image/spark\n"
     ]
    }
   ],
   "source": [
    "%cd ~/shared/samples/notebooks/I-Image/$folder_name"
   ]
  },
  {
   "cell_type": "markdown",
   "id": "experienced-technical",
   "metadata": {},
   "source": [
    "adding a file to our docker as an example"
   ]
  },
  {
   "cell_type": "code",
   "execution_count": 23,
   "id": "swedish-feeling",
   "metadata": {},
   "outputs": [
    {
     "data": {
      "text/plain": [
       "'/home/jovyan/shared/samples/notebooks/I-Image/spark'"
      ]
     },
     "execution_count": 23,
     "metadata": {},
     "output_type": "execute_result"
    }
   ],
   "source": [
    "pwd = %pwd\n",
    "pwd"
   ]
  },
  {
   "cell_type": "markdown",
   "id": "operational-metadata",
   "metadata": {},
   "source": [
    "Now lets run the command"
   ]
  },
  {
   "cell_type": "code",
   "execution_count": 8,
   "id": "atmospheric-haiti",
   "metadata": {},
   "outputs": [
    {
     "name": "stdout",
     "output_type": "stream",
     "text": [
      "CPU times: user 9.67 ms, sys: 10.8 ms, total: 20.5 ms\n",
      "Wall time: 9min 34s\n"
     ]
    },
    {
     "data": {
      "text/plain": [
       "['',\n",
       " 'Deploying Docker Image |\\x1b[32m                   \\x1b[0m|   0% \\x1b[0m',\n",
       " '                                                  ',\n",
       " '',\n",
       " 'Deploying Docker Image |\\x1b[32m▏                  \\x1b[0m|   1% \\x1b[0m',\n",
       " 'Deploying Docker Image |\\x1b[32m▌                  \\x1b[0m|   3% \\x1b[0m',\n",
       " 'Deploying Docker Image |\\x1b[32m▉                  \\x1b[0m|   5% \\x1b[0m',\n",
       " 'Deploying Docker Image |\\x1b[32m███▊               \\x1b[0m|  20% \\x1b[0m',\n",
       " 'Deploying Docker Image |\\x1b[32m█████▏             \\x1b[0m|  27% \\x1b[0m',\n",
       " 'Deploying Docker Image |\\x1b[32m██████████████████▊\\x1b[0m|  99% \\x1b[0m',\n",
       " '                                                  ',\n",
       " '',\n",
       " 'Deploying Docker Image |\\x1b[32m██████████████████▊\\x1b[0m|  99% \\x1b[0m',\n",
       " '                                                  ',\n",
       " '',\n",
       " 'Deploying Docker Image |\\x1b[32m██████████████████▊\\x1b[0m|  99% \\x1b[0m',\n",
       " '                                                  ',\n",
       " '',\n",
       " 'Deploying Docker Image |\\x1b[32m██████████████████▊\\x1b[0m|  99% \\x1b[0m',\n",
       " 'Deploying Docker Image |\\x1b[32m███████████████████\\x1b[0m| 100% \\x1b[0m',\n",
       " '                                                  ',\n",
       " '',\n",
       " 'Deploying Docker Image |\\x1b[32m███████████████████\\x1b[0m| 100% \\x1b[0m',\n",
       " 'Deploying Docker Image |\\x1b[32m███████████████████\\x1b[0m| 100% \\x1b[0m',\n",
       " '[\\x1b[39m\\x1b[22m\\x1b[24m Info \\x1b[0m] Manifest loaded',\n",
       " '[\\x1b[39m\\x1b[22m\\x1b[24m Info \\x1b[0m] Docker Image deploy into ECR',\n",
       " '[\\x1b[39m\\x1b[22m\\x1b[24m Info \\x1b[0m] ECR Image Address=495869084367.dkr.ecr.us-west-2.amazonaws.com/orbit-dev-env-users-spark',\n",
       " '[\\x1b[94m\\x1b[22m\\x1b[24m Tip \\x1b[0m] ECR Image Address: \\x1b[94m\\x1b[22m\\x1b[4m495869084367.dkr.ecr.us-west-2.amazonaws.com/orbit-dev-env-users-spark\\x1b[0m',\n",
       " '']"
      ]
     },
     "execution_count": 8,
     "metadata": {},
     "output_type": "execute_result"
    }
   ],
   "source": [
    "%%time\n",
    "\n",
    "output = !orbit build image -e $env_name -d $pwd -n $image_name\n",
    "output"
   ]
  },
  {
   "cell_type": "markdown",
   "id": "standard-strength",
   "metadata": {},
   "source": [
    "Lets get the image address from the output of the previous command"
   ]
  },
  {
   "cell_type": "code",
   "execution_count": 42,
   "id": "excessive-overhead",
   "metadata": {},
   "outputs": [
    {
     "name": "stdout",
     "output_type": "stream",
     "text": [
      "495869084367.dkr.ecr.us-west-2.amazonaws.com/orbit-dev-env-users-spark\n"
     ]
    }
   ],
   "source": [
    "look_for = 'ECR Image Address='\n",
    "image = None\n",
    "for o in output:\n",
    "    if look_for in o:\n",
    "        image = o[o.index(look_for) + len(look_for):]\n",
    "        print(image)\n",
    "\n",
    "assert(image != None)       \n",
    "    "
   ]
  },
  {
   "cell_type": "code",
   "execution_count": 10,
   "id": "dirty-indication",
   "metadata": {},
   "outputs": [
    {
     "name": "stdout",
     "output_type": "stream",
     "text": [
      "orbit-dev-env-users-spark\n",
      "[{'imageDigest': 'sha256:1a3a635f7db29009c48befa9cb7e31c8b12613053f3b4cdf60d5930263ddef7e', 'imageTag': 'latest'}]\n"
     ]
    }
   ],
   "source": [
    "# check that the image was built\n",
    "import json\n",
    "print(repository_name)\n",
    "images = !aws ecr list-images --repository-name $repository_name\n",
    "images = \"\".join(images)\n",
    "im = json.loads(images)\n",
    "print(im['imageIds'])\n",
    "assert(len(im['imageIds']) > 0)"
   ]
  },
  {
   "cell_type": "markdown",
   "id": "forty-catering",
   "metadata": {},
   "source": [
    "### Building the profile for the Image"
   ]
  },
  {
   "cell_type": "code",
   "execution_count": 43,
   "id": "eligible-reconstruction",
   "metadata": {},
   "outputs": [],
   "source": [
    "import json\n",
    "profile = {\n",
    "        \"display_name\": profile_name,\n",
    "        \"description\": \"Use for spark kernel\",\n",
    "        \"kubespawner_override\": {\n",
    "            \"image\": image,\n",
    "            \"cpu_guarantee\": 2,\n",
    "            \"cpu_limit\": 2,\n",
    "            \"mem_guarantee\": \"1G\",\n",
    "            \"mem_limit\": \"1G\"\n",
    "        }\n",
    "}\n",
    "\n",
    "with open(\"profile.json\", 'w') as f:\n",
    "    json.dump(profile, f)\n"
   ]
  },
  {
   "cell_type": "code",
   "execution_count": 44,
   "id": "juvenile-draft",
   "metadata": {},
   "outputs": [
    {
     "name": "stdout",
     "output_type": "stream",
     "text": [
      "{\"display_name\": \"spark\", \"slug\": \"spark\", \"description\": \"Use for spark kernel\", \"kubespawner_override\": {\"image\": \"495869084367.dkr.ecr.us-west-2.amazonaws.com/orbit-dev-env-users-spark\", \"cpu_guarantee\": 2, \"cpu_limit\": 2, \"mem_guarantee\": \"1G\", \"mem_limit\": \"1G\"}}"
     ]
    }
   ],
   "source": [
    "!cat profile.json"
   ]
  },
  {
   "cell_type": "code",
   "execution_count": 45,
   "id": "separated-merchandise",
   "metadata": {},
   "outputs": [
    {
     "name": "stdout",
     "output_type": "stream",
     "text": [
      "[\u001b[39m\u001b[22m\u001b[24m Info \u001b[0m] Retrieving existing profiles0% \u001b[0m\n",
      "[\u001b[94m\u001b[22m\u001b[24m Tip \u001b[0m] Profile added spark    0m|   1% \u001b[0m\n",
      "                                                  0m| 100% \u001b[0m\n",
      "Adding profile |\u001b[32m███████████████████████████\u001b[0m| 100% \u001b[0m\n"
     ]
    }
   ],
   "source": [
    "!orbit build profile --env $env_name --team $team_name profile.json"
   ]
  },
  {
   "cell_type": "code",
   "execution_count": 46,
   "id": "optimum-advance",
   "metadata": {},
   "outputs": [
    {
     "name": "stdout",
     "output_type": "stream",
     "text": [
      "Team profiles:\n",
      "[\n",
      "    {\n",
      "        \"description\": \"Use simple custom image\",\n",
      "        \"display_name\": \"simple_image\",\n",
      "        \"kubespawner_override\": {\n",
      "            \"cpu_guarantee\": 2,\n",
      "            \"cpu_limit\": 2,\n",
      "            \"image\": \"495869084367.dkr.ecr.us-west-2.amazonaws.com/orbit-dev-env-users-custom_image2\",\n",
      "            \"mem_guarantee\": \"1G\",\n",
      "            \"mem_limit\": \"1G\"\n",
      "        },\n",
      "        \"slug\": \"nano\"\n",
      "    },\n",
      "    {\n",
      "        \"description\": \"Use for spark kernel\",\n",
      "        \"display_name\": \"spark\",\n",
      "        \"kubespawner_override\": {\n",
      "            \"cpu_guarantee\": 2,\n",
      "            \"cpu_limit\": 2,\n",
      "            \"image\": \"495869084367.dkr.ecr.us-west-2.amazonaws.com/orbit-dev-env-users-spark\",\n",
      "            \"mem_guarantee\": \"1G\",\n",
      "            \"mem_limit\": \"1G\"\n",
      "        },\n",
      "        \"slug\": \"spark\"\n",
      "    }\n",
      "]\n",
      "Admin deployed profiles:\n",
      "[\n",
      "    {\n",
      "        \"description\": \"1 CPU + 1G MEM\",\n",
      "        \"display_name\": \"Nano\",\n",
      "        \"kubespawner_override\": {\n",
      "            \"cpu_guarantee\": 1,\n",
      "            \"cpu_limit\": 1,\n",
      "            \"mem_guarantee\": \"1G\",\n",
      "            \"mem_limit\": \"1G\",\n",
      "            \"storage_capacity\": \"2Gi\"\n",
      "        },\n",
      "        \"slug\": \"nano\"\n",
      "    },\n",
      "    {\n",
      "        \"default\": true,\n",
      "        \"description\": \"2 CPU + 2G MEM\",\n",
      "        \"display_name\": \"Micro\",\n",
      "        \"kubespawner_override\": {\n",
      "            \"cpu_guarantee\": 2,\n",
      "            \"cpu_limit\": 2,\n",
      "            \"mem_guarantee\": \"2G\",\n",
      "            \"mem_limit\": \"2G\"\n",
      "        },\n",
      "        \"slug\": \"micro\"\n",
      "    },\n",
      "    {\n",
      "        \"description\": \"4 CPU + 8G MEM\",\n",
      "        \"display_name\": \"Small\",\n",
      "        \"kubespawner_override\": {\n",
      "            \"cpu_guarantee\": 4,\n",
      "            \"cpu_limit\": 4,\n",
      "            \"mem_guarantee\": \"8G\",\n",
      "            \"mem_limit\": \"8G\"\n",
      "        },\n",
      "        \"slug\": \"small\"\n",
      "    }\n",
      "]\n"
     ]
    }
   ],
   "source": [
    "!orbit list profile --env $env_name --team $team_name"
   ]
  },
  {
   "cell_type": "markdown",
   "id": "received-female",
   "metadata": {},
   "source": [
    "### Running container \n",
    "\n",
    "Lets run a container using the profile and image we created"
   ]
  },
  {
   "cell_type": "code",
   "execution_count": 50,
   "id": "focused-roads",
   "metadata": {},
   "outputs": [],
   "source": [
    "import json\n",
    "run = {\n",
    "      \"compute\": {\n",
    "          \"container\" : {\n",
    "              \"p_concurrent\": \"1\"\n",
    "          },\n",
    "          \"node_type\": \"ec2\",\n",
    "          \"profile\": profile_name\n",
    "      },\n",
    "      \"tasks\":  [{\n",
    "          \"notebookName\": \"test-image.ipynb\",\n",
    "          \"sourcePath\": pwd,\n",
    "          \"targetPath\": f\"/home/jovyan/shared/regression/notebooks/I-Image/{folder_name}\",\n",
    "          \"params\": {\n",
    "          }\n",
    "        }]\n",
    " }\n",
    "\n",
    "with open(\"run.json\", 'w') as f:\n",
    "    json.dump(run, f)\n"
   ]
  },
  {
   "cell_type": "code",
   "execution_count": 53,
   "id": "efficient-calibration",
   "metadata": {},
   "outputs": [
    {
     "name": "stdout",
     "output_type": "stream",
     "text": [
      "INFO:root:using profile spark\n",
      "INFO:root:Waiting for 1 tasks [{'ExecutionType': 'eks', 'Identifier': 'orbit-lake-user-ec2-runner-nxgcl', 'NodeType': 'ec2', 'tasks': [{'notebookName': 'test-image.ipynb', 'sourcePath': '/home/jovyan/shared/samples/notebooks/I-Image/spark', 'targetPath': '/home/jovyan/shared/regression/notebooks/I-Image/spark', 'params': {}, 'ExecutionType': 'ecs'}]}]\n",
      "INFO:root:Watching task: 'orbit-lake-user-ec2-runner-nxgcl'\n",
      "INFO:root:Running: 1 Completed: 0 Errored: 0\n",
      "INFO:root:waiting for [{'ExecutionType': 'eks', 'Identifier': 'orbit-lake-user-ec2-runner-nxgcl', 'NodeType': 'ec2', 'tasks': [{'notebookName': 'test-image.ipynb', 'sourcePath': '/home/jovyan/shared/samples/notebooks/I-Image/spark', 'targetPath': '/home/jovyan/shared/regression/notebooks/I-Image/spark', 'params': {}, 'ExecutionType': 'ecs'}]}]\n",
      "INFO:root:Task {'ExecutionType': 'eks', 'Identifier': 'orbit-lake-user-ec2-runner-nxgcl', 'NodeType': 'ec2', 'tasks': [{'notebookName': 'test-image.ipynb', 'sourcePath': '/home/jovyan/shared/samples/notebooks/I-Image/spark', 'targetPath': '/home/jovyan/shared/regression/notebooks/I-Image/spark', 'params': {}, 'ExecutionType': 'ecs'}]} is running with status {'active': 1,\n",
      " 'completion_time': None,\n",
      " 'conditions': None,\n",
      " 'failed': None,\n",
      " 'start_time': datetime.datetime(2021, 2, 26, 15, 4, 21, tzinfo=tzlocal()),\n",
      " 'succeeded': None}\n",
      "INFO:root:Watching task: 'orbit-lake-user-ec2-runner-nxgcl'\n",
      "INFO:root:task orbit-lake-user-ec2-runner-nxgcl-qbswx status: {'running': {'started_at': datetime.datetime(2021, 2, 26, 15, 4, 25, tzinfo=tzlocal())},\n",
      " 'terminated': None,\n",
      " 'waiting': None}\n",
      "INFO:root:+ '[' 1000 -eq 0 ']'\n",
      "INFO:root:+ mkdir -p /efs/testing\n",
      "INFO:root:+ mkdir -p /home/jovyan/shared/scheduled/notebooks\n",
      "INFO:root:+ mkdir -p /home/jovyan/shared/scheduled/outputs\n",
      "INFO:root:+ mkdir -p /home/jovyan/tmp\n",
      "INFO:root:+ ln -s /efs/testing/ /home/jovyan/private\n",
      "INFO:root:+ ln -s /home/jovyan/shared/ /home/jovyan/shared\n",
      "INFO:root:+ LOCAL_PATH=/home/jovyan/.orbit/bootstrap/scripts/\n",
      "INFO:root:+ S3_PATH=s3://orbit-dev-env-toolkit-495869084367-a2e258/teams/lake-user/bootstrap/\n",
      "INFO:root:+ export PATH=/opt/conda/bin:/usr/local/sbin:/usr/local/bin:/usr/sbin:/usr/bin:/sbin:/bin:/usr/local/spark/bin:/opt/conda/bin\n",
      "INFO:root:+ PATH=/opt/conda/bin:/usr/local/sbin:/usr/local/bin:/usr/sbin:/usr/bin:/sbin:/bin:/usr/local/spark/bin:/opt/conda/bin\n",
      "INFO:root:+ mkdir -p /home/jovyan/.orbit/bootstrap/scripts/\n",
      "INFO:root:+ aws s3 cp s3://orbit-dev-env-toolkit-495869084367-a2e258/teams/lake-user/bootstrap/ /home/jovyan/.orbit/bootstrap/scripts/ --recursive\n",
      "download: s3://orbit-dev-env-toolkit-495869084367-a2e258/teams/lake-user/bootstrap/copy_samples.sh to .orbit/bootstrap/scripts/copy_samples.sh\n",
      "INFO:root:++ ls /home/jovyan/.orbit/bootstrap/scripts/\n",
      "INFO:root:+ for filename in $(ls $LOCAL_PATH)\n",
      "INFO:root:+ echo 'Running copy_samples.sh'\n",
      "INFO:root:+ sh /home/jovyan/.orbit/bootstrap/scripts/copy_samples.sh\n",
      "INFO:root:Running copy_samples.sh\n",
      "INFO:root:+ LOCAL_PATH=/home/jovyan/shared/samples\n",
      "INFO:root:+ mkdir -p /home/jovyan/shared/samples\n",
      "INFO:root:+ S3_PATH=s3://orbit-dev-env-toolkit-495869084367-a2e258/samples/\n",
      "INFO:root:+ mkdir -p /home/jovyan/shared/samples\n",
      "INFO:root:+ aws s3 sync s3://orbit-dev-env-toolkit-495869084367-a2e258/samples/ /home/jovyan/shared/samples\n",
      "INFO:root:+ rm -fR /home/jovyan/.aws\n",
      "INFO:root:INFO:root:Starting Container Main\n",
      "INFO:root:INFO:root:Running tasks...\n",
      "INFO:root:INFO:root:pathToOutputDir=/home/jovyan/shared/regression/notebooks/I-Image/spark\n",
      "INFO:root:INFO:root:Starting tasks execution\n",
      "INFO:root:INFO:root:Starting notebook execution for /home/jovyan/shared/regression/notebooks/I-Image/spark/test-image/e1@20210226-15:04.ipynb\n",
      "INFO:root:INFO:papermill:Input Notebook:  /tmp/e1@20210226-15:04.ipynb\n",
      "INFO:root:INFO:papermill:Output Notebook: /home/jovyan/shared/regression/notebooks/I-Image/spark/test-image/e1@20210226-15:04.ipynb\n",
      "INFO:root:INFO:papermill:Working directory: /home/jovyan/shared/samples/notebooks/I-Image/spark\n",
      "INFO:root:INFO:blib2to3.pgen2.driver:Generating grammar tables from /opt/conda/lib/python3.8/site-packages/blib2to3/Grammar.txt\n",
      "INFO:root:INFO:blib2to3.pgen2.driver:Writing grammar tables to /home/jovyan/.cache/black/20.8b1/Grammar3.8.6.final.0.pickle\n",
      "INFO:root:INFO:blib2to3.pgen2.driver:Writing failed: [Errno 2] No such file or directory: '/home/jovyan/.cache/black/20.8b1/tmpc3tyg7g0'\n",
      "INFO:root:INFO:blib2to3.pgen2.driver:Generating grammar tables from /opt/conda/lib/python3.8/site-packages/blib2to3/PatternGrammar.txt\n",
      "INFO:root:INFO:blib2to3.pgen2.driver:Writing grammar tables to /home/jovyan/.cache/black/20.8b1/PatternGrammar3.8.6.final.0.pickle\n",
      "INFO:root:INFO:blib2to3.pgen2.driver:Writing failed: [Errno 2] No such file or directory: '/home/jovyan/.cache/black/20.8b1/tmp1eo2hq47'\n",
      "INFO:root:WARNING:papermill:Input notebook does not contain a cell with tag 'parameters'\n",
      "Executing:   0%|          | 0/5 [00:00<?, ?cell/s]INFO:papermill:Executing notebook with kernel: python3\n",
      "INFO:root:INFO:papermill:Executing Cell 1---------------------------------------\n",
      "INFO:root:INFO:papermill:Ending Cell 1------------------------------------------\n",
      "Executing:  20%|██        | 1/5 [00:01<00:04,  1.02s/cell]INFO:papermill:Executing Cell 2---------------------------------------\n",
      "INFO:root:INFO:papermill:['                                \"value\": \"{\\\\\"tasks\\\\\": [{\\\\\"notebookName\\\\\": \\\\\"test-image.ipynb\\\\\", \\\\\"sourcePath\\\\\": \\\\\"/home/jovyan/shared/samples/notebooks/I-Image/spark\\\\\", \\\\\"targetPath\\\\\": \\\\\"/home/jovyan/shared/regression/notebooks/I-Image/spark\\\\\", \\\\\"params\\\\\": {}, \\\\\"ExecutionType\\\\\": \\\\\"ecs\\\\\"}]}\"',\n",
      "INFO:root: '                                \"value\": \"{\\\\\"compute\\\\\": {\\\\\"container\\\\\": {\\\\\"p_concurrent\\\\\": \\\\\"1\\\\\"}, \\\\\"compute_type\\\\\": \\\\\"ecs\\\\\", \\\\\"node_type\\\\\": \\\\\"ec2\\\\\", \\\\\"profile\\\\\": \\\\\"spark\\\\\"}}\"',\n",
      "INFO:root: '                        \"image\": \"495869084367.dkr.ecr.us-west-2.amazonaws.com/orbit-dev-env-users-spark\",',\n",
      "INFO:root: '                        \"image\": \"495869084367.dkr.ecr.us-west-2.amazonaws.com/orbit-dev-env-users-spark:latest\",',\n",
      "INFO:root: '                        \"imageID\": \"docker-pullable://495869084367.dkr.ecr.us-west-2.amazonaws.com/orbit-dev-env-users-spark@sha256:1a3a635f7db29009c48befa9cb7e31c8b12613053f3b4cdf60d5930263ddef7e\",']\n",
      "INFO:root:INFO:papermill:Ending Cell 2------------------------------------------\n",
      "Executing:  40%|████      | 2/5 [00:01<00:01,  1.74cell/s]INFO:papermill:Executing Cell 3---------------------------------------\n",
      "INFO:root:INFO:papermill:Ending Cell 3------------------------------------------\n",
      "INFO:root:INFO:papermill:Executing Cell 4---------------------------------------\n",
      "INFO:root:INFO:papermill:Available kernels:\n",
      "INFO:root:  ir               /opt/conda/share/jupyter/kernels/ir\n",
      "INFO:root:  python3          /opt/conda/share/jupyter/kernels/python3\n",
      "INFO:root:  spylon-kernel    /opt/conda/share/jupyter/kernels/spylon-kernel\n",
      "INFO:root:INFO:papermill:Ending Cell 4------------------------------------------\n",
      "Executing:  80%|████████  | 4/5 [00:02<00:00,  1.90cell/s]INFO:papermill:Executing Cell 5---------------------------------------\n",
      "INFO:root:INFO:papermill:Ending Cell 5------------------------------------------\n",
      "Executing: 100%|██████████| 5/5 [00:02<00:00,  1.98cell/s]\n",
      "INFO:root:INFO:root:Completed notebook execution: /home/jovyan/shared/regression/notebooks/I-Image/spark/test-image/e1@20210226-15:04.ipynb with 0 error\n",
      "INFO:root:INFO:root:Completed all notebook executions\n",
      "INFO:root:INFO:root:Done task execution\n",
      "INFO:root:INFO:root:Exiting Container Main()\n",
      "INFO:root:Running: 1 Completed: 0 Errored: 0\n",
      "INFO:root:waiting for [{'ExecutionType': 'eks', 'Identifier': 'orbit-lake-user-ec2-runner-nxgcl', 'NodeType': 'ec2', 'tasks': [{'notebookName': 'test-image.ipynb', 'sourcePath': '/home/jovyan/shared/samples/notebooks/I-Image/spark', 'targetPath': '/home/jovyan/shared/regression/notebooks/I-Image/spark', 'params': {}, 'ExecutionType': 'ecs'}]}]\n",
      "INFO:root:Watching task: 'orbit-lake-user-ec2-runner-nxgcl'\n",
      "INFO:root:task orbit-lake-user-ec2-runner-nxgcl-qbswx status: {'running': None,\n",
      " 'terminated': {'container_id': 'docker://04bbc03d78c786aa175a32cbaab15ed2818948f4a10325cf1040fde0ae04dc2f',\n",
      "                'exit_code': 0,\n",
      "                'finished_at': datetime.datetime(2021, 2, 26, 15, 4, 45, tzinfo=tzlocal()),\n",
      "                'message': None,\n",
      "                'reason': 'Completed',\n",
      "                'signal': None,\n",
      "                'started_at': datetime.datetime(2021, 2, 26, 15, 4, 25, tzinfo=tzlocal())},\n",
      " 'waiting': None}\n",
      "INFO:root:+ '[' 1000 -eq 0 ']'\n",
      "INFO:root:+ mkdir -p /efs/testing\n",
      "INFO:root:+ mkdir -p /home/jovyan/shared/scheduled/notebooks\n",
      "INFO:root:+ mkdir -p /home/jovyan/shared/scheduled/outputs\n",
      "INFO:root:+ mkdir -p /home/jovyan/tmp\n",
      "INFO:root:+ ln -s /efs/testing/ /home/jovyan/private\n",
      "INFO:root:+ ln -s /home/jovyan/shared/ /home/jovyan/shared\n",
      "INFO:root:+ LOCAL_PATH=/home/jovyan/.orbit/bootstrap/scripts/\n",
      "INFO:root:+ S3_PATH=s3://orbit-dev-env-toolkit-495869084367-a2e258/teams/lake-user/bootstrap/\n",
      "INFO:root:+ export PATH=/opt/conda/bin:/usr/local/sbin:/usr/local/bin:/usr/sbin:/usr/bin:/sbin:/bin:/usr/local/spark/bin:/opt/conda/bin\n",
      "INFO:root:+ PATH=/opt/conda/bin:/usr/local/sbin:/usr/local/bin:/usr/sbin:/usr/bin:/sbin:/bin:/usr/local/spark/bin:/opt/conda/bin\n",
      "INFO:root:+ mkdir -p /home/jovyan/.orbit/bootstrap/scripts/\n",
      "INFO:root:+ aws s3 cp s3://orbit-dev-env-toolkit-495869084367-a2e258/teams/lake-user/bootstrap/ /home/jovyan/.orbit/bootstrap/scripts/ --recursive\n",
      "download: s3://orbit-dev-env-toolkit-495869084367-a2e258/teams/lake-user/bootstrap/copy_samples.sh to .orbit/bootstrap/scripts/copy_samples.sh\n",
      "INFO:root:++ ls /home/jovyan/.orbit/bootstrap/scripts/\n",
      "INFO:root:+ for filename in $(ls $LOCAL_PATH)\n",
      "INFO:root:+ echo 'Running copy_samples.sh'\n",
      "INFO:root:+ sh /home/jovyan/.orbit/bootstrap/scripts/copy_samples.sh\n",
      "INFO:root:Running copy_samples.sh\n",
      "INFO:root:+ LOCAL_PATH=/home/jovyan/shared/samples\n",
      "INFO:root:+ mkdir -p /home/jovyan/shared/samples\n",
      "INFO:root:+ S3_PATH=s3://orbit-dev-env-toolkit-495869084367-a2e258/samples/\n",
      "INFO:root:+ mkdir -p /home/jovyan/shared/samples\n",
      "INFO:root:+ aws s3 sync s3://orbit-dev-env-toolkit-495869084367-a2e258/samples/ /home/jovyan/shared/samples\n",
      "INFO:root:+ rm -fR /home/jovyan/.aws\n",
      "INFO:root:INFO:root:Starting Container Main\n",
      "INFO:root:INFO:root:Running tasks...\n",
      "INFO:root:INFO:root:pathToOutputDir=/home/jovyan/shared/regression/notebooks/I-Image/spark\n",
      "INFO:root:INFO:root:Starting tasks execution\n",
      "INFO:root:INFO:root:Starting notebook execution for /home/jovyan/shared/regression/notebooks/I-Image/spark/test-image/e1@20210226-15:04.ipynb\n",
      "INFO:root:INFO:papermill:Input Notebook:  /tmp/e1@20210226-15:04.ipynb\n",
      "INFO:root:INFO:papermill:Output Notebook: /home/jovyan/shared/regression/notebooks/I-Image/spark/test-image/e1@20210226-15:04.ipynb\n",
      "INFO:root:INFO:papermill:Working directory: /home/jovyan/shared/samples/notebooks/I-Image/spark\n",
      "INFO:root:INFO:blib2to3.pgen2.driver:Generating grammar tables from /opt/conda/lib/python3.8/site-packages/blib2to3/Grammar.txt\n",
      "INFO:root:INFO:blib2to3.pgen2.driver:Writing grammar tables to /home/jovyan/.cache/black/20.8b1/Grammar3.8.6.final.0.pickle\n",
      "INFO:root:INFO:blib2to3.pgen2.driver:Writing failed: [Errno 2] No such file or directory: '/home/jovyan/.cache/black/20.8b1/tmpc3tyg7g0'\n",
      "INFO:root:INFO:blib2to3.pgen2.driver:Generating grammar tables from /opt/conda/lib/python3.8/site-packages/blib2to3/PatternGrammar.txt\n",
      "INFO:root:INFO:blib2to3.pgen2.driver:Writing grammar tables to /home/jovyan/.cache/black/20.8b1/PatternGrammar3.8.6.final.0.pickle\n",
      "INFO:root:INFO:blib2to3.pgen2.driver:Writing failed: [Errno 2] No such file or directory: '/home/jovyan/.cache/black/20.8b1/tmp1eo2hq47'\n",
      "INFO:root:WARNING:papermill:Input notebook does not contain a cell with tag 'parameters'\n",
      "Executing:   0%|          | 0/5 [00:00<?, ?cell/s]INFO:papermill:Executing notebook with kernel: python3\n",
      "INFO:root:INFO:papermill:Executing Cell 1---------------------------------------\n",
      "INFO:root:INFO:papermill:Ending Cell 1------------------------------------------\n",
      "Executing:  20%|██        | 1/5 [00:01<00:04,  1.02s/cell]INFO:papermill:Executing Cell 2---------------------------------------\n",
      "INFO:root:INFO:papermill:['                                \"value\": \"{\\\\\"tasks\\\\\": [{\\\\\"notebookName\\\\\": \\\\\"test-image.ipynb\\\\\", \\\\\"sourcePath\\\\\": \\\\\"/home/jovyan/shared/samples/notebooks/I-Image/spark\\\\\", \\\\\"targetPath\\\\\": \\\\\"/home/jovyan/shared/regression/notebooks/I-Image/spark\\\\\", \\\\\"params\\\\\": {}, \\\\\"ExecutionType\\\\\": \\\\\"ecs\\\\\"}]}\"',\n",
      "INFO:root: '                                \"value\": \"{\\\\\"compute\\\\\": {\\\\\"container\\\\\": {\\\\\"p_concurrent\\\\\": \\\\\"1\\\\\"}, \\\\\"compute_type\\\\\": \\\\\"ecs\\\\\", \\\\\"node_type\\\\\": \\\\\"ec2\\\\\", \\\\\"profile\\\\\": \\\\\"spark\\\\\"}}\"',\n",
      "INFO:root: '                        \"image\": \"495869084367.dkr.ecr.us-west-2.amazonaws.com/orbit-dev-env-users-spark\",',\n",
      "INFO:root: '                        \"image\": \"495869084367.dkr.ecr.us-west-2.amazonaws.com/orbit-dev-env-users-spark:latest\",',\n",
      "INFO:root: '                        \"imageID\": \"docker-pullable://495869084367.dkr.ecr.us-west-2.amazonaws.com/orbit-dev-env-users-spark@sha256:1a3a635f7db29009c48befa9cb7e31c8b12613053f3b4cdf60d5930263ddef7e\",']\n",
      "INFO:root:INFO:papermill:Ending Cell 2------------------------------------------\n",
      "Executing:  40%|████      | 2/5 [00:01<00:01,  1.74cell/s]INFO:papermill:Executing Cell 3---------------------------------------\n",
      "INFO:root:INFO:papermill:Ending Cell 3------------------------------------------\n",
      "INFO:root:INFO:papermill:Executing Cell 4---------------------------------------\n",
      "INFO:root:INFO:papermill:Available kernels:\n",
      "INFO:root:  ir               /opt/conda/share/jupyter/kernels/ir\n",
      "INFO:root:  python3          /opt/conda/share/jupyter/kernels/python3\n",
      "INFO:root:  spylon-kernel    /opt/conda/share/jupyter/kernels/spylon-kernel\n",
      "INFO:root:INFO:papermill:Ending Cell 4------------------------------------------\n",
      "Executing:  80%|████████  | 4/5 [00:02<00:00,  1.90cell/s]INFO:papermill:Executing Cell 5---------------------------------------\n",
      "INFO:root:INFO:papermill:Ending Cell 5------------------------------------------\n",
      "Executing: 100%|██████████| 5/5 [00:02<00:00,  1.98cell/s]\n",
      "INFO:root:INFO:root:Completed notebook execution: /home/jovyan/shared/regression/notebooks/I-Image/spark/test-image/e1@20210226-15:04.ipynb with 0 error\n",
      "INFO:root:INFO:root:Completed all notebook executions\n",
      "INFO:root:INFO:root:Done task execution\n",
      "INFO:root:INFO:root:Exiting Container Main()\n",
      "INFO:root:Running: 0 Completed: 1 Errored: 0\n",
      "INFO:root:All tasks stopped\n",
      "CPU times: user 381 ms, sys: 90.9 ms, total: 472 ms\n",
      "Wall time: 38.3 s\n"
     ]
    }
   ],
   "source": [
    "%%time\n",
    "\n",
    "!orbit run notebook --env $env_name --team $team_name --user testing --wait --tail-logs run.json\n"
   ]
  },
  {
   "cell_type": "code",
   "execution_count": null,
   "id": "medieval-fourth",
   "metadata": {},
   "outputs": [],
   "source": []
  }
 ],
 "metadata": {
  "kernelspec": {
   "display_name": "Python 3",
   "language": "python",
   "name": "python3"
  },
  "language_info": {
   "codemirror_mode": {
    "name": "ipython",
    "version": 3
   },
   "file_extension": ".py",
   "mimetype": "text/x-python",
   "name": "python",
   "nbconvert_exporter": "python",
   "pygments_lexer": "ipython3",
   "version": "3.8.6"
  },
  "pycharm": {
   "stem_cell": {
    "cell_type": "raw",
    "source": [],
    "metadata": {
     "collapsed": false
    }
   }
  }
 },
 "nbformat": 4,
 "nbformat_minor": 5
}