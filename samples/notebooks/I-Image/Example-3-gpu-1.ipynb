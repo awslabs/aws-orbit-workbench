{
 "cells": [
  {
   "cell_type": "markdown",
   "id": "spanish-things",
   "metadata": {},
   "source": [
    "<!--\n",
    "#  Copyright Amazon.com, Inc. or its affiliates. All Rights Reserved.\n",
    "#\n",
    "#    Licensed under the Apache License, Version 2.0 (the \"License\").\n",
    "#    You may not use this file except in compliance with the License.\n",
    "#    You may obtain a copy of the License at\n",
    "#\n",
    "#        http://www.apache.org/licenses/LICENSE-2.0\n",
    "#\n",
    "#    Unless required by applicable law or agreed to in writing, software\n",
    "#    distributed under the License is distributed on an \"AS IS\" BASIS,\n",
    "#    WITHOUT WARRANTIES OR CONDITIONS OF ANY KIND, either express or implied.\n",
    "#    See the License for the specific language governing permissions and\n",
    "#    limitations under the License.\n",
    "-->\n",
    "\n",
    "# Sample notebook to build a Jupyter Image with GPU enabled.\n",
    "\n",
    "## Content\n",
    "1. [Configuration](#Configuration)\n",
    "2. [Build Image](#Build-Image)\n",
    "2. [Running Container using the profile](#Running-container)\n"
   ]
  },
  {
   "cell_type": "markdown",
   "id": "affiliated-tongue",
   "metadata": {},
   "source": [
    "### Configuration"
   ]
  },
  {
   "cell_type": "code",
   "execution_count": 1,
   "id": "treated-catholic",
   "metadata": {},
   "outputs": [],
   "source": [
    "image_name = 'gpu1'\n",
    "folder_name = 'gpu1'"
   ]
  },
  {
   "cell_type": "markdown",
   "id": "sunset-genetics",
   "metadata": {},
   "source": [
    "### Build Image"
   ]
  },
  {
   "cell_type": "markdown",
   "id": "analyzed-bowling",
   "metadata": {},
   "source": [
    "Lets see how  orbit build image works..."
   ]
  },
  {
   "cell_type": "code",
   "execution_count": 2,
   "id": "baking-acting",
   "metadata": {},
   "outputs": [
    {
     "name": "stdout",
     "output_type": "stream",
     "text": [
      "Usage: orbit build image [OPTIONS]\n",
      "\n",
      "  Build and Deploy a new Docker image into ECR.\n",
      "\n",
      "Options:\n",
      "  -e, --env TEXT        Orbit Environment.  [required]\n",
      "  -d, --dir TEXT        Dockerfile directory.  [required]\n",
      "  -n, --name TEXT       Image name.  [required]\n",
      "  -s, --script TEXT     Build script to run before the image build.\n",
      "  -t, --team TEXT       One or more Teams to deploy the image to (can de\n",
      "                        declared multiple times).\n",
      "\n",
      "  --build-arg TEXT      One or more --build-arg parameters to pass to the\n",
      "                        Docker build command.\n",
      "\n",
      "  --debug / --no-debug  Enable detailed logging.  [default: False]\n",
      "  --help                Show this message and exit.\n"
     ]
    }
   ],
   "source": [
    "!orbit build image --help"
   ]
  },
  {
   "cell_type": "markdown",
   "id": "referenced-earth",
   "metadata": {},
   "source": [
    "get our orbit env and team names"
   ]
  },
  {
   "cell_type": "code",
   "execution_count": 3,
   "id": "conventional-consumption",
   "metadata": {},
   "outputs": [
    {
     "data": {
      "text/plain": [
       "('dev-env', 'lake-user')"
      ]
     },
     "execution_count": 3,
     "metadata": {},
     "output_type": "execute_result"
    }
   ],
   "source": [
    "env_name = %env AWS_ORBIT_ENV\n",
    "team_name = %env AWS_ORBIT_TEAM_SPACE\n",
    "(env_name,team_name)"
   ]
  },
  {
   "cell_type": "markdown",
   "id": "clean-family",
   "metadata": {},
   "source": [
    "Repository name will be created from the image name prefixed by the env context.  Users are only able to manipulate ECR repos that start with 'orbit-{env_name}-users-'"
   ]
  },
  {
   "cell_type": "code",
   "execution_count": 4,
   "id": "happy-package",
   "metadata": {},
   "outputs": [
    {
     "data": {
      "text/plain": [
       "'orbit-dev-env-users-gpu1'"
      ]
     },
     "execution_count": 4,
     "metadata": {},
     "output_type": "execute_result"
    }
   ],
   "source": [
    "repository_name = (f\"orbit-{env_name}-users-{image_name}\")\n",
    "repository_name"
   ]
  },
  {
   "cell_type": "code",
   "execution_count": 5,
   "id": "judicial-milton",
   "metadata": {},
   "outputs": [
    {
     "name": "stdout",
     "output_type": "stream",
     "text": [
      "\n",
      "An error occurred (RepositoryNotFoundException) when calling the DeleteRepository operation: The repository with name 'orbit-dev-env-users-gpu1' does not exist in the registry with id '495869084367'\n"
     ]
    }
   ],
   "source": [
    "!aws ecr delete-repository --repository-name $repository_name --force"
   ]
  },
  {
   "cell_type": "code",
   "execution_count": 6,
   "id": "blank-invention",
   "metadata": {},
   "outputs": [
    {
     "name": "stdout",
     "output_type": "stream",
     "text": [
      "/efs/shared/samples/notebooks/I-Image/gpu1\n"
     ]
    }
   ],
   "source": [
    "%cd ~/shared/samples/notebooks/I-Image/$folder_name"
   ]
  },
  {
   "cell_type": "markdown",
   "id": "taken-mistake",
   "metadata": {},
   "source": [
    "adding a file to our docker as an example"
   ]
  },
  {
   "cell_type": "code",
   "execution_count": 7,
   "id": "relative-asbestos",
   "metadata": {},
   "outputs": [
    {
     "data": {
      "text/plain": [
       "'/efs/shared/samples/notebooks/I-Image/gpu1'"
      ]
     },
     "execution_count": 7,
     "metadata": {},
     "output_type": "execute_result"
    }
   ],
   "source": [
    "pwd = %pwd\n",
    "pwd"
   ]
  },
  {
   "cell_type": "markdown",
   "id": "conventional-contrary",
   "metadata": {},
   "source": [
    "Now lets run the command"
   ]
  },
  {
   "cell_type": "code",
   "execution_count": 10,
   "id": "varied-conspiracy",
   "metadata": {},
   "outputs": [
    {
     "name": "stdout",
     "output_type": "stream",
     "text": [
      "CPU times: user 14.7 ms, sys: 6.64 ms, total: 21.3 ms\n",
      "Wall time: 10min 42s\n"
     ]
    },
    {
     "data": {
      "text/plain": [
       "['',\n",
       " 'Deploying Docker Image |\\x1b[32m                   \\x1b[0m|   0% \\x1b[0m',\n",
       " '                                                  ',\n",
       " '',\n",
       " 'Deploying Docker Image |\\x1b[32m▏                  \\x1b[0m|   1% \\x1b[0m',\n",
       " 'Deploying Docker Image |\\x1b[32m▌                  \\x1b[0m|   3% \\x1b[0m',\n",
       " 'Deploying Docker Image |\\x1b[32m▉                  \\x1b[0m|   5% \\x1b[0m',\n",
       " 'Deploying Docker Image |\\x1b[32m███▊               \\x1b[0m|  20% \\x1b[0m',\n",
       " 'Deploying Docker Image |\\x1b[32m█████▏             \\x1b[0m|  27% \\x1b[0m',\n",
       " 'Deploying Docker Image |\\x1b[32m█████████▌         \\x1b[0m|  50% \\x1b[0m',\n",
       " 'Deploying Docker Image |\\x1b[32m██████████████████▊\\x1b[0m|  99% \\x1b[0m',\n",
       " '                                                  ',\n",
       " '',\n",
       " 'Deploying Docker Image |\\x1b[32m██████████████████▊\\x1b[0m|  99% \\x1b[0m',\n",
       " '                                                  ',\n",
       " '',\n",
       " 'Deploying Docker Image |\\x1b[32m██████████████████▊\\x1b[0m|  99% \\x1b[0m',\n",
       " '                                                  ',\n",
       " '',\n",
       " 'Deploying Docker Image |\\x1b[32m██████████████████▊\\x1b[0m|  99% \\x1b[0m',\n",
       " 'Deploying Docker Image |\\x1b[32m███████████████████\\x1b[0m| 100% \\x1b[0m',\n",
       " '                                                  ',\n",
       " '',\n",
       " 'Deploying Docker Image |\\x1b[32m███████████████████\\x1b[0m| 100% \\x1b[0m',\n",
       " 'Deploying Docker Image |\\x1b[32m███████████████████\\x1b[0m| 100% \\x1b[0m',\n",
       " '[\\x1b[39m\\x1b[22m\\x1b[24m Info \\x1b[0m] Manifest loaded',\n",
       " '[\\x1b[39m\\x1b[22m\\x1b[24m Info \\x1b[0m] Docker Image deploy into ECR',\n",
       " '[\\x1b[39m\\x1b[22m\\x1b[24m Info \\x1b[0m] ECR Image Address=495869084367.dkr.ecr.us-west-2.amazonaws.com/orbit-dev-env-users-gpu1',\n",
       " '[\\x1b[94m\\x1b[22m\\x1b[24m Tip \\x1b[0m] ECR Image Address: \\x1b[94m\\x1b[22m\\x1b[4m495869084367.dkr.ecr.us-west-2.amazonaws.com/orbit-dev-env-users-gpu1\\x1b[0m',\n",
       " '']"
      ]
     },
     "execution_count": 10,
     "metadata": {},
     "output_type": "execute_result"
    }
   ],
   "source": [
    "%%time\n",
    "\n",
    "output = !orbit build image -e dev-env -d $pwd -n $image_name --build-arg BASE_IMAGE=cschranz/gpu-jupyter:v1.3_cuda-10.1_ubuntu-18.04_python-only\n",
    "output"
   ]
  },
  {
   "cell_type": "markdown",
   "id": "phantom-council",
   "metadata": {},
   "source": [
    "Lets get the image address from the output of the previous command"
   ]
  },
  {
   "cell_type": "code",
   "execution_count": 11,
   "id": "sonic-sandwich",
   "metadata": {},
   "outputs": [
    {
     "name": "stdout",
     "output_type": "stream",
     "text": [
      "495869084367.dkr.ecr.us-west-2.amazonaws.com/orbit-dev-env-users-gpu1\n"
     ]
    }
   ],
   "source": [
    "look_for = 'ECR Image Address='\n",
    "image = None\n",
    "for o in output:\n",
    "    if look_for in o:\n",
    "        image = o[o.index(look_for) + len(look_for):]\n",
    "        print(image)\n",
    "\n",
    "assert(image != None)       \n",
    "    "
   ]
  },
  {
   "cell_type": "code",
   "execution_count": 12,
   "id": "musical-velvet",
   "metadata": {},
   "outputs": [
    {
     "name": "stdout",
     "output_type": "stream",
     "text": [
      "orbit-dev-env-users-gpu1\n",
      "[{'imageDigest': 'sha256:312a44902cce515f1ea2fbf345c7ce2369d176a32148ea940a4e1149ffdebe62', 'imageTag': 'latest'}]\n"
     ]
    }
   ],
   "source": [
    "# check that the image was built\n",
    "import json\n",
    "print(repository_name)\n",
    "images = !aws ecr list-images --repository-name $repository_name\n",
    "images = \"\".join(images)\n",
    "im = json.loads(images)\n",
    "print(im['imageIds'])\n",
    "assert(len(im['imageIds']) > 0)"
   ]
  },
  {
   "cell_type": "markdown",
   "id": "optical-african",
   "metadata": {},
   "source": [
    "### Building the profile for the Image"
   ]
  },
  {
   "cell_type": "code",
   "execution_count": 22,
   "id": "determined-kuwait",
   "metadata": {},
   "outputs": [],
   "source": [
    "import json\n",
    "profile = [{\n",
    "        \"display_name\": \"Small (GPU Enabled)\",\n",
    "        \"slug\": \"small-gpu\",\n",
    "        \"description\": \"4 CPU + 8G MEM + 1 GPU\",\n",
    "        \"kubespawner_override\": {\n",
    "            \"image\": image,\n",
    "            \"cpu_guarantee\": 4,\n",
    "            \"cpu_limit\": 4,\n",
    "            \"mem_guarantee\": \"8G\",\n",
    "            \"mem_limit\": \"8G\",\n",
    "            \"extra_resource_limits\": {\"nvidia.com/gpu\": \"1\"},\n",
    "            \"extra_resource_guarantees\": {\"nvidia.com/gpu\": \"1\"},\n",
    "        },\n",
    "    },\n",
    "    {\n",
    "        \"display_name\": \"Small (vGPU Enabled)\",\n",
    "        \"slug\": \"small-vgpu\",\n",
    "        \"description\": \"4 CPU + 8G MEM + 1 vGPU\",\n",
    "        \"kubespawner_override\": {\n",
    "            \"image\": image,\n",
    "            \"cpu_guarantee\": 4,\n",
    "            \"cpu_limit\": 4,\n",
    "            \"mem_guarantee\": \"8G\",\n",
    "            \"mem_limit\": \"8G\",\n",
    "            \"extra_resource_limits\": {\"k8s.amazonaws.com/vgpu\": \"1\"},\n",
    "            \"extra_resource_guarantees\": {\"k8s.amazonaws.com/vgpu\": \"1\"},\n",
    "        },\n",
    "    }]\n",
    "\n",
    "with open(\"profile.json\", 'w') as f:\n",
    "    json.dump(profile, f, indent=4, sort_keys=True)\n"
   ]
  },
  {
   "cell_type": "code",
   "execution_count": 23,
   "id": "interracial-joyce",
   "metadata": {},
   "outputs": [
    {
     "name": "stdout",
     "output_type": "stream",
     "text": [
      "[\n",
      "    {\n",
      "        \"description\": \"4 CPU + 8G MEM + 1 GPU\",\n",
      "        \"display_name\": \"Small (GPU Enabled)\",\n",
      "        \"kubespawner_override\": {\n",
      "            \"cpu_guarantee\": 4,\n",
      "            \"cpu_limit\": 4,\n",
      "            \"extra_resource_guarantees\": {\n",
      "                \"nvidia.com/gpu\": \"1\"\n",
      "            },\n",
      "            \"extra_resource_limits\": {\n",
      "                \"nvidia.com/gpu\": \"1\"\n",
      "            },\n",
      "            \"image\": \"495869084367.dkr.ecr.us-west-2.amazonaws.com/orbit-dev-env-users-gpu1\",\n",
      "            \"mem_guarantee\": \"8G\",\n",
      "            \"mem_limit\": \"8G\"\n",
      "        },\n",
      "        \"slug\": \"small-gpu\"\n",
      "    },\n",
      "    {\n",
      "        \"description\": \"4 CPU + 8G MEM + 1 vGPU\",\n",
      "        \"display_name\": \"Small (vGPU Enabled)\",\n",
      "        \"kubespawner_override\": {\n",
      "            \"cpu_guarantee\": 4,\n",
      "            \"cpu_limit\": 4,\n",
      "            \"extra_resource_guarantees\": {\n",
      "                \"k8s.amazonaws.com/vgpu\": \"1\"\n",
      "            },\n",
      "            \"extra_resource_limits\": {\n",
      "                \"k8s.amazonaws.com/vgpu\": \"1\"\n",
      "            },\n",
      "            \"image\": \"495869084367.dkr.ecr.us-west-2.amazonaws.com/orbit-dev-env-users-gpu1\",\n",
      "            \"mem_guarantee\": \"8G\",\n",
      "            \"mem_limit\": \"8G\"\n",
      "        },\n",
      "        \"slug\": \"small-vgpu\"\n",
      "    }\n",
      "]"
     ]
    }
   ],
   "source": [
    "!cat profile.json"
   ]
  },
  {
   "cell_type": "code",
   "execution_count": 24,
   "id": "meaningful-mountain",
   "metadata": {},
   "outputs": [
    {
     "name": "stdout",
     "output_type": "stream",
     "text": [
      "[\u001b[39m\u001b[22m\u001b[24m Info \u001b[0m] Retrieving existing profiles0% \u001b[0m\n",
      "[\u001b[94m\u001b[22m\u001b[24m Tip \u001b[0m] Profile added Small (GPU Enabled)[0m\n",
      "[\u001b[94m\u001b[22m\u001b[24m Tip \u001b[0m] Profile added Small (vGPU Enabled)0m\n",
      "                                                  0m| 100% \u001b[0m\n",
      "Adding profile |\u001b[32m███████████████████████████\u001b[0m| 100% \u001b[0m\n"
     ]
    }
   ],
   "source": [
    "!orbit build profile --env $env_name --team $team_name profile.json"
   ]
  },
  {
   "cell_type": "code",
   "execution_count": 25,
   "id": "demonstrated-sussex",
   "metadata": {},
   "outputs": [
    {
     "name": "stdout",
     "output_type": "stream",
     "text": [
      "Team profiles:\n",
      "[\n",
      "    {\n",
      "        \"description\": \"Use simple custom image\",\n",
      "        \"display_name\": \"simple_image\",\n",
      "        \"kubespawner_override\": {\n",
      "            \"cpu_guarantee\": 2,\n",
      "            \"cpu_limit\": 2,\n",
      "            \"image\": \"495869084367.dkr.ecr.us-west-2.amazonaws.com/orbit-dev-env-users-custom_image2\",\n",
      "            \"mem_guarantee\": \"1G\",\n",
      "            \"mem_limit\": \"1G\"\n",
      "        },\n",
      "        \"slug\": \"nano\"\n",
      "    },\n",
      "    {\n",
      "        \"description\": \"Use for spark kernel\",\n",
      "        \"display_name\": \"spark\",\n",
      "        \"kubespawner_override\": {\n",
      "            \"cpu_guarantee\": 2,\n",
      "            \"cpu_limit\": 2,\n",
      "            \"image\": \"495869084367.dkr.ecr.us-west-2.amazonaws.com/orbit-dev-env-users-spark\",\n",
      "            \"mem_guarantee\": \"1G\",\n",
      "            \"mem_limit\": \"1G\"\n",
      "        },\n",
      "        \"slug\": \"spark\"\n",
      "    },\n",
      "    {\n",
      "        \"description\": \"Use for spark kernel\",\n",
      "        \"display_name\": \"gpu1\",\n",
      "        \"kubespawner_override\": {\n",
      "            \"cpu_guarantee\": 2,\n",
      "            \"cpu_limit\": 2,\n",
      "            \"image\": \"495869084367.dkr.ecr.us-west-2.amazonaws.com/orbit-dev-env-users-gpu1\",\n",
      "            \"mem_guarantee\": \"1G\",\n",
      "            \"mem_limit\": \"1G\"\n",
      "        },\n",
      "        \"slug\": \"gpu1\"\n",
      "    },\n",
      "    {\n",
      "        \"description\": \"4 CPU + 8G MEM + 1 GPU\",\n",
      "        \"display_name\": \"Small (GPU Enabled)\",\n",
      "        \"kubespawner_override\": {\n",
      "            \"cpu_guarantee\": 4,\n",
      "            \"cpu_limit\": 4,\n",
      "            \"extra_resource_guarantees\": {\n",
      "                \"nvidia.com/gpu\": \"1\"\n",
      "            },\n",
      "            \"extra_resource_limits\": {\n",
      "                \"nvidia.com/gpu\": \"1\"\n",
      "            },\n",
      "            \"image\": \"495869084367.dkr.ecr.us-west-2.amazonaws.com/orbit-dev-env-users-gpu1\",\n",
      "            \"mem_guarantee\": \"8G\",\n",
      "            \"mem_limit\": \"8G\"\n",
      "        },\n",
      "        \"slug\": \"small-gpu\"\n",
      "    },\n",
      "    {\n",
      "        \"description\": \"4 CPU + 8G MEM + 1 vGPU\",\n",
      "        \"display_name\": \"Small (vGPU Enabled)\",\n",
      "        \"kubespawner_override\": {\n",
      "            \"cpu_guarantee\": 4,\n",
      "            \"cpu_limit\": 4,\n",
      "            \"extra_resource_guarantees\": {\n",
      "                \"k8s.amazonaws.com/vgpu\": \"1\"\n",
      "            },\n",
      "            \"extra_resource_limits\": {\n",
      "                \"k8s.amazonaws.com/vgpu\": \"1\"\n",
      "            },\n",
      "            \"image\": \"495869084367.dkr.ecr.us-west-2.amazonaws.com/orbit-dev-env-users-gpu1\",\n",
      "            \"mem_guarantee\": \"8G\",\n",
      "            \"mem_limit\": \"8G\"\n",
      "        },\n",
      "        \"slug\": \"small-vgpu\"\n",
      "    }\n",
      "]\n",
      "Admin deployed profiles:\n",
      "[\n",
      "    {\n",
      "        \"description\": \"1 CPU + 1G MEM\",\n",
      "        \"display_name\": \"Nano\",\n",
      "        \"kubespawner_override\": {\n",
      "            \"cpu_guarantee\": 1,\n",
      "            \"cpu_limit\": 1,\n",
      "            \"mem_guarantee\": \"1G\",\n",
      "            \"mem_limit\": \"1G\",\n",
      "            \"storage_capacity\": \"2Gi\"\n",
      "        },\n",
      "        \"slug\": \"nano\"\n",
      "    },\n",
      "    {\n",
      "        \"default\": true,\n",
      "        \"description\": \"2 CPU + 2G MEM\",\n",
      "        \"display_name\": \"Micro\",\n",
      "        \"kubespawner_override\": {\n",
      "            \"cpu_guarantee\": 2,\n",
      "            \"cpu_limit\": 2,\n",
      "            \"mem_guarantee\": \"2G\",\n",
      "            \"mem_limit\": \"2G\"\n",
      "        },\n",
      "        \"slug\": \"micro\"\n",
      "    },\n",
      "    {\n",
      "        \"description\": \"4 CPU + 8G MEM\",\n",
      "        \"display_name\": \"Small\",\n",
      "        \"kubespawner_override\": {\n",
      "            \"cpu_guarantee\": 4,\n",
      "            \"cpu_limit\": 4,\n",
      "            \"mem_guarantee\": \"8G\",\n",
      "            \"mem_limit\": \"8G\"\n",
      "        },\n",
      "        \"slug\": \"small\"\n",
      "    }\n",
      "]\n"
     ]
    }
   ],
   "source": [
    "!orbit list profile --env $env_name --team $team_name"
   ]
  },
  {
   "cell_type": "markdown",
   "id": "recovered-citizenship",
   "metadata": {},
   "source": [
    "### Running container \n",
    "\n",
    "Lets run a container using the profile and image we created"
   ]
  },
  {
   "cell_type": "code",
   "execution_count": 26,
   "id": "hispanic-judges",
   "metadata": {},
   "outputs": [],
   "source": [
    "import json\n",
    "run = {\n",
    "      \"compute\": {\n",
    "          \"container\" : {\n",
    "              \"p_concurrent\": \"1\"\n",
    "          },\n",
    "          \"compute_type\": \"ecs\",\n",
    "          \"node_type\": \"ec2\",\n",
    "          \"profile\": \"small-gpu\"\n",
    "      },\n",
    "      \"tasks\":  [{\n",
    "          \"notebookName\": \"test-image.ipynb\",\n",
    "          \"sourcePath\": pwd,\n",
    "          \"targetPath\": f\"/efs/shared/regression/notebooks/I-Image/{folder_name}\",\n",
    "          \"params\": {\n",
    "          },\n",
    "          \"ExecutionType\": \"ecs\"\n",
    "        }]\n",
    " }\n",
    "\n",
    "with open(\"run.json\", 'w') as f:\n",
    "    json.dump(run, f)\n"
   ]
  },
  {
   "cell_type": "code",
   "execution_count": 28,
   "id": "geological-north",
   "metadata": {},
   "outputs": [
    {
     "name": "stdout",
     "output_type": "stream",
     "text": [
      "INFO:root:using profile small-gpu\n",
      "INFO:root:Waiting for 1 tasks [{'ExecutionType': 'eks', 'Identifier': 'orbit-lake-user-ec2-runner-7k2g9', 'NodeType': 'ec2', 'tasks': [{'notebookName': 'test-image.ipynb', 'sourcePath': '/efs/shared/samples/notebooks/I-Image/gpu1', 'targetPath': '/efs/shared/regression/notebooks/I-Image/gpu1', 'params': {}, 'ExecutionType': 'ecs'}]}]\n",
      "INFO:root:Watching task: 'orbit-lake-user-ec2-runner-7k2g9'\n",
      "INFO:root:Running: 1 Completed: 0 Errored: 0\n",
      "INFO:root:waiting for [{'ExecutionType': 'eks', 'Identifier': 'orbit-lake-user-ec2-runner-7k2g9', 'NodeType': 'ec2', 'tasks': [{'notebookName': 'test-image.ipynb', 'sourcePath': '/efs/shared/samples/notebooks/I-Image/gpu1', 'targetPath': '/efs/shared/regression/notebooks/I-Image/gpu1', 'params': {}, 'ExecutionType': 'ecs'}]}]\n",
      "INFO:root:Task {'ExecutionType': 'eks', 'Identifier': 'orbit-lake-user-ec2-runner-7k2g9', 'NodeType': 'ec2', 'tasks': [{'notebookName': 'test-image.ipynb', 'sourcePath': '/efs/shared/samples/notebooks/I-Image/gpu1', 'targetPath': '/efs/shared/regression/notebooks/I-Image/gpu1', 'params': {}, 'ExecutionType': 'ecs'}]} is running with status {'active': 1,\n",
      " 'completion_time': None,\n",
      " 'conditions': None,\n",
      " 'failed': None,\n",
      " 'start_time': datetime.datetime(2021, 2, 26, 16, 13, 31, tzinfo=tzlocal()),\n",
      " 'succeeded': None}\n",
      "INFO:root:Watching task: 'orbit-lake-user-ec2-runner-7k2g9'\n",
      "INFO:root:pod has error status Unschedulable , 0/6 nodes are available: 2 Too many pods, 4 Insufficient memory, 4 Insufficient vpc.amazonaws.com/pod-eni, 5 Insufficient cpu, 6 Insufficient nvidia.com/gpu.\n",
      "INFO:root:Running: 1 Completed: 0 Errored: 0\n",
      "INFO:root:waiting for [{'ExecutionType': 'eks', 'Identifier': 'orbit-lake-user-ec2-runner-7k2g9', 'NodeType': 'ec2', 'tasks': [{'notebookName': 'test-image.ipynb', 'sourcePath': '/efs/shared/samples/notebooks/I-Image/gpu1', 'targetPath': '/efs/shared/regression/notebooks/I-Image/gpu1', 'params': {}, 'ExecutionType': 'ecs'}]}]\n",
      "INFO:root:Task {'ExecutionType': 'eks', 'Identifier': 'orbit-lake-user-ec2-runner-7k2g9', 'NodeType': 'ec2', 'tasks': [{'notebookName': 'test-image.ipynb', 'sourcePath': '/efs/shared/samples/notebooks/I-Image/gpu1', 'targetPath': '/efs/shared/regression/notebooks/I-Image/gpu1', 'params': {}, 'ExecutionType': 'ecs'}]} is running with status {'active': 1,\n",
      " 'completion_time': None,\n",
      " 'conditions': None,\n",
      " 'failed': None,\n",
      " 'start_time': datetime.datetime(2021, 2, 26, 16, 13, 31, tzinfo=tzlocal()),\n",
      " 'succeeded': None}\n",
      "INFO:root:Watching task: 'orbit-lake-user-ec2-runner-7k2g9'\n",
      "INFO:root:pod has error status Unschedulable , 0/6 nodes are available: 2 Too many pods, 4 Insufficient memory, 4 Insufficient vpc.amazonaws.com/pod-eni, 5 Insufficient cpu, 6 Insufficient nvidia.com/gpu.\n",
      "INFO:root:Running: 1 Completed: 0 Errored: 0\n",
      "INFO:root:waiting for [{'ExecutionType': 'eks', 'Identifier': 'orbit-lake-user-ec2-runner-7k2g9', 'NodeType': 'ec2', 'tasks': [{'notebookName': 'test-image.ipynb', 'sourcePath': '/efs/shared/samples/notebooks/I-Image/gpu1', 'targetPath': '/efs/shared/regression/notebooks/I-Image/gpu1', 'params': {}, 'ExecutionType': 'ecs'}]}]\n",
      "INFO:root:Task {'ExecutionType': 'eks', 'Identifier': 'orbit-lake-user-ec2-runner-7k2g9', 'NodeType': 'ec2', 'tasks': [{'notebookName': 'test-image.ipynb', 'sourcePath': '/efs/shared/samples/notebooks/I-Image/gpu1', 'targetPath': '/efs/shared/regression/notebooks/I-Image/gpu1', 'params': {}, 'ExecutionType': 'ecs'}]} is running with status {'active': 1,\n",
      " 'completion_time': None,\n",
      " 'conditions': None,\n",
      " 'failed': None,\n",
      " 'start_time': datetime.datetime(2021, 2, 26, 16, 13, 31, tzinfo=tzlocal()),\n",
      " 'succeeded': None}\n",
      "INFO:root:Watching task: 'orbit-lake-user-ec2-runner-7k2g9'\n",
      "INFO:root:pod has error status Unschedulable , 0/6 nodes are available: 2 Too many pods, 4 Insufficient memory, 4 Insufficient vpc.amazonaws.com/pod-eni, 5 Insufficient cpu, 6 Insufficient nvidia.com/gpu.\n",
      "INFO:root:Running: 1 Completed: 0 Errored: 0\n",
      "INFO:root:waiting for [{'ExecutionType': 'eks', 'Identifier': 'orbit-lake-user-ec2-runner-7k2g9', 'NodeType': 'ec2', 'tasks': [{'notebookName': 'test-image.ipynb', 'sourcePath': '/efs/shared/samples/notebooks/I-Image/gpu1', 'targetPath': '/efs/shared/regression/notebooks/I-Image/gpu1', 'params': {}, 'ExecutionType': 'ecs'}]}]\n",
      "INFO:root:Task {'ExecutionType': 'eks', 'Identifier': 'orbit-lake-user-ec2-runner-7k2g9', 'NodeType': 'ec2', 'tasks': [{'notebookName': 'test-image.ipynb', 'sourcePath': '/efs/shared/samples/notebooks/I-Image/gpu1', 'targetPath': '/efs/shared/regression/notebooks/I-Image/gpu1', 'params': {}, 'ExecutionType': 'ecs'}]} is running with status {'active': 1,\n",
      " 'completion_time': None,\n",
      " 'conditions': None,\n",
      " 'failed': None,\n",
      " 'start_time': datetime.datetime(2021, 2, 26, 16, 13, 31, tzinfo=tzlocal()),\n",
      " 'succeeded': None}\n",
      "INFO:root:Watching task: 'orbit-lake-user-ec2-runner-7k2g9'\n",
      "INFO:root:pod has error status Unschedulable , 0/6 nodes are available: 2 Too many pods, 4 Insufficient memory, 4 Insufficient vpc.amazonaws.com/pod-eni, 5 Insufficient cpu, 6 Insufficient nvidia.com/gpu.\n",
      "INFO:root:Running: 1 Completed: 0 Errored: 0\n",
      "INFO:root:waiting for [{'ExecutionType': 'eks', 'Identifier': 'orbit-lake-user-ec2-runner-7k2g9', 'NodeType': 'ec2', 'tasks': [{'notebookName': 'test-image.ipynb', 'sourcePath': '/efs/shared/samples/notebooks/I-Image/gpu1', 'targetPath': '/efs/shared/regression/notebooks/I-Image/gpu1', 'params': {}, 'ExecutionType': 'ecs'}]}]\n",
      "INFO:root:Task {'ExecutionType': 'eks', 'Identifier': 'orbit-lake-user-ec2-runner-7k2g9', 'NodeType': 'ec2', 'tasks': [{'notebookName': 'test-image.ipynb', 'sourcePath': '/efs/shared/samples/notebooks/I-Image/gpu1', 'targetPath': '/efs/shared/regression/notebooks/I-Image/gpu1', 'params': {}, 'ExecutionType': 'ecs'}]} is running with status {'active': 1,\n",
      " 'completion_time': None,\n",
      " 'conditions': None,\n",
      " 'failed': None,\n",
      " 'start_time': datetime.datetime(2021, 2, 26, 16, 13, 31, tzinfo=tzlocal()),\n",
      " 'succeeded': None}\n",
      "INFO:root:Watching task: 'orbit-lake-user-ec2-runner-7k2g9'\n",
      "INFO:root:pod has error status Unschedulable , 0/6 nodes are available: 2 Too many pods, 4 Insufficient memory, 4 Insufficient vpc.amazonaws.com/pod-eni, 5 Insufficient cpu, 6 Insufficient nvidia.com/gpu.\n",
      "INFO:root:Running: 1 Completed: 0 Errored: 0\n",
      "INFO:root:waiting for [{'ExecutionType': 'eks', 'Identifier': 'orbit-lake-user-ec2-runner-7k2g9', 'NodeType': 'ec2', 'tasks': [{'notebookName': 'test-image.ipynb', 'sourcePath': '/efs/shared/samples/notebooks/I-Image/gpu1', 'targetPath': '/efs/shared/regression/notebooks/I-Image/gpu1', 'params': {}, 'ExecutionType': 'ecs'}]}]\n",
      "INFO:root:Task {'ExecutionType': 'eks', 'Identifier': 'orbit-lake-user-ec2-runner-7k2g9', 'NodeType': 'ec2', 'tasks': [{'notebookName': 'test-image.ipynb', 'sourcePath': '/efs/shared/samples/notebooks/I-Image/gpu1', 'targetPath': '/efs/shared/regression/notebooks/I-Image/gpu1', 'params': {}, 'ExecutionType': 'ecs'}]} is running with status {'active': 1,\n",
      " 'completion_time': None,\n",
      " 'conditions': None,\n",
      " 'failed': None,\n",
      " 'start_time': datetime.datetime(2021, 2, 26, 16, 13, 31, tzinfo=tzlocal()),\n",
      " 'succeeded': None}\n",
      "INFO:root:Watching task: 'orbit-lake-user-ec2-runner-7k2g9'\n",
      "INFO:root:pod has error status Unschedulable , 0/6 nodes are available: 2 Too many pods, 4 Insufficient memory, 4 Insufficient vpc.amazonaws.com/pod-eni, 5 Insufficient cpu, 6 Insufficient nvidia.com/gpu.\n",
      "INFO:root:Running: 1 Completed: 0 Errored: 0\n",
      "INFO:root:waiting for [{'ExecutionType': 'eks', 'Identifier': 'orbit-lake-user-ec2-runner-7k2g9', 'NodeType': 'ec2', 'tasks': [{'notebookName': 'test-image.ipynb', 'sourcePath': '/efs/shared/samples/notebooks/I-Image/gpu1', 'targetPath': '/efs/shared/regression/notebooks/I-Image/gpu1', 'params': {}, 'ExecutionType': 'ecs'}]}]\n",
      "INFO:root:Task {'ExecutionType': 'eks', 'Identifier': 'orbit-lake-user-ec2-runner-7k2g9', 'NodeType': 'ec2', 'tasks': [{'notebookName': 'test-image.ipynb', 'sourcePath': '/efs/shared/samples/notebooks/I-Image/gpu1', 'targetPath': '/efs/shared/regression/notebooks/I-Image/gpu1', 'params': {}, 'ExecutionType': 'ecs'}]} is running with status {'active': 1,\n",
      " 'completion_time': None,\n",
      " 'conditions': None,\n",
      " 'failed': None,\n",
      " 'start_time': datetime.datetime(2021, 2, 26, 16, 13, 31, tzinfo=tzlocal()),\n",
      " 'succeeded': None}\n",
      "INFO:root:Watching task: 'orbit-lake-user-ec2-runner-7k2g9'\n",
      "INFO:root:pod has error status Unschedulable , 0/6 nodes are available: 2 Too many pods, 4 Insufficient memory, 4 Insufficient vpc.amazonaws.com/pod-eni, 5 Insufficient cpu, 6 Insufficient nvidia.com/gpu.\n",
      "INFO:root:Running: 1 Completed: 0 Errored: 0\n",
      "INFO:root:waiting for [{'ExecutionType': 'eks', 'Identifier': 'orbit-lake-user-ec2-runner-7k2g9', 'NodeType': 'ec2', 'tasks': [{'notebookName': 'test-image.ipynb', 'sourcePath': '/efs/shared/samples/notebooks/I-Image/gpu1', 'targetPath': '/efs/shared/regression/notebooks/I-Image/gpu1', 'params': {}, 'ExecutionType': 'ecs'}]}]\n",
      "INFO:root:Task {'ExecutionType': 'eks', 'Identifier': 'orbit-lake-user-ec2-runner-7k2g9', 'NodeType': 'ec2', 'tasks': [{'notebookName': 'test-image.ipynb', 'sourcePath': '/efs/shared/samples/notebooks/I-Image/gpu1', 'targetPath': '/efs/shared/regression/notebooks/I-Image/gpu1', 'params': {}, 'ExecutionType': 'ecs'}]} is running with status {'active': 1,\n",
      " 'completion_time': None,\n",
      " 'conditions': None,\n",
      " 'failed': None,\n",
      " 'start_time': datetime.datetime(2021, 2, 26, 16, 13, 31, tzinfo=tzlocal()),\n",
      " 'succeeded': None}\n",
      "INFO:root:Watching task: 'orbit-lake-user-ec2-runner-7k2g9'\n",
      "INFO:root:pod has error status Unschedulable , 0/6 nodes are available: 2 Too many pods, 4 Insufficient memory, 4 Insufficient vpc.amazonaws.com/pod-eni, 5 Insufficient cpu, 6 Insufficient nvidia.com/gpu.\n",
      "INFO:root:Running: 1 Completed: 0 Errored: 0\n",
      "INFO:root:waiting for [{'ExecutionType': 'eks', 'Identifier': 'orbit-lake-user-ec2-runner-7k2g9', 'NodeType': 'ec2', 'tasks': [{'notebookName': 'test-image.ipynb', 'sourcePath': '/efs/shared/samples/notebooks/I-Image/gpu1', 'targetPath': '/efs/shared/regression/notebooks/I-Image/gpu1', 'params': {}, 'ExecutionType': 'ecs'}]}]\n",
      "INFO:root:Task {'ExecutionType': 'eks', 'Identifier': 'orbit-lake-user-ec2-runner-7k2g9', 'NodeType': 'ec2', 'tasks': [{'notebookName': 'test-image.ipynb', 'sourcePath': '/efs/shared/samples/notebooks/I-Image/gpu1', 'targetPath': '/efs/shared/regression/notebooks/I-Image/gpu1', 'params': {}, 'ExecutionType': 'ecs'}]} is running with status {'active': 1,\n",
      " 'completion_time': None,\n",
      " 'conditions': None,\n",
      " 'failed': None,\n",
      " 'start_time': datetime.datetime(2021, 2, 26, 16, 13, 31, tzinfo=tzlocal()),\n",
      " 'succeeded': None}\n",
      "INFO:root:Watching task: 'orbit-lake-user-ec2-runner-7k2g9'\n",
      "INFO:root:pod has error status Unschedulable , 0/6 nodes are available: 2 Too many pods, 4 Insufficient memory, 4 Insufficient vpc.amazonaws.com/pod-eni, 5 Insufficient cpu, 6 Insufficient nvidia.com/gpu.\n",
      "INFO:root:Running: 1 Completed: 0 Errored: 0\n",
      "INFO:root:Stopped waiting as maxAttempts reached\n",
      "1\n",
      "CPU times: user 788 ms, sys: 264 ms, total: 1.05 s\n",
      "Wall time: 1min 33s\n"
     ]
    }
   ],
   "source": [
    "%%time\n",
    "\n",
    "!orbit run notebook --env $env_name --team $team_name --user testing --wait --tail-logs run.json || echo  $?\n"
   ]
  },
  {
   "cell_type": "code",
   "execution_count": null,
   "id": "intermediate-provision",
   "metadata": {},
   "outputs": [],
   "source": []
  }
 ],
 "metadata": {
  "kernelspec": {
   "display_name": "Python 3",
   "language": "python",
   "name": "python3"
  },
  "language_info": {
   "codemirror_mode": {
    "name": "ipython",
    "version": 3
   },
   "file_extension": ".py",
   "mimetype": "text/x-python",
   "name": "python",
   "nbconvert_exporter": "python",
   "pygments_lexer": "ipython3",
   "version": "3.8.6"
  },
  "pycharm": {
   "stem_cell": {
    "cell_type": "raw",
    "source": [],
    "metadata": {
     "collapsed": false
    }
   }
  }
 },
 "nbformat": 4,
 "nbformat_minor": 5
}