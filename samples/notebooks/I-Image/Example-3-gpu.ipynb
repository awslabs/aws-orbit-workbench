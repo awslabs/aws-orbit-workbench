{
 "cells": [
  {
   "cell_type": "markdown",
   "id": "uniform-orchestra",
   "metadata": {},
   "source": [
    "<!--\n",
    "#  Copyright Amazon.com, Inc. or its affiliates. All Rights Reserved.\n",
    "#\n",
    "#    Licensed under the Apache License, Version 2.0 (the \"License\").\n",
    "#    You may not use this file except in compliance with the License.\n",
    "#    You may obtain a copy of the License at\n",
    "#\n",
    "#        http://www.apache.org/licenses/LICENSE-2.0\n",
    "#\n",
    "#    Unless required by applicable law or agreed to in writing, software\n",
    "#    distributed under the License is distributed on an \"AS IS\" BASIS,\n",
    "#    WITHOUT WARRANTIES OR CONDITIONS OF ANY KIND, either express or implied.\n",
    "#    See the License for the specific language governing permissions and\n",
    "#    limitations under the License.\n",
    "-->\n",
    "\n",
    "# Sample notebook to build a Jupyter Image with GPU enabled.\n",
    "\n",
    "## Content\n",
    "1. [Configuration](#Configuration)\n",
    "1. [Preparation](#Preparation)\n",
    "1. [Build Image](#Build-Image)\n",
    "1. [Running Container using the profile](#Running-container)\n"
   ]
  },
  {
   "cell_type": "markdown",
   "id": "fallen-september",
   "metadata": {},
   "source": [
    "### Configuration"
   ]
  },
  {
   "cell_type": "code",
   "execution_count": null,
   "id": "starting-pantyhose",
   "metadata": {},
   "outputs": [],
   "source": [
    "image_name = 'gpu-jupyter-user'\n",
    "folder_name = 'aws-orbit_jupyter-user'"
   ]
  },
  {
   "cell_type": "markdown",
   "id": "funny-reducing",
   "metadata": {},
   "source": [
    "### Preparation\n",
    "The standard `jupyter-user` image we deploy contains a copy of the source files we use to build the image. These sources can be used to build and deploy customized images. Here we demonstrate how to use these sources to build a custom image with an alternative `BASE_IMAGE` that is preconfigured with GPU libraries."
   ]
  },
  {
   "cell_type": "code",
   "execution_count": null,
   "id": "abroad-division",
   "metadata": {},
   "outputs": [],
   "source": [
    "archive = f'{folder_name}.tar.gz'\n",
    "\n",
    "!rm -r ./$folder_name\n",
    "\n",
    "!cp ~/.orbit/$archive ./$archive\n",
    "\n",
    "!tar zxvf ./$archive "
   ]
  },
  {
   "cell_type": "markdown",
   "id": "useful-phase",
   "metadata": {},
   "source": [
    "### Build Image"
   ]
  },
  {
   "cell_type": "markdown",
   "id": "loose-nightlife",
   "metadata": {},
   "source": [
    "Lets see how  orbit build image works..."
   ]
  },
  {
   "cell_type": "code",
   "execution_count": null,
   "id": "given-gasoline",
   "metadata": {},
   "outputs": [],
   "source": [
    "!orbit build image --help"
   ]
  },
  {
   "cell_type": "markdown",
   "id": "competent-explosion",
   "metadata": {},
   "source": [
    "get our orbit env and team names"
   ]
  },
  {
   "cell_type": "code",
   "execution_count": null,
   "id": "adopted-tenant",
   "metadata": {},
   "outputs": [],
   "source": [
    "env_name = %env AWS_ORBIT_ENV\n",
    "team_name = %env AWS_ORBIT_TEAM_SPACE\n",
    "(env_name,team_name)"
   ]
  },
  {
   "cell_type": "markdown",
   "id": "native-exhibit",
   "metadata": {},
   "source": [
    "Repository name will be created from the image name prefixed by the env context.  Users are only able to manipulate ECR repos that start with 'orbit-{env_name}-users-'"
   ]
  },
  {
   "cell_type": "code",
   "execution_count": null,
   "id": "structured-responsibility",
   "metadata": {},
   "outputs": [],
   "source": [
    "repository_name = (f\"orbit-{env_name}-users-{image_name}\")\n",
    "repository_name"
   ]
  },
  {
   "cell_type": "code",
   "execution_count": null,
   "id": "august-transmission",
   "metadata": {},
   "outputs": [],
   "source": [
    "!aws ecr delete-repository --repository-name $repository_name --force"
   ]
  },
  {
   "cell_type": "code",
   "execution_count": null,
   "id": "chinese-malpractice",
   "metadata": {},
   "outputs": [],
   "source": [
    "pwd = %pwd\n",
    "pwd"
   ]
  },
  {
   "cell_type": "markdown",
   "id": "devoted-durham",
   "metadata": {},
   "source": [
    "Now lets run the command.\n",
    "\n",
    "**_This can take some time (~20 minutes)._**"
   ]
  },
  {
   "cell_type": "code",
   "execution_count": null,
   "id": "younger-anaheim",
   "metadata": {},
   "outputs": [],
   "source": [
    "%%time\n",
    "\n",
    "output = !orbit build image -e $env_name -d $pwd/$folder_name -n $image_name -s bundle.sh --build-arg BASE_IMAGE=cschranz/gpu-jupyter\n",
    "output"
   ]
  },
  {
   "cell_type": "markdown",
   "id": "retired-direction",
   "metadata": {},
   "source": [
    "Lets get the image address from the output of the previous command"
   ]
  },
  {
   "cell_type": "code",
   "execution_count": null,
   "id": "included-bunny",
   "metadata": {},
   "outputs": [],
   "source": [
    "look_for = 'ECR Image Address='\n",
    "image = None\n",
    "for o in output:\n",
    "    if look_for in o:\n",
    "        image = o[o.index(look_for) + len(look_for):]\n",
    "        print(image)\n",
    "\n",
    "assert(image != None)       \n",
    "    "
   ]
  },
  {
   "cell_type": "code",
   "execution_count": null,
   "id": "english-pencil",
   "metadata": {},
   "outputs": [],
   "source": [
    "# check that the image was built\n",
    "import json\n",
    "print(repository_name)\n",
    "images = !aws ecr list-images --repository-name $repository_name\n",
    "images = \"\".join(images)\n",
    "im = json.loads(images)\n",
    "print(im['imageIds'])\n",
    "assert(len(im['imageIds']) > 0)"
   ]
  },
  {
   "cell_type": "markdown",
   "id": "returning-competition",
   "metadata": {},
   "source": [
    "### Building the profile for the Image"
   ]
  },
  {
   "cell_type": "code",
   "execution_count": null,
   "id": "stunning-lighting",
   "metadata": {},
   "outputs": [],
   "source": [
    "import json\n",
    "profile = [{\n",
    "        \"display_name\": \"Small (GPU Enabled)\",\n",
    "        \"slug\": \"small-gpu\",\n",
    "        \"description\": \"2 CPU + 4G MEM + 1 GPU\",\n",
    "        \"kubespawner_override\": {\n",
    "            \"image\": image,\n",
    "            \"cpu_guarantee\": 2,\n",
    "            \"cpu_limit\": 2,\n",
    "            \"mem_guarantee\": \"4G\",\n",
    "            \"mem_limit\": \"4G\",\n",
    "            \"extra_resource_limits\": {\"nvidia.com/gpu\": \"1\"},\n",
    "            \"extra_resource_guarantees\": {\"nvidia.com/gpu\": \"1\"},\n",
    "        },\n",
    "    },\n",
    "    {\n",
    "        \"display_name\": \"Small (vGPU Enabled)\",\n",
    "        \"slug\": \"small-vgpu\",\n",
    "        \"description\": \"2 CPU + 4G MEM + 1 vGPU\",\n",
    "        \"kubespawner_override\": {\n",
    "            \"image\": image,\n",
    "            \"cpu_guarantee\": 2,\n",
    "            \"cpu_limit\": 2,\n",
    "            \"mem_guarantee\": \"4G\",\n",
    "            \"mem_limit\": \"4G\",\n",
    "            \"extra_resource_limits\": {\"k8s.amazonaws.com/vgpu\": \"1\"},\n",
    "            \"extra_resource_guarantees\": {\"k8s.amazonaws.com/vgpu\": \"1\"},\n",
    "        },\n",
    "    }]\n",
    "\n",
    "with open(\"profile.json\", 'w') as f:\n",
    "    json.dump(profile, f, indent=4, sort_keys=True)\n"
   ]
  },
  {
   "cell_type": "code",
   "execution_count": null,
   "id": "distinguished-bookmark",
   "metadata": {},
   "outputs": [],
   "source": [
    "!cat profile.json"
   ]
  },
  {
   "cell_type": "code",
   "execution_count": null,
   "id": "sorted-triangle",
   "metadata": {},
   "outputs": [],
   "source": [
    "!orbit build profile --env $env_name --team $team_name profile.json"
   ]
  },
  {
   "cell_type": "code",
   "execution_count": null,
   "id": "detailed-madness",
   "metadata": {},
   "outputs": [],
   "source": [
    "!orbit list profile --env $env_name --team $team_name"
   ]
  }
 ],
 "metadata": {
  "kernelspec": {
   "display_name": "Python 3",
   "language": "python",
   "name": "python3"
  },
  "language_info": {
   "codemirror_mode": {
    "name": "ipython",
    "version": 3
   },
   "file_extension": ".py",
   "mimetype": "text/x-python",
   "name": "python",
   "nbconvert_exporter": "python",
   "pygments_lexer": "ipython3",
   "version": "3.8.8"
  },
  "pycharm": {
   "stem_cell": {
    "cell_type": "raw",
    "metadata": {
     "collapsed": false
    },
    "source": []
   }
  }
 },
 "nbformat": 4,
 "nbformat_minor": 5
}
