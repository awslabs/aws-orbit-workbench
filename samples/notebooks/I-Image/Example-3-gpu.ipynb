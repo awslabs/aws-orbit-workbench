{
 "cells": [
  {
   "cell_type": "markdown",
   "metadata": {},
   "source": [
    "<!--\n",
    "#  Copyright Amazon.com, Inc. or its affiliates. All Rights Reserved.\n",
    "#\n",
    "#    Licensed under the Apache License, Version 2.0 (the \"License\").\n",
    "#    You may not use this file except in compliance with the License.\n",
    "#    You may obtain a copy of the License at\n",
    "#\n",
    "#        http://www.apache.org/licenses/LICENSE-2.0\n",
    "#\n",
    "#    Unless required by applicable law or agreed to in writing, software\n",
    "#    distributed under the License is distributed on an \"AS IS\" BASIS,\n",
    "#    WITHOUT WARRANTIES OR CONDITIONS OF ANY KIND, either express or implied.\n",
    "#    See the License for the specific language governing permissions and\n",
    "#    limitations under the License.\n",
    "-->\n",
    "\n",
    "# Sample notebook to build a Jupyter Image with GPU enabled.\n",
    "\n",
    "## Content\n",
    "1. [Configuration](#Configuration)\n",
    "1. [Preparation](#Preparation)\n",
    "1. [Build Image](#Build-Image)\n",
    "1. [Running Container using the profile](#Running-container)\n"
   ]
  },
  {
   "cell_type": "markdown",
   "metadata": {},
   "source": [
    "### Configuration"
   ]
  },
  {
   "cell_type": "code",
   "execution_count": null,
   "metadata": {},
   "outputs": [],
   "source": [
    "image_name = 'gpu-jupyter-user'\n",
    "folder_name = 'aws-orbit_jupyter-user'"
   ]
  },
  {
   "cell_type": "markdown",
   "metadata": {},
   "source": [
    "### Preparation\n",
    "The standard `jupyter-user` image we deploy contains a copy of the source files we use to build the image. These sources can be used to build and deploy customized images. Here we demonstrate how to use these sources to build a custom image with an alternative `BASE_IMAGE` that is preconfigured with GPU libraries."
   ]
  },
  {
   "cell_type": "code",
   "execution_count": null,
   "metadata": {},
   "outputs": [],
   "source": [
    "archive = f'{folder_name}.tar.gz'\n",
    "\n",
    "!rm -r ./$folder_name\n",
    "\n",
    "!cp /opt/orbit/$archive ./$archive\n",
    "\n",
    "!tar zxvf ./$archive "
   ]
  },
  {
   "cell_type": "markdown",
   "metadata": {},
   "source": [
    "### Build Image"
   ]
  },
  {
   "cell_type": "markdown",
   "metadata": {},
   "source": [
    "Lets see how  orbit build image works..."
   ]
  },
  {
   "cell_type": "code",
   "execution_count": null,
   "metadata": {},
   "outputs": [],
   "source": [
    "!orbit build image --help"
   ]
  },
  {
   "cell_type": "markdown",
   "metadata": {},
   "source": [
    "get our orbit env and team names"
   ]
  },
  {
   "cell_type": "code",
   "execution_count": null,
   "metadata": {},
   "outputs": [],
   "source": [
    "env_name = %env AWS_ORBIT_ENV\n",
    "team_name = %env AWS_ORBIT_TEAM_SPACE\n",
    "user_name = %env USERNAME\n",
    "namespace = %env AWS_ORBIT_USER_SPACE\n",
    "(env_name,team_name, user_name, namespace)"
   ]
  },
  {
   "cell_type": "markdown",
   "metadata": {},
   "source": [
    "Repository name will be created from the image name prefixed by the env context.  Users are only able to manipulate ECR repos that start with 'orbit-{env_name}/users/'"
   ]
  },
  {
   "cell_type": "code",
   "execution_count": null,
   "metadata": {},
   "outputs": [],
   "source": [
    "repository_name = (f\"orbit-{env_name}/users/{image_name}\")\n",
    "repository_name"
   ]
  },
  {
   "cell_type": "code",
   "execution_count": null,
   "metadata": {},
   "outputs": [],
   "source": [
    "!aws ecr delete-repository --repository-name $repository_name --force"
   ]
  },
  {
   "cell_type": "code",
   "execution_count": null,
   "metadata": {},
   "outputs": [],
   "source": [
    "pwd = %pwd\n",
    "pwd"
   ]
  },
  {
   "cell_type": "markdown",
   "metadata": {},
   "source": [
    "Now lets run the command.\n",
    "\n",
    "**_This can take some time (~20 minutes)._**"
   ]
  },
  {
   "cell_type": "code",
   "execution_count": null,
   "metadata": {},
   "outputs": [],
   "source": [
    "%%time\n",
    "\n",
    "output = !orbit build image -e $env_name -d $pwd/$folder_name -n $image_name -s bundle.sh --timeout 45 --build-arg BASE_IMAGE=cschranz/gpu-jupyter\n",
    "output"
   ]
  },
  {
   "cell_type": "markdown",
   "metadata": {},
   "source": [
    "Lets get the image address from the output of the previous command"
   ]
  },
  {
   "cell_type": "code",
   "execution_count": null,
   "metadata": {},
   "outputs": [],
   "source": [
    "look_for = 'ECR Image Address='\n",
    "image = None\n",
    "for o in output:\n",
    "    if look_for in o:\n",
    "        image = o[o.index(look_for) + len(look_for):]\n",
    "        print(image)\n",
    "\n",
    "assert(image != None)       \n",
    "    "
   ]
  },
  {
   "cell_type": "code",
   "execution_count": null,
   "metadata": {},
   "outputs": [],
   "source": [
    "# check that the image was built\n",
    "import json\n",
    "print(repository_name)\n",
    "images = !aws ecr list-images --repository-name $repository_name\n",
    "images = \"\".join(images)\n",
    "im = json.loads(images)\n",
    "print(im['imageIds'])\n",
    "assert(len(im['imageIds']) > 0)"
   ]
  },
  {
   "cell_type": "markdown",
   "metadata": {},
   "source": [
    "### Building the profile for the Image"
   ]
  },
  {
   "cell_type": "code",
   "execution_count": 7,
   "metadata": {},
   "outputs": [],
   "source": [
    "import json\n",
    "\n",
    "customname = \"orbit-gpu-image-sample-\"+team_name\n",
    "\n",
    "podsetting = {\n",
    "    \"apiVersion\": \"orbit.aws/v1\",\n",
    "    \"kind\": \"PodSetting\",\n",
    "    \"metadata\": {\n",
    "        \"labels\": {\n",
    "            \"orbit/env\": env_name,\n",
    "            \"orbit/space\": \"team\",\n",
    "            \"orbit/team\": team_name\n",
    "        },\n",
    " \n",
    "        \"name\": customname,\n",
    "        \"namespace\": team_name,\n",
    "    },\n",
    "    \"spec\": {\n",
    "        \"containerSelector\": {\n",
    "            \"jsonpath\": \"metadata.labels.app\"\n",
    "        },\n",
    "        \"desc\": \"Machine Learning Image GPU - 2 CPU + 4G MEM + 1 GPU\",\n",
    "        \"env\": [\n",
    "            {\n",
    "                \"name\": \"custom_name\",\n",
    "                \"value\": \"custom_value\"\n",
    "            }\n",
    "        ],\n",
    "        \"podSelector\": {\n",
    "            \"matchExpressions\": [\n",
    "                {\n",
    "                    \"key\": \"orbit/\"+customname,\n",
    "                    \"operator\": \"Exists\"\n",
    "                },\n",
    "                {\n",
    "                    \"key\": \"app\",\n",
    "                    \"operator\": \"NotIn\",\n",
    "                    \"values\": [\n",
    "                        \"orbit-runner\"\n",
    "                    ]\n",
    "                }\n",
    "            ]\n",
    "        },\n",
    "        \"resources\": {\n",
    "            \"limits\": {\n",
    "                \"cpu\": \"2.0\",\n",
    "                \"memory\": \"4Gi\",\n",
    "                \"nvidia.com/gpu\": \"1\"\n",
    "            },\n",
    "            \"requests\": {\n",
    "                \"cpu\": \"2.0\",\n",
    "                \"memory\": \"4Gi\",\n",
    "                \"nvidia.com/gpu\": \"1\"\n",
    "            }\n",
    "        },\n",
    "        \"nodeSelector\":{\n",
    "                \"orbit/node-group\": \"primary-gpu\",\n",
    "        },\n",
    "        \"securityContext\": {\n",
    "            \"runAsUser\": 1000\n",
    "        },\n",
    "        \"image\": image\n",
    "    }\n",
    "}\n",
    "\n",
    "\n",
    "with open(\"podsetting_gpu.json\", 'w') as f:\n",
    "    json.dump(podsetting, f)"
   ]
  },
  {
   "cell_type": "code",
   "execution_count": null,
   "metadata": {},
   "outputs": [],
   "source": [
    "!kubectl apply -f podsetting_gpu.json -n {team_name}"
   ]
  },
  {
   "cell_type": "code",
   "execution_count": 10,
   "metadata": {},
   "outputs": [],
   "source": [
    "import json\n",
    "\n",
    "customname = \"orbit-vgpu-image-sample-\"+team_name\n",
    "\n",
    "podsetting = {\n",
    "    \"apiVersion\": \"orbit.aws/v1\",\n",
    "    \"kind\": \"PodSetting\",\n",
    "    \"metadata\": {\n",
    "        \"labels\": {\n",
    "            \"orbit/env\": env_name,\n",
    "            \"orbit/space\": \"team\",\n",
    "            \"orbit/team\": team_name\n",
    "        },\n",
    " \n",
    "        \"name\": customname,\n",
    "        \"namespace\": team_name,\n",
    "    },\n",
    "    \"spec\": {\n",
    "        \"containerSelector\": {\n",
    "            \"jsonpath\": \"metadata.labels.app\"\n",
    "        },\n",
    "        \"desc\": \"Machine Learning Image vGPU - 2 CPU + 4G MEM + 1 GPU\",\n",
    "        \"env\": [\n",
    "            {\n",
    "                \"name\": \"custom_name\",\n",
    "                \"value\": \"custom_value\"\n",
    "            }\n",
    "        ],\n",
    "        \"podSelector\": {\n",
    "            \"matchExpressions\": [\n",
    "                {\n",
    "                    \"key\": \"orbit/\"+customname,\n",
    "                    \"operator\": \"Exists\"\n",
    "                },\n",
    "                {\n",
    "                    \"key\": \"app\",\n",
    "                    \"operator\": \"NotIn\",\n",
    "                    \"values\": [\n",
    "                        \"orbit-runner\"\n",
    "                    ]\n",
    "                }\n",
    "            ]\n",
    "        },\n",
    "        \"resources\": {\n",
    "            \"limits\": {\n",
    "                \"cpu\": \"2.0\",\n",
    "                \"memory\": \"4Gi\",\n",
    "                \"k8s.amazonaws.com/vgpu\": \"1\"\n",
    "            },\n",
    "            \"requests\": {\n",
    "                \"cpu\": \"2.0\",\n",
    "                \"memory\": \"4Gi\",\n",
    "                \"k8s.amazonaws.com/vgpu\": \"1\"\n",
    "            }\n",
    "        },\n",
    "        \"nodeSelector\":{\n",
    "                \"node.kubernetes.io/instance-type\": \"g4dn.xlarge\"\n",
    "        },\n",
    "        \"securityContext\": {\n",
    "            \"runAsUser\": 1000\n",
    "        },\n",
    "        \"image\": image\n",
    "    }\n",
    "}\n",
    "\n",
    "\n",
    "with open(\"podsetting_vgpu.json\", 'w') as f:\n",
    "    json.dump(podsetting, f)"
   ]
  },
  {
   "cell_type": "code",
   "execution_count": null,
   "metadata": {},
   "outputs": [],
   "source": [
    "!kubectl apply -f podsetting_vgpu.json -n {team_name}"
   ]
  },
  {
   "cell_type": "markdown",
   "metadata": {},
   "source": [
    "import json\n",
    "profile = [{\n",
    "        \"display_name\": \"Small (GPU Enabled)\",\n",
    "        \"slug\": \"small-gpu\",\n",
    "        \"description\": \"2 CPU + 4G MEM + 1 GPU\",\n",
    "        \"kubespawner_override\": {\n",
    "            \"image\": image,\n",
    "            \"cpu_guarantee\": 2,\n",
    "            \"cpu_limit\": 2,\n",
    "            \"mem_guarantee\": \"4G\",\n",
    "            \"mem_limit\": \"4G\",\n",
    "            \"extra_resource_limits\": {\"nvidia.com/gpu\": \"1\"},\n",
    "            \"extra_resource_guarantees\": {\"nvidia.com/gpu\": \"1\"},\n",
    "        },\n",
    "    },\n",
    "    {\n",
    "        \"display_name\": \"Small (vGPU Enabled)\",\n",
    "        \"slug\": \"small-vgpu\",\n",
    "        \"description\": \"2 CPU + 4G MEM + 1 vGPU\",\n",
    "        \"kubespawner_override\": {\n",
    "            \"image\": image,\n",
    "            \"cpu_guarantee\": 2,\n",
    "            \"cpu_limit\": 2,\n",
    "            \"mem_guarantee\": \"4G\",\n",
    "            \"mem_limit\": \"4G\",\n",
    "            \"extra_resource_limits\": {\"k8s.amazonaws.com/vgpu\": \"1\"},\n",
    "            \"extra_resource_guarantees\": {\"k8s.amazonaws.com/vgpu\": \"1\"},\n",
    "        },\n",
    "    }]\n",
    "\n",
    "with open(\"profile.json\", 'w') as f:\n",
    "    json.dump(profile, f, indent=4, sort_keys=True)\n"
   ]
  },
  {
   "cell_type": "markdown",
   "metadata": {},
   "source": [
    "### Running container\n",
    "\n",
    "Lets run a container using the profile and image we created"
   ]
  },
  {
   "cell_type": "markdown",
   "metadata": {
    "tags": []
   },
   "source": [
    "import json\n",
    "run = {\n",
    "      \"compute\": {\n",
    "          \"container\" : {\n",
    "              \"p_concurrent\": \"1\"\n",
    "          },\n",
    "          \"node_type\": \"ec2\",\n",
    "          \"profile\": \"small-gpu\"\n",
    "      },\n",
    "      \"tasks\":  [{\n",
    "          \"notebookName\": \"test-image.ipynb\",\n",
    "          \"sourcePath\": pwd,\n",
    "          \"targetPath\": f\"/home/jovyan/shared/regression/notebooks/I-Image/gpu\",\n",
    "          \"params\": {\n",
    "          }\n",
    "        }]\n",
    " }\n",
    "\n",
    "with open(\"run.json\", 'w') as f:\n",
    "    json.dump(run, f)"
   ]
  },
  {
   "cell_type": "markdown",
   "metadata": {},
   "source": [
    "%%time\n",
    "\n",
    "!orbit run notebook --env $env_name --team $team_name --user testing --wait --tail-logs run.json"
   ]
  }
 ],
 "metadata": {
  "kernelspec": {
   "display_name": "Python 3.7.10 64-bit ('.venv': venv)",
   "name": "python3710jvsc74a57bd00b057235627626f57fbc8c705765c1500164cd2c2844b87f4d5072ebf53a5e1f"
  },
  "language_info": {
   "name": "python",
   "version": ""
  }
 },
 "nbformat": 4,
 "nbformat_minor": 5
}