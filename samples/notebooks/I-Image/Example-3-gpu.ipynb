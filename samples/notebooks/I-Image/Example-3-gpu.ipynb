{
 "cells": [
  {
   "cell_type": "markdown",
   "id": "7c02b1e1",
   "metadata": {},
   "source": [
    "<!--\n",
    "#  Copyright Amazon.com, Inc. or its affiliates. All Rights Reserved.\n",
    "#\n",
    "#    Licensed under the Apache License, Version 2.0 (the \"License\").\n",
    "#    You may not use this file except in compliance with the License.\n",
    "#    You may obtain a copy of the License at\n",
    "#\n",
    "#        http://www.apache.org/licenses/LICENSE-2.0\n",
    "#\n",
    "#    Unless required by applicable law or agreed to in writing, software\n",
    "#    distributed under the License is distributed on an \"AS IS\" BASIS,\n",
    "#    WITHOUT WARRANTIES OR CONDITIONS OF ANY KIND, either express or implied.\n",
    "#    See the License for the specific language governing permissions and\n",
    "#    limitations under the License.\n",
    "-->\n",
    "\n",
    "# Sample notebook to build a Jupyter Image with GPU enabled.\n",
    "\n",
    "## Content\n",
    "1. [Configuration](#Configuration)\n",
    "1. [Preparation](#Preparation)\n",
    "1. [Build Image](#Build-Image)\n",
    "1. [Running Container using the profile](#Running-container)\n"
   ]
  },
  {
   "cell_type": "markdown",
   "id": "78625fa5",
   "metadata": {},
   "source": [
    "### Configuration"
   ]
  },
  {
   "cell_type": "code",
   "execution_count": null,
   "id": "c43e5010",
   "metadata": {},
   "outputs": [],
   "source": [
    "image_name = 'gpu-jupyter-user'\n",
    "folder_name = 'aws-orbit_jupyter-user'"
   ]
  },
  {
   "cell_type": "markdown",
   "id": "d6a2b171",
   "metadata": {},
   "source": [
    "### Preparation\n",
    "The standard `jupyter-user` image we deploy contains a copy of the source files we use to build the image. These sources can be used to build and deploy customized images. Here we demonstrate how to use these sources to build a custom image with an alternative `BASE_IMAGE` that is preconfigured with GPU libraries."
   ]
  },
  {
   "cell_type": "code",
   "execution_count": null,
   "id": "cc7def19",
   "metadata": {},
   "outputs": [],
   "source": [
    "archive = f'{folder_name}.tar.gz'\n",
    "\n",
    "!rm -r ./$folder_name\n",
    "\n",
    "!cp /opt/orbit/$archive ./$archive\n",
    "\n",
    "!tar zxvf ./$archive "
   ]
  },
  {
   "cell_type": "markdown",
   "id": "ff2957fc",
   "metadata": {},
   "source": [
    "### Build Image"
   ]
  },
  {
   "cell_type": "markdown",
   "id": "84a86a9a",
   "metadata": {},
   "source": [
    "Lets see how  orbit build image works..."
   ]
  },
  {
   "cell_type": "code",
   "execution_count": null,
   "id": "661ae4b2",
   "metadata": {},
   "outputs": [],
   "source": [
    "!orbit build image --help"
   ]
  },
  {
   "cell_type": "markdown",
   "id": "40638f2e",
   "metadata": {},
   "source": [
    "get our orbit env and team names"
   ]
  },
  {
   "cell_type": "code",
   "execution_count": null,
   "id": "60c62dd8",
   "metadata": {},
   "outputs": [],
   "source": [
    "env_name = %env AWS_ORBIT_ENV\n",
    "team_name = %env AWS_ORBIT_TEAM_SPACE\n",
    "user_name = %env USERNAME\n",
    "namespace = %env AWS_ORBIT_USER_SPACE\n",
    "(env_name,team_name, user_name, namespace)"
   ]
  },
  {
   "cell_type": "markdown",
   "id": "c1a6430c",
   "metadata": {},
   "source": [
    "Repository name will be created from the image name prefixed by the env context.  Users are only able to manipulate ECR repos that start with 'orbit-{env_name}/users/'"
   ]
  },
  {
   "cell_type": "code",
   "execution_count": null,
   "id": "3e27530d",
   "metadata": {},
   "outputs": [],
   "source": [
    "repository_name = (f\"orbit-{env_name}/users/{image_name}\")\n",
    "repository_name"
   ]
  },
  {
   "cell_type": "code",
   "execution_count": null,
   "id": "55dcd37d",
   "metadata": {},
   "outputs": [],
   "source": [
    "!aws ecr delete-repository --repository-name $repository_name --force"
   ]
  },
  {
   "cell_type": "code",
   "execution_count": null,
   "id": "58d606f0",
   "metadata": {},
   "outputs": [],
   "source": [
    "pwd = %pwd\n",
    "pwd"
   ]
  },
  {
   "cell_type": "markdown",
   "id": "f709b0ec",
   "metadata": {},
   "source": [
    "Now lets run the command.\n",
    "\n",
    "**_This can take some time (~20 minutes)._**"
   ]
  },
  {
   "cell_type": "code",
   "execution_count": null,
   "id": "2d465aa6",
   "metadata": {},
   "outputs": [],
   "source": [
    "%%time\n",
    "\n",
    "output = !orbit build image -e $env_name -d $pwd/$folder_name -n $image_name -s bundle.sh --timeout 45 --build-arg BASE_IMAGE=cschranz/gpu-jupyter\n",
    "output"
   ]
  },
  {
   "cell_type": "markdown",
   "id": "e07711f7",
   "metadata": {},
   "source": [
    "Lets get the image address from the output of the previous command"
   ]
  },
  {
   "cell_type": "code",
   "execution_count": null,
   "id": "7980e269",
   "metadata": {},
   "outputs": [],
   "source": [
    "look_for = 'ECR Image Address='\n",
    "image = None\n",
    "for o in output:\n",
    "    if look_for in o:\n",
    "        image = o[o.index(look_for) + len(look_for):]\n",
    "        print(image)\n",
    "\n",
    "assert(image != None)       \n",
    "    "
   ]
  },
  {
   "cell_type": "code",
   "execution_count": null,
   "id": "a869b660",
   "metadata": {},
   "outputs": [],
   "source": [
    "# check that the image was built\n",
    "import json\n",
    "print(repository_name)\n",
    "images = !aws ecr list-images --repository-name $repository_name\n",
    "images = \"\".join(images)\n",
    "im = json.loads(images)\n",
    "print(im['imageIds'])\n",
    "assert(len(im['imageIds']) > 0)"
   ]
  },
  {
   "cell_type": "markdown",
   "id": "4a189af1",
   "metadata": {},
   "source": [
    "### Building the PodSetting for the Image"
   ]
  },
  {
   "cell_type": "code",
   "execution_count": null,
   "id": "b252a130",
   "metadata": {},
   "outputs": [],
   "source": [
    "import json\n",
    "\n",
    "customnameGPU = \"orbit-gpu-image-sample-\"+team_name\n",
    "description= \" Machine Learning Image GPU - 2 CPU + 4G MEM + 1 GPU \"\n",
    "podsetting={\n",
    "            \"name\": customnameGPU,\n",
    "            \"description\": description,\n",
    "            \"image\": image,\n",
    "            \"resources\":{\n",
    "                \"limits\":{            \n",
    "                    \"cpu\": \"2.0\",\n",
    "                    \"memory\": \"4Gi\"\n",
    "                    \"nvidia.com/gpu\": \"1\"\n",
    "                    },\n",
    "                \"requests\":{\n",
    "                    \"cpu\": \"2.0\",\n",
    "                    \"memory\": \"4Gi\"\n",
    "                    \"nvidia.com/gpu\": \"1\"\n",
    "                    }\n",
    "            },\n",
    "            \"node-group\":\"primary-gpu\",\n",
    "            \"env\":[\n",
    "                {\n",
    "                    \"name\":\"source\",\n",
    "                    \"value\":\"regressiontests\"\n",
    "                }\n",
    "            ]\n",
    "        }\n",
    "\n",
    "with open(\"podsetting_data_gpu.json\", 'w') as f:\n",
    "    json.dump(podsetting, f)\n",
    "\n",
    "### NOTE: \"node-group\":\"primary-gpu\" can be replaced with \"instance-type\":\"g4dn.xlarge\" "
   ]
  },
  {
   "cell_type": "code",
   "execution_count": null,
   "id": "6047d0d1",
   "metadata": {},
   "outputs": [],
   "source": [
    "!orbit build podsetting --help "
   ]
  },
  {
   "cell_type": "code",
   "execution_count": null,
   "id": "5b668627",
   "metadata": {},
   "outputs": [],
   "source": [
    "!orbit build podsetting --debug -e $env_name -t $team_name  podsetting_data_gpu.json"
   ]
  },
  {
   "cell_type": "code",
   "execution_count": null,
   "id": "030ac568",
   "metadata": {},
   "outputs": [],
   "source": []
  },
  {
   "cell_type": "markdown",
   "id": "5e9b98f9",
   "metadata": {},
   "source": [
    "### Running container\n",
    "\n",
    "Lets run a container using the profile and image we created"
   ]
  },
  {
   "cell_type": "code",
   "execution_count": null,
   "id": "84d8a5c9",
   "metadata": {
    "tags": []
   },
   "outputs": [],
   "source": [
    "folder_name='gpu'\n",
    "%cd ~/shared/samples/notebooks/I-Image/$folder_name"
   ]
  },
  {
   "cell_type": "code",
   "execution_count": null,
   "id": "64c827e2",
   "metadata": {
    "tags": []
   },
   "outputs": [],
   "source": [
    "pwd = %pwd\n",
    "pwd"
   ]
  },
  {
   "cell_type": "code",
   "execution_count": null,
   "id": "f16eb38e",
   "metadata": {
    "tags": []
   },
   "outputs": [],
   "source": [
    "import json\n",
    "run = {\n",
    "      \"compute\": {\n",
    "          \"container\" : {\n",
    "              \"p_concurrent\": \"1\"\n",
    "          },\n",
    "          \"node_type\": \"ec2\",\n",
    "          \"podsetting\":customnameGPU\n",
    "      },\n",
    "      \"tasks\":  [{\n",
    "          \"notebookName\": \"test-image.ipynb\",\n",
    "          \"sourcePath\": pwd,\n",
    "          \"targetPath\": f\"/home/jovyan/shared/regression/notebooks/I-Image/{folder_name}\",\n",
    "          \"params\": {\n",
    "          }\n",
    "        }]\n",
    " }\n",
    "\n",
    "with open(\"run.json\", 'w') as f:\n",
    "    json.dump(run, f)"
   ]
  },
  {
   "cell_type": "code",
   "execution_count": null,
   "id": "a14a0074",
   "metadata": {
    "tags": []
   },
   "outputs": [],
   "source": [
    "%%time\n",
    "\n",
    "!orbit run notebook --env $env_name --team $team_name --user testing --wait --tail-logs run.json"
   ]
  },
  {
   "cell_type": "markdown",
   "id": "05509a5d",
   "metadata": {},
   "source": [
    "***"
   ]
  },
  {
   "cell_type": "markdown",
   "id": "495640e2",
   "metadata": {},
   "source": [
    "## To Delete the podsetting, your command would look like this\n",
    "\n",
    "\n",
    "!orbit delete podsetting -n {customname} -t {team_name} --debug"
   ]
  },
  {
   "cell_type": "markdown",
   "id": "25db5b4a",
   "metadata": {},
   "source": [
    "## OPTIONAL: You can use kubectl to load the podsettings as indicated below \n",
    "\n",
    "### (convert the cells to code from markdown)"
   ]
  },
  {
   "cell_type": "markdown",
   "id": "d37166ed",
   "metadata": {
    "tags": []
   },
   "source": [
    "import json\n",
    "\n",
    "customnameGPU = \"orbit-gpu-image-sample-\"+team_name\n",
    "\n",
    "with open(\"podsetting_gpu.yaml\", \"w\") as file:\n",
    "    file.write(\"\"\"\n",
    "    kind: PodSetting\n",
    "    apiVersion: orbit.aws/v1\n",
    "    metadata:\n",
    "      labels:\n",
    "        orbit/env: {env_name}\n",
    "        orbit/space: team\n",
    "        orbit/team: {team_name}\n",
    "      name: {customname}\n",
    "      namespace: {team_name}\n",
    "    spec:\n",
    "      containerSelector:\n",
    "        jsonpath: metadata.labels.app\n",
    "      desc: Machine Learning Image GPU - 2 CPU + 4G MEM + 1 GPU\n",
    "      env:\n",
    "        - name: custom_name\n",
    "          value: custom_value\n",
    "      image: >-\n",
    "        {image}\n",
    "      nodeSelector:\n",
    "        orbit/node-group: primary-gpu\n",
    "      podSelector:\n",
    "        matchExpressions:\n",
    "          - key: orbit/{customname}\n",
    "            operator: Exists\n",
    "      resources:\n",
    "        limits:\n",
    "          cpu: '2.0'\n",
    "          memory: 4Gi\n",
    "          nvidia.com/gpu: '1'\n",
    "        requests:\n",
    "          cpu: '2.0'\n",
    "          memory: 4Gi\n",
    "          nvidia.com/gpu: '1'\n",
    "      securityContext:\n",
    "        runAsUser: 1000\n",
    "    \"\"\".format(team_name=team_name,env_name=env_name,customname=customnameGPU,image=image)\n",
    ")"
   ]
  },
  {
   "cell_type": "markdown",
   "id": "32f589a2",
   "metadata": {
    "tags": []
   },
   "source": [
    "!kubectl apply -f podsetting_gpu.yaml -n {team_name}"
   ]
  },
  {
   "cell_type": "markdown",
   "id": "1f27a211",
   "metadata": {
    "tags": []
   },
   "source": [
    "import json\n",
    "\n",
    "customnameVGPU = \"orbit-vgpu-image-sample-\"+team_name\n",
    "\n",
    "with open(\"podsetting_vgpu.yaml\", \"w\") as file:\n",
    "    file.write(\"\"\"\n",
    "    kind: PodSetting\n",
    "    apiVersion: orbit.aws/v1\n",
    "    metadata:\n",
    "      labels:\n",
    "        orbit/env: {env_name}\n",
    "        orbit/space: team\n",
    "        orbit/team: {team_name}\n",
    "      name: {customname}\n",
    "      namespace: {team_name}\n",
    "    spec:\n",
    "      containerSelector:\n",
    "        jsonpath: metadata.labels.app\n",
    "      desc: Machine Learning Image vGPU - 2 CPU + 4G MEM + 1 GPU\n",
    "      env:\n",
    "        - name: custom_name\n",
    "          value: custom_value\n",
    "      image: >-\n",
    "         {image}\n",
    "      nodeSelector:\n",
    "        node.kubernetes.io/instance-type: g4dn.xlarge\n",
    "      podSelector:\n",
    "        matchExpressions:\n",
    "          - key: orbit/{customname}\n",
    "            operator: Exists\n",
    "      resources:\n",
    "        limits:\n",
    "          cpu: '2.0'\n",
    "          k8s.amazonaws.com/vgpu: '1'\n",
    "          memory: 4Gi\n",
    "        requests:\n",
    "          cpu: '2.0'\n",
    "          k8s.amazonaws.com/vgpu: '1'\n",
    "          memory: 4Gi\n",
    "      securityContext:\n",
    "        runAsUser: 1000\n",
    "    \"\"\".format(team_name=team_name,env_name=env_name,customname=customnameVGPU,image=image)\n",
    ")"
   ]
  },
  {
   "cell_type": "markdown",
   "id": "381b42fa",
   "metadata": {
    "tags": []
   },
   "source": [
    "!kubectl apply -f podsetting_vgpu.yaml -n {team_name}"
   ]
  },
  {
   "cell_type": "code",
   "execution_count": null,
   "id": "0a64001a",
   "metadata": {},
   "outputs": [],
   "source": []
  }
 ],
 "metadata": {
  "kernelspec": {
   "display_name": "Python 3",
   "language": "python",
   "name": "python3"
  },
  "language_info": {
   "codemirror_mode": {
    "name": "ipython",
    "version": 3
   },
   "file_extension": ".py",
   "mimetype": "text/x-python",
   "name": "python",
   "nbconvert_exporter": "python",
   "pygments_lexer": "ipython3",
   "version": "3.8.8"
  }
 },
 "nbformat": 4,
 "nbformat_minor": 5
}
