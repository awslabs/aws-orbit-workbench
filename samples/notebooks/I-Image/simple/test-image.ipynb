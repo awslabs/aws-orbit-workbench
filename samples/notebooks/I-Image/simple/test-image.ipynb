{
 "cells": [
  {
   "cell_type": "code",
   "execution_count": null,
   "id": "74d2f791",
   "metadata": {},
   "outputs": [],
   "source": [
    "output = !kubectl get pods --field-selector status.phase=Running --output json | grep custom_image2\n",
    "output\n"
   ]
  },
  {
   "cell_type": "code",
   "execution_count": null,
   "id": "0fcb07a8",
   "metadata": {},
   "outputs": [],
   "source": [
    "env_name = %env AWS_ORBIT_ENV\n",
    "\n",
    "assert(f'custom_image2' in ''.join(output))"
   ]
  },
  {
   "cell_type": "code",
   "execution_count": null,
   "id": "5c76ef54",
   "metadata": {},
   "outputs": [],
   "source": [
    "%ls ~"
   ]
  },
  {
   "cell_type": "code",
   "execution_count": null,
   "id": "c0288fc6",
   "metadata": {},
   "outputs": [],
   "source": [
    "!cat ~/my-custom-image-file.txt"
   ]
  },
  {
   "cell_type": "code",
   "execution_count": null,
   "id": "f86aea53",
   "metadata": {},
   "outputs": [],
   "source": []
  }
 ],
 "metadata": {
  "kernelspec": {
   "display_name": "Python 3",
   "language": "python",
   "name": "python3"
  },
  "language_info": {
   "codemirror_mode": {
    "name": "ipython",
    "version": 3
   },
   "file_extension": ".py",
   "mimetype": "text/x-python",
   "name": "python",
   "nbconvert_exporter": "python",
   "pygments_lexer": "ipython3",
   "version": "3.8.8"
  }
 },
 "nbformat": 4,
 "nbformat_minor": 5
}
