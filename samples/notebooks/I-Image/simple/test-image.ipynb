{
 "cells": [
  {
   "cell_type": "code",
   "execution_count": 9,
   "id": "physical-hostel",
   "metadata": {},
   "outputs": [
    {
     "data": {
      "text/plain": [
       "['                                \"value\": \"495869084367.dkr.ecr.us-west-2.amazonaws.com/orbit-dev-env-users-custom_image2\"',\n",
       " '                                \"value\": \"495869084367.dkr.ecr.us-west-2.amazonaws.com/orbit-dev-env-users-custom_image2\"',\n",
       " '                        \"image\": \"495869084367.dkr.ecr.us-west-2.amazonaws.com/orbit-dev-env-users-custom_image2\",',\n",
       " '                        \"image\": \"495869084367.dkr.ecr.us-west-2.amazonaws.com/orbit-dev-env-users-custom_image2:latest\",',\n",
       " '                        \"imageID\": \"docker-pullable://495869084367.dkr.ecr.us-west-2.amazonaws.com/orbit-dev-env-users-custom_image2@sha256:6fc86143f37995352fe5f92ca18f5ec4e4b729980592f6fdb9083a66fa1a1f79\",',\n",
       " '                                \"value\": \"495869084367.dkr.ecr.us-west-2.amazonaws.com/orbit-dev-env-users-custom_image2\"',\n",
       " '                                \"value\": \"495869084367.dkr.ecr.us-west-2.amazonaws.com/orbit-dev-env-users-custom_image2\"',\n",
       " '                        \"image\": \"495869084367.dkr.ecr.us-west-2.amazonaws.com/orbit-dev-env-users-custom_image2\",',\n",
       " '                        \"image\": \"495869084367.dkr.ecr.us-west-2.amazonaws.com/orbit-dev-env-users-custom_image2:latest\",',\n",
       " '                        \"imageID\": \"docker-pullable://495869084367.dkr.ecr.us-west-2.amazonaws.com/orbit-dev-env-users-custom_image2@sha256:6fc86143f37995352fe5f92ca18f5ec4e4b729980592f6fdb9083a66fa1a1f79\",']"
      ]
     },
     "execution_count": 9,
     "metadata": {},
     "output_type": "execute_result"
    }
   ],
   "source": [
    "output = !kubectl get pods --field-selector status.phase=Running --output json | grep orbit-dev-env-users-custom_image2\n",
    "output\n"
   ]
  },
  {
   "cell_type": "code",
   "execution_count": 10,
   "id": "associate-badge",
   "metadata": {},
   "outputs": [],
   "source": [
    "env_name = %env AWS_ORBIT_ENV\n",
    "\n",
    "assert(f'orbit-{env_name}-users-custom_image2' in ''.join(output))"
   ]
  },
  {
   "cell_type": "code",
   "execution_count": 11,
   "id": "raising-contribution",
   "metadata": {},
   "outputs": [
    {
     "name": "stdout",
     "output_type": "stream",
     "text": [
      "\u001b[0m\u001b[01;36maws_orbit_sdk\u001b[0m@  my-custom-image-file.txt  \u001b[01;36mprivate\u001b[0m@  \u001b[01;36mshared\u001b[0m@  \u001b[01;34mtmp\u001b[0m/  \u001b[01;34mwork\u001b[0m/\n"
     ]
    }
   ],
   "source": [
    "%ls ~"
   ]
  },
  {
   "cell_type": "code",
   "execution_count": 12,
   "id": "applied-layout",
   "metadata": {},
   "outputs": [
    {
     "name": "stdout",
     "output_type": "stream",
     "text": [
      "just a text \n"
     ]
    }
   ],
   "source": [
    "!cat ~/my-custom-image-file.txt"
   ]
  },
  {
   "cell_type": "code",
   "execution_count": null,
   "id": "consolidated-journey",
   "metadata": {},
   "outputs": [],
   "source": []
  }
 ],
 "metadata": {
  "kernelspec": {
   "display_name": "Python 3",
   "language": "python",
   "name": "python3"
  },
  "language_info": {
   "codemirror_mode": {
    "name": "ipython",
    "version": 3
   },
   "file_extension": ".py",
   "mimetype": "text/x-python",
   "name": "python",
   "nbconvert_exporter": "python",
   "pygments_lexer": "ipython3",
   "version": "3.8.6"
  }
 },
 "nbformat": 4,
 "nbformat_minor": 5
}