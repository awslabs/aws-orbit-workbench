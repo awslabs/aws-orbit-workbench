{
 "cells": [
  {
   "cell_type": "code",
   "execution_count": null,
   "id": "detected-flooring",
   "metadata": {},
   "outputs": [],
   "source": [
    "output = !kubectl get pods --field-selector status.phase=Running --output json | grep spark\n",
    "output\n"
   ]
  },
  {
   "cell_type": "code",
   "execution_count": null,
   "id": "forced-conspiracy",
   "metadata": {},
   "outputs": [],
   "source": [
    "assert('orbit-dev-env-users-spark' in ''.join(output))"
   ]
  },
  {
   "cell_type": "code",
   "execution_count": 1,
   "id": "wicked-paste",
   "metadata": {},
   "outputs": [
    {
     "name": "stdout",
     "output_type": "stream",
     "text": [
      "Available kernels:\n",
      "  python3    /opt/conda/share/jupyter/kernels/python3\n"
     ]
    }
   ],
   "source": [
    "!jupyter kernelspec list"
   ]
  },
  {
   "cell_type": "code",
   "execution_count": null,
   "id": "sporting-scale",
   "metadata": {},
   "outputs": [],
   "source": []
  }
 ],
 "metadata": {
  "kernelspec": {
   "display_name": "Python 3",
   "language": "python",
   "name": "python3"
  },
  "language_info": {
   "codemirror_mode": {
    "name": "ipython",
    "version": 3
   },
   "file_extension": ".py",
   "mimetype": "text/x-python",
   "name": "python",
   "nbconvert_exporter": "python",
   "pygments_lexer": "ipython3",
   "version": "3.8.6"
  }
 },
 "nbformat": 4,
 "nbformat_minor": 5
}
