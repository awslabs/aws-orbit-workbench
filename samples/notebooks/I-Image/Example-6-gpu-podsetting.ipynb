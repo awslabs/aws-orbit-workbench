{
 "cells": [
  {
   "cell_type": "markdown",
   "id": "bd9bbbf5",
   "metadata": {},
   "source": [
    "<!--\n",
    "#  Copyright Amazon.com, Inc. or its affiliates. All Rights Reserved.\n",
    "#\n",
    "#    Licensed under the Apache License, Version 2.0 (the \"License\").\n",
    "#    You may not use this file except in compliance with the License.\n",
    "#    You may obtain a copy of the License at\n",
    "#\n",
    "#        http://www.apache.org/licenses/LICENSE-2.0\n",
    "#\n",
    "#    Unless required by applicable law or agreed to in writing, software\n",
    "#    distributed under the License is distributed on an \"AS IS\" BASIS,\n",
    "#    WITHOUT WARRANTIES OR CONDITIONS OF ANY KIND, either express or implied.\n",
    "#    See the License for the specific language governing permissions and\n",
    "#    limitations under the License.\n",
    "-->\n",
    "\n",
    "# Sample notebook to build podsettings for gpu images from the lake user teamspace.\n",
    "\n",
    "## Content\n",
    "1. [Configuration](#Configuration)\n",
    "2. [Build Podsetting](#Building the PodSetting for the Image)\n",
    "\n"
   ]
  },
  {
   "cell_type": "markdown",
   "id": "cc0541f2",
   "metadata": {},
   "source": [
    "### Configuration"
   ]
  },
  {
   "cell_type": "code",
   "execution_count": null,
   "id": "3a39f70c",
   "metadata": {},
   "outputs": [],
   "source": [
    "image_name = 'gpu-jupyter-user'\n",
    "folder_name = 'aws-orbit_jupyter-user'"
   ]
  },
  {
   "cell_type": "markdown",
   "id": "d81f0b49",
   "metadata": {},
   "source": [
    "Get our orbit env and team names"
   ]
  },
  {
   "cell_type": "code",
   "execution_count": null,
   "id": "fd243693",
   "metadata": {},
   "outputs": [],
   "source": [
    "env_name = %env AWS_ORBIT_ENV\n",
    "team_name = %env AWS_ORBIT_TEAM_SPACE\n",
    "user_name = %env USERNAME\n",
    "namespace = %env AWS_ORBIT_USER_SPACE\n",
    "account = %env ACCOUNT_ID\n",
    "region=%env AWS_DEFAULT_REGION\n",
    "(env_name,team_name, user_name, namespace, account, region)"
   ]
  },
  {
   "cell_type": "markdown",
   "id": "b9ad3828",
   "metadata": {},
   "source": [
    "Repository has an image (see below).  Users are only able to manipulate ECR repos that start with 'orbit-{env_name}/users/'"
   ]
  },
  {
   "cell_type": "code",
   "execution_count": null,
   "id": "7918cfc6",
   "metadata": {},
   "outputs": [],
   "source": [
    "image = f\"{account}.dkr.ecr.{region}.amazonaws.com/orbit-regression/users/{image_name}\"\n",
    "image"
   ]
  },
  {
   "cell_type": "markdown",
   "id": "32cc56c7",
   "metadata": {},
   "source": [
    "### Building the PodSetting for the Image"
   ]
  },
  {
   "cell_type": "code",
   "execution_count": null,
   "id": "25c06a7e",
   "metadata": {},
   "outputs": [],
   "source": [
    "import json\n",
    "\n",
    "customnameGPU = \"orbit-gpu-image-sample-ps-\"+team_name\n",
    "description= \" Machine Learning Image GPU - 2 CPU + 4G MEM + 1 GPU \"\n",
    "podsetting={\n",
    "            \"name\": customnameGPU,\n",
    "            \"description\": description,\n",
    "            \"image\": image,\n",
    "            \"resources\":{\n",
    "                \"limits\":{            \n",
    "                    \"cpu\": \"2.0\",\n",
    "                    \"memory\": \"4Gi\",\n",
    "                    \"nvidia.com/gpu\": \"1\"\n",
    "                    },\n",
    "                \"requests\":{\n",
    "                    \"cpu\": \"2.0\",\n",
    "                    \"memory\": \"4Gi\",\n",
    "                    \"nvidia.com/gpu\": \"1\"\n",
    "                    }\n",
    "            },\n",
    "            \"node-group\":\"primary-gpu\",\n",
    "            \"env\":[\n",
    "                {\n",
    "                    \"name\":\"source\",\n",
    "                    \"value\":\"regressiontests\"\n",
    "                }\n",
    "            ]\n",
    "        }\n",
    "\n",
    "with open(\"podsetting_data_gpu.json\", 'w') as f:\n",
    "    json.dump(podsetting, f)\n",
    "\n",
    "### NOTE: \"node-group\":\"primary-gpu\" can be replaced with \"instance-type\":\"g4dn.xlarge\" "
   ]
  },
  {
   "cell_type": "code",
   "execution_count": null,
   "id": "8487e02b",
   "metadata": {},
   "outputs": [],
   "source": [
    "!orbit build podsetting --help "
   ]
  },
  {
   "cell_type": "markdown",
   "id": "f5392138",
   "metadata": {},
   "source": [
    "Create the podsetting"
   ]
  },
  {
   "cell_type": "code",
   "execution_count": null,
   "id": "309dca58",
   "metadata": {},
   "outputs": [],
   "source": [
    "!orbit build podsetting --debug -e $env_name -t $team_name  podsetting_data.json"
   ]
  },
  {
   "cell_type": "code",
   "execution_count": null,
   "id": "40f42524",
   "metadata": {},
   "outputs": [],
   "source": [
    "import time \n",
    "time.sleep(3)"
   ]
  },
  {
   "cell_type": "code",
   "execution_count": null,
   "id": "1f8f1049",
   "metadata": {},
   "outputs": [],
   "source": [
    "!kubectl get podsettings -n$team_name|grep $customname"
   ]
  },
  {
   "cell_type": "code",
   "execution_count": null,
   "id": "0a28c930",
   "metadata": {},
   "outputs": [],
   "source": [
    "!kubectl get poddefault -n$team_name|grep $customname"
   ]
  },
  {
   "cell_type": "code",
   "execution_count": null,
   "id": "4e9b32cc",
   "metadata": {},
   "outputs": [],
   "source": [
    "!orbit delete podsetting --help"
   ]
  },
  {
   "cell_type": "code",
   "execution_count": null,
   "id": "71a0b5fa",
   "metadata": {},
   "outputs": [],
   "source": [
    "!orbit delete podsetting -n $customname -t $team_name --debug"
   ]
  },
  {
   "cell_type": "code",
   "execution_count": null,
   "id": "2dd1e3ee",
   "metadata": {},
   "outputs": [],
   "source": [
    "import time \n",
    "time.sleep(3)"
   ]
  },
  {
   "cell_type": "code",
   "execution_count": null,
   "id": "25f9e807",
   "metadata": {},
   "outputs": [],
   "source": [
    "!kubectl get podsettings -n$team_name|grep $customname"
   ]
  },
  {
   "cell_type": "code",
   "execution_count": null,
   "id": "bbc63f18",
   "metadata": {},
   "outputs": [],
   "source": [
    "!kubectl get poddefault -n$team_name|grep $customname"
   ]
  },
  {
   "cell_type": "code",
   "execution_count": null,
   "id": "f63a1829",
   "metadata": {},
   "outputs": [],
   "source": []
  }
 ],
 "metadata": {
  "kernelspec": {
   "display_name": "Python 3",
   "language": "python",
   "name": "python3"
  },
  "language_info": {
   "codemirror_mode": {
    "name": "ipython",
    "version": 3
   },
   "file_extension": ".py",
   "mimetype": "text/x-python",
   "name": "python",
   "nbconvert_exporter": "python",
   "pygments_lexer": "ipython3",
   "version": "3.8.8"
  },
  "pycharm": {
   "stem_cell": {
    "cell_type": "raw",
    "metadata": {
     "collapsed": false
    },
    "source": []
   }
  }
 },
 "nbformat": 4,
 "nbformat_minor": 5
}
