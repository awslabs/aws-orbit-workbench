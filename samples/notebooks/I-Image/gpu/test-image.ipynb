{
 "cells": [
  {
   "cell_type": "code",
   "execution_count": null,
   "id": "designing-dispute",
   "metadata": {},
   "outputs": [],
   "source": [
    "output = !kubectl get pods --field-selector status.phase=Running --output json | grep gpu\n",
    "output"
   ]
  },
  {
   "cell_type": "code",
   "execution_count": null,
   "id": "grateful-persian",
   "metadata": {},
   "outputs": [],
   "source": [
    "assert('orbit-dev-env-uw2-users-gpu-jupyter-user' in ''.join(output))"
   ]
  },
  {
   "cell_type": "code",
   "execution_count": null,
   "id": "daily-resort",
   "metadata": {},
   "outputs": [],
   "source": [
    "!jupyter kernelspec list"
   ]
  },
  {
   "cell_type": "code",
   "execution_count": null,
   "id": "elegant-valley",
   "metadata": {},
   "outputs": [],
   "source": [
    "!nvidia-smi"
   ]
  },
  {
   "cell_type": "code",
   "execution_count": null,
   "id": "thermal-collins",
   "metadata": {},
   "outputs": [],
   "source": [
    "import torch\n",
    "a = torch.LongTensor(1).random_(0, 10)\n",
    "print(a.to(device=\"cuda\"))"
   ]
  }
 ],
 "metadata": {
  "kernelspec": {
   "display_name": "Python 3",
   "language": "python",
   "name": "python3"
  },
  "language_info": {
   "codemirror_mode": {
    "name": "ipython",
    "version": 3
   },
   "file_extension": ".py",
   "mimetype": "text/x-python",
   "name": "python",
   "nbconvert_exporter": "python",
   "pygments_lexer": "ipython3",
   "version": "3.8.6"
  }
 },
 "nbformat": 4,
 "nbformat_minor": 5
}
