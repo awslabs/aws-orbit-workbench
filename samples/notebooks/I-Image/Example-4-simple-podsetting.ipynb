{
 "cells": [
  {
   "cell_type": "markdown",
   "id": "639acdfc",
   "metadata": {},
   "source": [
    "<!--\n",
    "#  Copyright Amazon.com, Inc. or its affiliates. All Rights Reserved.\n",
    "#\n",
    "#    Licensed under the Apache License, Version 2.0 (the \"License\").\n",
    "#    You may not use this file except in compliance with the License.\n",
    "#    You may obtain a copy of the License at\n",
    "#\n",
    "#        http://www.apache.org/licenses/LICENSE-2.0\n",
    "#\n",
    "#    Unless required by applicable law or agreed to in writing, software\n",
    "#    distributed under the License is distributed on an \"AS IS\" BASIS,\n",
    "#    WITHOUT WARRANTIES OR CONDITIONS OF ANY KIND, either express or implied.\n",
    "#    See the License for the specific language governing permissions and\n",
    "#    limitations under the License.\n",
    "-->\n",
    "\n",
    "# Sample notebook to build podsettings for custom images from the lake user teamspace.\n",
    "\n",
    "## Content\n",
    "1. [Configuration](#Configuration)\n",
    "2. [Build Podsetting](#Building the PodSetting for the Image)\n",
    "\n"
   ]
  },
  {
   "cell_type": "markdown",
   "id": "2aff431e",
   "metadata": {},
   "source": [
    "### Configuration"
   ]
  },
  {
   "cell_type": "code",
   "execution_count": null,
   "id": "6fc28355",
   "metadata": {},
   "outputs": [],
   "source": [
    "image_name = 'custom_image2'\n",
    "folder_name = 'simple'"
   ]
  },
  {
   "cell_type": "markdown",
   "id": "0282cde0",
   "metadata": {},
   "source": [
    "Get our orbit env and team names"
   ]
  },
  {
   "cell_type": "code",
   "execution_count": null,
   "id": "4e1891c2",
   "metadata": {},
   "outputs": [],
   "source": [
    "env_name = %env AWS_ORBIT_ENV\n",
    "team_name = %env AWS_ORBIT_TEAM_SPACE\n",
    "user_name = %env USERNAME\n",
    "namespace = %env AWS_ORBIT_USER_SPACE\n",
    "account = %env ACCOUNT_ID\n",
    "region=%env AWS_DEFAULT_REGION\n",
    "(env_name,team_name, user_name, namespace, account, region)"
   ]
  },
  {
   "cell_type": "markdown",
   "id": "99469704",
   "metadata": {},
   "source": [
    "Repository has an image (see below).  Users are only able to manipulate ECR repos that start with 'orbit-{env_name}/users/'"
   ]
  },
  {
   "cell_type": "code",
   "execution_count": null,
   "id": "4be1d170",
   "metadata": {},
   "outputs": [],
   "source": [
    "image = f\"{account}.dkr.ecr.{region}.amazonaws.com/orbit-regression/users/{image_name}\"\n",
    "image"
   ]
  },
  {
   "cell_type": "markdown",
   "id": "903ae87a",
   "metadata": {},
   "source": [
    "### Building the PodSetting for the Image"
   ]
  },
  {
   "cell_type": "code",
   "execution_count": null,
   "id": "d3ec3545",
   "metadata": {},
   "outputs": [],
   "source": [
    "import json\n",
    "\n",
    "customname = \"orbit-custom-simple-image-ps-\"+team_name\n",
    "description= \"Custom Image Example \"+customname\n",
    "podsetting={\n",
    "            \"name\": customname,\n",
    "            \"description\": description,\n",
    "            \"image\": image,\n",
    "            \"resources\":{\n",
    "                \"limits\":{            \n",
    "                    \"cpu\": \"1.0\",\n",
    "                    \"memory\": \"1Gi\"\n",
    "                    },\n",
    "                \"requests\":{\n",
    "                    \"cpu\": \"1.0\",\n",
    "                    \"memory\": \"1Gi\"\n",
    "                    }\n",
    "            },\n",
    "            \"env\":[\n",
    "                {\n",
    "                    \"name\":\"source\",\n",
    "                    \"value\":\"regressiontests\"\n",
    "                }\n",
    "            ]\n",
    "        }\n",
    "\n",
    "with open(\"podsetting_data.json\", 'w') as f:\n",
    "    json.dump(podsetting, f)"
   ]
  },
  {
   "cell_type": "code",
   "execution_count": null,
   "id": "699981bf",
   "metadata": {},
   "outputs": [],
   "source": [
    "!orbit build podsetting --help "
   ]
  },
  {
   "cell_type": "markdown",
   "id": "b860331d",
   "metadata": {},
   "source": [
    "Create the podsetting"
   ]
  },
  {
   "cell_type": "code",
   "execution_count": null,
   "id": "86179326",
   "metadata": {},
   "outputs": [],
   "source": [
    "!orbit build podsetting --debug -e $env_name -t $team_name  podsetting_data.json"
   ]
  },
  {
   "cell_type": "code",
   "execution_count": null,
   "id": "df747cc2",
   "metadata": {},
   "outputs": [],
   "source": [
    "import time \n",
    "time.sleep(3)"
   ]
  },
  {
   "cell_type": "code",
   "execution_count": null,
   "id": "cea2094f",
   "metadata": {},
   "outputs": [],
   "source": [
    "!kubectl get podsettings -n$team_name|grep $customname"
   ]
  },
  {
   "cell_type": "code",
   "execution_count": null,
   "id": "eaaa6ecd",
   "metadata": {},
   "outputs": [],
   "source": [
    "!orbit delete podsetting --help"
   ]
  },
  {
   "cell_type": "code",
   "execution_count": null,
   "id": "ac9a915f",
   "metadata": {},
   "outputs": [],
   "source": [
    "!kubectl get poddefault -n$team_name|grep $customname"
   ]
  },
  {
   "cell_type": "code",
   "execution_count": null,
   "id": "db96a95f",
   "metadata": {},
   "outputs": [],
   "source": [
    "!orbit delete podsetting -n $customname -t $team_name --debug"
   ]
  },
  {
   "cell_type": "code",
   "execution_count": null,
   "id": "f5fdcb32",
   "metadata": {},
   "outputs": [],
   "source": [
    "import time \n",
    "time.sleep(3)"
   ]
  },
  {
   "cell_type": "code",
   "execution_count": null,
   "id": "4b00d429",
   "metadata": {
    "tags": []
   },
   "outputs": [],
   "source": [
    "!kubectl get podsettings -n$team_name|grep $customname"
   ]
  },
  {
   "cell_type": "code",
   "execution_count": null,
   "id": "c8d9ca46",
   "metadata": {},
   "outputs": [],
   "source": [
    "!kubectl get poddefault -n$team_name|grep $customname"
   ]
  },
  {
   "cell_type": "code",
   "execution_count": null,
   "id": "a8420f36",
   "metadata": {},
   "outputs": [],
   "source": []
  }
 ],
 "metadata": {
  "kernelspec": {
   "display_name": "Python 3",
   "language": "python",
   "name": "python3"
  },
  "language_info": {
   "codemirror_mode": {
    "name": "ipython",
    "version": 3
   },
   "file_extension": ".py",
   "mimetype": "text/x-python",
   "name": "python",
   "nbconvert_exporter": "python",
   "pygments_lexer": "ipython3",
   "version": "3.8.8"
  },
  "pycharm": {
   "stem_cell": {
    "cell_type": "raw",
    "metadata": {
     "collapsed": false
    },
    "source": []
   }
  }
 },
 "nbformat": 4,
 "nbformat_minor": 5
}
