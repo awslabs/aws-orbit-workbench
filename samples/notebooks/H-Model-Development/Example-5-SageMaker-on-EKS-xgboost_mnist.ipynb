{
 "cells": [
  {
   "cell_type": "markdown",
   "id": "0989af9f",
   "metadata": {
    "tags": [
     "papermill-error-cell-tag"
    ]
   },
   "source": [
    "<span style=\"color:red; font-family:Helvetica Neue, Helvetica, Arial, sans-serif; font-size:2em;\">An Exception was encountered at '<a href=\"#papermill-error-cell\">In [4]</a>'.</span>"
   ]
  },
  {
   "cell_type": "markdown",
   "id": "fce43d3a",
   "metadata": {
    "papermill": {
     "duration": 0.130841,
     "end_time": "2021-05-05T15:02:52.199582",
     "exception": false,
     "start_time": "2021-05-05T15:02:52.068741",
     "status": "completed"
    },
    "tags": []
   },
   "source": [
    "# Multiclass classification with Amazon SageMaker XGBoost algorithm\n",
    "_**Single machine and distributed training for multiclass classification with Amazon SageMaker XGBoost algorithm**_\n",
    "\n",
    "---\n",
    "\n",
    "---\n",
    "## Contents\n",
    "\n",
    "1. [Introduction](#Introduction)\n",
    "2. [Prerequisites and Preprocessing](#Prequisites-and-Preprocessing)\n",
    "  1. [Permissions and environment variables](#Permissions-and-environment-variables)\n",
    "  2. [Data ingestion](#Data-ingestion)\n",
    "  3. [Data conversion](#Data-conversion)\n",
    "3. [Training the XGBoost model](#Training-the-XGBoost-model)\n",
    "  1. [Training on a single instance](#Training-on-a-single-instance)\n",
    "  2. [Training on multiple instances](#Training-on-multiple-instances)\n",
    "4. [Set up hosting for the model](#Set-up-hosting-for-the-model)\n",
    "  1. [Import model into hosting](#Import-model-into-hosting)\n",
    "  2. [Create endpoint configuration](#Create-endpoint-configuration)\n",
    "  3. [Create endpoint](#Create-endpoint)\n",
    "5. [Validate the model for use](#Validate-the-model-for-use)\n",
    "\n",
    "---\n",
    "## Introduction\n",
    "\n",
    "\n",
    "This notebook demonstrates the use of Amazon SageMaker’s implementation of the XGBoost algorithm to train and host a multiclass classification model. The MNIST dataset is used for training. It has a training set of 60,000 examples and a test set of 10,000 examples. To illustrate the use of libsvm training data format, we download the dataset and convert it to the libsvm format before training.\n",
    "\n",
    "To get started, we need to set up the environment with a few prerequisites for permissions and configurations.\n",
    "\n",
    "---\n",
    "## Prequisites and Preprocessing\n",
    "This notebook was tested in Amazon SageMaker Studio on a ml.t3.medium instance with Python 3 (Data Science) kernel. \n",
    "\n",
    "### Permissions and environment variables\n",
    "\n",
    "Here we set up the linkage and authentication to AWS services.\n",
    "\n",
    "1. The roles used to give learning and hosting access to your data. See the documentation for how to specify these.\n",
    "2. The S3 buckets that you want to use for training and model data and where the downloaded data is located."
   ]
  },
  {
   "cell_type": "code",
   "execution_count": 47,
   "id": "a78dd2b3",
   "metadata": {
    "isConfigCell": true,
    "papermill": {
     "duration": 0.953544,
     "end_time": "2021-05-05T15:02:54.577440",
     "exception": false,
     "start_time": "2021-05-05T15:02:53.623896",
     "status": "completed"
    },
    "tags": [
     "parameters"
    ]
   },
   "outputs": [
    {
     "name": "stdout",
     "output_type": "stream",
     "text": [
      "{'BaseImageAddress': 'public.ecr.aws/v3o4w1g6/aws-orbit-workbench/jupyter-user:latest',\n",
      " 'BootstrapS3Prefix': 'teams/env-r17/bootstrap/',\n",
      " 'ContainerDefaults': {'cpu': 4, 'memory': 16384},\n",
      " 'ContainerRunnerArn': None,\n",
      " 'EcsClusterName': None,\n",
      " 'EfsApId': 'fsap-0f384fa5939b380fd',\n",
      " 'EfsId': 'fs-067c7b01',\n",
      " 'EfsLifeCycle': 'AFTER_7_DAYS',\n",
      " 'EksK8SApiArn': None,\n",
      " 'EksPodRoleArn': 'arn:aws:iam::616260033377:role/orbit-env-r17-lake-user-role',\n",
      " 'Elbs': {'lake-user/jupyterhub-public': {'AvailabilityZones': ['us-west-2b',\n",
      "                                                                'us-west-2a'],\n",
      "                                          'DNSName': 'acbb671f26bdd4ea1b40a9db172b6d30-463395607.us-west-2.elb.amazonaws.com',\n",
      "                                          'Instances': [{'InstanceId': 'i-0ef056a759651b68a'},\n",
      "                                                        {'InstanceId': 'i-0ebf15e94ce7a3b5c'},\n",
      "                                                        {'InstanceId': 'i-0b10169c10fe872ff'}],\n",
      "                                          'ListenerDescriptions': [{'Listener': {'InstancePort': 30190,\n",
      "                                                                                 'InstanceProtocol': 'TCP',\n",
      "                                                                                 'LoadBalancerPort': 443,\n",
      "                                                                                 'Protocol': 'SSL',\n",
      "                                                                                 'SSLCertificateId': 'arn:aws:iam::616260033377:server-certificate/AWSORBIT'},\n",
      "                                                                    'PolicyNames': ['ELBSecurityPolicy-2016-08']}],\n",
      "                                          'LoadBalancerName': 'acbb671f26bdd4ea1b40a9db172b6d30',\n",
      "                                          'Policies': {'AppCookieStickinessPolicies': [],\n",
      "                                                       'LBCookieStickinessPolicies': [],\n",
      "                                                       'OtherPolicies': ['ELBSecurityPolicy-2016-08']},\n",
      "                                          'Scheme': 'internet-facing',\n",
      "                                          'SecurityGroups': ['sg-041f5f1d5a9588426'],\n",
      "                                          'SourceSecurityGroup': {'GroupName': 'k8s-elb-acbb671f26bdd4ea1b40a9db172b6d30',\n",
      "                                                                  'OwnerAlias': '616260033377'},\n",
      "                                          'Subnets': ['subnet-01d0063bf69829484',\n",
      "                                                      'subnet-03ff5926e434dffad'],\n",
      "                                          'VPCId': 'vpc-0854c6e3b3afeb178'}},\n",
      " 'Fargate': True,\n",
      " 'FinalImageAddress': 'public.ecr.aws/v3o4w1g6/aws-orbit-workbench/jupyter-user:latest',\n",
      " 'GrantSudo': True,\n",
      " 'HelmRepository': 's3://orbit-env-r17-toolkit-616260033377-vtkaov/helm/repositories/teams/lake-user',\n",
      " 'Image': None,\n",
      " 'JupyterUrl': 'acbb671f26bdd4ea1b40a9db172b6d30-463395607.us-west-2.elb.amazonaws.com',\n",
      " 'JupyterhubInboundRanges': ['0.0.0.0/0'],\n",
      " 'K8Admin': False,\n",
      " 'Name': 'lake-user',\n",
      " 'Plugins': [{'Module': 'code_commit',\n",
      "              'Parameters': {},\n",
      "              'Path': '../plugins/code_commit/',\n",
      "              'PluginId': 'code_commit'},\n",
      "             {'Module': 'team_script_launcher',\n",
      "              'Parameters': {'restartPolicy': 'Never',\n",
      "                             'script': 'i=0\\n'\n",
      "                                       'while [ $i -lt 1 ];\\n'\n",
      "                                       'do\\n'\n",
      "                                       '  find /home/jovyan/shared/regression -mtime '\n",
      "                                       '+5 -type f -exec rm {} \\\\;\\n'\n",
      "                                       '  sleep 60\\n'\n",
      "                                       'done\\n'\n",
      "                                       'echo \"DONE LOOP\"\\n'},\n",
      "              'Path': '../plugins/team_script_launcher/',\n",
      "              'PluginId': 'team_script_launcher'},\n",
      "             {'Module': 'redshift',\n",
      "              'Parameters': {'enable_user_activity_logging': 'true',\n",
      "                             'node_type': 'DC2.large',\n",
      "                             'number_of_nodes': '2',\n",
      "                             'require_ssl': 'true',\n",
      "                             'use_fips_ssl': 'true'},\n",
      "              'Path': '../plugins/redshift/',\n",
      "              'PluginId': 'redshift'},\n",
      "             {'Module': 'custom_cfn',\n",
      "              'Parameters': {'CfnTemplatePath': './bundle/plugins/demo-lake-user-cfn-template.yaml'},\n",
      "              'Path': '../plugins/custom_cfn/',\n",
      "              'PluginId': 'custom_cfn'},\n",
      "             {'Module': 'emr_on_eks',\n",
      "              'Parameters': {},\n",
      "              'Path': '../plugins/emr_on_eks/',\n",
      "              'PluginId': 'enable_emr_on_eks'},\n",
      "             {'Module': 'sm-operator',\n",
      "              'Parameters': {},\n",
      "              'Path': '../plugins/sm-operator/',\n",
      "              'PluginId': 'sm-operator'}],\n",
      " 'Policies': ['orbit-env-r17-demo-lake-user-add-policy'],\n",
      " 'Profiles': [{'description': '1 CPU + 1G MEM',\n",
      "               'display_name': 'Nano',\n",
      "               'kubespawner_override': {'cpu_guarantee': 1,\n",
      "                                        'cpu_limit': 1,\n",
      "                                        'mem_guarantee': '1G',\n",
      "                                        'mem_limit': '1G'},\n",
      "               'slug': 'nano'},\n",
      "              {'default': 'True',\n",
      "               'description': '2 CPU + 2G MEM',\n",
      "               'display_name': 'Micro',\n",
      "               'kubespawner_override': {'cpu_guarantee': 2,\n",
      "                                        'cpu_limit': 2,\n",
      "                                        'mem_guarantee': '2G',\n",
      "                                        'mem_limit': '2G'},\n",
      "               'slug': 'micro'},\n",
      "              {'description': '1 CPU + 1G MEM with Custom Image1',\n",
      "               'display_name': 'Custom Image1',\n",
      "               'kubespawner_override': {'cpu_guarantee': 1,\n",
      "                                        'cpu_limit': 1,\n",
      "                                        'image': '${account}.dkr.ecr.${region}.amazonaws.com/orbit-${env}-custom_image1',\n",
      "                                        'mem_guarantee': '1G',\n",
      "                                        'mem_limit': '1G'},\n",
      "               'slug': 'custom1'}],\n",
      " 'ScratchBucket': 's3://orbit-foundation-dev-env-scratch-616260033377-vroewy/lake-user',\n",
      " 'SsmParameterName': '/orbit/env-r17/teams/lake-user/context',\n",
      " 'StackName': 'orbit-env-r17-lake-user',\n",
      " 'TeamKmsKeyArn': 'arn:aws:kms:us-west-2:616260033377:key/a587c6a4-0933-4a4f-be5d-96ff4e695f16',\n",
      " 'TeamSecurityGroupId': 'sg-00c2f68edbb52d3b1',\n",
      " 'TeamSsmParameterName': '/orbit/env-r17/teams/lake-user/team',\n",
      " 'env_name': 'env-r17',\n",
      " 'region': 'us-west-2',\n",
      " 'team_space': 'lake-user'}\n",
      "arn:aws:iam::616260033377:role/orbit-env-r17-lake-user-role\n",
      "CPU times: user 64.1 ms, sys: 5.91 ms, total: 70 ms\n",
      "Wall time: 155 ms\n"
     ]
    }
   ],
   "source": [
    "%%time\n",
    "import pprint\n",
    "import os\n",
    "import boto3\n",
    "import json\n",
    "import re\n",
    "import copy\n",
    "import time\n",
    "from time import gmtime, strftime\n",
    "import sagemaker\n",
    "from aws_orbit_sdk.common import get_workspace\n",
    "workspace = get_workspace()\n",
    "role = workspace['EksPodRoleArn']\n",
    "team_space = workspace['team_space']\n",
    "pprint.pprint(workspace)"
   ]
  },
  {
   "cell_type": "code",
   "execution_count": 48,
   "id": "dc57f624",
   "metadata": {
    "papermill": {
     "duration": 0.040665,
     "end_time": "2021-05-05T15:02:54.656288",
     "exception": false,
     "start_time": "2021-05-05T15:02:54.615623",
     "status": "completed"
    },
    "tags": [
     "injected-parameters"
    ]
   },
   "outputs": [],
   "source": [
    "# Parameters\n",
    "PAPERMILL_INPUT_PATH = \"/tmp/e1@20210505-15:02.ipynb\"\n",
    "PAPERMILL_OUTPUT_PATH = \"shared/regression/notebooks/H-Model-Development/Example-1-SageMaker-xgboost_mnist/e1@20210505-15:02.ipynb\"\n",
    "PAPERMILL_OUTPUT_DIR_PATH = (\n",
    "    \"shared/regression/notebooks/H-Model-Development/Example-1-SageMaker-xgboost_mnist\"\n",
    ")\n",
    "PAPERMILL_WORKBOOK_NAME = \"e1@20210505-15:02.ipynb\"\n",
    "PAPERMILL_WORK_DIR = \"/home/jovyan/shared/samples/notebooks/H-Model-Development\"\n"
   ]
  },
  {
   "cell_type": "markdown",
   "id": "e37042e6",
   "metadata": {
    "tags": [
     "papermill-error-cell-tag"
    ]
   },
   "source": [
    "<span id=\"papermill-error-cell\" style=\"color:red; font-family:Helvetica Neue, Helvetica, Arial, sans-serif; font-size:2em;\">Execution using papermill encountered an exception here and stopped:</span>"
   ]
  },
  {
   "cell_type": "code",
   "execution_count": 68,
   "id": "97192575",
   "metadata": {},
   "outputs": [
    {
     "data": {
      "text/plain": [
       "'/orbit/env-r17/demo'"
      ]
     },
     "execution_count": 68,
     "metadata": {},
     "output_type": "execute_result"
    }
   ],
   "source": [
    "#env_name = %env AWS_ORBIT_ENV\n",
    "env_name = workspace[\"env_name\"]\n",
    "region = workspace[\"region\"]\n",
    "ssm_parameter_name = (f\"/orbit/{env_name}/demo\")\n",
    "ssm_parameter_name"
   ]
  },
  {
   "cell_type": "code",
   "execution_count": 69,
   "id": "577600d0",
   "metadata": {
    "papermill": {
     "duration": 0.213617,
     "end_time": "2021-05-05T15:02:54.921509",
     "exception": true,
     "start_time": "2021-05-05T15:02:54.707892",
     "status": "failed"
    },
    "tags": []
   },
   "outputs": [
    {
     "data": {
      "text/plain": [
       "{'LakeBucket': 'arn:aws:s3:::orbit-env-r17-demo-lake-616260033377-vtkaov',\n",
       " 'SecuredLakeBucket': 'arn:aws:s3:::orbit-env-r17-secured-demo-lake-616260033377-vtkaov'}"
      ]
     },
     "execution_count": 69,
     "metadata": {},
     "output_type": "execute_result"
    }
   ],
   "source": [
    "env_name = workspace[\"env_name\"]\n",
    "ssm_parameter_name = (f\"/orbit/{env_name}/demo\")\n",
    "\n",
    "#ssm_parameter_name = \"/orbit/dev-env/demo\"\n",
    "ssm_client = boto3.client(service_name=\"ssm\")\n",
    "demo_json = json.loads(ssm_client.get_parameter(Name=ssm_parameter_name)[\"Parameter\"][\"Value\"])\n",
    "demo_json"
   ]
  },
  {
   "cell_type": "code",
   "execution_count": 70,
   "id": "31cb7310",
   "metadata": {
    "papermill": {
     "duration": null,
     "end_time": null,
     "exception": null,
     "start_time": null,
     "status": "pending"
    },
    "tags": []
   },
   "outputs": [],
   "source": [
    "# Get demo env bucket name from ssm parameter. \n",
    "# S3 bucket for saving code and model artifacts.\n",
    "bucket = demo_json[\"LakeBucket\"].split(\":\")[-1]"
   ]
  },
  {
   "cell_type": "code",
   "execution_count": 71,
   "id": "ddad33b6",
   "metadata": {
    "papermill": {
     "duration": null,
     "end_time": null,
     "exception": null,
     "start_time": null,
     "status": "pending"
    },
    "tags": []
   },
   "outputs": [
    {
     "name": "stdout",
     "output_type": "stream",
     "text": [
      "2021-05-12 20:24:39   16168813 mnist.pkl.gz\n"
     ]
    }
   ],
   "source": [
    "!aws s3 ls s3://$bucket/landing/data/sagemaker/"
   ]
  },
  {
   "cell_type": "code",
   "execution_count": 72,
   "id": "29c2133c",
   "metadata": {
    "isConfigCell": true,
    "papermill": {
     "duration": null,
     "end_time": null,
     "exception": null,
     "start_time": null,
     "status": "pending"
    },
    "tags": []
   },
   "outputs": [],
   "source": [
    "prefix = \"sagemaker/DEMO-xgboost-multiclass-classification\"\n",
    "# customize to your bucket where you have stored the data\n",
    "bucket_path = f\"s3://{bucket}\""
   ]
  },
  {
   "cell_type": "code",
   "execution_count": 73,
   "id": "9b8b96fd",
   "metadata": {},
   "outputs": [
    {
     "data": {
      "text/plain": [
       "'s3://orbit-env-r17-demo-lake-616260033377-vtkaov'"
      ]
     },
     "execution_count": 73,
     "metadata": {},
     "output_type": "execute_result"
    }
   ],
   "source": [
    "bucket_path "
   ]
  },
  {
   "cell_type": "code",
   "execution_count": 74,
   "id": "4585897f",
   "metadata": {},
   "outputs": [],
   "source": [
    "## Lets check to see if MNIST is already staged.  If so, we will jus reuse what is staged....who wants to wait for that dataset to by uploaded???"
   ]
  },
  {
   "cell_type": "code",
   "execution_count": 80,
   "id": "0beaee54",
   "metadata": {},
   "outputs": [
    {
     "name": "stdout",
     "output_type": "stream",
     "text": [
      "5\n",
      "5\n",
      "5\n"
     ]
    },
    {
     "data": {
      "text/plain": [
       "True"
      ]
     },
     "execution_count": 80,
     "metadata": {},
     "output_type": "execute_result"
    }
   ],
   "source": [
    "\n",
    "s3_train = f\"{bucket_path}/{prefix}/train/\"\n",
    "s3_validation = f\"{bucket_path}/{prefix}/validation/\"\n",
    "s3_test = f\"{bucket_path}/{prefix}/test/\"\n",
    "skip_mnist_load = False\n",
    "\n",
    "s3_train_chk = !aws s3 ls {s3_train}\n",
    "s3_validation_chk = !aws s3 ls {s3_validation}\n",
    "s3_test_chk = !aws s3 ls {s3_test}\n",
    "\n",
    "print(len(s3_train_chk))\n",
    "print(len(s3_validation_chk))\n",
    "print(len(s3_test_chk))\n",
    "\n",
    "if len(s3_train_chk)>0 and len(s3_validation_chk)>0 and len(s3_test_chk)>0:\n",
    "    skip_mnist_load = True\n",
    "\n",
    "skip_mnist_load\n",
    "\n"
   ]
  },
  {
   "cell_type": "markdown",
   "id": "cd0cb800",
   "metadata": {
    "papermill": {
     "duration": null,
     "end_time": null,
     "exception": null,
     "start_time": null,
     "status": "pending"
    },
    "tags": []
   },
   "source": [
    "### Data ingestion\n",
    "\n",
    "Next, we read the MNIST dataset [1] from an existing repository into memory, for preprocessing prior to training. It was downloaded from this [link](http://deeplearning.net/data/mnist/mnist.pkl.gz) and stored in `downloaded_data_bucket`. Processing could be done *in situ* by Amazon Athena, Apache Spark in Amazon EMR, Amazon Redshift, etc., assuming the dataset is present in the appropriate location. Then, the next step would be to transfer the data to S3 for use in training. For small datasets, such as this one, reading into memory isn't onerous, though it would be for larger datasets.\n",
    "\n",
    "> [1] Y. LeCun, L. Bottou, Y. Bengio, and P. Haffner. Gradient-based learning applied to document recognition. Proceedings of the IEEE, 86(11):2278-2324, November 1998."
   ]
  },
  {
   "cell_type": "code",
   "execution_count": 81,
   "id": "fc23f6e8",
   "metadata": {
    "papermill": {
     "duration": null,
     "end_time": null,
     "exception": null,
     "start_time": null,
     "status": "pending"
    },
    "tags": []
   },
   "outputs": [
    {
     "data": {
      "text/plain": [
       "'s3://orbit-env-r17-demo-lake-616260033377-vtkaov/landing/data/sagemaker/mnist.pkl.gz'"
      ]
     },
     "execution_count": 81,
     "metadata": {},
     "output_type": "execute_result"
    }
   ],
   "source": [
    "# Import Data from toolkit bucket. \n",
    "mnist_data_path = f\"s3://{bucket}/landing/data/sagemaker/mnist.pkl.gz\"\n",
    "mnist_data_path"
   ]
  },
  {
   "cell_type": "code",
   "execution_count": 82,
   "id": "a6eae590",
   "metadata": {
    "papermill": {
     "duration": null,
     "end_time": null,
     "exception": null,
     "start_time": null,
     "status": "pending"
    },
    "tags": []
   },
   "outputs": [
    {
     "name": "stdout",
     "output_type": "stream",
     "text": [
      "2021-05-12 20:24:39   16168813 mnist.pkl.gz\n"
     ]
    }
   ],
   "source": [
    "!aws s3 ls $mnist_data_path"
   ]
  },
  {
   "cell_type": "code",
   "execution_count": 83,
   "id": "e79f0f10",
   "metadata": {
    "papermill": {
     "duration": null,
     "end_time": null,
     "exception": null,
     "start_time": null,
     "status": "pending"
    },
    "tags": []
   },
   "outputs": [],
   "source": [
    "if not skip_mnist_load:\n",
    "    !aws s3 cp $mnist_data_path ./"
   ]
  },
  {
   "cell_type": "code",
   "execution_count": 84,
   "id": "28a53154",
   "metadata": {
    "papermill": {
     "duration": null,
     "end_time": null,
     "exception": null,
     "start_time": null,
     "status": "pending"
    },
    "tags": []
   },
   "outputs": [
    {
     "name": "stdout",
     "output_type": "stream",
     "text": [
      "CPU times: user 31 µs, sys: 5 µs, total: 36 µs\n",
      "Wall time: 37.7 µs\n"
     ]
    }
   ],
   "source": [
    "%%time\n",
    "import pickle, gzip, numpy, urllib.request, json\n",
    "if not skip_mnist_load:\n",
    "    f = gzip.open('mnist.pkl.gz', 'rb')\n",
    "    train_set, valid_set, test_set = pickle.load(f, encoding='latin1')\n",
    "    f.close()"
   ]
  },
  {
   "cell_type": "markdown",
   "id": "3763fca6",
   "metadata": {
    "papermill": {
     "duration": null,
     "end_time": null,
     "exception": null,
     "start_time": null,
     "status": "pending"
    },
    "tags": []
   },
   "source": [
    "### Data conversion\n",
    "\n",
    "Since algorithms have particular input and output requirements, converting the dataset is also part of the process that a data scientist goes through prior to initiating training. In this particular case, the data is converted from pickle-ized numpy array to the libsvm format before being uploaded to S3. The hosted implementation of xgboost consumes the libsvm converted data from S3 for training. The following provides functions for data conversions and file upload to S3 and download from S3. "
   ]
  },
  {
   "cell_type": "code",
   "execution_count": 85,
   "id": "a4311750",
   "metadata": {
    "papermill": {
     "duration": null,
     "end_time": null,
     "exception": null,
     "start_time": null,
     "status": "pending"
    },
    "tags": []
   },
   "outputs": [
    {
     "name": "stdout",
     "output_type": "stream",
     "text": [
      "CPU times: user 48 µs, sys: 7 µs, total: 55 µs\n",
      "Wall time: 58.2 µs\n"
     ]
    }
   ],
   "source": [
    "%%time\n",
    "\n",
    "import struct\n",
    "import io\n",
    "import boto3\n",
    "\n",
    " \n",
    "def to_libsvm(f, labels, values):\n",
    "     f.write(bytes('\\n'.join(\n",
    "         ['{} {}'.format(label, ' '.join(['{}:{}'.format(i + 1, el) for i, el in enumerate(vec)])) for label, vec in\n",
    "          zip(labels, values)]), 'utf-8'))\n",
    "     return f\n",
    "\n",
    "\n",
    "def write_to_s3(fobj, bucket, key):\n",
    "    return (\n",
    "        boto3.Session(region_name=region).resource(\"s3\").Bucket(bucket).Object(key).upload_fileobj(fobj)\n",
    "    )\n",
    "\n",
    "\n",
    "def get_dataset():\n",
    "    import pickle\n",
    "    import gzip\n",
    "\n",
    "    with gzip.open(\"mnist.pkl.gz\", \"rb\") as f:\n",
    "        u = pickle._Unpickler(f)\n",
    "        u.encoding = \"latin1\"\n",
    "        return u.load()\n",
    "\n",
    "\n",
    "def upload_to_s3(partition_name, partition):\n",
    "    labels = [t.tolist() for t in partition[1]]\n",
    "    vectors = [t.tolist() for t in partition[0]]\n",
    "    num_partition = 5  # partition file into 5 parts\n",
    "    partition_bound = int(len(labels) / num_partition)\n",
    "    for i in range(num_partition):\n",
    "        f = io.BytesIO()\n",
    "        to_libsvm(\n",
    "            f,\n",
    "            labels[i * partition_bound : (i + 1) * partition_bound],\n",
    "            vectors[i * partition_bound : (i + 1) * partition_bound],\n",
    "        )\n",
    "        f.seek(0)\n",
    "        key = f\"{prefix}/{partition_name}/examples{str(i)}\"\n",
    "        url = f\"s3://{bucket}/{key}\"\n",
    "        print(f\"Writing to {url}\")\n",
    "        write_to_s3(f, bucket, key)\n",
    "        print(f\"Done writing to {url}\")\n",
    "\n",
    "\n",
    "def download_from_s3(partition_name, number, filename):\n",
    "    key = f\"{prefix}/{partition_name}/examples{number}\"\n",
    "    url = f\"s3://{bucket}/{key}\"\n",
    "    print(f\"Reading from {url}\")\n",
    "    s3 = boto3.resource(\"s3\", region_name=region)\n",
    "    s3.Bucket(bucket).download_file(key, filename)\n",
    "    try:\n",
    "        s3.Bucket(bucket).download_file(key, \"mnist.local.test\")\n",
    "    except botocore.exceptions.ClientError as e:\n",
    "        if e.response[\"Error\"][\"Code\"] == \"404\":\n",
    "            print(f\"The object does not exist at {url}.\")\n",
    "        else:\n",
    "            raise\n",
    "\n",
    "\n",
    "def convert_data():\n",
    "    train_set, valid_set, test_set = get_dataset()\n",
    "    partitions = [(\"train\", train_set), (\"validation\", valid_set), (\"test\", test_set)]\n",
    "    for partition_name, partition in partitions:\n",
    "        print(f\"{partition_name}: {partition[0].shape} {partition[1].shape}\")\n",
    "        upload_to_s3(partition_name, partition)"
   ]
  },
  {
   "cell_type": "code",
   "execution_count": 86,
   "id": "17073520",
   "metadata": {
    "papermill": {
     "duration": null,
     "end_time": null,
     "exception": null,
     "start_time": null,
     "status": "pending"
    },
    "tags": []
   },
   "outputs": [
    {
     "name": "stdout",
     "output_type": "stream",
     "text": [
      "CPU times: user 3 µs, sys: 1 µs, total: 4 µs\n",
      "Wall time: 5.48 µs\n"
     ]
    }
   ],
   "source": [
    "%%time\n",
    "if not skip_mnist_load:\n",
    "    convert_data()"
   ]
  },
  {
   "cell_type": "code",
   "execution_count": 87,
   "id": "8c5b1fd0",
   "metadata": {},
   "outputs": [],
   "source": [
    "import random, string\n",
    "unique_id = ''.join(random.choices(string.ascii_lowercase + string.digits, k=4))\n",
    "job_yaml = f\"xgboost-mnist-sm-{unique_id}.yaml\"\n",
    "job_name = f\"xgboost-mnist-sm-operator-{unique_id}\"\n",
    "\n",
    "\n",
    "s3_train = f\"{bucket_path}/{prefix}/train/\"\n",
    "s3_validation = f\"{bucket_path}/{prefix}/validation/\"\n",
    "s3_models = f\"{bucket_path}/{prefix}/models/\"\n",
    "\n",
    "\n",
    "output_bucket = s3_models\n",
    "training_data_bucket = s3_train\n",
    "validation_data_bucket = s3_validation\n"
   ]
  },
  {
   "cell_type": "code",
   "execution_count": 88,
   "id": "c2995a07",
   "metadata": {},
   "outputs": [],
   "source": [
    "job_definition= f'''apiVersion: sagemaker.aws.amazon.com/v1\n",
    "kind: TrainingJob\n",
    "metadata:\n",
    "  name: {job_name}\n",
    "spec:\n",
    "  roleArn: {role}  \n",
    "  region: {region}\n",
    "  algorithmSpecification:\n",
    "    trainingImage: 433757028032.dkr.ecr.us-west-2.amazonaws.com/xgboost:latest\n",
    "    trainingInputMode: File\n",
    "  outputDataConfig:\n",
    "    s3OutputPath: {output_bucket}\n",
    "  inputDataConfig:\n",
    "    - channelName: train\n",
    "      dataSource:\n",
    "        s3DataSource:\n",
    "          s3DataType: S3Prefix\n",
    "          s3Uri: {training_data_bucket}\n",
    "          s3DataDistributionType: FullyReplicated\n",
    "      contentType: text/csv\n",
    "      compressionType: None\n",
    "    - channelName: validation\n",
    "      dataSource:\n",
    "        s3DataSource:\n",
    "          s3DataType: S3Prefix\n",
    "          s3Uri: {validation_data_bucket}\n",
    "          s3DataDistributionType: FullyReplicated\n",
    "      contentType: text/csv\n",
    "      compressionType: None\n",
    "  resourceConfig:\n",
    "    instanceCount: 1\n",
    "    instanceType: ml.m4.xlarge\n",
    "    volumeSizeInGB: 5\n",
    "  hyperParameters:\n",
    "    - name: max_depth\n",
    "      value: \"5\"\n",
    "    - name: eta\n",
    "      value: \"0.2\"\n",
    "    - name: gamma\n",
    "      value: \"4\"\n",
    "    - name: min_child_weight\n",
    "      value: \"6\"\n",
    "    - name: silent\n",
    "      value: \"0\"\n",
    "    - name: objective\n",
    "      value: multi:softmax\n",
    "    - name: num_class\n",
    "      value: \"10\"\n",
    "    - name: num_round\n",
    "      value: \"10\"\n",
    "  stoppingCondition:\n",
    "    maxRuntimeInSeconds: 86400'''"
   ]
  },
  {
   "cell_type": "code",
   "execution_count": 89,
   "id": "83b294be",
   "metadata": {},
   "outputs": [],
   "source": [
    "f = open(job_yaml,\"w\")\n",
    "f.write(job_definition)\n",
    "f.close()"
   ]
  },
  {
   "cell_type": "code",
   "execution_count": 90,
   "id": "0ed7cb5c",
   "metadata": {},
   "outputs": [
    {
     "data": {
      "text/plain": [
       "['trainingjob.sagemaker.aws.amazon.com/xgboost-mnist-sm-operator-gnfr created']"
      ]
     },
     "execution_count": 90,
     "metadata": {},
     "output_type": "execute_result"
    }
   ],
   "source": [
    "current_job = !kubectl apply -f {job_yaml} -n {team_space}\n",
    "current_job"
   ]
  },
  {
   "cell_type": "code",
   "execution_count": 91,
   "id": "3cc2d923",
   "metadata": {},
   "outputs": [
    {
     "name": "stdout",
     "output_type": "stream",
     "text": [
      "xgboost-mnist-sm-operator-gnfr\n",
      "['  Training Job Status:           InProgress']\n",
      "['  Training Job Status:           InProgress']\n",
      "['  Training Job Status:           InProgress']\n",
      "['  Training Job Status:           InProgress']\n",
      "['  Training Job Status:           InProgress']\n",
      "['  Training Job Status:           InProgress']\n",
      "['  Training Job Status:           InProgress']\n",
      "['  Training Job Status:           InProgress']\n",
      "['  Training Job Status:           InProgress']\n",
      "['  Training Job Status:           InProgress']\n",
      "['  Training Job Status:           InProgress']\n",
      "['  Training Job Status:           InProgress']\n",
      "['  Training Job Status:           InProgress']\n",
      "['  Training Job Status:           InProgress']\n",
      "['  Training Job Status:           InProgress']\n",
      "['  Training Job Status:           InProgress']\n",
      "['  Training Job Status:           InProgress']\n",
      "['  Training Job Status:           InProgress']\n",
      "['  Training Job Status:           InProgress']\n",
      "['  Training Job Status:           InProgress']\n",
      "['  Training Job Status:           InProgress']\n",
      "['  Training Job Status:           InProgress']\n",
      "Final State --->   Training Job Status:           Failed\n"
     ]
    }
   ],
   "source": [
    "import time\n",
    "print(job_name)\n",
    "job_status = !kubectl describe trainingjob {job_name}\n",
    "j_s = job_status.grep(\"Training Job Status\")[0]\n",
    "if 'InProgress'in j_s  or 'SynchronizingK8sJobWithSageMaker' in j_s or 'ReconcilingTrainingJob' in j_s :\n",
    "    while True:\n",
    "        job_status = !kubectl describe trainingjob {job_name}\n",
    "        j_s = job_status.grep(\"Training Job Status\")[0]\n",
    "        if 'InProgress'in j_s  or 'SynchronizingK8sJobWithSageMaker' in j_s :\n",
    "            print(job_status.grep('Training Job Status'))\n",
    "            time.sleep(10);\n",
    "            continue\n",
    "        else:\n",
    "            break  \n",
    "f_state = !kubectl describe trainingjob {job_name}\n",
    "f_state_s = f_state.grep(\"Training Job Status\")[0]\n",
    "print(f\"Final State ---> {f_state_s}\")\n"
   ]
  },
  {
   "cell_type": "code",
   "execution_count": 67,
   "id": "3f1f5a36",
   "metadata": {},
   "outputs": [],
   "source": [
    "# Do an assert that ther f_state_s contains 'Completed'\n",
    "j_s_final = job_status.grep(\"Training Job Status\")[0]\n",
    "if 'Completed' in j_s_final:\n",
    "    print('Successful MNIST Training')\n",
    "    "
   ]
  },
  {
   "cell_type": "code",
   "execution_count": null,
   "id": "b5ac5d48",
   "metadata": {},
   "outputs": [],
   "source": []
  }
 ],
 "metadata": {
  "anaconda-cloud": {},
  "celltoolbar": "Tags",
  "instance_type": "ml.t3.medium",
  "kernelspec": {
   "display_name": "Python 3",
   "language": "python",
   "name": "python3"
  },
  "language_info": {
   "codemirror_mode": {
    "name": "ipython",
    "version": 3
   },
   "file_extension": ".py",
   "mimetype": "text/x-python",
   "name": "python",
   "nbconvert_exporter": "python",
   "pygments_lexer": "ipython3",
   "version": "3.8.8"
  },
  "notice": "Copyright 2017 Amazon.com, Inc. or its affiliates. All Rights Reserved. Licensed under the Apache License, Version 2.0 (the \"License\"). You may not use this file except in compliance with the License. A copy of the License is located at http://aws.amazon.com/apache2.0/ or in the \"license\" file accompanying this file. This file is distributed on an \"AS IS\" BASIS, WITHOUT WARRANTIES OR CONDITIONS OF ANY KIND, either express or implied. See the License for the specific language governing permissions and limitations under the License.",
  "papermill": {
   "default_parameters": {},
   "duration": 4.180815,
   "end_time": "2021-05-05T15:02:55.264826",
   "environment_variables": {},
   "exception": true,
   "input_path": "/tmp/e1@20210505-15:02.ipynb",
   "output_path": "shared/regression/notebooks/H-Model-Development/Example-1-SageMaker-xgboost_mnist/e1@20210505-15:02.ipynb",
   "parameters": {
    "PAPERMILL_INPUT_PATH": "/tmp/e1@20210505-15:02.ipynb",
    "PAPERMILL_OUTPUT_DIR_PATH": "shared/regression/notebooks/H-Model-Development/Example-1-SageMaker-xgboost_mnist",
    "PAPERMILL_OUTPUT_PATH": "shared/regression/notebooks/H-Model-Development/Example-1-SageMaker-xgboost_mnist/e1@20210505-15:02.ipynb",
    "PAPERMILL_WORKBOOK_NAME": "e1@20210505-15:02.ipynb",
    "PAPERMILL_WORK_DIR": "/home/jovyan/shared/samples/notebooks/H-Model-Development"
   },
   "start_time": "2021-05-05T15:02:51.084011",
   "version": "2.3.2"
  }
 },
 "nbformat": 4,
 "nbformat_minor": 5
}