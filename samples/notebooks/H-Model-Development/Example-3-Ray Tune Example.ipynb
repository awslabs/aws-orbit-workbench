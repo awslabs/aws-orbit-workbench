{
 "cells": [
  {
   "cell_type": "markdown",
   "id": "d3e6e989",
   "metadata": {},
   "source": [
    "# Ray Tune Example\n",
    "### What is Ray Tune\n",
    "Ray tune is a tool that helps to build distribuited system.\n",
    "\n",
    "It provides implementation of ASHA(https://proceedings.mlsys.org/paper/2020/file/f4b9ec30ad9f68f89b29639786cb62ef-Paper.pdf)\n",
    "\n",
    "### Why Integrate Ray into Orbit\n",
    "For machine learning developer, it is very common to do HPO, which requires efficient and easy to use distributed systems. \n",
    "\n",
    "Ray tune and orbit together can provide the developer an end-to-end solution."
   ]
  },
  {
   "cell_type": "markdown",
   "id": "12cb5f4a",
   "metadata": {},
   "source": [
    "### Example Setup\n",
    "First let's install ray"
   ]
  },
  {
   "cell_type": "markdown",
   "id": "586ebf22",
   "metadata": {},
   "source": [
    "Lauch up the ray cluster\n",
    "\n",
    "We've modified the namespace to match the current namespace"
   ]
  },
  {
   "cell_type": "markdown",
   "id": "8c631d42",
   "metadata": {},
   "source": [
    "Check the cluster got launched by"
   ]
  },
  {
   "cell_type": "code",
   "execution_count": 2,
   "id": "13992c49",
   "metadata": {},
   "outputs": [
    {
     "name": "stdout",
     "output_type": "stream",
     "text": [
      "NAME                         READY   STATUS    RESTARTS   AGE\n",
      "ray-head-64fc69c47f-8vznv    1/1     Running   0          17m\n",
      "ray-worker-6dc964b54-9v4sj   1/1     Running   0          17m\n",
      "ray-worker-6dc964b54-jgcz2   1/1     Running   0          17m\n"
     ]
    }
   ],
   "source": [
    "!kubectl get pods -l app=orbit-ray"
   ]
  },
  {
   "cell_type": "markdown",
   "id": "503f5988",
   "metadata": {},
   "source": [
    "To create a sample job:"
   ]
  },
  {
   "cell_type": "code",
   "execution_count": 9,
   "id": "773e21b0",
   "metadata": {},
   "outputs": [
    {
     "name": "stdout",
     "output_type": "stream",
     "text": [
      "job.batch/ray-test-job-blx5n created\n"
     ]
    }
   ],
   "source": [
    "!kubectl create -f job-example.yaml"
   ]
  },
  {
   "cell_type": "code",
   "execution_count": 10,
   "id": "6c570c27",
   "metadata": {},
   "outputs": [
    {
     "name": "stdout",
     "output_type": "stream",
     "text": [
      "NAME                 COMPLETIONS   DURATION   AGE\n",
      "ray-test-job-64wlg   1/1           11s        3m27s\n",
      "ray-test-job-blx5n   0/1           2s         2s\n"
     ]
    }
   ],
   "source": [
    "!kubectl get jobs -l component=ray-job"
   ]
  },
  {
   "cell_type": "markdown",
   "id": "d6d87a65",
   "metadata": {},
   "source": [
    "Find the pod we just created and log it"
   ]
  },
  {
   "cell_type": "code",
   "execution_count": 11,
   "id": "3d5a57be",
   "metadata": {},
   "outputs": [
    {
     "name": "stdout",
     "output_type": "stream",
     "text": [
      "NAME                       READY   STATUS    RESTARTS   AGE\n",
      "ray-test-job-blx5n-nzn8w   1/1     Running   0          12s\n"
     ]
    }
   ],
   "source": [
    "!kubectl get pods -l component=ray-job"
   ]
  },
  {
   "cell_type": "code",
   "execution_count": 13,
   "id": "ac4218e6",
   "metadata": {},
   "outputs": [
    {
     "data": {
      "text/plain": [
       "['| Trial name                    | status     | loc   |   alpha |   beta |     loss |   iter |   total time (s) |   neg_mean_loss |',\n",
       " '|-------------------------------+------------+-------+---------+--------+----------+--------+------------------+-----------------|',\n",
       " '| training_function_9d618_00000 | TERMINATED |       |   0.001 |      1 | 10.091   |     10 |        0.0434794 |       -10.091   |',\n",
       " '| training_function_9d618_00001 | TERMINATED |       |   0.01  |      3 | 10.2108  |     10 |        0.0438619 |       -10.2108  |',\n",
       " '| training_function_9d618_00002 | TERMINATED |       |   0.1   |      2 |  9.37431 |     10 |        0.0370092 |        -9.37431 |',\n",
       " '+-------------------------------+------------+-------+---------+--------+----------+--------+------------------+-----------------+',\n",
       " '',\n",
       " '',\n",
       " \"Best config:  {'alpha': 0.1, 'beta': 2}\",\n",
       " 'arbitrary']"
      ]
     },
     "execution_count": 13,
     "metadata": {},
     "output_type": "execute_result"
    }
   ],
   "source": [
    "output = !kubectl logs -l component=ray-job\n",
    "output"
   ]
  },
  {
   "cell_type": "code",
   "execution_count": 16,
   "id": "d4994867",
   "metadata": {},
   "outputs": [],
   "source": [
    "assert('Best config' in '\\n'.join(output))"
   ]
  },
  {
   "cell_type": "code",
   "execution_count": null,
   "id": "559a5ff4",
   "metadata": {},
   "outputs": [],
   "source": []
  }
 ],
 "metadata": {
  "kernelspec": {
   "display_name": "Python 3",
   "language": "python",
   "name": "python3"
  },
  "language_info": {
   "codemirror_mode": {
    "name": "ipython",
    "version": 3
   },
   "file_extension": ".py",
   "mimetype": "text/x-python",
   "name": "python",
   "nbconvert_exporter": "python",
   "pygments_lexer": "ipython3",
   "version": "3.8.8"
  }
 },
 "nbformat": 4,
 "nbformat_minor": 5
}