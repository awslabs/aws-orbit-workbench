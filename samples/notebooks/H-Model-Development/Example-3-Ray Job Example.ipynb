{
 "cells": [
  {
   "cell_type": "markdown",
   "id": "e527d28e",
   "metadata": {},
   "source": [
    "# Ray Tune Example\n",
    "### What is Ray Tune\n",
    "Ray tune is a tool that helps to build distribuited system.\n",
    "\n",
    "It provides implementation of ASHA(https://proceedings.mlsys.org/paper/2020/file/f4b9ec30ad9f68f89b29639786cb62ef-Paper.pdf)\n",
    "\n",
    "### Why Integrate Ray into Orbit\n",
    "For machine learning developer, it is very common to do HPO, which requires efficient and easy to use distributed systems. \n",
    "\n",
    "Ray tune and orbit together can provide the developer an end-to-end solution."
   ]
  },
  {
   "cell_type": "markdown",
   "id": "51022829",
   "metadata": {},
   "source": [
    "### Example Setup\n",
    "First let's install ray"
   ]
  },
  {
   "cell_type": "markdown",
   "id": "8c24f32f",
   "metadata": {},
   "source": [
    "Lauch up the ray cluster\n",
    "\n",
    "We've modified the namespace to match the current namespace"
   ]
  },
  {
   "cell_type": "markdown",
   "id": "2c2ae94b",
   "metadata": {},
   "source": [
    "Check the cluster got launched by"
   ]
  },
  {
   "cell_type": "code",
   "execution_count": null,
   "id": "443c69e0",
   "metadata": {},
   "outputs": [],
   "source": [
    "!kubectl get pods -l app=orbit-ray -n lake-user"
   ]
  },
  {
   "cell_type": "code",
   "execution_count": null,
   "id": "92a3cf63",
   "metadata": {},
   "outputs": [],
   "source": [
    "!kubectl delete jobs -l example=ray-job -n lake-user"
   ]
  },
  {
   "cell_type": "markdown",
   "id": "bda8eb79",
   "metadata": {},
   "source": [
    "To create a sample job:"
   ]
  },
  {
   "cell_type": "code",
   "execution_count": null,
   "id": "567a9e50",
   "metadata": {},
   "outputs": [],
   "source": [
    "!kubectl create -f job-example.yaml -n lake-user"
   ]
  },
  {
   "cell_type": "code",
   "execution_count": null,
   "id": "04b8304e",
   "metadata": {},
   "outputs": [],
   "source": [
    "!kubectl get jobs -l component=ray-job  -n lake-user"
   ]
  },
  {
   "cell_type": "code",
   "execution_count": null,
   "id": "c816fbac",
   "metadata": {},
   "outputs": [],
   "source": [
    "!sleep 30s\n",
    "!kubectl logs -l component=ray-job -f -n lake-user"
   ]
  },
  {
   "cell_type": "markdown",
   "id": "1a34bf2c",
   "metadata": {},
   "source": [
    "Find the pod we just created and log it"
   ]
  },
  {
   "cell_type": "code",
   "execution_count": null,
   "id": "ffc1c85c",
   "metadata": {},
   "outputs": [],
   "source": [
    "!kubectl get jobs -l component=ray-job -n lake-user"
   ]
  },
  {
   "cell_type": "code",
   "execution_count": null,
   "id": "461b8ed9",
   "metadata": {},
   "outputs": [],
   "source": [
    "output = !kubectl logs -l component=ray-job --tail=-1 -n lake-user\n",
    "output"
   ]
  },
  {
   "cell_type": "code",
   "execution_count": null,
   "id": "c23af3a2",
   "metadata": {},
   "outputs": [],
   "source": [
    "assert('Success' in '\\n'.join(output))"
   ]
  }
 ],
 "metadata": {
  "kernelspec": {
   "display_name": "Python 3",
   "language": "python",
   "name": "python3"
  },
  "language_info": {
   "codemirror_mode": {
    "name": "ipython",
    "version": 3
   },
   "file_extension": ".py",
   "mimetype": "text/x-python",
   "name": "python",
   "nbconvert_exporter": "python",
   "pygments_lexer": "ipython3",
   "version": "3.8.8"
  }
 },
 "nbformat": 4,
 "nbformat_minor": 5
}