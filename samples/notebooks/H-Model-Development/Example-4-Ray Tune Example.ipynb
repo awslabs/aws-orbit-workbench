{
 "cells": [
  {
   "cell_type": "markdown",
   "id": "ddb8be26",
   "metadata": {},
   "source": [
    "# Ray Tune Example\n",
    "### What is Ray Tune\n",
    "Ray tune is a tool that helps to build distribuited system.\n",
    "\n",
    "It provides implementation of ASHA(https://proceedings.mlsys.org/paper/2020/file/f4b9ec30ad9f68f89b29639786cb62ef-Paper.pdf)\n",
    "\n",
    "### Why Integrate Ray into Orbit\n",
    "For machine learning developer, it is very common to do HPO, which requires efficient and easy to use distributed systems. \n",
    "\n",
    "Ray tune and orbit together can provide the developer an end-to-end solution."
   ]
  },
  {
   "cell_type": "code",
   "execution_count": null,
   "id": "74d8025d",
   "metadata": {},
   "outputs": [],
   "source": [
    "!kubectl get pods -l app=orbit-ray -n lake-user"
   ]
  },
  {
   "cell_type": "markdown",
   "id": "eecc8b95",
   "metadata": {},
   "source": [
    "To create a sample job:"
   ]
  },
  {
   "cell_type": "code",
   "execution_count": null,
   "id": "da8bba62",
   "metadata": {},
   "outputs": [],
   "source": [
    "!kubectl create -f tune-example.yaml -n lake-user"
   ]
  },
  {
   "cell_type": "code",
   "execution_count": null,
   "id": "232e103b",
   "metadata": {},
   "outputs": [],
   "source": [
    "!kubectl get jobs -l example=tune -n lake-user"
   ]
  },
  {
   "cell_type": "markdown",
   "id": "cd0456a6",
   "metadata": {},
   "source": [
    "Find the pod we just created and log it"
   ]
  },
  {
   "cell_type": "code",
   "execution_count": null,
   "id": "ff3ac323",
   "metadata": {},
   "outputs": [],
   "source": [
    "!kubectl get pods -l example=tune -n lake-user"
   ]
  },
  {
   "cell_type": "code",
   "execution_count": null,
   "id": "23d94cd4",
   "metadata": {},
   "outputs": [],
   "source": [
    "!kubectl logs -l example=tune -f -n lake-user"
   ]
  },
  {
   "cell_type": "code",
   "execution_count": null,
   "id": "0abb478a",
   "metadata": {},
   "outputs": [],
   "source": [
    "!sleep 30s\n",
    "output = !kubectl logs -l example=tune --tail=-1 -n lake-user\n",
    "output"
   ]
  },
  {
   "cell_type": "code",
   "execution_count": null,
   "id": "02b963c1",
   "metadata": {},
   "outputs": [],
   "source": [
    "assert('Best config' in '\\n'.join(output))"
   ]
  },
  {
   "cell_type": "code",
   "execution_count": null,
   "id": "49827c37",
   "metadata": {},
   "outputs": [],
   "source": []
  }
 ],
 "metadata": {
  "kernelspec": {
   "display_name": "Python 3",
   "language": "python",
   "name": "python3"
  },
  "language_info": {
   "codemirror_mode": {
    "name": "ipython",
    "version": 3
   },
   "file_extension": ".py",
   "mimetype": "text/x-python",
   "name": "python",
   "nbconvert_exporter": "python",
   "pygments_lexer": "ipython3",
   "version": "3.8.8"
  }
 },
 "nbformat": 4,
 "nbformat_minor": 5
}