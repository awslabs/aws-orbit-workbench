{
 "cells": [
  {
   "cell_type": "code",
   "execution_count": null,
   "id": "identical-failing",
   "metadata": {},
   "outputs": [],
   "source": [
    "!whoami"
   ]
  },
  {
   "cell_type": "code",
   "execution_count": null,
   "id": "derived-breathing",
   "metadata": {},
   "outputs": [],
   "source": [
    "!groups"
   ]
  },
  {
   "cell_type": "code",
   "execution_count": null,
   "id": "billion-biography",
   "metadata": {},
   "outputs": [],
   "source": [
    "!env | sort"
   ]
  },
  {
   "cell_type": "code",
   "execution_count": null,
   "id": "proud-discovery",
   "metadata": {},
   "outputs": [],
   "source": [
    "i = 9\n",
    "i"
   ]
  },
  {
   "cell_type": "code",
   "execution_count": null,
   "id": "recreational-yukon",
   "metadata": {},
   "outputs": [],
   "source": [
    "!ls /efs"
   ]
  },
  {
   "cell_type": "code",
   "execution_count": null,
   "id": "satisfactory-collector",
   "metadata": {},
   "outputs": [],
   "source": [
    "!echo \"FOO\" > /ebs/foo.txt"
   ]
  },
  {
   "cell_type": "code",
   "execution_count": null,
   "id": "pleased-designation",
   "metadata": {},
   "outputs": [],
   "source": [
    "!ls -al /ebs"
   ]
  },
  {
   "cell_type": "code",
   "execution_count": null,
   "id": "automatic-circus",
   "metadata": {},
   "outputs": [],
   "source": [
    "!cat /ebs/foo.txt"
   ]
  },
  {
   "cell_type": "code",
   "execution_count": null,
   "id": "aging-sellers",
   "metadata": {},
   "outputs": [],
   "source": [
    "!echo \"FOO\" >> /ebs/foo.txt"
   ]
  },
  {
   "cell_type": "code",
   "execution_count": null,
   "id": "improved-morrison",
   "metadata": {},
   "outputs": [],
   "source": [
    "!cat /ebs/foo.txt"
   ]
  },
  {
   "cell_type": "code",
   "execution_count": null,
   "id": "proved-mother",
   "metadata": {},
   "outputs": [],
   "source": [
    "!ls -al /home/jovyan/private"
   ]
  },
  {
   "cell_type": "code",
   "execution_count": null,
   "id": "public-extra",
   "metadata": {},
   "outputs": [],
   "source": [
    "!ls -al /home/jovyan/shared"
   ]
  },
  {
   "cell_type": "code",
   "execution_count": null,
   "id": "entitled-disposition",
   "metadata": {},
   "outputs": [],
   "source": []
  }
 ],
 "metadata": {
  "kernelspec": {
   "display_name": "Python 3",
   "language": "python",
   "name": "python3"
  },
  "language_info": {
   "codemirror_mode": {
    "name": "ipython",
    "version": 3
   },
   "file_extension": ".py",
   "mimetype": "text/x-python",
   "name": "python",
   "nbconvert_exporter": "python",
   "pygments_lexer": "ipython3",
   "version": "3.8.6"
  },
  "pycharm": {
   "stem_cell": {
    "cell_type": "raw",
    "source": [],
    "metadata": {
     "collapsed": false
    }
   }
  }
 },
 "nbformat": 4,
 "nbformat_minor": 5
}