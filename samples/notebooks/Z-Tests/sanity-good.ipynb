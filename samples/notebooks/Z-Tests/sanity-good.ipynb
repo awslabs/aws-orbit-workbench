{
 "cells": [
  {
   "cell_type": "code",
   "execution_count": null,
   "id": "faced-necklace",
   "metadata": {
    "papermill": {
     "duration": 0.605956,
     "end_time": "2021-02-20T16:48:15.811517",
     "exception": false,
     "start_time": "2021-02-20T16:48:15.205561",
     "status": "completed"
    },
    "tags": []
   },
   "outputs": [],
   "source": [
    "res = !whoami\n",
    "assert(res[0]==\"jovyan\")\n",
    "res"
   ]
  },
  {
   "cell_type": "code",
   "execution_count": null,
   "id": "distinguished-score",
   "metadata": {
    "papermill": {
     "duration": 0.603069,
     "end_time": "2021-02-20T16:48:16.437236",
     "exception": false,
     "start_time": "2021-02-20T16:48:15.834167",
     "status": "completed"
    },
    "tags": []
   },
   "outputs": [],
   "source": [
    "res = !groups\n",
    "assert(res[0]==\"users\")\n",
    "res"
   ]
  },
  {
   "cell_type": "code",
   "execution_count": null,
   "id": "opponent-river",
   "metadata": {
    "papermill": {
     "duration": 0.601196,
     "end_time": "2021-02-20T16:48:17.062633",
     "exception": false,
     "start_time": "2021-02-20T16:48:16.461437",
     "status": "completed"
    },
    "tags": []
   },
   "outputs": [],
   "source": [
    "res = !env | sort\n",
    "env = '\\n'.join(res)\n",
    "display(res)"
   ]
  },
  {
   "cell_type": "code",
   "execution_count": null,
   "id": "foreign-hawaiian",
   "metadata": {},
   "outputs": [],
   "source": [
    "assert('AWS_ORBIT_ENV' in env)\n",
    "assert('AWS_ORBIT_TEAM_SPACE' in env)\n",
    "assert('AWS_STS_REGIONAL_ENDPOINTS' in env)\n",
    "assert('USERNAME' in env)"
   ]
  },
  {
   "cell_type": "code",
   "execution_count": null,
   "id": "rapid-field",
   "metadata": {
    "papermill": {
     "duration": 0.602844,
     "end_time": "2021-02-20T16:48:17.744813",
     "exception": false,
     "start_time": "2021-02-20T16:48:17.141969",
     "status": "completed"
    },
    "tags": []
   },
   "outputs": [],
   "source": [
    "efs = !ls /efs\n",
    "assert('shared' in efs)\n",
    "efs"
   ]
  },
  {
   "cell_type": "code",
   "execution_count": null,
   "id": "racial-entrepreneur",
   "metadata": {
    "papermill": {
     "duration": 0.604069,
     "end_time": "2021-02-20T16:48:21.503306",
     "exception": false,
     "start_time": "2021-02-20T16:48:20.899237",
     "status": "completed"
    },
    "tags": []
   },
   "outputs": [],
   "source": [
    "!ls -al /home/jovyan/private"
   ]
  },
  {
   "cell_type": "code",
   "execution_count": null,
   "id": "suitable-cooper",
   "metadata": {
    "papermill": {
     "duration": 0.604637,
     "end_time": "2021-02-20T16:48:22.135320",
     "exception": false,
     "start_time": "2021-02-20T16:48:21.530683",
     "status": "completed"
    },
    "tags": []
   },
   "outputs": [],
   "source": [
    "!ls -al /home/jovyan/shared"
   ]
  },
  {
   "cell_type": "code",
   "execution_count": null,
   "id": "ahead-insulation",
   "metadata": {
    "papermill": {
     "duration": 0.024471,
     "end_time": "2021-02-20T16:48:22.188947",
     "exception": false,
     "start_time": "2021-02-20T16:48:22.164476",
     "status": "completed"
    },
    "tags": []
   },
   "outputs": [],
   "source": [
    "res = !aws sts get-caller-identity\n",
    "res = '\\n'.join(res)\n",
    "assert('UserId' in res)\n",
    "res"
   ]
  },
  {
   "cell_type": "code",
   "execution_count": null,
   "id": "diverse-saturn",
   "metadata": {},
   "outputs": [],
   "source": []
  }
 ],
 "metadata": {
  "kernelspec": {
   "display_name": "Python 3",
   "language": "python",
   "name": "python3"
  },
  "language_info": {
   "codemirror_mode": {
    "name": "ipython",
    "version": 3
   },
   "file_extension": ".py",
   "mimetype": "text/x-python",
   "name": "python",
   "nbconvert_exporter": "python",
   "pygments_lexer": "ipython3",
   "version": "3.8.6"
  },
  "papermill": {
   "default_parameters": {},
   "duration": 9.218905,
   "end_time": "2021-02-20T16:48:23.391099",
   "environment_variables": {},
   "exception": null,
   "input_path": "/tmp/e1@20210220-16:48.ipynb",
   "output_path": "/home/jovyan/shared/regression/notebooks/Z-Tests/sanity-good/e1@20210220-16:48.ipynb",
   "parameters": {
    "PAPERMILL_INPUT_PATH": "/tmp/e1@20210220-16:48.ipynb",
    "PAPERMILL_OUTPUT_DIR_PATH": "/home/jovyan/shared/regression/notebooks/Z-Tests/sanity-good",
    "PAPERMILL_OUTPUT_PATH": "/home/jovyan/shared/regression/notebooks/Z-Tests/sanity-good/e1@20210220-16:48.ipynb",
    "PAPERMILL_WORKBOOK_NAME": "e1@20210220-16:48.ipynb",
    "PAPERMILL_WORK_DIR": "/home/jovyan/shared/samples/notebooks/Z-Tests"
   },
   "start_time": "2021-02-20T16:48:14.172194",
   "version": "2.3.0"
  },
  "pycharm": {
   "stem_cell": {
    "cell_type": "raw",
    "source": [],
    "metadata": {
     "collapsed": false
    }
   }
  }
 },
 "nbformat": 4,
 "nbformat_minor": 5
}