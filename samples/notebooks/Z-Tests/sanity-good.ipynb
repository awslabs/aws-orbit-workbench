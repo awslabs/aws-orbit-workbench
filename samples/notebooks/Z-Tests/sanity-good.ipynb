{
 "cells": [
  {
   "cell_type": "code",
   "execution_count": null,
   "id": "aerial-catholic",
   "metadata": {},
   "outputs": [],
   "source": [
    "i = 9\n",
    "i"
   ]
  },
  {
   "cell_type": "code",
   "execution_count": null,
   "id": "demographic-brooklyn",
   "metadata": {},
   "outputs": [],
   "source": [
    "!whoami"
   ]
  },
  {
   "cell_type": "code",
   "execution_count": null,
   "id": "empty-blood",
   "metadata": {},
   "outputs": [],
   "source": [
    "!ls /efs"
   ]
  },
  {
   "cell_type": "code",
   "execution_count": null,
   "id": "consistent-cardiff",
   "metadata": {},
   "outputs": [],
   "source": [
    "!echo \"FOO\" > /ebs/foo.txt"
   ]
  },
  {
   "cell_type": "code",
   "execution_count": null,
   "id": "under-consolidation",
   "metadata": {},
   "outputs": [],
   "source": [
    "!ls -al /ebs"
   ]
  },
  {
   "cell_type": "code",
   "execution_count": null,
   "id": "interested-longer",
   "metadata": {},
   "outputs": [],
   "source": [
    "!cat /ebs/foo.txt"
   ]
  },
  {
   "cell_type": "code",
   "execution_count": null,
   "id": "legislative-mainstream",
   "metadata": {},
   "outputs": [],
   "source": [
    "!echo \"FOO\" >> /ebs/foo.txt"
   ]
  },
  {
   "cell_type": "code",
   "execution_count": null,
   "id": "spiritual-expansion",
   "metadata": {},
   "outputs": [],
   "source": [
    "!cat /ebs/foo.txt"
   ]
  },
  {
   "cell_type": "code",
   "execution_count": null,
   "id": "interested-hobby",
   "metadata": {},
   "outputs": [],
   "source": [
    "!ls -al /home/jovyan/private"
   ]
  },
  {
   "cell_type": "code",
   "execution_count": null,
   "id": "annoying-western",
   "metadata": {},
   "outputs": [],
   "source": [
    "!ls -al /home/jovyan/shared"
   ]
  },
  {
   "cell_type": "code",
   "execution_count": null,
   "id": "checked-explosion",
   "metadata": {},
   "outputs": [],
   "source": []
  }
 ],
 "metadata": {
  "kernelspec": {
   "display_name": "Python 3",
   "language": "python",
   "name": "python3"
  },
  "language_info": {
   "codemirror_mode": {
    "name": "ipython",
    "version": 3
   },
   "file_extension": ".py",
   "mimetype": "text/x-python",
   "name": "python",
   "nbconvert_exporter": "python",
   "pygments_lexer": "ipython3",
   "version": "3.8.6"
  }
 },
 "nbformat": 4,
 "nbformat_minor": 5
}
