{
 "cells": [
  {
   "cell_type": "markdown",
   "metadata": {},
   "source": [
    "# TEST REPORT"
   ]
  },
  {
   "cell_type": "code",
   "execution_count": null,
   "metadata": {},
   "outputs": [],
   "source": [
    "import boto3\n",
    "\n",
    "from aws.utils.notebooks.database import get_redshift\n",
    "from aws.utils.notebooks.common import get_workspace,get_scratch_database\n",
    "import os\n",
    "import sys\n",
    "import boto3\n",
    "import aws.utils.notebooks.controller as controller\n",
    "s3 = boto3.client('s3')\n",
    "workspace = get_workspace()\n",
    "team_space = workspace['team_space']\n",
    "notebook_bucket = workspace['NotebookOutputBucket']\n",
    "workspace"
   ]
  },
  {
   "cell_type": "markdown",
   "metadata": {},
   "source": [
    "### Configure Result Report"
   ]
  },
  {
   "cell_type": "code",
   "execution_count": null,
   "metadata": {},
   "outputs": [],
   "source": [
    "notebooks_result_config = {\n",
    "    \"exclude_list\":  [\"Z-Tests/Test-Report/\"],       \n",
    "    \"optional_list\": [\"B-DataAnalyst/Example-3-PySpark-SQL\",\n",
    "                      \"Example-4-SQL-Analysis-Spark\",\n",
    "                      \"B-DataAnalyst/Example-7-Data-Profiling\",\n",
    "                      \"J-FHIR-Development/Example-0-Build-Schema-Induction\",\n",
    "                      \"J-FHIR-Development/Example-1-CreateTables\",\n",
    "                      \"J-FHIR-Development/Example-2-FHIR-Queries\"],\n",
    "    \"minimum_successful\": 2    # number of minimum notebooks to be completed to consider entire test not failed\n",
    "}\n",
    "\n",
    "def checkPath(path):\n",
    "    for p in notebooks_result_config[\"exclude_list\"]:\n",
    "        if p in path:\n",
    "            return \"ignore\"\n",
    "    \n",
    "    ignored = False\n",
    "    for p in notebooks_result_config[\"optional_list\"]:\n",
    "        if p in path:\n",
    "            ignored = True\n",
    "    \n",
    "    nb_name = path.split(\"/\")[-2] # Name of the folder for the output file is a notebook name\n",
    "    res = path.split(\"/\")[-1] # result of notebook actual execution (output)\n",
    "    if 'error@' in res and 'Failure-Behavior' not in nb_name:\n",
    "        return \"failed\" if not ignored else \"ignore\"\n",
    "    elif 'error@' in res and 'Failure-Behavior' in nb_name:\n",
    "        return \"success\"\n",
    "    elif 'error@' not in res and 'Failure-Behavior' in nb_name:\n",
    "        return \"failed\" if not ignored else \"ignore\"\n",
    "    elif 'error@' not in res and 'Failure-Behavior' not in nb_name:\n",
    "        return \"success\"\n",
    "    else:\n",
    "        return \"ignore\" #impossible to be here.\n"
   ]
  },
  {
   "cell_type": "code",
   "execution_count": null,
   "metadata": {},
   "outputs": [],
   "source": [
    "\n",
    "notebooks_pass = []\n",
    "notebooks_error = []\n",
    "notebooks_ignored = []\n",
    "\n",
    "for key in s3.list_objects_v2(Bucket=notebook_bucket, Prefix=f'{team_space}/output/notebooks/tests/')['Contents']:\n",
    "    path = key['Key']\n",
    "    execution_result = checkPath(path)\n",
    "    if execution_result == \"ignore\":\n",
    "        notebooks_ignored.append(path)\n",
    "    elif execution_result == \"failed\":\n",
    "        notebooks_error.append(path)\n",
    "    elif execution_result == \"success\":\n",
    "        notebooks_pass.append(path)\n",
    "\n",
    "print(\"Notebooks ignored:\\n\")\n",
    "display(notebooks_ignored)\n",
    "print(\"\\n------------------------\")\n",
    "print(\"Notebooks with errors:\\n\")\n",
    "display(notebooks_error)\n",
    "print(\"\\n------------------------\")\n",
    "print(\"Notebooks passed: \\n\") \n",
    "display(notebooks_pass)\n",
    "\n",
    "assert not notebooks_error, 'Some notebooks have failed'\n",
    "assert len(notebooks_pass) >= notebooks_result_config[\"minimum_successful\"], \\\n",
    "    f'Total passed {len(notebooks_pass)} is less than configured minimum {notebooks_result_config[\"minimum_successful\"]}'\n"
   ]
  },
  {
   "cell_type": "code",
   "execution_count": null,
   "metadata": {},
   "outputs": [],
   "source": []
  }
 ],
 "metadata": {
  "kernelspec": {
   "display_name": "conda_python3",
   "language": "python",
   "name": "conda_python3"
  },
  "language_info": {
   "codemirror_mode": {
    "name": "ipython",
    "version": 3
   },
   "file_extension": ".py",
   "mimetype": "text/x-python",
   "name": "python",
   "nbconvert_exporter": "python",
   "pygments_lexer": "ipython3",
   "version": "3.6.5"
  },
  "pycharm": {
   "stem_cell": {
    "cell_type": "raw",
    "source": [],
    "metadata": {
     "collapsed": false
    }
   }
  }
 },
 "nbformat": 4,
 "nbformat_minor": 4
}
