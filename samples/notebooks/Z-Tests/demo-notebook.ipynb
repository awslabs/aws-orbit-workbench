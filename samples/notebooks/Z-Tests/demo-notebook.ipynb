{
 "cells": [
  {
   "cell_type": "markdown",
   "id": "7e6ef802",
   "metadata": {},
   "source": [
    "# Orbit Notebook to create demo related resources and trigger regression testing"
   ]
  },
  {
   "cell_type": "code",
   "execution_count": null,
   "id": "dbb5293a",
   "metadata": {},
   "outputs": [],
   "source": [
    "import json\n",
    "from aws_orbit_sdk.common import get_workspace\n",
    "\n",
    "workspace = get_workspace()"
   ]
  },
  {
   "cell_type": "markdown",
   "id": "60f65b65",
   "metadata": {},
   "source": [
    "# Workspace details"
   ]
  },
  {
   "cell_type": "code",
   "execution_count": null,
   "id": "105e4d5e",
   "metadata": {},
   "outputs": [],
   "source": [
    "workspace"
   ]
  },
  {
   "cell_type": "code",
   "execution_count": null,
   "id": "17b7bb56",
   "metadata": {},
   "outputs": [],
   "source": [
    "# Orbit Environment Name\n",
    "env_name = workspace['env_name']"
   ]
  },
  {
   "cell_type": "markdown",
   "id": "e00bcbd8",
   "metadata": {},
   "source": [
    "## Executing lake-creator notebooks"
   ]
  },
  {
   "cell_type": "code",
   "execution_count": null,
   "id": "d3432bb8",
   "metadata": {},
   "outputs": [],
   "source": [
    "run_creator_notebooks = {\n",
    "    \"compute\": {\n",
    "        \"node_type\": \"ec2\",\n",
    "        \"container\": {\n",
    "            \"p_concurrent\" :1\n",
    "        }\n",
    "    },\n",
    "    \"tasks\":  [\n",
    "        {\n",
    "            \"notebookName\": \"Example-1-Build-Lake.ipynb\",\n",
    "            \"sourcePath\": \"/home/jovyan/shared/samples/notebooks/A-LakeCreator\",\n",
    "            \"targetPath\": \"/home/jovyan/shared/regression/notebooks/A-LakeCreator/\",\n",
    "            \"params\": {\n",
    "            }\n",
    "        }\n",
    "    ]\n",
    "}\n",
    "\n",
    "with open(\"run_creator_notebooks.json\", 'w') as f:\n",
    "    json.dump(run_creator_notebooks, f)"
   ]
  },
  {
   "cell_type": "code",
   "execution_count": null,
   "id": "7971e271",
   "metadata": {},
   "outputs": [],
   "source": [
    "!orbit run notebook \\\n",
    "          --env $env_name \\\n",
    "          --team lake-creator  \\\n",
    "          --user regression \\\n",
    "          --delay 60 \\\n",
    "          --max-attempts 40 \\\n",
    "          --wait \\\n",
    "          run_creator_notebooks.json"
   ]
  },
  {
   "cell_type": "markdown",
   "id": "9a8f48be",
   "metadata": {},
   "source": [
    "## Executing Admin notebooks"
   ]
  },
  {
   "cell_type": "code",
   "execution_count": null,
   "id": "0932ea7e",
   "metadata": {},
   "outputs": [],
   "source": [
    "run_admin_notebooks = {\n",
    "    \"compute\": {\n",
    "        \"node_type\": \"ec2\",\n",
    "        \"container\": {\n",
    "            \"p_concurrent\" :1\n",
    "        }\n",
    "    },\n",
    "    \"tasks\":  [\n",
    "        {\n",
    "            \"notebookName\": \"run-admin-regression-notebooks.ipynb\",\n",
    "            \"sourcePath\": \"/home/jovyan/shared/samples/notebooks/Z-Tests\",\n",
    "            \"targetPath\": \"/home/jovyan/shared/regression/notebooks/Z-Tests/\",\n",
    "            \"params\": {\n",
    "            }\n",
    "        }\n",
    "    ]\n",
    "}\n",
    "with open(\"run_admin_notebooks.json\", 'w') as f:\n",
    "    json.dump(run_admin_notebooks, f)"
   ]
  },
  {
   "cell_type": "code",
   "execution_count": null,
   "id": "9fcda9d1",
   "metadata": {},
   "outputs": [],
   "source": [
    "!orbit run notebook \\\n",
    "          --env $env_name \\\n",
    "          --team lake-creator  \\\n",
    "          --user regression \\\n",
    "          --delay 60 \\\n",
    "          --max-attempts 40 \\\n",
    "          --wait \\\n",
    "          run_admin_notebooks.json\n"
   ]
  },
  {
   "cell_type": "markdown",
   "id": "14e05067",
   "metadata": {},
   "source": [
    "## Executing lake-user notebooks"
   ]
  },
  {
   "cell_type": "code",
   "execution_count": null,
   "id": "3b7fdcab",
   "metadata": {},
   "outputs": [],
   "source": [
    "run_lake_user_notebooks = {\n",
    "    \"compute\": {\n",
    "        \"node_type\": \"ec2\",\n",
    "        \"container\": {\n",
    "            \"p_concurrent\" :1\n",
    "        }\n",
    "    },\n",
    "    \"tasks\":  [\n",
    "        {\n",
    "            \"notebookName\": \"run-user-regression-notebooks.ipynb\",\n",
    "            \"sourcePath\": \"/home/jovyan/shared/samples/notebooks/Z-Tests\",\n",
    "            \"targetPath\": \"/home/jovyan/shared/regression/notebooks/Z-Tests/\",\n",
    "            \"params\": {\n",
    "            }\n",
    "        }\n",
    "    ]\n",
    "}\n",
    "with open(\"run_lake_user_notebooks.json\", 'w') as f:\n",
    "    json.dump(run_lake_user_notebooks, f)"
   ]
  },
  {
   "cell_type": "code",
   "execution_count": null,
   "id": "ac56bb4f",
   "metadata": {},
   "outputs": [],
   "source": [
    "!orbit run notebook \\\n",
    "          --env $env_name \\\n",
    "          --team lake-user  \\\n",
    "          --user regression \\\n",
    "          --delay 60 \\\n",
    "          --max-attempts 40 \\\n",
    "          --wait \\\n",
    "          run_lake_user_notebooks.json"
   ]
  },
  {
   "cell_type": "code",
   "execution_count": null,
   "id": "be224bc4",
   "metadata": {},
   "outputs": [],
   "source": []
  },
  {
   "cell_type": "code",
   "execution_count": null,
   "id": "f533b6b6",
   "metadata": {},
   "outputs": [],
   "source": []
  }
 ],
 "metadata": {
  "kernelspec": {
   "display_name": "Python 3",
   "language": "python",
   "name": "python3"
  },
  "language_info": {
   "codemirror_mode": {
    "name": "ipython",
    "version": 3
   },
   "file_extension": ".py",
   "mimetype": "text/x-python",
   "name": "python",
   "nbconvert_exporter": "python",
   "pygments_lexer": "ipython3",
   "version": "3.8.8"
  }
 },
 "nbformat": 4,
 "nbformat_minor": 5
}
