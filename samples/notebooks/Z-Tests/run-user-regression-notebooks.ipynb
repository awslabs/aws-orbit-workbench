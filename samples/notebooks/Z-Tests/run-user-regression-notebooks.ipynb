{
 "cells": [
  {
   "cell_type": "markdown",
   "metadata": {},
   "source": [
    "# Master test notebook to run all user notebooks\n",
    "    \n",
    "\n",
    "### Author: AWS Professional Services Emerging Technology and Intelligent Platforms Group\n",
    "### Date: Feb 4 2021"
   ]
  },
  {
   "cell_type": "code",
   "execution_count": 1,
   "metadata": {},
   "outputs": [],
   "source": [
    "import os\n",
    "import sys\n",
    "import boto3\n",
    "from aws_orbit_sdk import controller\n",
    "from aws_orbit_sdk.common import get_workspace,get_scratch_database\n",
    "from botocore.exceptions import ClientError\n",
    "s3 = boto3.client('s3')\n",
    "sns = boto3.client('sns')\n",
    "ssm = boto3.client('ssm')"
   ]
  },
  {
   "cell_type": "code",
   "execution_count": 2,
   "metadata": {},
   "outputs": [
    {
     "data": {
      "text/plain": [
       "('lake-user',\n",
       " 's3://orbit-foundation-public2-scratch-495869084367-cpelwk/lake-user')"
      ]
     },
     "execution_count": 2,
     "metadata": {},
     "output_type": "execute_result"
    }
   ],
   "source": [
    "workspace = get_workspace()\n",
    "scratch_glue_db = get_scratch_database()\n",
    "team_space = workspace['team_space']\n",
    "# DO NOT RUN THIS NOTEBOOK IN LAKE CREATOR TEAM SPACE \n",
    "assert team_space == 'lake-user'\n",
    "scratch_bucket = workspace['ScratchBucket']\n",
    "(team_space, scratch_bucket, )"
   ]
  },
  {
   "cell_type": "code",
   "execution_count": 3,
   "metadata": {},
   "outputs": [],
   "source": [
    "def checkNotebooks(executions, expected_count):\n",
    "    assert len(executions) == expected_count\n",
    "    for index, row in executions.iterrows():\n",
    "        if 'error@' in row['relativePath']:\n",
    "            raise AssertionError('error in ' + row['relativePath'])\n",
    "    print(\"SUCCESS\")"
   ]
  },
  {
   "cell_type": "markdown",
   "metadata": {},
   "source": [
    "### Cleanup"
   ]
  },
  {
   "cell_type": "code",
   "execution_count": 4,
   "metadata": {
    "collapsed": false,
    "jupyter": {
     "outputs_hidden": false
    },
    "pycharm": {
     "name": "#%%\n"
    }
   },
   "outputs": [
    {
     "name": "stdout",
     "output_type": "stream",
     "text": [
      "find: ‘/home/jovyan/shared/regression/notebooks/I-Image’: No such file or directory\n",
      "find: ‘/home/jovyan/shared/regression/notebooks/H-Model-Development’: No such file or directory\n"
     ]
    }
   ],
   "source": [
    "!find /home/jovyan/shared/regression/notebooks/B-DataAnalyst -type f -exec rm -fR {} \\;\n",
    "!find /home/jovyan/shared/regression/notebooks/I-Image -type f -exec rm -fR {} \\;\n",
    "!find /home/jovyan/shared/regression/notebooks/H-Model-Development -type f -exec rm -fR {} \\;\n",
    "!rm -f /home/jovyan/shared/regression/PASSED"
   ]
  },
  {
   "cell_type": "markdown",
   "metadata": {},
   "source": [
    "### Configure regression run"
   ]
  },
  {
   "cell_type": "code",
   "execution_count": 5,
   "metadata": {},
   "outputs": [],
   "source": [
    "%%bash --out output --err error\n",
    "\n",
    "ls ../B-DataAnalyst/*.ipynb \n",
    "ls ../I-Image/*.ipynb\n",
    "ls ../H-Model-Development/*.ipynb"
   ]
  },
  {
   "cell_type": "code",
   "execution_count": 6,
   "metadata": {},
   "outputs": [
    {
     "data": {
      "text/plain": [
       "'../B-DataAnalyst/Example-1-SQL-Analysis-Athena.ipynb\\n../B-DataAnalyst/Example-2-SQL-Analysis-RedshiftSpectrum.ipynb\\n../B-DataAnalyst/Example-3-Spark-EMR-on-EKS.ipynb\\n../B-DataAnalyst/Example-4-Glue-Databrew.ipynb\\n../B-DataAnalyst/Example-6-Schedule-Notebook.ipynb\\n../B-DataAnalyst/Example-8-SDK-Controller-Sched.ipynb\\n../B-DataAnalyst/Example-90-Failure-Behavior.ipynb\\n../I-Image/Example-1-simple.ipynb\\n../I-Image/Example-2-spark.ipynb\\n../I-Image/Example-3-gpu.ipynb\\n../H-Model-Development/Example-1-SageMaker-xgboost_mnist.ipynb\\n../H-Model-Development/Example-2-SageMaker-Batch Transform - breast cancer prediction with high level SDK.ipynb\\n../H-Model-Development/Example-3-Ray Job Example.ipynb\\n../H-Model-Development/Example-4-Ray Tune Example.ipynb\\n'"
      ]
     },
     "execution_count": 6,
     "metadata": {},
     "output_type": "execute_result"
    }
   ],
   "source": [
    "output"
   ]
  },
  {
   "cell_type": "code",
   "execution_count": 7,
   "metadata": {},
   "outputs": [
    {
     "data": {
      "text/plain": [
       "{'black_list': [],\n",
       " 'white_list': [],\n",
       " 'optional_list': [],\n",
       " 'minimum_successful': 1,\n",
       " 'maxRetries': 3,\n",
       " 'notebooks_to_run': [{'folder': 'B-DataAnalyst',\n",
       "   'name': 'Example-1-SQL-Analysis-Athena'},\n",
       "  {'folder': 'B-DataAnalyst',\n",
       "   'name': 'Example-2-SQL-Analysis-RedshiftSpectrum'},\n",
       "  {'folder': 'B-DataAnalyst', 'name': 'Example-3-Spark-EMR-on-EKS'},\n",
       "  {'folder': 'B-DataAnalyst', 'name': 'Example-4-Glue-Databrew'},\n",
       "  {'folder': 'B-DataAnalyst', 'name': 'Example-6-Schedule-Notebook'},\n",
       "  {'folder': 'B-DataAnalyst', 'name': 'Example-8-SDK-Controller-Sched'},\n",
       "  {'folder': 'B-DataAnalyst', 'name': 'Example-90-Failure-Behavior'},\n",
       "  {'folder': 'I-Image', 'name': 'Example-1-simple'},\n",
       "  {'folder': 'I-Image', 'name': 'Example-2-spark'},\n",
       "  {'folder': 'I-Image', 'name': 'Example-3-gpu'},\n",
       "  {'folder': 'H-Model-Development',\n",
       "   'name': 'Example-1-SageMaker-xgboost_mnist'},\n",
       "  {'folder': 'H-Model-Development',\n",
       "   'name': 'Example-2-SageMaker-Batch Transform - breast cancer prediction with high level SDK'},\n",
       "  {'folder': 'H-Model-Development', 'name': 'Example-3-Ray Job Example'},\n",
       "  {'folder': 'H-Model-Development', 'name': 'Example-4-Ray Tune Example'}],\n",
       " 'sagemaker_notebooks_list': ['Example-1-xgboost_mnist',\n",
       "  'Example-4-Batch Transform - breast cancer prediction with high level SDK']}"
      ]
     },
     "execution_count": 7,
     "metadata": {},
     "output_type": "execute_result"
    }
   ],
   "source": [
    "notebooks_run_config = {\n",
    "    # a list of notebooks names to skip the execution for. Example: [\"Example-7-Data-Profiling\"]\n",
    "    \"black_list\": ['Example-3-Spark-EMR-on-EKS','Example-3-Ray Job Example','Example-4-Ray Tune Example'],\n",
    "    \"white_list\": [],          # if not empty, only those will run. Example: [\"Example-7-Data-Profiling\"]\n",
    "    \"optional_list\": [],       # indicates to ignoore a failure. Example: [\"Example-6-Schedule-Notebook\", \"Example-8-LakeFormation-Security\"]\n",
    "    \"minimum_successful\": 1,   # number of minimum notebooks to be completed to consider entire test not failed (has an effect when this number is larger than number of mandatory )\n",
    "    \"maxRetries\": 3,           # max number of attempts to execute a notebook\n",
    "    \"notebooks_to_run\": [],     # all noootebooks for execution.\n",
    "    \"sagemaker_notebooks_list\": [\"Example-1-xgboost_mnist\", \"Example-4-Batch Transform - breast cancer prediction with high level SDK\"] #sagemaker notebooks with small profile\n",
    "}\n",
    " \n",
    "for p in output.split('\\n'):\n",
    "    if (len(p)<2):\n",
    "        continue \n",
    "    parts = p.split('/')\n",
    "    nb_name, nb_folder = parts[2][::-1].split('.',1)[1][::-1], parts[1]\n",
    "    if nb_name in notebooks_run_config[\"black_list\"]:\n",
    "        # ignore white list. black list is having highest priority for filters\n",
    "        continue\n",
    "    if not notebooks_run_config[\"white_list\"] or nb_name in notebooks_run_config[\"white_list\"]:\n",
    "        # run notebook if white list is empty or if the notebook is in white list.\n",
    "        if nb_folder in [\"H-Model-Development\"]:\n",
    "            notebooks_run_config[\"notebooks_to_run\"].append({\"folder\": nb_folder, \"name\": nb_name, \"profile\": \"small\"})\n",
    "        else:\n",
    "            notebooks_run_config[\"notebooks_to_run\"].append({\"folder\": nb_folder, \"name\": nb_name})\n",
    "\n",
    "notebooks_run_config"
   ]
  },
  {
   "cell_type": "code",
   "execution_count": 8,
   "metadata": {},
   "outputs": [],
   "source": [
    "# New implementation of the cell below\n",
    "import time\n",
    "\n",
    "def start_notebooks(run_config):\n",
    "    _containers = []\n",
    "    for nb in run_config[\"notebooks_to_run\"]:\n",
    "        notebook_to_run = {\n",
    "            \"tasks\": [{\n",
    "                      \"notebookName\": \"{}.ipynb\".format(nb['name']),\n",
    "                      \"sourcePath\": f\"shared/samples/notebooks/{nb['folder']}\",\n",
    "                      \"targetPath\": \"shared/regression/notebooks/{}\".format(nb['folder']),\n",
    "                      \"params\": {\n",
    "                      }\n",
    "                    }],\n",
    "            \"compute\": {\n",
    "              \"container\" : {\n",
    "                  \"p_concurrent\": \"1\",\n",
    "                  \"profile\": \"small\"\n",
    "              },\n",
    "              \"node_type\": \"ec2\",\n",
    "              \"profile\": \"small\"\n",
    "            },\n",
    "        }\n",
    "        if \"profile\" in nb:\n",
    "            notebook_to_run[\"compute\"][\"profile\"] = nb[\"profile\"]\n",
    "\n",
    "        container = controller.run_notebooks(notebook_to_run)\n",
    "        print(\"notebookName: \" + str(container))\n",
    "        _containers.append(container)\n",
    "    return _containers\n",
    "\n",
    "\n",
    "def update_run_config(run_config, execution_results):\n",
    "    executed = run_config['notebooks_to_run']\n",
    "    run_config['notebooks_to_run'] = [] #reset notebooks for the next execution\n",
    "    \n",
    "    # if nothing failed\n",
    "    if not execution_results['failed']:\n",
    "        return run_config\n",
    "    \n",
    "    for nb in executed:\n",
    "        if nb['name'] in execution_results['failed']:\n",
    "            run_config['notebooks_to_run'].append(nb)\n",
    "    \n",
    "    return run_config"
   ]
  },
  {
   "cell_type": "code",
   "execution_count": 9,
   "metadata": {},
   "outputs": [],
   "source": [
    "def get_execution_results(run_config):\n",
    "    result = {\"success\": [], \"failed\": []}\n",
    "    for test in run_config['notebooks_to_run']:\n",
    "        executions = controller.get_execution_history(f\"shared/regression/notebooks/{test['folder']}\", f\"{test['name']}.ipynb\") \n",
    "        nb_name = test['name']\n",
    "        failed = False\n",
    "        for index, row in executions.iterrows():\n",
    "            res = row.get('relativePath')\n",
    "            nb_name,folder_name  = (os.path.basename(os.path.dirname(res)), \n",
    "                                    os.path.dirname(res))\n",
    "            if 'error@' in res:\n",
    "                if 'Failure-Behavior' not in folder_name:\n",
    "                    failed = True\n",
    "            else:\n",
    "                if 'Failure-Behavior'  in folder_name:\n",
    "                    failed = True    \n",
    "        if failed:\n",
    "            result[\"failed\"].append({\"folder\": folder_name, \"name\": nb_name})\n",
    "        else:\n",
    "            result[\"success\"].append({\"folder\": folder_name, \"name\": nb_name})\n",
    "    return result    "
   ]
  },
  {
   "cell_type": "code",
   "execution_count": 10,
   "metadata": {},
   "outputs": [],
   "source": [
    "notebooks_run_config[\"maxRetries\"] = 2"
   ]
  },
  {
   "cell_type": "code",
   "execution_count": null,
   "metadata": {},
   "outputs": [
    {
     "name": "stdout",
     "output_type": "stream",
     "text": [
      "Starting notebooks. Attempt 1. Run config: {'black_list': [], 'white_list': [], 'optional_list': [], 'minimum_successful': 1, 'maxRetries': 2, 'notebooks_to_run': [{'folder': 'B-DataAnalyst', 'name': 'Example-1-SQL-Analysis-Athena'}, {'folder': 'B-DataAnalyst', 'name': 'Example-2-SQL-Analysis-RedshiftSpectrum'}, {'folder': 'B-DataAnalyst', 'name': 'Example-3-Spark-EMR-on-EKS'}, {'folder': 'B-DataAnalyst', 'name': 'Example-4-Glue-Databrew'}, {'folder': 'B-DataAnalyst', 'name': 'Example-6-Schedule-Notebook'}, {'folder': 'B-DataAnalyst', 'name': 'Example-8-SDK-Controller-Sched'}, {'folder': 'B-DataAnalyst', 'name': 'Example-90-Failure-Behavior'}, {'folder': 'I-Image', 'name': 'Example-1-simple'}, {'folder': 'I-Image', 'name': 'Example-2-spark'}, {'folder': 'I-Image', 'name': 'Example-3-gpu'}, {'folder': 'H-Model-Development', 'name': 'Example-1-SageMaker-xgboost_mnist'}, {'folder': 'H-Model-Development', 'name': 'Example-2-SageMaker-Batch Transform - breast cancer prediction with high level SDK'}, {'folder': 'H-Model-Development', 'name': 'Example-3-Ray Job Example'}, {'folder': 'H-Model-Development', 'name': 'Example-4-Ray Tune Example'}], 'sagemaker_notebooks_list': ['Example-1-xgboost_mnist', 'Example-4-Batch Transform - breast cancer prediction with high level SDK']}\n"
     ]
    },
    {
     "name": "stderr",
     "output_type": "stream",
     "text": [
      "INFO:root:using default profile {'display_name': 'Micro', 'slug': 'micro', 'description': '2 CPU + 2G MEM', 'kubespawner_override': {'cpu_guarantee': 2, 'cpu_limit': 2, 'mem_guarantee': '2G', 'mem_limit': '2G'}, 'default': True}\n",
      "INFO:root:volumes:[]\n",
      "INFO:root:volume_mounts:[]\n"
     ]
    },
    {
     "name": "stdout",
     "output_type": "stream",
     "text": [
      "notebookName: {'ExecutionType': 'eks', 'Identifier': 'orbit-lake-user-ec2-runner-hhbv6', 'NodeType': 'ec2', 'tasks': [{'notebookName': 'Example-1-SQL-Analysis-Athena.ipynb', 'sourcePath': 'shared/samples/notebooks/B-DataAnalyst', 'targetPath': 'shared/regression/notebooks/B-DataAnalyst', 'params': {}}]}\n"
     ]
    },
    {
     "name": "stderr",
     "output_type": "stream",
     "text": [
      "INFO:root:using default profile {'display_name': 'Micro', 'slug': 'micro', 'description': '2 CPU + 2G MEM', 'kubespawner_override': {'cpu_guarantee': 2, 'cpu_limit': 2, 'mem_guarantee': '2G', 'mem_limit': '2G'}, 'default': True}\n",
      "INFO:root:volumes:[]\n",
      "INFO:root:volume_mounts:[]\n"
     ]
    },
    {
     "name": "stdout",
     "output_type": "stream",
     "text": [
      "notebookName: {'ExecutionType': 'eks', 'Identifier': 'orbit-lake-user-ec2-runner-rwdfg', 'NodeType': 'ec2', 'tasks': [{'notebookName': 'Example-2-SQL-Analysis-RedshiftSpectrum.ipynb', 'sourcePath': 'shared/samples/notebooks/B-DataAnalyst', 'targetPath': 'shared/regression/notebooks/B-DataAnalyst', 'params': {}}]}\n"
     ]
    },
    {
     "name": "stderr",
     "output_type": "stream",
     "text": [
      "INFO:root:using default profile {'display_name': 'Micro', 'slug': 'micro', 'description': '2 CPU + 2G MEM', 'kubespawner_override': {'cpu_guarantee': 2, 'cpu_limit': 2, 'mem_guarantee': '2G', 'mem_limit': '2G'}, 'default': True}\n",
      "INFO:root:volumes:[]\n",
      "INFO:root:volume_mounts:[]\n"
     ]
    },
    {
     "name": "stdout",
     "output_type": "stream",
     "text": [
      "notebookName: {'ExecutionType': 'eks', 'Identifier': 'orbit-lake-user-ec2-runner-lsbt9', 'NodeType': 'ec2', 'tasks': [{'notebookName': 'Example-3-Spark-EMR-on-EKS.ipynb', 'sourcePath': 'shared/samples/notebooks/B-DataAnalyst', 'targetPath': 'shared/regression/notebooks/B-DataAnalyst', 'params': {}}]}\n"
     ]
    },
    {
     "name": "stderr",
     "output_type": "stream",
     "text": [
      "INFO:root:using default profile {'display_name': 'Micro', 'slug': 'micro', 'description': '2 CPU + 2G MEM', 'kubespawner_override': {'cpu_guarantee': 2, 'cpu_limit': 2, 'mem_guarantee': '2G', 'mem_limit': '2G'}, 'default': True}\n",
      "INFO:root:volumes:[]\n",
      "INFO:root:volume_mounts:[]\n"
     ]
    },
    {
     "name": "stdout",
     "output_type": "stream",
     "text": [
      "notebookName: {'ExecutionType': 'eks', 'Identifier': 'orbit-lake-user-ec2-runner-v8h2r', 'NodeType': 'ec2', 'tasks': [{'notebookName': 'Example-4-Glue-Databrew.ipynb', 'sourcePath': 'shared/samples/notebooks/B-DataAnalyst', 'targetPath': 'shared/regression/notebooks/B-DataAnalyst', 'params': {}}]}\n"
     ]
    },
    {
     "name": "stderr",
     "output_type": "stream",
     "text": [
      "INFO:root:using default profile {'display_name': 'Micro', 'slug': 'micro', 'description': '2 CPU + 2G MEM', 'kubespawner_override': {'cpu_guarantee': 2, 'cpu_limit': 2, 'mem_guarantee': '2G', 'mem_limit': '2G'}, 'default': True}\n",
      "INFO:root:volumes:[]\n",
      "INFO:root:volume_mounts:[]\n"
     ]
    },
    {
     "name": "stdout",
     "output_type": "stream",
     "text": [
      "notebookName: {'ExecutionType': 'eks', 'Identifier': 'orbit-lake-user-ec2-runner-p47lt', 'NodeType': 'ec2', 'tasks': [{'notebookName': 'Example-6-Schedule-Notebook.ipynb', 'sourcePath': 'shared/samples/notebooks/B-DataAnalyst', 'targetPath': 'shared/regression/notebooks/B-DataAnalyst', 'params': {}}]}\n"
     ]
    },
    {
     "name": "stderr",
     "output_type": "stream",
     "text": [
      "INFO:root:using default profile {'display_name': 'Micro', 'slug': 'micro', 'description': '2 CPU + 2G MEM', 'kubespawner_override': {'cpu_guarantee': 2, 'cpu_limit': 2, 'mem_guarantee': '2G', 'mem_limit': '2G'}, 'default': True}\n",
      "INFO:root:volumes:[]\n",
      "INFO:root:volume_mounts:[]\n"
     ]
    },
    {
     "name": "stdout",
     "output_type": "stream",
     "text": [
      "notebookName: {'ExecutionType': 'eks', 'Identifier': 'orbit-lake-user-ec2-runner-42w5b', 'NodeType': 'ec2', 'tasks': [{'notebookName': 'Example-8-SDK-Controller-Sched.ipynb', 'sourcePath': 'shared/samples/notebooks/B-DataAnalyst', 'targetPath': 'shared/regression/notebooks/B-DataAnalyst', 'params': {}}]}\n"
     ]
    },
    {
     "name": "stderr",
     "output_type": "stream",
     "text": [
      "INFO:root:using default profile {'display_name': 'Micro', 'slug': 'micro', 'description': '2 CPU + 2G MEM', 'kubespawner_override': {'cpu_guarantee': 2, 'cpu_limit': 2, 'mem_guarantee': '2G', 'mem_limit': '2G'}, 'default': True}\n",
      "INFO:root:volumes:[]\n",
      "INFO:root:volume_mounts:[]\n"
     ]
    },
    {
     "name": "stdout",
     "output_type": "stream",
     "text": [
      "notebookName: {'ExecutionType': 'eks', 'Identifier': 'orbit-lake-user-ec2-runner-6nbfm', 'NodeType': 'ec2', 'tasks': [{'notebookName': 'Example-90-Failure-Behavior.ipynb', 'sourcePath': 'shared/samples/notebooks/B-DataAnalyst', 'targetPath': 'shared/regression/notebooks/B-DataAnalyst', 'params': {}}]}\n"
     ]
    },
    {
     "name": "stderr",
     "output_type": "stream",
     "text": [
      "INFO:root:using default profile {'display_name': 'Micro', 'slug': 'micro', 'description': '2 CPU + 2G MEM', 'kubespawner_override': {'cpu_guarantee': 2, 'cpu_limit': 2, 'mem_guarantee': '2G', 'mem_limit': '2G'}, 'default': True}\n",
      "INFO:root:volumes:[]\n",
      "INFO:root:volume_mounts:[]\n"
     ]
    },
    {
     "name": "stdout",
     "output_type": "stream",
     "text": [
      "notebookName: {'ExecutionType': 'eks', 'Identifier': 'orbit-lake-user-ec2-runner-k6jxx', 'NodeType': 'ec2', 'tasks': [{'notebookName': 'Example-1-simple.ipynb', 'sourcePath': 'shared/samples/notebooks/I-Image', 'targetPath': 'shared/regression/notebooks/I-Image', 'params': {}}]}\n"
     ]
    },
    {
     "name": "stderr",
     "output_type": "stream",
     "text": [
      "INFO:root:using default profile {'display_name': 'Micro', 'slug': 'micro', 'description': '2 CPU + 2G MEM', 'kubespawner_override': {'cpu_guarantee': 2, 'cpu_limit': 2, 'mem_guarantee': '2G', 'mem_limit': '2G'}, 'default': True}\n",
      "INFO:root:volumes:[]\n",
      "INFO:root:volume_mounts:[]\n"
     ]
    },
    {
     "name": "stdout",
     "output_type": "stream",
     "text": [
      "notebookName: {'ExecutionType': 'eks', 'Identifier': 'orbit-lake-user-ec2-runner-xrrqn', 'NodeType': 'ec2', 'tasks': [{'notebookName': 'Example-2-spark.ipynb', 'sourcePath': 'shared/samples/notebooks/I-Image', 'targetPath': 'shared/regression/notebooks/I-Image', 'params': {}}]}\n"
     ]
    },
    {
     "name": "stderr",
     "output_type": "stream",
     "text": [
      "INFO:root:using default profile {'display_name': 'Micro', 'slug': 'micro', 'description': '2 CPU + 2G MEM', 'kubespawner_override': {'cpu_guarantee': 2, 'cpu_limit': 2, 'mem_guarantee': '2G', 'mem_limit': '2G'}, 'default': True}\n",
      "INFO:root:volumes:[]\n",
      "INFO:root:volume_mounts:[]\n"
     ]
    },
    {
     "name": "stdout",
     "output_type": "stream",
     "text": [
      "notebookName: {'ExecutionType': 'eks', 'Identifier': 'orbit-lake-user-ec2-runner-99hpc', 'NodeType': 'ec2', 'tasks': [{'notebookName': 'Example-3-gpu.ipynb', 'sourcePath': 'shared/samples/notebooks/I-Image', 'targetPath': 'shared/regression/notebooks/I-Image', 'params': {}}]}\n"
     ]
    },
    {
     "name": "stderr",
     "output_type": "stream",
     "text": [
      "INFO:root:using default profile {'display_name': 'Micro', 'slug': 'micro', 'description': '2 CPU + 2G MEM', 'kubespawner_override': {'cpu_guarantee': 2, 'cpu_limit': 2, 'mem_guarantee': '2G', 'mem_limit': '2G'}, 'default': True}\n",
      "INFO:root:volumes:[]\n",
      "INFO:root:volume_mounts:[]\n"
     ]
    },
    {
     "name": "stdout",
     "output_type": "stream",
     "text": [
      "notebookName: {'ExecutionType': 'eks', 'Identifier': 'orbit-lake-user-ec2-runner-gnbzp', 'NodeType': 'ec2', 'tasks': [{'notebookName': 'Example-1-SageMaker-xgboost_mnist.ipynb', 'sourcePath': 'shared/samples/notebooks/H-Model-Development', 'targetPath': 'shared/regression/notebooks/H-Model-Development', 'params': {}}]}\n"
     ]
    },
    {
     "name": "stderr",
     "output_type": "stream",
     "text": [
      "INFO:root:using default profile {'display_name': 'Micro', 'slug': 'micro', 'description': '2 CPU + 2G MEM', 'kubespawner_override': {'cpu_guarantee': 2, 'cpu_limit': 2, 'mem_guarantee': '2G', 'mem_limit': '2G'}, 'default': True}\n",
      "INFO:root:volumes:[]\n",
      "INFO:root:volume_mounts:[]\n"
     ]
    },
    {
     "name": "stdout",
     "output_type": "stream",
     "text": [
      "notebookName: {'ExecutionType': 'eks', 'Identifier': 'orbit-lake-user-ec2-runner-v5kjj', 'NodeType': 'ec2', 'tasks': [{'notebookName': 'Example-2-SageMaker-Batch Transform - breast cancer prediction with high level SDK.ipynb', 'sourcePath': 'shared/samples/notebooks/H-Model-Development', 'targetPath': 'shared/regression/notebooks/H-Model-Development', 'params': {}}]}\n"
     ]
    },
    {
     "name": "stderr",
     "output_type": "stream",
     "text": [
      "INFO:root:using default profile {'display_name': 'Micro', 'slug': 'micro', 'description': '2 CPU + 2G MEM', 'kubespawner_override': {'cpu_guarantee': 2, 'cpu_limit': 2, 'mem_guarantee': '2G', 'mem_limit': '2G'}, 'default': True}\n",
      "INFO:root:volumes:[]\n",
      "INFO:root:volume_mounts:[]\n"
     ]
    },
    {
     "name": "stdout",
     "output_type": "stream",
     "text": [
      "notebookName: {'ExecutionType': 'eks', 'Identifier': 'orbit-lake-user-ec2-runner-fhx8f', 'NodeType': 'ec2', 'tasks': [{'notebookName': 'Example-3-Ray Job Example.ipynb', 'sourcePath': 'shared/samples/notebooks/H-Model-Development', 'targetPath': 'shared/regression/notebooks/H-Model-Development', 'params': {}}]}\n"
     ]
    },
    {
     "name": "stderr",
     "output_type": "stream",
     "text": [
      "INFO:root:using default profile {'display_name': 'Micro', 'slug': 'micro', 'description': '2 CPU + 2G MEM', 'kubespawner_override': {'cpu_guarantee': 2, 'cpu_limit': 2, 'mem_guarantee': '2G', 'mem_limit': '2G'}, 'default': True}\n",
      "INFO:root:volumes:[]\n",
      "INFO:root:volume_mounts:[]\n",
      "INFO:root:Waiting for 14 tasks [{'ExecutionType': 'eks', 'Identifier': 'orbit-lake-user-ec2-runner-hhbv6', 'NodeType': 'ec2', 'tasks': [{'notebookName': 'Example-1-SQL-Analysis-Athena.ipynb', 'sourcePath': 'shared/samples/notebooks/B-DataAnalyst', 'targetPath': 'shared/regression/notebooks/B-DataAnalyst', 'params': {}}]}, {'ExecutionType': 'eks', 'Identifier': 'orbit-lake-user-ec2-runner-rwdfg', 'NodeType': 'ec2', 'tasks': [{'notebookName': 'Example-2-SQL-Analysis-RedshiftSpectrum.ipynb', 'sourcePath': 'shared/samples/notebooks/B-DataAnalyst', 'targetPath': 'shared/regression/notebooks/B-DataAnalyst', 'params': {}}]}, {'ExecutionType': 'eks', 'Identifier': 'orbit-lake-user-ec2-runner-lsbt9', 'NodeType': 'ec2', 'tasks': [{'notebookName': 'Example-3-Spark-EMR-on-EKS.ipynb', 'sourcePath': 'shared/samples/notebooks/B-DataAnalyst', 'targetPath': 'shared/regression/notebooks/B-DataAnalyst', 'params': {}}]}, {'ExecutionType': 'eks', 'Identifier': 'orbit-lake-user-ec2-runner-v8h2r', 'NodeType': 'ec2', 'tasks': [{'notebookName': 'Example-4-Glue-Databrew.ipynb', 'sourcePath': 'shared/samples/notebooks/B-DataAnalyst', 'targetPath': 'shared/regression/notebooks/B-DataAnalyst', 'params': {}}]}, {'ExecutionType': 'eks', 'Identifier': 'orbit-lake-user-ec2-runner-p47lt', 'NodeType': 'ec2', 'tasks': [{'notebookName': 'Example-6-Schedule-Notebook.ipynb', 'sourcePath': 'shared/samples/notebooks/B-DataAnalyst', 'targetPath': 'shared/regression/notebooks/B-DataAnalyst', 'params': {}}]}, {'ExecutionType': 'eks', 'Identifier': 'orbit-lake-user-ec2-runner-42w5b', 'NodeType': 'ec2', 'tasks': [{'notebookName': 'Example-8-SDK-Controller-Sched.ipynb', 'sourcePath': 'shared/samples/notebooks/B-DataAnalyst', 'targetPath': 'shared/regression/notebooks/B-DataAnalyst', 'params': {}}]}, {'ExecutionType': 'eks', 'Identifier': 'orbit-lake-user-ec2-runner-6nbfm', 'NodeType': 'ec2', 'tasks': [{'notebookName': 'Example-90-Failure-Behavior.ipynb', 'sourcePath': 'shared/samples/notebooks/B-DataAnalyst', 'targetPath': 'shared/regression/notebooks/B-DataAnalyst', 'params': {}}]}, {'ExecutionType': 'eks', 'Identifier': 'orbit-lake-user-ec2-runner-k6jxx', 'NodeType': 'ec2', 'tasks': [{'notebookName': 'Example-1-simple.ipynb', 'sourcePath': 'shared/samples/notebooks/I-Image', 'targetPath': 'shared/regression/notebooks/I-Image', 'params': {}}]}, {'ExecutionType': 'eks', 'Identifier': 'orbit-lake-user-ec2-runner-xrrqn', 'NodeType': 'ec2', 'tasks': [{'notebookName': 'Example-2-spark.ipynb', 'sourcePath': 'shared/samples/notebooks/I-Image', 'targetPath': 'shared/regression/notebooks/I-Image', 'params': {}}]}, {'ExecutionType': 'eks', 'Identifier': 'orbit-lake-user-ec2-runner-99hpc', 'NodeType': 'ec2', 'tasks': [{'notebookName': 'Example-3-gpu.ipynb', 'sourcePath': 'shared/samples/notebooks/I-Image', 'targetPath': 'shared/regression/notebooks/I-Image', 'params': {}}]}, {'ExecutionType': 'eks', 'Identifier': 'orbit-lake-user-ec2-runner-gnbzp', 'NodeType': 'ec2', 'tasks': [{'notebookName': 'Example-1-SageMaker-xgboost_mnist.ipynb', 'sourcePath': 'shared/samples/notebooks/H-Model-Development', 'targetPath': 'shared/regression/notebooks/H-Model-Development', 'params': {}}]}, {'ExecutionType': 'eks', 'Identifier': 'orbit-lake-user-ec2-runner-v5kjj', 'NodeType': 'ec2', 'tasks': [{'notebookName': 'Example-2-SageMaker-Batch Transform - breast cancer prediction with high level SDK.ipynb', 'sourcePath': 'shared/samples/notebooks/H-Model-Development', 'targetPath': 'shared/regression/notebooks/H-Model-Development', 'params': {}}]}, {'ExecutionType': 'eks', 'Identifier': 'orbit-lake-user-ec2-runner-fhx8f', 'NodeType': 'ec2', 'tasks': [{'notebookName': 'Example-3-Ray Job Example.ipynb', 'sourcePath': 'shared/samples/notebooks/H-Model-Development', 'targetPath': 'shared/regression/notebooks/H-Model-Development', 'params': {}}]}, {'ExecutionType': 'eks', 'Identifier': 'orbit-lake-user-ec2-runner-c6gqz', 'NodeType': 'ec2', 'tasks': [{'notebookName': 'Example-4-Ray Tune Example.ipynb', 'sourcePath': 'shared/samples/notebooks/H-Model-Development', 'targetPath': 'shared/regression/notebooks/H-Model-Development', 'params': {}}]}]\n",
      "INFO:root:Task {'ExecutionType': 'eks', 'Identifier': 'orbit-lake-user-ec2-runner-hhbv6', 'NodeType': 'ec2', 'tasks': [{'notebookName': 'Example-1-SQL-Analysis-Athena.ipynb', 'sourcePath': 'shared/samples/notebooks/B-DataAnalyst', 'targetPath': 'shared/regression/notebooks/B-DataAnalyst', 'params': {}}]} is running with status {'active': 1,\n",
      " 'completion_time': None,\n",
      " 'conditions': None,\n",
      " 'failed': None,\n",
      " 'start_time': datetime.datetime(2021, 5, 20, 12, 39, 2, tzinfo=tzlocal()),\n",
      " 'succeeded': None}\n",
      "INFO:root:Task {'ExecutionType': 'eks', 'Identifier': 'orbit-lake-user-ec2-runner-rwdfg', 'NodeType': 'ec2', 'tasks': [{'notebookName': 'Example-2-SQL-Analysis-RedshiftSpectrum.ipynb', 'sourcePath': 'shared/samples/notebooks/B-DataAnalyst', 'targetPath': 'shared/regression/notebooks/B-DataAnalyst', 'params': {}}]} is running with status {'active': 1,\n",
      " 'completion_time': None,\n",
      " 'conditions': None,\n",
      " 'failed': None,\n",
      " 'start_time': datetime.datetime(2021, 5, 20, 12, 39, 5, tzinfo=tzlocal()),\n",
      " 'succeeded': None}\n",
      "INFO:root:Task {'ExecutionType': 'eks', 'Identifier': 'orbit-lake-user-ec2-runner-lsbt9', 'NodeType': 'ec2', 'tasks': [{'notebookName': 'Example-3-Spark-EMR-on-EKS.ipynb', 'sourcePath': 'shared/samples/notebooks/B-DataAnalyst', 'targetPath': 'shared/regression/notebooks/B-DataAnalyst', 'params': {}}]} is running with status {'active': 1,\n",
      " 'completion_time': None,\n",
      " 'conditions': None,\n",
      " 'failed': None,\n",
      " 'start_time': datetime.datetime(2021, 5, 20, 12, 39, 7, tzinfo=tzlocal()),\n",
      " 'succeeded': None}\n",
      "INFO:root:Task {'ExecutionType': 'eks', 'Identifier': 'orbit-lake-user-ec2-runner-v8h2r', 'NodeType': 'ec2', 'tasks': [{'notebookName': 'Example-4-Glue-Databrew.ipynb', 'sourcePath': 'shared/samples/notebooks/B-DataAnalyst', 'targetPath': 'shared/regression/notebooks/B-DataAnalyst', 'params': {}}]} is running with status {'active': 1,\n",
      " 'completion_time': None,\n",
      " 'conditions': None,\n",
      " 'failed': None,\n",
      " 'start_time': datetime.datetime(2021, 5, 20, 12, 39, 9, tzinfo=tzlocal()),\n",
      " 'succeeded': None}\n",
      "INFO:root:Task {'ExecutionType': 'eks', 'Identifier': 'orbit-lake-user-ec2-runner-p47lt', 'NodeType': 'ec2', 'tasks': [{'notebookName': 'Example-6-Schedule-Notebook.ipynb', 'sourcePath': 'shared/samples/notebooks/B-DataAnalyst', 'targetPath': 'shared/regression/notebooks/B-DataAnalyst', 'params': {}}]} is running with status {'active': 1,\n",
      " 'completion_time': None,\n",
      " 'conditions': None,\n",
      " 'failed': None,\n",
      " 'start_time': datetime.datetime(2021, 5, 20, 12, 39, 11, tzinfo=tzlocal()),\n",
      " 'succeeded': None}\n",
      "INFO:root:Task {'ExecutionType': 'eks', 'Identifier': 'orbit-lake-user-ec2-runner-42w5b', 'NodeType': 'ec2', 'tasks': [{'notebookName': 'Example-8-SDK-Controller-Sched.ipynb', 'sourcePath': 'shared/samples/notebooks/B-DataAnalyst', 'targetPath': 'shared/regression/notebooks/B-DataAnalyst', 'params': {}}]} is running with status {'active': 1,\n",
      " 'completion_time': None,\n",
      " 'conditions': None,\n",
      " 'failed': None,\n",
      " 'start_time': datetime.datetime(2021, 5, 20, 12, 39, 13, tzinfo=tzlocal()),\n",
      " 'succeeded': None}\n"
     ]
    },
    {
     "name": "stdout",
     "output_type": "stream",
     "text": [
      "notebookName: {'ExecutionType': 'eks', 'Identifier': 'orbit-lake-user-ec2-runner-c6gqz', 'NodeType': 'ec2', 'tasks': [{'notebookName': 'Example-4-Ray Tune Example.ipynb', 'sourcePath': 'shared/samples/notebooks/H-Model-Development', 'targetPath': 'shared/regression/notebooks/H-Model-Development', 'params': {}}]}\n"
     ]
    },
    {
     "name": "stderr",
     "output_type": "stream",
     "text": [
      "INFO:root:Task {'ExecutionType': 'eks', 'Identifier': 'orbit-lake-user-ec2-runner-6nbfm', 'NodeType': 'ec2', 'tasks': [{'notebookName': 'Example-90-Failure-Behavior.ipynb', 'sourcePath': 'shared/samples/notebooks/B-DataAnalyst', 'targetPath': 'shared/regression/notebooks/B-DataAnalyst', 'params': {}}]} is running with status {'active': 1,\n",
      " 'completion_time': None,\n",
      " 'conditions': None,\n",
      " 'failed': None,\n",
      " 'start_time': datetime.datetime(2021, 5, 20, 12, 39, 15, tzinfo=tzlocal()),\n",
      " 'succeeded': None}\n",
      "INFO:root:Task {'ExecutionType': 'eks', 'Identifier': 'orbit-lake-user-ec2-runner-k6jxx', 'NodeType': 'ec2', 'tasks': [{'notebookName': 'Example-1-simple.ipynb', 'sourcePath': 'shared/samples/notebooks/I-Image', 'targetPath': 'shared/regression/notebooks/I-Image', 'params': {}}]} is running with status {'active': 1,\n",
      " 'completion_time': None,\n",
      " 'conditions': None,\n",
      " 'failed': None,\n",
      " 'start_time': datetime.datetime(2021, 5, 20, 12, 39, 17, tzinfo=tzlocal()),\n",
      " 'succeeded': None}\n",
      "INFO:root:Task {'ExecutionType': 'eks', 'Identifier': 'orbit-lake-user-ec2-runner-xrrqn', 'NodeType': 'ec2', 'tasks': [{'notebookName': 'Example-2-spark.ipynb', 'sourcePath': 'shared/samples/notebooks/I-Image', 'targetPath': 'shared/regression/notebooks/I-Image', 'params': {}}]} is running with status {'active': 1,\n",
      " 'completion_time': None,\n",
      " 'conditions': None,\n",
      " 'failed': None,\n",
      " 'start_time': datetime.datetime(2021, 5, 20, 12, 39, 19, tzinfo=tzlocal()),\n",
      " 'succeeded': None}\n",
      "INFO:root:Task {'ExecutionType': 'eks', 'Identifier': 'orbit-lake-user-ec2-runner-99hpc', 'NodeType': 'ec2', 'tasks': [{'notebookName': 'Example-3-gpu.ipynb', 'sourcePath': 'shared/samples/notebooks/I-Image', 'targetPath': 'shared/regression/notebooks/I-Image', 'params': {}}]} is running with status {'active': 1,\n",
      " 'completion_time': None,\n",
      " 'conditions': None,\n",
      " 'failed': None,\n",
      " 'start_time': datetime.datetime(2021, 5, 20, 12, 39, 21, tzinfo=tzlocal()),\n",
      " 'succeeded': None}\n",
      "INFO:root:Task {'ExecutionType': 'eks', 'Identifier': 'orbit-lake-user-ec2-runner-gnbzp', 'NodeType': 'ec2', 'tasks': [{'notebookName': 'Example-1-SageMaker-xgboost_mnist.ipynb', 'sourcePath': 'shared/samples/notebooks/H-Model-Development', 'targetPath': 'shared/regression/notebooks/H-Model-Development', 'params': {}}]} is running with status {'active': 1,\n",
      " 'completion_time': None,\n",
      " 'conditions': None,\n",
      " 'failed': None,\n",
      " 'start_time': datetime.datetime(2021, 5, 20, 12, 39, 23, tzinfo=tzlocal()),\n",
      " 'succeeded': None}\n",
      "INFO:root:Task {'ExecutionType': 'eks', 'Identifier': 'orbit-lake-user-ec2-runner-v5kjj', 'NodeType': 'ec2', 'tasks': [{'notebookName': 'Example-2-SageMaker-Batch Transform - breast cancer prediction with high level SDK.ipynb', 'sourcePath': 'shared/samples/notebooks/H-Model-Development', 'targetPath': 'shared/regression/notebooks/H-Model-Development', 'params': {}}]} is running with status {'active': 1,\n",
      " 'completion_time': None,\n",
      " 'conditions': None,\n",
      " 'failed': None,\n",
      " 'start_time': datetime.datetime(2021, 5, 20, 12, 39, 25, tzinfo=tzlocal()),\n",
      " 'succeeded': None}\n",
      "INFO:root:Task {'ExecutionType': 'eks', 'Identifier': 'orbit-lake-user-ec2-runner-fhx8f', 'NodeType': 'ec2', 'tasks': [{'notebookName': 'Example-3-Ray Job Example.ipynb', 'sourcePath': 'shared/samples/notebooks/H-Model-Development', 'targetPath': 'shared/regression/notebooks/H-Model-Development', 'params': {}}]} is running with status {'active': 1,\n",
      " 'completion_time': None,\n",
      " 'conditions': None,\n",
      " 'failed': None,\n",
      " 'start_time': datetime.datetime(2021, 5, 20, 12, 39, 26, tzinfo=tzlocal()),\n",
      " 'succeeded': None}\n",
      "INFO:root:Task {'ExecutionType': 'eks', 'Identifier': 'orbit-lake-user-ec2-runner-c6gqz', 'NodeType': 'ec2', 'tasks': [{'notebookName': 'Example-4-Ray Tune Example.ipynb', 'sourcePath': 'shared/samples/notebooks/H-Model-Development', 'targetPath': 'shared/regression/notebooks/H-Model-Development', 'params': {}}]} is running with status {'active': 1,\n",
      " 'completion_time': None,\n",
      " 'conditions': None,\n",
      " 'failed': None,\n",
      " 'start_time': datetime.datetime(2021, 5, 20, 12, 39, 28, tzinfo=tzlocal()),\n",
      " 'succeeded': None}\n",
      "INFO:root:Running: 14 Completed: 0 Errored: 0\n",
      "INFO:root:waiting for [{'ExecutionType': 'eks', 'Identifier': 'orbit-lake-user-ec2-runner-hhbv6', 'NodeType': 'ec2', 'tasks': [{'notebookName': 'Example-1-SQL-Analysis-Athena.ipynb', 'sourcePath': 'shared/samples/notebooks/B-DataAnalyst', 'targetPath': 'shared/regression/notebooks/B-DataAnalyst', 'params': {}}]}, {'ExecutionType': 'eks', 'Identifier': 'orbit-lake-user-ec2-runner-rwdfg', 'NodeType': 'ec2', 'tasks': [{'notebookName': 'Example-2-SQL-Analysis-RedshiftSpectrum.ipynb', 'sourcePath': 'shared/samples/notebooks/B-DataAnalyst', 'targetPath': 'shared/regression/notebooks/B-DataAnalyst', 'params': {}}]}, {'ExecutionType': 'eks', 'Identifier': 'orbit-lake-user-ec2-runner-lsbt9', 'NodeType': 'ec2', 'tasks': [{'notebookName': 'Example-3-Spark-EMR-on-EKS.ipynb', 'sourcePath': 'shared/samples/notebooks/B-DataAnalyst', 'targetPath': 'shared/regression/notebooks/B-DataAnalyst', 'params': {}}]}, {'ExecutionType': 'eks', 'Identifier': 'orbit-lake-user-ec2-runner-v8h2r', 'NodeType': 'ec2', 'tasks': [{'notebookName': 'Example-4-Glue-Databrew.ipynb', 'sourcePath': 'shared/samples/notebooks/B-DataAnalyst', 'targetPath': 'shared/regression/notebooks/B-DataAnalyst', 'params': {}}]}, {'ExecutionType': 'eks', 'Identifier': 'orbit-lake-user-ec2-runner-p47lt', 'NodeType': 'ec2', 'tasks': [{'notebookName': 'Example-6-Schedule-Notebook.ipynb', 'sourcePath': 'shared/samples/notebooks/B-DataAnalyst', 'targetPath': 'shared/regression/notebooks/B-DataAnalyst', 'params': {}}]}, {'ExecutionType': 'eks', 'Identifier': 'orbit-lake-user-ec2-runner-42w5b', 'NodeType': 'ec2', 'tasks': [{'notebookName': 'Example-8-SDK-Controller-Sched.ipynb', 'sourcePath': 'shared/samples/notebooks/B-DataAnalyst', 'targetPath': 'shared/regression/notebooks/B-DataAnalyst', 'params': {}}]}, {'ExecutionType': 'eks', 'Identifier': 'orbit-lake-user-ec2-runner-6nbfm', 'NodeType': 'ec2', 'tasks': [{'notebookName': 'Example-90-Failure-Behavior.ipynb', 'sourcePath': 'shared/samples/notebooks/B-DataAnalyst', 'targetPath': 'shared/regression/notebooks/B-DataAnalyst', 'params': {}}]}, {'ExecutionType': 'eks', 'Identifier': 'orbit-lake-user-ec2-runner-k6jxx', 'NodeType': 'ec2', 'tasks': [{'notebookName': 'Example-1-simple.ipynb', 'sourcePath': 'shared/samples/notebooks/I-Image', 'targetPath': 'shared/regression/notebooks/I-Image', 'params': {}}]}, {'ExecutionType': 'eks', 'Identifier': 'orbit-lake-user-ec2-runner-xrrqn', 'NodeType': 'ec2', 'tasks': [{'notebookName': 'Example-2-spark.ipynb', 'sourcePath': 'shared/samples/notebooks/I-Image', 'targetPath': 'shared/regression/notebooks/I-Image', 'params': {}}]}, {'ExecutionType': 'eks', 'Identifier': 'orbit-lake-user-ec2-runner-99hpc', 'NodeType': 'ec2', 'tasks': [{'notebookName': 'Example-3-gpu.ipynb', 'sourcePath': 'shared/samples/notebooks/I-Image', 'targetPath': 'shared/regression/notebooks/I-Image', 'params': {}}]}, {'ExecutionType': 'eks', 'Identifier': 'orbit-lake-user-ec2-runner-gnbzp', 'NodeType': 'ec2', 'tasks': [{'notebookName': 'Example-1-SageMaker-xgboost_mnist.ipynb', 'sourcePath': 'shared/samples/notebooks/H-Model-Development', 'targetPath': 'shared/regression/notebooks/H-Model-Development', 'params': {}}]}, {'ExecutionType': 'eks', 'Identifier': 'orbit-lake-user-ec2-runner-v5kjj', 'NodeType': 'ec2', 'tasks': [{'notebookName': 'Example-2-SageMaker-Batch Transform - breast cancer prediction with high level SDK.ipynb', 'sourcePath': 'shared/samples/notebooks/H-Model-Development', 'targetPath': 'shared/regression/notebooks/H-Model-Development', 'params': {}}]}, {'ExecutionType': 'eks', 'Identifier': 'orbit-lake-user-ec2-runner-fhx8f', 'NodeType': 'ec2', 'tasks': [{'notebookName': 'Example-3-Ray Job Example.ipynb', 'sourcePath': 'shared/samples/notebooks/H-Model-Development', 'targetPath': 'shared/regression/notebooks/H-Model-Development', 'params': {}}]}, {'ExecutionType': 'eks', 'Identifier': 'orbit-lake-user-ec2-runner-c6gqz', 'NodeType': 'ec2', 'tasks': [{'notebookName': 'Example-4-Ray Tune Example.ipynb', 'sourcePath': 'shared/samples/notebooks/H-Model-Development', 'targetPath': 'shared/regression/notebooks/H-Model-Development', 'params': {}}]}]\n",
      "INFO:root:Task {'ExecutionType': 'eks', 'Identifier': 'orbit-lake-user-ec2-runner-rwdfg', 'NodeType': 'ec2', 'tasks': [{'notebookName': 'Example-2-SQL-Analysis-RedshiftSpectrum.ipynb', 'sourcePath': 'shared/samples/notebooks/B-DataAnalyst', 'targetPath': 'shared/regression/notebooks/B-DataAnalyst', 'params': {}}]} is running with status {'active': 1,\n",
      " 'completion_time': None,\n",
      " 'conditions': None,\n",
      " 'failed': None,\n",
      " 'start_time': datetime.datetime(2021, 5, 20, 12, 39, 5, tzinfo=tzlocal()),\n",
      " 'succeeded': None}\n",
      "INFO:root:Task {'ExecutionType': 'eks', 'Identifier': 'orbit-lake-user-ec2-runner-lsbt9', 'NodeType': 'ec2', 'tasks': [{'notebookName': 'Example-3-Spark-EMR-on-EKS.ipynb', 'sourcePath': 'shared/samples/notebooks/B-DataAnalyst', 'targetPath': 'shared/regression/notebooks/B-DataAnalyst', 'params': {}}]} is running with status {'active': 1,\n",
      " 'completion_time': None,\n",
      " 'conditions': None,\n",
      " 'failed': None,\n",
      " 'start_time': datetime.datetime(2021, 5, 20, 12, 39, 7, tzinfo=tzlocal()),\n",
      " 'succeeded': None}\n",
      "INFO:root:Task {'ExecutionType': 'eks', 'Identifier': 'orbit-lake-user-ec2-runner-v8h2r', 'NodeType': 'ec2', 'tasks': [{'notebookName': 'Example-4-Glue-Databrew.ipynb', 'sourcePath': 'shared/samples/notebooks/B-DataAnalyst', 'targetPath': 'shared/regression/notebooks/B-DataAnalyst', 'params': {}}]} is running with status {'active': 1,\n",
      " 'completion_time': None,\n",
      " 'conditions': None,\n",
      " 'failed': None,\n",
      " 'start_time': datetime.datetime(2021, 5, 20, 12, 39, 9, tzinfo=tzlocal()),\n",
      " 'succeeded': None}\n",
      "INFO:root:Task {'ExecutionType': 'eks', 'Identifier': 'orbit-lake-user-ec2-runner-p47lt', 'NodeType': 'ec2', 'tasks': [{'notebookName': 'Example-6-Schedule-Notebook.ipynb', 'sourcePath': 'shared/samples/notebooks/B-DataAnalyst', 'targetPath': 'shared/regression/notebooks/B-DataAnalyst', 'params': {}}]} is running with status {'active': 1,\n",
      " 'completion_time': None,\n",
      " 'conditions': None,\n",
      " 'failed': None,\n",
      " 'start_time': datetime.datetime(2021, 5, 20, 12, 39, 11, tzinfo=tzlocal()),\n",
      " 'succeeded': None}\n",
      "INFO:root:Task {'ExecutionType': 'eks', 'Identifier': 'orbit-lake-user-ec2-runner-42w5b', 'NodeType': 'ec2', 'tasks': [{'notebookName': 'Example-8-SDK-Controller-Sched.ipynb', 'sourcePath': 'shared/samples/notebooks/B-DataAnalyst', 'targetPath': 'shared/regression/notebooks/B-DataAnalyst', 'params': {}}]} is running with status {'active': 1,\n",
      " 'completion_time': None,\n",
      " 'conditions': None,\n",
      " 'failed': None,\n",
      " 'start_time': datetime.datetime(2021, 5, 20, 12, 39, 13, tzinfo=tzlocal()),\n",
      " 'succeeded': None}\n",
      "INFO:root:Task {'ExecutionType': 'eks', 'Identifier': 'orbit-lake-user-ec2-runner-6nbfm', 'NodeType': 'ec2', 'tasks': [{'notebookName': 'Example-90-Failure-Behavior.ipynb', 'sourcePath': 'shared/samples/notebooks/B-DataAnalyst', 'targetPath': 'shared/regression/notebooks/B-DataAnalyst', 'params': {}}]} is running with status {'active': 1,\n",
      " 'completion_time': None,\n",
      " 'conditions': None,\n",
      " 'failed': None,\n",
      " 'start_time': datetime.datetime(2021, 5, 20, 12, 39, 15, tzinfo=tzlocal()),\n",
      " 'succeeded': None}\n",
      "INFO:root:Task {'ExecutionType': 'eks', 'Identifier': 'orbit-lake-user-ec2-runner-k6jxx', 'NodeType': 'ec2', 'tasks': [{'notebookName': 'Example-1-simple.ipynb', 'sourcePath': 'shared/samples/notebooks/I-Image', 'targetPath': 'shared/regression/notebooks/I-Image', 'params': {}}]} is running with status {'active': 1,\n",
      " 'completion_time': None,\n",
      " 'conditions': None,\n",
      " 'failed': None,\n",
      " 'start_time': datetime.datetime(2021, 5, 20, 12, 39, 17, tzinfo=tzlocal()),\n",
      " 'succeeded': None}\n",
      "INFO:root:Task {'ExecutionType': 'eks', 'Identifier': 'orbit-lake-user-ec2-runner-xrrqn', 'NodeType': 'ec2', 'tasks': [{'notebookName': 'Example-2-spark.ipynb', 'sourcePath': 'shared/samples/notebooks/I-Image', 'targetPath': 'shared/regression/notebooks/I-Image', 'params': {}}]} is running with status {'active': 1,\n",
      " 'completion_time': None,\n",
      " 'conditions': None,\n",
      " 'failed': None,\n",
      " 'start_time': datetime.datetime(2021, 5, 20, 12, 39, 19, tzinfo=tzlocal()),\n",
      " 'succeeded': None}\n",
      "INFO:root:Task {'ExecutionType': 'eks', 'Identifier': 'orbit-lake-user-ec2-runner-99hpc', 'NodeType': 'ec2', 'tasks': [{'notebookName': 'Example-3-gpu.ipynb', 'sourcePath': 'shared/samples/notebooks/I-Image', 'targetPath': 'shared/regression/notebooks/I-Image', 'params': {}}]} is running with status {'active': 1,\n",
      " 'completion_time': None,\n",
      " 'conditions': None,\n",
      " 'failed': None,\n",
      " 'start_time': datetime.datetime(2021, 5, 20, 12, 39, 21, tzinfo=tzlocal()),\n",
      " 'succeeded': None}\n",
      "INFO:root:Task {'ExecutionType': 'eks', 'Identifier': 'orbit-lake-user-ec2-runner-gnbzp', 'NodeType': 'ec2', 'tasks': [{'notebookName': 'Example-1-SageMaker-xgboost_mnist.ipynb', 'sourcePath': 'shared/samples/notebooks/H-Model-Development', 'targetPath': 'shared/regression/notebooks/H-Model-Development', 'params': {}}]} is running with status {'active': 1,\n",
      " 'completion_time': None,\n",
      " 'conditions': None,\n",
      " 'failed': None,\n",
      " 'start_time': datetime.datetime(2021, 5, 20, 12, 39, 23, tzinfo=tzlocal()),\n",
      " 'succeeded': None}\n",
      "INFO:root:Task {'ExecutionType': 'eks', 'Identifier': 'orbit-lake-user-ec2-runner-v5kjj', 'NodeType': 'ec2', 'tasks': [{'notebookName': 'Example-2-SageMaker-Batch Transform - breast cancer prediction with high level SDK.ipynb', 'sourcePath': 'shared/samples/notebooks/H-Model-Development', 'targetPath': 'shared/regression/notebooks/H-Model-Development', 'params': {}}]} is running with status {'active': 1,\n",
      " 'completion_time': None,\n",
      " 'conditions': None,\n",
      " 'failed': None,\n",
      " 'start_time': datetime.datetime(2021, 5, 20, 12, 39, 25, tzinfo=tzlocal()),\n",
      " 'succeeded': None}\n",
      "INFO:root:Task {'ExecutionType': 'eks', 'Identifier': 'orbit-lake-user-ec2-runner-fhx8f', 'NodeType': 'ec2', 'tasks': [{'notebookName': 'Example-3-Ray Job Example.ipynb', 'sourcePath': 'shared/samples/notebooks/H-Model-Development', 'targetPath': 'shared/regression/notebooks/H-Model-Development', 'params': {}}]} is running with status {'active': 1,\n",
      " 'completion_time': None,\n",
      " 'conditions': None,\n",
      " 'failed': None,\n",
      " 'start_time': datetime.datetime(2021, 5, 20, 12, 39, 26, tzinfo=tzlocal()),\n",
      " 'succeeded': None}\n",
      "INFO:root:Task {'ExecutionType': 'eks', 'Identifier': 'orbit-lake-user-ec2-runner-c6gqz', 'NodeType': 'ec2', 'tasks': [{'notebookName': 'Example-4-Ray Tune Example.ipynb', 'sourcePath': 'shared/samples/notebooks/H-Model-Development', 'targetPath': 'shared/regression/notebooks/H-Model-Development', 'params': {}}]} is running with status {'active': 1,\n",
      " 'completion_time': None,\n",
      " 'conditions': None,\n",
      " 'failed': None,\n",
      " 'start_time': datetime.datetime(2021, 5, 20, 12, 39, 28, tzinfo=tzlocal()),\n",
      " 'succeeded': None}\n",
      "INFO:root:Running: 13 Completed: 1 Errored: 0\n",
      "INFO:root:waiting for [{'ExecutionType': 'eks', 'Identifier': 'orbit-lake-user-ec2-runner-rwdfg', 'NodeType': 'ec2', 'tasks': [{'notebookName': 'Example-2-SQL-Analysis-RedshiftSpectrum.ipynb', 'sourcePath': 'shared/samples/notebooks/B-DataAnalyst', 'targetPath': 'shared/regression/notebooks/B-DataAnalyst', 'params': {}}]}, {'ExecutionType': 'eks', 'Identifier': 'orbit-lake-user-ec2-runner-lsbt9', 'NodeType': 'ec2', 'tasks': [{'notebookName': 'Example-3-Spark-EMR-on-EKS.ipynb', 'sourcePath': 'shared/samples/notebooks/B-DataAnalyst', 'targetPath': 'shared/regression/notebooks/B-DataAnalyst', 'params': {}}]}, {'ExecutionType': 'eks', 'Identifier': 'orbit-lake-user-ec2-runner-v8h2r', 'NodeType': 'ec2', 'tasks': [{'notebookName': 'Example-4-Glue-Databrew.ipynb', 'sourcePath': 'shared/samples/notebooks/B-DataAnalyst', 'targetPath': 'shared/regression/notebooks/B-DataAnalyst', 'params': {}}]}, {'ExecutionType': 'eks', 'Identifier': 'orbit-lake-user-ec2-runner-p47lt', 'NodeType': 'ec2', 'tasks': [{'notebookName': 'Example-6-Schedule-Notebook.ipynb', 'sourcePath': 'shared/samples/notebooks/B-DataAnalyst', 'targetPath': 'shared/regression/notebooks/B-DataAnalyst', 'params': {}}]}, {'ExecutionType': 'eks', 'Identifier': 'orbit-lake-user-ec2-runner-42w5b', 'NodeType': 'ec2', 'tasks': [{'notebookName': 'Example-8-SDK-Controller-Sched.ipynb', 'sourcePath': 'shared/samples/notebooks/B-DataAnalyst', 'targetPath': 'shared/regression/notebooks/B-DataAnalyst', 'params': {}}]}, {'ExecutionType': 'eks', 'Identifier': 'orbit-lake-user-ec2-runner-6nbfm', 'NodeType': 'ec2', 'tasks': [{'notebookName': 'Example-90-Failure-Behavior.ipynb', 'sourcePath': 'shared/samples/notebooks/B-DataAnalyst', 'targetPath': 'shared/regression/notebooks/B-DataAnalyst', 'params': {}}]}, {'ExecutionType': 'eks', 'Identifier': 'orbit-lake-user-ec2-runner-k6jxx', 'NodeType': 'ec2', 'tasks': [{'notebookName': 'Example-1-simple.ipynb', 'sourcePath': 'shared/samples/notebooks/I-Image', 'targetPath': 'shared/regression/notebooks/I-Image', 'params': {}}]}, {'ExecutionType': 'eks', 'Identifier': 'orbit-lake-user-ec2-runner-xrrqn', 'NodeType': 'ec2', 'tasks': [{'notebookName': 'Example-2-spark.ipynb', 'sourcePath': 'shared/samples/notebooks/I-Image', 'targetPath': 'shared/regression/notebooks/I-Image', 'params': {}}]}, {'ExecutionType': 'eks', 'Identifier': 'orbit-lake-user-ec2-runner-99hpc', 'NodeType': 'ec2', 'tasks': [{'notebookName': 'Example-3-gpu.ipynb', 'sourcePath': 'shared/samples/notebooks/I-Image', 'targetPath': 'shared/regression/notebooks/I-Image', 'params': {}}]}, {'ExecutionType': 'eks', 'Identifier': 'orbit-lake-user-ec2-runner-gnbzp', 'NodeType': 'ec2', 'tasks': [{'notebookName': 'Example-1-SageMaker-xgboost_mnist.ipynb', 'sourcePath': 'shared/samples/notebooks/H-Model-Development', 'targetPath': 'shared/regression/notebooks/H-Model-Development', 'params': {}}]}, {'ExecutionType': 'eks', 'Identifier': 'orbit-lake-user-ec2-runner-v5kjj', 'NodeType': 'ec2', 'tasks': [{'notebookName': 'Example-2-SageMaker-Batch Transform - breast cancer prediction with high level SDK.ipynb', 'sourcePath': 'shared/samples/notebooks/H-Model-Development', 'targetPath': 'shared/regression/notebooks/H-Model-Development', 'params': {}}]}, {'ExecutionType': 'eks', 'Identifier': 'orbit-lake-user-ec2-runner-fhx8f', 'NodeType': 'ec2', 'tasks': [{'notebookName': 'Example-3-Ray Job Example.ipynb', 'sourcePath': 'shared/samples/notebooks/H-Model-Development', 'targetPath': 'shared/regression/notebooks/H-Model-Development', 'params': {}}]}, {'ExecutionType': 'eks', 'Identifier': 'orbit-lake-user-ec2-runner-c6gqz', 'NodeType': 'ec2', 'tasks': [{'notebookName': 'Example-4-Ray Tune Example.ipynb', 'sourcePath': 'shared/samples/notebooks/H-Model-Development', 'targetPath': 'shared/regression/notebooks/H-Model-Development', 'params': {}}]}]\n",
      "INFO:root:Task {'ExecutionType': 'eks', 'Identifier': 'orbit-lake-user-ec2-runner-rwdfg', 'NodeType': 'ec2', 'tasks': [{'notebookName': 'Example-2-SQL-Analysis-RedshiftSpectrum.ipynb', 'sourcePath': 'shared/samples/notebooks/B-DataAnalyst', 'targetPath': 'shared/regression/notebooks/B-DataAnalyst', 'params': {}}]} is running with status {'active': 1,\n",
      " 'completion_time': None,\n",
      " 'conditions': None,\n",
      " 'failed': None,\n",
      " 'start_time': datetime.datetime(2021, 5, 20, 12, 39, 5, tzinfo=tzlocal()),\n",
      " 'succeeded': None}\n",
      "INFO:root:Task {'ExecutionType': 'eks', 'Identifier': 'orbit-lake-user-ec2-runner-lsbt9', 'NodeType': 'ec2', 'tasks': [{'notebookName': 'Example-3-Spark-EMR-on-EKS.ipynb', 'sourcePath': 'shared/samples/notebooks/B-DataAnalyst', 'targetPath': 'shared/regression/notebooks/B-DataAnalyst', 'params': {}}]} is running with status {'active': 1,\n",
      " 'completion_time': None,\n",
      " 'conditions': None,\n",
      " 'failed': None,\n",
      " 'start_time': datetime.datetime(2021, 5, 20, 12, 39, 7, tzinfo=tzlocal()),\n",
      " 'succeeded': None}\n",
      "INFO:root:Task {'ExecutionType': 'eks', 'Identifier': 'orbit-lake-user-ec2-runner-p47lt', 'NodeType': 'ec2', 'tasks': [{'notebookName': 'Example-6-Schedule-Notebook.ipynb', 'sourcePath': 'shared/samples/notebooks/B-DataAnalyst', 'targetPath': 'shared/regression/notebooks/B-DataAnalyst', 'params': {}}]} is running with status {'active': 1,\n",
      " 'completion_time': None,\n",
      " 'conditions': None,\n",
      " 'failed': None,\n",
      " 'start_time': datetime.datetime(2021, 5, 20, 12, 39, 11, tzinfo=tzlocal()),\n",
      " 'succeeded': None}\n",
      "INFO:root:Task {'ExecutionType': 'eks', 'Identifier': 'orbit-lake-user-ec2-runner-k6jxx', 'NodeType': 'ec2', 'tasks': [{'notebookName': 'Example-1-simple.ipynb', 'sourcePath': 'shared/samples/notebooks/I-Image', 'targetPath': 'shared/regression/notebooks/I-Image', 'params': {}}]} is running with status {'active': 1,\n",
      " 'completion_time': None,\n",
      " 'conditions': None,\n",
      " 'failed': None,\n",
      " 'start_time': datetime.datetime(2021, 5, 20, 12, 39, 17, tzinfo=tzlocal()),\n",
      " 'succeeded': None}\n",
      "INFO:root:Task {'ExecutionType': 'eks', 'Identifier': 'orbit-lake-user-ec2-runner-xrrqn', 'NodeType': 'ec2', 'tasks': [{'notebookName': 'Example-2-spark.ipynb', 'sourcePath': 'shared/samples/notebooks/I-Image', 'targetPath': 'shared/regression/notebooks/I-Image', 'params': {}}]} is running with status {'active': 1,\n",
      " 'completion_time': None,\n",
      " 'conditions': None,\n",
      " 'failed': None,\n",
      " 'start_time': datetime.datetime(2021, 5, 20, 12, 39, 19, tzinfo=tzlocal()),\n",
      " 'succeeded': None}\n",
      "INFO:root:Task {'ExecutionType': 'eks', 'Identifier': 'orbit-lake-user-ec2-runner-99hpc', 'NodeType': 'ec2', 'tasks': [{'notebookName': 'Example-3-gpu.ipynb', 'sourcePath': 'shared/samples/notebooks/I-Image', 'targetPath': 'shared/regression/notebooks/I-Image', 'params': {}}]} is running with status {'active': 1,\n",
      " 'completion_time': None,\n",
      " 'conditions': None,\n",
      " 'failed': None,\n",
      " 'start_time': datetime.datetime(2021, 5, 20, 12, 39, 21, tzinfo=tzlocal()),\n",
      " 'succeeded': None}\n",
      "INFO:root:Task {'ExecutionType': 'eks', 'Identifier': 'orbit-lake-user-ec2-runner-gnbzp', 'NodeType': 'ec2', 'tasks': [{'notebookName': 'Example-1-SageMaker-xgboost_mnist.ipynb', 'sourcePath': 'shared/samples/notebooks/H-Model-Development', 'targetPath': 'shared/regression/notebooks/H-Model-Development', 'params': {}}]} is running with status {'active': 1,\n",
      " 'completion_time': None,\n",
      " 'conditions': None,\n",
      " 'failed': None,\n",
      " 'start_time': datetime.datetime(2021, 5, 20, 12, 39, 23, tzinfo=tzlocal()),\n",
      " 'succeeded': None}\n",
      "INFO:root:Task {'ExecutionType': 'eks', 'Identifier': 'orbit-lake-user-ec2-runner-v5kjj', 'NodeType': 'ec2', 'tasks': [{'notebookName': 'Example-2-SageMaker-Batch Transform - breast cancer prediction with high level SDK.ipynb', 'sourcePath': 'shared/samples/notebooks/H-Model-Development', 'targetPath': 'shared/regression/notebooks/H-Model-Development', 'params': {}}]} is running with status {'active': 1,\n",
      " 'completion_time': None,\n",
      " 'conditions': None,\n",
      " 'failed': None,\n",
      " 'start_time': datetime.datetime(2021, 5, 20, 12, 39, 25, tzinfo=tzlocal()),\n",
      " 'succeeded': None}\n",
      "INFO:root:Task {'ExecutionType': 'eks', 'Identifier': 'orbit-lake-user-ec2-runner-fhx8f', 'NodeType': 'ec2', 'tasks': [{'notebookName': 'Example-3-Ray Job Example.ipynb', 'sourcePath': 'shared/samples/notebooks/H-Model-Development', 'targetPath': 'shared/regression/notebooks/H-Model-Development', 'params': {}}]} is running with status {'active': 1,\n",
      " 'completion_time': None,\n",
      " 'conditions': None,\n",
      " 'failed': None,\n",
      " 'start_time': datetime.datetime(2021, 5, 20, 12, 39, 26, tzinfo=tzlocal()),\n",
      " 'succeeded': None}\n",
      "INFO:root:Task {'ExecutionType': 'eks', 'Identifier': 'orbit-lake-user-ec2-runner-c6gqz', 'NodeType': 'ec2', 'tasks': [{'notebookName': 'Example-4-Ray Tune Example.ipynb', 'sourcePath': 'shared/samples/notebooks/H-Model-Development', 'targetPath': 'shared/regression/notebooks/H-Model-Development', 'params': {}}]} is running with status {'active': 1,\n",
      " 'completion_time': None,\n",
      " 'conditions': None,\n",
      " 'failed': None,\n",
      " 'start_time': datetime.datetime(2021, 5, 20, 12, 39, 28, tzinfo=tzlocal()),\n",
      " 'succeeded': None}\n",
      "INFO:root:Running: 10 Completed: 2 Errored: 2\n",
      "INFO:root:waiting for [{'ExecutionType': 'eks', 'Identifier': 'orbit-lake-user-ec2-runner-rwdfg', 'NodeType': 'ec2', 'tasks': [{'notebookName': 'Example-2-SQL-Analysis-RedshiftSpectrum.ipynb', 'sourcePath': 'shared/samples/notebooks/B-DataAnalyst', 'targetPath': 'shared/regression/notebooks/B-DataAnalyst', 'params': {}}]}, {'ExecutionType': 'eks', 'Identifier': 'orbit-lake-user-ec2-runner-lsbt9', 'NodeType': 'ec2', 'tasks': [{'notebookName': 'Example-3-Spark-EMR-on-EKS.ipynb', 'sourcePath': 'shared/samples/notebooks/B-DataAnalyst', 'targetPath': 'shared/regression/notebooks/B-DataAnalyst', 'params': {}}]}, {'ExecutionType': 'eks', 'Identifier': 'orbit-lake-user-ec2-runner-p47lt', 'NodeType': 'ec2', 'tasks': [{'notebookName': 'Example-6-Schedule-Notebook.ipynb', 'sourcePath': 'shared/samples/notebooks/B-DataAnalyst', 'targetPath': 'shared/regression/notebooks/B-DataAnalyst', 'params': {}}]}, {'ExecutionType': 'eks', 'Identifier': 'orbit-lake-user-ec2-runner-k6jxx', 'NodeType': 'ec2', 'tasks': [{'notebookName': 'Example-1-simple.ipynb', 'sourcePath': 'shared/samples/notebooks/I-Image', 'targetPath': 'shared/regression/notebooks/I-Image', 'params': {}}]}, {'ExecutionType': 'eks', 'Identifier': 'orbit-lake-user-ec2-runner-xrrqn', 'NodeType': 'ec2', 'tasks': [{'notebookName': 'Example-2-spark.ipynb', 'sourcePath': 'shared/samples/notebooks/I-Image', 'targetPath': 'shared/regression/notebooks/I-Image', 'params': {}}]}, {'ExecutionType': 'eks', 'Identifier': 'orbit-lake-user-ec2-runner-99hpc', 'NodeType': 'ec2', 'tasks': [{'notebookName': 'Example-3-gpu.ipynb', 'sourcePath': 'shared/samples/notebooks/I-Image', 'targetPath': 'shared/regression/notebooks/I-Image', 'params': {}}]}, {'ExecutionType': 'eks', 'Identifier': 'orbit-lake-user-ec2-runner-gnbzp', 'NodeType': 'ec2', 'tasks': [{'notebookName': 'Example-1-SageMaker-xgboost_mnist.ipynb', 'sourcePath': 'shared/samples/notebooks/H-Model-Development', 'targetPath': 'shared/regression/notebooks/H-Model-Development', 'params': {}}]}, {'ExecutionType': 'eks', 'Identifier': 'orbit-lake-user-ec2-runner-v5kjj', 'NodeType': 'ec2', 'tasks': [{'notebookName': 'Example-2-SageMaker-Batch Transform - breast cancer prediction with high level SDK.ipynb', 'sourcePath': 'shared/samples/notebooks/H-Model-Development', 'targetPath': 'shared/regression/notebooks/H-Model-Development', 'params': {}}]}, {'ExecutionType': 'eks', 'Identifier': 'orbit-lake-user-ec2-runner-fhx8f', 'NodeType': 'ec2', 'tasks': [{'notebookName': 'Example-3-Ray Job Example.ipynb', 'sourcePath': 'shared/samples/notebooks/H-Model-Development', 'targetPath': 'shared/regression/notebooks/H-Model-Development', 'params': {}}]}, {'ExecutionType': 'eks', 'Identifier': 'orbit-lake-user-ec2-runner-c6gqz', 'NodeType': 'ec2', 'tasks': [{'notebookName': 'Example-4-Ray Tune Example.ipynb', 'sourcePath': 'shared/samples/notebooks/H-Model-Development', 'targetPath': 'shared/regression/notebooks/H-Model-Development', 'params': {}}]}]\n"
     ]
    }
   ],
   "source": [
    "%%time\n",
    "success = False\n",
    "attempt = 0\n",
    "run_config = notebooks_run_config\n",
    "containers = []\n",
    "while(attempt < notebooks_run_config[\"maxRetries\"] and not success):\n",
    "    attempt += 1\n",
    "    print(f\"Starting notebooks. Attempt {attempt}. Run config: {run_config}\")\n",
    "    containers = start_notebooks(run_config)\n",
    "    controller.wait_for_tasks_to_complete(containers, 120,45, False)\n",
    "    results = get_execution_results(run_config)\n",
    "    print(f'Attemp {attempt} finished. Results: {results}')\n",
    "    run_config = update_run_config(run_config, results)\n",
    "    success = not run_config[\"notebooks_to_run\"]\n"
   ]
  },
  {
   "cell_type": "code",
   "execution_count": null,
   "metadata": {},
   "outputs": [],
   "source": [
    "%%time\n",
    "controller.wait_for_tasks_to_complete(containers, 120,45, False)"
   ]
  },
  {
   "cell_type": "code",
   "execution_count": null,
   "metadata": {},
   "outputs": [],
   "source": [
    "results"
   ]
  },
  {
   "cell_type": "code",
   "execution_count": null,
   "metadata": {},
   "outputs": [],
   "source": [
    "if len(results['failed']) > 0:\n",
    "    topicArn = ssm.get_parameter(Name=\"Orbit-Slack-Notifications\")[\"Parameter\"][\"Value\"]\n",
    "    unmar_topicArn = json.loads(topicArn)\n",
    "    try:\n",
    "        response = sns.get_topic_attributes(\n",
    "            TopicArn=unmar_topicArn['TopicArn']\n",
    "        )\n",
    "        d={}\n",
    "        d['message']=results['failed']\n",
    "        response = sns.publish(\n",
    "            TopicArn=str(unmar_topicArn['TopicArn']),\n",
    "            Message=json.dumps({'default': json.dumps(d)}),\n",
    "            Subject='string',\n",
    "            MessageStructure='json'\n",
    "        )\n",
    "    except ClientError as ex:\n",
    "        if ex.response['Error']['Code'] == 'NotFoundException':\n",
    "            print (\"SNS Topic doesnt exist\")\n",
    "\n",
    "assert len(results['failed']) == 0"
   ]
  },
  {
   "cell_type": "code",
   "execution_count": null,
   "metadata": {},
   "outputs": [],
   "source": [
    "!echo \"PASSED\" >> /home/jovyan/shared/regression/PASSED\n",
    "!ls /home/jovyan/shared/regression/\n",
    "!sleep 15s"
   ]
  },
  {
   "cell_type": "markdown",
   "metadata": {},
   "source": [
    "# End of notebook\n"
   ]
  }
 ],
 "metadata": {
  "celltoolbar": "Tags",
  "kernelspec": {
   "display_name": "Python 3",
   "language": "python",
   "name": "python3"
  },
  "language_info": {
   "codemirror_mode": {
    "name": "ipython",
    "version": 3
   },
   "file_extension": ".py",
   "mimetype": "text/x-python",
   "name": "python",
   "nbconvert_exporter": "python",
   "pygments_lexer": "ipython3",
   "version": "3.8.8"
  }
 },
 "nbformat": 4,
 "nbformat_minor": 4
}