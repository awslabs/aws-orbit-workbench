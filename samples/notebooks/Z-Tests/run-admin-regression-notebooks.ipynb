{
 "cells": [
  {
   "cell_type": "markdown",
   "metadata": {},
   "source": [
    "# Master test notebook to run all user notebooks\n",
    "    \n",
    "\n",
    "### Author: AWS Professional Services Emerging Technology and Intelligent Platforms Group\n",
    "### Date: Feb 4 2021"
   ]
  },
  {
   "cell_type": "code",
   "execution_count": 1,
   "metadata": {},
   "outputs": [],
   "source": [
    "import os\n",
    "import sys\n",
    "import boto3\n",
    "from aws_orbit_sdk import controller\n",
    "from aws_orbit_sdk.common import get_workspace,get_scratch_database\n",
    "s3 = boto3.client('s3')\n"
   ]
  },
  {
   "cell_type": "code",
   "execution_count": 2,
   "metadata": {},
   "outputs": [
    {
     "data": {
      "text/plain": [
       "('lake-creator', 'orbit-foundation-dev-env-public-scratch-495869084367-f23514')"
      ]
     },
     "execution_count": 2,
     "metadata": {},
     "output_type": "execute_result"
    }
   ],
   "source": [
    "workspace = get_workspace()\n",
    "scratch_glue_db = get_scratch_database()\n",
    "team_space = workspace['team_space']\n",
    "# DO NOT RUN THIS NOTEBOOK IN LAKE CREATOR TEAM SPACE \n",
    "assert team_space == 'lake-creator'\n",
    "scratch_bucket = workspace['ScratchBucket']\n",
    "(team_space, scratch_bucket, )"
   ]
  },
  {
   "cell_type": "code",
   "execution_count": 3,
   "metadata": {},
   "outputs": [],
   "source": [
    "def checkNotebooks(executions, expected_count):\n",
    "    assert len(executions) == expected_count\n",
    "    for index, row in executions.iterrows():\n",
    "        if 'error@' in row['relativePath']:\n",
    "            raise AssertionError('error in ' + row['relativePath'])\n",
    "    print(\"SUCCESS\")"
   ]
  },
  {
   "cell_type": "markdown",
   "metadata": {},
   "source": [
    "### Cleanup"
   ]
  },
  {
   "cell_type": "code",
   "execution_count": 4,
   "metadata": {
    "collapsed": false,
    "jupyter": {
     "outputs_hidden": false
    },
    "pycharm": {
     "name": "#%%\n"
    }
   },
   "outputs": [],
   "source": [
    "!find /efs/shared/regression/notebooks/M-Admin -type f -exec rm -fR {} \\;\n",
    "!rm -f /efs/shared/regression/ADMIN_PASSED"
   ]
  },
  {
   "cell_type": "markdown",
   "metadata": {},
   "source": [
    "### Configure regression run"
   ]
  },
  {
   "cell_type": "code",
   "execution_count": 5,
   "metadata": {},
   "outputs": [],
   "source": [
    "%%bash --out output --err error\n",
    "\n",
    "ls ../M-Admin/*.ipynb "
   ]
  },
  {
   "cell_type": "code",
   "execution_count": 6,
   "metadata": {},
   "outputs": [
    {
     "data": {
      "text/plain": [
       "'../M-Admin/1-EBS.ipynb\\n../M-Admin/2-Image_with_apps.ipynb\\n../M-Admin/3-FSX.ipynb\\n../M-Admin/4-querybook.ipynb\\n'"
      ]
     },
     "execution_count": 6,
     "metadata": {},
     "output_type": "execute_result"
    }
   ],
   "source": [
    "output"
   ]
  },
  {
   "cell_type": "code",
   "execution_count": 7,
   "metadata": {},
   "outputs": [
    {
     "data": {
      "text/plain": [
       "{'black_list': [],\n",
       " 'white_list': [],\n",
       " 'optional_list': [],\n",
       " 'minimum_successful': 1,\n",
       " 'maxRetries': 3,\n",
       " 'notebooks_to_run': [{'folder': 'M-Admin', 'name': '1-EBS'},\n",
       "  {'folder': 'M-Admin', 'name': '2-Image_with_apps'},\n",
       "  {'folder': 'M-Admin', 'name': '3-FSX'},\n",
       "  {'folder': 'M-Admin', 'name': '4-querybook'}]}"
      ]
     },
     "execution_count": 7,
     "metadata": {},
     "output_type": "execute_result"
    }
   ],
   "source": [
    "notebooks_run_config = {\n",
    "    \"black_list\": [\"3-FSX\"],   # a list of notebooks names to skip the execution for. Example: [\"Example-7-Data-Profiling\"]\n",
    "    \"white_list\": [],          # if not empty, only those will run. Example: [\"Example-7-Data-Profiling\"]\n",
    "    \"optional_list\": [],       # indicates to ignoore a failure. Example: [\"Example-6-Schedule-Notebook\", \"Example-8-LakeFormation-Security\"]\n",
    "    \"minimum_successful\": 1,   # number of minimum notebooks to be completed to consider entire test not failed (has an effect when this number is larger than number of mandatory )\n",
    "    \"maxRetries\": 3,           # max number of attempts to execute a notebook\n",
    "    \"notebooks_to_run\": []     # all noootebooks for execution.\n",
    "}\n",
    " \n",
    "for p in output.split('\\n'):\n",
    "    if (len(p)<2):\n",
    "        continue \n",
    "    parts = p.split('/')\n",
    "    nb_name, nb_folder = parts[2][::-1].split('.',1)[1][::-1], parts[1]\n",
    "    if nb_name in notebooks_run_config[\"black_list\"]:\n",
    "        # ignore white list. black list is having highest priority for filters\n",
    "        continue\n",
    "    if not notebooks_run_config[\"white_list\"] or nb_name in notebooks_run_config[\"white_list\"]:\n",
    "        # run notebook if white list is empty or if the notebook is in white list.\n",
    "        notebooks_run_config[\"notebooks_to_run\"].append({\"folder\": nb_folder, \"name\": nb_name})\n",
    "notebooks_run_config"
   ]
  },
  {
   "cell_type": "code",
   "execution_count": 8,
   "metadata": {},
   "outputs": [],
   "source": [
    "# New implementation of the cell below\n",
    "import time\n",
    "\n",
    "def start_notebooks(run_config):\n",
    "    _containers = []\n",
    "    for nb in run_config[\"notebooks_to_run\"]:\n",
    "        notebook_to_run = {\n",
    "            \"tasks\": [{\n",
    "                      \"notebookName\": \"{}.ipynb\".format(nb['name']),\n",
    "                      \"sourcePath\": f\"shared/samples/notebooks/{nb['folder']}\",\n",
    "                      \"targetPath\": \"shared/regression/notebooks/{}\".format(nb['folder']),\n",
    "                      \"params\": {\n",
    "                      }\n",
    "                    }],\n",
    "            \"compute\": {\n",
    "              \"container\" : {\n",
    "                  \"p_concurrent\": \"1\"\n",
    "              },\n",
    "              \"node_type\": \"ec2\"\n",
    "            },\n",
    "        }\n",
    "\n",
    "        container = controller.run_notebooks(notebook_to_run)\n",
    "        print(\"notebookName: \" + str(container))\n",
    "        _containers.append(container)\n",
    "    return _containers\n",
    "\n",
    "\n",
    "def update_run_config(run_config, execution_results):\n",
    "    executed = run_config['notebooks_to_run']\n",
    "    run_config['notebooks_to_run'] = [] #reset notebooks for the next execution\n",
    "    \n",
    "    # if nothing failed\n",
    "    if not execution_results['failed']:\n",
    "        return run_config\n",
    "    \n",
    "    for nb in executed:\n",
    "        if nb['name'] in execution_results['failed']:\n",
    "            run_config['notebooks_to_run'].append(nb)\n",
    "    \n",
    "    return run_config"
   ]
  },
  {
   "cell_type": "code",
   "execution_count": 9,
   "metadata": {},
   "outputs": [],
   "source": [
    "def get_execution_results(run_config):\n",
    "    result = {\"success\": [], \"failed\": []}\n",
    "    for test in run_config['notebooks_to_run']:\n",
    "        executions = controller.get_execution_history(f\"shared/regression/notebooks/{test['folder']}\", f\"{test['name']}.ipynb\") \n",
    "        nb_name = test['name']\n",
    "        failed = False\n",
    "        for index, row in executions.iterrows():\n",
    "            res = row.get('relativePath')\n",
    "            nb_name,folder_name  = (os.path.basename(os.path.dirname(res)), \n",
    "                                    os.path.dirname(res))\n",
    "            if 'error@' in res:\n",
    "                if 'Failure-Behavior' not in folder_name:\n",
    "                    failed = True\n",
    "            else:\n",
    "                if 'Failure-Behavior'  in folder_name:\n",
    "                    failed = True    \n",
    "        if failed:\n",
    "            result[\"failed\"].append({\"folder\": folder_name, \"name\": nb_name})\n",
    "        else:\n",
    "            result[\"success\"].append({\"folder\": folder_name, \"name\": nb_name})\n",
    "    return result    "
   ]
  },
  {
   "cell_type": "code",
   "execution_count": 10,
   "metadata": {},
   "outputs": [],
   "source": [
    "notebooks_run_config[\"maxRetries\"] = 2"
   ]
  },
  {
   "cell_type": "code",
   "execution_count": 11,
   "metadata": {},
   "outputs": [
    {
     "name": "stdout",
     "output_type": "stream",
     "text": [
      "Starting notebooks. Attempt 1. Run config: {'black_list': [], 'white_list': [], 'optional_list': [], 'minimum_successful': 1, 'maxRetries': 2, 'notebooks_to_run': [{'folder': 'M-Admin', 'name': '1-EBS'}, {'folder': 'M-Admin', 'name': '2-Image_with_apps'}, {'folder': 'M-Admin', 'name': '3-FSX'}, {'folder': 'M-Admin', 'name': '4-querybook'}]}\n"
     ]
    },
    {
     "name": "stderr",
     "output_type": "stream",
     "text": [
      "INFO:root:using default profile {'display_name': 'Micro', 'slug': 'micro', 'description': '2 CPU + 2G MEM', 'kubespawner_override': {'cpu_guarantee': 2, 'cpu_limit': 2, 'mem_guarantee': '2G', 'mem_limit': '2G'}, 'default': True}\n",
      "INFO:root:volumes:[{\"name\": \"efs-volume\", \"persistentVolumeClaim\": {\"claimName\": \"jupyterhub\"}}]\n",
      "INFO:root:volume_mounts:[{\"mountPath\": \"/efs\", \"name\": \"efs-volume\"}]\n"
     ]
    },
    {
     "name": "stdout",
     "output_type": "stream",
     "text": [
      "notebookName: {'ExecutionType': 'eks', 'Identifier': 'orbit-lake-creator-ec2-runner-5v7hh', 'NodeType': 'ec2', 'tasks': [{'notebookName': '1-EBS.ipynb', 'sourcePath': 'shared/samples/notebooks/M-Admin', 'targetPath': 'shared/regression/notebooks/M-Admin', 'params': {}}]}\n"
     ]
    },
    {
     "name": "stderr",
     "output_type": "stream",
     "text": [
      "INFO:root:using default profile {'display_name': 'Micro', 'slug': 'micro', 'description': '2 CPU + 2G MEM', 'kubespawner_override': {'cpu_guarantee': 2, 'cpu_limit': 2, 'mem_guarantee': '2G', 'mem_limit': '2G'}, 'default': True}\n",
      "INFO:root:volumes:[{\"name\": \"efs-volume\", \"persistentVolumeClaim\": {\"claimName\": \"jupyterhub\"}}]\n",
      "INFO:root:volume_mounts:[{\"mountPath\": \"/efs\", \"name\": \"efs-volume\"}]\n"
     ]
    },
    {
     "name": "stdout",
     "output_type": "stream",
     "text": [
      "notebookName: {'ExecutionType': 'eks', 'Identifier': 'orbit-lake-creator-ec2-runner-tj6lq', 'NodeType': 'ec2', 'tasks': [{'notebookName': '2-Image_with_apps.ipynb', 'sourcePath': 'shared/samples/notebooks/M-Admin', 'targetPath': 'shared/regression/notebooks/M-Admin', 'params': {}}]}\n"
     ]
    },
    {
     "name": "stderr",
     "output_type": "stream",
     "text": [
      "INFO:root:using default profile {'display_name': 'Micro', 'slug': 'micro', 'description': '2 CPU + 2G MEM', 'kubespawner_override': {'cpu_guarantee': 2, 'cpu_limit': 2, 'mem_guarantee': '2G', 'mem_limit': '2G'}, 'default': True}\n",
      "INFO:root:volumes:[{\"name\": \"efs-volume\", \"persistentVolumeClaim\": {\"claimName\": \"jupyterhub\"}}]\n",
      "INFO:root:volume_mounts:[{\"mountPath\": \"/efs\", \"name\": \"efs-volume\"}]\n"
     ]
    },
    {
     "name": "stdout",
     "output_type": "stream",
     "text": [
      "notebookName: {'ExecutionType': 'eks', 'Identifier': 'orbit-lake-creator-ec2-runner-4jbkd', 'NodeType': 'ec2', 'tasks': [{'notebookName': '3-FSX.ipynb', 'sourcePath': 'shared/samples/notebooks/M-Admin', 'targetPath': 'shared/regression/notebooks/M-Admin', 'params': {}}]}\n"
     ]
    },
    {
     "name": "stderr",
     "output_type": "stream",
     "text": [
      "INFO:root:using default profile {'display_name': 'Micro', 'slug': 'micro', 'description': '2 CPU + 2G MEM', 'kubespawner_override': {'cpu_guarantee': 2, 'cpu_limit': 2, 'mem_guarantee': '2G', 'mem_limit': '2G'}, 'default': True}\n",
      "INFO:root:volumes:[{\"name\": \"efs-volume\", \"persistentVolumeClaim\": {\"claimName\": \"jupyterhub\"}}]\n",
      "INFO:root:volume_mounts:[{\"mountPath\": \"/efs\", \"name\": \"efs-volume\"}]\n",
      "INFO:root:Waiting2 for 4 tasks [{'ExecutionType': 'eks', 'Identifier': 'orbit-lake-creator-ec2-runner-5v7hh', 'NodeType': 'ec2', 'tasks': [{'notebookName': '1-EBS.ipynb', 'sourcePath': 'shared/samples/notebooks/M-Admin', 'targetPath': 'shared/regression/notebooks/M-Admin', 'params': {}}]}, {'ExecutionType': 'eks', 'Identifier': 'orbit-lake-creator-ec2-runner-tj6lq', 'NodeType': 'ec2', 'tasks': [{'notebookName': '2-Image_with_apps.ipynb', 'sourcePath': 'shared/samples/notebooks/M-Admin', 'targetPath': 'shared/regression/notebooks/M-Admin', 'params': {}}]}, {'ExecutionType': 'eks', 'Identifier': 'orbit-lake-creator-ec2-runner-4jbkd', 'NodeType': 'ec2', 'tasks': [{'notebookName': '3-FSX.ipynb', 'sourcePath': 'shared/samples/notebooks/M-Admin', 'targetPath': 'shared/regression/notebooks/M-Admin', 'params': {}}]}, {'ExecutionType': 'eks', 'Identifier': 'orbit-lake-creator-ec2-runner-mrbvm', 'NodeType': 'ec2', 'tasks': [{'notebookName': '4-querybook.ipynb', 'sourcePath': 'shared/samples/notebooks/M-Admin', 'targetPath': 'shared/regression/notebooks/M-Admin', 'params': {}}]}]\n",
      "INFO:root:Task {'ExecutionType': 'eks', 'Identifier': 'orbit-lake-creator-ec2-runner-5v7hh', 'NodeType': 'ec2', 'tasks': [{'notebookName': '1-EBS.ipynb', 'sourcePath': 'shared/samples/notebooks/M-Admin', 'targetPath': 'shared/regression/notebooks/M-Admin', 'params': {}}]} is running with status {'active': 1,\n",
      " 'completion_time': None,\n",
      " 'conditions': None,\n",
      " 'failed': None,\n",
      " 'start_time': datetime.datetime(2021, 4, 16, 2, 59, 57, tzinfo=tzlocal()),\n",
      " 'succeeded': None}\n",
      "INFO:root:Task {'ExecutionType': 'eks', 'Identifier': 'orbit-lake-creator-ec2-runner-tj6lq', 'NodeType': 'ec2', 'tasks': [{'notebookName': '2-Image_with_apps.ipynb', 'sourcePath': 'shared/samples/notebooks/M-Admin', 'targetPath': 'shared/regression/notebooks/M-Admin', 'params': {}}]} is running with status {'active': 1,\n",
      " 'completion_time': None,\n",
      " 'conditions': None,\n",
      " 'failed': None,\n",
      " 'start_time': datetime.datetime(2021, 4, 16, 2, 59, 58, tzinfo=tzlocal()),\n",
      " 'succeeded': None}\n",
      "INFO:root:Task {'ExecutionType': 'eks', 'Identifier': 'orbit-lake-creator-ec2-runner-4jbkd', 'NodeType': 'ec2', 'tasks': [{'notebookName': '3-FSX.ipynb', 'sourcePath': 'shared/samples/notebooks/M-Admin', 'targetPath': 'shared/regression/notebooks/M-Admin', 'params': {}}]} is running with status {'active': 1,\n",
      " 'completion_time': None,\n",
      " 'conditions': None,\n",
      " 'failed': None,\n",
      " 'start_time': datetime.datetime(2021, 4, 16, 2, 59, 58, tzinfo=tzlocal()),\n",
      " 'succeeded': None}\n",
      "INFO:root:Task {'ExecutionType': 'eks', 'Identifier': 'orbit-lake-creator-ec2-runner-mrbvm', 'NodeType': 'ec2', 'tasks': [{'notebookName': '4-querybook.ipynb', 'sourcePath': 'shared/samples/notebooks/M-Admin', 'targetPath': 'shared/regression/notebooks/M-Admin', 'params': {}}]} is running with status {'active': 1,\n",
      " 'completion_time': None,\n",
      " 'conditions': None,\n",
      " 'failed': None,\n",
      " 'start_time': datetime.datetime(2021, 4, 16, 2, 59, 58, tzinfo=tzlocal()),\n",
      " 'succeeded': None}\n",
      "INFO:root:Running: 4 Completed: 0 Errored: 0\n",
      "INFO:root:waiting for [{'ExecutionType': 'eks', 'Identifier': 'orbit-lake-creator-ec2-runner-5v7hh', 'NodeType': 'ec2', 'tasks': [{'notebookName': '1-EBS.ipynb', 'sourcePath': 'shared/samples/notebooks/M-Admin', 'targetPath': 'shared/regression/notebooks/M-Admin', 'params': {}}]}, {'ExecutionType': 'eks', 'Identifier': 'orbit-lake-creator-ec2-runner-tj6lq', 'NodeType': 'ec2', 'tasks': [{'notebookName': '2-Image_with_apps.ipynb', 'sourcePath': 'shared/samples/notebooks/M-Admin', 'targetPath': 'shared/regression/notebooks/M-Admin', 'params': {}}]}, {'ExecutionType': 'eks', 'Identifier': 'orbit-lake-creator-ec2-runner-4jbkd', 'NodeType': 'ec2', 'tasks': [{'notebookName': '3-FSX.ipynb', 'sourcePath': 'shared/samples/notebooks/M-Admin', 'targetPath': 'shared/regression/notebooks/M-Admin', 'params': {}}]}, {'ExecutionType': 'eks', 'Identifier': 'orbit-lake-creator-ec2-runner-mrbvm', 'NodeType': 'ec2', 'tasks': [{'notebookName': '4-querybook.ipynb', 'sourcePath': 'shared/samples/notebooks/M-Admin', 'targetPath': 'shared/regression/notebooks/M-Admin', 'params': {}}]}]\n"
     ]
    },
    {
     "name": "stdout",
     "output_type": "stream",
     "text": [
      "notebookName: {'ExecutionType': 'eks', 'Identifier': 'orbit-lake-creator-ec2-runner-mrbvm', 'NodeType': 'ec2', 'tasks': [{'notebookName': '4-querybook.ipynb', 'sourcePath': 'shared/samples/notebooks/M-Admin', 'targetPath': 'shared/regression/notebooks/M-Admin', 'params': {}}]}\n"
     ]
    },
    {
     "name": "stderr",
     "output_type": "stream",
     "text": [
      "INFO:root:Task {'ExecutionType': 'eks', 'Identifier': 'orbit-lake-creator-ec2-runner-5v7hh', 'NodeType': 'ec2', 'tasks': [{'notebookName': '1-EBS.ipynb', 'sourcePath': 'shared/samples/notebooks/M-Admin', 'targetPath': 'shared/regression/notebooks/M-Admin', 'params': {}}]} is running with status {'active': 1,\n",
      " 'completion_time': None,\n",
      " 'conditions': None,\n",
      " 'failed': None,\n",
      " 'start_time': datetime.datetime(2021, 4, 16, 2, 59, 57, tzinfo=tzlocal()),\n",
      " 'succeeded': None}\n",
      "INFO:root:Task {'ExecutionType': 'eks', 'Identifier': 'orbit-lake-creator-ec2-runner-tj6lq', 'NodeType': 'ec2', 'tasks': [{'notebookName': '2-Image_with_apps.ipynb', 'sourcePath': 'shared/samples/notebooks/M-Admin', 'targetPath': 'shared/regression/notebooks/M-Admin', 'params': {}}]} is running with status {'active': 1,\n",
      " 'completion_time': None,\n",
      " 'conditions': None,\n",
      " 'failed': None,\n",
      " 'start_time': datetime.datetime(2021, 4, 16, 2, 59, 58, tzinfo=tzlocal()),\n",
      " 'succeeded': None}\n",
      "INFO:root:Task {'ExecutionType': 'eks', 'Identifier': 'orbit-lake-creator-ec2-runner-4jbkd', 'NodeType': 'ec2', 'tasks': [{'notebookName': '3-FSX.ipynb', 'sourcePath': 'shared/samples/notebooks/M-Admin', 'targetPath': 'shared/regression/notebooks/M-Admin', 'params': {}}]} is running with status {'active': 1,\n",
      " 'completion_time': None,\n",
      " 'conditions': None,\n",
      " 'failed': None,\n",
      " 'start_time': datetime.datetime(2021, 4, 16, 2, 59, 58, tzinfo=tzlocal()),\n",
      " 'succeeded': None}\n",
      "INFO:root:Task {'ExecutionType': 'eks', 'Identifier': 'orbit-lake-creator-ec2-runner-mrbvm', 'NodeType': 'ec2', 'tasks': [{'notebookName': '4-querybook.ipynb', 'sourcePath': 'shared/samples/notebooks/M-Admin', 'targetPath': 'shared/regression/notebooks/M-Admin', 'params': {}}]} is running with status {'active': 1,\n",
      " 'completion_time': None,\n",
      " 'conditions': None,\n",
      " 'failed': None,\n",
      " 'start_time': datetime.datetime(2021, 4, 16, 2, 59, 58, tzinfo=tzlocal()),\n",
      " 'succeeded': None}\n",
      "INFO:root:Running: 4 Completed: 0 Errored: 0\n",
      "INFO:root:waiting for [{'ExecutionType': 'eks', 'Identifier': 'orbit-lake-creator-ec2-runner-5v7hh', 'NodeType': 'ec2', 'tasks': [{'notebookName': '1-EBS.ipynb', 'sourcePath': 'shared/samples/notebooks/M-Admin', 'targetPath': 'shared/regression/notebooks/M-Admin', 'params': {}}]}, {'ExecutionType': 'eks', 'Identifier': 'orbit-lake-creator-ec2-runner-tj6lq', 'NodeType': 'ec2', 'tasks': [{'notebookName': '2-Image_with_apps.ipynb', 'sourcePath': 'shared/samples/notebooks/M-Admin', 'targetPath': 'shared/regression/notebooks/M-Admin', 'params': {}}]}, {'ExecutionType': 'eks', 'Identifier': 'orbit-lake-creator-ec2-runner-4jbkd', 'NodeType': 'ec2', 'tasks': [{'notebookName': '3-FSX.ipynb', 'sourcePath': 'shared/samples/notebooks/M-Admin', 'targetPath': 'shared/regression/notebooks/M-Admin', 'params': {}}]}, {'ExecutionType': 'eks', 'Identifier': 'orbit-lake-creator-ec2-runner-mrbvm', 'NodeType': 'ec2', 'tasks': [{'notebookName': '4-querybook.ipynb', 'sourcePath': 'shared/samples/notebooks/M-Admin', 'targetPath': 'shared/regression/notebooks/M-Admin', 'params': {}}]}]\n",
      "INFO:root:Task {'ExecutionType': 'eks', 'Identifier': 'orbit-lake-creator-ec2-runner-tj6lq', 'NodeType': 'ec2', 'tasks': [{'notebookName': '2-Image_with_apps.ipynb', 'sourcePath': 'shared/samples/notebooks/M-Admin', 'targetPath': 'shared/regression/notebooks/M-Admin', 'params': {}}]} is running with status {'active': 1,\n",
      " 'completion_time': None,\n",
      " 'conditions': None,\n",
      " 'failed': None,\n",
      " 'start_time': datetime.datetime(2021, 4, 16, 2, 59, 58, tzinfo=tzlocal()),\n",
      " 'succeeded': None}\n",
      "INFO:root:Task {'ExecutionType': 'eks', 'Identifier': 'orbit-lake-creator-ec2-runner-mrbvm', 'NodeType': 'ec2', 'tasks': [{'notebookName': '4-querybook.ipynb', 'sourcePath': 'shared/samples/notebooks/M-Admin', 'targetPath': 'shared/regression/notebooks/M-Admin', 'params': {}}]} is running with status {'active': 1,\n",
      " 'completion_time': None,\n",
      " 'conditions': None,\n",
      " 'failed': None,\n",
      " 'start_time': datetime.datetime(2021, 4, 16, 2, 59, 58, tzinfo=tzlocal()),\n",
      " 'succeeded': None}\n",
      "INFO:root:Running: 2 Completed: 2 Errored: 0\n",
      "INFO:root:waiting for [{'ExecutionType': 'eks', 'Identifier': 'orbit-lake-creator-ec2-runner-tj6lq', 'NodeType': 'ec2', 'tasks': [{'notebookName': '2-Image_with_apps.ipynb', 'sourcePath': 'shared/samples/notebooks/M-Admin', 'targetPath': 'shared/regression/notebooks/M-Admin', 'params': {}}]}, {'ExecutionType': 'eks', 'Identifier': 'orbit-lake-creator-ec2-runner-mrbvm', 'NodeType': 'ec2', 'tasks': [{'notebookName': '4-querybook.ipynb', 'sourcePath': 'shared/samples/notebooks/M-Admin', 'targetPath': 'shared/regression/notebooks/M-Admin', 'params': {}}]}]\n",
      "INFO:root:Task {'ExecutionType': 'eks', 'Identifier': 'orbit-lake-creator-ec2-runner-tj6lq', 'NodeType': 'ec2', 'tasks': [{'notebookName': '2-Image_with_apps.ipynb', 'sourcePath': 'shared/samples/notebooks/M-Admin', 'targetPath': 'shared/regression/notebooks/M-Admin', 'params': {}}]} is running with status {'active': 1,\n",
      " 'completion_time': None,\n",
      " 'conditions': None,\n",
      " 'failed': None,\n",
      " 'start_time': datetime.datetime(2021, 4, 16, 2, 59, 58, tzinfo=tzlocal()),\n",
      " 'succeeded': None}\n",
      "INFO:root:Task {'ExecutionType': 'eks', 'Identifier': 'orbit-lake-creator-ec2-runner-mrbvm', 'NodeType': 'ec2', 'tasks': [{'notebookName': '4-querybook.ipynb', 'sourcePath': 'shared/samples/notebooks/M-Admin', 'targetPath': 'shared/regression/notebooks/M-Admin', 'params': {}}]} is running with status {'active': 1,\n",
      " 'completion_time': None,\n",
      " 'conditions': None,\n",
      " 'failed': None,\n",
      " 'start_time': datetime.datetime(2021, 4, 16, 2, 59, 58, tzinfo=tzlocal()),\n",
      " 'succeeded': None}\n",
      "INFO:root:Running: 2 Completed: 2 Errored: 0\n",
      "INFO:root:waiting for [{'ExecutionType': 'eks', 'Identifier': 'orbit-lake-creator-ec2-runner-tj6lq', 'NodeType': 'ec2', 'tasks': [{'notebookName': '2-Image_with_apps.ipynb', 'sourcePath': 'shared/samples/notebooks/M-Admin', 'targetPath': 'shared/regression/notebooks/M-Admin', 'params': {}}]}, {'ExecutionType': 'eks', 'Identifier': 'orbit-lake-creator-ec2-runner-mrbvm', 'NodeType': 'ec2', 'tasks': [{'notebookName': '4-querybook.ipynb', 'sourcePath': 'shared/samples/notebooks/M-Admin', 'targetPath': 'shared/regression/notebooks/M-Admin', 'params': {}}]}]\n",
      "INFO:root:Task {'ExecutionType': 'eks', 'Identifier': 'orbit-lake-creator-ec2-runner-tj6lq', 'NodeType': 'ec2', 'tasks': [{'notebookName': '2-Image_with_apps.ipynb', 'sourcePath': 'shared/samples/notebooks/M-Admin', 'targetPath': 'shared/regression/notebooks/M-Admin', 'params': {}}]} is running with status {'active': 1,\n",
      " 'completion_time': None,\n",
      " 'conditions': None,\n",
      " 'failed': None,\n",
      " 'start_time': datetime.datetime(2021, 4, 16, 2, 59, 58, tzinfo=tzlocal()),\n",
      " 'succeeded': None}\n",
      "INFO:root:Task {'ExecutionType': 'eks', 'Identifier': 'orbit-lake-creator-ec2-runner-mrbvm', 'NodeType': 'ec2', 'tasks': [{'notebookName': '4-querybook.ipynb', 'sourcePath': 'shared/samples/notebooks/M-Admin', 'targetPath': 'shared/regression/notebooks/M-Admin', 'params': {}}]} is running with status {'active': 1,\n",
      " 'completion_time': None,\n",
      " 'conditions': None,\n",
      " 'failed': None,\n",
      " 'start_time': datetime.datetime(2021, 4, 16, 2, 59, 58, tzinfo=tzlocal()),\n",
      " 'succeeded': None}\n",
      "INFO:root:Running: 2 Completed: 2 Errored: 0\n",
      "INFO:root:waiting for [{'ExecutionType': 'eks', 'Identifier': 'orbit-lake-creator-ec2-runner-tj6lq', 'NodeType': 'ec2', 'tasks': [{'notebookName': '2-Image_with_apps.ipynb', 'sourcePath': 'shared/samples/notebooks/M-Admin', 'targetPath': 'shared/regression/notebooks/M-Admin', 'params': {}}]}, {'ExecutionType': 'eks', 'Identifier': 'orbit-lake-creator-ec2-runner-mrbvm', 'NodeType': 'ec2', 'tasks': [{'notebookName': '4-querybook.ipynb', 'sourcePath': 'shared/samples/notebooks/M-Admin', 'targetPath': 'shared/regression/notebooks/M-Admin', 'params': {}}]}]\n",
      "INFO:root:Task {'ExecutionType': 'eks', 'Identifier': 'orbit-lake-creator-ec2-runner-tj6lq', 'NodeType': 'ec2', 'tasks': [{'notebookName': '2-Image_with_apps.ipynb', 'sourcePath': 'shared/samples/notebooks/M-Admin', 'targetPath': 'shared/regression/notebooks/M-Admin', 'params': {}}]} is running with status {'active': 1,\n",
      " 'completion_time': None,\n",
      " 'conditions': None,\n",
      " 'failed': None,\n",
      " 'start_time': datetime.datetime(2021, 4, 16, 2, 59, 58, tzinfo=tzlocal()),\n",
      " 'succeeded': None}\n",
      "INFO:root:Task {'ExecutionType': 'eks', 'Identifier': 'orbit-lake-creator-ec2-runner-mrbvm', 'NodeType': 'ec2', 'tasks': [{'notebookName': '4-querybook.ipynb', 'sourcePath': 'shared/samples/notebooks/M-Admin', 'targetPath': 'shared/regression/notebooks/M-Admin', 'params': {}}]} is running with status {'active': 1,\n",
      " 'completion_time': None,\n",
      " 'conditions': None,\n",
      " 'failed': None,\n",
      " 'start_time': datetime.datetime(2021, 4, 16, 2, 59, 58, tzinfo=tzlocal()),\n",
      " 'succeeded': None}\n",
      "INFO:root:Running: 2 Completed: 2 Errored: 0\n",
      "INFO:root:waiting for [{'ExecutionType': 'eks', 'Identifier': 'orbit-lake-creator-ec2-runner-tj6lq', 'NodeType': 'ec2', 'tasks': [{'notebookName': '2-Image_with_apps.ipynb', 'sourcePath': 'shared/samples/notebooks/M-Admin', 'targetPath': 'shared/regression/notebooks/M-Admin', 'params': {}}]}, {'ExecutionType': 'eks', 'Identifier': 'orbit-lake-creator-ec2-runner-mrbvm', 'NodeType': 'ec2', 'tasks': [{'notebookName': '4-querybook.ipynb', 'sourcePath': 'shared/samples/notebooks/M-Admin', 'targetPath': 'shared/regression/notebooks/M-Admin', 'params': {}}]}]\n",
      "INFO:root:Task {'ExecutionType': 'eks', 'Identifier': 'orbit-lake-creator-ec2-runner-tj6lq', 'NodeType': 'ec2', 'tasks': [{'notebookName': '2-Image_with_apps.ipynb', 'sourcePath': 'shared/samples/notebooks/M-Admin', 'targetPath': 'shared/regression/notebooks/M-Admin', 'params': {}}]} is running with status {'active': 1,\n",
      " 'completion_time': None,\n",
      " 'conditions': None,\n",
      " 'failed': None,\n",
      " 'start_time': datetime.datetime(2021, 4, 16, 2, 59, 58, tzinfo=tzlocal()),\n",
      " 'succeeded': None}\n",
      "INFO:root:Task {'ExecutionType': 'eks', 'Identifier': 'orbit-lake-creator-ec2-runner-mrbvm', 'NodeType': 'ec2', 'tasks': [{'notebookName': '4-querybook.ipynb', 'sourcePath': 'shared/samples/notebooks/M-Admin', 'targetPath': 'shared/regression/notebooks/M-Admin', 'params': {}}]} is running with status {'active': 1,\n",
      " 'completion_time': None,\n",
      " 'conditions': None,\n",
      " 'failed': None,\n",
      " 'start_time': datetime.datetime(2021, 4, 16, 2, 59, 58, tzinfo=tzlocal()),\n",
      " 'succeeded': None}\n",
      "INFO:root:Running: 2 Completed: 2 Errored: 0\n",
      "INFO:root:waiting for [{'ExecutionType': 'eks', 'Identifier': 'orbit-lake-creator-ec2-runner-tj6lq', 'NodeType': 'ec2', 'tasks': [{'notebookName': '2-Image_with_apps.ipynb', 'sourcePath': 'shared/samples/notebooks/M-Admin', 'targetPath': 'shared/regression/notebooks/M-Admin', 'params': {}}]}, {'ExecutionType': 'eks', 'Identifier': 'orbit-lake-creator-ec2-runner-mrbvm', 'NodeType': 'ec2', 'tasks': [{'notebookName': '4-querybook.ipynb', 'sourcePath': 'shared/samples/notebooks/M-Admin', 'targetPath': 'shared/regression/notebooks/M-Admin', 'params': {}}]}]\n",
      "INFO:root:Task {'ExecutionType': 'eks', 'Identifier': 'orbit-lake-creator-ec2-runner-tj6lq', 'NodeType': 'ec2', 'tasks': [{'notebookName': '2-Image_with_apps.ipynb', 'sourcePath': 'shared/samples/notebooks/M-Admin', 'targetPath': 'shared/regression/notebooks/M-Admin', 'params': {}}]} is running with status {'active': 1,\n",
      " 'completion_time': None,\n",
      " 'conditions': None,\n",
      " 'failed': None,\n",
      " 'start_time': datetime.datetime(2021, 4, 16, 2, 59, 58, tzinfo=tzlocal()),\n",
      " 'succeeded': None}\n",
      "INFO:root:Task {'ExecutionType': 'eks', 'Identifier': 'orbit-lake-creator-ec2-runner-mrbvm', 'NodeType': 'ec2', 'tasks': [{'notebookName': '4-querybook.ipynb', 'sourcePath': 'shared/samples/notebooks/M-Admin', 'targetPath': 'shared/regression/notebooks/M-Admin', 'params': {}}]} is running with status {'active': 1,\n",
      " 'completion_time': None,\n",
      " 'conditions': None,\n",
      " 'failed': None,\n",
      " 'start_time': datetime.datetime(2021, 4, 16, 2, 59, 58, tzinfo=tzlocal()),\n",
      " 'succeeded': None}\n",
      "INFO:root:Running: 2 Completed: 2 Errored: 0\n",
      "INFO:root:waiting for [{'ExecutionType': 'eks', 'Identifier': 'orbit-lake-creator-ec2-runner-tj6lq', 'NodeType': 'ec2', 'tasks': [{'notebookName': '2-Image_with_apps.ipynb', 'sourcePath': 'shared/samples/notebooks/M-Admin', 'targetPath': 'shared/regression/notebooks/M-Admin', 'params': {}}]}, {'ExecutionType': 'eks', 'Identifier': 'orbit-lake-creator-ec2-runner-mrbvm', 'NodeType': 'ec2', 'tasks': [{'notebookName': '4-querybook.ipynb', 'sourcePath': 'shared/samples/notebooks/M-Admin', 'targetPath': 'shared/regression/notebooks/M-Admin', 'params': {}}]}]\n",
      "INFO:root:Task {'ExecutionType': 'eks', 'Identifier': 'orbit-lake-creator-ec2-runner-mrbvm', 'NodeType': 'ec2', 'tasks': [{'notebookName': '4-querybook.ipynb', 'sourcePath': 'shared/samples/notebooks/M-Admin', 'targetPath': 'shared/regression/notebooks/M-Admin', 'params': {}}]} is running with status {'active': 1,\n",
      " 'completion_time': None,\n",
      " 'conditions': None,\n",
      " 'failed': None,\n",
      " 'start_time': datetime.datetime(2021, 4, 16, 2, 59, 58, tzinfo=tzlocal()),\n",
      " 'succeeded': None}\n",
      "INFO:root:Running: 1 Completed: 3 Errored: 0\n",
      "INFO:root:waiting for [{'ExecutionType': 'eks', 'Identifier': 'orbit-lake-creator-ec2-runner-mrbvm', 'NodeType': 'ec2', 'tasks': [{'notebookName': '4-querybook.ipynb', 'sourcePath': 'shared/samples/notebooks/M-Admin', 'targetPath': 'shared/regression/notebooks/M-Admin', 'params': {}}]}]\n",
      "INFO:root:Task {'ExecutionType': 'eks', 'Identifier': 'orbit-lake-creator-ec2-runner-mrbvm', 'NodeType': 'ec2', 'tasks': [{'notebookName': '4-querybook.ipynb', 'sourcePath': 'shared/samples/notebooks/M-Admin', 'targetPath': 'shared/regression/notebooks/M-Admin', 'params': {}}]} is running with status {'active': 1,\n",
      " 'completion_time': None,\n",
      " 'conditions': None,\n",
      " 'failed': None,\n",
      " 'start_time': datetime.datetime(2021, 4, 16, 2, 59, 58, tzinfo=tzlocal()),\n",
      " 'succeeded': None}\n",
      "INFO:root:Running: 1 Completed: 3 Errored: 0\n",
      "INFO:root:waiting for [{'ExecutionType': 'eks', 'Identifier': 'orbit-lake-creator-ec2-runner-mrbvm', 'NodeType': 'ec2', 'tasks': [{'notebookName': '4-querybook.ipynb', 'sourcePath': 'shared/samples/notebooks/M-Admin', 'targetPath': 'shared/regression/notebooks/M-Admin', 'params': {}}]}]\n",
      "INFO:root:Task {'ExecutionType': 'eks', 'Identifier': 'orbit-lake-creator-ec2-runner-mrbvm', 'NodeType': 'ec2', 'tasks': [{'notebookName': '4-querybook.ipynb', 'sourcePath': 'shared/samples/notebooks/M-Admin', 'targetPath': 'shared/regression/notebooks/M-Admin', 'params': {}}]} is running with status {'active': 1,\n",
      " 'completion_time': None,\n",
      " 'conditions': None,\n",
      " 'failed': None,\n",
      " 'start_time': datetime.datetime(2021, 4, 16, 2, 59, 58, tzinfo=tzlocal()),\n",
      " 'succeeded': None}\n",
      "INFO:root:Running: 1 Completed: 3 Errored: 0\n",
      "INFO:root:waiting for [{'ExecutionType': 'eks', 'Identifier': 'orbit-lake-creator-ec2-runner-mrbvm', 'NodeType': 'ec2', 'tasks': [{'notebookName': '4-querybook.ipynb', 'sourcePath': 'shared/samples/notebooks/M-Admin', 'targetPath': 'shared/regression/notebooks/M-Admin', 'params': {}}]}]\n",
      "INFO:root:Task {'ExecutionType': 'eks', 'Identifier': 'orbit-lake-creator-ec2-runner-mrbvm', 'NodeType': 'ec2', 'tasks': [{'notebookName': '4-querybook.ipynb', 'sourcePath': 'shared/samples/notebooks/M-Admin', 'targetPath': 'shared/regression/notebooks/M-Admin', 'params': {}}]} is running with status {'active': 1,\n",
      " 'completion_time': None,\n",
      " 'conditions': None,\n",
      " 'failed': None,\n",
      " 'start_time': datetime.datetime(2021, 4, 16, 2, 59, 58, tzinfo=tzlocal()),\n",
      " 'succeeded': None}\n",
      "INFO:root:Running: 1 Completed: 3 Errored: 0\n",
      "INFO:root:waiting for [{'ExecutionType': 'eks', 'Identifier': 'orbit-lake-creator-ec2-runner-mrbvm', 'NodeType': 'ec2', 'tasks': [{'notebookName': '4-querybook.ipynb', 'sourcePath': 'shared/samples/notebooks/M-Admin', 'targetPath': 'shared/regression/notebooks/M-Admin', 'params': {}}]}]\n",
      "INFO:root:Task {'ExecutionType': 'eks', 'Identifier': 'orbit-lake-creator-ec2-runner-mrbvm', 'NodeType': 'ec2', 'tasks': [{'notebookName': '4-querybook.ipynb', 'sourcePath': 'shared/samples/notebooks/M-Admin', 'targetPath': 'shared/regression/notebooks/M-Admin', 'params': {}}]} is running with status {'active': 1,\n",
      " 'completion_time': None,\n",
      " 'conditions': None,\n",
      " 'failed': None,\n",
      " 'start_time': datetime.datetime(2021, 4, 16, 2, 59, 58, tzinfo=tzlocal()),\n",
      " 'succeeded': None}\n",
      "INFO:root:Running: 1 Completed: 3 Errored: 0\n",
      "INFO:root:waiting for [{'ExecutionType': 'eks', 'Identifier': 'orbit-lake-creator-ec2-runner-mrbvm', 'NodeType': 'ec2', 'tasks': [{'notebookName': '4-querybook.ipynb', 'sourcePath': 'shared/samples/notebooks/M-Admin', 'targetPath': 'shared/regression/notebooks/M-Admin', 'params': {}}]}]\n",
      "INFO:root:Running: 0 Completed: 4 Errored: 0\n",
      "INFO:root:All tasks stopped\n"
     ]
    },
    {
     "name": "stdout",
     "output_type": "stream",
     "text": [
      "Attemp 1 finished. Results: {'success': [{'folder': '/home/jovyan/shared/regression/notebooks/M-Admin/1-EBS', 'name': '1-EBS'}, {'folder': '/home/jovyan/shared/regression/notebooks/M-Admin/2-Image_with_apps', 'name': '2-Image_with_apps'}, {'folder': '/home/jovyan/shared/regression/notebooks/M-Admin/3-FSX', 'name': '3-FSX'}, {'folder': '/home/jovyan/shared/regression/notebooks/M-Admin/4-querybook', 'name': '4-querybook'}], 'failed': []}\n",
      "CPU times: user 1.23 s, sys: 115 ms, total: 1.34 s\n",
      "Wall time: 26min 3s\n"
     ]
    }
   ],
   "source": [
    "%%time\n",
    "success = False\n",
    "attempt = 0\n",
    "run_config = notebooks_run_config\n",
    "containers = []\n",
    "while(attempt < notebooks_run_config[\"maxRetries\"] and not success):\n",
    "    attempt += 1\n",
    "    print(f\"Starting notebooks. Attempt {attempt}. Run config: {run_config}\")\n",
    "    containers = start_notebooks(run_config)\n",
    "    controller.wait_for_tasks_to_complete(containers, 120,45, False)\n",
    "    results = get_execution_results(run_config)\n",
    "    print(f'Attemp {attempt} finished. Results: {results}')\n",
    "    run_config = update_run_config(run_config, results)\n",
    "    success = not run_config[\"notebooks_to_run\"]\n"
   ]
  },
  {
   "cell_type": "code",
   "execution_count": 12,
   "metadata": {},
   "outputs": [
    {
     "name": "stderr",
     "output_type": "stream",
     "text": [
      "INFO:root:Waiting2 for 4 tasks [{'ExecutionType': 'eks', 'Identifier': 'orbit-lake-creator-ec2-runner-5v7hh', 'NodeType': 'ec2', 'tasks': [{'notebookName': '1-EBS.ipynb', 'sourcePath': 'shared/samples/notebooks/M-Admin', 'targetPath': 'shared/regression/notebooks/M-Admin', 'params': {}}]}, {'ExecutionType': 'eks', 'Identifier': 'orbit-lake-creator-ec2-runner-tj6lq', 'NodeType': 'ec2', 'tasks': [{'notebookName': '2-Image_with_apps.ipynb', 'sourcePath': 'shared/samples/notebooks/M-Admin', 'targetPath': 'shared/regression/notebooks/M-Admin', 'params': {}}]}, {'ExecutionType': 'eks', 'Identifier': 'orbit-lake-creator-ec2-runner-4jbkd', 'NodeType': 'ec2', 'tasks': [{'notebookName': '3-FSX.ipynb', 'sourcePath': 'shared/samples/notebooks/M-Admin', 'targetPath': 'shared/regression/notebooks/M-Admin', 'params': {}}]}, {'ExecutionType': 'eks', 'Identifier': 'orbit-lake-creator-ec2-runner-mrbvm', 'NodeType': 'ec2', 'tasks': [{'notebookName': '4-querybook.ipynb', 'sourcePath': 'shared/samples/notebooks/M-Admin', 'targetPath': 'shared/regression/notebooks/M-Admin', 'params': {}}]}]\n",
      "INFO:root:Running: 0 Completed: 4 Errored: 0\n",
      "INFO:root:All tasks stopped\n"
     ]
    },
    {
     "name": "stdout",
     "output_type": "stream",
     "text": [
      "CPU times: user 72.2 ms, sys: 0 ns, total: 72.2 ms\n",
      "Wall time: 113 ms\n"
     ]
    },
    {
     "data": {
      "text/plain": [
       "True"
      ]
     },
     "execution_count": 12,
     "metadata": {},
     "output_type": "execute_result"
    }
   ],
   "source": [
    "%%time\n",
    "controller.wait_for_tasks_to_complete(containers, 120,45, False)"
   ]
  },
  {
   "cell_type": "code",
   "execution_count": 13,
   "metadata": {},
   "outputs": [
    {
     "data": {
      "text/plain": [
       "{'success': [{'folder': '/home/jovyan/shared/regression/notebooks/M-Admin/1-EBS',\n",
       "   'name': '1-EBS'},\n",
       "  {'folder': '/home/jovyan/shared/regression/notebooks/M-Admin/2-Image_with_apps',\n",
       "   'name': '2-Image_with_apps'},\n",
       "  {'folder': '/home/jovyan/shared/regression/notebooks/M-Admin/3-FSX',\n",
       "   'name': '3-FSX'},\n",
       "  {'folder': '/home/jovyan/shared/regression/notebooks/M-Admin/4-querybook',\n",
       "   'name': '4-querybook'}],\n",
       " 'failed': []}"
      ]
     },
     "execution_count": 13,
     "metadata": {},
     "output_type": "execute_result"
    }
   ],
   "source": [
    "results"
   ]
  },
  {
   "cell_type": "code",
   "execution_count": 14,
   "metadata": {},
   "outputs": [],
   "source": [
    "assert len(results['failed']) == 0"
   ]
  },
  {
   "cell_type": "code",
   "execution_count": 15,
   "metadata": {},
   "outputs": [
    {
     "name": "stdout",
     "output_type": "stream",
     "text": [
      "ADMIN_PASSED  CREATOR_PASSED  notebooks\n"
     ]
    }
   ],
   "source": [
    "!echo \"PASSED\" >> /efs/shared/regression/ADMIN_PASSED\n",
    "!ls /efs/shared/regression/\n",
    "!sleep 15s"
   ]
  },
  {
   "cell_type": "markdown",
   "metadata": {},
   "source": [
    "# End of notebook\n"
   ]
  }
 ],
 "metadata": {
  "celltoolbar": "Tags",
  "kernelspec": {
   "display_name": "Python 3",
   "language": "python",
   "name": "python3"
  },
  "language_info": {
   "codemirror_mode": {
    "name": "ipython",
    "version": 3
   },
   "file_extension": ".py",
   "mimetype": "text/x-python",
   "name": "python",
   "nbconvert_exporter": "python",
   "pygments_lexer": "ipython3",
   "version": "3.8.8"
  }
 },
 "nbformat": 4,
 "nbformat_minor": 4
}
