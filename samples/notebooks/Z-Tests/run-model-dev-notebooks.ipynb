{
 "cells": [
  {
   "cell_type": "markdown",
   "metadata": {},
   "source": [
    "# Master test notebook to run all user notebooks\n",
    "    \n",
    "\n",
    "### Author: AWS Professional Services Emerging Technology and Intelligent Platforms Group\n",
    "### Date: January 30 2019"
   ]
  },
  {
   "cell_type": "code",
   "execution_count": 1,
   "metadata": {
    "tags": [
     "parameters"
    ]
   },
   "outputs": [],
   "source": [
    "notebook_folder = 'H-Model-Development'"
   ]
  },
  {
   "cell_type": "code",
   "execution_count": 2,
   "metadata": {},
   "outputs": [],
   "source": [
    "import os\n",
    "import sys\n",
    "import boto3\n",
    "\n",
    "import aws.utils.notebooks.controller as controller\n",
    "s3 = boto3.client('s3')\n",
    "\n",
    "from aws.utils.notebooks.common import get_workspace,get_scratch_database\n",
    "workspace = get_workspace()\n",
    "notebook_bucket = workspace['NotebookOutputBucket']"
   ]
  },
  {
   "cell_type": "code",
   "execution_count": 3,
   "metadata": {
    "scrolled": true
   },
   "outputs": [],
   "source": [
    "# glue = boto3.client('glue')\n",
    "# location = glue.get_database(Name='cms_raw_db')['Database']['LocationUri']\n",
    "# bucket = location[5:].split('/')[0]\n",
    "# my_session = boto3.session.Session()\n",
    "# my_region = my_session.region_name\n",
    "# my_region"
   ]
  },
  {
   "cell_type": "code",
   "execution_count": 5,
   "metadata": {},
   "outputs": [],
   "source": [
    "\n",
    "!aws s3 ls $notebook_bucket/lake-user/output/notebooks/tests/$notebook_folder/ --recursive\n",
    "!aws s3 rm s3://$notebook_bucket/lake-user/output/notebooks/tests/$notebook_folder/ --recursive "
   ]
  },
  {
   "cell_type": "code",
   "execution_count": 6,
   "metadata": {
    "scrolled": true
   },
   "outputs": [
    {
     "name": "stdout",
     "output_type": "stream",
     "text": [
      "A-LakeCreator\tD-DataQuality\t     H-Model-Development  ZZ-draft\r\n",
      "B-DataAnalyst\tE-DataMarts\t     I-Model-Deployment\r\n",
      "C-DataProfling\tF-AdvanceStatistics  Z-Tests\r\n"
     ]
    }
   ],
   "source": [
    "!ls .."
   ]
  },
  {
   "cell_type": "code",
   "execution_count": 7,
   "metadata": {},
   "outputs": [],
   "source": [
    "%%bash --out output --err error -s \"$notebook_folder\"\n",
    "\n",
    "find  \"../$1\" -type \"f\" -not -path '*/\\.*' -name \"*ipynb\""
   ]
  },
  {
   "cell_type": "code",
   "execution_count": 8,
   "metadata": {},
   "outputs": [
    {
     "data": {
      "text/plain": [
       "['../H-Model-Development/xgboost_mnist_2019-09-25/xgboost_mnist.ipynb', '']"
      ]
     },
     "execution_count": 8,
     "metadata": {},
     "output_type": "execute_result"
    }
   ],
   "source": [
    "notebooks = output.split('\\n')\n",
    "notebooks"
   ]
  },
  {
   "cell_type": "code",
   "execution_count": 9,
   "metadata": {},
   "outputs": [
    {
     "data": {
      "text/plain": [
       "[{'notebooks': [{'notebookName': 'xgboost_mnist.ipynb',\n",
       "    'sourcePath': 'samples/notebooks/H-Model-Development/xgboost_mnist_2019-09-25',\n",
       "    'targetPath': 'tests/H-Model-Development/xgboost_mnist_2019-09-25',\n",
       "    'params': {}}]}]"
      ]
     },
     "execution_count": 9,
     "metadata": {},
     "output_type": "execute_result"
    }
   ],
   "source": [
    "notebooksToRun = []\n",
    "for p in notebooks:\n",
    "    if (len(p)<2):\n",
    "        continue \n",
    "    parts = p.split('/') \n",
    "    folder = os.path.join(*parts[1:-1])\n",
    "    notebookName = parts[-1]\n",
    "    notebookToRun = {\n",
    "        \"tasks\": [{\n",
    "                  \"notebookName\": \"{}\".format(notebookName),\n",
    "                  \"sourcePath\": \"samples/notebooks/{}\".format(folder),\n",
    "                  \"targetPath\": \"tests/{}\".format(folder),\n",
    "                  \"params\": {\n",
    "                  }\n",
    "                }]\n",
    "    }\n",
    "    notebooksToRun.append(notebookToRun)\n",
    "notebooksToRun"
   ]
  },
  {
   "cell_type": "code",
   "execution_count": 22,
   "metadata": {},
   "outputs": [
    {
     "data": {
      "text/plain": [
       "['arn:aws:ecs:us-east-1:495869084367:task/a99f4c98-b3f3-466b-8452-3fba84e766d2']"
      ]
     },
     "execution_count": 22,
     "metadata": {},
     "output_type": "execute_result"
    }
   ],
   "source": [
    "containers = []\n",
    "for n in notebooksToRun:\n",
    "    container = controller.run_notebooks(n)\n",
    "    containers = containers + container\n",
    "containers"
   ]
  },
  {
   "cell_type": "code",
   "execution_count": 16,
   "metadata": {},
   "outputs": [],
   "source": [
    "%%time \n",
    "controller.wait_for_tasks_to_complete(containers, 60,40)"
   ]
  },
  {
   "cell_type": "code",
   "execution_count": 17,
   "metadata": {
    "scrolled": false
   },
   "outputs": [
    {
     "data": {
      "text/plain": [
       "'No output notebooks founds at: s3://datalake-notebooksbucket-1beq2s8re8n3q/lake-user/output/notebooks/samples/notebooks/Z-Tests/run-model-dev-notebooks/'"
      ]
     },
     "execution_count": 17,
     "metadata": {},
     "output_type": "execute_result"
    }
   ],
   "source": [
    "controller.get_execution_history(\"samples/notebooks/Z-Tests\", \"run-model-dev-notebooks\")"
   ]
  },
  {
   "cell_type": "markdown",
   "metadata": {},
   "source": [
    "### Lets check that all went well"
   ]
  },
  {
   "cell_type": "code",
   "execution_count": 18,
   "metadata": {},
   "outputs": [],
   "source": [
    "%%bash --out output_notebooks -s \"$notebook_folder\"\n",
    "\n",
    "aws s3 ls --recursive $notebook_bucket/lake-user/output/notebooks/tests/$1/ "
   ]
  },
  {
   "cell_type": "code",
   "execution_count": 19,
   "metadata": {},
   "outputs": [
    {
     "data": {
      "text/plain": [
       "['lake-user/output/notebooks/tests/H-Model-Development/xgboost_mnist_2019-09-25/xgboost_mnist/error@e1@20191001-14:40.ipynb',\n",
       " 'lake-user/output/notebooks/tests/H-Model-Development/xgboost_mnist_2019-09-25/xgboost_mnist/error@e1@20191001-14:43.ipynb']"
      ]
     },
     "execution_count": 19,
     "metadata": {},
     "output_type": "execute_result"
    }
   ],
   "source": [
    "o_notebooks = []\n",
    "for key in s3.list_objects_v2(Bucket=notebook_bucket, Prefix='lake-user/output/notebooks/tests/{}'.format(notebook_folder))['Contents']:\n",
    "    path = key['Key']\n",
    "    o_notebooks.append(path)\n",
    " \n",
    "o_notebooks"
   ]
  },
  {
   "cell_type": "code",
   "execution_count": 20,
   "metadata": {},
   "outputs": [
    {
     "ename": "AssertionError",
     "evalue": "",
     "traceback": [
      "\u001b[0;31m---------------------------------------------------------------------------\u001b[0m",
      "\u001b[0;31mAssertionError\u001b[0m                            Traceback (most recent call last)",
      "\u001b[0;32m<ipython-input-20-35ad0c04785e>\u001b[0m in \u001b[0;36m<module>\u001b[0;34m()\u001b[0m\n\u001b[0;32m----> 1\u001b[0;31m \u001b[0;32massert\u001b[0m \u001b[0mlen\u001b[0m\u001b[0;34m(\u001b[0m\u001b[0mnotebooks\u001b[0m\u001b[0;34m)\u001b[0m \u001b[0;34m==\u001b[0m \u001b[0;36m4\u001b[0m\u001b[0;34m\u001b[0m\u001b[0m\n\u001b[0m\u001b[1;32m      2\u001b[0m \u001b[0;32mfor\u001b[0m \u001b[0mx\u001b[0m \u001b[0;32min\u001b[0m \u001b[0mnotebooks\u001b[0m\u001b[0;34m:\u001b[0m\u001b[0;34m\u001b[0m\u001b[0m\n\u001b[1;32m      3\u001b[0m     \u001b[0;32mif\u001b[0m \u001b[0;34m'error@'\u001b[0m \u001b[0;32min\u001b[0m \u001b[0mx\u001b[0m\u001b[0;34m:\u001b[0m\u001b[0;34m\u001b[0m\u001b[0m\n\u001b[1;32m      4\u001b[0m         \u001b[0;32mraise\u001b[0m \u001b[0mAssertionError\u001b[0m\u001b[0;34m(\u001b[0m\u001b[0;34m'error in '\u001b[0m \u001b[0;34m+\u001b[0m \u001b[0mx\u001b[0m\u001b[0;34m)\u001b[0m\u001b[0;34m\u001b[0m\u001b[0m\n",
      "\u001b[0;31mAssertionError\u001b[0m: "
     ],
     "output_type": "error"
    }
   ],
   "source": [
    "assert len(o_notebooks) == 4\n",
    "for x in o_notebooks:\n",
    "    if 'error@' in x:\n",
    "        raise AssertionError('error in ' + x)"
   ]
  },
  {
   "cell_type": "markdown",
   "metadata": {},
   "source": [
    "# End of notebook\n"
   ]
  }
 ],
 "metadata": {
  "celltoolbar": "Tags",
  "kernelspec": {
   "display_name": "conda_python3",
   "language": "python",
   "name": "conda_python3"
  },
  "language_info": {
   "codemirror_mode": {
    "name": "ipython",
    "version": 3
   },
   "file_extension": ".py",
   "mimetype": "text/x-python",
   "name": "python",
   "nbconvert_exporter": "python",
   "pygments_lexer": "ipython3",
   "version": "3.6.5"
  },
  "pycharm": {
   "stem_cell": {
    "cell_type": "raw",
    "source": [],
    "metadata": {
     "collapsed": false
    }
   }
  }
 },
 "nbformat": 4,
 "nbformat_minor": 4
}
