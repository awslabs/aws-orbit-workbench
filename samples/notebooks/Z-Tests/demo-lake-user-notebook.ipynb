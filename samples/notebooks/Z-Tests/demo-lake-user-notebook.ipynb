{
 "cells": [
  {
   "cell_type": "markdown",
   "id": "2823d0b4",
   "metadata": {},
   "source": [
    "# Orbit Notebook to create demo related resources and trigger regression testing"
   ]
  },
  {
   "cell_type": "code",
   "execution_count": null,
   "id": "a5cc91f2",
   "metadata": {},
   "outputs": [],
   "source": [
    "import json\n",
    "from aws_orbit_sdk.common import get_workspace\n",
    "\n",
    "workspace = get_workspace()"
   ]
  },
  {
   "cell_type": "markdown",
   "id": "ecf62b93",
   "metadata": {},
   "source": [
    "# Workspace details"
   ]
  },
  {
   "cell_type": "code",
   "execution_count": null,
   "id": "5a91e9c7",
   "metadata": {},
   "outputs": [],
   "source": [
    "workspace"
   ]
  },
  {
   "cell_type": "code",
   "execution_count": null,
   "id": "36426c38",
   "metadata": {},
   "outputs": [],
   "source": [
    "# Orbit Environment Name\n",
    "env_name = workspace['env_name']\n"
   ]
  },
  {
   "cell_type": "markdown",
   "id": "c7fa2eff",
   "metadata": {},
   "source": [
    "## Executing lake-user notebooks"
   ]
  },
  {
   "cell_type": "code",
   "execution_count": null,
   "id": "ba4ab6df",
   "metadata": {},
   "outputs": [],
   "source": [
    "run_lake_user_notebooks = {\n",
    "    \"compute\": {\n",
    "        \"node_type\": \"ec2\",\n",
    "        \"container\": {\n",
    "            \"p_concurrent\" :1\n",
    "        },\n",
    "        \"podsetting\":\"orbit-runner-support-small\"\n",
    "    },\n",
    "    \"tasks\":  [\n",
    "        {\n",
    "            \"notebookName\": \"run-user-regression-notebooks.ipynb\",\n",
    "            \"sourcePath\": \"/home/jovyan/shared/samples/notebooks/Z-Tests\",\n",
    "            \"targetPath\": \"/home/jovyan/shared/regression/notebooks/Z-Tests/\",\n",
    "            \"params\": {\n",
    "            }\n",
    "        }\n",
    "    ]\n",
    "}\n",
    "with open(\"run_lake_user_notebooks.json\", 'w') as f:\n",
    "    json.dump(run_lake_user_notebooks, f)"
   ]
  },
  {
   "cell_type": "code",
   "execution_count": null,
   "id": "5d70d83e",
   "metadata": {},
   "outputs": [],
   "source": [
    "!orbit run notebook \\\n",
    "          --env $env_name \\\n",
    "          --team lake-user  \\\n",
    "          --user regression \\\n",
    "          --delay 60 \\\n",
    "          --max-attempts 40 \\\n",
    "          --wait \\\n",
    "          run_lake_user_notebooks.json"
   ]
  },
  {
   "cell_type": "code",
   "execution_count": null,
   "id": "bfdf5ee2",
   "metadata": {},
   "outputs": [],
   "source": []
  },
  {
   "cell_type": "code",
   "execution_count": null,
   "id": "f66663fc",
   "metadata": {},
   "outputs": [],
   "source": []
  }
 ],
 "metadata": {
  "kernelspec": {
   "display_name": "Python 3",
   "language": "python",
   "name": "python3"
  },
  "language_info": {
   "codemirror_mode": {
    "name": "ipython",
    "version": 3
   },
   "file_extension": ".py",
   "mimetype": "text/x-python",
   "name": "python",
   "nbconvert_exporter": "python",
   "pygments_lexer": "ipython3",
   "version": "3.8.8"
  }
 },
 "nbformat": 4,
 "nbformat_minor": 5
}
