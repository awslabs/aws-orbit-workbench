{
 "cells": [
  {
   "cell_type": "markdown",
   "id": "313c9bdc",
   "metadata": {},
   "source": [
    "# Orbit Notebook to create demo related resources and trigger regression testing"
   ]
  },
  {
   "cell_type": "code",
   "execution_count": null,
   "id": "6b6b9507",
   "metadata": {},
   "outputs": [],
   "source": [
    "import json\n",
    "from aws_orbit_sdk.common import get_workspace\n",
    "\n",
    "workspace = get_workspace()"
   ]
  },
  {
   "cell_type": "markdown",
   "id": "6d9d37bc",
   "metadata": {},
   "source": [
    "# Workspace details"
   ]
  },
  {
   "cell_type": "code",
   "execution_count": null,
   "id": "ccd92c6f",
   "metadata": {},
   "outputs": [],
   "source": [
    "workspace"
   ]
  },
  {
   "cell_type": "code",
   "execution_count": null,
   "id": "6634319b",
   "metadata": {},
   "outputs": [],
   "source": [
    "# Orbit Environment Name\n",
    "env_name = workspace['env_name']\n",
    "\n",
    "## Executing Admin notebooks"
   ]
  },
  {
   "cell_type": "code",
   "execution_count": null,
   "id": "8ee1392a",
   "metadata": {},
   "outputs": [],
   "source": [
    "run_admin_notebooks = {\n",
    "    \"compute\": {\n",
    "        \"node_type\": \"ec2\",\n",
    "        \"container\": {\n",
    "            \"p_concurrent\" :1\n",
    "        },\n",
    "        \"podsetting\":\"orbit-runner-support-small\"\n",
    "    },\n",
    "    \"tasks\":  [\n",
    "        {\n",
    "            \"notebookName\": \"run-admin-regression-notebooks.ipynb\",\n",
    "            \"sourcePath\": \"/home/jovyan/shared/samples/notebooks/Z-Tests\",\n",
    "            \"targetPath\": \"/home/jovyan/shared/regression/notebooks/Z-Tests/\",\n",
    "            \"params\": {\n",
    "            }\n",
    "        }\n",
    "    ]\n",
    "}\n",
    "with open(\"run_admin_notebooks.json\", 'w') as f:\n",
    "    json.dump(run_admin_notebooks, f)"
   ]
  },
  {
   "cell_type": "code",
   "execution_count": null,
   "id": "f8afe701",
   "metadata": {
    "pycharm": {
     "name": "#%%\n"
    }
   },
   "outputs": [],
   "source": [
    "!orbit run notebook \\\n",
    "          --env $env_name \\\n",
    "          --team lake-creator  \\\n",
    "          --user regression \\\n",
    "          --delay 60 \\\n",
    "          --max-attempts 40 \\\n",
    "          --wait \\\n",
    "          run_admin_notebooks.json\n",
    "\n"
   ]
  }
 ],
 "metadata": {
  "kernelspec": {
   "display_name": "Python 3",
   "language": "python",
   "name": "python3"
  },
  "language_info": {
   "codemirror_mode": {
    "name": "ipython",
    "version": 3
   },
   "file_extension": ".py",
   "mimetype": "text/x-python",
   "name": "python",
   "nbconvert_exporter": "python",
   "pygments_lexer": "ipython3",
   "version": "3.8.8"
  }
 },
 "nbformat": 4,
 "nbformat_minor": 5
}
