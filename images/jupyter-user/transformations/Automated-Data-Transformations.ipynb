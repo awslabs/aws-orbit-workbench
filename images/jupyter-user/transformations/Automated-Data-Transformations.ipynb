{
 "cells": [
  {
   "cell_type": "markdown",
   "source": [
    "# Automated Data Transformations notebook\n",
    "\n",
    "### Author: AWS Professional Services Emerging Technology and Intelligent Platforms Group\n",
    "### Date: January 30 2019\n",
    "\n",
    "In this notebook, we will demonstrate how users can transform and profile different databases and tables"
   ],
   "metadata": {
    "collapsed": false
   }
  },
  {
   "cell_type": "markdown",
   "metadata": {},
   "source": [
    "## This job will perform data profiling for the given table."
   ]
  },
  {
   "cell_type": "code",
   "execution_count": 1,
   "metadata": {},
   "outputs": [
    {
     "name": "stderr",
     "output_type": "stream",
     "text": [
      "INFO:root:Starting profiling...\n"
     ]
    },
    {
     "data": {
      "text/plain": [
       "'lake-user-TestCluster'"
      ]
     },
     "execution_count": 1,
     "metadata": {},
     "output_type": "execute_result"
    }
   ],
   "source": [
    "%%local\n",
    "import logging\n",
    "import os\n",
    "import datetime\n",
    "\n",
    "logging.basicConfig(\n",
    "    format='%(asctime)s %(levelname)-8s %(message)s',\n",
    "    level=logging.INFO,\n",
    "    datefmt='%Y-%m-%d %H:%M:%S')\n",
    "\n",
    "logger = logging.getLogger()\n",
    "\n",
    "if 'cluster_name' in  os.environ.keys():\n",
    "    clusterName = os.environ['cluster_name']\n",
    "else:\n",
    "    clusterName = 'lake-user-TestCluster'\n",
    "clusterName"
   ]
  },
  {
   "cell_type": "code",
   "execution_count": 4,
   "metadata": {},
   "outputs": [],
   "source": [
    "%%spark config \n",
    "\n",
    "{\"executorMemory\": \"1000M\", \"executorCores\": 1, \"numExecutors\": 1}"
   ]
  },
  {
   "cell_type": "code",
   "execution_count": null,
   "outputs": [],
   "source": [
    "%%local\n",
    "import sparkmagic.utils.configuration as conf\n",
    "conf.override(conf.livy_session_startup_timeout_seconds.__name__, 180)\n",
    "conf.livy_session_startup_timeout_seconds()\n"
   ],
   "metadata": {
    "collapsed": false,
    "pycharm": {
     "name": "#%%\n"
    }
   }
  },
  {
   "cell_type": "code",
   "execution_count": null,
   "metadata": {},
   "outputs": [],
   "source": [
    "%%local\n",
    "import aws.utils.notebooks.spark.emr as sparkConnection\n",
    "\n",
    "logger.info(\"connecting to EMR\")\n",
    "\n",
    "(livy_url, cluster_id, started) = sparkConnection.connect_to_spark(clusterName,\n",
    "                                                             reuseCluster=True, \n",
    "                                                             startCluster=True, clusterArgs={})\n",
    "\n",
    "logger.info(\"received connection (%s %s %s)\" , livy_url, cluster_id, started)"
   ]
  },
  {
   "cell_type": "code",
   "execution_count": null,
   "metadata": {},
   "outputs": [],
   "source": [
    "%spark -s spark -c spark -l python -u $livy_url -t None ADD"
   ]
  },
  {
   "cell_type": "code",
   "execution_count": null,
   "metadata": {
    "tags": [
     "parameters"
    ]
   },
   "outputs": [],
   "source": [
    "# Sample user parameters\n",
    "PAPERMILL_WORKBOOK_NAME = ''\n",
    "PAPERMILL_INPUT_PATH = ''\n",
    "PAPERMILL_OUTPUT_PATH = ''\n",
    "PAPERMILL_OUTPUT_DIR_PATH = ''\n",
    "database_name = ''\n",
    "table_to_profile = ''\n",
    "samplingRatio = 0\n"
   ]
  },
  {
   "cell_type": "code",
   "execution_count": null,
   "outputs": [],
   "source": [
    "%%local\n",
    "logger.info(\"Spark session established\")"
   ],
   "metadata": {
    "collapsed": false,
    "pycharm": {
     "name": "#%%\n"
    }
   }
  },
  {
   "cell_type": "code",
   "execution_count": null,
   "metadata": {},
   "outputs": [],
   "source": [
    "%%spark \n",
    "\n",
    "spark.sql(\"use {0}\".format(database_name))"
   ]
  },
  {
   "cell_type": "code",
   "execution_count": null,
   "metadata": {},
   "outputs": [],
   "source": [
    "%%spark -o data_to_profile -m sample -n 100000\n",
    "data_to_profile = spark.sql(\"select * from {}\".format(table_to_profile)).sample(False, samplingRatio, 42)\n"
   ]
  },
  {
   "cell_type": "code",
   "execution_count": null,
   "outputs": [],
   "source": [
    "%%spark -o args\n",
    "\n",
    "args = spark.createDataFrame([({ \"params\" :{\n",
    "                                            'PAPERMILL_WORKBOOK_NAME':PAPERMILL_WORKBOOK_NAME, \n",
    "                                            'PAPERMILL_INPUT_PATH':PAPERMILL_INPUT_PATH, \n",
    "                                            'PAPERMILL_OUTPUT_PATH':PAPERMILL_OUTPUT_PATH,\n",
    "                                            'PAPERMILL_OUTPUT_DIR_PATH': PAPERMILL_OUTPUT_DIR_PATH,\n",
    "                                            'database_name': database_name,\n",
    "                                            'table_to_profile': table_to_profile,\n",
    "                                            'samplingRatio': samplingRatio\n",
    "                                           } \n",
    "                               })])"
   ],
   "metadata": {
    "collapsed": false,
    "pycharm": {
     "name": "#%%\n"
    }
   }
  },
  {
   "cell_type": "code",
   "execution_count": null,
   "metadata": {},
   "outputs": [],
   "source": [
    "%%local\n",
    "\n",
    "database_name = args.at[0,'params']['database_name']\n",
    "table_to_profile = args.at[0,'params']['table_to_profile']\n",
    "samplingRatio = args.at[0,'params']['samplingRatio']\n",
    "PAPERMILL_INPUT_PATH = args.at[0,'params']['PAPERMILL_INPUT_PATH']\n",
    "PAPERMILL_OUTPUT_PATH = args.at[0,'params']['PAPERMILL_OUTPUT_PATH']\n",
    "PAPERMILL_OUTPUT_DIR_PATH = args.at[0,'params']['PAPERMILL_OUTPUT_DIR_PATH']\n",
    "PAPERMILL_WORKBOOK_NAME = args.at[0,'params']['PAPERMILL_WORKBOOK_NAME']\n"
   ]
  },
  {
   "cell_type": "code",
   "execution_count": null,
   "metadata": {},
   "outputs": [],
   "source": [
    "%%local \n",
    "\n",
    "import pandas_profiling as pp\n",
    "\n",
    "report = data_to_profile.profile_report()\n",
    "\n",
    "report.to_file(output_file=\"profile.html\")\n",
    "\n",
    "# Writing the reports to parent directory\n",
    "output_array = PAPERMILL_OUTPUT_DIR_PATH.replace('s3://','').split('/')\n",
    "del output_array[len(output_array) - 1] # Move to parent folder\n",
    "PAPERMILL_OUTPUT_DIR_PATH = 's3://' + '/'.join(output_array)\n",
    "\n",
    "s3Path = \"{}/{}-{}.{}.html\".format(PAPERMILL_OUTPUT_DIR_PATH, database_name, table_to_profile, PAPERMILL_WORKBOOK_NAME)\n",
    "\n",
    "print(s3Path)\n",
    "\n"
   ]
  },
  {
   "cell_type": "code",
   "execution_count": null,
   "metadata": {},
   "outputs": [],
   "source": [
    "%%bash --out output --err error -s \"$s3Path\"\n",
    "echo \"aws s3 cp --recursive ./$1 $2\"\n",
    "aws s3 cp profile.html $1\n",
    "\n"
   ]
  },
  {
   "cell_type": "code",
   "execution_count": null,
   "metadata": {},
   "outputs": [],
   "source": [
    "%%local \n",
    "print(output)\n",
    "print(error)\n",
    "assert \"upload\" in output\n",
    "assert len(error) == 0"
   ]
  },
  {
   "cell_type": "code",
   "execution_count": null,
   "metadata": {},
   "outputs": [],
   "source": [
    "%spark delete -s spark"
   ]
  },
  {
   "cell_type": "code",
   "execution_count": null,
   "metadata": {},
   "outputs": [],
   "source": [
    "%%local\n",
    "if started:\n",
    "    sparkConnection.stop_cluster(cluster_id)\n",
    "\n",
    "logger.info(\"Done profiling %s...\",table_to_profile)"
   ]
  }
 ],
 "metadata": {
  "celltoolbar": "Tags",
  "kernelspec": {
   "display_name": "Sparkmagic (PySpark)",
   "language": "",
   "name": "pysparkkernel"
  },
  "language_info": {
   "codemirror_mode": {
    "name": "python",
    "version": 2
   },
   "mimetype": "text/x-python",
   "name": "pyspark",
   "pygments_lexer": "python2"
  },
  "pycharm": {
   "stem_cell": {
    "cell_type": "raw",
    "source": [],
    "metadata": {
     "collapsed": false
    }
   }
  }
 },
 "nbformat": 4,
 "nbformat_minor": 4
}